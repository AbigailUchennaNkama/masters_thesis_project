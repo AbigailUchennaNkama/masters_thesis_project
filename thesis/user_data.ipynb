{
 "cells": [
  {
   "cell_type": "code",
   "execution_count": 1,
   "metadata": {},
   "outputs": [],
   "source": [
    "import dask.dataframe as dd\n",
    "import pandas as pd"
   ]
  },
  {
   "cell_type": "code",
   "execution_count": 2,
   "metadata": {},
   "outputs": [],
   "source": [
    "# Read the data using Dask\n",
    "df_user = pd.read_csv('/home/nkama/masters_thesis_project/thesis/data/event_rec_engine_challenge/users.csv')\n",
    "                    "
   ]
  },
  {
   "cell_type": "code",
   "execution_count": 3,
   "metadata": {},
   "outputs": [
    {
     "data": {
      "text/html": [
       "<div>\n",
       "<style scoped>\n",
       "    .dataframe tbody tr th:only-of-type {\n",
       "        vertical-align: middle;\n",
       "    }\n",
       "\n",
       "    .dataframe tbody tr th {\n",
       "        vertical-align: top;\n",
       "    }\n",
       "\n",
       "    .dataframe thead th {\n",
       "        text-align: right;\n",
       "    }\n",
       "</style>\n",
       "<table border=\"1\" class=\"dataframe\">\n",
       "  <thead>\n",
       "    <tr style=\"text-align: right;\">\n",
       "      <th></th>\n",
       "      <th>user_id</th>\n",
       "      <th>locale</th>\n",
       "      <th>birthyear</th>\n",
       "      <th>gender</th>\n",
       "      <th>joinedAt</th>\n",
       "      <th>location</th>\n",
       "      <th>timezone</th>\n",
       "    </tr>\n",
       "  </thead>\n",
       "  <tbody>\n",
       "    <tr>\n",
       "      <th>0</th>\n",
       "      <td>3197468391</td>\n",
       "      <td>id_ID</td>\n",
       "      <td>1993</td>\n",
       "      <td>male</td>\n",
       "      <td>2012-10-02T06:40:55.524Z</td>\n",
       "      <td>Medan  Indonesia</td>\n",
       "      <td>480.0</td>\n",
       "    </tr>\n",
       "    <tr>\n",
       "      <th>1</th>\n",
       "      <td>3537982273</td>\n",
       "      <td>id_ID</td>\n",
       "      <td>1992</td>\n",
       "      <td>male</td>\n",
       "      <td>2012-09-29T18:03:12.111Z</td>\n",
       "      <td>Medan  Indonesia</td>\n",
       "      <td>420.0</td>\n",
       "    </tr>\n",
       "    <tr>\n",
       "      <th>2</th>\n",
       "      <td>823183725</td>\n",
       "      <td>en_US</td>\n",
       "      <td>1975</td>\n",
       "      <td>male</td>\n",
       "      <td>2012-10-06T03:14:07.149Z</td>\n",
       "      <td>Stratford  Ontario</td>\n",
       "      <td>-240.0</td>\n",
       "    </tr>\n",
       "    <tr>\n",
       "      <th>3</th>\n",
       "      <td>1872223848</td>\n",
       "      <td>en_US</td>\n",
       "      <td>1991</td>\n",
       "      <td>female</td>\n",
       "      <td>2012-11-04T08:59:43.783Z</td>\n",
       "      <td>Tehran  Iran</td>\n",
       "      <td>210.0</td>\n",
       "    </tr>\n",
       "    <tr>\n",
       "      <th>4</th>\n",
       "      <td>3429017717</td>\n",
       "      <td>id_ID</td>\n",
       "      <td>1995</td>\n",
       "      <td>female</td>\n",
       "      <td>2012-09-10T16:06:53.132Z</td>\n",
       "      <td>NaN</td>\n",
       "      <td>420.0</td>\n",
       "    </tr>\n",
       "  </tbody>\n",
       "</table>\n",
       "</div>"
      ],
      "text/plain": [
       "      user_id locale birthyear  gender                  joinedAt  \\\n",
       "0  3197468391  id_ID      1993    male  2012-10-02T06:40:55.524Z   \n",
       "1  3537982273  id_ID      1992    male  2012-09-29T18:03:12.111Z   \n",
       "2   823183725  en_US      1975    male  2012-10-06T03:14:07.149Z   \n",
       "3  1872223848  en_US      1991  female  2012-11-04T08:59:43.783Z   \n",
       "4  3429017717  id_ID      1995  female  2012-09-10T16:06:53.132Z   \n",
       "\n",
       "             location  timezone  \n",
       "0    Medan  Indonesia     480.0  \n",
       "1    Medan  Indonesia     420.0  \n",
       "2  Stratford  Ontario    -240.0  \n",
       "3        Tehran  Iran     210.0  \n",
       "4                 NaN     420.0  "
      ]
     },
     "execution_count": 3,
     "metadata": {},
     "output_type": "execute_result"
    }
   ],
   "source": [
    "df_user.head()"
   ]
  },
  {
   "cell_type": "code",
   "execution_count": 4,
   "metadata": {},
   "outputs": [
    {
     "data": {
      "text/html": [
       "<div>\n",
       "<style scoped>\n",
       "    .dataframe tbody tr th:only-of-type {\n",
       "        vertical-align: middle;\n",
       "    }\n",
       "\n",
       "    .dataframe tbody tr th {\n",
       "        vertical-align: top;\n",
       "    }\n",
       "\n",
       "    .dataframe thead th {\n",
       "        text-align: right;\n",
       "    }\n",
       "</style>\n",
       "<table border=\"1\" class=\"dataframe\">\n",
       "  <thead>\n",
       "    <tr style=\"text-align: right;\">\n",
       "      <th></th>\n",
       "      <th>Unnamed: 0</th>\n",
       "      <th>event_id</th>\n",
       "      <th>user_id</th>\n",
       "      <th>attendance_status</th>\n",
       "    </tr>\n",
       "  </thead>\n",
       "  <tbody>\n",
       "    <tr>\n",
       "      <th>0</th>\n",
       "      <td>0</td>\n",
       "      <td>1159822043</td>\n",
       "      <td>1975964455</td>\n",
       "      <td>yes</td>\n",
       "    </tr>\n",
       "    <tr>\n",
       "      <th>1</th>\n",
       "      <td>1</td>\n",
       "      <td>1159822043</td>\n",
       "      <td>252302513</td>\n",
       "      <td>yes</td>\n",
       "    </tr>\n",
       "    <tr>\n",
       "      <th>2</th>\n",
       "      <td>2</td>\n",
       "      <td>1159822043</td>\n",
       "      <td>4226086795</td>\n",
       "      <td>yes</td>\n",
       "    </tr>\n",
       "    <tr>\n",
       "      <th>3</th>\n",
       "      <td>3</td>\n",
       "      <td>1159822043</td>\n",
       "      <td>3805886383</td>\n",
       "      <td>yes</td>\n",
       "    </tr>\n",
       "    <tr>\n",
       "      <th>4</th>\n",
       "      <td>4</td>\n",
       "      <td>1159822043</td>\n",
       "      <td>1420484491</td>\n",
       "      <td>yes</td>\n",
       "    </tr>\n",
       "  </tbody>\n",
       "</table>\n",
       "</div>"
      ],
      "text/plain": [
       "   Unnamed: 0    event_id     user_id attendance_status\n",
       "0           0  1159822043  1975964455               yes\n",
       "1           1  1159822043   252302513               yes\n",
       "2           2  1159822043  4226086795               yes\n",
       "3           3  1159822043  3805886383               yes\n",
       "4           4  1159822043  1420484491               yes"
      ]
     },
     "execution_count": 4,
     "metadata": {},
     "output_type": "execute_result"
    }
   ],
   "source": [
    "\"\"\"\n",
    "Load the saved user_event_pairs dataframe so we don't have to rerun all the code needed\n",
    "to create the dataframe should the kernel crash when processing large data volume.\n",
    "\"\"\"\n",
    "\n",
    "user_event_pairs = pd.read_csv(\"/home/nkama/masters_thesis_project/thesis/interactions.csv\")\n",
    "\n",
    "user_event_pairs.head()"
   ]
  },
  {
   "cell_type": "code",
   "execution_count": 14,
   "metadata": {},
   "outputs": [],
   "source": [
    "unique_users = user_event_pairs['user_id'].unique()"
   ]
  },
  {
   "cell_type": "code",
   "execution_count": 15,
   "metadata": {},
   "outputs": [],
   "source": [
    "# Convert both to string type to ensure matching\n",
    "user_event_pairs['user_id'] = user_event_pairs['user_id'].astype(str)\n",
    "df_user['user_id'] = df_user['user_id'].astype(str)\n"
   ]
  },
  {
   "cell_type": "code",
   "execution_count": 16,
   "metadata": {},
   "outputs": [
    {
     "data": {
      "text/html": [
       "<div>\n",
       "<style scoped>\n",
       "    .dataframe tbody tr th:only-of-type {\n",
       "        vertical-align: middle;\n",
       "    }\n",
       "\n",
       "    .dataframe tbody tr th {\n",
       "        vertical-align: top;\n",
       "    }\n",
       "\n",
       "    .dataframe thead th {\n",
       "        text-align: right;\n",
       "    }\n",
       "</style>\n",
       "<table border=\"1\" class=\"dataframe\">\n",
       "  <thead>\n",
       "    <tr style=\"text-align: right;\">\n",
       "      <th></th>\n",
       "      <th>user_id</th>\n",
       "      <th>locale</th>\n",
       "      <th>birthyear</th>\n",
       "      <th>gender</th>\n",
       "      <th>joinedAt</th>\n",
       "      <th>location</th>\n",
       "      <th>timezone</th>\n",
       "    </tr>\n",
       "  </thead>\n",
       "  <tbody>\n",
       "    <tr>\n",
       "      <th>0</th>\n",
       "      <td>3197468391</td>\n",
       "      <td>id_ID</td>\n",
       "      <td>1993</td>\n",
       "      <td>male</td>\n",
       "      <td>2012-10-02T06:40:55.524Z</td>\n",
       "      <td>Medan  Indonesia</td>\n",
       "      <td>480.0</td>\n",
       "    </tr>\n",
       "    <tr>\n",
       "      <th>1</th>\n",
       "      <td>3537982273</td>\n",
       "      <td>id_ID</td>\n",
       "      <td>1992</td>\n",
       "      <td>male</td>\n",
       "      <td>2012-09-29T18:03:12.111Z</td>\n",
       "      <td>Medan  Indonesia</td>\n",
       "      <td>420.0</td>\n",
       "    </tr>\n",
       "    <tr>\n",
       "      <th>4</th>\n",
       "      <td>3429017717</td>\n",
       "      <td>id_ID</td>\n",
       "      <td>1995</td>\n",
       "      <td>female</td>\n",
       "      <td>2012-09-10T16:06:53.132Z</td>\n",
       "      <td>NaN</td>\n",
       "      <td>420.0</td>\n",
       "    </tr>\n",
       "    <tr>\n",
       "      <th>7</th>\n",
       "      <td>3473687777</td>\n",
       "      <td>id_ID</td>\n",
       "      <td>1965</td>\n",
       "      <td>female</td>\n",
       "      <td>2012-10-03T12:19:29.975Z</td>\n",
       "      <td>Medan  Indonesia</td>\n",
       "      <td>420.0</td>\n",
       "    </tr>\n",
       "    <tr>\n",
       "      <th>12</th>\n",
       "      <td>1355996271</td>\n",
       "      <td>id_ID</td>\n",
       "      <td>1993</td>\n",
       "      <td>female</td>\n",
       "      <td>2012-10-26T15:34:46.113Z</td>\n",
       "      <td>Djokja  Yogyakarta  Indonesia</td>\n",
       "      <td>420.0</td>\n",
       "    </tr>\n",
       "  </tbody>\n",
       "</table>\n",
       "</div>"
      ],
      "text/plain": [
       "       user_id locale birthyear  gender                  joinedAt  \\\n",
       "0   3197468391  id_ID      1993    male  2012-10-02T06:40:55.524Z   \n",
       "1   3537982273  id_ID      1992    male  2012-09-29T18:03:12.111Z   \n",
       "4   3429017717  id_ID      1995  female  2012-09-10T16:06:53.132Z   \n",
       "7   3473687777  id_ID      1965  female  2012-10-03T12:19:29.975Z   \n",
       "12  1355996271  id_ID      1993  female  2012-10-26T15:34:46.113Z   \n",
       "\n",
       "                         location  timezone  \n",
       "0                Medan  Indonesia     480.0  \n",
       "1                Medan  Indonesia     420.0  \n",
       "4                             NaN     420.0  \n",
       "7                Medan  Indonesia     420.0  \n",
       "12  Djokja  Yogyakarta  Indonesia     420.0  "
      ]
     },
     "execution_count": 16,
     "metadata": {},
     "output_type": "execute_result"
    }
   ],
   "source": [
    "# Filter users data\n",
    "filtered_user_data = df_user[df_user[\"user_id\"].isin(unique_users)]\n",
    "filtered_user_data.head()"
   ]
  },
  {
   "cell_type": "code",
   "execution_count": 25,
   "metadata": {},
   "outputs": [
    {
     "data": {
      "text/plain": [
       "user_id      0\n",
       "birthyear    0\n",
       "gender       0\n",
       "joinedAt     0\n",
       "location     0\n",
       "dtype: int64"
      ]
     },
     "execution_count": 25,
     "metadata": {},
     "output_type": "execute_result"
    }
   ],
   "source": [
    "filtered_user_data.isnull().sum()"
   ]
  },
  {
   "cell_type": "code",
   "execution_count": null,
   "metadata": {},
   "outputs": [],
   "source": [
    "filtered_user_data = filtered_user_data.drop([\"timezone\",\"locale\"],axis=1)"
   ]
  },
  {
   "cell_type": "code",
   "execution_count": 23,
   "metadata": {},
   "outputs": [
    {
     "data": {
      "text/html": [
       "<div>\n",
       "<style scoped>\n",
       "    .dataframe tbody tr th:only-of-type {\n",
       "        vertical-align: middle;\n",
       "    }\n",
       "\n",
       "    .dataframe tbody tr th {\n",
       "        vertical-align: top;\n",
       "    }\n",
       "\n",
       "    .dataframe thead th {\n",
       "        text-align: right;\n",
       "    }\n",
       "</style>\n",
       "<table border=\"1\" class=\"dataframe\">\n",
       "  <thead>\n",
       "    <tr style=\"text-align: right;\">\n",
       "      <th></th>\n",
       "      <th>user_id</th>\n",
       "      <th>birthyear</th>\n",
       "      <th>gender</th>\n",
       "      <th>joinedAt</th>\n",
       "      <th>location</th>\n",
       "    </tr>\n",
       "  </thead>\n",
       "  <tbody>\n",
       "    <tr>\n",
       "      <th>0</th>\n",
       "      <td>3197468391</td>\n",
       "      <td>1993</td>\n",
       "      <td>male</td>\n",
       "      <td>2012-10-02T06:40:55.524Z</td>\n",
       "      <td>Medan  Indonesia</td>\n",
       "    </tr>\n",
       "    <tr>\n",
       "      <th>1</th>\n",
       "      <td>3537982273</td>\n",
       "      <td>1992</td>\n",
       "      <td>male</td>\n",
       "      <td>2012-09-29T18:03:12.111Z</td>\n",
       "      <td>Medan  Indonesia</td>\n",
       "    </tr>\n",
       "    <tr>\n",
       "      <th>7</th>\n",
       "      <td>3473687777</td>\n",
       "      <td>1965</td>\n",
       "      <td>female</td>\n",
       "      <td>2012-10-03T12:19:29.975Z</td>\n",
       "      <td>Medan  Indonesia</td>\n",
       "    </tr>\n",
       "    <tr>\n",
       "      <th>12</th>\n",
       "      <td>1355996271</td>\n",
       "      <td>1993</td>\n",
       "      <td>female</td>\n",
       "      <td>2012-10-26T15:34:46.113Z</td>\n",
       "      <td>Djokja  Yogyakarta  Indonesia</td>\n",
       "    </tr>\n",
       "    <tr>\n",
       "      <th>13</th>\n",
       "      <td>2411726276</td>\n",
       "      <td>1996</td>\n",
       "      <td>female</td>\n",
       "      <td>2012-10-30T05:16:27.136Z</td>\n",
       "      <td>Triolet  Mauritius</td>\n",
       "    </tr>\n",
       "    <tr>\n",
       "      <th>...</th>\n",
       "      <td>...</td>\n",
       "      <td>...</td>\n",
       "      <td>...</td>\n",
       "      <td>...</td>\n",
       "      <td>...</td>\n",
       "    </tr>\n",
       "    <tr>\n",
       "      <th>38187</th>\n",
       "      <td>3566369790</td>\n",
       "      <td>1989</td>\n",
       "      <td>male</td>\n",
       "      <td>2012-10-30T08:56:19.611Z</td>\n",
       "      <td>Jogjakarta  Indonesia</td>\n",
       "    </tr>\n",
       "    <tr>\n",
       "      <th>38190</th>\n",
       "      <td>2630548270</td>\n",
       "      <td>1988</td>\n",
       "      <td>male</td>\n",
       "      <td>2012-10-29T16:02:19.692Z</td>\n",
       "      <td>Yogyakarta</td>\n",
       "    </tr>\n",
       "    <tr>\n",
       "      <th>38199</th>\n",
       "      <td>280076614</td>\n",
       "      <td>1995</td>\n",
       "      <td>female</td>\n",
       "      <td>2012-11-22T12:06:08.668Z</td>\n",
       "      <td>Phnom Penh</td>\n",
       "    </tr>\n",
       "    <tr>\n",
       "      <th>38203</th>\n",
       "      <td>3890944219</td>\n",
       "      <td>1993</td>\n",
       "      <td>female</td>\n",
       "      <td>2012-11-04T07:18:39.354Z</td>\n",
       "      <td>Kebumen  Jawa Tengah  Indonesia</td>\n",
       "    </tr>\n",
       "    <tr>\n",
       "      <th>38205</th>\n",
       "      <td>446388078</td>\n",
       "      <td>1997</td>\n",
       "      <td>male</td>\n",
       "      <td>2012-10-25T22:43:19.834Z</td>\n",
       "      <td>Medan  Indonesia</td>\n",
       "    </tr>\n",
       "  </tbody>\n",
       "</table>\n",
       "<p>9922 rows × 5 columns</p>\n",
       "</div>"
      ],
      "text/plain": [
       "          user_id birthyear  gender                  joinedAt  \\\n",
       "0      3197468391      1993    male  2012-10-02T06:40:55.524Z   \n",
       "1      3537982273      1992    male  2012-09-29T18:03:12.111Z   \n",
       "7      3473687777      1965  female  2012-10-03T12:19:29.975Z   \n",
       "12     1355996271      1993  female  2012-10-26T15:34:46.113Z   \n",
       "13     2411726276      1996  female  2012-10-30T05:16:27.136Z   \n",
       "...           ...       ...     ...                       ...   \n",
       "38187  3566369790      1989    male  2012-10-30T08:56:19.611Z   \n",
       "38190  2630548270      1988    male  2012-10-29T16:02:19.692Z   \n",
       "38199   280076614      1995  female  2012-11-22T12:06:08.668Z   \n",
       "38203  3890944219      1993  female  2012-11-04T07:18:39.354Z   \n",
       "38205   446388078      1997    male  2012-10-25T22:43:19.834Z   \n",
       "\n",
       "                              location  \n",
       "0                     Medan  Indonesia  \n",
       "1                     Medan  Indonesia  \n",
       "7                     Medan  Indonesia  \n",
       "12       Djokja  Yogyakarta  Indonesia  \n",
       "13                  Triolet  Mauritius  \n",
       "...                                ...  \n",
       "38187            Jogjakarta  Indonesia  \n",
       "38190                       Yogyakarta  \n",
       "38199                       Phnom Penh  \n",
       "38203  Kebumen  Jawa Tengah  Indonesia  \n",
       "38205                 Medan  Indonesia  \n",
       "\n",
       "[9922 rows x 5 columns]"
      ]
     },
     "execution_count": 23,
     "metadata": {},
     "output_type": "execute_result"
    }
   ],
   "source": [
    "filtered_user_data = filtered_user_data.dropna()\n",
    "filtered_user_data"
   ]
  },
  {
   "cell_type": "code",
   "execution_count": 24,
   "metadata": {},
   "outputs": [
    {
     "data": {
      "text/plain": [
       "9922"
      ]
     },
     "execution_count": 24,
     "metadata": {},
     "output_type": "execute_result"
    }
   ],
   "source": [
    "len(filtered_user_data)"
   ]
  },
  {
   "cell_type": "code",
   "execution_count": 26,
   "metadata": {},
   "outputs": [
    {
     "name": "stdout",
     "output_type": "stream",
     "text": [
      "Original users: 38209, Filtered users: 9922\n"
     ]
    }
   ],
   "source": [
    "# Print summary information\n",
    "print(f\"Original users: {len(df_user)}, Filtered users: {len(filtered_user_data)}\")"
   ]
  },
  {
   "cell_type": "markdown",
   "metadata": {},
   "source": [
    "Extract age column from the birtday and event start time"
   ]
  },
  {
   "cell_type": "code",
   "execution_count": 27,
   "metadata": {},
   "outputs": [],
   "source": [
    "events_data = pd.read_csv(\"/home/nkama/masters_thesis_project/thesis/data/event_rec_engine_challenge/events.csv\",\\\n",
    "                           usecols=range(3))\n",
    "#events_data['start_time'] = pd.to_datetime(events_data['start_time'], errors='coerce')\n",
    "events_data = events_data.dropna(subset=['start_time'])"
   ]
  },
  {
   "cell_type": "code",
   "execution_count": 31,
   "metadata": {},
   "outputs": [
    {
     "name": "stdout",
     "output_type": "stream",
     "text": [
      "Sample of data with age:\n",
      "       user_id birthyear age\n",
      "0   3197468391      1993  19\n",
      "1   3537982273      1992  20\n",
      "7   3473687777      1965  47\n",
      "12  1355996271      1993  19\n",
      "13  2411726276      1996  16\n",
      "\n",
      "Number of invalid ages: 30\n"
     ]
    }
   ],
   "source": [
    "from datetime import datetime\n",
    "\n",
    "\n",
    "# Create a copy of the filtered data to avoid the warning\n",
    "filtered_user_data = filtered_user_data.copy()\n",
    "\n",
    "# Convert birthyear to int and calculate age\n",
    "filtered_user_data.loc[:, 'birthyear'] = filtered_user_data['birthyear'].astype(int)\n",
    "# First, convert string timestamps to datetime objects\n",
    "events_data['start_time'] = pd.to_datetime(events_data['start_time'],errors='coerce')\n",
    "#filtered_user_data['joinedAt'] = pd.to_datetime(filtered_user_data['joinedAt'])\n",
    "\n",
    "# Extract reference year - let's use the median event year as our reference point\n",
    "# This is a balanced approach that represents the \"typical\" time in the dataset\n",
    "median_event_date = events_data['start_time'].median()\n",
    "reference_year = median_event_date.year\n",
    "filtered_user_data.loc[:, 'age'] = reference_year - filtered_user_data['birthyear']\n",
    "\n",
    "# Verify the changes\n",
    "print(\"Sample of data with age:\")\n",
    "print(filtered_user_data[['user_id', 'birthyear', 'age']].head())\n",
    "\n",
    "# Check for any invalid ages\n",
    "invalid_ages = filtered_user_data[(filtered_user_data['age'] < 0) | (filtered_user_data['age'] > 100)]\n",
    "print(f\"\\nNumber of invalid ages: {len(invalid_ages)}\")\n",
    "\n"
   ]
  },
  {
   "cell_type": "code",
   "execution_count": 29,
   "metadata": {},
   "outputs": [
    {
     "data": {
      "text/plain": [
       "9922"
      ]
     },
     "execution_count": 29,
     "metadata": {},
     "output_type": "execute_result"
    }
   ],
   "source": [
    "len(filtered_user_data)"
   ]
  },
  {
   "cell_type": "code",
   "execution_count": 30,
   "metadata": {},
   "outputs": [
    {
     "data": {
      "text/plain": [
       "user_id      0\n",
       "birthyear    0\n",
       "gender       0\n",
       "joinedAt     0\n",
       "location     0\n",
       "age          0\n",
       "dtype: int64"
      ]
     },
     "execution_count": 30,
     "metadata": {},
     "output_type": "execute_result"
    }
   ],
   "source": [
    "filtered_user_data.isnull().sum()"
   ]
  },
  {
   "cell_type": "code",
   "execution_count": 36,
   "metadata": {},
   "outputs": [],
   "source": [
    "filtered_user_data = filtered_user_data.drop(\"birthyear\",axis=1)\n"
   ]
  },
  {
   "cell_type": "code",
   "execution_count": 37,
   "metadata": {},
   "outputs": [
    {
     "data": {
      "text/html": [
       "<div>\n",
       "<style scoped>\n",
       "    .dataframe tbody tr th:only-of-type {\n",
       "        vertical-align: middle;\n",
       "    }\n",
       "\n",
       "    .dataframe tbody tr th {\n",
       "        vertical-align: top;\n",
       "    }\n",
       "\n",
       "    .dataframe thead th {\n",
       "        text-align: right;\n",
       "    }\n",
       "</style>\n",
       "<table border=\"1\" class=\"dataframe\">\n",
       "  <thead>\n",
       "    <tr style=\"text-align: right;\">\n",
       "      <th></th>\n",
       "      <th>user_id</th>\n",
       "      <th>gender</th>\n",
       "      <th>joinedAt</th>\n",
       "      <th>location</th>\n",
       "      <th>age</th>\n",
       "    </tr>\n",
       "  </thead>\n",
       "  <tbody>\n",
       "    <tr>\n",
       "      <th>0</th>\n",
       "      <td>3197468391</td>\n",
       "      <td>male</td>\n",
       "      <td>2012-10-02T06:40:55.524Z</td>\n",
       "      <td>Medan  Indonesia</td>\n",
       "      <td>19</td>\n",
       "    </tr>\n",
       "    <tr>\n",
       "      <th>1</th>\n",
       "      <td>3537982273</td>\n",
       "      <td>male</td>\n",
       "      <td>2012-09-29T18:03:12.111Z</td>\n",
       "      <td>Medan  Indonesia</td>\n",
       "      <td>20</td>\n",
       "    </tr>\n",
       "    <tr>\n",
       "      <th>7</th>\n",
       "      <td>3473687777</td>\n",
       "      <td>female</td>\n",
       "      <td>2012-10-03T12:19:29.975Z</td>\n",
       "      <td>Medan  Indonesia</td>\n",
       "      <td>47</td>\n",
       "    </tr>\n",
       "    <tr>\n",
       "      <th>12</th>\n",
       "      <td>1355996271</td>\n",
       "      <td>female</td>\n",
       "      <td>2012-10-26T15:34:46.113Z</td>\n",
       "      <td>Djokja  Yogyakarta  Indonesia</td>\n",
       "      <td>19</td>\n",
       "    </tr>\n",
       "    <tr>\n",
       "      <th>13</th>\n",
       "      <td>2411726276</td>\n",
       "      <td>female</td>\n",
       "      <td>2012-10-30T05:16:27.136Z</td>\n",
       "      <td>Triolet  Mauritius</td>\n",
       "      <td>16</td>\n",
       "    </tr>\n",
       "  </tbody>\n",
       "</table>\n",
       "</div>"
      ],
      "text/plain": [
       "       user_id  gender                  joinedAt  \\\n",
       "0   3197468391    male  2012-10-02T06:40:55.524Z   \n",
       "1   3537982273    male  2012-09-29T18:03:12.111Z   \n",
       "7   3473687777  female  2012-10-03T12:19:29.975Z   \n",
       "12  1355996271  female  2012-10-26T15:34:46.113Z   \n",
       "13  2411726276  female  2012-10-30T05:16:27.136Z   \n",
       "\n",
       "                         location age  \n",
       "0                Medan  Indonesia  19  \n",
       "1                Medan  Indonesia  20  \n",
       "7                Medan  Indonesia  47  \n",
       "12  Djokja  Yogyakarta  Indonesia  19  \n",
       "13             Triolet  Mauritius  16  "
      ]
     },
     "execution_count": 37,
     "metadata": {},
     "output_type": "execute_result"
    }
   ],
   "source": [
    "filtered_user_data.head()\n"
   ]
  }
 ],
 "metadata": {
  "kernelspec": {
   "display_name": "thesisenv",
   "language": "python",
   "name": "python3"
  },
  "language_info": {
   "codemirror_mode": {
    "name": "ipython",
    "version": 3
   },
   "file_extension": ".py",
   "mimetype": "text/x-python",
   "name": "python",
   "nbconvert_exporter": "python",
   "pygments_lexer": "ipython3",
   "version": "3.10.6"
  }
 },
 "nbformat": 4,
 "nbformat_minor": 2
}
