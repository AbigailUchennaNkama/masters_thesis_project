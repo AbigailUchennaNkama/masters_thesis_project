{
 "cells": [
  {
   "cell_type": "code",
   "execution_count": 1,
   "metadata": {},
   "outputs": [],
   "source": [
    "import dask.dataframe as dd\n",
    "import pandas as pd"
   ]
  },
  {
   "cell_type": "code",
   "execution_count": 2,
   "metadata": {},
   "outputs": [],
   "source": [
    "# Read the data using Dask\n",
    "df_user = pd.read_csv('/home/nkama/masters_thesis_project/thesis/data/event_rec_engine_challenge/users.csv')\n",
    "                    "
   ]
  },
  {
   "cell_type": "code",
   "execution_count": 3,
   "metadata": {},
   "outputs": [
    {
     "data": {
      "text/html": [
       "<div>\n",
       "<style scoped>\n",
       "    .dataframe tbody tr th:only-of-type {\n",
       "        vertical-align: middle;\n",
       "    }\n",
       "\n",
       "    .dataframe tbody tr th {\n",
       "        vertical-align: top;\n",
       "    }\n",
       "\n",
       "    .dataframe thead th {\n",
       "        text-align: right;\n",
       "    }\n",
       "</style>\n",
       "<table border=\"1\" class=\"dataframe\">\n",
       "  <thead>\n",
       "    <tr style=\"text-align: right;\">\n",
       "      <th></th>\n",
       "      <th>user_id</th>\n",
       "      <th>locale</th>\n",
       "      <th>birthyear</th>\n",
       "      <th>gender</th>\n",
       "      <th>joinedAt</th>\n",
       "      <th>location</th>\n",
       "      <th>timezone</th>\n",
       "    </tr>\n",
       "  </thead>\n",
       "  <tbody>\n",
       "    <tr>\n",
       "      <th>0</th>\n",
       "      <td>3197468391</td>\n",
       "      <td>id_ID</td>\n",
       "      <td>1993</td>\n",
       "      <td>male</td>\n",
       "      <td>2012-10-02T06:40:55.524Z</td>\n",
       "      <td>Medan  Indonesia</td>\n",
       "      <td>480.0</td>\n",
       "    </tr>\n",
       "    <tr>\n",
       "      <th>1</th>\n",
       "      <td>3537982273</td>\n",
       "      <td>id_ID</td>\n",
       "      <td>1992</td>\n",
       "      <td>male</td>\n",
       "      <td>2012-09-29T18:03:12.111Z</td>\n",
       "      <td>Medan  Indonesia</td>\n",
       "      <td>420.0</td>\n",
       "    </tr>\n",
       "    <tr>\n",
       "      <th>2</th>\n",
       "      <td>823183725</td>\n",
       "      <td>en_US</td>\n",
       "      <td>1975</td>\n",
       "      <td>male</td>\n",
       "      <td>2012-10-06T03:14:07.149Z</td>\n",
       "      <td>Stratford  Ontario</td>\n",
       "      <td>-240.0</td>\n",
       "    </tr>\n",
       "    <tr>\n",
       "      <th>3</th>\n",
       "      <td>1872223848</td>\n",
       "      <td>en_US</td>\n",
       "      <td>1991</td>\n",
       "      <td>female</td>\n",
       "      <td>2012-11-04T08:59:43.783Z</td>\n",
       "      <td>Tehran  Iran</td>\n",
       "      <td>210.0</td>\n",
       "    </tr>\n",
       "    <tr>\n",
       "      <th>4</th>\n",
       "      <td>3429017717</td>\n",
       "      <td>id_ID</td>\n",
       "      <td>1995</td>\n",
       "      <td>female</td>\n",
       "      <td>2012-09-10T16:06:53.132Z</td>\n",
       "      <td>NaN</td>\n",
       "      <td>420.0</td>\n",
       "    </tr>\n",
       "  </tbody>\n",
       "</table>\n",
       "</div>"
      ],
      "text/plain": [
       "      user_id locale birthyear  gender                  joinedAt  \\\n",
       "0  3197468391  id_ID      1993    male  2012-10-02T06:40:55.524Z   \n",
       "1  3537982273  id_ID      1992    male  2012-09-29T18:03:12.111Z   \n",
       "2   823183725  en_US      1975    male  2012-10-06T03:14:07.149Z   \n",
       "3  1872223848  en_US      1991  female  2012-11-04T08:59:43.783Z   \n",
       "4  3429017717  id_ID      1995  female  2012-09-10T16:06:53.132Z   \n",
       "\n",
       "             location  timezone  \n",
       "0    Medan  Indonesia     480.0  \n",
       "1    Medan  Indonesia     420.0  \n",
       "2  Stratford  Ontario    -240.0  \n",
       "3        Tehran  Iran     210.0  \n",
       "4                 NaN     420.0  "
      ]
     },
     "execution_count": 3,
     "metadata": {},
     "output_type": "execute_result"
    }
   ],
   "source": [
    "df_user.head()"
   ]
  },
  {
   "cell_type": "code",
   "execution_count": 4,
   "metadata": {},
   "outputs": [
    {
     "data": {
      "text/html": [
       "<div>\n",
       "<style scoped>\n",
       "    .dataframe tbody tr th:only-of-type {\n",
       "        vertical-align: middle;\n",
       "    }\n",
       "\n",
       "    .dataframe tbody tr th {\n",
       "        vertical-align: top;\n",
       "    }\n",
       "\n",
       "    .dataframe thead th {\n",
       "        text-align: right;\n",
       "    }\n",
       "</style>\n",
       "<table border=\"1\" class=\"dataframe\">\n",
       "  <thead>\n",
       "    <tr style=\"text-align: right;\">\n",
       "      <th></th>\n",
       "      <th>Unnamed: 0</th>\n",
       "      <th>event_id</th>\n",
       "      <th>user_id</th>\n",
       "      <th>attendance_status</th>\n",
       "    </tr>\n",
       "  </thead>\n",
       "  <tbody>\n",
       "    <tr>\n",
       "      <th>0</th>\n",
       "      <td>0</td>\n",
       "      <td>1159822043</td>\n",
       "      <td>1975964455</td>\n",
       "      <td>yes</td>\n",
       "    </tr>\n",
       "    <tr>\n",
       "      <th>1</th>\n",
       "      <td>1</td>\n",
       "      <td>1159822043</td>\n",
       "      <td>252302513</td>\n",
       "      <td>yes</td>\n",
       "    </tr>\n",
       "    <tr>\n",
       "      <th>2</th>\n",
       "      <td>2</td>\n",
       "      <td>1159822043</td>\n",
       "      <td>4226086795</td>\n",
       "      <td>yes</td>\n",
       "    </tr>\n",
       "    <tr>\n",
       "      <th>3</th>\n",
       "      <td>3</td>\n",
       "      <td>1159822043</td>\n",
       "      <td>3805886383</td>\n",
       "      <td>yes</td>\n",
       "    </tr>\n",
       "    <tr>\n",
       "      <th>4</th>\n",
       "      <td>4</td>\n",
       "      <td>1159822043</td>\n",
       "      <td>1420484491</td>\n",
       "      <td>yes</td>\n",
       "    </tr>\n",
       "  </tbody>\n",
       "</table>\n",
       "</div>"
      ],
      "text/plain": [
       "   Unnamed: 0    event_id     user_id attendance_status\n",
       "0           0  1159822043  1975964455               yes\n",
       "1           1  1159822043   252302513               yes\n",
       "2           2  1159822043  4226086795               yes\n",
       "3           3  1159822043  3805886383               yes\n",
       "4           4  1159822043  1420484491               yes"
      ]
     },
     "execution_count": 4,
     "metadata": {},
     "output_type": "execute_result"
    }
   ],
   "source": [
    "\"\"\"\n",
    "Load the saved user_event_pairs dataframe so we don't have to rerun all the code needed\n",
    "to create the dataframe should the kernel crash when processing large data volume.\n",
    "\"\"\"\n",
    "\n",
    "user_event_pairs = pd.read_csv(\"/home/nkama/masters_thesis_project/thesis/interactions.csv\")\n",
    "\n",
    "user_event_pairs.head()"
   ]
  },
  {
   "cell_type": "code",
   "execution_count": 10,
   "metadata": {},
   "outputs": [],
   "source": [
    "unique_users = user_event_pairs['user_id'].unique()"
   ]
  },
  {
   "cell_type": "code",
   "execution_count": 11,
   "metadata": {},
   "outputs": [],
   "source": [
    "# Convert both to string type to ensure matching\n",
    "user_event_pairs['user_id'] = user_event_pairs['user_id'].astype(str)\n",
    "df_user['user_id'] = df_user['user_id'].astype(str)\n"
   ]
  },
  {
   "cell_type": "code",
   "execution_count": 13,
   "metadata": {},
   "outputs": [
    {
     "data": {
      "text/html": [
       "<div>\n",
       "<style scoped>\n",
       "    .dataframe tbody tr th:only-of-type {\n",
       "        vertical-align: middle;\n",
       "    }\n",
       "\n",
       "    .dataframe tbody tr th {\n",
       "        vertical-align: top;\n",
       "    }\n",
       "\n",
       "    .dataframe thead th {\n",
       "        text-align: right;\n",
       "    }\n",
       "</style>\n",
       "<table border=\"1\" class=\"dataframe\">\n",
       "  <thead>\n",
       "    <tr style=\"text-align: right;\">\n",
       "      <th></th>\n",
       "      <th>user_id</th>\n",
       "      <th>locale</th>\n",
       "      <th>birthyear</th>\n",
       "      <th>gender</th>\n",
       "      <th>joinedAt</th>\n",
       "      <th>location</th>\n",
       "      <th>timezone</th>\n",
       "    </tr>\n",
       "  </thead>\n",
       "  <tbody>\n",
       "    <tr>\n",
       "      <th>0</th>\n",
       "      <td>3197468391</td>\n",
       "      <td>id_ID</td>\n",
       "      <td>1993</td>\n",
       "      <td>male</td>\n",
       "      <td>2012-10-02T06:40:55.524Z</td>\n",
       "      <td>Medan  Indonesia</td>\n",
       "      <td>480.0</td>\n",
       "    </tr>\n",
       "    <tr>\n",
       "      <th>1</th>\n",
       "      <td>3537982273</td>\n",
       "      <td>id_ID</td>\n",
       "      <td>1992</td>\n",
       "      <td>male</td>\n",
       "      <td>2012-09-29T18:03:12.111Z</td>\n",
       "      <td>Medan  Indonesia</td>\n",
       "      <td>420.0</td>\n",
       "    </tr>\n",
       "    <tr>\n",
       "      <th>4</th>\n",
       "      <td>3429017717</td>\n",
       "      <td>id_ID</td>\n",
       "      <td>1995</td>\n",
       "      <td>female</td>\n",
       "      <td>2012-09-10T16:06:53.132Z</td>\n",
       "      <td>NaN</td>\n",
       "      <td>420.0</td>\n",
       "    </tr>\n",
       "    <tr>\n",
       "      <th>7</th>\n",
       "      <td>3473687777</td>\n",
       "      <td>id_ID</td>\n",
       "      <td>1965</td>\n",
       "      <td>female</td>\n",
       "      <td>2012-10-03T12:19:29.975Z</td>\n",
       "      <td>Medan  Indonesia</td>\n",
       "      <td>420.0</td>\n",
       "    </tr>\n",
       "    <tr>\n",
       "      <th>12</th>\n",
       "      <td>1355996271</td>\n",
       "      <td>id_ID</td>\n",
       "      <td>1993</td>\n",
       "      <td>female</td>\n",
       "      <td>2012-10-26T15:34:46.113Z</td>\n",
       "      <td>Djokja  Yogyakarta  Indonesia</td>\n",
       "      <td>420.0</td>\n",
       "    </tr>\n",
       "  </tbody>\n",
       "</table>\n",
       "</div>"
      ],
      "text/plain": [
       "       user_id locale birthyear  gender                  joinedAt  \\\n",
       "0   3197468391  id_ID      1993    male  2012-10-02T06:40:55.524Z   \n",
       "1   3537982273  id_ID      1992    male  2012-09-29T18:03:12.111Z   \n",
       "4   3429017717  id_ID      1995  female  2012-09-10T16:06:53.132Z   \n",
       "7   3473687777  id_ID      1965  female  2012-10-03T12:19:29.975Z   \n",
       "12  1355996271  id_ID      1993  female  2012-10-26T15:34:46.113Z   \n",
       "\n",
       "                         location  timezone  \n",
       "0                Medan  Indonesia     480.0  \n",
       "1                Medan  Indonesia     420.0  \n",
       "4                             NaN     420.0  \n",
       "7                Medan  Indonesia     420.0  \n",
       "12  Djokja  Yogyakarta  Indonesia     420.0  "
      ]
     },
     "execution_count": 13,
     "metadata": {},
     "output_type": "execute_result"
    }
   ],
   "source": [
    "# Filter users data\n",
    "filtered_user_data = df_user[df_user[\"user_id\"].isin(unique_users)]\n",
    "filtered_user_data.head()"
   ]
  },
  {
   "cell_type": "code",
   "execution_count": 14,
   "metadata": {},
   "outputs": [
    {
     "data": {
      "text/plain": [
       "user_id         0\n",
       "locale          0\n",
       "birthyear     234\n",
       "gender         42\n",
       "joinedAt       17\n",
       "location     1429\n",
       "timezone       38\n",
       "dtype: int64"
      ]
     },
     "execution_count": 14,
     "metadata": {},
     "output_type": "execute_result"
    }
   ],
   "source": [
    "filtered_user_data.isnull().sum()"
   ]
  },
  {
   "cell_type": "code",
   "execution_count": 15,
   "metadata": {},
   "outputs": [],
   "source": [
    "filtered_user_data = filtered_user_data.drop([\"timezone\",\"locale\"],axis=1)"
   ]
  },
  {
   "cell_type": "code",
   "execution_count": 16,
   "metadata": {},
   "outputs": [
    {
     "data": {
      "text/html": [
       "<div>\n",
       "<style scoped>\n",
       "    .dataframe tbody tr th:only-of-type {\n",
       "        vertical-align: middle;\n",
       "    }\n",
       "\n",
       "    .dataframe tbody tr th {\n",
       "        vertical-align: top;\n",
       "    }\n",
       "\n",
       "    .dataframe thead th {\n",
       "        text-align: right;\n",
       "    }\n",
       "</style>\n",
       "<table border=\"1\" class=\"dataframe\">\n",
       "  <thead>\n",
       "    <tr style=\"text-align: right;\">\n",
       "      <th></th>\n",
       "      <th>user_id</th>\n",
       "      <th>birthyear</th>\n",
       "      <th>gender</th>\n",
       "      <th>joinedAt</th>\n",
       "      <th>location</th>\n",
       "    </tr>\n",
       "  </thead>\n",
       "  <tbody>\n",
       "    <tr>\n",
       "      <th>0</th>\n",
       "      <td>3197468391</td>\n",
       "      <td>1993</td>\n",
       "      <td>male</td>\n",
       "      <td>2012-10-02T06:40:55.524Z</td>\n",
       "      <td>Medan  Indonesia</td>\n",
       "    </tr>\n",
       "    <tr>\n",
       "      <th>1</th>\n",
       "      <td>3537982273</td>\n",
       "      <td>1992</td>\n",
       "      <td>male</td>\n",
       "      <td>2012-09-29T18:03:12.111Z</td>\n",
       "      <td>Medan  Indonesia</td>\n",
       "    </tr>\n",
       "    <tr>\n",
       "      <th>7</th>\n",
       "      <td>3473687777</td>\n",
       "      <td>1965</td>\n",
       "      <td>female</td>\n",
       "      <td>2012-10-03T12:19:29.975Z</td>\n",
       "      <td>Medan  Indonesia</td>\n",
       "    </tr>\n",
       "    <tr>\n",
       "      <th>12</th>\n",
       "      <td>1355996271</td>\n",
       "      <td>1993</td>\n",
       "      <td>female</td>\n",
       "      <td>2012-10-26T15:34:46.113Z</td>\n",
       "      <td>Djokja  Yogyakarta  Indonesia</td>\n",
       "    </tr>\n",
       "    <tr>\n",
       "      <th>13</th>\n",
       "      <td>2411726276</td>\n",
       "      <td>1996</td>\n",
       "      <td>female</td>\n",
       "      <td>2012-10-30T05:16:27.136Z</td>\n",
       "      <td>Triolet  Mauritius</td>\n",
       "    </tr>\n",
       "    <tr>\n",
       "      <th>...</th>\n",
       "      <td>...</td>\n",
       "      <td>...</td>\n",
       "      <td>...</td>\n",
       "      <td>...</td>\n",
       "      <td>...</td>\n",
       "    </tr>\n",
       "    <tr>\n",
       "      <th>38187</th>\n",
       "      <td>3566369790</td>\n",
       "      <td>1989</td>\n",
       "      <td>male</td>\n",
       "      <td>2012-10-30T08:56:19.611Z</td>\n",
       "      <td>Jogjakarta  Indonesia</td>\n",
       "    </tr>\n",
       "    <tr>\n",
       "      <th>38190</th>\n",
       "      <td>2630548270</td>\n",
       "      <td>1988</td>\n",
       "      <td>male</td>\n",
       "      <td>2012-10-29T16:02:19.692Z</td>\n",
       "      <td>Yogyakarta</td>\n",
       "    </tr>\n",
       "    <tr>\n",
       "      <th>38199</th>\n",
       "      <td>280076614</td>\n",
       "      <td>1995</td>\n",
       "      <td>female</td>\n",
       "      <td>2012-11-22T12:06:08.668Z</td>\n",
       "      <td>Phnom Penh</td>\n",
       "    </tr>\n",
       "    <tr>\n",
       "      <th>38203</th>\n",
       "      <td>3890944219</td>\n",
       "      <td>1993</td>\n",
       "      <td>female</td>\n",
       "      <td>2012-11-04T07:18:39.354Z</td>\n",
       "      <td>Kebumen  Jawa Tengah  Indonesia</td>\n",
       "    </tr>\n",
       "    <tr>\n",
       "      <th>38205</th>\n",
       "      <td>446388078</td>\n",
       "      <td>1997</td>\n",
       "      <td>male</td>\n",
       "      <td>2012-10-25T22:43:19.834Z</td>\n",
       "      <td>Medan  Indonesia</td>\n",
       "    </tr>\n",
       "  </tbody>\n",
       "</table>\n",
       "<p>9922 rows × 5 columns</p>\n",
       "</div>"
      ],
      "text/plain": [
       "          user_id birthyear  gender                  joinedAt  \\\n",
       "0      3197468391      1993    male  2012-10-02T06:40:55.524Z   \n",
       "1      3537982273      1992    male  2012-09-29T18:03:12.111Z   \n",
       "7      3473687777      1965  female  2012-10-03T12:19:29.975Z   \n",
       "12     1355996271      1993  female  2012-10-26T15:34:46.113Z   \n",
       "13     2411726276      1996  female  2012-10-30T05:16:27.136Z   \n",
       "...           ...       ...     ...                       ...   \n",
       "38187  3566369790      1989    male  2012-10-30T08:56:19.611Z   \n",
       "38190  2630548270      1988    male  2012-10-29T16:02:19.692Z   \n",
       "38199   280076614      1995  female  2012-11-22T12:06:08.668Z   \n",
       "38203  3890944219      1993  female  2012-11-04T07:18:39.354Z   \n",
       "38205   446388078      1997    male  2012-10-25T22:43:19.834Z   \n",
       "\n",
       "                              location  \n",
       "0                     Medan  Indonesia  \n",
       "1                     Medan  Indonesia  \n",
       "7                     Medan  Indonesia  \n",
       "12       Djokja  Yogyakarta  Indonesia  \n",
       "13                  Triolet  Mauritius  \n",
       "...                                ...  \n",
       "38187            Jogjakarta  Indonesia  \n",
       "38190                       Yogyakarta  \n",
       "38199                       Phnom Penh  \n",
       "38203  Kebumen  Jawa Tengah  Indonesia  \n",
       "38205                 Medan  Indonesia  \n",
       "\n",
       "[9922 rows x 5 columns]"
      ]
     },
     "execution_count": 16,
     "metadata": {},
     "output_type": "execute_result"
    }
   ],
   "source": [
    "filtered_user_data = filtered_user_data.dropna()\n",
    "filtered_user_data"
   ]
  },
  {
   "cell_type": "code",
   "execution_count": 17,
   "metadata": {},
   "outputs": [
    {
     "data": {
      "text/plain": [
       "9922"
      ]
     },
     "execution_count": 17,
     "metadata": {},
     "output_type": "execute_result"
    }
   ],
   "source": [
    "len(filtered_user_data)"
   ]
  },
  {
   "cell_type": "code",
   "execution_count": 18,
   "metadata": {},
   "outputs": [
    {
     "name": "stdout",
     "output_type": "stream",
     "text": [
      "Original users: 38209, Filtered users: 9922\n"
     ]
    }
   ],
   "source": [
    "# Print summary information\n",
    "print(f\"Original users: {len(df_user)}, Filtered users: {len(filtered_user_data)}\")"
   ]
  },
  {
   "cell_type": "markdown",
   "metadata": {},
   "source": [
    "Extract age column from the birtday and event start time"
   ]
  },
  {
   "cell_type": "code",
   "execution_count": 19,
   "metadata": {},
   "outputs": [],
   "source": [
    "events_data = pd.read_csv(\"/home/nkama/masters_thesis_project/thesis/data/event_rec_engine_challenge/events.csv\",\\\n",
    "                           usecols=range(3))\n",
    "#events_data['start_time'] = pd.to_datetime(events_data['start_time'], errors='coerce')\n",
    "events_data = events_data.dropna(subset=['start_time'])"
   ]
  },
  {
   "cell_type": "code",
   "execution_count": 20,
   "metadata": {},
   "outputs": [
    {
     "name": "stdout",
     "output_type": "stream",
     "text": [
      "Sample of data with age:\n",
      "       user_id birthyear age\n",
      "0   3197468391      1993  19\n",
      "1   3537982273      1992  20\n",
      "7   3473687777      1965  47\n",
      "12  1355996271      1993  19\n",
      "13  2411726276      1996  16\n",
      "\n",
      "Number of invalid ages: 30\n"
     ]
    }
   ],
   "source": [
    "from datetime import datetime\n",
    "\n",
    "\n",
    "# Create a copy of the filtered data to avoid the warning\n",
    "filtered_user_data = filtered_user_data.copy()\n",
    "\n",
    "# Convert birthyear to int and calculate age\n",
    "filtered_user_data.loc[:, 'birthyear'] = filtered_user_data['birthyear'].astype(int)\n",
    "# First, convert string timestamps to datetime objects\n",
    "events_data['start_time'] = pd.to_datetime(events_data['start_time'],errors='coerce')\n",
    "#filtered_user_data['joinedAt'] = pd.to_datetime(filtered_user_data['joinedAt'])\n",
    "\n",
    "# Extract reference year - let's use the median event year as our reference point\n",
    "# This is a balanced approach that represents the \"typical\" time in the dataset\n",
    "median_event_date = events_data['start_time'].median()\n",
    "reference_year = median_event_date.year\n",
    "filtered_user_data.loc[:, 'age'] = reference_year - filtered_user_data['birthyear']\n",
    "\n",
    "# Verify the changes\n",
    "print(\"Sample of data with age:\")\n",
    "print(filtered_user_data[['user_id', 'birthyear', 'age']].head())\n",
    "\n",
    "# Check for any invalid ages\n",
    "invalid_ages = filtered_user_data[(filtered_user_data['age'] < 0) | (filtered_user_data['age'] > 100)]\n",
    "print(f\"\\nNumber of invalid ages: {len(invalid_ages)}\")\n",
    "\n"
   ]
  },
  {
   "cell_type": "code",
   "execution_count": 21,
   "metadata": {},
   "outputs": [
    {
     "data": {
      "text/plain": [
       "9922"
      ]
     },
     "execution_count": 21,
     "metadata": {},
     "output_type": "execute_result"
    }
   ],
   "source": [
    "len(filtered_user_data)"
   ]
  },
  {
   "cell_type": "code",
   "execution_count": 22,
   "metadata": {},
   "outputs": [
    {
     "data": {
      "text/plain": [
       "user_id      0\n",
       "birthyear    0\n",
       "gender       0\n",
       "joinedAt     0\n",
       "location     0\n",
       "age          0\n",
       "dtype: int64"
      ]
     },
     "execution_count": 22,
     "metadata": {},
     "output_type": "execute_result"
    }
   ],
   "source": [
    "filtered_user_data.isnull().sum()"
   ]
  },
  {
   "cell_type": "code",
   "execution_count": 23,
   "metadata": {},
   "outputs": [],
   "source": [
    "filtered_user_data = filtered_user_data.drop(\"birthyear\",axis=1)\n"
   ]
  },
  {
   "cell_type": "code",
   "execution_count": 24,
   "metadata": {},
   "outputs": [
    {
     "data": {
      "text/html": [
       "<div>\n",
       "<style scoped>\n",
       "    .dataframe tbody tr th:only-of-type {\n",
       "        vertical-align: middle;\n",
       "    }\n",
       "\n",
       "    .dataframe tbody tr th {\n",
       "        vertical-align: top;\n",
       "    }\n",
       "\n",
       "    .dataframe thead th {\n",
       "        text-align: right;\n",
       "    }\n",
       "</style>\n",
       "<table border=\"1\" class=\"dataframe\">\n",
       "  <thead>\n",
       "    <tr style=\"text-align: right;\">\n",
       "      <th></th>\n",
       "      <th>user_id</th>\n",
       "      <th>gender</th>\n",
       "      <th>joinedAt</th>\n",
       "      <th>location</th>\n",
       "      <th>age</th>\n",
       "    </tr>\n",
       "  </thead>\n",
       "  <tbody>\n",
       "    <tr>\n",
       "      <th>0</th>\n",
       "      <td>3197468391</td>\n",
       "      <td>male</td>\n",
       "      <td>2012-10-02T06:40:55.524Z</td>\n",
       "      <td>Medan  Indonesia</td>\n",
       "      <td>19</td>\n",
       "    </tr>\n",
       "    <tr>\n",
       "      <th>1</th>\n",
       "      <td>3537982273</td>\n",
       "      <td>male</td>\n",
       "      <td>2012-09-29T18:03:12.111Z</td>\n",
       "      <td>Medan  Indonesia</td>\n",
       "      <td>20</td>\n",
       "    </tr>\n",
       "    <tr>\n",
       "      <th>7</th>\n",
       "      <td>3473687777</td>\n",
       "      <td>female</td>\n",
       "      <td>2012-10-03T12:19:29.975Z</td>\n",
       "      <td>Medan  Indonesia</td>\n",
       "      <td>47</td>\n",
       "    </tr>\n",
       "    <tr>\n",
       "      <th>12</th>\n",
       "      <td>1355996271</td>\n",
       "      <td>female</td>\n",
       "      <td>2012-10-26T15:34:46.113Z</td>\n",
       "      <td>Djokja  Yogyakarta  Indonesia</td>\n",
       "      <td>19</td>\n",
       "    </tr>\n",
       "    <tr>\n",
       "      <th>13</th>\n",
       "      <td>2411726276</td>\n",
       "      <td>female</td>\n",
       "      <td>2012-10-30T05:16:27.136Z</td>\n",
       "      <td>Triolet  Mauritius</td>\n",
       "      <td>16</td>\n",
       "    </tr>\n",
       "  </tbody>\n",
       "</table>\n",
       "</div>"
      ],
      "text/plain": [
       "       user_id  gender                  joinedAt  \\\n",
       "0   3197468391    male  2012-10-02T06:40:55.524Z   \n",
       "1   3537982273    male  2012-09-29T18:03:12.111Z   \n",
       "7   3473687777  female  2012-10-03T12:19:29.975Z   \n",
       "12  1355996271  female  2012-10-26T15:34:46.113Z   \n",
       "13  2411726276  female  2012-10-30T05:16:27.136Z   \n",
       "\n",
       "                         location age  \n",
       "0                Medan  Indonesia  19  \n",
       "1                Medan  Indonesia  20  \n",
       "7                Medan  Indonesia  47  \n",
       "12  Djokja  Yogyakarta  Indonesia  19  \n",
       "13             Triolet  Mauritius  16  "
      ]
     },
     "execution_count": 24,
     "metadata": {},
     "output_type": "execute_result"
    }
   ],
   "source": [
    "filtered_user_data.head()\n"
   ]
  },
  {
   "cell_type": "code",
   "execution_count": 25,
   "metadata": {},
   "outputs": [
    {
     "data": {
      "text/html": [
       "<div>\n",
       "<style scoped>\n",
       "    .dataframe tbody tr th:only-of-type {\n",
       "        vertical-align: middle;\n",
       "    }\n",
       "\n",
       "    .dataframe tbody tr th {\n",
       "        vertical-align: top;\n",
       "    }\n",
       "\n",
       "    .dataframe thead th {\n",
       "        text-align: right;\n",
       "    }\n",
       "</style>\n",
       "<table border=\"1\" class=\"dataframe\">\n",
       "  <thead>\n",
       "    <tr style=\"text-align: right;\">\n",
       "      <th></th>\n",
       "      <th>user_id</th>\n",
       "      <th>gender</th>\n",
       "      <th>joinedAt</th>\n",
       "      <th>location</th>\n",
       "      <th>age</th>\n",
       "    </tr>\n",
       "  </thead>\n",
       "  <tbody>\n",
       "    <tr>\n",
       "      <th>0</th>\n",
       "      <td>3197468391</td>\n",
       "      <td>male</td>\n",
       "      <td>2012-10-02T06:40:55.524Z</td>\n",
       "      <td>Medan  Indonesia</td>\n",
       "      <td>19</td>\n",
       "    </tr>\n",
       "    <tr>\n",
       "      <th>1</th>\n",
       "      <td>3537982273</td>\n",
       "      <td>male</td>\n",
       "      <td>2012-09-29T18:03:12.111Z</td>\n",
       "      <td>Medan  Indonesia</td>\n",
       "      <td>20</td>\n",
       "    </tr>\n",
       "    <tr>\n",
       "      <th>2</th>\n",
       "      <td>3473687777</td>\n",
       "      <td>female</td>\n",
       "      <td>2012-10-03T12:19:29.975Z</td>\n",
       "      <td>Medan  Indonesia</td>\n",
       "      <td>47</td>\n",
       "    </tr>\n",
       "    <tr>\n",
       "      <th>3</th>\n",
       "      <td>1355996271</td>\n",
       "      <td>female</td>\n",
       "      <td>2012-10-26T15:34:46.113Z</td>\n",
       "      <td>Djokja  Yogyakarta  Indonesia</td>\n",
       "      <td>19</td>\n",
       "    </tr>\n",
       "    <tr>\n",
       "      <th>4</th>\n",
       "      <td>2411726276</td>\n",
       "      <td>female</td>\n",
       "      <td>2012-10-30T05:16:27.136Z</td>\n",
       "      <td>Triolet  Mauritius</td>\n",
       "      <td>16</td>\n",
       "    </tr>\n",
       "    <tr>\n",
       "      <th>...</th>\n",
       "      <td>...</td>\n",
       "      <td>...</td>\n",
       "      <td>...</td>\n",
       "      <td>...</td>\n",
       "      <td>...</td>\n",
       "    </tr>\n",
       "    <tr>\n",
       "      <th>9917</th>\n",
       "      <td>3566369790</td>\n",
       "      <td>male</td>\n",
       "      <td>2012-10-30T08:56:19.611Z</td>\n",
       "      <td>Jogjakarta  Indonesia</td>\n",
       "      <td>23</td>\n",
       "    </tr>\n",
       "    <tr>\n",
       "      <th>9918</th>\n",
       "      <td>2630548270</td>\n",
       "      <td>male</td>\n",
       "      <td>2012-10-29T16:02:19.692Z</td>\n",
       "      <td>Yogyakarta</td>\n",
       "      <td>24</td>\n",
       "    </tr>\n",
       "    <tr>\n",
       "      <th>9919</th>\n",
       "      <td>280076614</td>\n",
       "      <td>female</td>\n",
       "      <td>2012-11-22T12:06:08.668Z</td>\n",
       "      <td>Phnom Penh</td>\n",
       "      <td>17</td>\n",
       "    </tr>\n",
       "    <tr>\n",
       "      <th>9920</th>\n",
       "      <td>3890944219</td>\n",
       "      <td>female</td>\n",
       "      <td>2012-11-04T07:18:39.354Z</td>\n",
       "      <td>Kebumen  Jawa Tengah  Indonesia</td>\n",
       "      <td>19</td>\n",
       "    </tr>\n",
       "    <tr>\n",
       "      <th>9921</th>\n",
       "      <td>446388078</td>\n",
       "      <td>male</td>\n",
       "      <td>2012-10-25T22:43:19.834Z</td>\n",
       "      <td>Medan  Indonesia</td>\n",
       "      <td>15</td>\n",
       "    </tr>\n",
       "  </tbody>\n",
       "</table>\n",
       "<p>9922 rows × 5 columns</p>\n",
       "</div>"
      ],
      "text/plain": [
       "         user_id  gender                  joinedAt  \\\n",
       "0     3197468391    male  2012-10-02T06:40:55.524Z   \n",
       "1     3537982273    male  2012-09-29T18:03:12.111Z   \n",
       "2     3473687777  female  2012-10-03T12:19:29.975Z   \n",
       "3     1355996271  female  2012-10-26T15:34:46.113Z   \n",
       "4     2411726276  female  2012-10-30T05:16:27.136Z   \n",
       "...          ...     ...                       ...   \n",
       "9917  3566369790    male  2012-10-30T08:56:19.611Z   \n",
       "9918  2630548270    male  2012-10-29T16:02:19.692Z   \n",
       "9919   280076614  female  2012-11-22T12:06:08.668Z   \n",
       "9920  3890944219  female  2012-11-04T07:18:39.354Z   \n",
       "9921   446388078    male  2012-10-25T22:43:19.834Z   \n",
       "\n",
       "                             location age  \n",
       "0                    Medan  Indonesia  19  \n",
       "1                    Medan  Indonesia  20  \n",
       "2                    Medan  Indonesia  47  \n",
       "3       Djokja  Yogyakarta  Indonesia  19  \n",
       "4                  Triolet  Mauritius  16  \n",
       "...                               ...  ..  \n",
       "9917            Jogjakarta  Indonesia  23  \n",
       "9918                       Yogyakarta  24  \n",
       "9919                       Phnom Penh  17  \n",
       "9920  Kebumen  Jawa Tengah  Indonesia  19  \n",
       "9921                 Medan  Indonesia  15  \n",
       "\n",
       "[9922 rows x 5 columns]"
      ]
     },
     "execution_count": 25,
     "metadata": {},
     "output_type": "execute_result"
    }
   ],
   "source": [
    "filtered_user_data.reset_index(drop=True)"
   ]
  },
  {
   "cell_type": "code",
   "execution_count": 113,
   "metadata": {},
   "outputs": [],
   "source": [
    "filtered_user_data.to_csv(\"filtered_user_data.csv\")"
   ]
  },
  {
   "cell_type": "code",
   "execution_count": 26,
   "metadata": {},
   "outputs": [],
   "source": [
    "from get_user_location_data import add_user_coordinates\n",
    "import pandas as pd\n"
   ]
  },
  {
   "cell_type": "code",
   "execution_count": null,
   "metadata": {},
   "outputs": [],
   "source": [
    "import pandas as pd\n",
    "from geopy.geocoders import Nominatim\n",
    "import time\n",
    "\n",
    "\n",
    "df = filtered_user_data.copy()\n",
    "# Initialize geocoder\n",
    "geolocator = Nominatim(user_agent=\"location_coordinates_finder\")\n",
    "\n",
    "# Function to get latitude and longitude\n",
    "def get_coordinates(location):\n",
    "    try:\n",
    "        # Add small delay to respect geocoding service rate limits\n",
    "        time.sleep(1)\n",
    "        location_data = geolocator.geocode(location)\n",
    "        if location_data:\n",
    "            return location_data.latitude, location_data.longitude\n",
    "        else:\n",
    "            return None, None\n",
    "    except Exception as e:\n",
    "        print(f\"Error geocoding {location}: {e}\")\n",
    "        return None, None\n",
    "\n",
    "# Add latitude and longitude columns\n",
    "df[['lat', 'lon']] = df['location'].apply(lambda x: pd.Series(get_coordinates(x)))\n",
    "\n",
    "# Display the result\n",
    "#df"
   ]
  },
  {
   "cell_type": "code",
   "execution_count": 102,
   "metadata": {},
   "outputs": [
    {
     "data": {
      "text/html": [
       "<div>\n",
       "<style scoped>\n",
       "    .dataframe tbody tr th:only-of-type {\n",
       "        vertical-align: middle;\n",
       "    }\n",
       "\n",
       "    .dataframe tbody tr th {\n",
       "        vertical-align: top;\n",
       "    }\n",
       "\n",
       "    .dataframe thead th {\n",
       "        text-align: right;\n",
       "    }\n",
       "</style>\n",
       "<table border=\"1\" class=\"dataframe\">\n",
       "  <thead>\n",
       "    <tr style=\"text-align: right;\">\n",
       "      <th></th>\n",
       "      <th>user_id</th>\n",
       "      <th>gender</th>\n",
       "      <th>joinedAt</th>\n",
       "      <th>location</th>\n",
       "      <th>age</th>\n",
       "    </tr>\n",
       "  </thead>\n",
       "  <tbody>\n",
       "    <tr>\n",
       "      <th>0</th>\n",
       "      <td>3197468391</td>\n",
       "      <td>male</td>\n",
       "      <td>2012-10-02T06:40:55.524Z</td>\n",
       "      <td>Medan  Indonesia</td>\n",
       "      <td>19</td>\n",
       "    </tr>\n",
       "    <tr>\n",
       "      <th>1</th>\n",
       "      <td>3537982273</td>\n",
       "      <td>male</td>\n",
       "      <td>2012-09-29T18:03:12.111Z</td>\n",
       "      <td>Medan  Indonesia</td>\n",
       "      <td>20</td>\n",
       "    </tr>\n",
       "    <tr>\n",
       "      <th>7</th>\n",
       "      <td>3473687777</td>\n",
       "      <td>female</td>\n",
       "      <td>2012-10-03T12:19:29.975Z</td>\n",
       "      <td>Medan  Indonesia</td>\n",
       "      <td>47</td>\n",
       "    </tr>\n",
       "    <tr>\n",
       "      <th>12</th>\n",
       "      <td>1355996271</td>\n",
       "      <td>female</td>\n",
       "      <td>2012-10-26T15:34:46.113Z</td>\n",
       "      <td>Djokja  Yogyakarta  Indonesia</td>\n",
       "      <td>19</td>\n",
       "    </tr>\n",
       "    <tr>\n",
       "      <th>13</th>\n",
       "      <td>2411726276</td>\n",
       "      <td>female</td>\n",
       "      <td>2012-10-30T05:16:27.136Z</td>\n",
       "      <td>Triolet  Mauritius</td>\n",
       "      <td>16</td>\n",
       "    </tr>\n",
       "  </tbody>\n",
       "</table>\n",
       "</div>"
      ],
      "text/plain": [
       "       user_id  gender                  joinedAt  \\\n",
       "0   3197468391    male  2012-10-02T06:40:55.524Z   \n",
       "1   3537982273    male  2012-09-29T18:03:12.111Z   \n",
       "7   3473687777  female  2012-10-03T12:19:29.975Z   \n",
       "12  1355996271  female  2012-10-26T15:34:46.113Z   \n",
       "13  2411726276  female  2012-10-30T05:16:27.136Z   \n",
       "\n",
       "                         location age  \n",
       "0                Medan  Indonesia  19  \n",
       "1                Medan  Indonesia  20  \n",
       "7                Medan  Indonesia  47  \n",
       "12  Djokja  Yogyakarta  Indonesia  19  \n",
       "13             Triolet  Mauritius  16  "
      ]
     },
     "execution_count": 102,
     "metadata": {},
     "output_type": "execute_result"
    }
   ],
   "source": [
    "df.head()"
   ]
  },
  {
   "cell_type": "code",
   "execution_count": 106,
   "metadata": {},
   "outputs": [],
   "source": [
    "# import the add_user_coordinates function to retrieve user cordinates\n",
    "from get_user_location_data import add_user_coordinates"
   ]
  },
  {
   "cell_type": "code",
   "execution_count": null,
   "metadata": {},
   "outputs": [],
   "source": [
    "users_df = add_user_coordinates(filtered_user_data[[\"location\"]])"
   ]
  },
  {
   "cell_type": "code",
   "execution_count": 36,
   "metadata": {},
   "outputs": [],
   "source": [
    "filtered_user_data = pd.read_csv(\"/home/nkama/masters_thesis_project/thesis/filtered_user_data.csv\")\n",
    "users_df = pd.read_csv(\"/home/nkama/masters_thesis_project/thesis/users_location.csv\")\n",
    "event_df = pd.read_csv(\"/home/nkama/masters_thesis_project/thesis/enriched_events_1.csv\")"
   ]
  },
  {
   "cell_type": "code",
   "execution_count": 32,
   "metadata": {},
   "outputs": [
    {
     "data": {
      "text/plain": [
       "(9922, 9922, 4000)"
      ]
     },
     "execution_count": 32,
     "metadata": {},
     "output_type": "execute_result"
    }
   ],
   "source": [
    "len(filtered_user_data), len(users_df), len(event_df)"
   ]
  },
  {
   "cell_type": "code",
   "execution_count": 37,
   "metadata": {},
   "outputs": [
    {
     "data": {
      "text/html": [
       "<div>\n",
       "<style scoped>\n",
       "    .dataframe tbody tr th:only-of-type {\n",
       "        vertical-align: middle;\n",
       "    }\n",
       "\n",
       "    .dataframe tbody tr th {\n",
       "        vertical-align: top;\n",
       "    }\n",
       "\n",
       "    .dataframe thead th {\n",
       "        text-align: right;\n",
       "    }\n",
       "</style>\n",
       "<table border=\"1\" class=\"dataframe\">\n",
       "  <thead>\n",
       "    <tr style=\"text-align: right;\">\n",
       "      <th></th>\n",
       "      <th>Unnamed: 0</th>\n",
       "      <th>user_id</th>\n",
       "      <th>gender</th>\n",
       "      <th>joinedAt</th>\n",
       "      <th>location</th>\n",
       "      <th>age</th>\n",
       "      <th>lat</th>\n",
       "      <th>lng</th>\n",
       "    </tr>\n",
       "  </thead>\n",
       "  <tbody>\n",
       "    <tr>\n",
       "      <th>0</th>\n",
       "      <td>0</td>\n",
       "      <td>3197468391</td>\n",
       "      <td>male</td>\n",
       "      <td>2012-10-02T06:40:55.524Z</td>\n",
       "      <td>Medan  Indonesia</td>\n",
       "      <td>19</td>\n",
       "      <td>3.590</td>\n",
       "      <td>98.674</td>\n",
       "    </tr>\n",
       "    <tr>\n",
       "      <th>1</th>\n",
       "      <td>1</td>\n",
       "      <td>3537982273</td>\n",
       "      <td>male</td>\n",
       "      <td>2012-09-29T18:03:12.111Z</td>\n",
       "      <td>Medan  Indonesia</td>\n",
       "      <td>20</td>\n",
       "      <td>3.590</td>\n",
       "      <td>98.674</td>\n",
       "    </tr>\n",
       "    <tr>\n",
       "      <th>2</th>\n",
       "      <td>2</td>\n",
       "      <td>3473687777</td>\n",
       "      <td>female</td>\n",
       "      <td>2012-10-03T12:19:29.975Z</td>\n",
       "      <td>Medan  Indonesia</td>\n",
       "      <td>47</td>\n",
       "      <td>3.590</td>\n",
       "      <td>98.674</td>\n",
       "    </tr>\n",
       "    <tr>\n",
       "      <th>3</th>\n",
       "      <td>4</td>\n",
       "      <td>2411726276</td>\n",
       "      <td>female</td>\n",
       "      <td>2012-10-30T05:16:27.136Z</td>\n",
       "      <td>Triolet  Mauritius</td>\n",
       "      <td>16</td>\n",
       "      <td>-20.057</td>\n",
       "      <td>57.552</td>\n",
       "    </tr>\n",
       "    <tr>\n",
       "      <th>4</th>\n",
       "      <td>5</td>\n",
       "      <td>1091720544</td>\n",
       "      <td>female</td>\n",
       "      <td>2012-10-30T11:55:19.469Z</td>\n",
       "      <td>Plaine Des Papayes  Pamplemousses  Mauritius</td>\n",
       "      <td>24</td>\n",
       "      <td>-20.063</td>\n",
       "      <td>57.581</td>\n",
       "    </tr>\n",
       "  </tbody>\n",
       "</table>\n",
       "</div>"
      ],
      "text/plain": [
       "   Unnamed: 0     user_id  gender                  joinedAt  \\\n",
       "0           0  3197468391    male  2012-10-02T06:40:55.524Z   \n",
       "1           1  3537982273    male  2012-09-29T18:03:12.111Z   \n",
       "2           2  3473687777  female  2012-10-03T12:19:29.975Z   \n",
       "3           4  2411726276  female  2012-10-30T05:16:27.136Z   \n",
       "4           5  1091720544  female  2012-10-30T11:55:19.469Z   \n",
       "\n",
       "                                       location  age     lat     lng  \n",
       "0                              Medan  Indonesia   19   3.590  98.674  \n",
       "1                              Medan  Indonesia   20   3.590  98.674  \n",
       "2                              Medan  Indonesia   47   3.590  98.674  \n",
       "3                            Triolet  Mauritius   16 -20.057  57.552  \n",
       "4  Plaine Des Papayes  Pamplemousses  Mauritius   24 -20.063  57.581  "
      ]
     },
     "execution_count": 37,
     "metadata": {},
     "output_type": "execute_result"
    }
   ],
   "source": [
    "users_df.head()"
   ]
  },
  {
   "cell_type": "code",
   "execution_count": null,
   "metadata": {},
   "outputs": [],
   "source": [
    "users_data = filtered_user_data.merge(users_df).drop(\"Unnamed: 0\",axis=1)"
   ]
  },
  {
   "cell_type": "code",
   "execution_count": 17,
   "metadata": {},
   "outputs": [
    {
     "data": {
      "text/html": [
       "<div>\n",
       "<style scoped>\n",
       "    .dataframe tbody tr th:only-of-type {\n",
       "        vertical-align: middle;\n",
       "    }\n",
       "\n",
       "    .dataframe tbody tr th {\n",
       "        vertical-align: top;\n",
       "    }\n",
       "\n",
       "    .dataframe thead th {\n",
       "        text-align: right;\n",
       "    }\n",
       "</style>\n",
       "<table border=\"1\" class=\"dataframe\">\n",
       "  <thead>\n",
       "    <tr style=\"text-align: right;\">\n",
       "      <th></th>\n",
       "      <th>user_id</th>\n",
       "      <th>gender</th>\n",
       "      <th>joinedAt</th>\n",
       "      <th>location</th>\n",
       "      <th>age</th>\n",
       "      <th>lat</th>\n",
       "      <th>lng</th>\n",
       "    </tr>\n",
       "  </thead>\n",
       "  <tbody>\n",
       "    <tr>\n",
       "      <th>0</th>\n",
       "      <td>3197468391</td>\n",
       "      <td>male</td>\n",
       "      <td>2012-10-02T06:40:55.524Z</td>\n",
       "      <td>Medan  Indonesia</td>\n",
       "      <td>19</td>\n",
       "      <td>3.590</td>\n",
       "      <td>98.674</td>\n",
       "    </tr>\n",
       "    <tr>\n",
       "      <th>1</th>\n",
       "      <td>3537982273</td>\n",
       "      <td>male</td>\n",
       "      <td>2012-09-29T18:03:12.111Z</td>\n",
       "      <td>Medan  Indonesia</td>\n",
       "      <td>20</td>\n",
       "      <td>3.590</td>\n",
       "      <td>98.674</td>\n",
       "    </tr>\n",
       "    <tr>\n",
       "      <th>2</th>\n",
       "      <td>3473687777</td>\n",
       "      <td>female</td>\n",
       "      <td>2012-10-03T12:19:29.975Z</td>\n",
       "      <td>Medan  Indonesia</td>\n",
       "      <td>47</td>\n",
       "      <td>3.590</td>\n",
       "      <td>98.674</td>\n",
       "    </tr>\n",
       "    <tr>\n",
       "      <th>3</th>\n",
       "      <td>1355996271</td>\n",
       "      <td>female</td>\n",
       "      <td>2012-10-26T15:34:46.113Z</td>\n",
       "      <td>Djokja  Yogyakarta  Indonesia</td>\n",
       "      <td>19</td>\n",
       "      <td>NaN</td>\n",
       "      <td>NaN</td>\n",
       "    </tr>\n",
       "    <tr>\n",
       "      <th>4</th>\n",
       "      <td>2411726276</td>\n",
       "      <td>female</td>\n",
       "      <td>2012-10-30T05:16:27.136Z</td>\n",
       "      <td>Triolet  Mauritius</td>\n",
       "      <td>16</td>\n",
       "      <td>-20.057</td>\n",
       "      <td>57.552</td>\n",
       "    </tr>\n",
       "  </tbody>\n",
       "</table>\n",
       "</div>"
      ],
      "text/plain": [
       "      user_id  gender                  joinedAt  \\\n",
       "0  3197468391    male  2012-10-02T06:40:55.524Z   \n",
       "1  3537982273    male  2012-09-29T18:03:12.111Z   \n",
       "2  3473687777  female  2012-10-03T12:19:29.975Z   \n",
       "3  1355996271  female  2012-10-26T15:34:46.113Z   \n",
       "4  2411726276  female  2012-10-30T05:16:27.136Z   \n",
       "\n",
       "                        location  age     lat     lng  \n",
       "0               Medan  Indonesia   19   3.590  98.674  \n",
       "1               Medan  Indonesia   20   3.590  98.674  \n",
       "2               Medan  Indonesia   47   3.590  98.674  \n",
       "3  Djokja  Yogyakarta  Indonesia   19     NaN     NaN  \n",
       "4             Triolet  Mauritius   16 -20.057  57.552  "
      ]
     },
     "execution_count": 17,
     "metadata": {},
     "output_type": "execute_result"
    }
   ],
   "source": [
    "users_data.head()"
   ]
  },
  {
   "cell_type": "code",
   "execution_count": 18,
   "metadata": {},
   "outputs": [
    {
     "data": {
      "text/plain": [
       "9922"
      ]
     },
     "execution_count": 18,
     "metadata": {},
     "output_type": "execute_result"
    }
   ],
   "source": [
    "len(users_data)"
   ]
  },
  {
   "cell_type": "code",
   "execution_count": 19,
   "metadata": {},
   "outputs": [
    {
     "data": {
      "text/plain": [
       "user_id       0\n",
       "gender        0\n",
       "joinedAt      0\n",
       "location      0\n",
       "age           0\n",
       "lat         398\n",
       "lng         398\n",
       "dtype: int64"
      ]
     },
     "execution_count": 19,
     "metadata": {},
     "output_type": "execute_result"
    }
   ],
   "source": [
    "users_data.isnull().sum()"
   ]
  },
  {
   "cell_type": "code",
   "execution_count": 20,
   "metadata": {},
   "outputs": [],
   "source": [
    "users_data = users_data.dropna()"
   ]
  },
  {
   "cell_type": "code",
   "execution_count": 21,
   "metadata": {},
   "outputs": [
    {
     "data": {
      "text/plain": [
       "9524"
      ]
     },
     "execution_count": 21,
     "metadata": {},
     "output_type": "execute_result"
    }
   ],
   "source": [
    "len(users_data)"
   ]
  },
  {
   "cell_type": "code",
   "execution_count": 22,
   "metadata": {},
   "outputs": [],
   "source": [
    "users_data.to_csv(\"users_data.csv\")"
   ]
  },
  {
   "cell_type": "markdown",
   "metadata": {},
   "source": [
    "## Create user onboarding data"
   ]
  },
  {
   "cell_type": "code",
   "execution_count": 41,
   "metadata": {},
   "outputs": [],
   "source": [
    "users_df = pd.read_csv(\"/home/nkama/masters_thesis_project/thesis/users_data.csv\")\n",
    "events_df = pd.read_csv(\"/home/nkama/masters_thesis_project/thesis/enriched_events_1.csv\")\n",
    "interactions_df = pd.read_csv(\"/home/nkama/masters_thesis_project/thesis/interactions.csv\")"
   ]
  },
  {
   "cell_type": "code",
   "execution_count": 42,
   "metadata": {},
   "outputs": [
    {
     "data": {
      "text/plain": [
       "4000"
      ]
     },
     "execution_count": 42,
     "metadata": {},
     "output_type": "execute_result"
    }
   ],
   "source": [
    "len(events_df)"
   ]
  },
  {
   "cell_type": "code",
   "execution_count": 56,
   "metadata": {},
   "outputs": [
    {
     "data": {
      "text/plain": [
       "12"
      ]
     },
     "execution_count": 56,
     "metadata": {},
     "output_type": "execute_result"
    }
   ],
   "source": [
    "events_df.category.nunique()"
   ]
  },
  {
   "cell_type": "code",
   "execution_count": 39,
   "metadata": {},
   "outputs": [
    {
     "data": {
      "text/html": [
       "<div>\n",
       "<style scoped>\n",
       "    .dataframe tbody tr th:only-of-type {\n",
       "        vertical-align: middle;\n",
       "    }\n",
       "\n",
       "    .dataframe tbody tr th {\n",
       "        vertical-align: top;\n",
       "    }\n",
       "\n",
       "    .dataframe thead th {\n",
       "        text-align: right;\n",
       "    }\n",
       "</style>\n",
       "<table border=\"1\" class=\"dataframe\">\n",
       "  <thead>\n",
       "    <tr style=\"text-align: right;\">\n",
       "      <th></th>\n",
       "      <th>Unnamed: 0</th>\n",
       "      <th>event_id</th>\n",
       "      <th>user_id</th>\n",
       "      <th>attendance_status</th>\n",
       "    </tr>\n",
       "  </thead>\n",
       "  <tbody>\n",
       "    <tr>\n",
       "      <th>0</th>\n",
       "      <td>0</td>\n",
       "      <td>1159822043</td>\n",
       "      <td>1975964455</td>\n",
       "      <td>yes</td>\n",
       "    </tr>\n",
       "    <tr>\n",
       "      <th>1</th>\n",
       "      <td>1</td>\n",
       "      <td>1159822043</td>\n",
       "      <td>252302513</td>\n",
       "      <td>yes</td>\n",
       "    </tr>\n",
       "    <tr>\n",
       "      <th>2</th>\n",
       "      <td>2</td>\n",
       "      <td>1159822043</td>\n",
       "      <td>4226086795</td>\n",
       "      <td>yes</td>\n",
       "    </tr>\n",
       "    <tr>\n",
       "      <th>3</th>\n",
       "      <td>3</td>\n",
       "      <td>1159822043</td>\n",
       "      <td>3805886383</td>\n",
       "      <td>yes</td>\n",
       "    </tr>\n",
       "    <tr>\n",
       "      <th>4</th>\n",
       "      <td>4</td>\n",
       "      <td>1159822043</td>\n",
       "      <td>1420484491</td>\n",
       "      <td>yes</td>\n",
       "    </tr>\n",
       "  </tbody>\n",
       "</table>\n",
       "</div>"
      ],
      "text/plain": [
       "   Unnamed: 0    event_id     user_id attendance_status\n",
       "0           0  1159822043  1975964455               yes\n",
       "1           1  1159822043   252302513               yes\n",
       "2           2  1159822043  4226086795               yes\n",
       "3           3  1159822043  3805886383               yes\n",
       "4           4  1159822043  1420484491               yes"
      ]
     },
     "execution_count": 39,
     "metadata": {},
     "output_type": "execute_result"
    }
   ],
   "source": [
    "interactions_df.head()"
   ]
  },
  {
   "cell_type": "code",
   "execution_count": null,
   "metadata": {},
   "outputs": [],
   "source": [
    "col = [\"event_id\",\t\"start_time\",\"city\",\"lat\",\"lng\", \"category\",\"title\",\"description\",\"event_type\"]\n",
    "events_df = events_df[col]\n",
    "\n",
    "interactions = interactions_df.merge(events_df, on='event_id', how='inner')"
   ]
  },
  {
   "cell_type": "code",
   "execution_count": 48,
   "metadata": {},
   "outputs": [
    {
     "data": {
      "text/html": [
       "<div>\n",
       "<style scoped>\n",
       "    .dataframe tbody tr th:only-of-type {\n",
       "        vertical-align: middle;\n",
       "    }\n",
       "\n",
       "    .dataframe tbody tr th {\n",
       "        vertical-align: top;\n",
       "    }\n",
       "\n",
       "    .dataframe thead th {\n",
       "        text-align: right;\n",
       "    }\n",
       "</style>\n",
       "<table border=\"1\" class=\"dataframe\">\n",
       "  <thead>\n",
       "    <tr style=\"text-align: right;\">\n",
       "      <th></th>\n",
       "      <th>Unnamed: 0</th>\n",
       "      <th>event_id</th>\n",
       "      <th>user_id</th>\n",
       "      <th>attendance_status</th>\n",
       "      <th>start_time</th>\n",
       "      <th>city</th>\n",
       "      <th>lat</th>\n",
       "      <th>lng</th>\n",
       "      <th>category</th>\n",
       "      <th>title</th>\n",
       "      <th>description</th>\n",
       "      <th>event_type</th>\n",
       "    </tr>\n",
       "  </thead>\n",
       "  <tbody>\n",
       "    <tr>\n",
       "      <th>0</th>\n",
       "      <td>4062</td>\n",
       "      <td>1474957705</td>\n",
       "      <td>212309002</td>\n",
       "      <td>yes</td>\n",
       "      <td>2012-08-09T23:30:00.000Z</td>\n",
       "      <td>Toronto</td>\n",
       "      <td>43.676</td>\n",
       "      <td>-79.357</td>\n",
       "      <td>Arts &amp; Culture</td>\n",
       "      <td>Canvas of Sound: A Night of Art, Music, and Da...</td>\n",
       "      <td>Join us for \"Canvas of Sound,\" an electrifying...</td>\n",
       "      <td>Indoor</td>\n",
       "    </tr>\n",
       "    <tr>\n",
       "      <th>1</th>\n",
       "      <td>4063</td>\n",
       "      <td>1474957705</td>\n",
       "      <td>269775255</td>\n",
       "      <td>yes</td>\n",
       "      <td>2012-08-09T23:30:00.000Z</td>\n",
       "      <td>Toronto</td>\n",
       "      <td>43.676</td>\n",
       "      <td>-79.357</td>\n",
       "      <td>Arts &amp; Culture</td>\n",
       "      <td>Canvas of Sound: A Night of Art, Music, and Da...</td>\n",
       "      <td>Join us for \"Canvas of Sound,\" an electrifying...</td>\n",
       "      <td>Indoor</td>\n",
       "    </tr>\n",
       "  </tbody>\n",
       "</table>\n",
       "</div>"
      ],
      "text/plain": [
       "   Unnamed: 0    event_id    user_id attendance_status  \\\n",
       "0        4062  1474957705  212309002               yes   \n",
       "1        4063  1474957705  269775255               yes   \n",
       "\n",
       "                 start_time     city     lat     lng        category  \\\n",
       "0  2012-08-09T23:30:00.000Z  Toronto  43.676 -79.357  Arts & Culture   \n",
       "1  2012-08-09T23:30:00.000Z  Toronto  43.676 -79.357  Arts & Culture   \n",
       "\n",
       "                                               title  \\\n",
       "0  Canvas of Sound: A Night of Art, Music, and Da...   \n",
       "1  Canvas of Sound: A Night of Art, Music, and Da...   \n",
       "\n",
       "                                         description event_type  \n",
       "0  Join us for \"Canvas of Sound,\" an electrifying...     Indoor  \n",
       "1  Join us for \"Canvas of Sound,\" an electrifying...     Indoor  "
      ]
     },
     "execution_count": 48,
     "metadata": {},
     "output_type": "execute_result"
    }
   ],
   "source": [
    "interactions.head(2)"
   ]
  },
  {
   "cell_type": "code",
   "execution_count": 58,
   "metadata": {},
   "outputs": [
    {
     "data": {
      "text/plain": [
       "11245010"
      ]
     },
     "execution_count": 58,
     "metadata": {},
     "output_type": "execute_result"
    }
   ],
   "source": [
    "len(interactions_df)"
   ]
  },
  {
   "cell_type": "code",
   "execution_count": 57,
   "metadata": {},
   "outputs": [
    {
     "data": {
      "text/plain": [
       "2319318"
      ]
     },
     "execution_count": 57,
     "metadata": {},
     "output_type": "execute_result"
    }
   ],
   "source": [
    "len(interactions)"
   ]
  },
  {
   "cell_type": "code",
   "execution_count": 60,
   "metadata": {},
   "outputs": [
    {
     "data": {
      "text/plain": [
       "12"
      ]
     },
     "execution_count": 60,
     "metadata": {},
     "output_type": "execute_result"
    }
   ],
   "source": [
    "interactions.category.nunique()"
   ]
  },
  {
   "cell_type": "code",
   "execution_count": 62,
   "metadata": {},
   "outputs": [],
   "source": [
    "import json\n",
    "user_categories_dict = {}\n",
    "# Group by user_id and get unique categories\n",
    "for user_id, group in interactions.groupby('user_id'):\n",
    "    # Get unique categories as a list\n",
    "    categories = group['category'].unique().tolist()\n",
    "    # Filter to only include categories from EVENT_CATEGORIES\n",
    "    #interests = [cat for cat in categories if cat in EVENT_CATEGORIES]\n",
    "    # Store as a string representation for now\n",
    "    user_categories_dict[user_id] = json.dumps(categories)"
   ]
  },
  {
   "cell_type": "code",
   "execution_count": null,
   "metadata": {},
   "outputs": [],
   "source": [
    "for i in user_categories_dict:\n",
    "    if len(user_categories_dict[i]) >= 2:\n",
    "        print(user_categories_dict)"
   ]
  },
  {
   "cell_type": "code",
   "execution_count": 54,
   "metadata": {},
   "outputs": [
    {
     "data": {
      "text/plain": [
       "['Seasonal & Festivals', 'Health & Wellness', 'Music & Concerts']"
      ]
     },
     "execution_count": 54,
     "metadata": {},
     "output_type": "execute_result"
    }
   ],
   "source": [
    "categories"
   ]
  },
  {
   "cell_type": "code",
   "execution_count": null,
   "metadata": {},
   "outputs": [],
   "source": [
    "import pandas as pd\n",
    "import json\n",
    "\n",
    "# Define the event categories\n",
    "EVENT_CATEGORIES = [\n",
    "    'Music & Concerts',      # Covers live music, DJ performances, outdoor concerts\n",
    "    'Food & Drink',          # Covers wine/beer tastings, food festivals, mixology, food truck rallies\n",
    "    'Education & Learning',  # Covers workshops, educational events, book launches\n",
    "    'Sports & Fitness',      # Covers sports viewing, fitness challenges\n",
    "    'Arts & Culture',        # Covers art exhibits, photography, fashion, poetry, cultural celebrations\n",
    "    'Business & Networking', # Covers networking, industry roundtables, product launches\n",
    "    'Technology',            # Covers tech conferences, gaming tournaments\n",
    "    'Community & Causes',    # Covers charity fundraisers, community gatherings, farmers markets\n",
    "    'Health & Wellness',     # Covers wellness retreats, cooking workshops (health-focused)\n",
    "    'Entertainment',         # Covers comedy, trivia, karaoke, film screenings\n",
    "    'Seasonal & Festivals',  # Covers seasonal celebrations, street festivals, craft fairs\n",
    "    'Immersive Experiences'  # Covers immersive events that don't fit other categories\n",
    "]\n",
    "\n",
    "def get_user_interests(interactions_df):\n",
    "    \"\"\"\n",
    "    Get unique event categories for each user and determine their interests.\n",
    "    \n",
    "    Parameters:\n",
    "    - interactions_df: DataFrame containing user-event interactions with category information\n",
    "    \n",
    "    Returns:\n",
    "    - DataFrame with original data plus user_interests column\n",
    "    \"\"\"\n",
    "    # Create a copy of the dataframe to avoid modifying the original\n",
    "    df = interactions_df.copy()\n",
    "    \n",
    "    # Step 1: Group by user_id and collect unique categories\n",
    "    # Convert to strings first to avoid errors with lists\n",
    "    user_categories_dict = {}\n",
    "    \n",
    "    # Group by user_id and get unique categories\n",
    "    for user_id, group in df.groupby('user_id'):\n",
    "        # Get unique categories as a list\n",
    "        categories = group['category'].unique().tolist()\n",
    "        # Filter to only include categories from EVENT_CATEGORIES\n",
    "        interests = [cat for cat in categories if cat in EVENT_CATEGORIES]\n",
    "        # Store as a string representation for now\n",
    "        user_categories_dict[user_id] = json.dumps(interests)\n",
    "    \n",
    "    # Step 2: Add user_interests to the original dataframe\n",
    "    # Create a function to map user_id to interests\n",
    "    def get_interests(user_id):\n",
    "        interests_json = user_categories_dict.get(user_id, '[]')\n",
    "        return json.loads(interests_json)\n",
    "    \n",
    "    # Apply the function to create the user_interest column\n",
    "    df['user_interest_str'] = df['user_id'].apply(lambda x: user_categories_dict.get(x, '[]'))\n",
    "    df['user_interest'] = df['user_interest_str'].apply(json.loads)\n",
    "    \n",
    "    # Remove the intermediate string column if you don't need it\n",
    "    df = df.drop(columns=['user_interest_str'])\n",
    "    \n",
    "    return df\n",
    "\n",
    "def analyze_user_interests(df):\n",
    "    \"\"\"\n",
    "    Analyze and print statistics about user interests.\n",
    "    \n",
    "    Parameters:\n",
    "    - df: DataFrame with user_interest column\n",
    "    \"\"\"\n",
    "    # Count the number of unique users\n",
    "    unique_users = df['user_id'].nunique()\n",
    "    \n",
    "    # Create a temporary dataframe with user_id and a stringified version of interests\n",
    "    temp_df = df[['user_id', 'user_interest']].drop_duplicates('user_id')\n",
    "    \n",
    "    # Count users with interests\n",
    "    users_with_interests = sum(temp_df['user_interest'].apply(lambda x: len(x) > 0))\n",
    "    \n",
    "    # Calculate most common interests by flattening all interest lists\n",
    "    all_interests = []\n",
    "    for interests in temp_df['user_interest']:\n",
    "        all_interests.extend(interests)\n",
    "    \n",
    "    # Count occurrences of each interest\n",
    "    interest_counts = pd.Series(all_interests).value_counts()\n",
    "    \n",
    "    print(f\"Total unique users: {unique_users}\")\n",
    "    print(f\"Users with identified interests: {users_with_interests}\")\n",
    "    print(\"\\nMost common user interests:\")\n",
    "    print(interest_counts)\n",
    "    \n",
    "    return interest_counts\n",
    "\n",
    "def create_user_interests_summary(df):\n",
    "    \"\"\"\n",
    "    Create a summarized dataframe of user interests without list objects\n",
    "    \n",
    "    Parameters:\n",
    "    - df: DataFrame with user_interest column (containing lists)\n",
    "    \n",
    "    Returns:\n",
    "    - DataFrame with user_id and interest counts\n",
    "    \"\"\"\n",
    "    # Get unique users\n",
    "    user_df = df[['user_id', 'user_interest']].drop_duplicates('user_id')\n",
    "    \n",
    "    # Create summary statistics\n",
    "    summary_data = []\n",
    "    \n",
    "    for _, row in user_df.iterrows():\n",
    "        user_id = row['user_id']\n",
    "        interests = row['user_interest']\n",
    "        \n",
    "        # Create a row for the summary\n",
    "        user_summary = {\n",
    "            'user_id': user_id,\n",
    "            'num_interests': len(interests),\n",
    "            'interests_joined': ', '.join(interests)\n",
    "        }\n",
    "        \n",
    "        # Add individual interest flags\n",
    "        for category in EVENT_CATEGORIES:\n",
    "            user_summary[f'likes_{category.lower().replace(\" & \", \"_\").replace(\" \", \"_\")}'] = int(category in interests)\n",
    "        \n",
    "        summary_data.append(user_summary)\n",
    "    \n",
    "    return pd.DataFrame(summary_data)\n",
    "\n",
    "# if __name__ == \"__main__\":\n",
    "#     # Create and process the expanded sample data\n",
    "#     sample_df = create_expanded_sample()\n",
    "#     print(\"Sample User-Event Interactions:\")\n",
    "#     print(sample_df)\n",
    "    \n",
    "#     # Process the sample data\n",
    "#     enriched_df = get_user_interests(sample_df)\n",
    "    \n",
    "#     # Display the results - avoiding unique() operations on list columns\n",
    "#     print(\"\\nEnriched DataFrame with User Interests:\")\n",
    "#     for user_id in enriched_df['user_id'].unique():\n",
    "#         user_data = enriched_df[enriched_df['user_id'] == user_id].iloc[0]\n",
    "#         print(f\"User {user_id}: {user_data['user_interest']}\")\n",
    "    \n",
    "#     # Create a summarized view for analysis that avoids list objects\n",
    "#     user_summary = create_user_interests_summary(enriched_df)\n",
    "#     print(\"\\nUser Interests Summary (hashable format):\")\n",
    "#     print(user_summary)\n",
    "    \n",
    "#     # Analyze user interests using our safe method\n",
    "#     print(\"\\nUser Interest Analysis:\")\n",
    "#     interest_stats = analyze_user_interests(enriched_df)"
   ]
  }
 ],
 "metadata": {
  "kernelspec": {
   "display_name": "thesisenv",
   "language": "python",
   "name": "python3"
  },
  "language_info": {
   "codemirror_mode": {
    "name": "ipython",
    "version": 3
   },
   "file_extension": ".py",
   "mimetype": "text/x-python",
   "name": "python",
   "nbconvert_exporter": "python",
   "pygments_lexer": "ipython3",
   "version": "3.10.6"
  }
 },
 "nbformat": 4,
 "nbformat_minor": 2
}
