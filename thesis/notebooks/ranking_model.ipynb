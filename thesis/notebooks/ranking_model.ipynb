{
 "cells": [
  {
   "cell_type": "markdown",
   "metadata": {},
   "source": [
    "## <span style=\"color:#ff5f27\">👨🏻‍🏫 Train Ranking Model </span>\n",
    "\n",
    "In this notebook, we will train a ranking model using gradient boosted trees. "
   ]
  },
  {
   "cell_type": "code",
   "execution_count": 1,
   "metadata": {},
   "outputs": [],
   "source": [
    "import pandas as pd\n",
    "from catboost import CatBoostClassifier, Pool\n",
    "from sklearn.metrics import classification_report, precision_recall_fscore_support\n",
    "import joblib"
   ]
  },
  {
   "cell_type": "code",
   "execution_count": 2,
   "metadata": {},
   "outputs": [
    {
     "name": "stdout",
     "output_type": "stream",
     "text": [
      "2025-05-26 20:20:04,056 INFO: Initializing external client\n",
      "2025-05-26 20:20:04,062 INFO: Base URL: https://c.app.hopsworks.ai:443\n",
      "2025-05-26 20:20:05,529 INFO: Python Engine initialized.\n",
      "\n",
      "Logged in to project, explore it here https://c.app.hopsworks.ai:443/p/1220788\n"
     ]
    }
   ],
   "source": [
    "import hopsworks\n",
    "\n",
    "project = hopsworks.login()\n",
    "\n",
    "fs = project.get_feature_store()"
   ]
  },
  {
   "cell_type": "markdown",
   "metadata": {},
   "source": [
    "### get feature groups"
   ]
  },
  {
   "cell_type": "code",
   "execution_count": 23,
   "metadata": {},
   "outputs": [],
   "source": [
    "\n",
    "users_fg = fs.get_feature_group(\n",
    "    name=\"users\",\n",
    "    version=1\n",
    ")\n",
    "\n",
    "events_fg = fs.get_feature_group(\n",
    "    name=\"events\",\n",
    "    version=1\n",
    ")\n",
    "\n",
    "weather_rank_fg = fs.get_feature_group(\n",
    "    name=\"weather_ranking\",\n",
    "    version=1\n",
    ")\n",
    "\n",
    "no_weather_rank_fg = fs.get_feature_group(\n",
    "    name=\"no_weather_ranking\",\n",
    "    version=1\n",
    ")"
   ]
  },
  {
   "cell_type": "markdown",
   "metadata": {},
   "source": [
    "## <span style=\"color:#ff5f27\">⚙️ Feature View Creation </span>"
   ]
  },
  {
   "cell_type": "code",
   "execution_count": 24,
   "metadata": {},
   "outputs": [
    {
     "name": "stdout",
     "output_type": "stream",
     "text": [
      "Feature view created successfully, explore it at \n",
      "https://c.app.hopsworks.ai:443/p/1220788/fs/1208418/fv/users/version/1\n"
     ]
    },
    {
     "data": {
      "text/plain": [
       "<hsfs.feature_view.FeatureView at 0x7f2b440c0df0>"
      ]
     },
     "execution_count": 24,
     "metadata": {},
     "output_type": "execute_result"
    }
   ],
   "source": [
    "# Select features\n",
    "selected_features_customers = users_fg.select_all()\n",
    "\n",
    "fs.get_or_create_feature_view( \n",
    "    name='users',\n",
    "    query=selected_features_customers,\n",
    "    version=1,\n",
    ")"
   ]
  },
  {
   "cell_type": "code",
   "execution_count": 25,
   "metadata": {},
   "outputs": [
    {
     "name": "stdout",
     "output_type": "stream",
     "text": [
      "Feature view created successfully, explore it at \n",
      "https://c.app.hopsworks.ai:443/p/1220788/fs/1208418/fv/events/version/1\n"
     ]
    },
    {
     "data": {
      "text/plain": [
       "<hsfs.feature_view.FeatureView at 0x7f2b4561a3b0>"
      ]
     },
     "execution_count": 25,
     "metadata": {},
     "output_type": "execute_result"
    }
   ],
   "source": [
    "# Select features\n",
    "selected_features_articles = events_fg.select_all()\n",
    "\n",
    "fs.get_or_create_feature_view(\n",
    "    name='events',\n",
    "    query=selected_features_articles,\n",
    "    version=1,\n",
    ")"
   ]
  },
  {
   "cell_type": "code",
   "execution_count": 9,
   "metadata": {},
   "outputs": [],
   "source": [
    "NO_WEATHER_SELECTED_FEATURES =['interaction_distance_to_event', 'event_type', 'event_city',\n",
    "       'attendance_rate', 'event_indoor_capability', 'user_city', 'age',\n",
    "       'user_interests','interaction_label']\n",
    "\n",
    "WEATHER_SELECTED_FEATURES =['interaction_distance_to_event', 'event_type', 'event_city', \n",
    "       'weather_condition', 'temperature', 'attendance_rate',\n",
    "       'event_indoor_capability', 'user_city', 'indoor_outdoor_preference',\n",
    "       'age', 'user_interests','interaction_label']\n"
   ]
  },
  {
   "cell_type": "code",
   "execution_count": 30,
   "metadata": {},
   "outputs": [],
   "source": [
    "# Select weather features\n",
    "features_weather_ranking = weather_rank_fg.select(WEATHER_SELECTED_FEATURES)\n",
    "# Select no weather features\n",
    "features_no_weather_ranking = no_weather_rank_fg.select(NO_WEATHER_SELECTED_FEATURES)"
   ]
  },
  {
   "cell_type": "code",
   "execution_count": 32,
   "metadata": {},
   "outputs": [
    {
     "name": "stdout",
     "output_type": "stream",
     "text": [
      "Feature view created successfully, explore it at \n",
      "https://c.app.hopsworks.ai:443/p/1220788/fs/1208418/fv/weather_ranking/version/1\n",
      "Feature view created successfully, explore it at \n",
      "https://c.app.hopsworks.ai:443/p/1220788/fs/1208418/fv/no_weather_ranking/version/1\n"
     ]
    }
   ],
   "source": [
    "# Create feature view for weather ranking\n",
    "feature_view_ranking_weather = fs.get_or_create_feature_view(\n",
    "    name='weather_ranking',\n",
    "    query=features_weather_ranking,\n",
    "    labels=['interaction_label'],\n",
    "    version=1,\n",
    ")\n",
    "# Create feature view for no weather ranking\n",
    "feature_view_ranking_no_weather = fs.get_or_create_feature_view(\n",
    "    name='no_weather_ranking',\n",
    "    query=features_no_weather_ranking,\n",
    "    labels=[\"interaction_label\"],\n",
    "    version=1,\n",
    ")"
   ]
  },
  {
   "cell_type": "markdown",
   "metadata": {},
   "source": [
    "---"
   ]
  },
  {
   "cell_type": "markdown",
   "metadata": {},
   "source": [
    "---"
   ]
  },
  {
   "cell_type": "markdown",
   "metadata": {},
   "source": [
    "---"
   ]
  },
  {
   "cell_type": "markdown",
   "metadata": {},
   "source": [
    "---"
   ]
  },
  {
   "cell_type": "markdown",
   "metadata": {},
   "source": [
    "## <span style=\"color:#ff5f27\">🗄️ Train Data loading </span>"
   ]
  },
  {
   "cell_type": "code",
   "execution_count": 5,
   "metadata": {},
   "outputs": [],
   "source": [
    "# Get feature views weather ranking\n",
    "feature_view_ranking_weather = fs.get_feature_view(name='weather_ranking', version=1)\n"
   ]
  },
  {
   "cell_type": "code",
   "execution_count": 6,
   "metadata": {},
   "outputs": [],
   "source": [
    "# Get feature views no weather ranking\n",
    "feature_view_ranking_no_weather = fs.get_feature_view(name='no_weather_ranking', version=1)\n"
   ]
  },
  {
   "cell_type": "code",
   "execution_count": 7,
   "metadata": {},
   "outputs": [],
   "source": [
    "# NO_WEATHER_SELECTED_FEATURES =['interaction_distance_to_event', 'event_type', 'event_city',\n",
    "#        'attendance_rate', 'event_indoor_capability', 'user_city', 'age',\n",
    "#        'user_interests']\n",
    "\n",
    "# WEATHER_SELECTED_FEATURES =['interaction_distance_to_event', 'event_type', 'event_city', \n",
    "#        'weather_condition', 'temperature', 'attendance_rate',\n",
    "#        'event_indoor_capability', 'user_city', 'indoor_outdoor_preference',\n",
    "#        'age', 'user_interests']\n"
   ]
  },
  {
   "cell_type": "code",
   "execution_count": null,
   "metadata": {},
   "outputs": [],
   "source": [
    "# from sklearn.model_selection import train_test_split\n",
    "# users_df = pd.read_csv('/home/nkama/masters_thesis_project/thesis/notebooks/users.csv')\n",
    "# events_df = pd.read_csv(\"/home/nkama/masters_thesis_project/thesis/notebooks/events.csv\")\n",
    "# interactions_df = pd.read_csv('/home/nkama/masters_thesis_project/thesis/notebooks/interactions.csv')\n",
    "\n",
    "# merged_df = pd.merge(interactions_df, users_df, on='user_id')\n",
    "# merged_df = pd.merge(merged_df, events_df, on='event_id') \n",
    "\n",
    "\n",
    "# X_weather = merged_df[WEATHER_SELECTED_FEATURES]\n",
    "# y_weather = merged_df[\"interaction_label\"]\n",
    "\n",
    "# X_no_weather = merged_df[NO_WEATHER_SELECTED_FEATURES]\n",
    "# y_no_weather = merged_df[\"interaction_label\"]\n",
    "\n",
    "# # Split merged_df into train and test using train_test_split\n",
    "# weather_X_train, weather_X_val, weather_y_train, weather_y_val = train_test_split(X_weather,y_weather, test_size=0.2, random_state=42)\n",
    "# no_weather_X_train, no_weather_X_val, no_weather_y_train, no_weather_y_val = train_test_split(X_no_weather,y_no_weather, test_size=0.2, random_state=42)\n",
    "# X_weather.head()"
   ]
  },
  {
   "cell_type": "code",
   "execution_count": 11,
   "metadata": {},
   "outputs": [
    {
     "name": "stdout",
     "output_type": "stream",
     "text": [
      "Finished: Reading data from Hopsworks, using Hopsworks Feature Query Service (10.83s) \n",
      "2025-05-26 20:22:19,465 WARNING: VersionWarning: Incremented version to `2`.\n",
      "\n"
     ]
    }
   ],
   "source": [
    "# Get training and validation data directly from feature views for weather ranking\n",
    "weather_X_train, weather_X_val, weather_y_train, weather_y_val = \\\n",
    "    feature_view_ranking_weather.train_test_split(\n",
    "    test_size=0.1,\n",
    "    description='Weather ranking training dataset',\n",
    ")\n"
   ]
  },
  {
   "cell_type": "code",
   "execution_count": 12,
   "metadata": {},
   "outputs": [
    {
     "data": {
      "text/html": [
       "<div>\n",
       "<style scoped>\n",
       "    .dataframe tbody tr th:only-of-type {\n",
       "        vertical-align: middle;\n",
       "    }\n",
       "\n",
       "    .dataframe tbody tr th {\n",
       "        vertical-align: top;\n",
       "    }\n",
       "\n",
       "    .dataframe thead th {\n",
       "        text-align: right;\n",
       "    }\n",
       "</style>\n",
       "<table border=\"1\" class=\"dataframe\">\n",
       "  <thead>\n",
       "    <tr style=\"text-align: right;\">\n",
       "      <th></th>\n",
       "      <th>interaction_distance_to_event</th>\n",
       "      <th>event_type</th>\n",
       "      <th>event_city</th>\n",
       "      <th>weather_condition</th>\n",
       "      <th>temperature</th>\n",
       "      <th>attendance_rate</th>\n",
       "      <th>event_indoor_capability</th>\n",
       "      <th>user_city</th>\n",
       "      <th>indoor_outdoor_preference</th>\n",
       "      <th>age</th>\n",
       "      <th>user_interests</th>\n",
       "    </tr>\n",
       "  </thead>\n",
       "  <tbody>\n",
       "    <tr>\n",
       "      <th>0</th>\n",
       "      <td>16.008455</td>\n",
       "      <td>Music &amp; Concerts</td>\n",
       "      <td>Berlin</td>\n",
       "      <td>Snow</td>\n",
       "      <td>9.7</td>\n",
       "      <td>44.756877</td>\n",
       "      <td>False</td>\n",
       "      <td>Berlin</td>\n",
       "      <td>indoor</td>\n",
       "      <td>37</td>\n",
       "      <td>tech food fashion</td>\n",
       "    </tr>\n",
       "    <tr>\n",
       "      <th>1</th>\n",
       "      <td>26.486551</td>\n",
       "      <td>Education &amp; Learning</td>\n",
       "      <td>Dubai</td>\n",
       "      <td>Rain</td>\n",
       "      <td>30.3</td>\n",
       "      <td>9.121153</td>\n",
       "      <td>True</td>\n",
       "      <td>Dubai</td>\n",
       "      <td>indoor</td>\n",
       "      <td>31</td>\n",
       "      <td>fitness tech sports literature</td>\n",
       "    </tr>\n",
       "    <tr>\n",
       "      <th>2</th>\n",
       "      <td>56.109620</td>\n",
       "      <td>Arts &amp; Culture</td>\n",
       "      <td>Tokyo</td>\n",
       "      <td>Windy</td>\n",
       "      <td>20.4</td>\n",
       "      <td>8.316649</td>\n",
       "      <td>True</td>\n",
       "      <td>Tokyo</td>\n",
       "      <td>indoor</td>\n",
       "      <td>22</td>\n",
       "      <td>music sports cinema travel</td>\n",
       "    </tr>\n",
       "    <tr>\n",
       "      <th>3</th>\n",
       "      <td>54.041743</td>\n",
       "      <td>Community &amp; Causes</td>\n",
       "      <td>Mumbai</td>\n",
       "      <td>Clear</td>\n",
       "      <td>30.9</td>\n",
       "      <td>33.194238</td>\n",
       "      <td>False</td>\n",
       "      <td>Mumbai</td>\n",
       "      <td>any</td>\n",
       "      <td>46</td>\n",
       "      <td>literature fitness art</td>\n",
       "    </tr>\n",
       "    <tr>\n",
       "      <th>4</th>\n",
       "      <td>72.876835</td>\n",
       "      <td>Education &amp; Learning</td>\n",
       "      <td>Berlin</td>\n",
       "      <td>Clear</td>\n",
       "      <td>18.4</td>\n",
       "      <td>15.177108</td>\n",
       "      <td>True</td>\n",
       "      <td>Berlin</td>\n",
       "      <td>outdoor</td>\n",
       "      <td>39</td>\n",
       "      <td>sports music literature</td>\n",
       "    </tr>\n",
       "  </tbody>\n",
       "</table>\n",
       "</div>"
      ],
      "text/plain": [
       "   interaction_distance_to_event            event_type event_city  \\\n",
       "0                      16.008455      Music & Concerts     Berlin   \n",
       "1                      26.486551  Education & Learning      Dubai   \n",
       "2                      56.109620        Arts & Culture      Tokyo   \n",
       "3                      54.041743    Community & Causes     Mumbai   \n",
       "4                      72.876835  Education & Learning     Berlin   \n",
       "\n",
       "  weather_condition  temperature  attendance_rate  event_indoor_capability  \\\n",
       "0              Snow          9.7        44.756877                    False   \n",
       "1              Rain         30.3         9.121153                     True   \n",
       "2             Windy         20.4         8.316649                     True   \n",
       "3             Clear         30.9        33.194238                    False   \n",
       "4             Clear         18.4        15.177108                     True   \n",
       "\n",
       "  user_city indoor_outdoor_preference  age                  user_interests  \n",
       "0    Berlin                    indoor   37               tech food fashion  \n",
       "1     Dubai                    indoor   31  fitness tech sports literature  \n",
       "2     Tokyo                    indoor   22      music sports cinema travel  \n",
       "3    Mumbai                       any   46          literature fitness art  \n",
       "4    Berlin                   outdoor   39         sports music literature  "
      ]
     },
     "execution_count": 12,
     "metadata": {},
     "output_type": "execute_result"
    }
   ],
   "source": [
    "weather_X_train.head()"
   ]
  },
  {
   "cell_type": "code",
   "execution_count": 13,
   "metadata": {},
   "outputs": [
    {
     "name": "stdout",
     "output_type": "stream",
     "text": [
      "Finished: Reading data from Hopsworks, using Hopsworks Feature Query Service (9.21s) \n",
      "2025-05-26 20:22:42,588 WARNING: VersionWarning: Incremented version to `2`.\n",
      "\n"
     ]
    }
   ],
   "source": [
    "# Get training and validation data directly from feature views for no weather ranking\n",
    "no_weather_X_train, no_weather_X_val, no_weather_y_train, no_weather_y_val = \\\n",
    "    feature_view_ranking_no_weather.train_test_split(\n",
    "    test_size=0.1,\n",
    "    description='No-weather ranking training dataset',\n",
    ")\n"
   ]
  },
  {
   "cell_type": "code",
   "execution_count": 36,
   "metadata": {},
   "outputs": [
    {
     "data": {
      "text/plain": [
       "Index(['interaction_distance_to_event', 'event_type', 'event_city',\n",
       "       'weather_condition', 'temperature', 'attendance_rate',\n",
       "       'event_indoor_capability', 'user_city', 'indoor_outdoor_preference',\n",
       "       'age', 'user_interests'],\n",
       "      dtype='object')"
      ]
     },
     "execution_count": 36,
     "metadata": {},
     "output_type": "execute_result"
    }
   ],
   "source": [
    "weather_X_train.columns\n"
   ]
  },
  {
   "cell_type": "code",
   "execution_count": 2,
   "metadata": {},
   "outputs": [],
   "source": [
    "# import pandas as pd\n",
    "# users_df = pd.read_csv('/home/nkama/masters_thesis_project/thesis/partially_synthetic/data/main_data/users.csv')\n",
    "# events_df = pd.read_csv(\"/home/nkama/masters_thesis_project/thesis/partially_synthetic/data/main_data/events.csv\")\n",
    "# interactions_df = pd.read_csv('/home/nkama/masters_thesis_project/thesis/partially_synthetic/data/main_data/interactions.csv')\n",
    "\n",
    "\n",
    "\n",
    "# # Merge user/event features into interactions\n",
    "# interactions_df = interactions_df.merge(users_df, on=\"user_id\")\n",
    "# interactions_df = interactions_df.merge(events_df, on=\"event_id\", suffixes=('_user', '_event'))\n",
    "# from sklearn.model_selection import train_test_split\n",
    "\n",
    "# NO_WEATHER_SELECTED_FEATURES =['interaction_type',\n",
    "#        'distance_to_event', 'interaction_label',\n",
    "#         'gender', 'joinedAt', 'location', 'age',\n",
    "#       'indoor_outdoor_preference', 'user_interests', \n",
    "#        'start_time', 'city', 'yes_count',\n",
    "#        'maybe_count', 'invited_count', 'no_count', 'total_users', 'category', \n",
    "#        'title', 'event_type','event_indoor_capability']\n",
    "\n",
    "# WEATHER_SELECTED_FEATURES =['interaction_type',\n",
    "#        'distance_to_event', 'interaction_label',\n",
    "#         'gender', 'joinedAt', 'location', 'age',\n",
    "#       'indoor_outdoor_preference',\n",
    "#        'start_time', 'city', 'yes_count',\n",
    "#        'maybe_count', 'invited_count', 'no_count', 'total_users',\n",
    "#        'weather_description', 'category','event_type',\n",
    "#        'event_indoor_capability', 'temperature_2m_mean', 'precipitation_sum']\n",
    "\n",
    "# # )\n",
    "# # Splitting the dataset into features and labels\n",
    "# weather_X = interactions_df[WEATHER_SELECTED_FEATURES]  # Features\n",
    "# weather_y = interactions_df['interaction_label']   \n",
    "\n",
    "# no_weather_X = interactions_df[NO_WEATHER_SELECTED_FEATURES]  # Features\n",
    "# no_weather_y = interactions_df['interaction_label']                   # Labels\n",
    "\n",
    "# # Splitting the dataset into training and evaluation sets\n",
    "# weather_X_train, weather_X_val, weather_y_train, weather_y_val = \\\n",
    "#     train_test_split(weather_X, weather_y, test_size=0.2, random_state=42)\n",
    "\n",
    "# no_weather_X_train, no_weather_X_val, no_weather_y_train, no_weather_y_val = \\\n",
    "#     train_test_split(no_weather_X, no_weather_y, test_size=0.2, random_state=42)"
   ]
  },
  {
   "cell_type": "code",
   "execution_count": 16,
   "metadata": {},
   "outputs": [
    {
     "data": {
      "text/plain": [
       "'CatBoost training function excluding title and user_interests.'"
      ]
     },
     "execution_count": 16,
     "metadata": {},
     "output_type": "execute_result"
    }
   ],
   "source": [
    "from catboost import CatBoostClassifier, Pool\n",
    "from sklearn.metrics import classification_report, precision_recall_fscore_support\n",
    "from sklearn.metrics import confusion_matrix\n",
    "import numpy as np\n",
    "\n",
    "# Final version without text fields (title, user_interests)\n",
    "def train_catboost_without_text_fields(\n",
    "    train_df, val_df, train_y, val_y\n",
    "):\n",
    "    # Drop the text fields if present\n",
    "    text_columns = [\"title\", \"user_interests\"]\n",
    "    train_df = train_df.drop(columns=[col for col in text_columns if col in train_df.columns])\n",
    "    val_df = val_df.drop(columns=[col for col in text_columns if col in val_df.columns])\n",
    "\n",
    "    # Identify categorical features\n",
    "    cat_features = train_df.select_dtypes(include=[\"object\", \"bool\"]).columns.tolist()\n",
    "\n",
    "    # Create CatBoost Pools\n",
    "    train_pool = Pool(train_df, train_y, cat_features=cat_features)\n",
    "    val_pool = Pool(val_df, val_y, cat_features=cat_features)\n",
    "    # Calculate class weights\n",
    "    pos_weight = len(train_y[train_y == 0]) / len(train_y[train_y == 1])\n",
    "\n",
    "\n",
    "    # Train the model\n",
    "    model = CatBoostClassifier(\n",
    "        learning_rate=0.2,\n",
    "        iterations=100,\n",
    "        depth=10,\n",
    "        early_stopping_rounds=5,\n",
    "        use_best_model=True,\n",
    "        scale_pos_weight=None,  # Handle class imbalance\n",
    "        verbose=False\n",
    "    )\n",
    "\n",
    "\n",
    "    model.fit(train_pool, eval_set=val_pool)\n",
    "\n",
    "    # Evaluation\n",
    "    preds = model.predict(val_pool)\n",
    "    precision, recall, fscore, _ = precision_recall_fscore_support(val_y, preds, average=\"binary\")\n",
    "    print(\"\\nClassification Report:\")\n",
    "    print(classification_report(val_y, preds))\n",
    "\n",
    "    metrics = {\n",
    "        \"precision\": precision,\n",
    "        \"recall\": recall,\n",
    "        \"fscore\": fscore,\n",
    "    }\n",
    "    \n",
    "    preds = model.scores = model.predict_proba(val_pool)[:, 1] \n",
    "    print(\"Predicted Class Distribution:\", np.unique(preds, return_counts=True))\n",
    "\n",
    "    # print(\"\\nConfusion Matrix:\")\n",
    "    # print(confusion_matrix(val_y, preds))\n",
    "\n",
    "    return model, metrics, val_pool\n",
    "\n",
    "\"CatBoost training function excluding title and user_interests.\"\n"
   ]
  },
  {
   "cell_type": "code",
   "execution_count": 39,
   "metadata": {},
   "outputs": [
    {
     "data": {
      "text/plain": [
       "interaction_label\n",
       "1                    35423\n",
       "0                    14317\n",
       "Name: count, dtype: int64"
      ]
     },
     "execution_count": 39,
     "metadata": {},
     "output_type": "execute_result"
    }
   ],
   "source": [
    "weather_y_val.value_counts()"
   ]
  },
  {
   "cell_type": "code",
   "execution_count": 17,
   "metadata": {},
   "outputs": [
    {
     "name": "stdout",
     "output_type": "stream",
     "text": [
      "\n",
      "Classification Report:\n",
      "2025-05-26 20:23:16,528 WARNING: UndefinedMetricWarning: Precision and F-score are ill-defined and being set to 0.0 in labels with no predicted samples. Use `zero_division` parameter to control this behavior.\n",
      "\n",
      "2025-05-26 20:23:16,590 WARNING: UndefinedMetricWarning: Precision and F-score are ill-defined and being set to 0.0 in labels with no predicted samples. Use `zero_division` parameter to control this behavior.\n",
      "\n",
      "2025-05-26 20:23:16,641 WARNING: UndefinedMetricWarning: Precision and F-score are ill-defined and being set to 0.0 in labels with no predicted samples. Use `zero_division` parameter to control this behavior.\n",
      "\n",
      "              precision    recall  f1-score   support\n",
      "\n",
      "           0       0.00      0.00      0.00     14317\n",
      "           1       0.71      1.00      0.83     35423\n",
      "\n",
      "    accuracy                           0.71     49740\n",
      "   macro avg       0.36      0.50      0.42     49740\n",
      "weighted avg       0.51      0.71      0.59     49740\n",
      "\n",
      "Predicted Class Distribution: (array([0.5258563 , 0.54962   , 0.55283644, ..., 0.86054504, 0.86132002,\n",
      "       0.86326105]), array([1, 1, 1, ..., 1, 1, 1]))\n",
      "\n",
      "Models saved successfully!\n"
     ]
    }
   ],
   "source": [
    "# Use this function to train on your weather / no-weather datasets\n",
    "weather_model, weather_metrics, weather_val_pool = train_catboost_without_text_fields(\n",
    "    train_df=weather_X_train,\n",
    "    val_df=weather_X_val,\n",
    "    train_y=weather_y_train,\n",
    "    val_y=weather_y_val\n",
    ")\n",
    "\n",
    "#Save the models using Joblib\n",
    "joblib.dump(weather_model, '/home/nkama/masters_thesis_project/thesis/models/weather_ranking_model.pkl')\n",
    "print(\"\\nModels saved successfully!\")\n",
    "\n"
   ]
  },
  {
   "cell_type": "code",
   "execution_count": 18,
   "metadata": {},
   "outputs": [
    {
     "data": {
      "text/plain": [
       "{'interaction_distance_to_event': 78.81059182870735,\n",
       " 'temperature': 5.4812235988230995,\n",
       " 'attendance_rate': 5.267535880721474,\n",
       " 'age': 4.458258420067622,\n",
       " 'event_indoor_capability': 4.368699378748474,\n",
       " 'indoor_outdoor_preference': 1.6136908929319993,\n",
       " 'event_type': 0.0,\n",
       " 'event_city': 0.0,\n",
       " 'weather_condition': 0.0,\n",
       " 'user_city': 0.0}"
      ]
     },
     "execution_count": 18,
     "metadata": {},
     "output_type": "execute_result"
    }
   ],
   "source": [
    "feat_to_score = {\n",
    "    feature: score \n",
    "    for feature, score \n",
    "    in zip(\n",
    "        weather_X_train.columns, \n",
    "        weather_model.feature_importances_,\n",
    "    )\n",
    "}\n",
    "\n",
    "feat_to_score = dict(\n",
    "    sorted(\n",
    "        feat_to_score.items(),\n",
    "        key=lambda item: item[1],\n",
    "        reverse=True,\n",
    "    )\n",
    ")\n",
    "feat_to_score"
   ]
  },
  {
   "cell_type": "code",
   "execution_count": 19,
   "metadata": {},
   "outputs": [
    {
     "name": "stdout",
     "output_type": "stream",
     "text": [
      "\n",
      "Classification Report:\n",
      "2025-05-26 20:23:42,399 WARNING: UndefinedMetricWarning: Precision and F-score are ill-defined and being set to 0.0 in labels with no predicted samples. Use `zero_division` parameter to control this behavior.\n",
      "\n",
      "2025-05-26 20:23:42,475 WARNING: UndefinedMetricWarning: Precision and F-score are ill-defined and being set to 0.0 in labels with no predicted samples. Use `zero_division` parameter to control this behavior.\n",
      "\n",
      "2025-05-26 20:23:42,522 WARNING: UndefinedMetricWarning: Precision and F-score are ill-defined and being set to 0.0 in labels with no predicted samples. Use `zero_division` parameter to control this behavior.\n",
      "\n",
      "              precision    recall  f1-score   support\n",
      "\n",
      "           0       0.00      0.00      0.00     14202\n",
      "           1       0.71      1.00      0.83     35538\n",
      "\n",
      "    accuracy                           0.71     49740\n",
      "   macro avg       0.36      0.50      0.42     49740\n",
      "weighted avg       0.51      0.71      0.60     49740\n",
      "\n",
      "Predicted Class Distribution: (array([0.51115021, 0.51256214, 0.5154929 , ..., 0.8716947 , 0.87270808,\n",
      "       0.87581784]), array([1, 1, 1, ..., 1, 1, 1]))\n",
      "\n",
      "Models saved successfully!\n"
     ]
    }
   ],
   "source": [
    "\n",
    "# Use this function to train on your weather / no-weather datasets\n",
    "no_weather_model, no_weather_metrics, no_weather_val_pool = train_catboost_without_text_fields(\n",
    "    train_df=no_weather_X_train,\n",
    "    val_df=no_weather_X_val,\n",
    "    train_y=no_weather_y_train,\n",
    "    val_y=no_weather_y_val\n",
    ")\n",
    "\n",
    "joblib.dump(no_weather_model, '/home/nkama/masters_thesis_project/thesis/models/no_weather_ranking_model.pkl')\n",
    "print(\"\\nModels saved successfully!\")"
   ]
  },
  {
   "cell_type": "code",
   "execution_count": 20,
   "metadata": {},
   "outputs": [
    {
     "data": {
      "text/plain": [
       "{'interaction_distance_to_event': 81.09057497466972,\n",
       " 'attendance_rate': 6.350488537822829,\n",
       " 'age': 5.325933405187695,\n",
       " 'event_indoor_capability': 3.565567447048702,\n",
       " 'user_city': 3.2533100172012923,\n",
       " 'event_type': 0.25709789201841254,\n",
       " 'event_city': 0.15702772605133564}"
      ]
     },
     "execution_count": 20,
     "metadata": {},
     "output_type": "execute_result"
    }
   ],
   "source": [
    "\n",
    "feat_to_score = {\n",
    "    feature: score \n",
    "    for feature, score \n",
    "    in zip(\n",
    "        no_weather_X_train.columns, \n",
    "        no_weather_model.feature_importances_,\n",
    "    )\n",
    "}\n",
    "\n",
    "feat_to_score = dict(\n",
    "    sorted(\n",
    "        feat_to_score.items(),\n",
    "        key=lambda item: item[1],\n",
    "        reverse=True,\n",
    "    )\n",
    ")\n",
    "feat_to_score"
   ]
  },
  {
   "cell_type": "code",
   "execution_count": 8,
   "metadata": {},
   "outputs": [
    {
     "data": {
      "text/plain": [
       "'✅ Evaluation function ready: scores ranking model using AUC, MAP, Precision@K, Recall@K, and NDCG@K.'"
      ]
     },
     "execution_count": 8,
     "metadata": {},
     "output_type": "execute_result"
    }
   ],
   "source": [
    "# from sklearn.metrics import roc_auc_score, average_precision_score, ndcg_score, precision_score, recall_score\n",
    "# import numpy as np\n",
    "\n",
    "\n",
    "# def evaluate_ranking_model_proba(model, val_pool, val_y, k_list=[5, 10]):\n",
    "#     \"\"\"\n",
    "#     Evaluate a CatBoost ranking model using predicted probabilities, not binary class outputs.\n",
    "#     \"\"\"\n",
    "\n",
    "#     # Predict class probabilities (not class labels)\n",
    "#     proba = model.predict_proba(val_pool)[:, 1]  # Probability for class 1\n",
    "\n",
    "#     results = {\n",
    "#         \"AUC\": roc_auc_score(val_y, proba),\n",
    "#         \"Average Precision (MAP)\": average_precision_score(val_y, proba),\n",
    "#     }\n",
    "\n",
    "#     # Convert to numpy arrays\n",
    "#     true_labels = np.array(val_y)\n",
    "#     predicted_scores = np.array(proba)\n",
    "\n",
    "#     # Sort by predicted score\n",
    "#     sorted_indices = np.argsort(predicted_scores)[::-1]\n",
    "#     sorted_true = true_labels[sorted_indices]\n",
    "\n",
    "#     for k in k_list:\n",
    "#         top_k = sorted_true[:k]\n",
    "#         precision_at_k = np.mean(top_k)\n",
    "#         recall_at_k = np.sum(top_k) / np.sum(true_labels)\n",
    "#         ndcg_at_k = ndcg_score(\n",
    "#             y_true=true_labels.reshape(1, -1),\n",
    "#             y_score=predicted_scores.reshape(1, -1),\n",
    "#             k=k\n",
    "#         )\n",
    "\n",
    "\n",
    "\n",
    "#         results[f\"Precision@{k}\"] = precision_at_k\n",
    "#         results[f\"Recall@{k}\"] = recall_at_k\n",
    "#         results[f\"NDCG@{k}\"] = ndcg_at_k\n",
    "\n",
    "#     return results\n",
    "\n",
    "# \"✅ Evaluation function ready: scores ranking model using AUC, MAP, Precision@K, Recall@K, and NDCG@K.\"\n"
   ]
  },
  {
   "cell_type": "code",
   "execution_count": null,
   "metadata": {},
   "outputs": [],
   "source": [
    "\n",
    "# # Evaluate weather-aware model\n",
    "# weather_scores = evaluate_ranking_model_proba(\n",
    "#     model=weather_model,\n",
    "#     val_pool=weather_val_pool,\n",
    "#     val_y=weather_y_val\n",
    "# )\n",
    "\n",
    "# # Evaluate no-weather model\n",
    "# no_weather_scores = evaluate_ranking_model_proba(\n",
    "#     model=no_weather_model,\n",
    "#     val_pool=no_weather_val_pool,\n",
    "#     val_y=no_weather_y_val\n",
    "# )\n",
    "\n",
    "# # Compare results\n",
    "# print(\"Weather Model Scores:\")\n",
    "# for k, v in weather_scores.items():\n",
    "#     print(f\"{k}: {v:.4f}\")\n",
    "\n",
    "# print(\"\\nNo-Weather Model Scores:\")\n",
    "# for k, v in no_weather_scores.items():\n",
    "#     print(f\"{k}: {v:.4f}\")\n"
   ]
  },
  {
   "cell_type": "code",
   "execution_count": 3,
   "metadata": {},
   "outputs": [],
   "source": [
    "# Connect to Hopsworks Model Registry\n",
    "mr = project.get_model_registry()"
   ]
  },
  {
   "cell_type": "code",
   "execution_count": 21,
   "metadata": {},
   "outputs": [
    {
     "data": {
      "application/vnd.jupyter.widget-view+json": {
       "model_id": "4b2706edac604dd19e93bd10b9bc5cff",
       "version_major": 2,
       "version_minor": 0
      },
      "text/plain": [
       "  0%|          | 0/6 [00:00<?, ?it/s]"
      ]
     },
     "metadata": {},
     "output_type": "display_data"
    },
    {
     "data": {
      "application/vnd.jupyter.widget-view+json": {
       "model_id": "9a4829ef843a465a9f4ddd99f36a5e2d",
       "version_major": 2,
       "version_minor": 0
      },
      "text/plain": [
       "Uploading /home/nkama/masters_thesis_project/thesis/models/weather_ranking_model.pkl: 0.000%|          | 0/674…"
      ]
     },
     "metadata": {},
     "output_type": "display_data"
    },
    {
     "data": {
      "application/vnd.jupyter.widget-view+json": {
       "model_id": "3bdd6940af7245d48a338737c6229ac9",
       "version_major": 2,
       "version_minor": 0
      },
      "text/plain": [
       "Uploading /home/nkama/masters_thesis_project/thesis/notebooks/input_example.json: 0.000%|          | 0/354 ela…"
      ]
     },
     "metadata": {},
     "output_type": "display_data"
    },
    {
     "data": {
      "application/vnd.jupyter.widget-view+json": {
       "model_id": "72049792ba5147c9a45dd0bfe601c9e0",
       "version_major": 2,
       "version_minor": 0
      },
      "text/plain": [
       "Uploading /home/nkama/masters_thesis_project/thesis/notebooks/model_schema.json: 0.000%|          | 0/1039 ela…"
      ]
     },
     "metadata": {},
     "output_type": "display_data"
    },
    {
     "name": "stdout",
     "output_type": "stream",
     "text": [
      "Model created, explore it at https://c.app.hopsworks.ai:443/p/1220788/models/weather_ranking_model/2\n"
     ]
    },
    {
     "data": {
      "text/plain": [
       "Model(name: 'weather_ranking_model', version: 2)"
      ]
     },
     "execution_count": 21,
     "metadata": {},
     "output_type": "execute_result"
    }
   ],
   "source": [
    "from hsml.schema import Schema\n",
    "from hsml.model_schema import ModelSchema\n",
    "\n",
    "# Create model schema for weather ranking model\n",
    "input_example = weather_X_train.sample().to_dict(\"records\")\n",
    "input_schema = Schema(weather_X_train)\n",
    "output_schema = Schema(weather_y_train)\n",
    "model_schema = ModelSchema(input_schema, output_schema)\n",
    "\n",
    "weather_ranking_model = mr.python.create_model(\n",
    "    name=\"weather_ranking_model\", \n",
    "    metrics=weather_metrics,\n",
    "    model_schema=model_schema,\n",
    "    input_example=input_example,\n",
    "    description=\"Ranking model that scores item candidates\",\n",
    ")\n",
    "weather_ranking_model.save(\"/home/nkama/masters_thesis_project/thesis/models/weather_ranking_model.pkl\")"
   ]
  },
  {
   "cell_type": "code",
   "execution_count": 22,
   "metadata": {},
   "outputs": [
    {
     "data": {
      "application/vnd.jupyter.widget-view+json": {
       "model_id": "c2152848635948cd8b99bf27a80bc840",
       "version_major": 2,
       "version_minor": 0
      },
      "text/plain": [
       "  0%|          | 0/6 [00:00<?, ?it/s]"
      ]
     },
     "metadata": {},
     "output_type": "display_data"
    },
    {
     "data": {
      "application/vnd.jupyter.widget-view+json": {
       "model_id": "4e1a7911e1ed462c934636d37a94bab8",
       "version_major": 2,
       "version_minor": 0
      },
      "text/plain": [
       "Uploading /home/nkama/masters_thesis_project/thesis/models/no_weather_ranking_model.pkl: 0.000%|          | 0/…"
      ]
     },
     "metadata": {},
     "output_type": "display_data"
    },
    {
     "data": {
      "application/vnd.jupyter.widget-view+json": {
       "model_id": "ec28e8aa9e614509bbd8aab67b47e7c0",
       "version_major": 2,
       "version_minor": 0
      },
      "text/plain": [
       "Uploading /home/nkama/masters_thesis_project/thesis/notebooks/input_example.json: 0.000%|          | 0/249 ela…"
      ]
     },
     "metadata": {},
     "output_type": "display_data"
    },
    {
     "data": {
      "application/vnd.jupyter.widget-view+json": {
       "model_id": "39e235bcb1d746c58f8ee2910c708e0e",
       "version_major": 2,
       "version_minor": 0
      },
      "text/plain": [
       "Uploading /home/nkama/masters_thesis_project/thesis/notebooks/model_schema.json: 0.000%|          | 0/799 elap…"
      ]
     },
     "metadata": {},
     "output_type": "display_data"
    },
    {
     "name": "stdout",
     "output_type": "stream",
     "text": [
      "Model created, explore it at https://c.app.hopsworks.ai:443/p/1220788/models/no_weather_ranking_model/2\n"
     ]
    },
    {
     "data": {
      "text/plain": [
       "Model(name: 'no_weather_ranking_model', version: 2)"
      ]
     },
     "execution_count": 22,
     "metadata": {},
     "output_type": "execute_result"
    }
   ],
   "source": [
    "# Create model schema for no weather ranking model  \n",
    "input_example = no_weather_X_train.sample().to_dict(\"records\")\n",
    "input_schema = Schema(no_weather_X_train)\n",
    "output_schema = Schema(no_weather_y_train)\n",
    "model_schema = ModelSchema(input_schema, output_schema)\n",
    "\n",
    "no_weather_ranking_model = mr.python.create_model(\n",
    "    name=\"no_weather_ranking_model\", \n",
    "    metrics=no_weather_metrics,\n",
    "    model_schema=model_schema,\n",
    "    input_example=input_example,\n",
    "    description=\"Ranking model that scores item candidates\",\n",
    ")\n",
    "no_weather_ranking_model.save(\"/home/nkama/masters_thesis_project/thesis/models/no_weather_ranking_model.pkl\")"
   ]
  },
  {
   "cell_type": "code",
   "execution_count": null,
   "metadata": {},
   "outputs": [],
   "source": []
  },
  {
   "cell_type": "code",
   "execution_count": null,
   "metadata": {},
   "outputs": [],
   "source": []
  }
 ],
 "metadata": {
  "kernelspec": {
   "display_name": "thesisenv",
   "language": "python",
   "name": "python3"
  },
  "language_info": {
   "codemirror_mode": {
    "name": "ipython",
    "version": 3
   },
   "file_extension": ".py",
   "mimetype": "text/x-python",
   "name": "python",
   "nbconvert_exporter": "python",
   "pygments_lexer": "ipython3",
   "version": "3.10.6"
  }
 },
 "nbformat": 4,
 "nbformat_minor": 2
}
