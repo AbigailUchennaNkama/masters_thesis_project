{
 "cells": [
  {
   "cell_type": "markdown",
   "metadata": {},
   "source": [
    "## <span style=\"color:#ff5f27\">👨🏻‍🏫 Train Ranking Model </span>\n",
    "\n",
    "In this notebook, we will train a ranking model using gradient boosted trees. "
   ]
  },
  {
   "cell_type": "code",
   "execution_count": 3,
   "metadata": {},
   "outputs": [],
   "source": [
    "import pandas as pd\n",
    "from catboost import CatBoostClassifier, Pool\n",
    "from sklearn.metrics import classification_report, precision_recall_fscore_support\n",
    "import joblib"
   ]
  },
  {
   "cell_type": "code",
   "execution_count": 4,
   "metadata": {},
   "outputs": [
    {
     "name": "stdout",
     "output_type": "stream",
     "text": [
      "2025-05-31 19:39:32,159 INFO: Initializing external client\n",
      "2025-05-31 19:39:32,162 INFO: Base URL: https://c.app.hopsworks.ai:443\n",
      "2025-05-31 19:39:33,949 INFO: Python Engine initialized.\n",
      "\n",
      "Logged in to project, explore it here https://c.app.hopsworks.ai:443/p/1220788\n"
     ]
    }
   ],
   "source": [
    "import hopsworks\n",
    "\n",
    "project = hopsworks.login()\n",
    "\n",
    "fs = project.get_feature_store()"
   ]
  },
  {
   "cell_type": "markdown",
   "metadata": {},
   "source": [
    "### get feature groups"
   ]
  },
  {
   "cell_type": "code",
   "execution_count": 3,
   "metadata": {},
   "outputs": [],
   "source": [
    "\n",
    "users_fg = fs.get_feature_group(\n",
    "    name=\"users\",\n",
    "    version=1\n",
    ")\n",
    "\n",
    "events_fg = fs.get_feature_group(\n",
    "    name=\"events\",\n",
    "    version=1\n",
    ")\n",
    "\n",
    "weather_rank_fg = fs.get_feature_group(\n",
    "    name=\"weather_ranking\",\n",
    "    version=1\n",
    ")\n",
    "\n",
    "no_weather_rank_fg = fs.get_feature_group(\n",
    "    name=\"no_weather_ranking\",\n",
    "    version=1\n",
    ")"
   ]
  },
  {
   "cell_type": "markdown",
   "metadata": {},
   "source": [
    "## <span style=\"color:#ff5f27\">⚙️ Feature View Creation </span>"
   ]
  },
  {
   "cell_type": "code",
   "execution_count": 38,
   "metadata": {},
   "outputs": [
    {
     "data": {
      "text/plain": [
       "<hsfs.feature_view.FeatureView at 0x7fd3a81830d0>"
      ]
     },
     "execution_count": 38,
     "metadata": {},
     "output_type": "execute_result"
    }
   ],
   "source": [
    "# Select features\n",
    "selected_features_customers = users_fg.select_all()\n",
    "\n",
    "fs.get_or_create_feature_view( \n",
    "    name='users',\n",
    "    query=selected_features_customers,\n",
    "    version=1,\n",
    ")"
   ]
  },
  {
   "cell_type": "code",
   "execution_count": 39,
   "metadata": {},
   "outputs": [
    {
     "data": {
      "text/plain": [
       "<hsfs.feature_view.FeatureView at 0x7fd3a876ab30>"
      ]
     },
     "execution_count": 39,
     "metadata": {},
     "output_type": "execute_result"
    }
   ],
   "source": [
    "# Select features\n",
    "selected_features_articles = events_fg.select_all()\n",
    "\n",
    "fs.get_or_create_feature_view(\n",
    "    name='events',\n",
    "    query=selected_features_articles,\n",
    "    version=1,\n",
    ")"
   ]
  },
  {
   "cell_type": "code",
   "execution_count": 5,
   "metadata": {},
   "outputs": [],
   "source": [
    "NO_WEATHER_SELECTED_FEATURES =['interaction_distance_to_event', 'event_type', 'event_city','title',\n",
    "       'attendance_rate', 'event_indoor_capability', 'user_city', 'age',\n",
    "       'user_interests','interaction_label']\n",
    "\n",
    "WEATHER_SELECTED_FEATURES =['interaction_distance_to_event', 'event_type', 'event_city','title', \n",
    "       'weather_condition', 'temperature','precipitation', 'attendance_rate',\n",
    "       'event_indoor_capability', 'user_city', 'indoor_outdoor_preference',\n",
    "       'age', 'user_interests','user_weather_condition', 'user_temperature',\t'user_precipitation','interaction_label']\n"
   ]
  },
  {
   "cell_type": "code",
   "execution_count": null,
   "metadata": {},
   "outputs": [],
   "source": []
  },
  {
   "cell_type": "code",
   "execution_count": 40,
   "metadata": {},
   "outputs": [],
   "source": [
    "# Select weather features\n",
    "features_weather_ranking = weather_rank_fg.select(WEATHER_SELECTED_FEATURES)\n",
    "# Select no weather features\n",
    "features_no_weather_ranking = no_weather_rank_fg.select(NO_WEATHER_SELECTED_FEATURES)"
   ]
  },
  {
   "cell_type": "code",
   "execution_count": 41,
   "metadata": {},
   "outputs": [
    {
     "name": "stdout",
     "output_type": "stream",
     "text": [
      "Feature view created successfully, explore it at \n",
      "https://c.app.hopsworks.ai:443/p/1220788/fs/1208418/fv/weather_ranking_2/version/1\n",
      "Feature view created successfully, explore it at \n",
      "https://c.app.hopsworks.ai:443/p/1220788/fs/1208418/fv/no_weather_ranking_2/version/1\n"
     ]
    }
   ],
   "source": [
    "# Create feature view for weather ranking\n",
    "feature_view_ranking_weather = fs.get_or_create_feature_view(\n",
    "    name='weather_ranking_2',\n",
    "    query=features_weather_ranking,\n",
    "    labels=['interaction_label'],\n",
    "    version=1,\n",
    ")\n",
    "# Create feature view for no weather ranking\n",
    "feature_view_ranking_no_weather = fs.get_or_create_feature_view(\n",
    "    name='no_weather_ranking_2',\n",
    "    query=features_no_weather_ranking,\n",
    "    labels=[\"interaction_label\"],\n",
    "    version=1,\n",
    ")"
   ]
  },
  {
   "cell_type": "markdown",
   "metadata": {},
   "source": [
    "---"
   ]
  },
  {
   "cell_type": "markdown",
   "metadata": {},
   "source": [
    "---"
   ]
  },
  {
   "cell_type": "markdown",
   "metadata": {},
   "source": [
    "---"
   ]
  },
  {
   "cell_type": "markdown",
   "metadata": {},
   "source": [
    "---"
   ]
  },
  {
   "cell_type": "markdown",
   "metadata": {},
   "source": [
    "## <span style=\"color:#ff5f27\">🗄️ Train Data loading </span>"
   ]
  },
  {
   "cell_type": "code",
   "execution_count": 6,
   "metadata": {},
   "outputs": [],
   "source": [
    "# Get feature views weather ranking\n",
    "feature_view_ranking_weather = fs.get_feature_view(name='weather_ranking_2', version=1)\n"
   ]
  },
  {
   "cell_type": "code",
   "execution_count": 7,
   "metadata": {},
   "outputs": [],
   "source": [
    "# Get feature views no weather ranking\n",
    "feature_view_ranking_no_weather = fs.get_feature_view(name='no_weather_ranking_2', version=1)\n"
   ]
  },
  {
   "cell_type": "code",
   "execution_count": 7,
   "metadata": {},
   "outputs": [],
   "source": [
    "# NO_WEATHER_SELECTED_FEATURES =['interaction_distance_to_event', 'event_type', 'event_city',\n",
    "#        'attendance_rate', 'event_indoor_capability', 'user_city', 'age',\n",
    "#        'user_interests']\n",
    "\n",
    "# WEATHER_SELECTED_FEATURES =['interaction_distance_to_event', 'event_type', 'event_city', \n",
    "#        'weather_condition', 'temperature', 'attendance_rate',\n",
    "#        'event_indoor_capability', 'user_city', 'indoor_outdoor_preference',\n",
    "#        'age', 'user_interests']\n"
   ]
  },
  {
   "cell_type": "code",
   "execution_count": null,
   "metadata": {},
   "outputs": [],
   "source": [
    "# from sklearn.model_selection import train_test_split\n",
    "# users_df = pd.read_csv('/home/nkama/masters_thesis_project/thesis/notebooks/users.csv')\n",
    "# events_df = pd.read_csv(\"/home/nkama/masters_thesis_project/thesis/notebooks/events.csv\")\n",
    "# interactions_df = pd.read_csv('/home/nkama/masters_thesis_project/thesis/notebooks/interactions.csv')\n",
    "\n",
    "# merged_df = pd.merge(interactions_df, users_df, on='user_id')\n",
    "# merged_df = pd.merge(merged_df, events_df, on='event_id') \n",
    "\n",
    "\n",
    "# X_weather = merged_df[WEATHER_SELECTED_FEATURES]\n",
    "# y_weather = merged_df[\"interaction_label\"]\n",
    "\n",
    "# X_no_weather = merged_df[NO_WEATHER_SELECTED_FEATURES]\n",
    "# y_no_weather = merged_df[\"interaction_label\"]\n",
    "\n",
    "# # Split merged_df into train and test using train_test_split\n",
    "# weather_X_train, weather_X_val, weather_y_train, weather_y_val = train_test_split(X_weather,y_weather, test_size=0.2, random_state=42)\n",
    "# no_weather_X_train, no_weather_X_val, no_weather_y_train, no_weather_y_val = train_test_split(X_no_weather,y_no_weather, test_size=0.2, random_state=42)\n",
    "# X_weather.head()"
   ]
  },
  {
   "cell_type": "code",
   "execution_count": 8,
   "metadata": {},
   "outputs": [
    {
     "name": "stdout",
     "output_type": "stream",
     "text": [
      "Finished: Reading data from Hopsworks, using Hopsworks Feature Query Service (22.92s) \n",
      "2025-05-31 19:40:20,687 WARNING: VersionWarning: Incremented version to `4`.\n",
      "\n"
     ]
    }
   ],
   "source": [
    "# Get training and validation data directly from feature views for weather ranking\n",
    "weather_X_train, weather_X_val, weather_y_train, weather_y_val = \\\n",
    "    feature_view_ranking_weather.train_test_split(\n",
    "    test_size=0.1,\n",
    "    description='Weather ranking training dataset',\n",
    ")\n"
   ]
  },
  {
   "cell_type": "code",
   "execution_count": 9,
   "metadata": {},
   "outputs": [
    {
     "name": "stdout",
     "output_type": "stream",
     "text": [
      "Finished: Reading data from Hopsworks, using Hopsworks Feature Query Service (15.61s) \n",
      "2025-05-31 19:40:43,426 WARNING: VersionWarning: Incremented version to `4`.\n",
      "\n"
     ]
    }
   ],
   "source": [
    "\n",
    "# Get training and validation data directly from feature views for no weather ranking\n",
    "no_weather_X_train, no_weather_X_val, no_weather_y_train, no_weather_y_val = \\\n",
    "    feature_view_ranking_no_weather.train_test_split(\n",
    "    test_size=0.1,\n",
    "    description='No-weather ranking training dataset',\n",
    ")\n"
   ]
  },
  {
   "cell_type": "code",
   "execution_count": 18,
   "metadata": {},
   "outputs": [
    {
     "data": {
      "text/plain": [
       "Index(['interaction_distance_to_event', 'event_type', 'event_city',\n",
       "       'weather_condition', 'temperature', 'precipitation', 'attendance_rate',\n",
       "       'event_indoor_capability', 'user_city', 'indoor_outdoor_preference',\n",
       "       'age', 'user_interests', 'user_weather_condition', 'user_temperature',\n",
       "       'user_precipitation'],\n",
       "      dtype='object')"
      ]
     },
     "execution_count": 18,
     "metadata": {},
     "output_type": "execute_result"
    }
   ],
   "source": [
    "weather_X_train.columns\n"
   ]
  },
  {
   "cell_type": "code",
   "execution_count": 2,
   "metadata": {},
   "outputs": [],
   "source": [
    "# import pandas as pd\n",
    "# users_df = pd.read_csv('/home/nkama/masters_thesis_project/thesis/partially_synthetic/data/main_data/users.csv')\n",
    "# events_df = pd.read_csv(\"/home/nkama/masters_thesis_project/thesis/partially_synthetic/data/main_data/events.csv\")\n",
    "# interactions_df = pd.read_csv('/home/nkama/masters_thesis_project/thesis/partially_synthetic/data/main_data/interactions.csv')\n",
    "\n",
    "\n",
    "\n",
    "# # Merge user/event features into interactions\n",
    "# interactions_df = interactions_df.merge(users_df, on=\"user_id\")\n",
    "# interactions_df = interactions_df.merge(events_df, on=\"event_id\", suffixes=('_user', '_event'))\n",
    "# from sklearn.model_selection import train_test_split\n",
    "\n",
    "# NO_WEATHER_SELECTED_FEATURES =['interaction_type',\n",
    "#        'distance_to_event', 'interaction_label',\n",
    "#         'gender', 'joinedAt', 'location', 'age',\n",
    "#       'indoor_outdoor_preference', 'user_interests', \n",
    "#        'start_time', 'city', 'yes_count',\n",
    "#        'maybe_count', 'invited_count', 'no_count', 'total_users', 'category', \n",
    "#        'title', 'event_type','event_indoor_capability']\n",
    "\n",
    "# WEATHER_SELECTED_FEATURES =['interaction_type',\n",
    "#        'distance_to_event', 'interaction_label',\n",
    "#         'gender', 'joinedAt', 'location', 'age',\n",
    "#       'indoor_outdoor_preference',\n",
    "#        'start_time', 'city', 'yes_count',\n",
    "#        'maybe_count', 'invited_count', 'no_count', 'total_users',\n",
    "#        'weather_description', 'category','event_type',\n",
    "#        'event_indoor_capability', 'temperature_2m_mean', 'precipitation_sum']\n",
    "\n",
    "# # )\n",
    "# # Splitting the dataset into features and labels\n",
    "# weather_X = interactions_df[WEATHER_SELECTED_FEATURES]  # Features\n",
    "# weather_y = interactions_df['interaction_label']   \n",
    "\n",
    "# no_weather_X = interactions_df[NO_WEATHER_SELECTED_FEATURES]  # Features\n",
    "# no_weather_y = interactions_df['interaction_label']                   # Labels\n",
    "\n",
    "# # Splitting the dataset into training and evaluation sets\n",
    "# weather_X_train, weather_X_val, weather_y_train, weather_y_val = \\\n",
    "#     train_test_split(weather_X, weather_y, test_size=0.2, random_state=42)\n",
    "\n",
    "# no_weather_X_train, no_weather_X_val, no_weather_y_train, no_weather_y_val = \\\n",
    "#     train_test_split(no_weather_X, no_weather_y, test_size=0.2, random_state=42)"
   ]
  },
  {
   "cell_type": "code",
   "execution_count": 63,
   "metadata": {},
   "outputs": [
    {
     "data": {
      "text/plain": [
       "'CatBoost training function excluding title and user_interests.'"
      ]
     },
     "execution_count": 63,
     "metadata": {},
     "output_type": "execute_result"
    }
   ],
   "source": [
    "# from catboost import CatBoostClassifier, Pool\n",
    "# from sklearn.metrics import classification_report, precision_recall_fscore_support\n",
    "# from sklearn.metrics import confusion_matrix\n",
    "# import numpy as np\n",
    "\n",
    "# # Final version without text fields (title, user_interests)\n",
    "# def train_catboost_without_text_fields(\n",
    "#     train_df, val_df, train_y, val_y\n",
    "# ):\n",
    "#     # Drop the text fields if present\n",
    "#     text_columns = [\"title\", \"user_interests\"]\n",
    "#     train_df = train_df.drop(columns=[col for col in text_columns if col in train_df.columns])\n",
    "#     val_df = val_df.drop(columns=[col for col in text_columns if col in val_df.columns])\n",
    "\n",
    "#     # Identify categorical features\n",
    "#     cat_features = train_df.select_dtypes(include=[\"object\", \"bool\"]).columns.tolist()\n",
    "\n",
    "#     # Create CatBoost Pools\n",
    "#     train_pool = Pool(train_df, train_y, cat_features=cat_features)\n",
    "#     val_pool = Pool(val_df, val_y, cat_features=cat_features)\n",
    "#     # Calculate class weights\n",
    "#     pos_weight = len(train_y[train_y == 0]) / len(train_y[train_y == 1])\n",
    "\n",
    "\n",
    "#     # Train the model\n",
    "#     model = CatBoostClassifier(\n",
    "#         learning_rate=0.2,\n",
    "#         iterations=100,\n",
    "#         depth=10,\n",
    "#         early_stopping_rounds=5,\n",
    "#         use_best_model=True,\n",
    "#         scale_pos_weight=10,\n",
    "#         verbose=False\n",
    "#     )\n",
    "\n",
    "\n",
    "#     model.fit(train_pool, eval_set=val_pool)\n",
    "\n",
    "#     # Evaluation\n",
    "#     preds = model.predict(val_pool)\n",
    "#     precision, recall, fscore, _ = precision_recall_fscore_support(val_y, preds, average=\"binary\")\n",
    "#     print(\"\\nClassification Report:\")\n",
    "#     print(classification_report(val_y, preds))\n",
    "\n",
    "#     metrics = {\n",
    "#         \"precision\": precision,\n",
    "#         \"recall\": recall,\n",
    "#         \"fscore\": fscore,\n",
    "#     }\n",
    "    \n",
    "#     preds = model.scores = model.predict_proba(val_pool)[:, 1] \n",
    "#     print(\"Predicted Class Distribution:\", np.unique(preds, return_counts=True))\n",
    "\n",
    "#     # print(\"\\nConfusion Matrix:\")\n",
    "#     # print(confusion_matrix(val_y, preds))\n",
    "\n",
    "#     return model, metrics, val_pool\n",
    "\n",
    "# \"CatBoost training function excluding title and user_interests.\"\n"
   ]
  },
  {
   "cell_type": "code",
   "execution_count": 10,
   "metadata": {},
   "outputs": [],
   "source": [
    "from catboost import CatBoostClassifier, Pool\n",
    "from sklearn.metrics import classification_report, precision_recall_fscore_support\n",
    "import numpy as np\n",
    "\n",
    "# Final version including text fields (title, user_interests)\n",
    "def train_catboost(\n",
    "    train_df, val_df, train_y, val_y\n",
    "):\n",
    "    # Identify categorical features, including text fields\n",
    "    cat_features = train_df.select_dtypes(include=[\"object\", \"bool\"]).columns.tolist()\n",
    "\n",
    "    # Create CatBoost Pools\n",
    "    train_pool = Pool(train_df, train_y, cat_features=cat_features)\n",
    "    val_pool = Pool(val_df, val_y, cat_features=cat_features)\n",
    "\n",
    "    # Calculate class weights\n",
    "    pos_weight = len(train_y[train_y == 0]) / len(train_y[train_y == 1])\n",
    "\n",
    "    # Train the model\n",
    "    model = CatBoostClassifier(\n",
    "        learning_rate=0.01,\n",
    "        iterations=100,\n",
    "        depth=5,\n",
    "        early_stopping_rounds=5,\n",
    "        use_best_model=True,\n",
    "        scale_pos_weight=pos_weight,  # Use calculated positive weight\n",
    "        verbose=False\n",
    "    )\n",
    "\n",
    "    model.fit(train_pool, eval_set=val_pool)\n",
    "\n",
    "    # Evaluation\n",
    "    preds = model.predict(val_pool)\n",
    "    precision, recall, fscore, _ = precision_recall_fscore_support(val_y, preds, average=\"binary\")\n",
    "    print(\"\\nClassification Report:\")\n",
    "    print(classification_report(val_y, preds))\n",
    "\n",
    "    metrics = {\n",
    "        \"precision\": precision,\n",
    "        \"recall\": recall,\n",
    "        \"fscore\": fscore,\n",
    "    }\n",
    "    \n",
    "    preds_proba = model.predict_proba(val_pool)[:, 1] \n",
    "    print(\"Predicted Class Distribution:\", np.unique(preds_proba, return_counts=True))\n",
    "\n",
    "    return model, metrics, val_pool\n",
    "\n",
    "# Note: Ensure that the DataFrame passed to this function includes 'user_interests' and 'title'."
   ]
  },
  {
   "cell_type": "code",
   "execution_count": 9,
   "metadata": {},
   "outputs": [
    {
     "data": {
      "text/plain": [
       "interaction_label\n",
       "1                    35448\n",
       "0                    14292\n",
       "Name: count, dtype: int64"
      ]
     },
     "execution_count": 9,
     "metadata": {},
     "output_type": "execute_result"
    }
   ],
   "source": [
    "weather_y_val.value_counts()"
   ]
  },
  {
   "cell_type": "code",
   "execution_count": 11,
   "metadata": {},
   "outputs": [
    {
     "name": "stdout",
     "output_type": "stream",
     "text": [
      "\n",
      "Classification Report:\n",
      "2025-05-31 19:41:31,687 WARNING: UndefinedMetricWarning: Precision and F-score are ill-defined and being set to 0.0 in labels with no predicted samples. Use `zero_division` parameter to control this behavior.\n",
      "\n",
      "2025-05-31 19:41:31,721 WARNING: UndefinedMetricWarning: Precision and F-score are ill-defined and being set to 0.0 in labels with no predicted samples. Use `zero_division` parameter to control this behavior.\n",
      "\n",
      "2025-05-31 19:41:31,745 WARNING: UndefinedMetricWarning: Precision and F-score are ill-defined and being set to 0.0 in labels with no predicted samples. Use `zero_division` parameter to control this behavior.\n",
      "\n",
      "              precision    recall  f1-score   support\n",
      "\n",
      "           0       0.00      0.00      0.00     14292\n",
      "           1       0.71      1.00      0.83     35448\n",
      "\n",
      "    accuracy                           0.71     49740\n",
      "   macro avg       0.36      0.50      0.42     49740\n",
      "weighted avg       0.51      0.71      0.59     49740\n",
      "\n",
      "Predicted Class Distribution: (array([0.5934457 , 0.59348359, 0.59351597, ..., 0.68195727, 0.68196254,\n",
      "       0.68212717]), array([1, 1, 1, ..., 1, 1, 1]))\n"
     ]
    }
   ],
   "source": [
    "# Use this function to train on your weather / no-weather datasets\n",
    "weather_model, weather_metrics, weather_val_pool = train_catboost(\n",
    "    train_df=weather_X_train,\n",
    "    val_df=weather_X_val,\n",
    "    train_y=weather_y_train,\n",
    "    val_y=weather_y_val\n",
    ")\n",
    "\n",
    "# #Save the models using Joblib\n",
    "# joblib.dump(weather_model, '/home/nkama/masters_thesis_project/thesis/models/weather_ranking_model.pkl')\n",
    "# print(\"\\nModels saved successfully!\")\n",
    "\n"
   ]
  },
  {
   "cell_type": "code",
   "execution_count": 15,
   "metadata": {},
   "outputs": [
    {
     "data": {
      "text/plain": [
       "{'interaction_distance_to_event': 95.93204998677713,\n",
       " 'event_indoor_capability': 0.4346953089621326,\n",
       " 'title': 0.4240075671567045,\n",
       " 'user_temperature': 0.40476148658368594,\n",
       " 'precipitation': 0.36677061158728846,\n",
       " 'weather_condition': 0.3435573834861786,\n",
       " 'age': 0.33834087598832935,\n",
       " 'user_weather_condition': 0.30151470123997165,\n",
       " 'attendance_rate': 0.30036077578444514,\n",
       " 'event_city': 0.2893172652883507,\n",
       " 'temperature': 0.25110583733846803,\n",
       " 'user_interests': 0.22352187552828293,\n",
       " 'user_city': 0.14621329280679,\n",
       " 'indoor_outdoor_preference': 0.14097193571307504,\n",
       " 'event_type': 0.0540516872020414,\n",
       " 'user_precipitation': 0.0487594085571333}"
      ]
     },
     "execution_count": 15,
     "metadata": {},
     "output_type": "execute_result"
    }
   ],
   "source": [
    "feat_to_score = {\n",
    "    feature: score \n",
    "    for feature, score \n",
    "    in zip(\n",
    "        weather_X_train.columns, \n",
    "        weather_model.feature_importances_,\n",
    "    )\n",
    "}\n",
    "\n",
    "feat_to_score = dict(\n",
    "    sorted(\n",
    "        feat_to_score.items(),\n",
    "        key=lambda item: item[1],\n",
    "        reverse=True,\n",
    "    )\n",
    ")\n",
    "feat_to_score"
   ]
  },
  {
   "cell_type": "code",
   "execution_count": 35,
   "metadata": {},
   "outputs": [
    {
     "data": {
      "text/plain": [
       "Index(['interaction_distance_to_event', 'event_type', 'event_city',\n",
       "       'weather_condition', 'temperature', 'precipitation', 'attendance_rate',\n",
       "       'event_indoor_capability', 'user_city', 'indoor_outdoor_preference',\n",
       "       'age', 'user_interests', 'user_weather_condition', 'user_temperature',\n",
       "       'user_precipitation'],\n",
       "      dtype='object')"
      ]
     },
     "execution_count": 35,
     "metadata": {},
     "output_type": "execute_result"
    }
   ],
   "source": [
    "weather_X_train.columns"
   ]
  },
  {
   "cell_type": "code",
   "execution_count": 13,
   "metadata": {},
   "outputs": [
    {
     "name": "stdout",
     "output_type": "stream",
     "text": [
      "\n",
      "Classification Report:\n",
      "2025-05-31 19:42:30,866 WARNING: UndefinedMetricWarning: Precision and F-score are ill-defined and being set to 0.0 in labels with no predicted samples. Use `zero_division` parameter to control this behavior.\n",
      "\n",
      "2025-05-31 19:42:30,902 WARNING: UndefinedMetricWarning: Precision and F-score are ill-defined and being set to 0.0 in labels with no predicted samples. Use `zero_division` parameter to control this behavior.\n",
      "\n",
      "2025-05-31 19:42:30,923 WARNING: UndefinedMetricWarning: Precision and F-score are ill-defined and being set to 0.0 in labels with no predicted samples. Use `zero_division` parameter to control this behavior.\n",
      "\n",
      "              precision    recall  f1-score   support\n",
      "\n",
      "           0       0.00      0.00      0.00     14312\n",
      "           1       0.71      1.00      0.83     35428\n",
      "\n",
      "    accuracy                           0.71     49740\n",
      "   macro avg       0.36      0.50      0.42     49740\n",
      "weighted avg       0.51      0.71      0.59     49740\n",
      "\n",
      "Predicted Class Distribution: (array([0.59322731, 0.59340502, 0.59341716, ..., 0.68802799, 0.68803421,\n",
      "       0.68805272]), array([2, 1, 1, ..., 1, 1, 1]))\n"
     ]
    }
   ],
   "source": [
    "\n",
    "# Use this function to train on your weather / no-weather datasets\n",
    "no_weather_model, no_weather_metrics, no_weather_val_pool = train_catboost(\n",
    "    train_df=no_weather_X_train,\n",
    "    val_df=no_weather_X_val,\n",
    "    train_y=no_weather_y_train,\n",
    "    val_y=no_weather_y_val\n",
    ")\n",
    "\n",
    "# joblib.dump(no_weather_model, '/home/nkama/masters_thesis_project/thesis/models/no_weather_ranking_model.pkl')\n",
    "# print(\"\\nModels saved successfully!\")"
   ]
  },
  {
   "cell_type": "code",
   "execution_count": 16,
   "metadata": {},
   "outputs": [
    {
     "data": {
      "text/plain": [
       "{'interaction_distance_to_event': 98.56858103820176,\n",
       " 'title': 0.32138396014526593,\n",
       " 'event_city': 0.28768716105271774,\n",
       " 'event_type': 0.2739099062313311,\n",
       " 'event_indoor_capability': 0.1959338405594333,\n",
       " 'attendance_rate': 0.12532672542750817,\n",
       " 'age': 0.12158177157819017,\n",
       " 'user_city': 0.10559559680378885,\n",
       " 'user_interests': 0.0}"
      ]
     },
     "execution_count": 16,
     "metadata": {},
     "output_type": "execute_result"
    }
   ],
   "source": [
    "\n",
    "feat_to_score = {\n",
    "    feature: score \n",
    "    for feature, score \n",
    "    in zip(\n",
    "        no_weather_X_train.columns, \n",
    "        no_weather_model.feature_importances_,\n",
    "    )\n",
    "}\n",
    "\n",
    "feat_to_score = dict(\n",
    "    sorted(\n",
    "        feat_to_score.items(),\n",
    "        key=lambda item: item[1],\n",
    "        reverse=True,\n",
    "    )\n",
    ")\n",
    "feat_to_score"
   ]
  },
  {
   "cell_type": "code",
   "execution_count": 8,
   "metadata": {},
   "outputs": [
    {
     "data": {
      "text/plain": [
       "'✅ Evaluation function ready: scores ranking model using AUC, MAP, Precision@K, Recall@K, and NDCG@K.'"
      ]
     },
     "execution_count": 8,
     "metadata": {},
     "output_type": "execute_result"
    }
   ],
   "source": [
    "# from sklearn.metrics import roc_auc_score, average_precision_score, ndcg_score, precision_score, recall_score\n",
    "# import numpy as np\n",
    "\n",
    "\n",
    "# def evaluate_ranking_model_proba(model, val_pool, val_y, k_list=[5, 10]):\n",
    "#     \"\"\"\n",
    "#     Evaluate a CatBoost ranking model using predicted probabilities, not binary class outputs.\n",
    "#     \"\"\"\n",
    "\n",
    "#     # Predict class probabilities (not class labels)\n",
    "#     proba = model.predict_proba(val_pool)[:, 1]  # Probability for class 1\n",
    "\n",
    "#     results = {\n",
    "#         \"AUC\": roc_auc_score(val_y, proba),\n",
    "#         \"Average Precision (MAP)\": average_precision_score(val_y, proba),\n",
    "#     }\n",
    "\n",
    "#     # Convert to numpy arrays\n",
    "#     true_labels = np.array(val_y)\n",
    "#     predicted_scores = np.array(proba)\n",
    "\n",
    "#     # Sort by predicted score\n",
    "#     sorted_indices = np.argsort(predicted_scores)[::-1]\n",
    "#     sorted_true = true_labels[sorted_indices]\n",
    "\n",
    "#     for k in k_list:\n",
    "#         top_k = sorted_true[:k]\n",
    "#         precision_at_k = np.mean(top_k)\n",
    "#         recall_at_k = np.sum(top_k) / np.sum(true_labels)\n",
    "#         ndcg_at_k = ndcg_score(\n",
    "#             y_true=true_labels.reshape(1, -1),\n",
    "#             y_score=predicted_scores.reshape(1, -1),\n",
    "#             k=k\n",
    "#         )\n",
    "\n",
    "\n",
    "\n",
    "#         results[f\"Precision@{k}\"] = precision_at_k\n",
    "#         results[f\"Recall@{k}\"] = recall_at_k\n",
    "#         results[f\"NDCG@{k}\"] = ndcg_at_k\n",
    "\n",
    "#     return results\n",
    "\n",
    "# \"✅ Evaluation function ready: scores ranking model using AUC, MAP, Precision@K, Recall@K, and NDCG@K.\"\n"
   ]
  },
  {
   "cell_type": "code",
   "execution_count": null,
   "metadata": {},
   "outputs": [],
   "source": [
    "\n",
    "# # Evaluate weather-aware model\n",
    "# weather_scores = evaluate_ranking_model_proba(\n",
    "#     model=weather_model,\n",
    "#     val_pool=weather_val_pool,\n",
    "#     val_y=weather_y_val\n",
    "# )\n",
    "\n",
    "# # Evaluate no-weather model\n",
    "# no_weather_scores = evaluate_ranking_model_proba(\n",
    "#     model=no_weather_model,\n",
    "#     val_pool=no_weather_val_pool,\n",
    "#     val_y=no_weather_y_val\n",
    "# )\n",
    "\n",
    "# # Compare results\n",
    "# print(\"Weather Model Scores:\")\n",
    "# for k, v in weather_scores.items():\n",
    "#     print(f\"{k}: {v:.4f}\")\n",
    "\n",
    "# print(\"\\nNo-Weather Model Scores:\")\n",
    "# for k, v in no_weather_scores.items():\n",
    "#     print(f\"{k}: {v:.4f}\")\n"
   ]
  },
  {
   "cell_type": "code",
   "execution_count": 28,
   "metadata": {},
   "outputs": [],
   "source": [
    "# Connect to Hopsworks Model Registry\n",
    "mr = project.get_model_registry()"
   ]
  },
  {
   "cell_type": "code",
   "execution_count": 29,
   "metadata": {},
   "outputs": [
    {
     "data": {
      "application/vnd.jupyter.widget-view+json": {
       "model_id": "fb701608797a4c0a9186bec37eb16c2c",
       "version_major": 2,
       "version_minor": 0
      },
      "text/plain": [
       "  0%|          | 0/6 [00:00<?, ?it/s]"
      ]
     },
     "metadata": {},
     "output_type": "display_data"
    },
    {
     "data": {
      "application/vnd.jupyter.widget-view+json": {
       "model_id": "38db55c620264b74b71d1c3b11a5497c",
       "version_major": 2,
       "version_minor": 0
      },
      "text/plain": [
       "Uploading /home/nkama/masters_thesis_project/thesis/models/weather_ranking_model.pkl: 0.000%|          | 0/880…"
      ]
     },
     "metadata": {},
     "output_type": "display_data"
    },
    {
     "data": {
      "application/vnd.jupyter.widget-view+json": {
       "model_id": "5fe76a62ed334050924bde1ff817505f",
       "version_major": 2,
       "version_minor": 0
      },
      "text/plain": [
       "Uploading /home/nkama/masters_thesis_project/thesis/notebooks/input_example.json: 0.000%|          | 0/447 ela…"
      ]
     },
     "metadata": {},
     "output_type": "display_data"
    },
    {
     "data": {
      "application/vnd.jupyter.widget-view+json": {
       "model_id": "a98eddae2cf34200acf1e404ee1c2c44",
       "version_major": 2,
       "version_minor": 0
      },
      "text/plain": [
       "Uploading /home/nkama/masters_thesis_project/thesis/notebooks/model_schema.json: 0.000%|          | 0/1283 ela…"
      ]
     },
     "metadata": {},
     "output_type": "display_data"
    },
    {
     "name": "stdout",
     "output_type": "stream",
     "text": [
      "Model created, explore it at https://c.app.hopsworks.ai:443/p/1220788/models/weather_ranking_model/1\n"
     ]
    },
    {
     "data": {
      "text/plain": [
       "Model(name: 'weather_ranking_model', version: 1)"
      ]
     },
     "execution_count": 29,
     "metadata": {},
     "output_type": "execute_result"
    }
   ],
   "source": [
    "from hsml.schema import Schema\n",
    "from hsml.model_schema import ModelSchema\n",
    "\n",
    "# Create model schema for weather ranking model\n",
    "input_example = weather_X_train.sample().to_dict(\"records\")\n",
    "input_schema = Schema(weather_X_train)\n",
    "output_schema = Schema(weather_y_train)\n",
    "model_schema = ModelSchema(input_schema, output_schema)\n",
    "\n",
    "weather_ranking_model = mr.python.create_model(\n",
    "    name=\"weather_ranking_model\", \n",
    "    metrics=weather_metrics,\n",
    "    model_schema=model_schema,\n",
    "    input_example=input_example,\n",
    "    description=\"Ranking model that scores item candidates\",\n",
    ")\n",
    "weather_ranking_model.save(\"/home/nkama/masters_thesis_project/thesis/models/weather_ranking_model.pkl\")"
   ]
  },
  {
   "cell_type": "code",
   "execution_count": 30,
   "metadata": {},
   "outputs": [
    {
     "data": {
      "application/vnd.jupyter.widget-view+json": {
       "model_id": "d43bf2615b92498298d1d7dfb69be107",
       "version_major": 2,
       "version_minor": 0
      },
      "text/plain": [
       "  0%|          | 0/6 [00:00<?, ?it/s]"
      ]
     },
     "metadata": {},
     "output_type": "display_data"
    },
    {
     "data": {
      "application/vnd.jupyter.widget-view+json": {
       "model_id": "7206977c3ba447229d08b3bfada2888f",
       "version_major": 2,
       "version_minor": 0
      },
      "text/plain": [
       "Uploading /home/nkama/masters_thesis_project/thesis/models/no_weather_ranking_model.pkl: 0.000%|          | 0/…"
      ]
     },
     "metadata": {},
     "output_type": "display_data"
    },
    {
     "data": {
      "application/vnd.jupyter.widget-view+json": {
       "model_id": "d5a3e625024442cfaaa4a43cb306a77e",
       "version_major": 2,
       "version_minor": 0
      },
      "text/plain": [
       "Uploading /home/nkama/masters_thesis_project/thesis/notebooks/input_example.json: 0.000%|          | 0/264 ela…"
      ]
     },
     "metadata": {},
     "output_type": "display_data"
    },
    {
     "data": {
      "application/vnd.jupyter.widget-view+json": {
       "model_id": "bf3c809728124ed3ba21834db048f851",
       "version_major": 2,
       "version_minor": 0
      },
      "text/plain": [
       "Uploading /home/nkama/masters_thesis_project/thesis/notebooks/model_schema.json: 0.000%|          | 0/799 elap…"
      ]
     },
     "metadata": {},
     "output_type": "display_data"
    },
    {
     "name": "stdout",
     "output_type": "stream",
     "text": [
      "Model created, explore it at https://c.app.hopsworks.ai:443/p/1220788/models/no_weather_ranking_model/1\n"
     ]
    },
    {
     "data": {
      "text/plain": [
       "Model(name: 'no_weather_ranking_model', version: 1)"
      ]
     },
     "execution_count": 30,
     "metadata": {},
     "output_type": "execute_result"
    }
   ],
   "source": [
    "# Create model schema for no weather ranking model  \n",
    "input_example = no_weather_X_train.sample().to_dict(\"records\")\n",
    "input_schema = Schema(no_weather_X_train)\n",
    "output_schema = Schema(no_weather_y_train)\n",
    "model_schema = ModelSchema(input_schema, output_schema)\n",
    "\n",
    "no_weather_ranking_model = mr.python.create_model(\n",
    "    name=\"no_weather_ranking_model\", \n",
    "    metrics=no_weather_metrics,\n",
    "    model_schema=model_schema,\n",
    "    input_example=input_example,\n",
    "    description=\"Ranking model that scores item candidates\",\n",
    ")\n",
    "no_weather_ranking_model.save(\"/home/nkama/masters_thesis_project/thesis/models/no_weather_ranking_model.pkl\")"
   ]
  },
  {
   "cell_type": "code",
   "execution_count": null,
   "metadata": {},
   "outputs": [],
   "source": []
  },
  {
   "cell_type": "code",
   "execution_count": 5,
   "metadata": {},
   "outputs": [
    {
     "name": "stdout",
     "output_type": "stream",
     "text": [
      "Warning: 'category' column not found in merged_df. Assuming 'event_type' is already present or handled.\n",
      "Processed DataFrame Head:\n",
      "   interaction_distance_to_event  interaction_label  temperature  \\\n",
      "0                      15.442082                  0         19.2   \n",
      "1                      18.905958                  0         32.0   \n",
      "2                      58.743016                  0         17.4   \n",
      "3                      22.280995                  0         25.2   \n",
      "4                      56.605419                  0         19.6   \n",
      "\n",
      "   precipitation  attendance_rate  event_indoor_capability  age  \\\n",
      "0           0.00        15.915409                        1   25   \n",
      "1           0.32        19.572239                        0   46   \n",
      "2           0.00        32.747489                        0   37   \n",
      "3           0.00        29.689391                        1   44   \n",
      "4          16.04        35.509785                        1   24   \n",
      "\n",
      "   social_connectedness  user_temperature  user_precipitation  ...  \\\n",
      "0                    11              17.2                0.18  ...   \n",
      "1                    19              34.6                0.00  ...   \n",
      "2                    15              13.8               18.75  ...   \n",
      "3                    20              19.8                9.55  ...   \n",
      "4                    11              21.4                0.37  ...   \n",
      "\n",
      "   title_tfidf_90  title_tfidf_91  title_tfidf_92  title_tfidf_93  \\\n",
      "0             0.0             0.0             0.0        0.000000   \n",
      "1             0.0             0.0             0.0        0.000000   \n",
      "2             0.0             0.0             0.0        0.000000   \n",
      "3             0.0             0.0             0.0        0.000000   \n",
      "4             0.0             0.0             0.0        0.452054   \n",
      "\n",
      "   title_tfidf_94  title_tfidf_95  title_tfidf_96  title_tfidf_97  \\\n",
      "0             0.0             0.0             0.0             0.0   \n",
      "1             0.0             0.0             0.0             0.0   \n",
      "2             0.0             0.0             0.0             0.0   \n",
      "3             0.0             0.0             0.0             0.0   \n",
      "4             0.0             0.0             0.0             0.0   \n",
      "\n",
      "   title_tfidf_98  title_tfidf_99  \n",
      "0             0.0        0.000000  \n",
      "1             0.0        0.486069  \n",
      "2             0.0        0.000000  \n",
      "3             0.0        0.000000  \n",
      "4             0.0        0.000000  \n",
      "\n",
      "[5 rows x 180 columns]\n",
      "\n",
      "Processed DataFrame dtypes:\n",
      "interaction_distance_to_event    float64\n",
      "interaction_label                  int64\n",
      "temperature                      float64\n",
      "precipitation                    float64\n",
      "attendance_rate                  float64\n",
      "                                  ...   \n",
      "title_tfidf_95                   float64\n",
      "title_tfidf_96                   float64\n",
      "title_tfidf_97                   float64\n",
      "title_tfidf_98                   float64\n",
      "title_tfidf_99                   float64\n",
      "Length: 180, dtype: object\n",
      "\n",
      "Features for Model with Weather:\n",
      "['title_tfidf_50', 'interest_5', 'title_tfidf_0', 'title_tfidf_23', 'event_type_Health & Wellness', 'title_tfidf_87', 'title_tfidf_8', 'user_city_Tokyo', 'title_tfidf_76', 'interest_6', 'title_tfidf_31', 'title_tfidf_10', 'title_tfidf_58', 'interaction_type_maybe', 'title_tfidf_42', 'title_tfidf_47', 'event_indoor_capability', 'title_tfidf_57', 'title_tfidf_45', 'event_hour', 'title_tfidf_14', 'title_tfidf_6', 'user_city_São Paulo', 'title_tfidf_67', 'title_tfidf_93', 'weather_condition_Cloudy', 'title_tfidf_80', 'indoor_outdoor_preference_any', 'interest_2', 'title_tfidf_73', 'title_tfidf_41', 'title_tfidf_90', 'title_tfidf_9', 'user_city_Sydney', 'interaction_hour', 'user_city_Mumbai', 'title_tfidf_72', 'event_type_Education & Learning', 'title_tfidf_49', 'title_tfidf_2', 'title_tfidf_85', 'title_tfidf_60', 'title_tfidf_40', 'title_tfidf_88', 'user_city_London', 'title_tfidf_86', 'event_type_Arts & Culture', 'event_type_Food & Drink', 'title_tfidf_61', 'title_tfidf_22', 'user_weather_condition_Snow', 'title_tfidf_46', 'title_tfidf_35', 'age', 'title_tfidf_89', 'title_tfidf_54', 'user_city_Toronto', 'title_tfidf_1', 'indoor_outdoor_preference_indoor', 'title_tfidf_28', 'title_tfidf_97', 'weather_condition_Clear', 'title_tfidf_68', 'title_tfidf_25', 'precipitation', 'title_tfidf_38', 'user_temperature', 'indoor_outdoor_preference_outdoor', 'title_tfidf_17', 'title_tfidf_11', 'title_tfidf_74', 'title_tfidf_63', 'event_city_London', 'title_tfidf_59', 'interaction_type_invited', 'title_tfidf_51', 'user_precipitation', 'event_type_Sports & Fitness', 'event_city_São Paulo', 'interaction_distance_to_event', 'interaction_dayofweek', 'event_duration_hours', 'weather_condition_Windy', 'title_tfidf_12', 'event_type_Immersive Experiences', 'title_tfidf_34', 'event_type_Community & Causes', 'title_tfidf_95', 'weather_condition_Rain', 'title_tfidf_83', 'user_city_New York', 'title_tfidf_3', 'event_type_Seasonal & Festivals', 'title_tfidf_43', 'title_tfidf_56', 'title_tfidf_29', 'title_tfidf_30', 'title_tfidf_91', 'title_tfidf_20', 'user_city_Dubai', 'title_tfidf_70', 'interest_9', 'title_tfidf_94', 'title_tfidf_33', 'title_tfidf_92', 'event_city_Toronto', 'interest_3', 'title_tfidf_77', 'attendance_rate', 'event_city_Dubai', 'interest_4', 'title_tfidf_96', 'title_tfidf_75', 'event_type_Music & Concerts', 'title_tfidf_78', 'interaction_type_yes', 'title_tfidf_82', 'user_weather_condition_Windy', 'title_tfidf_99', 'title_tfidf_21', 'title_tfidf_26', 'title_tfidf_64', 'user_weather_condition_Cloudy', 'weather_condition_Snow', 'interest_1', 'title_tfidf_32', 'title_tfidf_37', 'title_tfidf_52', 'interest_7', 'social_connectedness', 'title_tfidf_27', 'title_tfidf_19', 'title_tfidf_16', 'title_tfidf_98', 'title_tfidf_79', 'title_tfidf_13', 'title_tfidf_4', 'title_tfidf_18', 'title_tfidf_36', 'title_tfidf_53', 'event_type_Business & Networking', 'title_tfidf_55', 'user_city_Paris', 'event_city_New York', 'event_city_Paris', 'event_city_Tokyo', 'interaction_type_no', 'title_tfidf_39', 'title_tfidf_48', 'temperature', 'title_tfidf_84', 'event_dayofweek', 'event_type_Technology', 'user_weather_condition_Rain', 'event_city_Mumbai', 'interaction_type_invited & yes', 'interaction_type_invited & maybe', 'title_tfidf_44', 'title_tfidf_5', 'time_to_event_hours', 'title_tfidf_7', 'title_tfidf_69', 'event_city_Berlin', 'interest_8', 'event_city_Sydney', 'interaction_type_invited & no', 'user_weather_condition_Clear', 'event_month', 'title_tfidf_62', 'user_city_Berlin', 'title_tfidf_81', 'event_type_Entertainment', 'title_tfidf_24', 'title_tfidf_71', 'interaction_month', 'title_tfidf_15', 'interest_0', 'title_tfidf_65', 'title_tfidf_66']\n",
      "\n",
      "Features for Model without Weather:\n",
      "['title_tfidf_50', 'interest_5', 'title_tfidf_0', 'title_tfidf_23', 'event_type_Health & Wellness', 'title_tfidf_87', 'title_tfidf_8', 'user_city_Tokyo', 'title_tfidf_76', 'interest_6', 'title_tfidf_31', 'title_tfidf_10', 'title_tfidf_58', 'interaction_type_maybe', 'title_tfidf_42', 'title_tfidf_47', 'event_indoor_capability', 'title_tfidf_57', 'title_tfidf_45', 'event_hour', 'title_tfidf_14', 'title_tfidf_6', 'user_city_São Paulo', 'title_tfidf_67', 'title_tfidf_93', 'title_tfidf_80', 'indoor_outdoor_preference_any', 'interest_2', 'title_tfidf_73', 'title_tfidf_41', 'title_tfidf_90', 'title_tfidf_9', 'user_city_Sydney', 'interaction_hour', 'user_city_Mumbai', 'title_tfidf_72', 'event_type_Education & Learning', 'title_tfidf_49', 'title_tfidf_2', 'title_tfidf_85', 'title_tfidf_60', 'title_tfidf_40', 'title_tfidf_88', 'user_city_London', 'title_tfidf_86', 'event_type_Arts & Culture', 'event_type_Food & Drink', 'title_tfidf_61', 'title_tfidf_22', 'title_tfidf_46', 'title_tfidf_35', 'age', 'title_tfidf_89', 'title_tfidf_54', 'user_city_Toronto', 'title_tfidf_1', 'indoor_outdoor_preference_indoor', 'title_tfidf_28', 'title_tfidf_97', 'title_tfidf_68', 'title_tfidf_25', 'title_tfidf_38', 'indoor_outdoor_preference_outdoor', 'title_tfidf_17', 'title_tfidf_11', 'title_tfidf_74', 'title_tfidf_63', 'event_city_London', 'title_tfidf_59', 'interaction_type_invited', 'title_tfidf_51', 'event_type_Sports & Fitness', 'event_city_São Paulo', 'interaction_distance_to_event', 'interaction_dayofweek', 'event_duration_hours', 'title_tfidf_12', 'event_type_Immersive Experiences', 'title_tfidf_34', 'event_type_Community & Causes', 'title_tfidf_95', 'title_tfidf_83', 'user_city_New York', 'title_tfidf_3', 'event_type_Seasonal & Festivals', 'title_tfidf_43', 'title_tfidf_56', 'title_tfidf_29', 'title_tfidf_30', 'title_tfidf_91', 'title_tfidf_20', 'user_city_Dubai', 'title_tfidf_70', 'interest_9', 'title_tfidf_94', 'title_tfidf_33', 'title_tfidf_92', 'event_city_Toronto', 'interest_3', 'title_tfidf_77', 'attendance_rate', 'event_city_Dubai', 'interest_4', 'title_tfidf_96', 'title_tfidf_75', 'event_type_Music & Concerts', 'title_tfidf_78', 'interaction_type_yes', 'title_tfidf_82', 'title_tfidf_99', 'title_tfidf_21', 'title_tfidf_26', 'title_tfidf_64', 'interest_1', 'title_tfidf_32', 'title_tfidf_37', 'title_tfidf_52', 'interest_7', 'social_connectedness', 'title_tfidf_27', 'title_tfidf_19', 'title_tfidf_16', 'title_tfidf_98', 'title_tfidf_79', 'title_tfidf_13', 'title_tfidf_4', 'title_tfidf_18', 'title_tfidf_36', 'title_tfidf_53', 'event_type_Business & Networking', 'title_tfidf_55', 'user_city_Paris', 'event_city_New York', 'event_city_Paris', 'event_city_Tokyo', 'interaction_type_no', 'title_tfidf_39', 'title_tfidf_48', 'title_tfidf_84', 'event_dayofweek', 'event_type_Technology', 'event_city_Mumbai', 'interaction_type_invited & yes', 'interaction_type_invited & maybe', 'title_tfidf_44', 'title_tfidf_5', 'time_to_event_hours', 'title_tfidf_7', 'title_tfidf_69', 'event_city_Berlin', 'interest_8', 'event_city_Sydney', 'interaction_type_invited & no', 'event_month', 'title_tfidf_62', 'user_city_Berlin', 'title_tfidf_81', 'event_type_Entertainment', 'title_tfidf_24', 'title_tfidf_71', 'interaction_month', 'title_tfidf_15', 'interest_0', 'title_tfidf_65', 'title_tfidf_66']\n"
     ]
    }
   ],
   "source": [
    "import pandas as pd\n",
    "import pandas as pd\n",
    "from sklearn.feature_extraction.text import CountVectorizer, TfidfVectorizer\n",
    "# Load the datasets\n",
    "events_df = pd.read_csv('/home/nkama/masters_thesis_project/thesis/fully_synthetic_data/data/events.csv')\n",
    "users_df = pd.read_csv('/home/nkama/masters_thesis_project/thesis/fully_synthetic_data/data/users.csv')\n",
    "interactions_df = pd.read_csv('/home/nkama/masters_thesis_project/thesis/fully_synthetic_data/data/interactions.csv')\n",
    "events_df.rename(columns={\"category\": \"event_type\"}, inplace = True)\n",
    "\n",
    "\n",
    "\n",
    "# Merge the dataframes\n",
    "merged_df = pd.merge(interactions_df, events_df, on='event_id', how='left')\n",
    "merged_df = pd.merge(merged_df, users_df, on='user_id', how='left')\n",
    "\n",
    "# Rename 'category' column to 'event_type' as requested\n",
    "if 'category' in merged_df.columns:\n",
    "    merged_df.rename(columns={'category': 'event_type'}, inplace=True)\n",
    "else:\n",
    "    print(\"Warning: 'category' column not found in merged_df. Assuming 'event_type' is already present or handled.\")\n",
    "\n",
    "# Create a copy of the dataframe for feature engineering\n",
    "df = merged_df.copy()\n",
    "\n",
    "# Feature Engineering\n",
    "# Convert target variable `interaction_label` to numerical\n",
    "df['interaction_label'] = df['interaction_label'].apply(lambda x: 1 if x == 'yes' else 0)\n",
    "\n",
    "# Convert datetime columns\n",
    "df['interaction_time'] = pd.to_datetime(df['interaction_time'])\n",
    "df['start_time'] = pd.to_datetime(df['start_time'])\n",
    "df['signup_date'] = pd.to_datetime(df['signup_date']) # Convert signup_date as well\n",
    "\n",
    "# Extract time-based features\n",
    "df['interaction_hour'] = df['interaction_time'].dt.hour\n",
    "df['interaction_dayofweek'] = df['interaction_time'].dt.dayofweek\n",
    "df['interaction_month'] = df['interaction_time'].dt.month\n",
    "\n",
    "df['event_hour'] = df['start_time'].dt.hour\n",
    "df['event_dayofweek'] = df['start_time'].dt.dayofweek\n",
    "df['event_month'] = df['start_time'].dt.month\n",
    "\n",
    "# Calculate time difference between interaction and event start\n",
    "df['time_to_event_hours'] = (df['start_time'] - df['interaction_time']).dt.total_seconds() / 3600\n",
    "\n",
    "# Calculate event duration in hours\n",
    "df['event_duration_hours'] = df['duration'] / 60\n",
    "\n",
    "# Calculate user_age_at_signup\n",
    "# Assuming 'age' is current age and 'signup_date' is user's signup date.\n",
    "# A more precise feature would be age at the time of interaction or event,\n",
    "# but for simplicity, using the 'age' column as a direct feature for now.\n",
    "# If `age` is the user's current age, and `signup_date` is a past date,\n",
    "# `user_age_at_signup` might not be directly derivable without knowing the current date the `age` was recorded.\n",
    "# For now, we will use the existing `age` column directly.\n",
    "\n",
    "# One-hot encode categorical features\n",
    "# Include 'indoor_outdoor_preference' in categorical columns\n",
    "categorical_cols = ['user_city', 'event_type', 'event_city', 'interaction_type', 'weather_condition', 'user_weather_condition', 'indoor_outdoor_preference']\n",
    "df = pd.get_dummies(df, columns=categorical_cols, dummy_na=False)\n",
    "\n",
    "# Convert 'event_indoor_capability' to numerical (True/False to 1/0)\n",
    "df['event_indoor_capability'] = df['event_indoor_capability'].astype(int)\n",
    "\n",
    "# Text feature engineering for `user_interests` (CountVectorizer)\n",
    "# Fill NaN values in 'user_interests' with empty string\n",
    "df['user_interests'] = df['user_interests'].fillna('')\n",
    "cv = CountVectorizer(max_features=50) # Limit features to avoid sparsity\n",
    "user_interests_features = cv.fit_transform(df['user_interests']).toarray()\n",
    "# Ensure consistent indexing after reset_index\n",
    "user_interests_df = pd.DataFrame(user_interests_features, columns=[f'interest_{i}' for i in range(user_interests_features.shape[1])], index=df.index)\n",
    "df = pd.concat([df, user_interests_df], axis=1)\n",
    "\n",
    "# Text feature engineering for `title` (TF-IDF Vectorizer)\n",
    "# Fill NaN values in 'title' with empty string\n",
    "df['title'] = df['title'].fillna('')\n",
    "tfidf = TfidfVectorizer(max_features=100) # Limit features to avoid sparsity\n",
    "title_features = tfidf.fit_transform(df['title']).toarray()\n",
    "# Ensure consistent indexing after reset_index\n",
    "title_df = pd.DataFrame(title_features, columns=[f'title_tfidf_{i}' for i in range(title_features.shape[1])], index=df.index)\n",
    "df = pd.concat([df, title_df], axis=1)\n",
    "\n",
    "# Drop original columns that are no longer needed or were transformed\n",
    "df = df.drop(columns=['interaction_id', 'user_id', 'event_id', 'interaction_time', 'start_time', 'duration',\n",
    "                      'user_interests', 'title', 'signup_date', 'user_lat', 'user_lon', 'event_lat', 'event_lon'])\n",
    "\n",
    "# Define features for both models\n",
    "# Common features\n",
    "common_features = [\n",
    "    'interaction_distance_to_event', 'age', 'social_connectedness',\n",
    "    'attendance_rate', 'event_indoor_capability', 'interaction_hour',\n",
    "    'interaction_dayofweek', 'interaction_month', 'event_hour',\n",
    "    'event_dayofweek', 'event_month', 'time_to_event_hours', 'event_duration_hours'\n",
    "] + [col for col in df.columns if col.startswith('user_city_') or col.startswith('event_type_') or col.startswith('event_city_') or col.startswith('interaction_type_') or col.startswith('indoor_outdoor_preference_') or col.startswith('interest_') or col.startswith('title_tfidf_')]\n",
    "\n",
    "# Weather features\n",
    "weather_features_base = ['temperature', 'precipitation', 'user_temperature', 'user_precipitation']\n",
    "available_weather_condition_cols = [col for col in df.columns if col.startswith('weather_condition_')]\n",
    "available_user_weather_condition_cols = [col for col in df.columns if col.startswith('user_weather_condition_')]\n",
    "weather_features_available = weather_features_base + available_weather_condition_cols + available_user_weather_condition_cols\n",
    "\n",
    "features_with_weather = list(set(common_features + weather_features_available))\n",
    "features_without_weather = list(set(common_features))\n",
    "\n",
    "# Remove the target variable if it accidentally got into features\n",
    "if 'interaction_label' in features_with_weather:\n",
    "    features_with_weather.remove('interaction_label')\n",
    "if 'interaction_label' in features_without_weather:\n",
    "    features_without_weather.remove('interaction_label')\n",
    "\n",
    "# Filter for existing columns to avoid key errors\n",
    "features_with_weather = [f for f in features_with_weather if f in df.columns]\n",
    "features_without_weather = [f for f in features_without_weather if f in df.columns]\n",
    "\n",
    "# Display the head of the processed dataframe\n",
    "print(\"Processed DataFrame Head:\")\n",
    "print(df.head())\n",
    "\n",
    "# Display the dtypes of the processed dataframe\n",
    "print(\"\\nProcessed DataFrame dtypes:\")\n",
    "print(df.dtypes)\n",
    "\n",
    "print(\"\\nFeatures for Model with Weather:\")\n",
    "print(features_with_weather)\n",
    "\n",
    "print(\"\\nFeatures for Model without Weather:\")\n",
    "print(features_without_weather)"
   ]
  },
  {
   "cell_type": "code",
   "execution_count": null,
   "metadata": {},
   "outputs": [],
   "source": []
  }
 ],
 "metadata": {
  "kernelspec": {
   "display_name": "thesisenv",
   "language": "python",
   "name": "python3"
  },
  "language_info": {
   "codemirror_mode": {
    "name": "ipython",
    "version": 3
   },
   "file_extension": ".py",
   "mimetype": "text/x-python",
   "name": "python",
   "nbconvert_exporter": "python",
   "pygments_lexer": "ipython3",
   "version": "3.10.6"
  }
 },
 "nbformat": 4,
 "nbformat_minor": 2
}
