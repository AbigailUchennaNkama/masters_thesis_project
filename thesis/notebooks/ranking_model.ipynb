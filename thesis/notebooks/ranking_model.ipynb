{
 "cells": [
  {
   "cell_type": "markdown",
   "metadata": {},
   "source": [
    "## <span style=\"color:#ff5f27\">👨🏻‍🏫 Train Ranking Model </span>\n",
    "\n",
    "In this notebook, we will train a ranking model using gradient boosted trees. "
   ]
  },
  {
   "cell_type": "code",
   "execution_count": 1,
   "metadata": {},
   "outputs": [],
   "source": [
    "import pandas as pd\n",
    "from catboost import CatBoostClassifier, Pool\n",
    "from sklearn.metrics import classification_report, precision_recall_fscore_support\n",
    "import joblib"
   ]
  },
  {
   "cell_type": "code",
   "execution_count": 4,
   "metadata": {},
   "outputs": [
    {
     "name": "stdout",
     "output_type": "stream",
     "text": [
      "2025-05-21 14:06:12,446 INFO: Initializing external client\n",
      "2025-05-21 14:06:12,451 INFO: Base URL: https://c.app.hopsworks.ai:443\n",
      "2025-05-21 14:06:13,869 INFO: Python Engine initialized.\n",
      "\n",
      "Logged in to project, explore it here https://c.app.hopsworks.ai:443/p/1220788\n"
     ]
    }
   ],
   "source": [
    "import hopsworks\n",
    "\n",
    "project = hopsworks.login()\n",
    "\n",
    "fs = project.get_feature_store()"
   ]
  },
  {
   "cell_type": "markdown",
   "metadata": {},
   "source": [
    "### get feature groups"
   ]
  },
  {
   "cell_type": "code",
   "execution_count": null,
   "metadata": {},
   "outputs": [],
   "source": [
    "\n",
    "users_fg = fs.get_feature_group(\n",
    "    name=\"users\",\n",
    "    version=1\n",
    ")\n",
    "\n",
    "events_fg = fs.get_feature_group(\n",
    "    name=\"events\",\n",
    "    version=1\n",
    ")\n",
    "\n",
    "weather_rank_fg = fs.get_feature_group(\n",
    "    name=\"weather_ranking\",\n",
    "    version=1\n",
    ")\n",
    "\n",
    "no_weather_rank_fg = fs.get_feature_group(\n",
    "    name=\"no_weather_ranking\",\n",
    "    version=1\n",
    ")"
   ]
  },
  {
   "cell_type": "markdown",
   "metadata": {},
   "source": [
    "## <span style=\"color:#ff5f27\">⚙️ Feature View Creation </span>"
   ]
  },
  {
   "cell_type": "code",
   "execution_count": 17,
   "metadata": {},
   "outputs": [
    {
     "data": {
      "text/plain": [
       "<hsfs.feature_view.FeatureView at 0x7f36f8550df0>"
      ]
     },
     "execution_count": 17,
     "metadata": {},
     "output_type": "execute_result"
    }
   ],
   "source": [
    "# Select features\n",
    "selected_features_customers = users_fg.select_all()\n",
    "\n",
    "fs.get_or_create_feature_view( \n",
    "    name='users',\n",
    "    query=selected_features_customers,\n",
    "    version=1,\n",
    ")"
   ]
  },
  {
   "cell_type": "code",
   "execution_count": 18,
   "metadata": {},
   "outputs": [
    {
     "data": {
      "text/plain": [
       "<hsfs.feature_view.FeatureView at 0x7f36f8434a90>"
      ]
     },
     "execution_count": 18,
     "metadata": {},
     "output_type": "execute_result"
    }
   ],
   "source": [
    "# Select features\n",
    "selected_features_articles = events_fg.select_all()\n",
    "\n",
    "fs.get_or_create_feature_view(\n",
    "    name='events',\n",
    "    query=selected_features_articles,\n",
    "    version=1,\n",
    ")"
   ]
  },
  {
   "cell_type": "code",
   "execution_count": 6,
   "metadata": {},
   "outputs": [],
   "source": [
    "NO_WEATHER_SELECTED_FEATURES =['interaction_distance_to_event',\n",
    "       'event_type','event_city', 'duration',\n",
    "       'attendance_rate', 'event_indoor_capability', 'user_city',\n",
    "       'age', 'user_interests','label']\n",
    "\n",
    "WEATHER_SELECTED_FEATURES =['interaction_distance_to_event', 'title',\n",
    "       'event_type','event_city', 'duration','weather_condition', 'temperature',\n",
    "       'attendance_rate', 'event_indoor_capability', 'user_city',\n",
    "       'user_weather_preference', 'age', 'user_interests','label']"
   ]
  },
  {
   "cell_type": "code",
   "execution_count": null,
   "metadata": {},
   "outputs": [],
   "source": [
    "# Select weather features\n",
    "features_weather_ranking = weather_rank_fg.select(WEATHER_SELECTED_FEATURES)\n",
    "# Select no weather features\n",
    "features_no_weather_ranking = no_weather_rank_fg.select(NO_WEATHER_SELECTED_FEATURES)"
   ]
  },
  {
   "cell_type": "code",
   "execution_count": 26,
   "metadata": {},
   "outputs": [
    {
     "name": "stdout",
     "output_type": "stream",
     "text": [
      "Feature view created successfully, explore it at \n",
      "https://c.app.hopsworks.ai:443/p/1220788/fs/1208418/fv/no_weather_ranking_2/version/1\n"
     ]
    }
   ],
   "source": [
    "# Create feature view for weather ranking\n",
    "feature_view_ranking_weather = fs.get_or_create_feature_view(\n",
    "    name='weather_ranking',\n",
    "    query=features_weather_ranking,\n",
    "    labels=[\"label\"],\n",
    "    version=1,\n",
    ")\n",
    "# Create feature view for no weather ranking\n",
    "feature_view_ranking_no_weather = fs.get_or_create_feature_view(\n",
    "    name='no_weather_ranking',\n",
    "    query=features_no_weather_ranking,\n",
    "    labels=[\"label\"],\n",
    "    version=1,\n",
    ")"
   ]
  },
  {
   "cell_type": "markdown",
   "metadata": {},
   "source": [
    "---"
   ]
  },
  {
   "cell_type": "markdown",
   "metadata": {},
   "source": [
    "---"
   ]
  },
  {
   "cell_type": "markdown",
   "metadata": {},
   "source": [
    "---"
   ]
  },
  {
   "cell_type": "markdown",
   "metadata": {},
   "source": [
    "---"
   ]
  },
  {
   "cell_type": "markdown",
   "metadata": {},
   "source": [
    "## <span style=\"color:#ff5f27\">🗄️ Train Data loading </span>"
   ]
  },
  {
   "cell_type": "code",
   "execution_count": 15,
   "metadata": {},
   "outputs": [],
   "source": [
    "# Get feature views weather ranking\n",
    "feature_view_ranking_weather = fs.get_feature_view(name='weather_ranking', version=1)\n"
   ]
  },
  {
   "cell_type": "code",
   "execution_count": 16,
   "metadata": {},
   "outputs": [],
   "source": [
    "# Get feature views no weather ranking\n",
    "feature_view_ranking_no_weather = fs.get_feature_view(name='no_weather_ranking', version=1)\n"
   ]
  },
  {
   "cell_type": "code",
   "execution_count": 17,
   "metadata": {},
   "outputs": [
    {
     "name": "stdout",
     "output_type": "stream",
     "text": [
      "Finished: Reading data from Hopsworks, using Hopsworks Feature Query Service (4.78s) \n",
      "2025-05-21 14:34:32,678 WARNING: VersionWarning: Incremented version to `6`.\n",
      "\n"
     ]
    }
   ],
   "source": [
    "# Get training and validation data directly from feature views for weather ranking\n",
    "weather_X_train, weather_X_val, weather_y_train, weather_y_val = \\\n",
    "    feature_view_ranking_weather.train_test_split(\n",
    "    test_size=0.1,\n",
    "    description='Weather ranking training dataset',\n",
    ")\n"
   ]
  },
  {
   "cell_type": "code",
   "execution_count": 54,
   "metadata": {},
   "outputs": [
    {
     "data": {
      "text/html": [
       "<div>\n",
       "<style scoped>\n",
       "    .dataframe tbody tr th:only-of-type {\n",
       "        vertical-align: middle;\n",
       "    }\n",
       "\n",
       "    .dataframe tbody tr th {\n",
       "        vertical-align: top;\n",
       "    }\n",
       "\n",
       "    .dataframe thead th {\n",
       "        text-align: right;\n",
       "    }\n",
       "</style>\n",
       "<table border=\"1\" class=\"dataframe\">\n",
       "  <thead>\n",
       "    <tr style=\"text-align: right;\">\n",
       "      <th></th>\n",
       "      <th>interaction_distance_to_event</th>\n",
       "      <th>event_type</th>\n",
       "      <th>event_city</th>\n",
       "      <th>duration</th>\n",
       "      <th>weather_condition</th>\n",
       "      <th>temperature</th>\n",
       "      <th>attendance_rate</th>\n",
       "      <th>event_indoor_capability</th>\n",
       "      <th>user_city</th>\n",
       "      <th>user_weather_preference</th>\n",
       "      <th>age</th>\n",
       "      <th>user_interests</th>\n",
       "    </tr>\n",
       "  </thead>\n",
       "  <tbody>\n",
       "    <tr>\n",
       "      <th>0</th>\n",
       "      <td>14.000000</td>\n",
       "      <td>Business &amp; Networking</td>\n",
       "      <td>New York</td>\n",
       "      <td>480</td>\n",
       "      <td>Cloudy</td>\n",
       "      <td>16.6</td>\n",
       "      <td>75.228082</td>\n",
       "      <td>True</td>\n",
       "      <td>New York</td>\n",
       "      <td>any</td>\n",
       "      <td>41</td>\n",
       "      <td>tech</td>\n",
       "    </tr>\n",
       "    <tr>\n",
       "      <th>1</th>\n",
       "      <td>16921.000000</td>\n",
       "      <td>Community &amp; Causes</td>\n",
       "      <td>Paris</td>\n",
       "      <td>240</td>\n",
       "      <td>Cloudy</td>\n",
       "      <td>16.9</td>\n",
       "      <td>79.345494</td>\n",
       "      <td>False</td>\n",
       "      <td>Sydney</td>\n",
       "      <td>outdoor</td>\n",
       "      <td>46</td>\n",
       "      <td>travel</td>\n",
       "    </tr>\n",
       "    <tr>\n",
       "      <th>2</th>\n",
       "      <td>10.584158</td>\n",
       "      <td>Health &amp; Wellness</td>\n",
       "      <td>Paris</td>\n",
       "      <td>240</td>\n",
       "      <td>Clear</td>\n",
       "      <td>18.1</td>\n",
       "      <td>12.692646</td>\n",
       "      <td>False</td>\n",
       "      <td>Paris</td>\n",
       "      <td>outdoor</td>\n",
       "      <td>49</td>\n",
       "      <td>food</td>\n",
       "    </tr>\n",
       "    <tr>\n",
       "      <th>4</th>\n",
       "      <td>7.000000</td>\n",
       "      <td>Technology</td>\n",
       "      <td>New York</td>\n",
       "      <td>240</td>\n",
       "      <td>Cloudy</td>\n",
       "      <td>16.0</td>\n",
       "      <td>81.857555</td>\n",
       "      <td>True</td>\n",
       "      <td>New York</td>\n",
       "      <td>indoor</td>\n",
       "      <td>34</td>\n",
       "      <td>tech literature</td>\n",
       "    </tr>\n",
       "    <tr>\n",
       "      <th>5</th>\n",
       "      <td>6581.000000</td>\n",
       "      <td>Sports &amp; Fitness</td>\n",
       "      <td>Berlin</td>\n",
       "      <td>180</td>\n",
       "      <td>Cloudy</td>\n",
       "      <td>13.3</td>\n",
       "      <td>76.052787</td>\n",
       "      <td>False</td>\n",
       "      <td>Toronto</td>\n",
       "      <td>outdoor</td>\n",
       "      <td>34</td>\n",
       "      <td>food fashion</td>\n",
       "    </tr>\n",
       "  </tbody>\n",
       "</table>\n",
       "</div>"
      ],
      "text/plain": [
       "   interaction_distance_to_event             event_type event_city  duration  \\\n",
       "0                      14.000000  Business & Networking   New York       480   \n",
       "1                   16921.000000     Community & Causes      Paris       240   \n",
       "2                      10.584158      Health & Wellness      Paris       240   \n",
       "4                       7.000000             Technology   New York       240   \n",
       "5                    6581.000000       Sports & Fitness     Berlin       180   \n",
       "\n",
       "  weather_condition  temperature  attendance_rate  event_indoor_capability  \\\n",
       "0            Cloudy         16.6        75.228082                     True   \n",
       "1            Cloudy         16.9        79.345494                    False   \n",
       "2             Clear         18.1        12.692646                    False   \n",
       "4            Cloudy         16.0        81.857555                     True   \n",
       "5            Cloudy         13.3        76.052787                    False   \n",
       "\n",
       "  user_city user_weather_preference  age   user_interests  \n",
       "0  New York                     any   41             tech  \n",
       "1    Sydney                 outdoor   46           travel  \n",
       "2     Paris                 outdoor   49             food  \n",
       "4  New York                  indoor   34  tech literature  \n",
       "5   Toronto                 outdoor   34     food fashion  "
      ]
     },
     "execution_count": 20,
     "metadata": {},
     "output_type": "execute_result"
    }
   ],
   "source": [
    "weather_X_train.head()"
   ]
  },
  {
   "cell_type": "code",
   "execution_count": 18,
   "metadata": {},
   "outputs": [
    {
     "name": "stdout",
     "output_type": "stream",
     "text": [
      "Finished: Reading data from Hopsworks, using Hopsworks Feature Query Service (4.33s) \n",
      "2025-05-21 14:34:41,139 WARNING: VersionWarning: Incremented version to `6`.\n",
      "\n"
     ]
    }
   ],
   "source": [
    "# Get training and validation data directly from feature views for no weather ranking\n",
    "no_weather_X_train, no_weather_X_val, no_weather_y_train, no_weather_y_val = \\\n",
    "    feature_view_ranking_no_weather.train_test_split(\n",
    "    test_size=0.1,\n",
    "    description='No-weather ranking training dataset',\n",
    ")\n"
   ]
  },
  {
   "cell_type": "code",
   "execution_count": 32,
   "metadata": {},
   "outputs": [
    {
     "data": {
      "text/plain": [
       "Index(['interaction_distance_to_event', 'event_type', 'event_city', 'duration',\n",
       "       'weather_condition', 'temperature', 'attendance_rate',\n",
       "       'event_indoor_capability', 'user_city', 'user_weather_preference',\n",
       "       'age', 'user_interests'],\n",
       "      dtype='object')"
      ]
     },
     "execution_count": 19,
     "metadata": {},
     "output_type": "execute_result"
    }
   ],
   "source": [
    "weather_X_train.columns\n"
   ]
  },
  {
   "cell_type": "code",
   "execution_count": 2,
   "metadata": {},
   "outputs": [],
   "source": [
    "# import pandas as pd\n",
    "# users_df = pd.read_csv('/home/nkama/masters_thesis_project/thesis/partially_synthetic/data/main_data/users.csv')\n",
    "# events_df = pd.read_csv(\"/home/nkama/masters_thesis_project/thesis/partially_synthetic/data/main_data/events.csv\")\n",
    "# interactions_df = pd.read_csv('/home/nkama/masters_thesis_project/thesis/partially_synthetic/data/main_data/interactions.csv')\n",
    "\n",
    "\n",
    "\n",
    "# # Merge user/event features into interactions\n",
    "# interactions_df = interactions_df.merge(users_df, on=\"user_id\")\n",
    "# interactions_df = interactions_df.merge(events_df, on=\"event_id\", suffixes=('_user', '_event'))\n",
    "# from sklearn.model_selection import train_test_split\n",
    "\n",
    "# NO_WEATHER_SELECTED_FEATURES =['interaction_type',\n",
    "#        'distance_to_event', 'interaction_label',\n",
    "#         'gender', 'joinedAt', 'location', 'age',\n",
    "#       'indoor_outdoor_preference', 'user_interests', \n",
    "#        'start_time', 'city', 'yes_count',\n",
    "#        'maybe_count', 'invited_count', 'no_count', 'total_users', 'category', \n",
    "#        'title', 'event_type','event_indoor_capability']\n",
    "\n",
    "# WEATHER_SELECTED_FEATURES =['interaction_type',\n",
    "#        'distance_to_event', 'interaction_label',\n",
    "#         'gender', 'joinedAt', 'location', 'age',\n",
    "#       'indoor_outdoor_preference',\n",
    "#        'start_time', 'city', 'yes_count',\n",
    "#        'maybe_count', 'invited_count', 'no_count', 'total_users',\n",
    "#        'weather_description', 'category','event_type',\n",
    "#        'event_indoor_capability', 'temperature_2m_mean', 'precipitation_sum']\n",
    "\n",
    "# # )\n",
    "# # Splitting the dataset into features and labels\n",
    "# weather_X = interactions_df[WEATHER_SELECTED_FEATURES]  # Features\n",
    "# weather_y = interactions_df['interaction_label']   \n",
    "\n",
    "# no_weather_X = interactions_df[NO_WEATHER_SELECTED_FEATURES]  # Features\n",
    "# no_weather_y = interactions_df['interaction_label']                   # Labels\n",
    "\n",
    "# # Splitting the dataset into training and evaluation sets\n",
    "# weather_X_train, weather_X_val, weather_y_train, weather_y_val = \\\n",
    "#     train_test_split(weather_X, weather_y, test_size=0.2, random_state=42)\n",
    "\n",
    "# no_weather_X_train, no_weather_X_val, no_weather_y_train, no_weather_y_val = \\\n",
    "#     train_test_split(no_weather_X, no_weather_y, test_size=0.2, random_state=42)"
   ]
  },
  {
   "cell_type": "code",
   "execution_count": 53,
   "metadata": {},
   "outputs": [
    {
     "data": {
      "text/plain": [
       "'CatBoost training function excluding title and user_interests.'"
      ]
     },
     "execution_count": 53,
     "metadata": {},
     "output_type": "execute_result"
    }
   ],
   "source": [
    "from catboost import CatBoostClassifier, Pool\n",
    "from sklearn.metrics import classification_report, precision_recall_fscore_support\n",
    "from sklearn.metrics import confusion_matrix\n",
    "import numpy as np\n",
    "\n",
    "# Final version without text fields (title, user_interests)\n",
    "def train_catboost_without_text_fields(\n",
    "    train_df, val_df, train_y, val_y\n",
    "):\n",
    "    # Drop the text fields if present\n",
    "    text_columns = [\"title\", \"user_interests\"]\n",
    "    train_df = train_df.drop(columns=[col for col in text_columns if col in train_df.columns])\n",
    "    val_df = val_df.drop(columns=[col for col in text_columns if col in val_df.columns])\n",
    "\n",
    "    # Identify categorical features\n",
    "    cat_features = train_df.select_dtypes(include=[\"object\", \"bool\"]).columns.tolist()\n",
    "\n",
    "    # Create CatBoost Pools\n",
    "    train_pool = Pool(train_df, train_y, cat_features=cat_features)\n",
    "    val_pool = Pool(val_df, val_y, cat_features=cat_features)\n",
    "    # Calculate class weights\n",
    "    pos_weight = len(train_y[train_y == 0]) / len(train_y[train_y == 1])\n",
    "\n",
    "\n",
    "    # Train the model\n",
    "    model = CatBoostClassifier(\n",
    "        learning_rate=0.2,\n",
    "        iterations=100,\n",
    "        depth=10,\n",
    "        early_stopping_rounds=5,\n",
    "        use_best_model=True,\n",
    "        scale_pos_weight=10,  # Handle class imbalance\n",
    "        verbose=False\n",
    "    )\n",
    "\n",
    "\n",
    "    model.fit(train_pool, eval_set=val_pool)\n",
    "\n",
    "    # Evaluation\n",
    "    preds = model.predict(val_pool)\n",
    "    precision, recall, fscore, _ = precision_recall_fscore_support(val_y, preds, average=\"binary\")\n",
    "    print(\"\\nClassification Report:\")\n",
    "    print(classification_report(val_y, preds))\n",
    "\n",
    "    metrics = {\n",
    "        \"precision\": precision,\n",
    "        \"recall\": recall,\n",
    "        \"fscore\": fscore,\n",
    "    }\n",
    "    \n",
    "    preds = model.scores = model.predict_proba(val_pool)[:, 1] \n",
    "    print(\"Predicted Class Distribution:\", np.unique(preds, return_counts=True))\n",
    "\n",
    "    # print(\"\\nConfusion Matrix:\")\n",
    "    # print(confusion_matrix(val_y, preds))\n",
    "\n",
    "    return model, metrics, val_pool\n",
    "\n",
    "\"CatBoost training function excluding title and user_interests.\"\n"
   ]
  },
  {
   "cell_type": "code",
   "execution_count": 58,
   "metadata": {},
   "outputs": [
    {
     "name": "stdout",
     "output_type": "stream",
     "text": [
      "\n",
      "Classification Report:\n",
      "2025-05-21 15:04:03,690 WARNING: UndefinedMetricWarning: Precision and F-score are ill-defined and being set to 0.0 in labels with no predicted samples. Use `zero_division` parameter to control this behavior.\n",
      "\n",
      "2025-05-21 15:04:03,728 WARNING: UndefinedMetricWarning: Precision and F-score are ill-defined and being set to 0.0 in labels with no predicted samples. Use `zero_division` parameter to control this behavior.\n",
      "\n",
      "2025-05-21 15:04:03,756 WARNING: UndefinedMetricWarning: Precision and F-score are ill-defined and being set to 0.0 in labels with no predicted samples. Use `zero_division` parameter to control this behavior.\n",
      "\n",
      "              precision    recall  f1-score   support\n",
      "\n",
      "           0       0.00      0.00      0.00      8984\n",
      "           1       0.45      1.00      0.62      7381\n",
      "\n",
      "    accuracy                           0.45     16365\n",
      "   macro avg       0.23      0.50      0.31     16365\n",
      "weighted avg       0.20      0.45      0.28     16365\n",
      "\n",
      "Predicted Class Distribution: (array([0.76678693, 0.77340086, 0.7816716 , ..., 0.97642114, 0.97662405,\n",
      "       0.97718694]), array([1, 1, 1, ..., 1, 1, 1]))\n",
      "\n",
      "Models saved successfully!\n"
     ]
    }
   ],
   "source": [
    "# Use this function to train on your weather / no-weather datasets\n",
    "weather_model, weather_metrics, weather_val_pool = train_catboost_without_text_fields(\n",
    "    train_df=weather_X_train,\n",
    "    val_df=weather_X_val,\n",
    "    train_y=weather_y_train,\n",
    "    val_y=weather_y_val\n",
    ")\n",
    "\n",
    "#Save the models using Joblib\n",
    "joblib.dump(weather_model, '/home/nkama/masters_thesis_project/thesis/models/weather_ranking_model.pkl')\n",
    "print(\"\\nModels saved successfully!\")\n",
    "\n"
   ]
  },
  {
   "cell_type": "code",
   "execution_count": 5,
   "metadata": {},
   "outputs": [
    {
     "data": {
      "text/plain": [
       "{'interaction_type': 76.5778113641695,\n",
       " 'weather_description': 4.30674008101765,\n",
       " 'age': 3.237467817179253,\n",
       " 'category': 2.9370056032853573,\n",
       " 'maybe_count': 2.7196625311286935,\n",
       " 'event_indoor_capability': 2.2254651728353663,\n",
       " 'indoor_outdoor_preference': 2.1986309453821233,\n",
       " 'temperature_2m_mean': 1.9819653541549123,\n",
       " 'distance_to_event': 1.712327496290426,\n",
       " 'total_users': 0.8689565646688637,\n",
       " 'yes_count': 0.7116664731004836,\n",
       " 'invited_count': 0.3244445822618073,\n",
       " 'precipitation_sum': 0.14332783183238257,\n",
       " 'interaction_label': 0.05452766519541397,\n",
       " 'no_count': 2.939750863428235e-07,\n",
       " 'gender': 2.2352268228832082e-07,\n",
       " 'joinedAt': 0.0,\n",
       " 'location': 0.0,\n",
       " 'start_time': 0.0,\n",
       " 'city': 0.0,\n",
       " 'event_type': 0.0}"
      ]
     },
     "execution_count": 5,
     "metadata": {},
     "output_type": "execute_result"
    }
   ],
   "source": [
    "feat_to_score = {\n",
    "    feature: score \n",
    "    for feature, score \n",
    "    in zip(\n",
    "        weather_X_train.columns, \n",
    "        weather_model.feature_importances_,\n",
    "    )\n",
    "}\n",
    "\n",
    "feat_to_score = dict(\n",
    "    sorted(\n",
    "        feat_to_score.items(),\n",
    "        key=lambda item: item[1],\n",
    "        reverse=True,\n",
    "    )\n",
    ")\n",
    "feat_to_score"
   ]
  },
  {
   "cell_type": "code",
   "execution_count": 59,
   "metadata": {},
   "outputs": [
    {
     "name": "stdout",
     "output_type": "stream",
     "text": [
      "\n",
      "Classification Report:\n",
      "2025-05-21 15:04:28,337 WARNING: UndefinedMetricWarning: Precision and F-score are ill-defined and being set to 0.0 in labels with no predicted samples. Use `zero_division` parameter to control this behavior.\n",
      "\n",
      "2025-05-21 15:04:28,350 WARNING: UndefinedMetricWarning: Precision and F-score are ill-defined and being set to 0.0 in labels with no predicted samples. Use `zero_division` parameter to control this behavior.\n",
      "\n",
      "2025-05-21 15:04:28,356 WARNING: UndefinedMetricWarning: Precision and F-score are ill-defined and being set to 0.0 in labels with no predicted samples. Use `zero_division` parameter to control this behavior.\n",
      "\n",
      "              precision    recall  f1-score   support\n",
      "\n",
      "           0       0.00      0.00      0.00      8902\n",
      "           1       0.46      1.00      0.63      7463\n",
      "\n",
      "    accuracy                           0.46     16365\n",
      "   macro avg       0.23      0.50      0.31     16365\n",
      "weighted avg       0.21      0.46      0.29     16365\n",
      "\n",
      "Predicted Class Distribution: (array([0.70096467, 0.70809418, 0.7224312 , ..., 0.97727748, 0.97746981,\n",
      "       0.97780965]), array([1, 1, 1, ..., 1, 1, 1]))\n",
      "\n",
      "Models saved successfully!\n"
     ]
    }
   ],
   "source": [
    "\n",
    "# Use this function to train on your weather / no-weather datasets\n",
    "no_weather_model, no_weather_metrics, no_weather_val_pool = train_catboost_without_text_fields(\n",
    "    train_df=no_weather_X_train,\n",
    "    val_df=no_weather_X_val,\n",
    "    train_y=no_weather_y_train,\n",
    "    val_y=no_weather_y_val\n",
    ")\n",
    "\n",
    "joblib.dump(no_weather_model, '/home/nkama/masters_thesis_project/thesis/models/no_weather_ranking_model.pkl')\n",
    "print(\"\\nModels saved successfully!\")"
   ]
  },
  {
   "cell_type": "code",
   "execution_count": 7,
   "metadata": {},
   "outputs": [
    {
     "data": {
      "text/plain": [
       "{'interaction_type': 54.72122052353688,\n",
       " 'interaction_label': 30.8715625371324,\n",
       " 'maybe_count': 2.3459777055818587,\n",
       " 'city': 2.2449991247582415,\n",
       " 'no_count': 1.6503214458250421,\n",
       " 'age': 1.5090039137423563,\n",
       " 'total_users': 1.4746309724073807,\n",
       " 'distance_to_event': 1.1914178305045156,\n",
       " 'yes_count': 1.1667068796907545,\n",
       " 'indoor_outdoor_preference': 1.1514013475146947,\n",
       " 'category': 0.7191426447743281,\n",
       " 'title': 0.48369153655103775,\n",
       " 'invited_count': 0.3897249471402347,\n",
       " 'start_time': 0.08019859084027804,\n",
       " 'gender': 0.0,\n",
       " 'joinedAt': 0.0,\n",
       " 'location': 0.0,\n",
       " 'user_interests': 0.0}"
      ]
     },
     "execution_count": 7,
     "metadata": {},
     "output_type": "execute_result"
    }
   ],
   "source": [
    "\n",
    "feat_to_score = {\n",
    "    feature: score \n",
    "    for feature, score \n",
    "    in zip(\n",
    "        no_weather_X_train.columns, \n",
    "        no_weather_model.feature_importances_,\n",
    "    )\n",
    "}\n",
    "\n",
    "feat_to_score = dict(\n",
    "    sorted(\n",
    "        feat_to_score.items(),\n",
    "        key=lambda item: item[1],\n",
    "        reverse=True,\n",
    "    )\n",
    ")\n",
    "feat_to_score"
   ]
  },
  {
   "cell_type": "code",
   "execution_count": 8,
   "metadata": {},
   "outputs": [
    {
     "data": {
      "text/plain": [
       "'✅ Evaluation function ready: scores ranking model using AUC, MAP, Precision@K, Recall@K, and NDCG@K.'"
      ]
     },
     "execution_count": 8,
     "metadata": {},
     "output_type": "execute_result"
    }
   ],
   "source": [
    "# from sklearn.metrics import roc_auc_score, average_precision_score, ndcg_score, precision_score, recall_score\n",
    "# import numpy as np\n",
    "\n",
    "\n",
    "# def evaluate_ranking_model_proba(model, val_pool, val_y, k_list=[5, 10]):\n",
    "#     \"\"\"\n",
    "#     Evaluate a CatBoost ranking model using predicted probabilities, not binary class outputs.\n",
    "#     \"\"\"\n",
    "\n",
    "#     # Predict class probabilities (not class labels)\n",
    "#     proba = model.predict_proba(val_pool)[:, 1]  # Probability for class 1\n",
    "\n",
    "#     results = {\n",
    "#         \"AUC\": roc_auc_score(val_y, proba),\n",
    "#         \"Average Precision (MAP)\": average_precision_score(val_y, proba),\n",
    "#     }\n",
    "\n",
    "#     # Convert to numpy arrays\n",
    "#     true_labels = np.array(val_y)\n",
    "#     predicted_scores = np.array(proba)\n",
    "\n",
    "#     # Sort by predicted score\n",
    "#     sorted_indices = np.argsort(predicted_scores)[::-1]\n",
    "#     sorted_true = true_labels[sorted_indices]\n",
    "\n",
    "#     for k in k_list:\n",
    "#         top_k = sorted_true[:k]\n",
    "#         precision_at_k = np.mean(top_k)\n",
    "#         recall_at_k = np.sum(top_k) / np.sum(true_labels)\n",
    "#         ndcg_at_k = ndcg_score(\n",
    "#             y_true=true_labels.reshape(1, -1),\n",
    "#             y_score=predicted_scores.reshape(1, -1),\n",
    "#             k=k\n",
    "#         )\n",
    "\n",
    "\n",
    "\n",
    "#         results[f\"Precision@{k}\"] = precision_at_k\n",
    "#         results[f\"Recall@{k}\"] = recall_at_k\n",
    "#         results[f\"NDCG@{k}\"] = ndcg_at_k\n",
    "\n",
    "#     return results\n",
    "\n",
    "# \"✅ Evaluation function ready: scores ranking model using AUC, MAP, Precision@K, Recall@K, and NDCG@K.\"\n"
   ]
  },
  {
   "cell_type": "code",
   "execution_count": null,
   "metadata": {},
   "outputs": [],
   "source": [
    "\n",
    "# # Evaluate weather-aware model\n",
    "# weather_scores = evaluate_ranking_model_proba(\n",
    "#     model=weather_model,\n",
    "#     val_pool=weather_val_pool,\n",
    "#     val_y=weather_y_val\n",
    "# )\n",
    "\n",
    "# # Evaluate no-weather model\n",
    "# no_weather_scores = evaluate_ranking_model_proba(\n",
    "#     model=no_weather_model,\n",
    "#     val_pool=no_weather_val_pool,\n",
    "#     val_y=no_weather_y_val\n",
    "# )\n",
    "\n",
    "# # Compare results\n",
    "# print(\"Weather Model Scores:\")\n",
    "# for k, v in weather_scores.items():\n",
    "#     print(f\"{k}: {v:.4f}\")\n",
    "\n",
    "# print(\"\\nNo-Weather Model Scores:\")\n",
    "# for k, v in no_weather_scores.items():\n",
    "#     print(f\"{k}: {v:.4f}\")\n"
   ]
  },
  {
   "cell_type": "code",
   "execution_count": 60,
   "metadata": {},
   "outputs": [],
   "source": [
    "# Connect to Hopsworks Model Registry\n",
    "mr = project.get_model_registry()"
   ]
  },
  {
   "cell_type": "code",
   "execution_count": 62,
   "metadata": {},
   "outputs": [
    {
     "data": {
      "application/vnd.jupyter.widget-view+json": {
       "model_id": "f77b8beb6c7e482cb7e8cd3d7008de4c",
       "version_major": 2,
       "version_minor": 0
      },
      "text/plain": [
       "  0%|          | 0/6 [00:00<?, ?it/s]"
      ]
     },
     "metadata": {},
     "output_type": "display_data"
    },
    {
     "data": {
      "application/vnd.jupyter.widget-view+json": {
       "model_id": "f044b6d3d34646808474dde20729fd20",
       "version_major": 2,
       "version_minor": 0
      },
      "text/plain": [
       "Uploading /home/nkama/masters_thesis_project/thesis/models/weather_ranking_model.pkl: 0.000%|          | 0/498…"
      ]
     },
     "metadata": {},
     "output_type": "display_data"
    },
    {
     "data": {
      "application/vnd.jupyter.widget-view+json": {
       "model_id": "fa6c79188b1e40f1be4f779bbf770d77",
       "version_major": 2,
       "version_minor": 0
      },
      "text/plain": [
       "Uploading /home/nkama/masters_thesis_project/thesis/notebooks/input_example.json: 0.000%|          | 0/351 ela…"
      ]
     },
     "metadata": {},
     "output_type": "display_data"
    },
    {
     "data": {
      "application/vnd.jupyter.widget-view+json": {
       "model_id": "14e8ca83d99b406b9b93854a5e777040",
       "version_major": 2,
       "version_minor": 0
      },
      "text/plain": [
       "Uploading /home/nkama/masters_thesis_project/thesis/notebooks/model_schema.json: 0.000%|          | 0/1094 ela…"
      ]
     },
     "metadata": {},
     "output_type": "display_data"
    },
    {
     "name": "stdout",
     "output_type": "stream",
     "text": [
      "Model created, explore it at https://c.app.hopsworks.ai:443/p/1220788/models/weather_ranking_model/1\n"
     ]
    },
    {
     "data": {
      "text/plain": [
       "Model(name: 'weather_ranking_model', version: 1)"
      ]
     },
     "execution_count": 62,
     "metadata": {},
     "output_type": "execute_result"
    }
   ],
   "source": [
    "from hsml.schema import Schema\n",
    "from hsml.model_schema import ModelSchema\n",
    "\n",
    "# Create model schema for weather ranking model\n",
    "input_example = weather_X_train.sample().to_dict(\"records\")\n",
    "input_schema = Schema(weather_X_train)\n",
    "output_schema = Schema(weather_y_train)\n",
    "model_schema = ModelSchema(input_schema, output_schema)\n",
    "\n",
    "weather_ranking_model = mr.python.create_model(\n",
    "    name=\"weather_ranking_model\", \n",
    "    metrics=weather_metrics,\n",
    "    model_schema=model_schema,\n",
    "    input_example=input_example,\n",
    "    description=\"Ranking model that scores item candidates\",\n",
    ")\n",
    "weather_ranking_model.save(\"/home/nkama/masters_thesis_project/thesis/models/weather_ranking_model.pkl\")"
   ]
  },
  {
   "cell_type": "code",
   "execution_count": 63,
   "metadata": {},
   "outputs": [
    {
     "data": {
      "application/vnd.jupyter.widget-view+json": {
       "model_id": "19dbf6fded6e4e8d8ab00cc7500c6585",
       "version_major": 2,
       "version_minor": 0
      },
      "text/plain": [
       "  0%|          | 0/6 [00:00<?, ?it/s]"
      ]
     },
     "metadata": {},
     "output_type": "display_data"
    },
    {
     "data": {
      "application/vnd.jupyter.widget-view+json": {
       "model_id": "1e1a51a9766645929bbfc1e521b48ba4",
       "version_major": 2,
       "version_minor": 0
      },
      "text/plain": [
       "Uploading /home/nkama/masters_thesis_project/thesis/models/no_weather_ranking_model.pkl: 0.000%|          | 0/…"
      ]
     },
     "metadata": {},
     "output_type": "display_data"
    },
    {
     "data": {
      "application/vnd.jupyter.widget-view+json": {
       "model_id": "3eea5e1c98994785896eaa8b32d93f7b",
       "version_major": 2,
       "version_minor": 0
      },
      "text/plain": [
       "Uploading /home/nkama/masters_thesis_project/thesis/notebooks/input_example.json: 0.000%|          | 0/261 ela…"
      ]
     },
     "metadata": {},
     "output_type": "display_data"
    },
    {
     "data": {
      "application/vnd.jupyter.widget-view+json": {
       "model_id": "d28cc77035f34a6984b6d520f18fadb0",
       "version_major": 2,
       "version_minor": 0
      },
      "text/plain": [
       "Uploading /home/nkama/masters_thesis_project/thesis/notebooks/model_schema.json: 0.000%|          | 0/856 elap…"
      ]
     },
     "metadata": {},
     "output_type": "display_data"
    },
    {
     "name": "stdout",
     "output_type": "stream",
     "text": [
      "Model created, explore it at https://c.app.hopsworks.ai:443/p/1220788/models/no_weather_ranking_model/1\n"
     ]
    },
    {
     "data": {
      "text/plain": [
       "Model(name: 'no_weather_ranking_model', version: 1)"
      ]
     },
     "execution_count": 63,
     "metadata": {},
     "output_type": "execute_result"
    }
   ],
   "source": [
    "# Create model schema for no weather ranking model  \n",
    "input_example = no_weather_X_train.sample().to_dict(\"records\")\n",
    "input_schema = Schema(no_weather_X_train)\n",
    "output_schema = Schema(no_weather_y_train)\n",
    "model_schema = ModelSchema(input_schema, output_schema)\n",
    "\n",
    "no_weather_ranking_model = mr.python.create_model(\n",
    "    name=\"no_weather_ranking_model\", \n",
    "    metrics=no_weather_metrics,\n",
    "    model_schema=model_schema,\n",
    "    input_example=input_example,\n",
    "    description=\"Ranking model that scores item candidates\",\n",
    ")\n",
    "no_weather_ranking_model.save(\"/home/nkama/masters_thesis_project/thesis/models/no_weather_ranking_model.pkl\")"
   ]
  },
  {
   "cell_type": "code",
   "execution_count": null,
   "metadata": {},
   "outputs": [],
   "source": []
  },
  {
   "cell_type": "code",
   "execution_count": null,
   "metadata": {},
   "outputs": [],
   "source": []
  }
 ],
 "metadata": {
  "kernelspec": {
   "display_name": "thesisenv",
   "language": "python",
   "name": "python3"
  },
  "language_info": {
   "codemirror_mode": {
    "name": "ipython",
    "version": 3
   },
   "file_extension": ".py",
   "mimetype": "text/x-python",
   "name": "python",
   "nbconvert_exporter": "python",
   "pygments_lexer": "ipython3",
   "version": "3.10.6"
  }
 },
 "nbformat": 4,
 "nbformat_minor": 2
}
