{
 "cells": [
  {
   "cell_type": "markdown",
   "metadata": {},
   "source": [
    "## <span style=\"color:#ff5f27\">👨🏻‍🏫 Create Deployment </span>\n",
    "\n",
    "Creating a deployment for the recommendation system.\n"
   ]
  },
  {
   "cell_type": "markdown",
   "metadata": {
    "vscode": {
     "languageId": "plaintext"
    }
   },
   "source": [
    "## <span style=\"color:#ff5f27\">📝 Imports </span>\n"
   ]
  },
  {
   "cell_type": "code",
   "execution_count": 2,
   "metadata": {},
   "outputs": [],
   "source": [
    "import os\n",
    "import hopsworks"
   ]
  },
  {
   "cell_type": "markdown",
   "metadata": {},
   "source": [
    "## <span style=\"color:#ff5f27\">🔮 Connect to Hopsworks </span>"
   ]
  },
  {
   "cell_type": "code",
   "execution_count": 3,
   "metadata": {},
   "outputs": [
    {
     "name": "stdout",
     "output_type": "stream",
     "text": [
      "2025-06-24 17:24:29,284 INFO: Initializing external client\n",
      "2025-06-24 17:24:29,288 INFO: Base URL: https://c.app.hopsworks.ai:443\n",
      "2025-06-24 17:24:30,735 INFO: Python Engine initialized.\n",
      "\n",
      "Logged in to project, explore it here https://c.app.hopsworks.ai:443/p/1220788\n"
     ]
    }
   ],
   "source": [
    "import hopsworks\n",
    "\n",
    "project = hopsworks.login()\n",
    "\n",
    "# Connect to Hopsworks Model Registry\n",
    "mr = project.get_model_registry()\n",
    "\n",
    "dataset_api = project.get_dataset_api()"
   ]
  },
  {
   "cell_type": "markdown",
   "metadata": {},
   "source": [
    "# Testing the recsys "
   ]
  },
  {
   "cell_type": "code",
   "execution_count": 4,
   "metadata": {},
   "outputs": [
    {
     "data": {
      "text/plain": [
       "Model(name: 'weather_ranking_model', version: 1)"
      ]
     },
     "execution_count": 4,
     "metadata": {},
     "output_type": "execute_result"
    }
   ],
   "source": [
    "weather_ranking_model = mr.get_best_model(\n",
    "    name=\"weather_ranking_model\", \n",
    "    metric=\"fscore\", \n",
    "    direction=\"max\",\n",
    ")\n",
    "weather_ranking_model\n"
   ]
  },
  {
   "cell_type": "code",
   "execution_count": 6,
   "metadata": {},
   "outputs": [
    {
     "data": {
      "text/plain": [
       "Model(name: 'no_weather_ranking_model', version: 1)"
      ]
     },
     "execution_count": 6,
     "metadata": {},
     "output_type": "execute_result"
    }
   ],
   "source": [
    "no_weather_ranking_model = mr.get_best_model(\n",
    "    name=\"no_weather_ranking_model\", \n",
    "    metric=\"fscore\", \n",
    "    direction=\"max\",\n",
    ")\n",
    "no_weather_ranking_model"
   ]
  },
  {
   "cell_type": "code",
   "execution_count": 7,
   "metadata": {},
   "outputs": [
    {
     "name": "stdout",
     "output_type": "stream",
     "text": [
      "<hsfs.feature_view.FeatureView object at 0x765e808a43d0>\n"
     ]
    }
   ],
   "source": [
    "#project = hopsworks.connection().get_project()\n",
    "fs = project.get_feature_store()\n",
    "        \n",
    "events_fv = fs.get_feature_view(\n",
    "            name=\"events\", \n",
    "            version=1,\n",
    "        )\n",
    "# Retrieve the 'users' feature view\n",
    "users_fv = fs.get_feature_view(\n",
    "    name=\"users\", \n",
    "    version=1,\n",
    ")\n",
    "\n",
    "interactions_fv = fs.get_feature_view(\n",
    "            name=\"interactions\", \n",
    "            version=1,\n",
    "        )\n",
    "\n",
    "print(events_fv)"
   ]
  },
  {
   "cell_type": "code",
   "execution_count": 8,
   "metadata": {},
   "outputs": [],
   "source": [
    "# Retrieve the 'candidate_embeddings' feature view\n",
    "candidate_index = fs.get_feature_view(\n",
    "    name=\"candidate_embeddings\", \n",
    "    version=1,\n",
    ")"
   ]
  },
  {
   "cell_type": "code",
   "execution_count": 9,
   "metadata": {},
   "outputs": [],
   "source": [
    "event_features = [feat.name for feat in events_fv.schema]\n"
   ]
  },
  {
   "cell_type": "code",
   "execution_count": 10,
   "metadata": {},
   "outputs": [
    {
     "data": {
      "application/vnd.jupyter.widget-view+json": {
       "model_id": "674132dfec824ecf98e7d4a425648901",
       "version_major": 2,
       "version_minor": 0
      },
      "text/plain": [
       "Downloading: 0.000%|          | 0/1283 elapsed<00:00 remaining<?"
      ]
     },
     "metadata": {},
     "output_type": "display_data"
    },
    {
     "data": {
      "text/plain": [
       "[{'name': 'interaction_distance_to_event', 'type': 'float64'},\n",
       " {'name': 'event_type', 'type': 'object'},\n",
       " {'name': 'event_city', 'type': 'object'},\n",
       " {'name': 'weather_condition', 'type': 'object'},\n",
       " {'name': 'temperature', 'type': 'float64'},\n",
       " {'name': 'attendance_rate', 'type': 'float64'},\n",
       " {'name': 'event_indoor_capability', 'type': 'bool'},\n",
       " {'name': 'user_city', 'type': 'object'},\n",
       " {'name': 'indoor_outdoor_preference', 'type': 'object'},\n",
       " {'name': 'age', 'type': 'int64'},\n",
       " {'name': 'user_interests', 'type': 'object'},\n",
       " {'name': 'user_weather_condition', 'type': 'object'},\n",
       " {'name': 'user_temperature', 'type': 'float64'},\n",
       " {'name': 'user_precipitation', 'type': 'float64'}]"
      ]
     },
     "execution_count": 10,
     "metadata": {},
     "output_type": "execute_result"
    }
   ],
   "source": [
    "\n",
    "mr = project.get_model_registry()\n",
    "model = mr.get_model(\n",
    "    name=\"weather_ranking_model\", \n",
    "    version=1,\n",
    ")\n",
    "\n",
    "# Extract input schema from the model\n",
    "input_schema = model.model_schema[\"input_schema\"][\"columnar_schema\"]\n",
    "input_schema"
   ]
  },
  {
   "cell_type": "code",
   "execution_count": 11,
   "metadata": {},
   "outputs": [
    {
     "data": {
      "text/plain": [
       "['interaction_distance_to_event',\n",
       " 'event_type',\n",
       " 'event_city',\n",
       " 'weather_condition',\n",
       " 'temperature',\n",
       " 'attendance_rate',\n",
       " 'event_indoor_capability',\n",
       " 'user_city',\n",
       " 'indoor_outdoor_preference',\n",
       " 'age',\n",
       " 'user_interests',\n",
       " 'user_weather_condition',\n",
       " 'user_temperature',\n",
       " 'user_precipitation']"
      ]
     },
     "execution_count": 11,
     "metadata": {},
     "output_type": "execute_result"
    }
   ],
   "source": [
    "weather_ranking_model_feature_names = [feat[\"name\"] for feat in input_schema]\n",
    "weather_ranking_model_feature_names"
   ]
  },
  {
   "cell_type": "code",
   "execution_count": 13,
   "metadata": {},
   "outputs": [
    {
     "name": "stdout",
     "output_type": "stream",
     "text": [
      "['FS955S', 'CM824R', 'CR399H', 'TW818N', 'VF065U', 'OH995L', 'PA960E', 'QX017G', 'TO649I', 'YL323F']\n",
      "creating event data...\n",
      "Finished: Reading data from Hopsworks, using Hopsworks Feature Query Service (2.69s) \n",
      "Finished: Reading data from Hopsworks, using Hopsworks Feature Query Service (1.92s) \n",
      "Finished: Reading data from Hopsworks, using Hopsworks Feature Query Service (9.48s) \n",
      "{'inputs': [{'ranking_features': [['FS955S', 'Synchronized client-driven workforce Sports & Fitness in Dubai', 'Sports & Fitness', 25.01075164544951, 55.54634522856133, 'Dubai', '2025-06-01 10:01:27.913269', 360, 'Clear', 34.7, 0.0, 2.9563114249415383, False, 'LU170D', 'WA283W', 'maybe', '2025-05-24 02:51:10.222569', 60.26155097929416, 1, 25.52448963074197, 55.74306931194354, 'Dubai', 'outdoor', 46, 'art,travel,fashion', '2024-04-26 16:26:39.347184', 13, 'Rain', 31.5, 18.94], ['CM824R', 'Up-sized regional frame Sports & Fitness in Dubai', 'Sports & Fitness', 25.39250480071952, 55.10723236055948, 'Dubai', '2025-11-03 13:37:41.192741', 360, 'Clear', 36.3, 0.0, 23.428276916080268, False, 'YU870O', 'WA283W', 'maybe', '2025-10-20 13:08:54.339178', 65.59770663119492, 1, 25.52448963074197, 55.74306931194354, 'Dubai', 'outdoor', 46, 'art,travel,fashion', '2024-04-26 16:26:39.347184', 13, 'Rain', 31.5, 18.94], ['FS955S', 'Synchronized client-driven workforce Sports & Fitness in Dubai', 'Sports & Fitness', 25.01075164544951, 55.54634522856133, 'Dubai', '2025-06-01 10:01:27.913269', 360, 'Clear', 34.7, 0.0, 2.9563114249415383, False, 'LE872H', 'YU906X', 'maybe', '2025-05-29 03:40:04.834404', 42.87007043354578, 1, 25.1727483150431, 55.160386955067466, 'Dubai', 'any', 36, 'fashion,literature,art,travel', '2023-09-22 10:48:51.618799', 12, 'Clear', 36.9, 0.0], ['FS955S', 'Synchronized client-driven workforce Sports & Fitness in Dubai', 'Sports & Fitness', 25.01075164544951, 55.54634522856133, 'Dubai', '2025-06-01 10:01:27.913269', 360, 'Clear', 34.7, 0.0, 2.9563114249415383, False, 'RS119W', 'NI150L', 'yes', '2025-05-18 08:27:43.140122', 58.80642249722898, 1, 25.483840210010754, 55.28154750756751, 'Dubai', 'outdoor', 34, 'cinema,music', '2023-11-06 10:12:33.576977', 15, 'Rain', 29.8, 17.32], ['PA960E', 'Open-architected coherent initiative Immersive Experiences in Dubai', 'Immersive Experiences', 25.192263822907588, 55.442867493528034, 'Dubai', '2025-06-03 19:51:27.977049', 360, 'Clear', 34.7, 0.0, 7.844354083146755, True, 'GD285H', 'NI150L', 'yes', '2025-05-31 05:38:15.790726', 36.15322287187628, 1, 25.483840210010754, 55.28154750756751, 'Dubai', 'outdoor', 34, 'cinema,music', '2023-11-06 10:12:33.576977', 15, 'Rain', 29.8, 17.32], ['FS955S', 'Synchronized client-driven workforce Sports & Fitness in Dubai', 'Sports & Fitness', 25.01075164544951, 55.54634522856133, 'Dubai', '2025-06-01 10:01:27.913269', 360, 'Clear', 34.7, 0.0, 2.9563114249415383, False, 'ND635C', 'UE816K', 'maybe', '2025-05-31 02:17:24.506358', 65.89569573036187, 1, 25.55846505730648, 55.291093585696586, 'Dubai', 'outdoor', 40, 'fashion,food', '2025-03-08 22:06:07.974688', 12, 'Rain', 29.0, 3.53], ['FS955S', 'Synchronized client-driven workforce Sports & Fitness in Dubai', 'Sports & Fitness', 25.01075164544951, 55.54634522856133, 'Dubai', '2025-06-01 10:01:27.913269', 360, 'Clear', 34.7, 0.0, 2.9563114249415383, False, 'RO676T', 'CK078M', 'invited', '2025-05-31 01:13:05.691199', 45.20949600680889, 0, 24.85867307213039, 55.13097594470576, 'Dubai', 'indoor', 31, 'literature,fitness,fashion', '2024-08-18 00:30:17.259965', 26, 'Rain', 31.8, 9.07], ['FS955S', 'Synchronized client-driven workforce Sports & Fitness in Dubai', 'Sports & Fitness', 25.01075164544951, 55.54634522856133, 'Dubai', '2025-06-01 10:01:27.913269', 360, 'Clear', 34.7, 0.0, 2.9563114249415383, False, 'WK547M', 'CK078M', 'no', '2025-05-11 15:17:53.540989', 45.20949600680889, 0, 24.85867307213039, 55.13097594470576, 'Dubai', 'indoor', 31, 'literature,fitness,fashion', '2024-08-18 00:30:17.259965', 26, 'Rain', 31.8, 9.07], ['PA960E', 'Open-architected coherent initiative Immersive Experiences in Dubai', 'Immersive Experiences', 25.192263822907588, 55.442867493528034, 'Dubai', '2025-06-03 19:51:27.977049', 360, 'Clear', 34.7, 0.0, 7.844354083146755, True, 'DF523C', 'CK078M', 'maybe', '2025-05-15 14:25:41.382178', 48.54318822934708, 1, 24.85867307213039, 55.13097594470576, 'Dubai', 'indoor', 31, 'literature,fitness,fashion', '2024-08-18 00:30:17.259965', 26, 'Rain', 31.8, 9.07], ['TO649I', 'Diverse contextually-based architecture Sports & Fitness in Dubai', 'Sports & Fitness', 25.70335722425577, 55.45476031632828, 'Dubai', '2025-09-28 10:34:30.639201', 120, 'Rain', 30.1, 15.89, 8.695867184973336, False, 'FE866C', 'CK078M', 'invited & yes', '2025-09-23 02:52:28.194097', 99.09148155992266, 1, 24.85867307213039, 55.13097594470576, 'Dubai', 'indoor', 31, 'literature,fitness,fashion', '2024-08-18 00:30:17.259965', 26, 'Rain', 31.8, 9.07], ['FS955S', 'Synchronized client-driven workforce Sports & Fitness in Dubai', 'Sports & Fitness', 25.01075164544951, 55.54634522856133, 'Dubai', '2025-06-01 10:01:27.913269', 360, 'Clear', 34.7, 0.0, 2.9563114249415383, False, 'SA426W', 'UL693T', 'no', '2025-05-15 00:20:20.012099', 20.6291146791137, 0, 25.066888944979144, 55.35143982631376, 'Dubai', 'indoor', 36, 'tech,fitness', '2024-01-11 19:37:41.631818', 11, 'Clear', 36.0, 0.0], ['FS955S', 'Synchronized client-driven workforce Sports & Fitness in Dubai', 'Sports & Fitness', 25.01075164544951, 55.54634522856133, 'Dubai', '2025-06-01 10:01:27.913269', 360, 'Clear', 34.7, 0.0, 2.9563114249415383, False, 'OA750S', 'UL693T', 'invited & yes', '2025-05-22 17:29:30.375868', 20.6291146791137, 1, 25.066888944979144, 55.35143982631376, 'Dubai', 'indoor', 36, 'tech,fitness', '2024-01-11 19:37:41.631818', 11, 'Clear', 36.0, 0.0], ['FS955S', 'Synchronized client-driven workforce Sports & Fitness in Dubai', 'Sports & Fitness', 25.01075164544951, 55.54634522856133, 'Dubai', '2025-06-01 10:01:27.913269', 360, 'Clear', 34.7, 0.0, 2.9563114249415383, False, 'XJ535T', 'QO184R', 'no', '2025-05-26 19:52:56.791657', 53.96280464403415, 0, 24.906906362041592, 55.02425567842571, 'Dubai', 'any', 55, 'fashion,literature', '2023-08-18 18:47:19.193141', 11, 'Rain', 31.0, 5.67], ['FS955S', 'Synchronized client-driven workforce Sports & Fitness in Dubai', 'Sports & Fitness', 25.01075164544951, 55.54634522856133, 'Dubai', '2025-06-01 10:01:27.913269', 360, 'Clear', 34.7, 0.0, 2.9563114249415383, False, 'EL635R', 'ZU223N', 'invited & yes', '2025-05-02 19:17:57.300159', 44.72010694805958, 1, 25.081476440429466, 55.11004066117384, 'Dubai', 'any', 27, 'travel,tech,cinema,sports', '2025-02-02 16:44:12.433807', 10, 'Cloudy', 33.1, 0.34], ['FS955S', 'Synchronized client-driven workforce Sports & Fitness in Dubai', 'Sports & Fitness', 25.01075164544951, 55.54634522856133, 'Dubai', '2025-06-01 10:01:27.913269', 360, 'Clear', 34.7, 0.0, 2.9563114249415383, False, 'LV741B', 'IE621M', 'invited & yes', '2025-05-24 08:41:12.964269', 78.19653045842564, 1, 25.237963302493387, 54.81221921796271, 'Dubai', 'outdoor', 26, 'food,sports,art', '2023-11-20 04:34:27.886487', 14, 'Clear', 36.1, 0.0], ['FS955S', 'Synchronized client-driven workforce Sports & Fitness in Dubai', 'Sports & Fitness', 25.01075164544951, 55.54634522856133, 'Dubai', '2025-06-01 10:01:27.913269', 360, 'Clear', 34.7, 0.0, 2.9563114249415383, False, 'GM168P', 'AO893P', 'invited & no', '2025-05-26 10:29:27.861899', 10.26968109258112, 0, 25.0004247784679, 55.647446997146126, 'Dubai', 'any', 45, 'tech,cinema', '2024-11-30 13:54:13.774701', 12, 'Clear', 36.5, 0.0], ['TW818N', 'Digitized scalable knowledge user Sports & Fitness in Dubai', 'Sports & Fitness', 24.891811474505943, 55.25749775782706, 'Dubai', '2025-07-24 19:20:59.598287', 120, 'Snow', 27.3, 7.88, 19.856769703819968, False, 'VM054N', 'AO893P', 'no', '2025-07-22 01:57:10.044241', 41.179327390449885, 0, 25.0004247784679, 55.647446997146126, 'Dubai', 'any', 45, 'tech,cinema', '2024-11-30 13:54:13.774701', 12, 'Clear', 36.5, 0.0], ['FS955S', 'Synchronized client-driven workforce Sports & Fitness in Dubai', 'Sports & Fitness', 25.01075164544951, 55.54634522856133, 'Dubai', '2025-06-01 10:01:27.913269', 360, 'Clear', 34.7, 0.0, 2.9563114249415383, False, 'VE538B', 'CJ422L', 'no', '2025-05-25 00:32:21.175269', 25.358177163222397, 0, 25.170399094536705, 55.72650443072033, 'Dubai', 'indoor', 28, 'cinema,fashion,music', '2023-12-14 03:50:29.180478', 16, 'Cloudy', 33.2, 0.26], ['FS955S', 'Synchronized client-driven workforce Sports & Fitness in Dubai', 'Sports & Fitness', 25.01075164544951, 55.54634522856133, 'Dubai', '2025-06-01 10:01:27.913269', 360, 'Clear', 34.7, 0.0, 2.9563114249415383, False, 'MD196B', 'MG494W', 'invited & yes', '2025-05-10 11:01:30.837980', 45.769454586364965, 1, 25.06759423516013, 55.09712648276864, 'Dubai', 'any', 41, 'fashion,fitness,travel', '2025-05-10 19:00:56.714752', 15, 'Rain', 31.8, 11.15], ['FS955S', 'Synchronized client-driven workforce Sports & Fitness in Dubai', 'Sports & Fitness', 25.01075164544951, 55.54634522856133, 'Dubai', '2025-06-01 10:01:27.913269', 360, 'Clear', 34.7, 0.0, 2.9563114249415383, False, 'VS848Z', 'ED327G', 'maybe', '2025-05-21 16:38:44.973107', 91.54348443922986, 1, 25.58152159154584, 54.88899033794183, 'Dubai', 'outdoor', 33, 'music,cinema,tech', '2024-06-27 10:06:21.359913', 12, 'Clear', 36.1, 0.0], ['YL323F', 'Distributed interactive architecture Arts & Culture in Dubai', 'Arts & Culture', 24.73333260410337, 54.98840298498484, 'Dubai', '2025-09-08 13:59:05.242018', 360, 'Clear', 36.5, 0.0, 67.48365645583725, True, 'NH451K', 'ED327G', 'invited & maybe', '2025-08-25 01:09:34.876804', 94.4914073885828, 1, 25.58152159154584, 54.88899033794183, 'Dubai', 'outdoor', 33, 'music,cinema,tech', '2024-06-27 10:06:21.359913', 12, 'Clear', 36.1, 0.0], ['FS955S', 'Synchronized client-driven workforce Sports & Fitness in Dubai', 'Sports & Fitness', 25.01075164544951, 55.54634522856133, 'Dubai', '2025-06-01 10:01:27.913269', 360, 'Clear', 34.7, 0.0, 2.9563114249415383, False, 'EI044L', 'SX976Z', 'yes', '2025-05-04 00:02:53.946675', 35.3899216860688, 1, 24.84482930611181, 55.24693592975923, 'Dubai', 'outdoor', 42, 'food,music', '2024-01-14 23:54:58.105249', 12, 'Cloudy', 31.1, 0.31], ['FS955S', 'Synchronized client-driven workforce Sports & Fitness in Dubai', 'Sports & Fitness', 25.01075164544951, 55.54634522856133, 'Dubai', '2025-06-01 10:01:27.913269', 360, 'Clear', 34.7, 0.0, 2.9563114249415383, False, 'AN665X', 'OR719W', 'yes', '2025-05-07 13:48:52.230722', 30.236060746846217, 1, 24.789433720948743, 55.72151301646197, 'Dubai', 'outdoor', 30, 'sports,fitness,cinema,travel', '2025-03-21 11:23:21.947082', 14, 'Rain', 31.2, 9.46], ['YL323F', 'Distributed interactive architecture Arts & Culture in Dubai', 'Arts & Culture', 24.73333260410337, 54.98840298498484, 'Dubai', '2025-09-08 13:59:05.242018', 360, 'Clear', 36.5, 0.0, 67.48365645583725, True, 'WB796M', 'OR719W', 'no', '2025-08-31 11:56:44.730303', 74.40966666106463, 0, 24.789433720948743, 55.72151301646197, 'Dubai', 'outdoor', 30, 'sports,fitness,cinema,travel', '2025-03-21 11:23:21.947082', 14, 'Rain', 31.2, 9.46], ['FS955S', 'Synchronized client-driven workforce Sports & Fitness in Dubai', 'Sports & Fitness', 25.01075164544951, 55.54634522856133, 'Dubai', '2025-06-01 10:01:27.913269', 360, 'Clear', 34.7, 0.0, 2.9563114249415383, False, 'BD908Y', 'CT485E', 'invited & yes', '2025-05-29 13:53:29.772780', 85.30469644932337, 1, 25.46642609904185, 54.86382229532607, 'Dubai', 'outdoor', 32, 'literature,music', '2025-04-05 23:31:09.373615', 14, 'Windy', 30.7, 0.29], ['FS955S', 'Synchronized client-driven workforce Sports & Fitness in Dubai', 'Sports & Fitness', 25.01075164544951, 55.54634522856133, 'Dubai', '2025-06-01 10:01:27.913269', 360, 'Clear', 34.7, 0.0, 2.9563114249415383, False, 'CE512U', 'YH023S', 'no', '2025-05-09 03:58:05.881781', 33.938063138185406, 0, 25.315844399386613, 55.57703326161141, 'Dubai', 'outdoor', 31, 'fitness,travel,art,literature', '2024-02-29 23:19:20.450644', 16, 'Cloudy', 32.6, 0.16], ['FS955S', 'Synchronized client-driven workforce Sports & Fitness in Dubai', 'Sports & Fitness', 25.01075164544951, 55.54634522856133, 'Dubai', '2025-06-01 10:01:27.913269', 360, 'Clear', 34.7, 0.0, 2.9563114249415383, False, 'RZ269V', 'XP670K', 'invited & yes', '2025-05-12 03:26:23.638155', 35.58085483164464, 1, 25.267391848743948, 55.33416311299463, 'Dubai', 'any', 36, 'tech,sports,cinema', '2024-10-31 18:37:32.108608', 18, 'Cloudy', 33.9, 0.49], ['FS955S', 'Synchronized client-driven workforce Sports & Fitness in Dubai', 'Sports & Fitness', 25.01075164544951, 55.54634522856133, 'Dubai', '2025-06-01 10:01:27.913269', 360, 'Clear', 34.7, 0.0, 2.9563114249415383, False, 'UI254N', 'EG639L', 'invited & yes', '2025-05-20 12:43:18.122185', 58.16391321021006, 1, 24.99290239142476, 54.97050423091312, 'Dubai', 'any', 26, 'tech,literature', '2023-12-21 23:02:05.742331', 16, 'Clear', 36.8, 0.0], ['CM824R', 'Up-sized regional frame Sports & Fitness in Dubai', 'Sports & Fitness', 25.39250480071952, 55.10723236055948, 'Dubai', '2025-11-03 13:37:41.192741', 360, 'Clear', 36.3, 0.0, 23.428276916080268, False, 'LK100K', 'EG639L', 'yes', '2025-10-13 20:50:57.216923', 46.3618353739568, 1, 24.99290239142476, 54.97050423091312, 'Dubai', 'any', 26, 'tech,literature', '2023-12-21 23:02:05.742331', 16, 'Clear', 36.8, 0.0], ['CM824R', 'Up-sized regional frame Sports & Fitness in Dubai', 'Sports & Fitness', 25.39250480071952, 55.10723236055948, 'Dubai', '2025-11-03 13:37:41.192741', 360, 'Clear', 36.3, 0.0, 23.428276916080268, False, 'UQ666Q', 'EG639L', 'invited & maybe', '2025-10-30 14:14:04.291775', 46.3618353739568, 1, 24.99290239142476, 54.97050423091312, 'Dubai', 'any', 26, 'tech,literature', '2023-12-21 23:02:05.742331', 16, 'Clear', 36.8, 0.0], ['FS955S', 'Synchronized client-driven workforce Sports & Fitness in Dubai', 'Sports & Fitness', 25.01075164544951, 55.54634522856133, 'Dubai', '2025-06-01 10:01:27.913269', 360, 'Clear', 34.7, 0.0, 2.9563114249415383, False, 'RN335T', 'SL209Z', 'no', '2025-05-18 01:13:34.071176', 75.95440028430592, 0, 25.683474729081187, 55.69214164419236, 'Dubai', 'indoor', 42, 'fashion,sports,art,tech', '2024-12-08 10:36:40.804718', 15, 'Clear', 34.3, 0.0], ['FS955S', 'Synchronized client-driven workforce Sports & Fitness in Dubai', 'Sports & Fitness', 25.01075164544951, 55.54634522856133, 'Dubai', '2025-06-01 10:01:27.913269', 360, 'Clear', 34.7, 0.0, 2.9563114249415383, False, 'YQ708G', 'FE383N', 'maybe', '2025-05-24 15:02:33.507321', 44.81828226063026, 1, 25.362247803694245, 55.32616046173688, 'Dubai', 'any', 26, 'art,cinema,music', '2023-08-09 15:41:58.001918', 17, 'Cloudy', 32.1, 0.34], ['FS955S', 'Synchronized client-driven workforce Sports & Fitness in Dubai', 'Sports & Fitness', 25.01075164544951, 55.54634522856133, 'Dubai', '2025-06-01 10:01:27.913269', 360, 'Clear', 34.7, 0.0, 2.9563114249415383, False, 'TP301K', 'SH192A', 'invited & yes', '2025-05-03 18:04:31.239699', 36.96687729524191, 1, 25.181157343376547, 55.2312508011437, 'Dubai', 'outdoor', 42, 'music,fashion,art', '2024-09-01 05:41:54.291119', 17, 'Clear', 34.2, 0.0], ['FS955S', 'Synchronized client-driven workforce Sports & Fitness in Dubai', 'Sports & Fitness', 25.01075164544951, 55.54634522856133, 'Dubai', '2025-06-01 10:01:27.913269', 360, 'Clear', 34.7, 0.0, 2.9563114249415383, False, 'WQ418G', 'ME186V', 'yes', '2025-05-13 16:46:55.014747', 20.981339703759332, 1, 25.01177461210933, 55.33849054575126, 'Dubai', 'any', 60, 'food,fashion,tech', '2025-04-23 04:48:54.728727', 10, 'Cloudy', 32.3, 0.01], ['FS955S', 'Synchronized client-driven workforce Sports & Fitness in Dubai', 'Sports & Fitness', 25.01075164544951, 55.54634522856133, 'Dubai', '2025-06-01 10:01:27.913269', 360, 'Clear', 34.7, 0.0, 2.9563114249415383, False, 'ER700V', 'AR552Q', 'invited & yes', '2025-05-30 00:33:27.637378', 81.46602777674542, 1, 25.420031194307253, 54.8746951380538, 'Dubai', 'outdoor', 51, 'fashion,food,fitness', '2024-07-14 01:05:48.587931', 11, 'Clear', 35.2, 0.0], ['CR399H', 'Persevering optimizing parallelism Arts & Culture in Dubai', 'Arts & Culture', 25.01149985510624, 55.15555608846195, 'Dubai', '2025-08-21 18:43:43.855422', 240, 'Rain', 31.0, 5.44, 11.06974953142032, True, 'ER776O', 'AR552Q', 'yes', '2025-08-02 05:26:35.233369', 53.37722363107434, 1, 25.420031194307253, 54.8746951380538, 'Dubai', 'outdoor', 51, 'fashion,food,fitness', '2024-07-14 01:05:48.587931', 11, 'Clear', 35.2, 0.0], ['FS955S', 'Synchronized client-driven workforce Sports & Fitness in Dubai', 'Sports & Fitness', 25.01075164544951, 55.54634522856133, 'Dubai', '2025-06-01 10:01:27.913269', 360, 'Clear', 34.7, 0.0, 2.9563114249415383, False, 'PQ424C', 'SJ994G', 'invited & yes', '2025-05-14 16:18:06.717430', 23.06747729043917, 1, 25.218988930098416, 55.54692978640996, 'Dubai', 'outdoor', 29, 'tech,literature,cinema', '2024-04-15 00:07:27.899951', 8, 'Rain', 29.8, 3.7], ['FS955S', 'Synchronized client-driven workforce Sports & Fitness in Dubai', 'Sports & Fitness', 25.01075164544951, 55.54634522856133, 'Dubai', '2025-06-01 10:01:27.913269', 360, 'Clear', 34.7, 0.0, 2.9563114249415383, False, 'BP309R', 'CA822R', 'yes', '2025-05-10 22:47:19.371415', 1.6196240791351555, 1, 25.00062195189951, 55.53477522353881, 'Dubai', 'outdoor', 24, 'fashion,fitness', '2025-04-19 09:04:02.529506', 14, 'Cloudy', 32.4, 0.1], ['FS955S', 'Synchronized client-driven workforce Sports & Fitness in Dubai', 'Sports & Fitness', 25.01075164544951, 55.54634522856133, 'Dubai', '2025-06-01 10:01:27.913269', 360, 'Clear', 34.7, 0.0, 2.9563114249415383, False, 'SP105M', 'JI323B', 'yes', '2025-05-10 08:59:24.048200', 54.25515300480011, 1, 25.394193895309336, 55.21142043999162, 'Dubai', 'any', 37, 'sports,fitness', '2023-08-04 20:49:26.606452', 12, 'Clear', 36.6, 0.0], ['CR399H', 'Persevering optimizing parallelism Arts & Culture in Dubai', 'Arts & Culture', 25.01149985510624, 55.15555608846195, 'Dubai', '2025-08-21 18:43:43.855422', 240, 'Rain', 31.0, 5.44, 11.06974953142032, True, 'OH542C', 'JI323B', 'maybe', '2025-08-13 00:41:59.580603', 42.76551938172234, 1, 25.394193895309336, 55.21142043999162, 'Dubai', 'any', 37, 'sports,fitness', '2023-08-04 20:49:26.606452', 12, 'Clear', 36.6, 0.0], ['VF065U', 'Down-sized multi-tasking projection Sports & Fitness in Dubai', 'Sports & Fitness', 25.298667508525583, 55.55393838235416, 'Dubai', '2025-10-04 10:42:28.123111', 360, 'Clear', 35.5, 0.0, 7.480084047385197, False, 'UO272U', 'JI323B', 'yes', '2025-09-17 09:46:11.432367', 36.06698841103183, 1, 25.394193895309336, 55.21142043999162, 'Dubai', 'any', 37, 'sports,fitness', '2023-08-04 20:49:26.606452', 12, 'Clear', 36.6, 0.0], ['FS955S', 'Synchronized client-driven workforce Sports & Fitness in Dubai', 'Sports & Fitness', 25.01075164544951, 55.54634522856133, 'Dubai', '2025-06-01 10:01:27.913269', 360, 'Clear', 34.7, 0.0, 2.9563114249415383, False, 'TG019C', 'RP643L', 'maybe', '2025-05-12 00:49:10.524510', 61.22986361400248, 1, 25.414447938294973, 55.13132516098635, 'Dubai', 'indoor', 30, 'music,fashion,tech', '2024-09-15 19:55:59.666026', 16, 'Rain', 30.6, 4.07], ['FS955S', 'Synchronized client-driven workforce Sports & Fitness in Dubai', 'Sports & Fitness', 25.01075164544951, 55.54634522856133, 'Dubai', '2025-06-01 10:01:27.913269', 360, 'Clear', 34.7, 0.0, 2.9563114249415383, False, 'SM700S', 'YO897Z', 'maybe', '2025-05-24 20:14:53.628105', 60.85887188072397, 1, 25.53020025007052, 55.34963115644591, 'Dubai', 'any', 26, 'tech,cinema,art,travel', '2024-09-07 08:45:16.742543', 13, 'Windy', 32.7, 0.21], ['FS955S', 'Synchronized client-driven workforce Sports & Fitness in Dubai', 'Sports & Fitness', 25.01075164544951, 55.54634522856133, 'Dubai', '2025-06-01 10:01:27.913269', 360, 'Clear', 34.7, 0.0, 2.9563114249415383, False, 'GL496X', 'RL524Q', 'invited', '2025-05-17 03:21:50.154667', 50.93760087096686, 0, 25.200919559788407, 55.08653971551128, 'Dubai', 'indoor', 28, 'sports,art,travel,cinema', '2024-10-08 02:06:36.147835', 17, 'Rain', 29.5, 18.24], ['FS955S', 'Synchronized client-driven workforce Sports & Fitness in Dubai', 'Sports & Fitness', 25.01075164544951, 55.54634522856133, 'Dubai', '2025-06-01 10:01:27.913269', 360, 'Clear', 34.7, 0.0, 2.9563114249415383, False, 'PT085A', 'IE985Z', 'invited & maybe', '2025-05-09 02:21:59.345890', 32.5801570482012, 1, 24.74233750264908, 55.41452199694095, 'Dubai', 'outdoor', 44, 'travel,music,fashion,literature', '2024-04-17 12:38:26.577833', 14, 'Clear', 36.0, 0.0], ['FS955S', 'Synchronized client-driven workforce Sports & Fitness in Dubai', 'Sports & Fitness', 25.01075164544951, 55.54634522856133, 'Dubai', '2025-06-01 10:01:27.913269', 360, 'Clear', 34.7, 0.0, 2.9563114249415383, False, 'MX835H', 'GB558O', 'maybe', '2025-05-13 18:28:43.892720', 50.42792331322616, 1, 24.81318741853244, 55.09662284036417, 'Dubai', 'outdoor', 32, 'fashion,travel,fitness', '2024-08-01 00:54:23.258453', 17, 'Clear', 35.7, 0.0], ['FS955S', 'Synchronized client-driven workforce Sports & Fitness in Dubai', 'Sports & Fitness', 25.01075164544951, 55.54634522856133, 'Dubai', '2025-06-01 10:01:27.913269', 360, 'Clear', 34.7, 0.0, 2.9563114249415383, False, 'FH326L', 'XF962G', 'invited & yes', '2025-06-01 06:30:44.100845', 36.56223828344625, 1, 25.211558614318943, 55.25864613357707, 'Dubai', 'outdoor', 47, 'travel,music,fitness,art', '2024-03-30 03:56:55.233118', 20, 'Clear', 36.9, 0.0], ['FS955S', 'Synchronized client-driven workforce Sports & Fitness in Dubai', 'Sports & Fitness', 25.01075164544951, 55.54634522856133, 'Dubai', '2025-06-01 10:01:27.913269', 360, 'Clear', 34.7, 0.0, 2.9563114249415383, False, 'PL772K', 'PI115F', 'invited & no', '2025-05-14 15:24:09.956275', 79.73809002964047, 0, 25.469792569215272, 54.93673741991866, 'Dubai', 'outdoor', 30, 'sports,travel,fitness,literature', '2024-06-30 22:33:38.484647', 13, 'Clear', 36.0, 0.0], ['FS955S', 'Synchronized client-driven workforce Sports & Fitness in Dubai', 'Sports & Fitness', 25.01075164544951, 55.54634522856133, 'Dubai', '2025-06-01 10:01:27.913269', 360, 'Clear', 34.7, 0.0, 2.9563114249415383, False, 'MW863G', 'ZO229X', 'maybe', '2025-05-25 10:49:50.100855', 70.40788500891789, 1, 25.563411421104757, 55.20108412947423, 'Dubai', 'outdoor', 42, 'art,cinema', '2024-12-14 06:58:32.136497', 10, 'Clear', 35.4, 0.0], ['FS955S', 'Synchronized client-driven workforce Sports & Fitness in Dubai', 'Sports & Fitness', 25.01075164544951, 55.54634522856133, 'Dubai', '2025-06-01 10:01:27.913269', 360, 'Clear', 34.7, 0.0, 2.9563114249415383, False, 'UG312I', 'LR456X', 'yes', '2025-05-18 16:30:32.743011', 44.10333117767909, 1, 25.000351266270503, 55.10959196326832, 'Dubai', 'outdoor', 36, 'fashion,cinema', '2023-10-23 02:33:33.899404', 13, 'Clear', 36.5, 0.0], ['FS955S', 'Synchronized client-driven workforce Sports & Fitness in Dubai', 'Sports & Fitness', 25.01075164544951, 55.54634522856133, 'Dubai', '2025-06-01 10:01:27.913269', 360, 'Clear', 34.7, 0.0, 2.9563114249415383, False, 'PN082X', 'NN699G', 'maybe', '2025-05-19 00:30:43.697215', 40.845309124390525, 1, 25.284375530883487, 55.27480804023656, 'Dubai', 'any', 39, 'travel,tech,music', '2023-06-21 21:17:38.731631', 12, 'Snow', 27.2, 7.6], ['FS955S', 'Synchronized client-driven workforce Sports & Fitness in Dubai', 'Sports & Fitness', 25.01075164544951, 55.54634522856133, 'Dubai', '2025-06-01 10:01:27.913269', 360, 'Clear', 34.7, 0.0, 2.9563114249415383, False, 'NK102H', 'VF581O', 'yes', '2025-05-26 14:21:02.300803', 45.95337863821784, 1, 25.398458216134067, 55.708519478961925, 'Dubai', 'outdoor', 41, 'music,travel', '2024-05-16 13:06:29.298471', 12, 'Clear', 35.3, 0.0], ['FS955S', 'Synchronized client-driven workforce Sports & Fitness in Dubai', 'Sports & Fitness', 25.01075164544951, 55.54634522856133, 'Dubai', '2025-06-01 10:01:27.913269', 360, 'Clear', 34.7, 0.0, 2.9563114249415383, False, 'CI626O', 'MZ347R', 'invited & yes', '2025-05-18 00:12:35.157263', 92.87169298895516, 1, 25.56317604242577, 54.85271078059255, 'Dubai', 'outdoor', 36, 'music,travel,sports,fitness', '2024-11-04 00:15:20.892740', 12, 'Clear', 35.7, 0.0], ['FS955S', 'Synchronized client-driven workforce Sports & Fitness in Dubai', 'Sports & Fitness', 25.01075164544951, 55.54634522856133, 'Dubai', '2025-06-01 10:01:27.913269', 360, 'Clear', 34.7, 0.0, 2.9563114249415383, False, 'JS833M', 'KI453M', 'maybe', '2025-05-15 14:17:20.794222', 50.47093590591677, 1, 24.778666394427287, 55.11647145682298, 'Dubai', 'any', 33, 'food,literature,music', '2023-10-27 12:37:05.651372', 12, 'Snow', 25.8, 7.76], ['PA960E', 'Open-architected coherent initiative Immersive Experiences in Dubai', 'Immersive Experiences', 25.192263822907588, 55.442867493528034, 'Dubai', '2025-06-03 19:51:27.977049', 360, 'Clear', 34.7, 0.0, 7.844354083146755, True, 'FW891Z', 'KI453M', 'invited & no', '2025-05-24 20:43:23.104875', 56.435551525197134, 0, 24.778666394427287, 55.11647145682298, 'Dubai', 'any', 33, 'food,literature,music', '2023-10-27 12:37:05.651372', 12, 'Snow', 25.8, 7.76], ['FS955S', 'Synchronized client-driven workforce Sports & Fitness in Dubai', 'Sports & Fitness', 25.01075164544951, 55.54634522856133, 'Dubai', '2025-06-01 10:01:27.913269', 360, 'Clear', 34.7, 0.0, 2.9563114249415383, False, 'CD966R', 'OY644C', 'invited & maybe', '2025-05-14 21:23:22.915044', 28.93145159718622, 1, 25.071658422011208, 55.26756225087789, 'Dubai', 'indoor', 36, 'sports,tech', '2025-05-19 21:06:30.496354', 15, 'Clear', 35.3, 0.0], ['VF065U', 'Down-sized multi-tasking projection Sports & Fitness in Dubai', 'Sports & Fitness', 25.298667508525583, 55.55393838235416, 'Dubai', '2025-10-04 10:42:28.123111', 360, 'Clear', 35.5, 0.0, 7.480084047385197, False, 'AX799W', 'OY644C', 'maybe', '2025-09-13 18:45:54.663672', 38.28357498728125, 1, 25.071658422011208, 55.26756225087789, 'Dubai', 'indoor', 36, 'sports,tech', '2025-05-19 21:06:30.496354', 15, 'Clear', 35.3, 0.0], ['FS955S', 'Synchronized client-driven workforce Sports & Fitness in Dubai', 'Sports & Fitness', 25.01075164544951, 55.54634522856133, 'Dubai', '2025-06-01 10:01:27.913269', 360, 'Clear', 34.7, 0.0, 2.9563114249415383, False, 'FA412L', 'OV201B', 'invited & yes', '2025-05-07 23:31:14.690683', 6.556899854806004, 1, 24.96418137340839, 55.50625725167542, 'Dubai', 'outdoor', 51, 'art,tech,fitness', '2025-05-08 07:05:19.535930', 8, 'Clear', 35.1, 0.0], ['FS955S', 'Synchronized client-driven workforce Sports & Fitness in Dubai', 'Sports & Fitness', 25.01075164544951, 55.54634522856133, 'Dubai', '2025-06-01 10:01:27.913269', 360, 'Clear', 34.7, 0.0, 2.9563114249415383, False, 'ZI092S', 'RX639L', 'invited', '2025-05-03 17:13:28.942592', 77.09412755970615, 0, 24.749978349715573, 54.83897463525724, 'Dubai', 'outdoor', 51, 'music,travel,art', '2024-03-12 06:05:06.118480', 17, 'Rain', 31.3, 11.4], ['FS955S', 'Synchronized client-driven workforce Sports & Fitness in Dubai', 'Sports & Fitness', 25.01075164544951, 55.54634522856133, 'Dubai', '2025-06-01 10:01:27.913269', 360, 'Clear', 34.7, 0.0, 2.9563114249415383, False, 'OE170J', 'WF006Q', 'invited & maybe', '2025-05-19 08:08:20.948142', 54.38503270999613, 1, 25.19944580651292, 55.04856815794521, 'Dubai', 'any', 50, 'tech,sports', '2023-08-12 04:10:14.691128', 16, 'Clear', 36.9, 0.0], ['FS955S', 'Synchronized client-driven workforce Sports & Fitness in Dubai', 'Sports & Fitness', 25.01075164544951, 55.54634522856133, 'Dubai', '2025-06-01 10:01:27.913269', 360, 'Clear', 34.7, 0.0, 2.9563114249415383, False, 'AU760P', 'TZ533M', 'invited & no', '2025-05-11 03:27:44.713586', 70.50410254077686, 0, 25.647168093201376, 55.55309894360588, 'Dubai', 'any', 37, 'literature,cinema,sports', '2023-11-03 15:21:21.265180', 15, 'Rain', 31.6, 8.76], ['FS955S', 'Synchronized client-driven workforce Sports & Fitness in Dubai', 'Sports & Fitness', 25.01075164544951, 55.54634522856133, 'Dubai', '2025-06-01 10:01:27.913269', 360, 'Clear', 34.7, 0.0, 2.9563114249415383, False, 'JJ954Z', 'MR007Q', 'invited', '2025-05-15 23:24:14.916199', 73.3044367577293, 0, 25.130399690946792, 54.83175788703336, 'Dubai', 'any', 50, 'tech,literature,food', '2025-01-30 00:59:21.059417', 14, 'Clear', 34.4, 0.0], ['FS955S', 'Synchronized client-driven workforce Sports & Fitness in Dubai', 'Sports & Fitness', 25.01075164544951, 55.54634522856133, 'Dubai', '2025-06-01 10:01:27.913269', 360, 'Clear', 34.7, 0.0, 2.9563114249415383, False, 'CW407D', 'PL378Y', 'maybe', '2025-05-27 22:12:23.161114', 70.23746314688697, 1, 25.60856956237532, 55.31395597152014, 'Dubai', 'any', 59, 'sports,food', '2023-07-25 03:15:02.979396', 12, 'Rain', 30.2, 3.66], ['FS955S', 'Synchronized client-driven workforce Sports & Fitness in Dubai', 'Sports & Fitness', 25.01075164544951, 55.54634522856133, 'Dubai', '2025-06-01 10:01:27.913269', 360, 'Clear', 34.7, 0.0, 2.9563114249415383, False, 'CH792E', 'SP083D', 'maybe', '2025-05-24 01:14:48.553677', 22.446085833988647, 1, 25.20203912781577, 55.61975259927578, 'Dubai', 'indoor', 31, 'fashion,travel,sports', '2024-10-12 20:42:13.161650', 18, 'Cloudy', 31.7, 0.42], ['FS955S', 'Synchronized client-driven workforce Sports & Fitness in Dubai', 'Sports & Fitness', 25.01075164544951, 55.54634522856133, 'Dubai', '2025-06-01 10:01:27.913269', 360, 'Clear', 34.7, 0.0, 2.9563114249415383, False, 'IJ738P', 'RG577U', 'maybe', '2025-05-28 02:12:04.367063', 92.6220961730942, 1, 25.53684368630992, 54.831632935517966, 'Dubai', 'outdoor', 33, 'art,fashion,food', '2024-02-06 09:11:12.132493', 14, 'Cloudy', 32.2, 0.23], ['FS955S', 'Synchronized client-driven workforce Sports & Fitness in Dubai', 'Sports & Fitness', 25.01075164544951, 55.54634522856133, 'Dubai', '2025-06-01 10:01:27.913269', 360, 'Clear', 34.7, 0.0, 2.9563114249415383, False, 'CT139U', 'QP661X', 'invited & maybe', '2025-05-07 23:07:54.310329', 78.74266090826302, 1, 25.70200578362402, 55.72859916344346, 'Dubai', 'outdoor', 36, 'cinema,sports', '2023-10-05 08:55:50.666975', 18, 'Snow', 24.5, 6.29], ['FS955S', 'Synchronized client-driven workforce Sports & Fitness in Dubai', 'Sports & Fitness', 25.01075164544951, 55.54634522856133, 'Dubai', '2025-06-01 10:01:27.913269', 360, 'Clear', 34.7, 0.0, 2.9563114249415383, False, 'VF544H', 'JB732U', 'maybe', '2025-05-25 06:24:30.127896', 15.564292558128995, 1, 24.882026582078925, 55.60812040846336, 'Dubai', 'outdoor', 42, 'art,fitness,travel,literature', '2024-04-04 11:16:17.548694', 24, 'Clear', 36.4, 0.0], ['QX017G', 'Enterprise-wide optimizing Graphical User Interface Immersive Experiences in São Paulo', 'Immersive Experiences', -23.5361599286759, -46.36348089404835, 'São Paulo', '2025-06-12 09:09:06.240754', 480, 'Cloudy', 25.7, 0.08, 21.88792863693813, True, 'TJ208A', 'QY210H', 'invited & no', '2025-05-31 13:09:01.882529', 80.83639416881333, 0, -23.18563990968935, -47.05694658144044, 'São Paulo', 'outdoor', 34, 'food,art,cinema', '2023-08-01 12:05:18.249406', 18, 'Cloudy', 25.0, 0.44], ['QX017G', 'Enterprise-wide optimizing Graphical User Interface Immersive Experiences in São Paulo', 'Immersive Experiences', -23.5361599286759, -46.36348089404835, 'São Paulo', '2025-06-12 09:09:06.240754', 480, 'Cloudy', 25.7, 0.08, 21.88792863693813, True, 'ED807W', 'HP025C', 'maybe', '2025-05-18 15:41:07.350642', 43.936491099166304, 1, -23.55192759883933, -46.79343932318271, 'São Paulo', 'any', 25, 'fashion,cinema,music,travel', '2024-09-01 05:30:04.348467', 16, 'Cloudy', 23.3, 0.49], ['QX017G', 'Enterprise-wide optimizing Graphical User Interface Immersive Experiences in São Paulo', 'Immersive Experiences', -23.5361599286759, -46.36348089404835, 'São Paulo', '2025-06-12 09:09:06.240754', 480, 'Cloudy', 25.7, 0.08, 21.88792863693813, True, 'VR665X', 'ZH509F', 'maybe', '2025-05-27 18:48:20.049887', 77.38614777000544, 1, -23.729997730602875, -47.092118723841246, 'São Paulo', 'any', 49, 'art,cinema', '2024-10-29 03:50:58.383032', 13, 'Clear', 26.1, 0.0], ['QX017G', 'Enterprise-wide optimizing Graphical User Interface Immersive Experiences in São Paulo', 'Immersive Experiences', -23.5361599286759, -46.36348089404835, 'São Paulo', '2025-06-12 09:09:06.240754', 480, 'Cloudy', 25.7, 0.08, 21.88792863693813, True, 'TZ287L', 'QM810S', 'maybe', '2025-05-25 06:15:19.356613', 53.05858050969527, 1, -23.161433381990733, -46.686777252235416, 'São Paulo', 'outdoor', 39, 'art,fitness', '2023-12-06 18:35:05.251708', 17, 'Cloudy', 25.6, 0.08], ['QX017G', 'Enterprise-wide optimizing Graphical User Interface Immersive Experiences in São Paulo', 'Immersive Experiences', -23.5361599286759, -46.36348089404835, 'São Paulo', '2025-06-12 09:09:06.240754', 480, 'Cloudy', 25.7, 0.08, 21.88792863693813, True, 'FP190L', 'FE605N', 'maybe', '2025-05-22 09:12:21.162900', 82.60097840860475, 1, -23.13604400653601, -47.04512091218629, 'São Paulo', 'outdoor', 36, 'food,travel,art', '2024-07-03 15:01:58.361675', 14, 'Cloudy', 25.8, 0.0], ['QX017G', 'Enterprise-wide optimizing Graphical User Interface Immersive Experiences in São Paulo', 'Immersive Experiences', -23.5361599286759, -46.36348089404835, 'São Paulo', '2025-06-12 09:09:06.240754', 480, 'Cloudy', 25.7, 0.08, 21.88792863693813, True, 'GE426E', 'FE605N', 'invited', '2025-06-01 09:42:18.018230', 82.60097840860475, 0, -23.13604400653601, -47.04512091218629, 'São Paulo', 'outdoor', 36, 'food,travel,art', '2024-07-03 15:01:58.361675', 14, 'Cloudy', 25.8, 0.0], ['QX017G', 'Enterprise-wide optimizing Graphical User Interface Immersive Experiences in São Paulo', 'Immersive Experiences', -23.5361599286759, -46.36348089404835, 'São Paulo', '2025-06-12 09:09:06.240754', 480, 'Cloudy', 25.7, 0.08, 21.88792863693813, True, 'PG545T', 'YE428T', 'no', '2025-05-18 01:14:48.245431', 42.93337197764159, 0, -23.677049689432767, -46.75538711632007, 'São Paulo', 'outdoor', 29, 'sports,music', '2024-05-14 23:55:33.908916', 12, 'Cloudy', 25.4, 0.1], ['QX017G', 'Enterprise-wide optimizing Graphical User Interface Immersive Experiences in São Paulo', 'Immersive Experiences', -23.5361599286759, -46.36348089404835, 'São Paulo', '2025-06-12 09:09:06.240754', 480, 'Cloudy', 25.7, 0.08, 21.88792863693813, True, 'YN772V', 'ZZ804I', 'invited & yes', '2025-06-08 01:58:00.711018', 41.40299304832326, 1, -23.86965872894972, -46.54690287660732, 'São Paulo', 'indoor', 53, 'music,literature', '2024-09-18 21:16:13.142996', 11, 'Clear', 27.7, 0.0], ['QX017G', 'Enterprise-wide optimizing Graphical User Interface Immersive Experiences in São Paulo', 'Immersive Experiences', -23.5361599286759, -46.36348089404835, 'São Paulo', '2025-06-12 09:09:06.240754', 480, 'Cloudy', 25.7, 0.08, 21.88792863693813, True, 'OZ340S', 'PU597G', 'yes', '2025-05-28 16:40:50.566173', 9.676970519739172, 1, -23.574836367714948, -46.27849117546892, 'São Paulo', 'indoor', 31, 'tech,fashion,art', '2025-05-05 20:18:57.976424', 13, 'Cloudy', 25.5, 0.4], ['QX017G', 'Enterprise-wide optimizing Graphical User Interface Immersive Experiences in São Paulo', 'Immersive Experiences', -23.5361599286759, -46.36348089404835, 'São Paulo', '2025-06-12 09:09:06.240754', 480, 'Cloudy', 25.7, 0.08, 21.88792863693813, True, 'MP125R', 'XW067E', 'invited & maybe', '2025-06-08 10:29:27.073340', 19.018880193449505, 1, -23.664224336511012, -46.23933543392271, 'São Paulo', 'any', 40, 'fashion,music', '2023-08-04 13:07:33.916992', 16, 'Snow', 19.2, 8.33], ['QX017G', 'Enterprise-wide optimizing Graphical User Interface Immersive Experiences in São Paulo', 'Immersive Experiences', -23.5361599286759, -46.36348089404835, 'São Paulo', '2025-06-12 09:09:06.240754', 480, 'Cloudy', 25.7, 0.08, 21.88792863693813, True, 'QJ218X', 'PQ125C', 'invited & yes', '2025-05-16 04:09:43.515543', 45.068632457281176, 1, -23.1349662292014, -46.437309731409606, 'São Paulo', 'outdoor', 28, 'fitness,music,sports,travel', '2024-05-17 11:21:19.907030', 16, 'Clear', 27.7, 0.0], ['QX017G', 'Enterprise-wide optimizing Graphical User Interface Immersive Experiences in São Paulo', 'Immersive Experiences', -23.5361599286759, -46.36348089404835, 'São Paulo', '2025-06-12 09:09:06.240754', 480, 'Cloudy', 25.7, 0.08, 21.88792863693813, True, 'LJ810U', 'ZX781W', 'maybe', '2025-05-20 23:04:19.179902', 42.0127750685474, 1, -23.759733670671395, -46.696142015932345, 'São Paulo', 'indoor', 38, 'fashion,travel,fitness,sports', '2024-11-14 19:09:18.886616', 13, 'Rain', 21.7, 13.19], ['QX017G', 'Enterprise-wide optimizing Graphical User Interface Immersive Experiences in São Paulo', 'Immersive Experiences', -23.5361599286759, -46.36348089404835, 'São Paulo', '2025-06-12 09:09:06.240754', 480, 'Cloudy', 25.7, 0.08, 21.88792863693813, True, 'HR837D', 'MP288R', 'invited & yes', '2025-06-07 06:26:13.452070', 15.296149383365968, 1, -23.556539224176884, -46.51164868671544, 'São Paulo', 'indoor', 27, 'literature,sports', '2025-05-10 15:46:36.307153', 19, 'Clear', 27.1, 0.0], ['QX017G', 'Enterprise-wide optimizing Graphical User Interface Immersive Experiences in São Paulo', 'Immersive Experiences', -23.5361599286759, -46.36348089404835, 'São Paulo', '2025-06-12 09:09:06.240754', 480, 'Cloudy', 25.7, 0.08, 21.88792863693813, True, 'VX045F', 'AO457J', 'yes', '2025-05-31 01:00:10.725450', 33.68403122899666, 1, -23.251418408262385, -46.47929520735372, 'São Paulo', 'indoor', 34, 'sports,art,fitness', '2025-02-03 15:36:22.623991', 16, 'Clear', 27.0, 0.0], ['QX017G', 'Enterprise-wide optimizing Graphical User Interface Immersive Experiences in São Paulo', 'Immersive Experiences', -23.5361599286759, -46.36348089404835, 'São Paulo', '2025-06-12 09:09:06.240754', 480, 'Cloudy', 25.7, 0.08, 21.88792863693813, True, 'BU943K', 'KI292Y', 'no', '2025-05-18 18:37:16.560187', 15.955768733510592, 0, -23.47769980837323, -46.50626262176328, 'São Paulo', 'outdoor', 40, 'food,travel,art,literature', '2024-10-03 03:17:46.205977', 23, 'Cloudy', 25.6, 0.02], ['QX017G', 'Enterprise-wide optimizing Graphical User Interface Immersive Experiences in São Paulo', 'Immersive Experiences', -23.5361599286759, -46.36348089404835, 'São Paulo', '2025-06-12 09:09:06.240754', 480, 'Cloudy', 25.7, 0.08, 21.88792863693813, True, 'RH315W', 'TD630G', 'yes', '2025-06-08 13:30:17.831338', 78.93692145330503, 1, -24.02010199742307, -46.93203501529791, 'São Paulo', 'outdoor', 35, 'food,fashion,literature', '2023-08-22 21:14:08.998520', 14, 'Clear', 26.6, 0.0], ['QX017G', 'Enterprise-wide optimizing Graphical User Interface Immersive Experiences in São Paulo', 'Immersive Experiences', -23.5361599286759, -46.36348089404835, 'São Paulo', '2025-06-12 09:09:06.240754', 480, 'Cloudy', 25.7, 0.08, 21.88792863693813, True, 'OE185L', 'JE332J', 'invited & maybe', '2025-05-29 07:03:12.506110', 24.09062099303152, 1, -23.632925817472007, -46.15211312553986, 'São Paulo', 'any', 41, 'travel,music', '2024-06-02 02:47:35.119923', 18, 'Clear', 26.3, 0.0], ['QX017G', 'Enterprise-wide optimizing Graphical User Interface Immersive Experiences in São Paulo', 'Immersive Experiences', -23.5361599286759, -46.36348089404835, 'São Paulo', '2025-06-12 09:09:06.240754', 480, 'Cloudy', 25.7, 0.08, 21.88792863693813, True, 'DJ995Z', 'OQ475F', 'invited & maybe', '2025-05-30 13:19:56.942829', 22.00264244504536, 1, -23.698682624057767, -46.48747808074378, 'São Paulo', 'outdoor', 52, 'art,fitness,fashion', '2024-07-19 02:41:00.545056', 13, 'Rain', 22.4, 11.26], ['QX017G', 'Enterprise-wide optimizing Graphical User Interface Immersive Experiences in São Paulo', 'Immersive Experiences', -23.5361599286759, -46.36348089404835, 'São Paulo', '2025-06-12 09:09:06.240754', 480, 'Cloudy', 25.7, 0.08, 21.88792863693813, True, 'LU408P', 'HA621J', 'invited & yes', '2025-06-03 16:34:03.510814', 4.534371401826495, 1, -23.49585199132477, -46.35569775511813, 'São Paulo', 'outdoor', 58, 'literature,music', '2025-03-14 18:40:04.270315', 16, 'Rain', 23.9, 19.5], ['QX017G', 'Enterprise-wide optimizing Graphical User Interface Immersive Experiences in São Paulo', 'Immersive Experiences', -23.5361599286759, -46.36348089404835, 'São Paulo', '2025-06-12 09:09:06.240754', 480, 'Cloudy', 25.7, 0.08, 21.88792863693813, True, 'KM924D', 'OW727W', 'invited & maybe', '2025-05-19 09:19:30.416068', 58.34400772868599, 1, -23.617104286149026, -46.92823544457058, 'São Paulo', 'any', 31, 'fashion,fitness', '2023-10-14 17:46:20.599614', 15, 'Clear', 27.6, 0.0], ['QX017G', 'Enterprise-wide optimizing Graphical User Interface Immersive Experiences in São Paulo', 'Immersive Experiences', -23.5361599286759, -46.36348089404835, 'São Paulo', '2025-06-12 09:09:06.240754', 480, 'Cloudy', 25.7, 0.08, 21.88792863693813, True, 'LV551B', 'SV274S', 'invited & no', '2025-05-22 13:03:02.532578', 52.51944321174494, 0, -23.53788469088756, -46.87780710507527, 'São Paulo', 'outdoor', 24, 'cinema,sports,travel,music', '2023-07-20 21:16:29.358202', 9, 'Rain', 23.3, 10.96], ['QX017G', 'Enterprise-wide optimizing Graphical User Interface Immersive Experiences in São Paulo', 'Immersive Experiences', -23.5361599286759, -46.36348089404835, 'São Paulo', '2025-06-12 09:09:06.240754', 480, 'Cloudy', 25.7, 0.08, 21.88792863693813, True, 'KV928H', 'DN670F', 'no', '2025-06-06 13:43:25.298882', 59.42044680381835, 0, -23.501590368359928, -46.94410420760964, 'São Paulo', 'outdoor', 31, 'fashion,art,literature', '2024-07-04 06:40:24.590092', 12, 'Rain', 23.6, 19.31], ['QX017G', 'Enterprise-wide optimizing Graphical User Interface Immersive Experiences in São Paulo', 'Immersive Experiences', -23.5361599286759, -46.36348089404835, 'São Paulo', '2025-06-12 09:09:06.240754', 480, 'Cloudy', 25.7, 0.08, 21.88792863693813, True, 'GE916O', 'TI247W', 'no', '2025-05-27 04:04:37.951881', 31.466686997193687, 0, -23.735664960423147, -46.14391336531887, 'São Paulo', 'outdoor', 36, 'fitness,tech,food,music', '2023-09-28 15:57:41.421403', 10, 'Snow', 18.9, 5.81], ['QX017G', 'Enterprise-wide optimizing Graphical User Interface Immersive Experiences in São Paulo', 'Immersive Experiences', -23.5361599286759, -46.36348089404835, 'São Paulo', '2025-06-12 09:09:06.240754', 480, 'Cloudy', 25.7, 0.08, 21.88792863693813, True, 'ZC648Z', 'MK752I', 'yes', '2025-06-05 00:12:33.809494', 35.57614868822331, 1, -23.252788792733178, -46.52739619151755, 'São Paulo', 'outdoor', 52, 'sports,travel,cinema', '2023-11-01 11:11:29.002692', 15, 'Cloudy', 25.3, 0.13], ['QX017G', 'Enterprise-wide optimizing Graphical User Interface Immersive Experiences in São Paulo', 'Immersive Experiences', -23.5361599286759, -46.36348089404835, 'São Paulo', '2025-06-12 09:09:06.240754', 480, 'Cloudy', 25.7, 0.08, 21.88792863693813, True, 'UA941A', 'TH644N', 'invited & yes', '2025-05-15 11:26:50.945732', 10.82250514924636, 1, -23.534463297400347, -46.25751212009795, 'São Paulo', 'outdoor', 36, 'cinema,literature', '2023-06-29 18:31:46.575764', 15, 'Clear', 26.9, 0.0], ['QX017G', 'Enterprise-wide optimizing Graphical User Interface Immersive Experiences in São Paulo', 'Immersive Experiences', -23.5361599286759, -46.36348089404835, 'São Paulo', '2025-06-12 09:09:06.240754', 480, 'Cloudy', 25.7, 0.08, 21.88792863693813, True, 'TX050J', 'KL834C', 'maybe', '2025-05-15 23:02:28.814941', 28.584735153606125, 1, -23.74447522421984, -46.528876599013685, 'São Paulo', 'any', 28, 'travel,music,cinema,fashion', '2024-12-04 01:28:26.570347', 17, 'Clear', 26.9, 0.0], ['QX017G', 'Enterprise-wide optimizing Graphical User Interface Immersive Experiences in São Paulo', 'Immersive Experiences', -23.5361599286759, -46.36348089404835, 'São Paulo', '2025-06-12 09:09:06.240754', 480, 'Cloudy', 25.7, 0.08, 21.88792863693813, True, 'KJ420K', 'TT134S', 'no', '2025-06-02 14:44:48.439094', 36.86021264369103, 0, -23.30338712762243, -46.62125866736296, 'São Paulo', 'outdoor', 32, 'art,literature,sports', '2024-01-19 10:28:07.402773', 20, 'Windy', 23.6, 0.38], ['QX017G', 'Enterprise-wide optimizing Graphical User Interface Immersive Experiences in São Paulo', 'Immersive Experiences', -23.5361599286759, -46.36348089404835, 'São Paulo', '2025-06-12 09:09:06.240754', 480, 'Cloudy', 25.7, 0.08, 21.88792863693813, True, 'AV917R', 'TN408D', 'invited', '2025-05-16 06:55:49.275534', 47.714369781197504, 0, -23.692202567755352, -46.79928091704661, 'São Paulo', 'any', 22, 'sports,cinema', '2024-05-04 00:26:30.037143', 17, 'Cloudy', 23.2, 0.25], ['QX017G', 'Enterprise-wide optimizing Graphical User Interface Immersive Experiences in São Paulo', 'Immersive Experiences', -23.5361599286759, -46.36348089404835, 'São Paulo', '2025-06-12 09:09:06.240754', 480, 'Cloudy', 25.7, 0.08, 21.88792863693813, True, 'TL194J', 'BE102H', 'invited & yes', '2025-05-24 16:52:46.895324', 68.71871698786721, 1, -23.725527462443768, -47.004799637255296, 'São Paulo', 'outdoor', 42, 'food,literature', '2024-05-08 20:32:02.953512', 13, 'Clear', 27.1, 0.0], ['QX017G', 'Enterprise-wide optimizing Graphical User Interface Immersive Experiences in São Paulo', 'Immersive Experiences', -23.5361599286759, -46.36348089404835, 'São Paulo', '2025-06-12 09:09:06.240754', 480, 'Cloudy', 25.7, 0.08, 21.88792863693813, True, 'ZZ752D', 'GA234L', 'yes', '2025-06-02 20:06:37.974344', 40.61442176745676, 1, -23.44048825762657, -46.7473079927799, 'São Paulo', 'indoor', 40, 'fitness,cinema,art', '2023-08-11 14:27:39.276554', 16, 'Clear', 26.6, 0.0], ['QX017G', 'Enterprise-wide optimizing Graphical User Interface Immersive Experiences in São Paulo', 'Immersive Experiences', -23.5361599286759, -46.36348089404835, 'São Paulo', '2025-06-12 09:09:06.240754', 480, 'Cloudy', 25.7, 0.08, 21.88792863693813, True, 'XN380P', 'WA454J', 'invited & no', '2025-05-15 11:25:41.843407', 39.23756488274128, 0, -23.88167390990788, -46.27843571147155, 'São Paulo', 'outdoor', 30, 'cinema,tech,fashion,sports', '2023-07-14 05:30:06.080842', 19, 'Cloudy', 24.3, 0.41], ['QX017G', 'Enterprise-wide optimizing Graphical User Interface Immersive Experiences in São Paulo', 'Immersive Experiences', -23.5361599286759, -46.36348089404835, 'São Paulo', '2025-06-12 09:09:06.240754', 480, 'Cloudy', 25.7, 0.08, 21.88792863693813, True, 'SR632N', 'UV415S', 'invited & yes', '2025-05-18 22:17:59.197078', 77.93559556615799, 1, -23.804137416331567, -47.06991805802642, 'São Paulo', 'outdoor', 35, 'travel,literature,fitness', '2023-09-13 06:45:28.247247', 12, 'Cloudy', 23.7, 0.09], ['QX017G', 'Enterprise-wide optimizing Graphical User Interface Immersive Experiences in São Paulo', 'Immersive Experiences', -23.5361599286759, -46.36348089404835, 'São Paulo', '2025-06-12 09:09:06.240754', 480, 'Cloudy', 25.7, 0.08, 21.88792863693813, True, 'XB901Q', 'WH479T', 'yes', '2025-05-27 08:11:27.894735', 45.23539539335082, 1, -23.94417950476641, -46.38335339357396, 'São Paulo', 'indoor', 31, 'tech,travel,music', '2024-03-13 02:55:22.923638', 19, 'Rain', 22.7, 2.41], ['QX017G', 'Enterprise-wide optimizing Graphical User Interface Immersive Experiences in São Paulo', 'Immersive Experiences', -23.5361599286759, -46.36348089404835, 'São Paulo', '2025-06-12 09:09:06.240754', 480, 'Cloudy', 25.7, 0.08, 21.88792863693813, True, 'TE213S', 'GH938W', 'no', '2025-06-09 13:53:51.822695', 42.921328598367225, 0, -23.508306320799363, -46.78268099440053, 'São Paulo', 'outdoor', 39, 'tech,music', '2025-01-01 17:14:54.039922', 24, 'Clear', 27.0, 0.0], ['QX017G', 'Enterprise-wide optimizing Graphical User Interface Immersive Experiences in São Paulo', 'Immersive Experiences', -23.5361599286759, -46.36348089404835, 'São Paulo', '2025-06-12 09:09:06.240754', 480, 'Cloudy', 25.7, 0.08, 21.88792863693813, True, 'FW267Q', 'YO118L', 'yes', '2025-05-21 15:05:18.735476', 54.48620357873824, 1, -23.499836002059013, -46.895538385427535, 'São Paulo', 'any', 50, 'fashion,tech,music', '2024-07-05 11:39:36.764851', 15, 'Clear', 28.3, 0.0], ['QX017G', 'Enterprise-wide optimizing Graphical User Interface Immersive Experiences in São Paulo', 'Immersive Experiences', -23.5361599286759, -46.36348089404835, 'São Paulo', '2025-06-12 09:09:06.240754', 480, 'Cloudy', 25.7, 0.08, 21.88792863693813, True, 'QF270D', 'NE008O', 'invited & yes', '2025-05-20 12:58:54.577274', 57.11791964027275, 1, -23.74914315045915, -46.87332375166852, 'São Paulo', 'outdoor', 26, 'fashion,food', '2023-07-21 22:08:59.955689', 16, 'Clear', 27.6, 0.0], ['QX017G', 'Enterprise-wide optimizing Graphical User Interface Immersive Experiences in São Paulo', 'Immersive Experiences', -23.5361599286759, -46.36348089404835, 'São Paulo', '2025-06-12 09:09:06.240754', 480, 'Cloudy', 25.7, 0.08, 21.88792863693813, True, 'BG934V', 'IL943A', 'yes', '2025-05-23 13:59:38.252450', 23.28791349934689, 1, -23.40748931362801, -46.18319144163578, 'São Paulo', 'outdoor', 46, 'music,literature', '2024-06-06 10:41:10.460719', 16, 'Clear', 27.9, 0.0], ['QX017G', 'Enterprise-wide optimizing Graphical User Interface Immersive Experiences in São Paulo', 'Immersive Experiences', -23.5361599286759, -46.36348089404835, 'São Paulo', '2025-06-12 09:09:06.240754', 480, 'Cloudy', 25.7, 0.08, 21.88792863693813, True, 'NI032I', 'IJ230C', 'invited & maybe', '2025-05-31 15:35:12.817273', 33.76454793083309, 1, -23.67654335073429, -46.657152865098375, 'São Paulo', 'any', 27, 'fashion,travel', '2023-09-18 21:32:52.143524', 14, 'Clear', 28.4, 0.0], ['QX017G', 'Enterprise-wide optimizing Graphical User Interface Immersive Experiences in São Paulo', 'Immersive Experiences', -23.5361599286759, -46.36348089404835, 'São Paulo', '2025-06-12 09:09:06.240754', 480, 'Cloudy', 25.7, 0.08, 21.88792863693813, True, 'SB249C', 'AV681Z', 'invited', '2025-05-15 11:10:41.545557', 42.15518788826356, 0, -23.886060148566564, -46.52617781707944, 'São Paulo', 'outdoor', 62, 'fitness,literature', '2023-07-02 14:12:31.836413', 16, 'Rain', 22.4, 10.74], ['QX017G', 'Enterprise-wide optimizing Graphical User Interface Immersive Experiences in São Paulo', 'Immersive Experiences', -23.5361599286759, -46.36348089404835, 'São Paulo', '2025-06-12 09:09:06.240754', 480, 'Cloudy', 25.7, 0.08, 21.88792863693813, True, 'QL739M', 'YX758J', 'maybe', '2025-06-03 10:22:33.575945', 15.897107518659888, 1, -23.409785006139952, -46.28969238605049, 'São Paulo', 'indoor', 38, 'travel,cinema,tech,fashion', '2023-11-25 05:18:58.497962', 21, 'Rain', 23.9, 4.62], ['QX017G', 'Enterprise-wide optimizing Graphical User Interface Immersive Experiences in São Paulo', 'Immersive Experiences', -23.5361599286759, -46.36348089404835, 'São Paulo', '2025-06-12 09:09:06.240754', 480, 'Cloudy', 25.7, 0.08, 21.88792863693813, True, 'GS443U', 'AR641N', 'invited & maybe', '2025-06-03 18:12:49.439199', 82.71169690603803, 1, -23.81797751629323, -47.11439861702419, 'São Paulo', 'any', 31, 'sports,tech', '2024-07-16 18:03:24.359492', 15, 'Rain', 23.4, 8.2], ['QX017G', 'Enterprise-wide optimizing Graphical User Interface Immersive Experiences in São Paulo', 'Immersive Experiences', -23.5361599286759, -46.36348089404835, 'São Paulo', '2025-06-12 09:09:06.240754', 480, 'Cloudy', 25.7, 0.08, 21.88792863693813, True, 'KH532I', 'YQ859A', 'invited & yes', '2025-06-04 04:40:50.173429', 58.84370429760437, 1, -24.014102357112684, -46.6156269620614, 'São Paulo', 'outdoor', 28, 'tech,cinema', '2025-01-27 06:07:31.732661', 19, 'Rain', 22.5, 11.2], ['QX017G', 'Enterprise-wide optimizing Graphical User Interface Immersive Experiences in São Paulo', 'Immersive Experiences', -23.5361599286759, -46.36348089404835, 'São Paulo', '2025-06-12 09:09:06.240754', 480, 'Cloudy', 25.7, 0.08, 21.88792863693813, True, 'OS047H', 'VV458O', 'invited', '2025-06-06 23:07:49.606982', 4.034014568286777, 0, -23.511088695974948, -46.334825973722616, 'São Paulo', 'outdoor', 34, 'sports,music', '2023-12-19 21:18:09.548642', 11, 'Clear', 26.6, 0.0], ['QX017G', 'Enterprise-wide optimizing Graphical User Interface Immersive Experiences in São Paulo', 'Immersive Experiences', -23.5361599286759, -46.36348089404835, 'São Paulo', '2025-06-12 09:09:06.240754', 480, 'Cloudy', 25.7, 0.08, 21.88792863693813, True, 'LN286S', 'AN632T', 'yes', '2025-06-05 04:20:12.386279', 90.5448844622703, 1, -24.045485940863987, -47.0584266532945, 'São Paulo', 'any', 45, 'literature,fashion,fitness', '2024-04-20 01:45:58.309497', 19, 'Clear', 27.4, 0.0], ['QX017G', 'Enterprise-wide optimizing Graphical User Interface Immersive Experiences in São Paulo', 'Immersive Experiences', -23.5361599286759, -46.36348089404835, 'São Paulo', '2025-06-12 09:09:06.240754', 480, 'Cloudy', 25.7, 0.08, 21.88792863693813, True, 'YO804Y', 'JU921S', 'no', '2025-05-15 09:29:13.741236', 54.61575376810543, 0, -23.81801314301406, -46.802831623628, 'São Paulo', 'indoor', 54, 'sports,literature,art', '2023-11-14 05:36:09.343553', 18, 'Clear', 27.4, 0.0], ['QX017G', 'Enterprise-wide optimizing Graphical User Interface Immersive Experiences in São Paulo', 'Immersive Experiences', -23.5361599286759, -46.36348089404835, 'São Paulo', '2025-06-12 09:09:06.240754', 480, 'Cloudy', 25.7, 0.08, 21.88792863693813, True, 'AT173W', 'IB836L', 'invited & no', '2025-05-30 18:50:15.645873', 38.10634395567858, 0, -23.253858144471764, -46.15036113212083, 'São Paulo', 'any', 30, 'travel,art,cinema,fitness', '2024-02-09 15:22:45.356122', 13, 'Clear', 27.8, 0.0], ['QX017G', 'Enterprise-wide optimizing Graphical User Interface Immersive Experiences in São Paulo', 'Immersive Experiences', -23.5361599286759, -46.36348089404835, 'São Paulo', '2025-06-12 09:09:06.240754', 480, 'Cloudy', 25.7, 0.08, 21.88792863693813, True, 'PM369K', 'II607Z', 'invited & yes', '2025-06-02 01:07:32.453436', 59.207963558138346, 1, -23.95259839412009, -46.72762994572193, 'São Paulo', 'outdoor', 39, 'fitness,food', '2024-06-10 06:14:50.488695', 16, 'Clear', 28.2, 0.0], ['QX017G', 'Enterprise-wide optimizing Graphical User Interface Immersive Experiences in São Paulo', 'Immersive Experiences', -23.5361599286759, -46.36348089404835, 'São Paulo', '2025-06-12 09:09:06.240754', 480, 'Cloudy', 25.7, 0.08, 21.88792863693813, True, 'BE125A', 'CE624O', 'no', '2025-05-17 18:05:16.715888', 12.93470484218126, 0, -23.545596886286845, -46.23722026030731, 'São Paulo', 'outdoor', 45, 'literature,fashion', '2024-09-07 07:27:36.175983', 18, 'Snow', 17.7, 4.92], ['QX017G', 'Enterprise-wide optimizing Graphical User Interface Immersive Experiences in São Paulo', 'Immersive Experiences', -23.5361599286759, -46.36348089404835, 'São Paulo', '2025-06-12 09:09:06.240754', 480, 'Cloudy', 25.7, 0.08, 21.88792863693813, True, 'QW371V', 'NY464L', 'invited & yes', '2025-05-13 16:50:18.364275', 11.196127287189563, 1, -23.565470304484545, -46.46842715251013, 'São Paulo', 'outdoor', 24, 'fashion,music', '2024-01-26 06:11:45.118468', 10, 'Clear', 28.2, 0.0], ['QX017G', 'Enterprise-wide optimizing Graphical User Interface Immersive Experiences in São Paulo', 'Immersive Experiences', -23.5361599286759, -46.36348089404835, 'São Paulo', '2025-06-12 09:09:06.240754', 480, 'Cloudy', 25.7, 0.08, 21.88792863693813, True, 'KY044S', 'GY615T', 'yes', '2025-05-27 04:51:35.386015', 46.00127469153889, 1, -23.951284804837208, -46.37814828050519, 'São Paulo', 'outdoor', 59, 'art,travel', '2023-12-18 02:03:02.993835', 17, 'Rain', 22.8, 5.93], ['QX017G', 'Enterprise-wide optimizing Graphical User Interface Immersive Experiences in São Paulo', 'Immersive Experiences', -23.5361599286759, -46.36348089404835, 'São Paulo', '2025-06-12 09:09:06.240754', 480, 'Cloudy', 25.7, 0.08, 21.88792863693813, True, 'GQ940B', 'IE479R', 'invited & maybe', '2025-05-23 12:43:06.620360', 63.11000156431139, 1, -23.626995384707524, -46.973828145385255, 'São Paulo', 'indoor', 33, 'tech,literature', '2024-11-16 14:26:26.574971', 17, 'Cloudy', 24.9, 0.19], ['QX017G', 'Enterprise-wide optimizing Graphical User Interface Immersive Experiences in São Paulo', 'Immersive Experiences', -23.5361599286759, -46.36348089404835, 'São Paulo', '2025-06-12 09:09:06.240754', 480, 'Cloudy', 25.7, 0.08, 21.88792863693813, True, 'YW901K', 'RX966F', 'yes', '2025-05-27 20:18:18.659059', 21.96375105772448, 1, -23.717564829538308, -46.27651435389946, 'São Paulo', 'any', 30, 'tech,literature,cinema,fitness', '2024-04-07 13:49:16.580757', 15, 'Clear', 28.4, 0.0], ['QX017G', 'Enterprise-wide optimizing Graphical User Interface Immersive Experiences in São Paulo', 'Immersive Experiences', -23.5361599286759, -46.36348089404835, 'São Paulo', '2025-06-12 09:09:06.240754', 480, 'Cloudy', 25.7, 0.08, 21.88792863693813, True, 'YT270C', 'FD170P', 'maybe', '2025-06-10 07:18:51.536244', 77.84158820832941, 1, -23.909627266305858, -47.01017786863651, 'São Paulo', 'outdoor', 29, 'travel,literature,fashion', '2023-06-15 00:04:34.885808', 14, 'Cloudy', 24.7, 0.41], ['QX017G', 'Enterprise-wide optimizing Graphical User Interface Immersive Experiences in São Paulo', 'Immersive Experiences', -23.5361599286759, -46.36348089404835, 'São Paulo', '2025-06-12 09:09:06.240754', 480, 'Cloudy', 25.7, 0.08, 21.88792863693813, True, 'RT678S', 'ZW816U', 'maybe', '2025-06-11 05:32:20.279114', 39.50882095020755, 1, -23.453187621669287, -46.73966447972256, 'São Paulo', 'any', 41, 'fitness,literature,fashion', '2024-07-10 20:59:03.026773', 17, 'Clear', 26.5, 0.0], ['QX017G', 'Enterprise-wide optimizing Graphical User Interface Immersive Experiences in São Paulo', 'Immersive Experiences', -23.5361599286759, -46.36348089404835, 'São Paulo', '2025-06-12 09:09:06.240754', 480, 'Cloudy', 25.7, 0.08, 21.88792863693813, True, 'ZJ663T', 'JL022J', 'yes', '2025-05-28 00:40:32.227286', 26.79763979248378, 1, -23.75694248616861, -46.25602600180702, 'São Paulo', 'outdoor', 35, 'art,fitness,sports', '2024-04-24 14:11:07.981843', 15, 'Clear', 27.6, 0.0], ['QX017G', 'Enterprise-wide optimizing Graphical User Interface Immersive Experiences in São Paulo', 'Immersive Experiences', -23.5361599286759, -46.36348089404835, 'São Paulo', '2025-06-12 09:09:06.240754', 480, 'Cloudy', 25.7, 0.08, 21.88792863693813, True, 'ZK950J', 'IV572H', 'yes', '2025-05-21 07:33:23.550198', 43.37642139085063, 1, -23.312004515150228, -46.71152595422089, 'São Paulo', 'outdoor', 28, 'fitness,cinema', '2023-11-29 12:01:57.319176', 13, 'Clear', 27.4, 0.0], ['QX017G', 'Enterprise-wide optimizing Graphical User Interface Immersive Experiences in São Paulo', 'Immersive Experiences', -23.5361599286759, -46.36348089404835, 'São Paulo', '2025-06-12 09:09:06.240754', 480, 'Cloudy', 25.7, 0.08, 21.88792863693813, True, 'PL510E', 'VG034B', 'invited & no', '2025-06-02 10:52:31.613040', 76.44163898779104, 0, -23.664767612198688, -47.09932705273571, 'São Paulo', 'outdoor', 33, 'travel,sports,cinema,art', '2023-10-17 00:26:25.429248', 14, 'Snow', 19.4, 3.53], ['QX017G', 'Enterprise-wide optimizing Graphical User Interface Immersive Experiences in São Paulo', 'Immersive Experiences', -23.5361599286759, -46.36348089404835, 'São Paulo', '2025-06-12 09:09:06.240754', 480, 'Cloudy', 25.7, 0.08, 21.88792863693813, True, 'GY343J', 'RT822X', 'no', '2025-05-28 12:53:06.092022', 41.7425901958897, 0, -23.16575215872008, -46.43899011695851, 'São Paulo', 'outdoor', 32, 'fashion,food', '2024-06-25 13:05:15.744019', 11, 'Cloudy', 24.2, 0.04], ['CM824R', 'Up-sized regional frame Sports & Fitness in Dubai', 'Sports & Fitness', 25.39250480071952, 55.10723236055948, 'Dubai', '2025-11-03 13:37:41.192741', 360, 'Clear', 36.3, 0.0, 23.428276916080268, False, 'KX151L', 'WX765N', 'no', '2025-10-13 22:38:33.362007', 66.27943352565842, 0, 25.56968709430792, 55.7368124602563, 'Dubai', 'any', 25, 'tech,cinema', '2025-02-09 07:16:56.911190', 15, 'Rain', 29.7, 13.31], ['OH995L', 'Profound multi-tasking ability Sports & Fitness in Dubai', 'Sports & Fitness', 25.247977588164904, 54.83435165845967, 'Dubai', '2025-05-30 19:46:29.592189', 480, 'Clear', 35.7, 0.0, 20.695765604360343, False, 'DM743M', 'WX765N', 'yes', '2025-05-10 05:28:10.557937', 97.54299856209148, 1, 25.56968709430792, 55.7368124602563, 'Dubai', 'any', 25, 'tech,cinema', '2025-02-09 07:16:56.911190', 15, 'Rain', 29.7, 13.31], ['CM824R', 'Up-sized regional frame Sports & Fitness in Dubai', 'Sports & Fitness', 25.39250480071952, 55.10723236055948, 'Dubai', '2025-11-03 13:37:41.192741', 360, 'Clear', 36.3, 0.0, 23.428276916080268, False, 'TD899Z', 'PY012N', 'invited & no', '2025-10-08 13:56:19.912265', 28.972350244359667, 0, 25.138666576268, 55.03795657612771, 'Dubai', 'outdoor', 41, 'tech,art,travel,fashion', '2024-04-11 23:44:07.977659', 18, 'Clear', 36.6, 0.0], ['CM824R', 'Up-sized regional frame Sports & Fitness in Dubai', 'Sports & Fitness', 25.39250480071952, 55.10723236055948, 'Dubai', '2025-11-03 13:37:41.192741', 360, 'Clear', 36.3, 0.0, 23.428276916080268, False, 'OB627F', 'NI426R', 'invited & no', '2025-11-03 12:29:30.808030', 31.07136617194308, 0, 25.26470193175668, 55.38194888620395, 'Dubai', 'outdoor', 30, 'cinema,music,travel', '2023-10-28 11:35:37.252706', 11, 'Windy', 31.3, 0.24], ['TO649I', 'Diverse contextually-based architecture Sports & Fitness in Dubai', 'Sports & Fitness', 25.70335722425577, 55.45476031632828, 'Dubai', '2025-09-28 10:34:30.639201', 120, 'Rain', 30.1, 15.89, 8.695867184973336, False, 'QK607A', 'NI426R', 'yes', '2025-09-18 15:34:54.271762', 49.14271321393796, 1, 25.26470193175668, 55.38194888620395, 'Dubai', 'outdoor', 30, 'cinema,music,travel', '2023-10-28 11:35:37.252706', 11, 'Windy', 31.3, 0.24], ['CM824R', 'Up-sized regional frame Sports & Fitness in Dubai', 'Sports & Fitness', 25.39250480071952, 55.10723236055948, 'Dubai', '2025-11-03 13:37:41.192741', 360, 'Clear', 36.3, 0.0, 23.428276916080268, False, 'UB001Z', 'XT333I', 'invited', '2025-10-07 11:14:15.865659', 52.97762985169384, 0, 25.344240238525455, 55.63091574489941, 'Dubai', 'indoor', 38, 'travel,fashion', '2023-11-18 18:12:47.027966', 15, 'Snow', 25.6, 9.36], ['CM824R', 'Up-sized regional frame Sports & Fitness in Dubai', 'Sports & Fitness', 25.39250480071952, 55.10723236055948, 'Dubai', '2025-11-03 13:37:41.192741', 360, 'Clear', 36.3, 0.0, 23.428276916080268, False, 'VF844U', 'LR354X', 'maybe', '2025-10-19 01:25:14.809130', 21.151169666071542, 1, 25.250185249065236, 54.96719270214697, 'Dubai', 'outdoor', 50, 'music,travel', '2025-01-06 12:38:28.272800', 14, 'Cloudy', 31.0, 0.12], ['CR399H', 'Persevering optimizing parallelism Arts & Culture in Dubai', 'Arts & Culture', 25.01149985510624, 55.15555608846195, 'Dubai', '2025-08-21 18:43:43.855422', 240, 'Rain', 31.0, 5.44, 11.06974953142032, True, 'BK041Q', 'LR354X', 'yes', '2025-08-10 12:39:21.372766', 32.55617918512245, 1, 25.250185249065236, 54.96719270214697, 'Dubai', 'outdoor', 50, 'music,travel', '2025-01-06 12:38:28.272800', 14, 'Cloudy', 31.0, 0.12], ['TW818N', 'Digitized scalable knowledge user Sports & Fitness in Dubai', 'Sports & Fitness', 24.891811474505943, 55.25749775782706, 'Dubai', '2025-07-24 19:20:59.598287', 120, 'Snow', 27.3, 7.88, 19.856769703819968, False, 'CM282H', 'LR354X', 'invited', '2025-06-30 22:04:14.950435', 49.33392870726839, 0, 25.250185249065236, 54.96719270214697, 'Dubai', 'outdoor', 50, 'music,travel', '2025-01-06 12:38:28.272800', 14, 'Cloudy', 31.0, 0.12], ['CM824R', 'Up-sized regional frame Sports & Fitness in Dubai', 'Sports & Fitness', 25.39250480071952, 55.10723236055948, 'Dubai', '2025-11-03 13:37:41.192741', 360, 'Clear', 36.3, 0.0, 23.428276916080268, False, 'HV556V', 'EY450V', 'maybe', '2025-10-23 05:49:54.347457', 25.5020848095868, 1, 25.163216416595404, 55.12987677021615, 'Dubai', 'indoor', 41, 'travel,fitness', '2025-03-24 06:53:33.575644', 18, 'Rain', 30.3, 17.75], ['CM824R', 'Up-sized regional frame Sports & Fitness in Dubai', 'Sports & Fitness', 25.39250480071952, 55.10723236055948, 'Dubai', '2025-11-03 13:37:41.192741', 360, 'Clear', 36.3, 0.0, 23.428276916080268, False, 'QX050F', 'BQ028Q', 'no', '2025-10-19 05:14:08.449684', 75.84861472382256, 0, 24.72919224298829, 55.293716488149336, 'Dubai', 'any', 31, 'fitness,music,fashion,sports', '2023-11-25 18:30:05.856615', 11, 'Clear', 36.9, 0.0], ['CM824R', 'Up-sized regional frame Sports & Fitness in Dubai', 'Sports & Fitness', 25.39250480071952, 55.10723236055948, 'Dubai', '2025-11-03 13:37:41.192741', 360, 'Clear', 36.3, 0.0, 23.428276916080268, False, 'GI947W', 'KF509L', 'yes', '2025-10-30 22:20:44.048879', 62.095996776598255, 1, 25.13395656912796, 55.65418173144667, 'Dubai', 'outdoor', 55, 'tech,travel', '2024-03-31 18:28:08.319386', 17, 'Cloudy', 31.5, 0.36], ['CM824R', 'Up-sized regional frame Sports & Fitness in Dubai', 'Sports & Fitness', 25.39250480071952, 55.10723236055948, 'Dubai', '2025-11-03 13:37:41.192741', 360, 'Clear', 36.3, 0.0, 23.428276916080268, False, 'BU240I', 'KQ067G', 'invited & maybe', '2025-10-26 04:29:32.752669', 19.93491678570018, 1, 25.542791694451388, 55.21626143997126, 'Dubai', 'any', 29, 'tech,music,literature', '2023-11-26 16:22:49.358180', 19, 'Rain', 29.4, 8.15], ['CM824R', 'Up-sized regional frame Sports & Fitness in Dubai', 'Sports & Fitness', 25.39250480071952, 55.10723236055948, 'Dubai', '2025-11-03 13:37:41.192741', 360, 'Clear', 36.3, 0.0, 23.428276916080268, False, 'CA348P', 'OH003W', 'maybe', '2025-10-18 05:55:45.903662', 47.50294902261535, 1, 25.478657429680016, 55.56984060032754, 'Dubai', 'indoor', 25, 'cinema,sports', '2024-12-02 19:47:06.968073', 14, 'Clear', 36.3, 0.0], ['CM824R', 'Up-sized regional frame Sports & Fitness in Dubai', 'Sports & Fitness', 25.39250480071952, 55.10723236055948, 'Dubai', '2025-11-03 13:37:41.192741', 360, 'Clear', 36.3, 0.0, 23.428276916080268, False, 'RC108O', 'RI057A', 'yes', '2025-10-21 20:25:29.883789', 58.08854222059894, 1, 25.63047462627547, 55.62213346476089, 'Dubai', 'outdoor', 37, 'literature,art,travel', '2024-05-03 03:59:30.551963', 20, 'Clear', 34.6, 0.0], ['CM824R', 'Up-sized regional frame Sports & Fitness in Dubai', 'Sports & Fitness', 25.39250480071952, 55.10723236055948, 'Dubai', '2025-11-03 13:37:41.192741', 360, 'Clear', 36.3, 0.0, 23.428276916080268, False, 'GK509Y', 'RI057A', 'invited & maybe', '2025-10-28 06:22:52.386029', 58.08854222059894, 1, 25.63047462627547, 55.62213346476089, 'Dubai', 'outdoor', 37, 'literature,art,travel', '2024-05-03 03:59:30.551963', 20, 'Clear', 34.6, 0.0], ['CM824R', 'Up-sized regional frame Sports & Fitness in Dubai', 'Sports & Fitness', 25.39250480071952, 55.10723236055948, 'Dubai', '2025-11-03 13:37:41.192741', 360, 'Clear', 36.3, 0.0, 23.428276916080268, False, 'OK626H', 'BZ546Q', 'no', '2025-10-25 04:07:33.199002', 98.19295341711312, 0, 24.73792127041869, 55.76347556355176, 'Dubai', 'any', 37, 'fashion,fitness,art', '2023-11-20 08:21:50.879077', 7, 'Rain', 29.4, 5.05], ['CM824R', 'Up-sized regional frame Sports & Fitness in Dubai', 'Sports & Fitness', 25.39250480071952, 55.10723236055948, 'Dubai', '2025-11-03 13:37:41.192741', 360, 'Clear', 36.3, 0.0, 23.428276916080268, False, 'MT864Y', 'DW478Y', 'yes', '2025-10-23 11:21:33.239478', 33.66232386377613, 1, 25.6330980289238, 55.31176748441187, 'Dubai', 'indoor', 40, 'fitness,art,travel', '2025-01-10 03:11:06.852732', 12, 'Clear', 36.5, 0.0], ['CM824R', 'Up-sized regional frame Sports & Fitness in Dubai', 'Sports & Fitness', 25.39250480071952, 55.10723236055948, 'Dubai', '2025-11-03 13:37:41.192741', 360, 'Clear', 36.3, 0.0, 23.428276916080268, False, 'MK629U', 'GW657N', 'yes', '2025-10-16 04:55:07.983353', 33.67467656439501, 1, 25.096255945013127, 55.18216957954115, 'Dubai', 'any', 43, 'music,cinema,food', '2025-02-02 22:18:47.838111', 17, 'Clear', 34.9, 0.0], ['CM824R', 'Up-sized regional frame Sports & Fitness in Dubai', 'Sports & Fitness', 25.39250480071952, 55.10723236055948, 'Dubai', '2025-11-03 13:37:41.192741', 360, 'Clear', 36.3, 0.0, 23.428276916080268, False, 'PW949Y', 'NK949I', 'yes', '2025-10-27 08:05:11.338357', 8.347666090475887, 1, 25.31716899152384, 55.10909286393152, 'Dubai', 'outdoor', 37, 'fashion,food', '2025-03-25 11:39:44.660021', 10, 'Cloudy', 32.0, 0.23], ['OH995L', 'Profound multi-tasking ability Sports & Fitness in Dubai', 'Sports & Fitness', 25.247977588164904, 54.83435165845967, 'Dubai', '2025-05-30 19:46:29.592189', 480, 'Clear', 35.7, 0.0, 20.695765604360343, False, 'QP326J', 'NK949I', 'maybe', '2025-05-12 00:20:45.582446', 28.713313761551287, 1, 25.31716899152384, 55.10909286393152, 'Dubai', 'outdoor', 37, 'fashion,food', '2025-03-25 11:39:44.660021', 10, 'Cloudy', 32.0, 0.23], ['CR399H', 'Persevering optimizing parallelism Arts & Culture in Dubai', 'Arts & Culture', 25.01149985510624, 55.15555608846195, 'Dubai', '2025-08-21 18:43:43.855422', 240, 'Rain', 31.0, 5.44, 11.06974953142032, True, 'KZ531H', 'NK949I', 'yes', '2025-08-09 22:08:44.151914', 34.18306803453649, 1, 25.31716899152384, 55.10909286393152, 'Dubai', 'outdoor', 37, 'fashion,food', '2025-03-25 11:39:44.660021', 10, 'Cloudy', 32.0, 0.23], ['CM824R', 'Up-sized regional frame Sports & Fitness in Dubai', 'Sports & Fitness', 25.39250480071952, 55.10723236055948, 'Dubai', '2025-11-03 13:37:41.192741', 360, 'Clear', 36.3, 0.0, 23.428276916080268, False, 'LY912L', 'PW462G', 'invited & yes', '2025-10-11 06:20:26.560943', 27.651346387586024, 1, 25.617343261480112, 55.2266796574043, 'Dubai', 'indoor', 36, 'sports,music,fashion', '2024-01-19 05:25:30.452213', 14, 'Clear', 35.3, 0.0], ['CM824R', 'Up-sized regional frame Sports & Fitness in Dubai', 'Sports & Fitness', 25.39250480071952, 55.10723236055948, 'Dubai', '2025-11-03 13:37:41.192741', 360, 'Clear', 36.3, 0.0, 23.428276916080268, False, 'RJ622R', 'IC997L', 'maybe', '2025-10-30 07:00:24.398822', 59.69924042215827, 1, 25.03907704933482, 55.55446154582611, 'Dubai', 'outdoor', 42, 'tech,travel', '2025-05-15 05:22:43.767541', 18, 'Cloudy', 33.4, 0.41], ['CM824R', 'Up-sized regional frame Sports & Fitness in Dubai', 'Sports & Fitness', 25.39250480071952, 55.10723236055948, 'Dubai', '2025-11-03 13:37:41.192741', 360, 'Clear', 36.3, 0.0, 23.428276916080268, False, 'ZB825Y', 'LK579E', 'invited & yes', '2025-10-15 03:07:45.827938', 36.344439990299975, 1, 25.097879298340057, 54.948512634279616, 'Dubai', 'outdoor', 28, 'food,travel', '2024-07-21 19:14:47.131463', 14, 'Clear', 34.7, 0.0], ['CM824R', 'Up-sized regional frame Sports & Fitness in Dubai', 'Sports & Fitness', 25.39250480071952, 55.10723236055948, 'Dubai', '2025-11-03 13:37:41.192741', 360, 'Clear', 36.3, 0.0, 23.428276916080268, False, 'MG380V', 'CO212I', 'maybe', '2025-10-30 10:21:52.591690', 69.4098083103208, 1, 24.858772865032787, 55.46778297379124, 'Dubai', 'indoor', 35, 'sports,tech,music', '2024-06-29 23:59:38.655814', 23, 'Clear', 35.4, 0.0], ['CM824R', 'Up-sized regional frame Sports & Fitness in Dubai', 'Sports & Fitness', 25.39250480071952, 55.10723236055948, 'Dubai', '2025-11-03 13:37:41.192741', 360, 'Clear', 36.3, 0.0, 23.428276916080268, False, 'EV193H', 'KX750R', 'no', '2025-10-14 19:28:08.928821', 59.73776550346453, 0, 25.041604513817447, 55.5573682245381, 'Dubai', 'outdoor', 35, 'travel,fashion', '2024-05-26 22:08:14.067515', 9, 'Rain', 31.9, 7.15], ['YL323F', 'Distributed interactive architecture Arts & Culture in Dubai', 'Arts & Culture', 24.73333260410337, 54.98840298498484, 'Dubai', '2025-09-08 13:59:05.242018', 360, 'Clear', 36.5, 0.0, 67.48365645583725, True, 'TY331K', 'KX750R', 'yes', '2025-09-03 18:38:23.156019', 66.86601147951555, 1, 25.041604513817447, 55.5573682245381, 'Dubai', 'outdoor', 35, 'travel,fashion', '2024-05-26 22:08:14.067515', 9, 'Rain', 31.9, 7.15], ['CM824R', 'Up-sized regional frame Sports & Fitness in Dubai', 'Sports & Fitness', 25.39250480071952, 55.10723236055948, 'Dubai', '2025-11-03 13:37:41.192741', 360, 'Clear', 36.3, 0.0, 23.428276916080268, False, 'VQ692C', 'ZZ987E', 'invited & no', '2025-10-30 08:49:10.089368', 26.434121428189748, 0, 25.198698291008583, 55.26036661516378, 'Dubai', 'any', 33, 'music,tech,cinema', '2024-10-03 19:13:20.997146', 15, 'Windy', 32.0, 0.23], ['CM824R', 'Up-sized regional frame Sports & Fitness in Dubai', 'Sports & Fitness', 25.39250480071952, 55.10723236055948, 'Dubai', '2025-11-03 13:37:41.192741', 360, 'Clear', 36.3, 0.0, 23.428276916080268, False, 'XT123H', 'LJ880N', 'maybe', '2025-10-17 02:14:00.579862', 76.17370823687305, 1, 24.707014316492288, 55.04742670171392, 'Dubai', 'outdoor', 42, 'literature,tech,travel', '2025-03-11 09:33:52.673776', 17, 'Snow', 28.2, 9.9], ['CM824R', 'Up-sized regional frame Sports & Fitness in Dubai', 'Sports & Fitness', 25.39250480071952, 55.10723236055948, 'Dubai', '2025-11-03 13:37:41.192741', 360, 'Clear', 36.3, 0.0, 23.428276916080268, False, 'SU526Y', 'JP831O', 'invited & yes', '2025-10-26 23:31:24.952917', 27.596842587595276, 1, 25.6396094870853, 55.14201749817131, 'Dubai', 'indoor', 51, 'art,music,fashion', '2023-11-14 02:22:09.315689', 30, 'Rain', 29.5, 6.09], ['CM824R', 'Up-sized regional frame Sports & Fitness in Dubai', 'Sports & Fitness', 25.39250480071952, 55.10723236055948, 'Dubai', '2025-11-03 13:37:41.192741', 360, 'Clear', 36.3, 0.0, 23.428276916080268, False, 'WA423C', 'ZY531G', 'yes', '2025-10-12 08:14:34.117922', 82.95912258244007, 1, 24.80086265618298, 55.61145926348127, 'Dubai', 'outdoor', 39, 'travel,food', '2025-05-19 16:22:16.569332', 8, 'Clear', 35.8, 0.0], ['CM824R', 'Up-sized regional frame Sports & Fitness in Dubai', 'Sports & Fitness', 25.39250480071952, 55.10723236055948, 'Dubai', '2025-11-03 13:37:41.192741', 360, 'Clear', 36.3, 0.0, 23.428276916080268, False, 'AK508L', 'VD876Q', 'no', '2025-11-03 01:14:51.157223', 57.49699416641688, 0, 24.938220956455925, 55.38309698089856, 'Dubai', 'any', 33, 'food,music', '2025-04-13 05:14:39.959325', 14, 'Clear', 35.6, 0.0], ['CM824R', 'Up-sized regional frame Sports & Fitness in Dubai', 'Sports & Fitness', 25.39250480071952, 55.10723236055948, 'Dubai', '2025-11-03 13:37:41.192741', 360, 'Clear', 36.3, 0.0, 23.428276916080268, False, 'QA394C', 'KW111X', 'invited & yes', '2025-10-29 14:50:14.528444', 48.06335693802569, 1, 25.064331985887364, 54.795208689115846, 'Dubai', 'outdoor', 47, 'art,sports,fashion,travel', '2024-02-24 17:39:31.796584', 9, 'Clear', 36.3, 0.0], ['TW818N', 'Digitized scalable knowledge user Sports & Fitness in Dubai', 'Sports & Fitness', 24.891811474505943, 55.25749775782706, 'Dubai', '2025-07-24 19:20:59.598287', 120, 'Snow', 27.3, 7.88, 19.856769703819968, False, 'RV995G', 'KW111X', 'invited & yes', '2025-07-16 03:20:12.076330', 50.43703430658684, 1, 25.064331985887364, 54.795208689115846, 'Dubai', 'outdoor', 47, 'art,sports,fashion,travel', '2024-02-24 17:39:31.796584', 9, 'Clear', 36.3, 0.0], ['CM824R', 'Up-sized regional frame Sports & Fitness in Dubai', 'Sports & Fitness', 25.39250480071952, 55.10723236055948, 'Dubai', '2025-11-03 13:37:41.192741', 360, 'Clear', 36.3, 0.0, 23.428276916080268, False, 'WT877N', 'TN472H', 'invited & yes', '2025-10-11 06:49:18.648687', 11.853393526735218, 1, 25.47261805613676, 55.185342833179455, 'Dubai', 'outdoor', 37, 'travel,fitness,sports', '2023-10-18 06:40:01.503109', 17, 'Rain', 29.4, 13.11], ['CM824R', 'Up-sized regional frame Sports & Fitness in Dubai', 'Sports & Fitness', 25.39250480071952, 55.10723236055948, 'Dubai', '2025-11-03 13:37:41.192741', 360, 'Clear', 36.3, 0.0, 23.428276916080268, False, 'LO261D', 'FM184Y', 'invited & yes', '2025-10-12 01:10:51.250146', 18.38981252214239, 1, 25.235021555049403, 55.1650010543082, 'Dubai', 'indoor', 35, 'literature,sports', '2024-04-21 16:48:29.827238', 11, 'Clear', 36.2, 0.0], ['CM824R', 'Up-sized regional frame Sports & Fitness in Dubai', 'Sports & Fitness', 25.39250480071952, 55.10723236055948, 'Dubai', '2025-11-03 13:37:41.192741', 360, 'Clear', 36.3, 0.0, 23.428276916080268, False, 'LT195P', 'CF177V', 'maybe', '2025-10-08 02:15:06.170060', 37.67839391199481, 1, 25.086594820532543, 55.270709792413406, 'Dubai', 'indoor', 30, 'literature,fitness,food', '2023-09-09 10:06:09.660427', 17, 'Rain', 30.3, 16.72], ['CM824R', 'Up-sized regional frame Sports & Fitness in Dubai', 'Sports & Fitness', 25.39250480071952, 55.10723236055948, 'Dubai', '2025-11-03 13:37:41.192741', 360, 'Clear', 36.3, 0.0, 23.428276916080268, False, 'FG681U', 'UR589V', 'maybe', '2025-10-13 01:23:00.164502', 40.52062270009149, 1, 25.12019570631318, 54.83867010302978, 'Dubai', 'indoor', 52, 'food,fitness', '2023-07-07 17:53:08.763338', 15, 'Cloudy', 33.6, 0.14], ['CM824R', 'Up-sized regional frame Sports & Fitness in Dubai', 'Sports & Fitness', 25.39250480071952, 55.10723236055948, 'Dubai', '2025-11-03 13:37:41.192741', 360, 'Clear', 36.3, 0.0, 23.428276916080268, False, 'WF548H', 'OM696N', 'invited & yes', '2025-11-01 20:24:56.354702', 46.2327657338415, 1, 25.689633246865768, 55.430259177202885, 'Dubai', 'outdoor', 24, 'art,music', '2024-03-28 02:38:23.367028', 11, 'Clear', 35.5, 0.0], ['CM824R', 'Up-sized regional frame Sports & Fitness in Dubai', 'Sports & Fitness', 25.39250480071952, 55.10723236055948, 'Dubai', '2025-11-03 13:37:41.192741', 360, 'Clear', 36.3, 0.0, 23.428276916080268, False, 'PV646Q', 'JN570I', 'invited & maybe', '2025-10-15 02:45:55.633294', 80.81564501636073, 1, 24.848297222712347, 55.64092555039279, 'Dubai', 'outdoor', 31, 'sports,music', '2025-02-11 23:32:34.568364', 14, 'Clear', 34.7, 0.0], ['CM824R', 'Up-sized regional frame Sports & Fitness in Dubai', 'Sports & Fitness', 25.39250480071952, 55.10723236055948, 'Dubai', '2025-11-03 13:37:41.192741', 360, 'Clear', 36.3, 0.0, 23.428276916080268, False, 'UI988K', 'SO628Y', 'no', '2025-10-27 23:14:21.965189', 40.02706547008778, 0, 25.03154254203004, 55.125224948793054, 'Dubai', 'indoor', 35, 'literature,cinema,art', '2024-10-11 12:55:00.494906', 12, 'Cloudy', 33.2, 0.31], ['CM824R', 'Up-sized regional frame Sports & Fitness in Dubai', 'Sports & Fitness', 25.39250480071952, 55.10723236055948, 'Dubai', '2025-11-03 13:37:41.192741', 360, 'Clear', 36.3, 0.0, 23.428276916080268, False, 'VM802Y', 'NN111E', 'invited & maybe', '2025-10-25 23:48:27.018204', 12.867958531109132, 1, 25.276627656285715, 55.098318156419865, 'Dubai', 'outdoor', 30, 'sports,music', '2024-08-24 06:16:16.701571', 12, 'Rain', 31.3, 4.75], ['CM824R', 'Up-sized regional frame Sports & Fitness in Dubai', 'Sports & Fitness', 25.39250480071952, 55.10723236055948, 'Dubai', '2025-11-03 13:37:41.192741', 360, 'Clear', 36.3, 0.0, 23.428276916080268, False, 'OC728P', 'TW345H', 'yes', '2025-10-25 18:40:12.702918', 76.42929181726821, 1, 24.82627347829407, 55.54021720276217, 'Dubai', 'outdoor', 38, 'fitness,cinema,music', '2025-01-14 00:24:35.262070', 18, 'Clear', 34.2, 0.0], ['CM824R', 'Up-sized regional frame Sports & Fitness in Dubai', 'Sports & Fitness', 25.39250480071952, 55.10723236055948, 'Dubai', '2025-11-03 13:37:41.192741', 360, 'Clear', 36.3, 0.0, 23.428276916080268, False, 'YX455I', 'ZZ627R', 'invited', '2025-11-01 11:01:12.015051', 34.832356983368314, 0, 25.08840904035516, 55.19517202605363, 'Dubai', 'outdoor', 40, 'literature,fitness,art', '2024-07-05 20:57:36.693110', 15, 'Clear', 34.7, 0.0], ['CM824R', 'Up-sized regional frame Sports & Fitness in Dubai', 'Sports & Fitness', 25.39250480071952, 55.10723236055948, 'Dubai', '2025-11-03 13:37:41.192741', 360, 'Clear', 36.3, 0.0, 23.428276916080268, False, 'FC186M', 'ZK920U', 'maybe', '2025-10-07 21:17:25.165368', 55.155925506477, 1, 25.680706526702046, 55.55472196723829, 'Dubai', 'indoor', 30, 'music,food', '2023-11-16 06:43:15.500042', 13, 'Cloudy', 32.2, 0.41], ['CM824R', 'Up-sized regional frame Sports & Fitness in Dubai', 'Sports & Fitness', 25.39250480071952, 55.10723236055948, 'Dubai', '2025-11-03 13:37:41.192741', 360, 'Clear', 36.3, 0.0, 23.428276916080268, False, 'EK246Y', 'HU399J', 'invited & maybe', '2025-10-27 23:03:45.336590', 42.7403997257524, 1, 25.0089031825293, 55.06174417836568, 'Dubai', 'indoor', 29, 'fitness,cinema,art,food', '2025-02-16 05:59:15.870829', 16, 'Cloudy', 34.0, 0.06], ['CM824R', 'Up-sized regional frame Sports & Fitness in Dubai', 'Sports & Fitness', 25.39250480071952, 55.10723236055948, 'Dubai', '2025-11-03 13:37:41.192741', 360, 'Clear', 36.3, 0.0, 23.428276916080268, False, 'OQ320Q', 'XT469L', 'no', '2025-10-22 00:32:01.501055', 21.06629387386564, 0, 25.548801488665028, 54.987904952026646, 'Dubai', 'any', 37, 'literature,sports,tech', '2024-05-10 00:47:15.284899', 14, 'Clear', 34.1, 0.0], ['CM824R', 'Up-sized regional frame Sports & Fitness in Dubai', 'Sports & Fitness', 25.39250480071952, 55.10723236055948, 'Dubai', '2025-11-03 13:37:41.192741', 360, 'Clear', 36.3, 0.0, 23.428276916080268, False, 'TB207M', 'KX322V', 'invited & maybe', '2025-10-31 22:38:54.300236', 3.2825361975211096, 1, 25.421623551546617, 55.10118996949797, 'Dubai', 'outdoor', 63, 'travel,literature,art,sports', '2024-03-03 01:06:38.652242', 12, 'Clear', 34.7, 0.0], ['TW818N', 'Digitized scalable knowledge user Sports & Fitness in Dubai', 'Sports & Fitness', 24.891811474505943, 55.25749775782706, 'Dubai', '2025-07-24 19:20:59.598287', 120, 'Snow', 27.3, 7.88, 19.856769703819968, False, 'YF921A', 'KX322V', 'no', '2025-07-04 08:50:00.918653', 60.76900774986493, 0, 25.421623551546617, 55.10118996949797, 'Dubai', 'outdoor', 63, 'travel,literature,art,sports', '2024-03-03 01:06:38.652242', 12, 'Clear', 34.7, 0.0], ['CM824R', 'Up-sized regional frame Sports & Fitness in Dubai', 'Sports & Fitness', 25.39250480071952, 55.10723236055948, 'Dubai', '2025-11-03 13:37:41.192741', 360, 'Clear', 36.3, 0.0, 23.428276916080268, False, 'PZ686L', 'VB102I', 'invited & maybe', '2025-10-06 05:54:43.408521', 7.896055635465846, 1, 25.323103058524243, 55.08935175574093, 'Dubai', 'outdoor', 44, 'food,music,fitness,sports', '2024-08-15 09:27:54.418306', 13, 'Rain', 29.2, 5.92], ['CM824R', 'Up-sized regional frame Sports & Fitness in Dubai', 'Sports & Fitness', 25.39250480071952, 55.10723236055948, 'Dubai', '2025-11-03 13:37:41.192741', 360, 'Clear', 36.3, 0.0, 23.428276916080268, False, 'LL202L', 'LS318V', 'invited & maybe', '2025-11-03 12:20:07.811492', 25.041948402857752, 1, 25.176049894212305, 55.03553630199077, 'Dubai', 'indoor', 34, 'fashion,fitness,food,sports', '2025-04-17 13:38:17.000890', 12, 'Clear', 35.6, 0.0], ['CM824R', 'Up-sized regional frame Sports & Fitness in Dubai', 'Sports & Fitness', 25.39250480071952, 55.10723236055948, 'Dubai', '2025-11-03 13:37:41.192741', 360, 'Clear', 36.3, 0.0, 23.428276916080268, False, 'DL325K', 'BA442G', 'yes', '2025-10-25 10:01:00.652268', 55.037864763424, 1, 25.38244912828278, 55.65404719429132, 'Dubai', 'indoor', 33, 'fitness,art,music', '2023-12-12 19:50:11.346393', 15, 'Snow', 26.1, 2.87], ['CM824R', 'Up-sized regional frame Sports & Fitness in Dubai', 'Sports & Fitness', 25.39250480071952, 55.10723236055948, 'Dubai', '2025-11-03 13:37:41.192741', 360, 'Clear', 36.3, 0.0, 23.428276916080268, False, 'SV586I', 'LN386T', 'invited & yes', '2025-10-07 21:39:55.428905', 74.82298723902585, 1, 25.00017583727571, 55.7115361295812, 'Dubai', 'outdoor', 37, 'tech,literature,travel,sports', '2024-01-19 00:56:09.545166', 15, 'Cloudy', 31.7, 0.12], ['CM824R', 'Up-sized regional frame Sports & Fitness in Dubai', 'Sports & Fitness', 25.39250480071952, 55.10723236055948, 'Dubai', '2025-11-03 13:37:41.192741', 360, 'Clear', 36.3, 0.0, 23.428276916080268, False, 'ZX065L', 'UV976J', 'maybe', '2025-10-25 07:17:23.402159', 38.35942656525863, 1, 25.051192517276203, 55.04299226238125, 'Dubai', 'outdoor', 42, 'sports,literature,cinema', '2025-01-18 04:00:23.961896', 18, 'Clear', 35.5, 0.0], ['TW818N', 'Digitized scalable knowledge user Sports & Fitness in Dubai', 'Sports & Fitness', 24.891811474505943, 55.25749775782706, 'Dubai', '2025-07-24 19:20:59.598287', 120, 'Snow', 27.3, 7.88, 19.856769703819968, False, 'AC771L', 'UV976J', 'yes', '2025-07-02 18:04:19.657909', 27.943274124337428, 1, 25.051192517276203, 55.04299226238125, 'Dubai', 'outdoor', 42, 'sports,literature,cinema', '2025-01-18 04:00:23.961896', 18, 'Clear', 35.5, 0.0], ['CM824R', 'Up-sized regional frame Sports & Fitness in Dubai', 'Sports & Fitness', 25.39250480071952, 55.10723236055948, 'Dubai', '2025-11-03 13:37:41.192741', 360, 'Clear', 36.3, 0.0, 23.428276916080268, False, 'CL484J', 'YC133U', 'no', '2025-10-04 21:46:51.002179', 25.646548384030584, 0, 25.30618795941756, 55.34363895221664, 'Dubai', 'outdoor', 35, 'literature,travel,food', '2024-06-26 20:21:07.413552', 14, 'Clear', 34.0, 0.0], ['CM824R', 'Up-sized regional frame Sports & Fitness in Dubai', 'Sports & Fitness', 25.39250480071952, 55.10723236055948, 'Dubai', '2025-11-03 13:37:41.192741', 360, 'Clear', 36.3, 0.0, 23.428276916080268, False, 'QR390N', 'YE283M', 'maybe', '2025-10-19 15:07:28.976013', 72.7686761980795, 1, 25.075592683258765, 55.73984175152559, 'Dubai', 'indoor', 28, 'fitness,travel,food,literature', '2023-10-16 11:52:43.779963', 17, 'Clear', 35.4, 0.0], ['PA960E', 'Open-architected coherent initiative Immersive Experiences in Dubai', 'Immersive Experiences', 25.192263822907588, 55.442867493528034, 'Dubai', '2025-06-03 19:51:27.977049', 360, 'Clear', 34.7, 0.0, 7.844354083146755, True, 'UN083Y', 'YE283M', 'yes', '2025-05-18 18:43:20.710104', 32.616830653637194, 1, 25.075592683258765, 55.73984175152559, 'Dubai', 'indoor', 28, 'fitness,travel,food,literature', '2023-10-16 11:52:43.779963', 17, 'Clear', 35.4, 0.0], ['TW818N', 'Digitized scalable knowledge user Sports & Fitness in Dubai', 'Sports & Fitness', 24.891811474505943, 55.25749775782706, 'Dubai', '2025-07-24 19:20:59.598287', 120, 'Snow', 27.3, 7.88, 19.856769703819968, False, 'BO494J', 'YE283M', 'invited & yes', '2025-07-19 14:34:50.855186', 52.78296063377774, 1, 25.075592683258765, 55.73984175152559, 'Dubai', 'indoor', 28, 'fitness,travel,food,literature', '2023-10-16 11:52:43.779963', 17, 'Clear', 35.4, 0.0], ['CM824R', 'Up-sized regional frame Sports & Fitness in Dubai', 'Sports & Fitness', 25.39250480071952, 55.10723236055948, 'Dubai', '2025-11-03 13:37:41.192741', 360, 'Clear', 36.3, 0.0, 23.428276916080268, False, 'FK026V', 'TX716Z', 'invited & yes', '2025-10-26 10:12:12.314402', 69.7924146785173, 1, 24.940447814306637, 55.58944873342054, 'Dubai', 'outdoor', 51, 'literature,music', '2024-05-09 17:25:03.553046', 17, 'Clear', 34.1, 0.0], ['CM824R', 'Up-sized regional frame Sports & Fitness in Dubai', 'Sports & Fitness', 25.39250480071952, 55.10723236055948, 'Dubai', '2025-11-03 13:37:41.192741', 360, 'Clear', 36.3, 0.0, 23.428276916080268, False, 'UF724U', 'TC972V', 'invited & maybe', '2025-10-10 06:05:49.557619', 76.30649124630669, 1, 24.82003391625979, 55.52800898646412, 'Dubai', 'any', 24, 'fashion,travel,food', '2024-08-22 23:58:02.598352', 17, 'Clear', 37.0, 0.0], ['PA960E', 'Open-architected coherent initiative Immersive Experiences in Dubai', 'Immersive Experiences', 25.192263822907588, 55.442867493528034, 'Dubai', '2025-06-03 19:51:27.977049', 360, 'Clear', 34.7, 0.0, 7.844354083146755, True, 'WH333P', 'TC972V', 'invited & yes', '2025-05-25 09:30:59.295721', 42.11921849769864, 1, 24.82003391625979, 55.52800898646412, 'Dubai', 'any', 24, 'fashion,travel,food', '2024-08-22 23:58:02.598352', 17, 'Clear', 37.0, 0.0], ['CM824R', 'Up-sized regional frame Sports & Fitness in Dubai', 'Sports & Fitness', 25.39250480071952, 55.10723236055948, 'Dubai', '2025-11-03 13:37:41.192741', 360, 'Clear', 36.3, 0.0, 23.428276916080268, False, 'YZ659A', 'JD556S', 'invited & yes', '2025-10-15 00:07:27.253753', 34.81233396625127, 1, 25.214796806170167, 54.8221131177923, 'Dubai', 'outdoor', 47, 'music,cinema', '2023-12-29 18:34:59.863917', 18, 'Rain', 31.5, 18.85], ['CM824R', 'Up-sized regional frame Sports & Fitness in Dubai', 'Sports & Fitness', 25.39250480071952, 55.10723236055948, 'Dubai', '2025-11-03 13:37:41.192741', 360, 'Clear', 36.3, 0.0, 23.428276916080268, False, 'GH953B', 'FZ076T', 'invited & maybe', '2025-11-01 20:20:49.241757', 21.870831711049423, 1, 25.24828040257322, 55.25557027828187, 'Dubai', 'any', 41, 'art,literature,sports', '2023-12-28 18:49:11.114249', 17, 'Clear', 36.8, 0.0], ['YL323F', 'Distributed interactive architecture Arts & Culture in Dubai', 'Arts & Culture', 24.73333260410337, 54.98840298498484, 'Dubai', '2025-09-08 13:59:05.242018', 360, 'Clear', 36.5, 0.0, 67.48365645583725, True, 'IJ593A', 'FZ076T', 'yes', '2025-08-22 15:59:45.065156', 63.0977188685589, 1, 25.24828040257322, 55.25557027828187, 'Dubai', 'any', 41, 'art,literature,sports', '2023-12-28 18:49:11.114249', 17, 'Clear', 36.8, 0.0], ['CM824R', 'Up-sized regional frame Sports & Fitness in Dubai', 'Sports & Fitness', 25.39250480071952, 55.10723236055948, 'Dubai', '2025-11-03 13:37:41.192741', 360, 'Clear', 36.3, 0.0, 23.428276916080268, False, 'GB969W', 'ZS184W', 'invited & no', '2025-10-25 23:08:13.965482', 29.058208195581635, 0, 25.619787484659803, 54.962940928773925, 'Dubai', 'outdoor', 30, 'tech,music', '2024-10-29 03:09:10.679325', 9, 'Clear', 34.7, 0.0], ['TO649I', 'Diverse contextually-based architecture Sports & Fitness in Dubai', 'Sports & Fitness', 25.70335722425577, 55.45476031632828, 'Dubai', '2025-09-28 10:34:30.639201', 120, 'Rain', 30.1, 15.89, 8.695867184973336, False, 'WQ330F', 'ZS184W', 'invited & no', '2025-09-02 13:25:11.814420', 50.240413233642094, 0, 25.619787484659803, 54.962940928773925, 'Dubai', 'outdoor', 30, 'tech,music', '2024-10-29 03:09:10.679325', 9, 'Clear', 34.7, 0.0], ['CM824R', 'Up-sized regional frame Sports & Fitness in Dubai', 'Sports & Fitness', 25.39250480071952, 55.10723236055948, 'Dubai', '2025-11-03 13:37:41.192741', 360, 'Clear', 36.3, 0.0, 23.428276916080268, False, 'RV902C', 'FK710J', 'invited & no', '2025-10-22 09:21:27.820590', 55.0835066341509, 0, 24.975152901722737, 54.81014717765342, 'Dubai', 'outdoor', 38, 'literature,fitness,art', '2023-09-01 19:43:03.044884', 23, 'Clear', 34.6, 0.0], ['PA960E', 'Open-architected coherent initiative Immersive Experiences in Dubai', 'Immersive Experiences', 25.192263822907588, 55.442867493528034, 'Dubai', '2025-06-03 19:51:27.977049', 360, 'Clear', 34.7, 0.0, 7.844354083146755, True, 'ZN686R', 'JC687N', 'maybe', '2025-06-01 02:34:11.314485', 29.135681819463382, 1, 25.189890391259453, 55.73191914871551, 'Dubai', 'indoor', 37, 'art,fitness,travel,tech', '2023-12-19 18:33:44.903951', 11, 'Cloudy', 31.7, 0.01], ['VF065U', 'Down-sized multi-tasking projection Sports & Fitness in Dubai', 'Sports & Fitness', 25.298667508525583, 55.55393838235416, 'Dubai', '2025-10-04 10:42:28.123111', 360, 'Clear', 35.5, 0.0, 7.480084047385197, False, 'IT324S', 'JC687N', 'invited & yes', '2025-09-11 03:09:42.639739', 21.60415236981538, 1, 25.189890391259453, 55.73191914871551, 'Dubai', 'indoor', 37, 'art,fitness,travel,tech', '2023-12-19 18:33:44.903951', 11, 'Cloudy', 31.7, 0.01], ['PA960E', 'Open-architected coherent initiative Immersive Experiences in Dubai', 'Immersive Experiences', 25.192263822907588, 55.442867493528034, 'Dubai', '2025-06-03 19:51:27.977049', 360, 'Clear', 34.7, 0.0, 7.844354083146755, True, 'CQ655A', 'XK522J', 'maybe', '2025-05-30 13:37:25.487954', 55.2466384993107, 1, 24.747575437915373, 55.69059809962475, 'Dubai', 'any', 38, 'tech,music,art', '2023-12-12 00:37:29.414179', 14, 'Rain', 31.6, 6.13], ['PA960E', 'Open-architected coherent initiative Immersive Experiences in Dubai', 'Immersive Experiences', 25.192263822907588, 55.442867493528034, 'Dubai', '2025-06-03 19:51:27.977049', 360, 'Clear', 34.7, 0.0, 7.844354083146755, True, 'YQ753Z', 'KL139K', 'maybe', '2025-05-07 18:19:08.616445', 40.00270323298878, 1, 25.279551764677244, 55.05761698648696, 'Dubai', 'outdoor', 35, 'travel,art', '2024-12-11 11:54:47.722615', 15, 'Clear', 37.0, 0.0], ['TO649I', 'Diverse contextually-based architecture Sports & Fitness in Dubai', 'Sports & Fitness', 25.70335722425577, 55.45476031632828, 'Dubai', '2025-09-28 10:34:30.639201', 120, 'Rain', 30.1, 15.89, 8.695867184973336, False, 'YZ987X', 'KL139K', 'invited & yes', '2025-09-03 02:32:48.298781', 61.633457359507965, 1, 25.279551764677244, 55.05761698648696, 'Dubai', 'outdoor', 35, 'travel,art', '2024-12-11 11:54:47.722615', 15, 'Clear', 37.0, 0.0], ['PA960E', 'Open-architected coherent initiative Immersive Experiences in Dubai', 'Immersive Experiences', 25.192263822907588, 55.442867493528034, 'Dubai', '2025-06-03 19:51:27.977049', 360, 'Clear', 34.7, 0.0, 7.844354083146755, True, 'ZD011Y', 'YZ393F', 'no', '2025-05-12 13:20:39.334854', 56.42592149775483, 0, 25.66140015017642, 55.22441440907269, 'Dubai', 'indoor', 35, 'literature,cinema,tech,sports', '2023-07-04 18:23:03.878098', 19, 'Clear', 35.1, 0.0], ['PA960E', 'Open-architected coherent initiative Immersive Experiences in Dubai', 'Immersive Experiences', 25.192263822907588, 55.442867493528034, 'Dubai', '2025-06-03 19:51:27.977049', 360, 'Clear', 34.7, 0.0, 7.844354083146755, True, 'BP466O', 'EZ110N', 'invited & no', '2025-05-17 15:28:03.822798', 71.78421315441156, 0, 25.651196691624197, 54.93912281732679, 'Dubai', 'outdoor', 50, 'music,tech,cinema', '2024-09-12 05:53:22.453167', 11, 'Clear', 36.9, 0.0], ['PA960E', 'Open-architected coherent initiative Immersive Experiences in Dubai', 'Immersive Experiences', 25.192263822907588, 55.442867493528034, 'Dubai', '2025-06-03 19:51:27.977049', 360, 'Clear', 34.7, 0.0, 7.844354083146755, True, 'MU421I', 'DU681Q', 'invited & yes', '2025-05-11 16:43:10.509437', 59.97725814350937, 1, 25.66350435540653, 55.73641864312943, 'Dubai', 'indoor', 29, 'fitness,literature,travel', '2023-08-28 20:06:41.071343', 19, 'Clear', 35.5, 0.0], ['PA960E', 'Open-architected coherent initiative Immersive Experiences in Dubai', 'Immersive Experiences', 25.192263822907588, 55.442867493528034, 'Dubai', '2025-06-03 19:51:27.977049', 360, 'Clear', 34.7, 0.0, 7.844354083146755, True, 'OC325W', 'DU681Q', 'maybe', '2025-05-18 00:26:33.955712', 59.97725814350937, 1, 25.66350435540653, 55.73641864312943, 'Dubai', 'indoor', 29, 'fitness,literature,travel', '2023-08-28 20:06:41.071343', 19, 'Clear', 35.5, 0.0], ['PA960E', 'Open-architected coherent initiative Immersive Experiences in Dubai', 'Immersive Experiences', 25.192263822907588, 55.442867493528034, 'Dubai', '2025-06-03 19:51:27.977049', 360, 'Clear', 34.7, 0.0, 7.844354083146755, True, 'HG338E', 'XU047W', 'invited', '2025-05-10 10:45:37.975071', 9.519569398439211, 0, 25.129286239899518, 55.3786223925404, 'Dubai', 'outdoor', 56, 'literature,fitness,sports,art', '2024-09-13 10:27:27.443358', 11, 'Clear', 35.1, 0.0], ['PA960E', 'Open-architected coherent initiative Immersive Experiences in Dubai', 'Immersive Experiences', 25.192263822907588, 55.442867493528034, 'Dubai', '2025-06-03 19:51:27.977049', 360, 'Clear', 34.7, 0.0, 7.844354083146755, True, 'AD808X', 'XU047W', 'invited & maybe', '2025-06-03 10:19:37.486147', 9.519569398439211, 1, 25.129286239899518, 55.3786223925404, 'Dubai', 'outdoor', 56, 'literature,fitness,sports,art', '2024-09-13 10:27:27.443358', 11, 'Clear', 35.1, 0.0], ['PA960E', 'Open-architected coherent initiative Immersive Experiences in Dubai', 'Immersive Experiences', 25.192263822907588, 55.442867493528034, 'Dubai', '2025-06-03 19:51:27.977049', 360, 'Clear', 34.7, 0.0, 7.844354083146755, True, 'LO404N', 'UJ981Z', 'invited & maybe', '2025-05-28 07:54:11.525299', 7.903379899009256, 1, 25.17207619865236, 55.51806928047068, 'Dubai', 'outdoor', 38, 'art,food,tech,fitness', '2024-01-03 03:21:12.693389', 22, 'Clear', 35.8, 0.0], ['PA960E', 'Open-architected coherent initiative Immersive Experiences in Dubai', 'Immersive Experiences', 25.192263822907588, 55.442867493528034, 'Dubai', '2025-06-03 19:51:27.977049', 360, 'Clear', 34.7, 0.0, 7.844354083146755, True, 'FJ238V', 'LC651J', 'maybe', '2025-05-24 16:48:26.985577', 32.022506562467306, 1, 25.311514817890437, 55.73242254949241, 'Dubai', 'outdoor', 32, 'food,fashion', '2024-06-28 13:13:40.152094', 17, 'Clear', 36.6, 0.0], ['PA960E', 'Open-architected coherent initiative Immersive Experiences in Dubai', 'Immersive Experiences', 25.192263822907588, 55.442867493528034, 'Dubai', '2025-06-03 19:51:27.977049', 360, 'Clear', 34.7, 0.0, 7.844354083146755, True, 'AR269D', 'NA059X', 'yes', '2025-05-14 12:41:51.220767', 47.35523635692764, 1, 25.618995724753795, 55.47060653167658, 'Dubai', 'any', 39, 'fitness,tech', '2024-07-09 03:24:16.334000', 6, 'Clear', 34.5, 0.0], ['TO649I', 'Diverse contextually-based architecture Sports & Fitness in Dubai', 'Sports & Fitness', 25.70335722425577, 55.45476031632828, 'Dubai', '2025-09-28 10:34:30.639201', 120, 'Rain', 30.1, 15.89, 8.695867184973336, False, 'TF546B', 'NA059X', 'invited & maybe', '2025-09-24 04:18:53.398707', 9.480263180724505, 1, 25.618995724753795, 55.47060653167658, 'Dubai', 'any', 39, 'fitness,tech', '2024-07-09 03:24:16.334000', 6, 'Clear', 34.5, 0.0], ['PA960E', 'Open-architected coherent initiative Immersive Experiences in Dubai', 'Immersive Experiences', 25.192263822907588, 55.442867493528034, 'Dubai', '2025-06-03 19:51:27.977049', 360, 'Clear', 34.7, 0.0, 7.844354083146755, True, 'RT134L', 'TI103W', 'yes', '2025-06-02 11:39:21.264779', 75.58034477666224, 1, 25.619512512625352, 54.85721445925218, 'Dubai', 'outdoor', 52, 'literature,cinema,food,fitness', '2024-01-16 06:16:44.603709', 22, 'Clear', 36.2, 0.0], ['PA960E', 'Open-architected coherent initiative Immersive Experiences in Dubai', 'Immersive Experiences', 25.192263822907588, 55.442867493528034, 'Dubai', '2025-06-03 19:51:27.977049', 360, 'Clear', 34.7, 0.0, 7.844354083146755, True, 'ZC262R', 'NF538E', 'invited & maybe', '2025-05-22 15:24:19.758263', 40.35906369055448, 1, 25.47989386315389, 55.68891960192687, 'Dubai', 'indoor', 26, 'literature,fitness,sports,cinema', '2023-06-17 16:50:59.487086', 21, 'Clear', 34.7, 0.0], ['PA960E', 'Open-architected coherent initiative Immersive Experiences in Dubai', 'Immersive Experiences', 25.192263822907588, 55.442867493528034, 'Dubai', '2025-06-03 19:51:27.977049', 360, 'Clear', 34.7, 0.0, 7.844354083146755, True, 'PI905U', 'OC141Y', 'invited & yes', '2025-05-24 14:41:55.300845', 46.86884385004984, 1, 24.83379099546214, 55.68952343726587, 'Dubai', 'any', 33, 'art,tech,travel,fitness', '2023-12-16 02:04:22.362187', 19, 'Cloudy', 31.0, 0.41], ['PA960E', 'Open-architected coherent initiative Immersive Experiences in Dubai', 'Immersive Experiences', 25.192263822907588, 55.442867493528034, 'Dubai', '2025-06-03 19:51:27.977049', 360, 'Clear', 34.7, 0.0, 7.844354083146755, True, 'MO086O', 'KX417B', 'invited & maybe', '2025-05-05 15:34:34.089145', 24.49156127880535, 1, 25.08549903060576, 55.23017896673361, 'Dubai', 'outdoor', 28, 'art,food', '2024-11-04 08:23:31.108325', 20, 'Rain', 29.3, 14.85], ['PA960E', 'Open-architected coherent initiative Immersive Experiences in Dubai', 'Immersive Experiences', 25.192263822907588, 55.442867493528034, 'Dubai', '2025-06-03 19:51:27.977049', 360, 'Clear', 34.7, 0.0, 7.844354083146755, True, 'LO709J', 'VU086U', 'yes', '2025-05-08 15:41:54.619369', 12.525454729232472, 1, 25.287088251424027, 55.37515272172933, 'Dubai', 'outdoor', 28, 'cinema,food', '2023-08-30 00:25:22.369008', 20, 'Clear', 34.2, 0.0], ['PA960E', 'Open-architected coherent initiative Immersive Experiences in Dubai', 'Immersive Experiences', 25.192263822907588, 55.442867493528034, 'Dubai', '2025-06-03 19:51:27.977049', 360, 'Clear', 34.7, 0.0, 7.844354083146755, True, 'RG203U', 'KU325O', 'no', '2025-05-06 16:45:30.095417', 48.01348486118415, 0, 25.40990149042325, 55.030549270967526, 'Dubai', 'indoor', 30, 'food,sports', '2024-06-04 18:13:41.906161', 14, 'Clear', 34.8, 0.0], ['VF065U', 'Down-sized multi-tasking projection Sports & Fitness in Dubai', 'Sports & Fitness', 25.298667508525583, 55.55393838235416, 'Dubai', '2025-10-04 10:42:28.123111', 360, 'Clear', 35.5, 0.0, 7.480084047385197, False, 'AO846K', 'KU325O', 'invited', '2025-09-12 19:00:53.738532', 54.10547452778649, 0, 25.40990149042325, 55.030549270967526, 'Dubai', 'indoor', 30, 'food,sports', '2024-06-04 18:13:41.906161', 14, 'Clear', 34.8, 0.0], ['PA960E', 'Open-architected coherent initiative Immersive Experiences in Dubai', 'Immersive Experiences', 25.192263822907588, 55.442867493528034, 'Dubai', '2025-06-03 19:51:27.977049', 360, 'Clear', 34.7, 0.0, 7.844354083146755, True, 'VZ440E', 'RT271L', 'maybe', '2025-05-05 20:54:50.723893', 68.91241723926647, 1, 25.47579181002454, 54.8335956620362, 'Dubai', 'outdoor', 30, 'literature,sports,art', '2024-05-23 13:23:24.535949', 17, 'Snow', 28.8, 1.51], ['PA960E', 'Open-architected coherent initiative Immersive Experiences in Dubai', 'Immersive Experiences', 25.192263822907588, 55.442867493528034, 'Dubai', '2025-06-03 19:51:27.977049', 360, 'Clear', 34.7, 0.0, 7.844354083146755, True, 'TG767Q', 'SW724T', 'yes', '2025-05-12 05:19:39.081788', 45.07377202368321, 1, 25.486661318478983, 55.75192996309082, 'Dubai', 'outdoor', 46, 'fitness,food,art,music', '2024-05-29 04:01:29.161751', 10, 'Rain', 31.4, 18.17], ['YL323F', 'Distributed interactive architecture Arts & Culture in Dubai', 'Arts & Culture', 24.73333260410337, 54.98840298498484, 'Dubai', '2025-09-08 13:59:05.242018', 360, 'Clear', 36.5, 0.0, 67.48365645583725, True, 'RP179Y', 'SW724T', 'invited & no', '2025-09-04 14:49:24.423711', 113.55230289856772, 0, 25.486661318478983, 55.75192996309082, 'Dubai', 'outdoor', 46, 'fitness,food,art,music', '2024-05-29 04:01:29.161751', 10, 'Rain', 31.4, 18.17], ['PA960E', 'Open-architected coherent initiative Immersive Experiences in Dubai', 'Immersive Experiences', 25.192263822907588, 55.442867493528034, 'Dubai', '2025-06-03 19:51:27.977049', 360, 'Clear', 34.7, 0.0, 7.844354083146755, True, 'OL569M', 'EH016H', 'invited & maybe', '2025-05-13 23:40:41.387531', 69.40299994885069, 1, 24.92411107023081, 54.82122579483118, 'Dubai', 'any', 54, 'literature,tech', '2023-12-05 16:48:42.106153', 17, 'Cloudy', 32.6, 0.19], ['PA960E', 'Open-architected coherent initiative Immersive Experiences in Dubai', 'Immersive Experiences', 25.192263822907588, 55.442867493528034, 'Dubai', '2025-06-03 19:51:27.977049', 360, 'Clear', 34.7, 0.0, 7.844354083146755, True, 'SD671W', 'IK759G', 'invited & yes', '2025-05-11 13:06:56.352726', 44.23408457033244, 1, 25.462935584792408, 55.11985994763721, 'Dubai', 'indoor', 35, 'tech,fashion', '2023-06-06 03:24:28.031308', 17, 'Clear', 34.3, 0.0], ['PA960E', 'Open-architected coherent initiative Immersive Experiences in Dubai', 'Immersive Experiences', 25.192263822907588, 55.442867493528034, 'Dubai', '2025-06-03 19:51:27.977049', 360, 'Clear', 34.7, 0.0, 7.844354083146755, True, 'PO593G', 'JH494K', 'maybe', '2025-05-06 16:18:04.846428', 25.102628858335844, 1, 25.140983216974877, 55.6854087172296, 'Dubai', 'any', 27, 'sports,fitness,travel,art', '2024-11-12 14:20:25.207459', 11, 'Snow', 26.2, 7.81], ['PA960E', 'Open-architected coherent initiative Immersive Experiences in Dubai', 'Immersive Experiences', 25.192263822907588, 55.442867493528034, 'Dubai', '2025-06-03 19:51:27.977049', 360, 'Clear', 34.7, 0.0, 7.844354083146755, True, 'WL346R', 'VY487H', 'invited & no', '2025-05-18 10:23:14.106060', 16.59270518436171, 0, 25.283572973534607, 55.57341409801349, 'Dubai', 'indoor', 34, 'food,music', '2023-06-02 04:50:34.567273', 16, 'Rain', 31.0, 8.24], ['PA960E', 'Open-architected coherent initiative Immersive Experiences in Dubai', 'Immersive Experiences', 25.192263822907588, 55.442867493528034, 'Dubai', '2025-06-03 19:51:27.977049', 360, 'Clear', 34.7, 0.0, 7.844354083146755, True, 'JZ926I', 'TF374K', 'invited & no', '2025-05-17 05:51:16.173459', 42.31215989615171, 0, 24.951345965931782, 55.117423462161, 'Dubai', 'outdoor', 38, 'sports,fitness,tech,cinema', '2025-05-12 03:41:07.751045', 16, 'Rain', 31.2, 8.47], ['PA960E', 'Open-architected coherent initiative Immersive Experiences in Dubai', 'Immersive Experiences', 25.192263822907588, 55.442867493528034, 'Dubai', '2025-06-03 19:51:27.977049', 360, 'Clear', 34.7, 0.0, 7.844354083146755, True, 'HK232N', 'QF471I', 'yes', '2025-05-06 02:13:17.608964', 21.8820896094605, 1, 25.388630500155408, 55.46643739663477, 'Dubai', 'any', 32, 'art,cinema,travel,food', '2024-07-28 07:02:12.912429', 17, 'Windy', 32.1, 0.33], ['PA960E', 'Open-architected coherent initiative Immersive Experiences in Dubai', 'Immersive Experiences', 25.192263822907588, 55.442867493528034, 'Dubai', '2025-06-03 19:51:27.977049', 360, 'Clear', 34.7, 0.0, 7.844354083146755, True, 'XW807B', 'SY831Y', 'yes', '2025-05-07 23:09:23.449356', 73.49395179372901, 1, 25.54430252260245, 54.82393422921725, 'Dubai', 'any', 28, 'food,literature', '2025-01-02 07:39:10.994746', 13, 'Cloudy', 33.9, 0.08], ['PA960E', 'Open-architected coherent initiative Immersive Experiences in Dubai', 'Immersive Experiences', 25.192263822907588, 55.442867493528034, 'Dubai', '2025-06-03 19:51:27.977049', 360, 'Clear', 34.7, 0.0, 7.844354083146755, True, 'RK185L', 'IM820T', 'invited', '2025-05-15 21:16:56.193160', 54.53742050768386, 0, 24.78287540007728, 55.1427968348911, 'Dubai', 'outdoor', 43, 'sports,food,music', '2024-04-10 06:47:37.713838', 15, 'Clear', 36.5, 0.0], ['PA960E', 'Open-architected coherent initiative Immersive Experiences in Dubai', 'Immersive Experiences', 25.192263822907588, 55.442867493528034, 'Dubai', '2025-06-03 19:51:27.977049', 360, 'Clear', 34.7, 0.0, 7.844354083146755, True, 'IM422B', 'HS807G', 'yes', '2025-05-09 05:27:59.732847', 51.5154193230976, 1, 25.587213655973013, 55.1726118921447, 'Dubai', 'outdoor', 26, 'music,cinema,food', '2025-01-03 15:24:18.417074', 14, 'Cloudy', 33.5, 0.3], ['PA960E', 'Open-architected coherent initiative Immersive Experiences in Dubai', 'Immersive Experiences', 25.192263822907588, 55.442867493528034, 'Dubai', '2025-06-03 19:51:27.977049', 360, 'Clear', 34.7, 0.0, 7.844354083146755, True, 'NH862L', 'CJ409Z', 'yes', '2025-05-29 16:41:23.970013', 7.956760018474959, 1, 25.256327948051837, 55.407160881306176, 'Dubai', 'indoor', 21, 'literature,cinema,fashion', '2024-06-01 14:58:00.273998', 11, 'Rain', 31.9, 11.98], ['CR399H', 'Persevering optimizing parallelism Arts & Culture in Dubai', 'Arts & Culture', 25.01149985510624, 55.15555608846195, 'Dubai', '2025-08-21 18:43:43.855422', 240, 'Rain', 31.0, 5.44, 11.06974953142032, True, 'MG603Y', 'CJ409Z', 'invited & no', '2025-07-28 20:06:30.575023', 37.13853653402818, 0, 25.256327948051837, 55.407160881306176, 'Dubai', 'indoor', 21, 'literature,cinema,fashion', '2024-06-01 14:58:00.273998', 11, 'Rain', 31.9, 11.98], ['PA960E', 'Open-architected coherent initiative Immersive Experiences in Dubai', 'Immersive Experiences', 25.192263822907588, 55.442867493528034, 'Dubai', '2025-06-03 19:51:27.977049', 360, 'Clear', 34.7, 0.0, 7.844354083146755, True, 'PX998P', 'LO526N', 'no', '2025-05-30 21:00:19.209101', 23.57621598839131, 0, 25.10421526865962, 55.6557441014754, 'Dubai', 'outdoor', 49, 'tech,travel,cinema,sports', '2023-10-01 15:08:18.397538', 15, 'Clear', 35.6, 0.0], ['PA960E', 'Open-architected coherent initiative Immersive Experiences in Dubai', 'Immersive Experiences', 25.192263822907588, 55.442867493528034, 'Dubai', '2025-06-03 19:51:27.977049', 360, 'Clear', 34.7, 0.0, 7.844354083146755, True, 'AN268U', 'FS192E', 'maybe', '2025-05-15 02:12:44.929126', 53.76872179541565, 1, 24.801930760826867, 55.75946607537389, 'Dubai', 'any', 33, 'art,literature', '2024-08-18 01:55:41.391775', 19, 'Rain', 31.9, 18.08], ['PA960E', 'Open-architected coherent initiative Immersive Experiences in Dubai', 'Immersive Experiences', 25.192263822907588, 55.442867493528034, 'Dubai', '2025-06-03 19:51:27.977049', 360, 'Clear', 34.7, 0.0, 7.844354083146755, True, 'KI693R', 'RM336H', 'invited & no', '2025-05-08 09:57:52.946044', 17.781107355624698, 0, 25.342521711995225, 55.38078427969563, 'Dubai', 'any', 25, 'food,fitness,sports', '2023-08-22 01:19:35.071001', 16, 'Clear', 34.5, 0.0], ['PA960E', 'Open-architected coherent initiative Immersive Experiences in Dubai', 'Immersive Experiences', 25.192263822907588, 55.442867493528034, 'Dubai', '2025-06-03 19:51:27.977049', 360, 'Clear', 34.7, 0.0, 7.844354083146755, True, 'KS214J', 'CP275F', 'invited & no', '2025-05-07 15:22:50.992350', 42.76479346790846, 0, 24.9302869240884, 55.13155770311266, 'Dubai', 'indoor', 28, 'art,fitness,travel,food', '2024-04-05 23:06:59.593201', 8, 'Rain', 31.2, 3.42], ['PA960E', 'Open-architected coherent initiative Immersive Experiences in Dubai', 'Immersive Experiences', 25.192263822907588, 55.442867493528034, 'Dubai', '2025-06-03 19:51:27.977049', 360, 'Clear', 34.7, 0.0, 7.844354083146755, True, 'CC875L', 'CC979Y', 'invited & no', '2025-05-16 03:46:35.436459', 64.51939916113041, 0, 25.68674085536292, 55.10395767013122, 'Dubai', 'outdoor', 30, 'fitness,tech,cinema', '2023-09-08 08:12:20.609729', 16, 'Rain', 29.8, 7.92], ['PA960E', 'Open-architected coherent initiative Immersive Experiences in Dubai', 'Immersive Experiences', 25.192263822907588, 55.442867493528034, 'Dubai', '2025-06-03 19:51:27.977049', 360, 'Clear', 34.7, 0.0, 7.844354083146755, True, 'BS970N', 'FH922H', 'yes', '2025-05-13 13:48:55.134843', 58.345231023638185, 1, 25.31034254139697, 54.87846396208243, 'Dubai', 'outdoor', 29, 'fitness,tech,music,literature', '2025-01-18 02:31:44.788495', 11, 'Rain', 29.9, 9.52], ['PA960E', 'Open-architected coherent initiative Immersive Experiences in Dubai', 'Immersive Experiences', 25.192263822907588, 55.442867493528034, 'Dubai', '2025-06-03 19:51:27.977049', 360, 'Clear', 34.7, 0.0, 7.844354083146755, True, 'KK936H', 'PV647X', 'invited & maybe', '2025-05-12 01:23:53.129407', 47.63092630710037, 1, 24.78996763968456, 55.60944098584394, 'Dubai', 'outdoor', 34, 'cinema,tech', '2024-02-15 12:59:02.591048', 21, 'Clear', 34.3, 0.0], ['VF065U', 'Down-sized multi-tasking projection Sports & Fitness in Dubai', 'Sports & Fitness', 25.298667508525583, 55.55393838235416, 'Dubai', '2025-10-04 10:42:28.123111', 360, 'Clear', 35.5, 0.0, 7.480084047385197, False, 'ZD617J', 'PV647X', 'invited', '2025-09-23 12:34:44.351112', 56.62815978449376, 0, 24.78996763968456, 55.60944098584394, 'Dubai', 'outdoor', 34, 'cinema,tech', '2024-02-15 12:59:02.591048', 21, 'Clear', 34.3, 0.0], ['PA960E', 'Open-architected coherent initiative Immersive Experiences in Dubai', 'Immersive Experiences', 25.192263822907588, 55.442867493528034, 'Dubai', '2025-06-03 19:51:27.977049', 360, 'Clear', 34.7, 0.0, 7.844354083146755, True, 'EV199A', 'IB262J', 'invited & no', '2025-05-15 12:02:04.125861', 44.21770397014512, 0, 24.90860342790321, 55.1345648330747, 'Dubai', 'outdoor', 62, 'tech,fashion,cinema,literature', '2024-10-11 17:31:14.258926', 14, 'Clear', 35.9, 0.0], ['PA960E', 'Open-architected coherent initiative Immersive Experiences in Dubai', 'Immersive Experiences', 25.192263822907588, 55.442867493528034, 'Dubai', '2025-06-03 19:51:27.977049', 360, 'Clear', 34.7, 0.0, 7.844354083146755, True, 'CM310X', 'LI304N', 'invited & maybe', '2025-05-05 23:58:49.128226', 21.32412407111882, 1, 25.223056970745997, 55.65173409066133, 'Dubai', 'indoor', 35, 'tech,travel,fitness', '2024-12-25 00:06:05.023983', 24, 'Cloudy', 31.3, 0.09], ['PA960E', 'Open-architected coherent initiative Immersive Experiences in Dubai', 'Immersive Experiences', 25.192263822907588, 55.442867493528034, 'Dubai', '2025-06-03 19:51:27.977049', 360, 'Clear', 34.7, 0.0, 7.844354083146755, True, 'JI107F', 'WG482M', 'invited & yes', '2025-05-08 12:38:09.221420', 16.482295152361015, 1, 25.22694766064229, 55.28382283084849, 'Dubai', 'any', 27, 'fashion,literature', '2024-11-27 00:06:30.585932', 19, 'Cloudy', 33.3, 0.12], ['PA960E', 'Open-architected coherent initiative Immersive Experiences in Dubai', 'Immersive Experiences', 25.192263822907588, 55.442867493528034, 'Dubai', '2025-06-03 19:51:27.977049', 360, 'Clear', 34.7, 0.0, 7.844354083146755, True, 'PF977R', 'WW208A', 'no', '2025-05-14 18:13:32.612803', 56.7312858584545, 0, 25.634300690321208, 55.72758168002032, 'Dubai', 'outdoor', 65, 'sports,fashion,cinema', '2025-05-12 14:29:51.888058', 15, 'Cloudy', 33.6, 0.16], ['PA960E', 'Open-architected coherent initiative Immersive Experiences in Dubai', 'Immersive Experiences', 25.192263822907588, 55.442867493528034, 'Dubai', '2025-06-03 19:51:27.977049', 360, 'Clear', 34.7, 0.0, 7.844354083146755, True, 'BI528X', 'GQ423Z', 'no', '2025-05-12 07:01:28.411877', 57.20222819878092, 0, 25.682559513459964, 55.621262676002175, 'Dubai', 'outdoor', 29, 'cinema,literature,travel,fashion', '2024-08-20 05:54:37.503345', 15, 'Cloudy', 31.6, 0.2], ['PA960E', 'Open-architected coherent initiative Immersive Experiences in Dubai', 'Immersive Experiences', 25.192263822907588, 55.442867493528034, 'Dubai', '2025-06-03 19:51:27.977049', 360, 'Clear', 34.7, 0.0, 7.844354083146755, True, 'ZK611O', 'XB785S', 'maybe', '2025-06-03 12:46:44.810773', 58.736852520306286, 1, 25.0182589505178, 54.89277846168711, 'Dubai', 'outdoor', 55, 'food,tech,fashion', '2024-04-19 02:06:48.390629', 13, 'Clear', 34.9, 0.0], ['PA960E', 'Open-architected coherent initiative Immersive Experiences in Dubai', 'Immersive Experiences', 25.192263822907588, 55.442867493528034, 'Dubai', '2025-06-03 19:51:27.977049', 360, 'Clear', 34.7, 0.0, 7.844354083146755, True, 'YL012G', 'SE706S', 'invited & no', '2025-05-09 05:34:11.911460', 33.90329537489374, 0, 25.04358780824813, 55.14903288700653, 'Dubai', 'indoor', 39, 'music,art', '2025-03-06 14:58:27.830160', 13, 'Cloudy', 31.0, 0.31], ['PA960E', 'Open-architected coherent initiative Immersive Experiences in Dubai', 'Immersive Experiences', 25.192263822907588, 55.442867493528034, 'Dubai', '2025-06-03 19:51:27.977049', 360, 'Clear', 34.7, 0.0, 7.844354083146755, True, 'XK524N', 'CP818D', 'maybe', '2025-05-08 05:21:42.247531', 44.39699878303684, 1, 25.57047359686724, 55.29693205465027, 'Dubai', 'any', 25, 'sports,travel,fashion', '2025-03-29 01:45:32.449156', 13, 'Clear', 36.3, 0.0], ['PA960E', 'Open-architected coherent initiative Immersive Experiences in Dubai', 'Immersive Experiences', 25.192263822907588, 55.442867493528034, 'Dubai', '2025-06-03 19:51:27.977049', 360, 'Clear', 34.7, 0.0, 7.844354083146755, True, 'VO949X', 'FP588V', 'yes', '2025-05-25 05:01:55.601766', 63.46844846392494, 1, 25.366620291074323, 54.84261049143486, 'Dubai', 'outdoor', 42, 'cinema,music,literature,tech', '2025-05-21 21:47:05.380474', 17, 'Snow', 24.1, 5.07], ['PA960E', 'Open-architected coherent initiative Immersive Experiences in Dubai', 'Immersive Experiences', 25.192263822907588, 55.442867493528034, 'Dubai', '2025-06-03 19:51:27.977049', 360, 'Clear', 34.7, 0.0, 7.844354083146755, True, 'QC938O', 'RU655K', 'invited & maybe', '2025-05-05 13:56:43.011251', 40.54564777944537, 1, 25.165307449094087, 55.04173513723143, 'Dubai', 'outdoor', 44, 'sports,fashion,fitness', '2025-04-21 04:28:23.449355', 22, 'Clear', 35.0, 0.0], ['PA960E', 'Open-architected coherent initiative Immersive Experiences in Dubai', 'Immersive Experiences', 25.192263822907588, 55.442867493528034, 'Dubai', '2025-06-03 19:51:27.977049', 360, 'Clear', 34.7, 0.0, 7.844354083146755, True, 'AF549O', 'KZ039W', 'invited & maybe', '2025-05-22 12:12:23.606076', 50.71824236177298, 1, 25.404589455346905, 54.99666713684548, 'Dubai', 'outdoor', 27, 'sports,fashion,cinema', '2025-02-08 17:32:51.950914', 19, 'Snow', 28.3, 6.29], ['PA960E', 'Open-architected coherent initiative Immersive Experiences in Dubai', 'Immersive Experiences', 25.192263822907588, 55.442867493528034, 'Dubai', '2025-06-03 19:51:27.977049', 360, 'Clear', 34.7, 0.0, 7.844354083146755, True, 'TS136K', 'BV178O', 'invited & no', '2025-05-05 17:13:53.604089', 61.187045835499255, 0, 24.70870628306247, 55.73571757512495, 'Dubai', 'outdoor', 52, 'fitness,literature,travel', '2023-06-23 09:14:11.923608', 13, 'Rain', 30.2, 16.37], ['PA960E', 'Open-architected coherent initiative Immersive Experiences in Dubai', 'Immersive Experiences', 25.192263822907588, 55.442867493528034, 'Dubai', '2025-06-03 19:51:27.977049', 360, 'Clear', 34.7, 0.0, 7.844354083146755, True, 'PK967M', 'YW746V', 'invited & yes', '2025-05-25 05:41:30.526445', 55.3917738900884, 1, 25.183970561102694, 54.8933984675257, 'Dubai', 'any', 34, 'literature,food,art,fitness', '2024-09-27 02:40:29.753382', 10, 'Clear', 34.1, 0.0], ['PA960E', 'Open-architected coherent initiative Immersive Experiences in Dubai', 'Immersive Experiences', 25.192263822907588, 55.442867493528034, 'Dubai', '2025-06-03 19:51:27.977049', 360, 'Clear', 34.7, 0.0, 7.844354083146755, True, 'CO639H', 'IN895T', 'invited & yes', '2025-05-07 04:08:49.623657', 45.38518291241941, 1, 25.13193538972902, 54.99760151908701, 'Dubai', 'any', 32, 'sports,art', '2023-11-18 14:02:46.169116', 16, 'Rain', 31.4, 6.4], ['TW818N', 'Digitized scalable knowledge user Sports & Fitness in Dubai', 'Sports & Fitness', 24.891811474505943, 55.25749775782706, 'Dubai', '2025-07-24 19:20:59.598287', 120, 'Snow', 27.3, 7.88, 19.856769703819968, False, 'MW931X', 'IN895T', 'no', '2025-06-27 22:07:18.611027', 37.359644267753374, 0, 25.13193538972902, 54.99760151908701, 'Dubai', 'any', 32, 'sports,art', '2023-11-18 14:02:46.169116', 16, 'Rain', 31.4, 6.4], ['PA960E', 'Open-architected coherent initiative Immersive Experiences in Dubai', 'Immersive Experiences', 25.192263822907588, 55.442867493528034, 'Dubai', '2025-06-03 19:51:27.977049', 360, 'Clear', 34.7, 0.0, 7.844354083146755, True, 'HJ340R', 'YM548I', 'invited & no', '2025-05-25 09:41:51.135636', 52.40680312576213, 0, 25.43124284427493, 54.99369741776696, 'Dubai', 'any', 44, 'tech,food,travel,fitness', '2025-03-23 14:27:37.260364', 19, 'Clear', 35.2, 0.0], ['PA960E', 'Open-architected coherent initiative Immersive Experiences in Dubai', 'Immersive Experiences', 25.192263822907588, 55.442867493528034, 'Dubai', '2025-06-03 19:51:27.977049', 360, 'Clear', 34.7, 0.0, 7.844354083146755, True, 'DF268J', 'OZ964J', 'invited & yes', '2025-05-19 14:44:01.708903', 35.7523125567245, 1, 24.919755284773828, 55.63271976467995, 'Dubai', 'outdoor', 24, 'fitness,sports', '2025-02-26 10:48:11.882676', 20, 'Snow', 28.8, 3.9], ['TO649I', 'Diverse contextually-based architecture Sports & Fitness in Dubai', 'Sports & Fitness', 25.70335722425577, 55.45476031632828, 'Dubai', '2025-09-28 10:34:30.639201', 120, 'Rain', 30.1, 15.89, 8.695867184973336, False, 'JQ851B', 'TP425N', 'yes', '2025-09-04 04:22:35.967603', 67.88218025823167, 1, 25.108406523582207, 55.61628509037961, 'Dubai', 'outdoor', 28, 'tech,sports', '2024-03-29 08:00:14.116933', 12, 'Rain', 30.5, 6.43], ['TO649I', 'Diverse contextually-based architecture Sports & Fitness in Dubai', 'Sports & Fitness', 25.70335722425577, 55.45476031632828, 'Dubai', '2025-09-28 10:34:30.639201', 120, 'Rain', 30.1, 15.89, 8.695867184973336, False, 'GA954R', 'NG116C', 'no', '2025-09-15 16:24:09.571903', 92.07786009019796, 0, 24.995116771305767, 54.975979907549, 'Dubai', 'indoor', 35, 'music,fitness,tech,travel', '2024-08-16 04:48:24.752661', 12, 'Cloudy', 33.7, 0.38], ['TO649I', 'Diverse contextually-based architecture Sports & Fitness in Dubai', 'Sports & Fitness', 25.70335722425577, 55.45476031632828, 'Dubai', '2025-09-28 10:34:30.639201', 120, 'Rain', 30.1, 15.89, 8.695867184973336, False, 'MU200Y', 'KO240Y', 'yes', '2025-09-13 23:24:54.019441', 42.950326079433545, 1, 25.345730515245, 55.2897424147479, 'Dubai', 'indoor', 34, 'fashion,sports,literature,cinema', '2024-10-13 02:06:51.204243', 12, 'Clear', 35.4, 0.0], ['TW818N', 'Digitized scalable knowledge user Sports & Fitness in Dubai', 'Sports & Fitness', 24.891811474505943, 55.25749775782706, 'Dubai', '2025-07-24 19:20:59.598287', 120, 'Snow', 27.3, 7.88, 19.856769703819968, False, 'YL460Q', 'KO240Y', 'invited & yes', '2025-07-17 16:51:11.987674', 50.387775544904, 1, 25.345730515245, 55.2897424147479, 'Dubai', 'indoor', 34, 'fashion,sports,literature,cinema', '2024-10-13 02:06:51.204243', 12, 'Clear', 35.4, 0.0], ['TO649I', 'Diverse contextually-based architecture Sports & Fitness in Dubai', 'Sports & Fitness', 25.70335722425577, 55.45476031632828, 'Dubai', '2025-09-28 10:34:30.639201', 120, 'Rain', 30.1, 15.89, 8.695867184973336, False, 'BI192C', 'QT785Z', 'invited', '2025-09-22 08:31:28.753040', 34.14948885881753, 0, 25.427168864256554, 55.60570177784504, 'Dubai', 'outdoor', 56, 'sports,tech,travel,food', '2025-04-15 14:27:07.260442', 16, 'Rain', 31.2, 8.0], ['VF065U', 'Down-sized multi-tasking projection Sports & Fitness in Dubai', 'Sports & Fitness', 25.298667508525583, 55.55393838235416, 'Dubai', '2025-10-04 10:42:28.123111', 360, 'Clear', 35.5, 0.0, 7.480084047385197, False, 'NH116U', 'QT785Z', 'invited & yes', '2025-09-21 12:38:21.518059', 15.158649763578111, 1, 25.427168864256554, 55.60570177784504, 'Dubai', 'outdoor', 56, 'sports,tech,travel,food', '2025-04-15 14:27:07.260442', 16, 'Rain', 31.2, 8.0], ['TO649I', 'Diverse contextually-based architecture Sports & Fitness in Dubai', 'Sports & Fitness', 25.70335722425577, 55.45476031632828, 'Dubai', '2025-09-28 10:34:30.639201', 120, 'Rain', 30.1, 15.89, 8.695867184973336, False, 'EU683P', 'UZ455F', 'invited & yes', '2025-09-26 02:42:30.149148', 56.23229211944048, 1, 25.491717576868247, 54.94596872776757, 'Dubai', 'indoor', 34, 'literature,tech,food', '2023-07-19 16:42:20.094887', 16, 'Clear', 35.4, 0.0], ['TO649I', 'Diverse contextually-based architecture Sports & Fitness in Dubai', 'Sports & Fitness', 25.70335722425577, 55.45476031632828, 'Dubai', '2025-09-28 10:34:30.639201', 120, 'Rain', 30.1, 15.89, 8.695867184973336, False, 'SY269C', 'DX513R', 'invited & yes', '2025-08-29 13:59:31.904870', 48.66115271903242, 1, 25.2693687110176, 55.52950235935174, 'Dubai', 'outdoor', 28, 'fitness,music,art', '2024-08-27 00:10:18.661554', 13, 'Clear', 34.2, 0.0], ['TO649I', 'Diverse contextually-based architecture Sports & Fitness in Dubai', 'Sports & Fitness', 25.70335722425577, 55.45476031632828, 'Dubai', '2025-09-28 10:34:30.639201', 120, 'Rain', 30.1, 15.89, 8.695867184973336, False, 'EN208K', 'PP105X', 'yes', '2025-09-15 23:01:33.597407', 56.83673180658239, 1, 25.200282215192097, 55.34380880104385, 'Dubai', 'outdoor', 44, 'food,art,literature,sports', '2023-09-12 04:17:14.416034', 16, 'Clear', 35.4, 0.0], ['YL323F', 'Distributed interactive architecture Arts & Culture in Dubai', 'Arts & Culture', 24.73333260410337, 54.98840298498484, 'Dubai', '2025-09-08 13:59:05.242018', 360, 'Clear', 36.5, 0.0, 67.48365645583725, True, 'YK811Y', 'PP105X', 'invited & no', '2025-08-28 11:51:14.062580', 62.95566999448133, 0, 25.200282215192097, 55.34380880104385, 'Dubai', 'outdoor', 44, 'food,art,literature,sports', '2023-09-12 04:17:14.416034', 16, 'Clear', 35.4, 0.0], ['TO649I', 'Diverse contextually-based architecture Sports & Fitness in Dubai', 'Sports & Fitness', 25.70335722425577, 55.45476031632828, 'Dubai', '2025-09-28 10:34:30.639201', 120, 'Rain', 30.1, 15.89, 8.695867184973336, False, 'UB452P', 'CH480X', 'yes', '2025-09-10 02:55:21.996101', 48.80596274008309, 1, 25.265098614636774, 55.50437214611565, 'Dubai', 'any', 59, 'tech,literature,fashion,sports', '2023-09-18 22:39:20.942422', 7, 'Clear', 36.5, 0.0], ['TO649I', 'Diverse contextually-based architecture Sports & Fitness in Dubai', 'Sports & Fitness', 25.70335722425577, 55.45476031632828, 'Dubai', '2025-09-28 10:34:30.639201', 120, 'Rain', 30.1, 15.89, 8.695867184973336, False, 'QA848O', 'TK077S', 'invited & yes', '2025-09-23 10:09:03.698837', 70.54134102163667, 1, 25.1111124101562, 55.19718294559991, 'Dubai', 'outdoor', 25, 'literature,tech,cinema,fitness', '2023-06-05 02:15:30.144003', 17, 'Clear', 36.3, 0.0], ['TO649I', 'Diverse contextually-based architecture Sports & Fitness in Dubai', 'Sports & Fitness', 25.70335722425577, 55.45476031632828, 'Dubai', '2025-09-28 10:34:30.639201', 120, 'Rain', 30.1, 15.89, 8.695867184973336, False, 'DF602J', 'GE084W', 'invited & maybe', '2025-09-02 04:06:33.423326', 6.289022086518774, 1, 25.674722808415915, 55.40066214683284, 'Dubai', 'outdoor', 28, 'literature,food', '2024-03-27 17:25:33.669309', 19, 'Rain', 31.9, 8.82], ['CR399H', 'Persevering optimizing parallelism Arts & Culture in Dubai', 'Arts & Culture', 25.01149985510624, 55.15555608846195, 'Dubai', '2025-08-21 18:43:43.855422', 240, 'Rain', 31.0, 5.44, 11.06974953142032, True, 'YA926D', 'GE084W', 'maybe', '2025-07-28 22:52:02.677302', 77.50309412025942, 1, 25.674722808415915, 55.40066214683284, 'Dubai', 'outdoor', 28, 'literature,food', '2024-03-27 17:25:33.669309', 19, 'Rain', 31.9, 8.82], ['TO649I', 'Diverse contextually-based architecture Sports & Fitness in Dubai', 'Sports & Fitness', 25.70335722425577, 55.45476031632828, 'Dubai', '2025-09-28 10:34:30.639201', 120, 'Rain', 30.1, 15.89, 8.695867184973336, False, 'NY691C', 'ES046G', 'yes', '2025-09-28 07:40:48.670974', 67.09370866312608, 1, 25.09812826449882, 55.42977583979536, 'Dubai', 'outdoor', 33, 'food,fitness', '2023-09-01 10:56:46.305513', 12, 'Clear', 35.6, 0.0], ['TO649I', 'Diverse contextually-based architecture Sports & Fitness in Dubai', 'Sports & Fitness', 25.70335722425577, 55.45476031632828, 'Dubai', '2025-09-28 10:34:30.639201', 120, 'Rain', 30.1, 15.89, 8.695867184973336, False, 'YW291K', 'LP455M', 'yes', '2025-09-03 06:45:56.584885', 98.28147249494992, 1, 24.83819563312573, 55.23862580725959, 'Dubai', 'outdoor', 67, 'literature,cinema,music', '2025-03-20 03:46:16.411154', 17, 'Rain', 30.8, 19.87], ['TW818N', 'Digitized scalable knowledge user Sports & Fitness in Dubai', 'Sports & Fitness', 24.891811474505943, 55.25749775782706, 'Dubai', '2025-07-24 19:20:59.598287', 120, 'Snow', 27.3, 7.88, 19.856769703819968, False, 'RY602Q', 'LP455M', 'invited & yes', '2025-07-12 16:28:36.512571', 6.237789362198044, 1, 24.83819563312573, 55.23862580725959, 'Dubai', 'outdoor', 67, 'literature,cinema,music', '2025-03-20 03:46:16.411154', 17, 'Rain', 30.8, 19.87], ['TO649I', 'Diverse contextually-based architecture Sports & Fitness in Dubai', 'Sports & Fitness', 25.70335722425577, 55.45476031632828, 'Dubai', '2025-09-28 10:34:30.639201', 120, 'Rain', 30.1, 15.89, 8.695867184973336, False, 'JE445U', 'AG085E', 'invited & no', '2025-09-22 13:13:21.976624', 81.86483439248676, 0, 25.032447662187845, 55.11373766302766, 'Dubai', 'outdoor', 33, 'sports,cinema,literature,music', '2024-02-29 17:10:17.591180', 11, 'Clear', 34.7, 0.0], ['TO649I', 'Diverse contextually-based architecture Sports & Fitness in Dubai', 'Sports & Fitness', 25.70335722425577, 55.45476031632828, 'Dubai', '2025-09-28 10:34:30.639201', 120, 'Rain', 30.1, 15.89, 8.695867184973336, False, 'YI266Y', 'GN113R', 'invited & maybe', '2025-09-20 18:27:44.161797', 69.4876217409938, 1, 25.1804202194266, 55.07325388769384, 'Dubai', 'indoor', 28, 'literature,art,fitness,sports', '2025-03-11 15:32:06.809992', 16, 'Cloudy', 31.5, 0.38], ['TO649I', 'Diverse contextually-based architecture Sports & Fitness in Dubai', 'Sports & Fitness', 25.70335722425577, 55.45476031632828, 'Dubai', '2025-09-28 10:34:30.639201', 120, 'Rain', 30.1, 15.89, 8.695867184973336, False, 'SN983O', 'YJ377X', 'no', '2025-09-20 19:54:56.396764', 27.4979772848713, 0, 25.6933300542259, 55.18102332949961, 'Dubai', 'outdoor', 42, 'fashion,art,travel', '2024-12-25 22:45:11.156659', 8, 'Rain', 30.2, 2.58], ['TO649I', 'Diverse contextually-based architecture Sports & Fitness in Dubai', 'Sports & Fitness', 25.70335722425577, 55.45476031632828, 'Dubai', '2025-09-28 10:34:30.639201', 120, 'Rain', 30.1, 15.89, 8.695867184973336, False, 'TE399L', 'DG843U', 'yes', '2025-09-11 00:37:25.594012', 70.79786855306467, 1, 25.29170873342079, 54.916117282759046, 'Dubai', 'outdoor', 34, 'sports,food,travel,art', '2023-09-26 05:10:43.452485', 13, 'Rain', 30.1, 8.85], ['TO649I', 'Diverse contextually-based architecture Sports & Fitness in Dubai', 'Sports & Fitness', 25.70335722425577, 55.45476031632828, 'Dubai', '2025-09-28 10:34:30.639201', 120, 'Rain', 30.1, 15.89, 8.695867184973336, False, 'JA786U', 'TV675D', 'invited & yes', '2025-09-22 03:11:07.050348', 24.710246324507207, 1, 25.52743141444661, 55.60600000694111, 'Dubai', 'indoor', 26, 'food,cinema,fashion', '2023-12-31 11:44:59.751300', 15, 'Snow', 26.9, 2.21], ['TO649I', 'Diverse contextually-based architecture Sports & Fitness in Dubai', 'Sports & Fitness', 25.70335722425577, 55.45476031632828, 'Dubai', '2025-09-28 10:34:30.639201', 120, 'Rain', 30.1, 15.89, 8.695867184973336, False, 'XW192C', 'HL025B', 'yes', '2025-09-18 10:12:55.352272', 27.817521777931788, 1, 25.489329658749934, 55.30994642847228, 'Dubai', 'outdoor', 36, 'travel,fashion,literature,art', '2025-01-21 18:40:42.494133', 17, 'Rain', 30.8, 16.74], ['TO649I', 'Diverse contextually-based architecture Sports & Fitness in Dubai', 'Sports & Fitness', 25.70335722425577, 55.45476031632828, 'Dubai', '2025-09-28 10:34:30.639201', 120, 'Rain', 30.1, 15.89, 8.695867184973336, False, 'ZH418G', 'VV280A', 'yes', '2025-09-14 14:04:44.459659', 48.91439075751969, 1, 25.3431245491584, 55.73615607994394, 'Dubai', 'outdoor', 28, 'fashion,travel,literature,sports', '2024-06-12 12:12:06.328554', 12, 'Clear', 35.5, 0.0], ['TO649I', 'Diverse contextually-based architecture Sports & Fitness in Dubai', 'Sports & Fitness', 25.70335722425577, 55.45476031632828, 'Dubai', '2025-09-28 10:34:30.639201', 120, 'Rain', 30.1, 15.89, 8.695867184973336, False, 'OQ216M', 'OR734A', 'yes', '2025-09-12 21:23:36.424919', 46.855945225623074, 1, 25.288147161365448, 55.3659401791737, 'Dubai', 'indoor', 31, 'cinema,food,tech,fitness', '2023-09-24 09:33:27.036632', 12, 'Clear', 34.0, 0.0], ['TO649I', 'Diverse contextually-based architecture Sports & Fitness in Dubai', 'Sports & Fitness', 25.70335722425577, 55.45476031632828, 'Dubai', '2025-09-28 10:34:30.639201', 120, 'Rain', 30.1, 15.89, 8.695867184973336, False, 'BW344E', 'MX561S', 'invited & yes', '2025-09-25 13:51:15.156550', 20.68800928663862, 1, 25.649697014062895, 55.65214516706009, 'Dubai', 'any', 33, 'cinema,sports,tech,music', '2023-05-28 23:33:28.311418', 16, 'Clear', 34.5, 0.0], ['TO649I', 'Diverse contextually-based architecture Sports & Fitness in Dubai', 'Sports & Fitness', 25.70335722425577, 55.45476031632828, 'Dubai', '2025-09-28 10:34:30.639201', 120, 'Rain', 30.1, 15.89, 8.695867184973336, False, 'VM410R', 'ID251D', 'invited & yes', '2025-08-30 11:49:17.539826', 22.598194282029382, 1, 25.583641411222363, 55.27255009853912, 'Dubai', 'outdoor', 47, 'fitness,travel,art,literature', '2025-01-19 17:47:19.618013', 18, 'Cloudy', 32.0, 0.02], ['TO649I', 'Diverse contextually-based architecture Sports & Fitness in Dubai', 'Sports & Fitness', 25.70335722425577, 55.45476031632828, 'Dubai', '2025-09-28 10:34:30.639201', 120, 'Rain', 30.1, 15.89, 8.695867184973336, False, 'MQ426I', 'BQ102P', 'invited & yes', '2025-09-21 14:12:11.677243', 48.90825121469625, 1, 25.34087249299316, 55.73251170436956, 'Dubai', 'outdoor', 40, 'travel,tech,music,sports', '2024-01-14 00:41:34.083043', 12, 'Rain', 31.9, 6.62], ['TO649I', 'Diverse contextually-based architecture Sports & Fitness in Dubai', 'Sports & Fitness', 25.70335722425577, 55.45476031632828, 'Dubai', '2025-09-28 10:34:30.639201', 120, 'Rain', 30.1, 15.89, 8.695867184973336, False, 'WU141E', 'AO105U', 'invited & no', '2025-09-18 10:00:08.280632', 89.40442923111027, 0, 24.896666784200423, 55.42775440482487, 'Dubai', 'outdoor', 40, 'food,literature', '2023-09-25 04:35:45.696559', 11, 'Clear', 36.8, 0.0], ['OH995L', 'Profound multi-tasking ability Sports & Fitness in Dubai', 'Sports & Fitness', 25.247977588164904, 54.83435165845967, 'Dubai', '2025-05-30 19:46:29.592189', 480, 'Clear', 35.7, 0.0, 20.695765604360343, False, 'AZ150N', 'AO105U', 'yes', '2025-04-30 20:16:52.153073', 71.40538295560684, 1, 24.896666784200423, 55.42775440482487, 'Dubai', 'outdoor', 40, 'food,literature', '2023-09-25 04:35:45.696559', 11, 'Clear', 36.8, 0.0], ['TO649I', 'Diverse contextually-based architecture Sports & Fitness in Dubai', 'Sports & Fitness', 25.70335722425577, 55.45476031632828, 'Dubai', '2025-09-28 10:34:30.639201', 120, 'Rain', 30.1, 15.89, 8.695867184973336, False, 'ST478B', 'YD140H', 'yes', '2025-09-23 22:31:28.134711', 14.629904225366744, 1, 25.57129757734325, 55.45458104085676, 'Dubai', 'any', 54, 'food,travel', '2024-12-07 15:12:41.902692', 12, 'Clear', 34.7, 0.0], ['TO649I', 'Diverse contextually-based architecture Sports & Fitness in Dubai', 'Sports & Fitness', 25.70335722425577, 55.45476031632828, 'Dubai', '2025-09-28 10:34:30.639201', 120, 'Rain', 30.1, 15.89, 8.695867184973336, False, 'BY103V', 'PU718X', 'yes', '2025-09-14 17:42:08.965485', 87.15633417490618, 1, 24.964432681148097, 55.75204456250359, 'Dubai', 'outdoor', 31, 'cinema,travel,art', '2025-05-05 13:52:36.092153', 14, 'Clear', 35.8, 0.0], ['TO649I', 'Diverse contextually-based architecture Sports & Fitness in Dubai', 'Sports & Fitness', 25.70335722425577, 55.45476031632828, 'Dubai', '2025-09-28 10:34:30.639201', 120, 'Rain', 30.1, 15.89, 8.695867184973336, False, 'ZK795Z', 'XE362C', 'invited & no', '2025-09-09 13:49:53.114729', 89.97906700472537, 0, 24.91300462767247, 55.66084901319456, 'Dubai', 'outdoor', 31, 'food,art,fitness', '2024-12-20 04:21:42.912678', 9, 'Clear', 36.7, 0.0], ['TO649I', 'Diverse contextually-based architecture Sports & Fitness in Dubai', 'Sports & Fitness', 25.70335722425577, 55.45476031632828, 'Dubai', '2025-09-28 10:34:30.639201', 120, 'Rain', 30.1, 15.89, 8.695867184973336, False, 'XR161N', 'ML003R', 'invited', '2025-09-25 07:49:06.546865', 44.865888442493166, 0, 25.44369402031162, 55.1120854999952, 'Dubai', 'indoor', 40, 'travel,music', '2024-09-11 23:12:00.569266', 21, 'Clear', 36.4, 0.0], ['TO649I', 'Diverse contextually-based architecture Sports & Fitness in Dubai', 'Sports & Fitness', 25.70335722425577, 55.45476031632828, 'Dubai', '2025-09-28 10:34:30.639201', 120, 'Rain', 30.1, 15.89, 8.695867184973336, False, 'NF454Q', 'FI156L', 'no', '2025-09-18 00:03:05.427618', 113.12702505416505, 0, 24.72085474196857, 55.76094582421896, 'Dubai', 'indoor', 34, 'food,fashion,travel', '2024-12-04 21:49:45.233274', 11, 'Rain', 31.4, 4.83], ['TO649I', 'Diverse contextually-based architecture Sports & Fitness in Dubai', 'Sports & Fitness', 25.70335722425577, 55.45476031632828, 'Dubai', '2025-09-28 10:34:30.639201', 120, 'Rain', 30.1, 15.89, 8.695867184973336, False, 'HN066Q', 'FL660N', 'no', '2025-09-05 09:49:06.300031', 25.153132361149424, 0, 25.5935340415055, 55.235518396833335, 'Dubai', 'indoor', 30, 'fitness,travel', '2024-03-07 22:45:19.845775', 14, 'Clear', 34.4, 0.0], ['TO649I', 'Diverse contextually-based architecture Sports & Fitness in Dubai', 'Sports & Fitness', 25.70335722425577, 55.45476031632828, 'Dubai', '2025-09-28 10:34:30.639201', 120, 'Rain', 30.1, 15.89, 8.695867184973336, False, 'HC955A', 'HC291D', 'yes', '2025-09-18 07:51:04.615152', 24.551933062570697, 1, 25.68060586096593, 55.69806438758229, 'Dubai', 'any', 47, 'literature,music,fashion', '2023-11-04 13:06:18.149613', 11, 'Windy', 30.5, 0.41], ['TO649I', 'Diverse contextually-based architecture Sports & Fitness in Dubai', 'Sports & Fitness', 25.70335722425577, 55.45476031632828, 'Dubai', '2025-09-28 10:34:30.639201', 120, 'Rain', 30.1, 15.89, 8.695867184973336, False, 'FF535E', 'LS539I', 'maybe', '2025-09-21 11:22:29.191475', 92.73508286466097, 1, 24.87482186903504, 55.32314250720082, 'Dubai', 'outdoor', 30, 'music,travel', '2024-07-10 03:14:04.788552', 8, 'Clear', 35.6, 0.0], ['TO649I', 'Diverse contextually-based architecture Sports & Fitness in Dubai', 'Sports & Fitness', 25.70335722425577, 55.45476031632828, 'Dubai', '2025-09-28 10:34:30.639201', 120, 'Rain', 30.1, 15.89, 8.695867184973336, False, 'AH542P', 'YV276P', 'no', '2025-09-12 12:49:04.332604', 45.73052788129823, 0, 25.43685298215596, 55.10719342408261, 'Dubai', 'any', 34, 'fashion,travel,sports,food', '2025-02-15 15:49:10.468465', 24, 'Clear', 36.4, 0.0], ['TO649I', 'Diverse contextually-based architecture Sports & Fitness in Dubai', 'Sports & Fitness', 25.70335722425577, 55.45476031632828, 'Dubai', '2025-09-28 10:34:30.639201', 120, 'Rain', 30.1, 15.89, 8.695867184973336, False, 'UR720W', 'FZ030G', 'invited & yes', '2025-09-09 03:31:01.794074', 58.97469140948206, 1, 25.410648457352643, 54.96456428683593, 'Dubai', 'indoor', 47, 'fashion,cinema,food', '2024-09-20 12:52:59.714091', 20, 'Snow', 27.2, 1.32], ['OH995L', 'Profound multi-tasking ability Sports & Fitness in Dubai', 'Sports & Fitness', 25.247977588164904, 54.83435165845967, 'Dubai', '2025-05-30 19:46:29.592189', 480, 'Clear', 35.7, 0.0, 20.695765604360343, False, 'QG020B', 'TB401E', 'invited', '2025-05-25 06:54:45.498428', 21.18532336995616, 0, 25.241767258408256, 55.04451883542939, 'Dubai', 'outdoor', 26, 'art,tech,fitness,music', '2024-06-07 01:27:42.250414', 19, 'Clear', 36.8, 0.0], ['OH995L', 'Profound multi-tasking ability Sports & Fitness in Dubai', 'Sports & Fitness', 25.247977588164904, 54.83435165845967, 'Dubai', '2025-05-30 19:46:29.592189', 480, 'Clear', 35.7, 0.0, 20.695765604360343, False, 'YM272O', 'HZ183T', 'invited & no', '2025-05-16 11:45:07.529295', 40.90050899266012, 0, 25.219371095685457, 55.23905844786865, 'Dubai', 'outdoor', 35, 'art,sports,music,tech', '2025-01-26 19:38:03.538961', 16, 'Rain', 30.2, 4.35], ['OH995L', 'Profound multi-tasking ability Sports & Fitness in Dubai', 'Sports & Fitness', 25.247977588164904, 54.83435165845967, 'Dubai', '2025-05-30 19:46:29.592189', 480, 'Clear', 35.7, 0.0, 20.695765604360343, False, 'RN992B', 'YN333P', 'invited & no', '2025-05-02 23:05:07.849920', 69.60890944030567, 0, 24.83551038255627, 55.35473345536128, 'Dubai', 'indoor', 53, 'sports,art', '2024-03-01 13:14:48.483980', 10, 'Rain', 29.7, 2.55], ['OH995L', 'Profound multi-tasking ability Sports & Fitness in Dubai', 'Sports & Fitness', 25.247977588164904, 54.83435165845967, 'Dubai', '2025-05-30 19:46:29.592189', 480, 'Clear', 35.7, 0.0, 20.695765604360343, False, 'TM934O', 'MW179N', 'invited & no', '2025-05-05 05:39:28.162320', 66.42116523814218, 0, 25.112621496859468, 55.47626878506079, 'Dubai', 'outdoor', 36, 'cinema,food', '2024-06-18 10:40:26.662658', 14, 'Cloudy', 31.5, 0.47], ['OH995L', 'Profound multi-tasking ability Sports & Fitness in Dubai', 'Sports & Fitness', 25.247977588164904, 54.83435165845967, 'Dubai', '2025-05-30 19:46:29.592189', 480, 'Clear', 35.7, 0.0, 20.695765604360343, False, 'VT285X', 'EH669K', 'maybe', '2025-05-09 13:53:10.694052', 55.59608988874426, 1, 25.02995553726517, 55.33096254430818, 'Dubai', 'indoor', 45, 'cinema,sports', '2024-07-09 21:23:12.770488', 15, 'Rain', 30.2, 18.64], ['OH995L', 'Profound multi-tasking ability Sports & Fitness in Dubai', 'Sports & Fitness', 25.247977588164904, 54.83435165845967, 'Dubai', '2025-05-30 19:46:29.592189', 480, 'Clear', 35.7, 0.0, 20.695765604360343, False, 'CW620B', 'ET589Z', 'invited & maybe', '2025-05-14 23:06:15.658141', 12.815389831834786, 1, 25.156276601237348, 54.91187429764115, 'Dubai', 'indoor', 28, 'cinema,art,tech', '2024-06-06 12:44:37.496542', 19, 'Clear', 35.9, 0.0], ['OH995L', 'Profound multi-tasking ability Sports & Fitness in Dubai', 'Sports & Fitness', 25.247977588164904, 54.83435165845967, 'Dubai', '2025-05-30 19:46:29.592189', 480, 'Clear', 35.7, 0.0, 20.695765604360343, False, 'LU960W', 'AK770K', 'yes', '2025-05-16 10:16:57.822709', 42.72591998418197, 1, 25.258375314072836, 55.25830895152479, 'Dubai', 'outdoor', 24, 'cinema,music', '2023-08-14 21:09:28.507714', 12, 'Clear', 36.8, 0.0], ['OH995L', 'Profound multi-tasking ability Sports & Fitness in Dubai', 'Sports & Fitness', 25.247977588164904, 54.83435165845967, 'Dubai', '2025-05-30 19:46:29.592189', 480, 'Clear', 35.7, 0.0, 20.695765604360343, False, 'RS852N', 'OH541T', 'maybe', '2025-05-21 22:24:53.443450', 55.812717713342174, 1, 25.65071157915, 55.1677680983988, 'Dubai', 'any', 44, 'food,literature,art,travel', '2023-10-23 11:58:25.818164', 14, 'Rain', 31.7, 10.63], ['OH995L', 'Profound multi-tasking ability Sports & Fitness in Dubai', 'Sports & Fitness', 25.247977588164904, 54.83435165845967, 'Dubai', '2025-05-30 19:46:29.592189', 480, 'Clear', 35.7, 0.0, 20.695765604360343, False, 'PN077H', 'KM345P', 'no', '2025-05-12 03:51:02.314610', 78.91777842318447, 0, 24.771724022754444, 55.41580282015255, 'Dubai', 'outdoor', 29, 'travel,fashion,sports', '2024-07-08 09:57:59.809438', 20, 'Clear', 36.4, 0.0], ['OH995L', 'Profound multi-tasking ability Sports & Fitness in Dubai', 'Sports & Fitness', 25.247977588164904, 54.83435165845967, 'Dubai', '2025-05-30 19:46:29.592189', 480, 'Clear', 35.7, 0.0, 20.695765604360343, False, 'GI535U', 'KI853G', 'maybe', '2025-05-18 21:40:37.407678', 72.22407344513609, 1, 24.807665530287068, 55.36212613624135, 'Dubai', 'outdoor', 42, 'fitness,art', '2024-07-16 14:34:51.486792', 5, 'Clear', 35.4, 0.0], ['YL323F', 'Distributed interactive architecture Arts & Culture in Dubai', 'Arts & Culture', 24.73333260410337, 54.98840298498484, 'Dubai', '2025-09-08 13:59:05.242018', 360, 'Clear', 36.5, 0.0, 67.48365645583725, True, 'WY573X', 'KI853G', 'no', '2025-09-07 08:06:07.122927', 38.68359004721945, 0, 24.807665530287068, 55.36212613624135, 'Dubai', 'outdoor', 42, 'fitness,art', '2024-07-16 14:34:51.486792', 5, 'Clear', 35.4, 0.0], ['OH995L', 'Profound multi-tasking ability Sports & Fitness in Dubai', 'Sports & Fitness', 25.247977588164904, 54.83435165845967, 'Dubai', '2025-05-30 19:46:29.592189', 480, 'Clear', 35.7, 0.0, 20.695765604360343, False, 'CC705D', 'PM443H', 'yes', '2025-05-19 15:22:16.885718', 42.06025399037602, 1, 25.33787458474641, 55.24011641971239, 'Dubai', 'indoor', 29, 'literature,travel,art', '2023-08-17 10:16:40.398071', 21, 'Cloudy', 32.7, 0.03], ['OH995L', 'Profound multi-tasking ability Sports & Fitness in Dubai', 'Sports & Fitness', 25.247977588164904, 54.83435165845967, 'Dubai', '2025-05-30 19:46:29.592189', 480, 'Clear', 35.7, 0.0, 20.695765604360343, False, 'RC249Z', 'WX519F', 'maybe', '2025-05-21 05:00:18.422221', 74.31914491338195, 1, 25.356842476077382, 55.56258495329952, 'Dubai', 'any', 39, 'fitness,food,sports', '2025-05-04 00:05:10.578860', 14, 'Rain', 29.7, 16.67], ['OH995L', 'Profound multi-tasking ability Sports & Fitness in Dubai', 'Sports & Fitness', 25.247977588164904, 54.83435165845967, 'Dubai', '2025-05-30 19:46:29.592189', 480, 'Clear', 35.7, 0.0, 20.695765604360343, False, 'LL265C', 'UM832M', 'invited & no', '2025-05-19 00:30:34.867279', 78.54489138820426, 0, 25.50482577451513, 55.56179576649748, 'Dubai', 'indoor', 44, 'cinema,literature,sports', '2024-06-13 02:44:50.589965', 16, 'Clear', 34.5, 0.0], ['OH995L', 'Profound multi-tasking ability Sports & Fitness in Dubai', 'Sports & Fitness', 25.247977588164904, 54.83435165845967, 'Dubai', '2025-05-30 19:46:29.592189', 480, 'Clear', 35.7, 0.0, 20.695765604360343, False, 'QD660V', 'YD647U', 'invited & yes', '2025-05-26 03:36:37.733519', 44.16043799228506, 1, 25.233612025334903, 55.27237349314965, 'Dubai', 'outdoor', 52, 'cinema,food', '2025-03-10 18:51:32.611996', 19, 'Cloudy', 31.0, 0.2], ['OH995L', 'Profound multi-tasking ability Sports & Fitness in Dubai', 'Sports & Fitness', 25.247977588164904, 54.83435165845967, 'Dubai', '2025-05-30 19:46:29.592189', 480, 'Clear', 35.7, 0.0, 20.695765604360343, False, 'FF812I', 'OR871Z', 'invited & yes', '2025-05-24 13:54:47.726619', 71.34860544565396, 1, 25.347065204871654, 55.53440471315699, 'Dubai', 'outdoor', 34, 'fashion,art,music', '2023-10-16 16:11:10.696533', 13, 'Clear', 36.9, 0.0], ['OH995L', 'Profound multi-tasking ability Sports & Fitness in Dubai', 'Sports & Fitness', 25.247977588164904, 54.83435165845967, 'Dubai', '2025-05-30 19:46:29.592189', 480, 'Clear', 35.7, 0.0, 20.695765604360343, False, 'PQ053U', 'PC581C', 'yes', '2025-05-03 05:47:48.402407', 79.50610357907262, 1, 24.720921718720167, 55.36889383757652, 'Dubai', 'outdoor', 19, 'cinema,travel,food,art', '2024-10-21 09:02:16.278166', 23, 'Clear', 35.1, 0.0], ['OH995L', 'Profound multi-tasking ability Sports & Fitness in Dubai', 'Sports & Fitness', 25.247977588164904, 54.83435165845967, 'Dubai', '2025-05-30 19:46:29.592189', 480, 'Clear', 35.7, 0.0, 20.695765604360343, False, 'LK461A', 'UU761D', 'invited & no', '2025-05-19 09:02:16.242145', 67.04947755969434, 0, 25.431639366425404, 55.4689771764689, 'Dubai', 'outdoor', 34, 'fitness,art', '2023-11-29 14:07:02.777089', 13, 'Clear', 37.0, 0.0], ['VF065U', 'Down-sized multi-tasking projection Sports & Fitness in Dubai', 'Sports & Fitness', 25.298667508525583, 55.55393838235416, 'Dubai', '2025-10-04 10:42:28.123111', 360, 'Clear', 35.5, 0.0, 7.480084047385197, False, 'IU166A', 'UU761D', 'yes', '2025-09-23 14:39:56.053341', 17.032609413275996, 1, 25.431639366425404, 55.4689771764689, 'Dubai', 'outdoor', 34, 'fitness,art', '2023-11-29 14:07:02.777089', 13, 'Clear', 37.0, 0.0], ['OH995L', 'Profound multi-tasking ability Sports & Fitness in Dubai', 'Sports & Fitness', 25.247977588164904, 54.83435165845967, 'Dubai', '2025-05-30 19:46:29.592189', 480, 'Clear', 35.7, 0.0, 20.695765604360343, False, 'AU598P', 'PZ287E', 'invited & maybe', '2025-05-12 02:05:53.730772', 18.31553675168461, 1, 25.34371709377018, 54.98262737802296, 'Dubai', 'outdoor', 35, 'fitness,fashion,tech,food', '2023-08-18 18:07:22.257737', 20, 'Cloudy', 33.8, 0.4], ['VF065U', 'Down-sized multi-tasking projection Sports & Fitness in Dubai', 'Sports & Fitness', 25.298667508525583, 55.55393838235416, 'Dubai', '2025-10-04 10:42:28.123111', 360, 'Clear', 35.5, 0.0, 7.480084047385197, False, 'GS045G', 'PZ287E', 'yes', '2025-09-17 12:33:32.310142', 57.73908741783174, 1, 25.34371709377018, 54.98262737802296, 'Dubai', 'outdoor', 35, 'fitness,fashion,tech,food', '2023-08-18 18:07:22.257737', 20, 'Cloudy', 33.8, 0.4], ['OH995L', 'Profound multi-tasking ability Sports & Fitness in Dubai', 'Sports & Fitness', 25.247977588164904, 54.83435165845967, 'Dubai', '2025-05-30 19:46:29.592189', 480, 'Clear', 35.7, 0.0, 20.695765604360343, False, 'VM439S', 'VB257P', 'invited & no', '2025-05-15 21:27:02.273579', 32.8687338869204, 0, 25.306960988810097, 55.15416941205707, 'Dubai', 'outdoor', 36, 'music,sports,literature,tech', '2023-07-30 14:17:07.532114', 20, 'Cloudy', 33.4, 0.45], ['OH995L', 'Profound multi-tasking ability Sports & Fitness in Dubai', 'Sports & Fitness', 25.247977588164904, 54.83435165845967, 'Dubai', '2025-05-30 19:46:29.592189', 480, 'Clear', 35.7, 0.0, 20.695765604360343, False, 'OA269J', 'PZ957Z', 'invited & yes', '2025-05-07 07:35:46.590438', 66.0608968961562, 1, 25.645736092713317, 55.32368976787708, 'Dubai', 'any', 24, 'fitness,travel', '2023-10-23 00:08:59.067518', 9, 'Clear', 36.8, 0.0], ['OH995L', 'Profound multi-tasking ability Sports & Fitness in Dubai', 'Sports & Fitness', 25.247977588164904, 54.83435165845967, 'Dubai', '2025-05-30 19:46:29.592189', 480, 'Clear', 35.7, 0.0, 20.695765604360343, False, 'XP575E', 'QV891K', 'invited & yes', '2025-05-14 16:37:49.898702', 19.79189645315488, 1, 25.259417195023985, 55.03041013694291, 'Dubai', 'indoor', 36, 'food,fitness,tech,literature', '2024-01-22 19:19:56.788404', 18, 'Clear', 35.1, 0.0], ['OH995L', 'Profound multi-tasking ability Sports & Fitness in Dubai', 'Sports & Fitness', 25.247977588164904, 54.83435165845967, 'Dubai', '2025-05-30 19:46:29.592189', 480, 'Clear', 35.7, 0.0, 20.695765604360343, False, 'JH961R', 'AP585W', 'no', '2025-05-30 13:36:28.343604', 81.47329262873373, 0, 24.745168856825984, 55.42335854792587, 'Dubai', 'outdoor', 32, 'music,sports', '2025-03-14 20:36:26.251628', 15, 'Rain', 30.7, 2.16], ['OH995L', 'Profound multi-tasking ability Sports & Fitness in Dubai', 'Sports & Fitness', 25.247977588164904, 54.83435165845967, 'Dubai', '2025-05-30 19:46:29.592189', 480, 'Clear', 35.7, 0.0, 20.695765604360343, False, 'FL425S', 'NW908M', 'maybe', '2025-05-03 17:50:46.871405', 50.54167564038793, 1, 25.7023981673358, 54.87912744887459, 'Dubai', 'outdoor', 39, 'food,fitness,sports', '2024-01-22 06:15:21.519953', 9, 'Windy', 31.7, 0.12], ['OH995L', 'Profound multi-tasking ability Sports & Fitness in Dubai', 'Sports & Fitness', 25.247977588164904, 54.83435165845967, 'Dubai', '2025-05-30 19:46:29.592189', 480, 'Clear', 35.7, 0.0, 20.695765604360343, False, 'FP394L', 'NC337Q', 'invited & yes', '2025-05-08 02:37:33.590946', 54.06813515000604, 1, 25.15779723436097, 55.36159263668065, 'Dubai', 'outdoor', 34, 'tech,fitness,travel', '2023-12-12 22:52:03.882346', 16, 'Clear', 35.9, 0.0], ['OH995L', 'Profound multi-tasking ability Sports & Fitness in Dubai', 'Sports & Fitness', 25.247977588164904, 54.83435165845967, 'Dubai', '2025-05-30 19:46:29.592189', 480, 'Clear', 35.7, 0.0, 20.695765604360343, False, 'AC401B', 'WN199F', 'invited & yes', '2025-05-01 23:50:53.727211', 84.12566298815378, 1, 25.35793586258853, 55.66094885035625, 'Dubai', 'outdoor', 38, 'tech,sports', '2023-06-06 07:06:47.733449', 12, 'Clear', 34.5, 0.0], ['OH995L', 'Profound multi-tasking ability Sports & Fitness in Dubai', 'Sports & Fitness', 25.247977588164904, 54.83435165845967, 'Dubai', '2025-05-30 19:46:29.592189', 480, 'Clear', 35.7, 0.0, 20.695765604360343, False, 'KV575M', 'NC759J', 'yes', '2025-05-30 12:06:34.200572', 71.41288635825919, 1, 25.602198843539377, 55.42745202126319, 'Dubai', 'outdoor', 35, 'tech,fashion', '2025-05-08 09:26:08.198336', 10, 'Cloudy', 33.5, 0.12], ['OH995L', 'Profound multi-tasking ability Sports & Fitness in Dubai', 'Sports & Fitness', 25.247977588164904, 54.83435165845967, 'Dubai', '2025-05-30 19:46:29.592189', 480, 'Clear', 35.7, 0.0, 20.695765604360343, False, 'KP291C', 'UJ122N', 'invited & yes', '2025-05-06 11:07:11.607156', 60.32537787638112, 1, 25.67136089844481, 55.21158253704084, 'Dubai', 'indoor', 32, 'fitness,fashion,music', '2025-01-06 16:23:02.842066', 15, 'Clear', 35.0, 0.0], ['OH995L', 'Profound multi-tasking ability Sports & Fitness in Dubai', 'Sports & Fitness', 25.247977588164904, 54.83435165845967, 'Dubai', '2025-05-30 19:46:29.592189', 480, 'Clear', 35.7, 0.0, 20.695765604360343, False, 'FF305S', 'JT832B', 'yes', '2025-05-04 00:21:25.556503', 96.32847176835534, 1, 24.78107569637403, 55.63946502989359, 'Dubai', 'outdoor', 58, 'fitness,food', '2023-07-27 21:30:40.582559', 20, 'Clear', 35.2, 0.0], ['OH995L', 'Profound multi-tasking ability Sports & Fitness in Dubai', 'Sports & Fitness', 25.247977588164904, 54.83435165845967, 'Dubai', '2025-05-30 19:46:29.592189', 480, 'Clear', 35.7, 0.0, 20.695765604360343, False, 'QT705E', 'NO127M', 'invited & yes', '2025-05-24 03:59:02.767516', 58.80003156870652, 1, 25.66105604848704, 55.201482724526215, 'Dubai', 'any', 38, 'fitness,fashion', '2023-07-29 04:41:47.951478', 17, 'Clear', 35.9, 0.0], ['OH995L', 'Profound multi-tasking ability Sports & Fitness in Dubai', 'Sports & Fitness', 25.247977588164904, 54.83435165845967, 'Dubai', '2025-05-30 19:46:29.592189', 480, 'Clear', 35.7, 0.0, 20.695765604360343, False, 'VF470V', 'ZN631L', 'maybe', '2025-05-20 13:02:07.524272', 57.76366951629835, 1, 24.727181390825272, 54.80546564067152, 'Dubai', 'any', 51, 'literature,food,music,travel', '2024-07-09 02:11:16.268656', 19, 'Clear', 36.1, 0.0], ['OH995L', 'Profound multi-tasking ability Sports & Fitness in Dubai', 'Sports & Fitness', 25.247977588164904, 54.83435165845967, 'Dubai', '2025-05-30 19:46:29.592189', 480, 'Clear', 35.7, 0.0, 20.695765604360343, False, 'GU448N', 'UH291I', 'yes', '2025-05-01 12:47:31.741976', 40.15430923276931, 1, 24.88624258484539, 54.860006616050335, 'Dubai', 'outdoor', 39, 'fitness,fashion,cinema', '2024-04-19 01:58:35.481939', 14, 'Clear', 35.5, 0.0], ['OH995L', 'Profound multi-tasking ability Sports & Fitness in Dubai', 'Sports & Fitness', 25.247977588164904, 54.83435165845967, 'Dubai', '2025-05-30 19:46:29.592189', 480, 'Clear', 35.7, 0.0, 20.695765604360343, False, 'RH719S', 'DD841S', 'no', '2025-05-20 13:49:13.659377', 95.4569123456578, 0, 25.50691128675316, 55.73902152124006, 'Dubai', 'any', 36, 'food,sports', '2023-10-18 16:25:48.449715', 20, 'Cloudy', 33.4, 0.16], ['OH995L', 'Profound multi-tasking ability Sports & Fitness in Dubai', 'Sports & Fitness', 25.247977588164904, 54.83435165845967, 'Dubai', '2025-05-30 19:46:29.592189', 480, 'Clear', 35.7, 0.0, 20.695765604360343, False, 'GA653R', 'JD812N', 'yes', '2025-05-28 23:21:03.473692', 40.76283349661799, 1, 25.61592882529577, 54.8377465649524, 'Dubai', 'indoor', 42, 'art,fitness,travel,literature', '2023-10-04 18:21:32.112039', 16, 'Clear', 36.6, 0.0], ['OH995L', 'Profound multi-tasking ability Sports & Fitness in Dubai', 'Sports & Fitness', 25.247977588164904, 54.83435165845967, 'Dubai', '2025-05-30 19:46:29.592189', 480, 'Clear', 35.7, 0.0, 20.695765604360343, False, 'FH502G', 'PX155L', 'invited & maybe', '2025-05-13 21:34:02.468343', 83.9778819261889, 1, 25.38997386009927, 55.65363264875712, 'Dubai', 'any', 33, 'music,cinema,fitness', '2023-12-04 10:31:00.001596', 12, 'Windy', 31.8, 0.4], ['VF065U', 'Down-sized multi-tasking projection Sports & Fitness in Dubai', 'Sports & Fitness', 25.298667508525583, 55.55393838235416, 'Dubai', '2025-10-04 10:42:28.123111', 360, 'Clear', 35.5, 0.0, 7.480084047385197, False, 'XK173X', 'PX155L', 'maybe', '2025-09-05 21:31:01.834617', 14.24877250962161, 1, 25.38997386009927, 55.65363264875712, 'Dubai', 'any', 33, 'music,cinema,fitness', '2023-12-04 10:31:00.001596', 12, 'Windy', 31.8, 0.4], ['OH995L', 'Profound multi-tasking ability Sports & Fitness in Dubai', 'Sports & Fitness', 25.247977588164904, 54.83435165845967, 'Dubai', '2025-05-30 19:46:29.592189', 480, 'Clear', 35.7, 0.0, 20.695765604360343, False, 'ZG919Y', 'FY381D', 'yes', '2025-05-06 05:04:37.326353', 26.332955991611147, 1, 25.01679740343917, 54.77353960779499, 'Dubai', 'outdoor', 25, 'food,travel', '2024-08-23 18:00:04.117795', 13, 'Clear', 36.0, 0.0], ['OH995L', 'Profound multi-tasking ability Sports & Fitness in Dubai', 'Sports & Fitness', 25.247977588164904, 54.83435165845967, 'Dubai', '2025-05-30 19:46:29.592189', 480, 'Clear', 35.7, 0.0, 20.695765604360343, False, 'XR817Q', 'CP548A', 'maybe', '2025-05-27 20:04:49.149331', 11.408749678430834, 1, 25.15110482235792, 54.8727814372333, 'Dubai', 'outdoor', 34, 'cinema,literature,fashion', '2024-04-22 00:53:07.192026', 9, 'Cloudy', 31.9, 0.41], ['OH995L', 'Profound multi-tasking ability Sports & Fitness in Dubai', 'Sports & Fitness', 25.247977588164904, 54.83435165845967, 'Dubai', '2025-05-30 19:46:29.592189', 480, 'Clear', 35.7, 0.0, 20.695765604360343, False, 'HT864S', 'TB007C', 'invited & maybe', '2025-05-01 03:21:47.983072', 47.59410860455285, 1, 25.326418697729004, 55.29897522847979, 'Dubai', 'indoor', 28, 'literature,fashion,tech,music', '2024-04-09 17:15:49.072603', 16, 'Clear', 34.5, 0.0], ['OH995L', 'Profound multi-tasking ability Sports & Fitness in Dubai', 'Sports & Fitness', 25.247977588164904, 54.83435165845967, 'Dubai', '2025-05-30 19:46:29.592189', 480, 'Clear', 35.7, 0.0, 20.695765604360343, False, 'MY247Q', 'KD655D', 'invited & yes', '2025-05-14 02:18:45.557804', 39.71201659625054, 1, 25.20066129144521, 55.22500514815173, 'Dubai', 'outdoor', 28, 'music,tech,fashion,sports', '2023-06-27 20:44:50.236647', 21, 'Rain', 31.8, 5.14], ['OH995L', 'Profound multi-tasking ability Sports & Fitness in Dubai', 'Sports & Fitness', 25.247977588164904, 54.83435165845967, 'Dubai', '2025-05-30 19:46:29.592189', 480, 'Clear', 35.7, 0.0, 20.695765604360343, False, 'EC892C', 'PG311J', 'invited & no', '2025-05-27 11:36:20.695754', 83.60166780001926, 0, 25.03406914926649, 55.62945066834944, 'Dubai', 'any', 34, 'art,fitness', '2024-04-03 03:41:16.286076', 14, 'Cloudy', 33.4, 0.14], ['OH995L', 'Profound multi-tasking ability Sports & Fitness in Dubai', 'Sports & Fitness', 25.247977588164904, 54.83435165845967, 'Dubai', '2025-05-30 19:46:29.592189', 480, 'Clear', 35.7, 0.0, 20.695765604360343, False, 'WY974Q', 'FV030E', 'invited & no', '2025-05-03 17:16:02.824447', 48.10597432035288, 0, 24.826115298858827, 54.94749786192078, 'Dubai', 'any', 32, 'cinema,food,music', '2025-04-30 09:50:38.548658', 16, 'Rain', 30.6, 11.07], ['OH995L', 'Profound multi-tasking ability Sports & Fitness in Dubai', 'Sports & Fitness', 25.247977588164904, 54.83435165845967, 'Dubai', '2025-05-30 19:46:29.592189', 480, 'Clear', 35.7, 0.0, 20.695765604360343, False, 'TM651N', 'DV410B', 'no', '2025-05-09 14:04:09.402852', 95.58919974206738, 0, 25.062655937757786, 55.76032249077986, 'Dubai', 'any', 51, 'fitness,tech', '2024-11-06 14:34:27.835375', 15, 'Rain', 31.9, 12.17], ['OH995L', 'Profound multi-tasking ability Sports & Fitness in Dubai', 'Sports & Fitness', 25.247977588164904, 54.83435165845967, 'Dubai', '2025-05-30 19:46:29.592189', 480, 'Clear', 35.7, 0.0, 20.695765604360343, False, 'HH466O', 'PS187B', 'yes', '2025-05-03 22:19:57.496028', 26.488630650360378, 1, 25.080779801021933, 55.02218906812456, 'Dubai', 'indoor', 50, 'art,fashion,sports', '2023-10-12 00:42:07.076997', 13, 'Clear', 34.4, 0.0], ['OH995L', 'Profound multi-tasking ability Sports & Fitness in Dubai', 'Sports & Fitness', 25.247977588164904, 54.83435165845967, 'Dubai', '2025-05-30 19:46:29.592189', 480, 'Clear', 35.7, 0.0, 20.695765604360343, False, 'OM940W', 'VU678F', 'yes', '2025-05-02 09:00:08.009434', 20.19559513944153, 1, 25.199863758291773, 55.02766612998589, 'Dubai', 'outdoor', 42, 'literature,art,fitness', '2024-12-17 05:27:44.295836', 10, 'Rain', 30.4, 17.46], ['OH995L', 'Profound multi-tasking ability Sports & Fitness in Dubai', 'Sports & Fitness', 25.247977588164904, 54.83435165845967, 'Dubai', '2025-05-30 19:46:29.592189', 480, 'Clear', 35.7, 0.0, 20.695765604360343, False, 'SV412P', 'CP200N', 'yes', '2025-05-11 19:14:51.195366', 17.223030343590086, 1, 25.40274554072788, 54.85063266871267, 'Dubai', 'indoor', 41, 'cinema,music', '2023-08-02 14:45:10.433638', 18, 'Cloudy', 31.3, 0.45], ['OH995L', 'Profound multi-tasking ability Sports & Fitness in Dubai', 'Sports & Fitness', 25.247977588164904, 54.83435165845967, 'Dubai', '2025-05-30 19:46:29.592189', 480, 'Clear', 35.7, 0.0, 20.695765604360343, False, 'TL125R', 'XA910H', 'invited & yes', '2025-05-28 05:41:53.827501', 83.23627709167329, 1, 25.49632797449965, 55.61490882985058, 'Dubai', 'outdoor', 32, 'art,cinema,food', '2023-08-18 17:24:00.537160', 12, 'Rain', 30.5, 2.13], ['CR399H', 'Persevering optimizing parallelism Arts & Culture in Dubai', 'Arts & Culture', 25.01149985510624, 55.15555608846195, 'Dubai', '2025-08-21 18:43:43.855422', 240, 'Rain', 31.0, 5.44, 11.06974953142032, True, 'GC546Y', 'RX813E', 'no', '2025-08-14 06:50:26.701258', 90.393746039205, 0, 25.634586971367064, 55.73526182821789, 'Dubai', 'outdoor', 34, 'art,sports,cinema', '2023-06-24 14:53:32.094501', 18, 'Rain', 30.7, 4.02], ['CR399H', 'Persevering optimizing parallelism Arts & Culture in Dubai', 'Arts & Culture', 25.01149985510624, 55.15555608846195, 'Dubai', '2025-08-21 18:43:43.855422', 240, 'Rain', 31.0, 5.44, 11.06974953142032, True, 'BE129I', 'AP076O', 'yes', '2025-08-15 13:12:38.119298', 66.67123336723752, 1, 25.59221508819659, 54.98165062516848, 'Dubai', 'indoor', 31, 'literature,tech', '2023-09-05 12:24:29.878826', 15, 'Clear', 36.3, 0.0], ['CR399H', 'Persevering optimizing parallelism Arts & Culture in Dubai', 'Arts & Culture', 25.01149985510624, 55.15555608846195, 'Dubai', '2025-08-21 18:43:43.855422', 240, 'Rain', 31.0, 5.44, 11.06974953142032, True, 'BI279O', 'MO712I', 'no', '2025-08-16 21:19:58.098652', 54.86217995332584, 0, 25.396045949468288, 54.812519659293095, 'Dubai', 'indoor', 33, 'food,travel', '2023-09-01 15:38:07.189884', 13, 'Cloudy', 32.9, 0.38], ['CR399H', 'Persevering optimizing parallelism Arts & Culture in Dubai', 'Arts & Culture', 25.01149985510624, 55.15555608846195, 'Dubai', '2025-08-21 18:43:43.855422', 240, 'Rain', 31.0, 5.44, 11.06974953142032, True, 'MI696A', 'FN026P', 'no', '2025-07-31 04:55:08.650631', 70.95146314953395, 0, 25.64257160233113, 55.03518127240272, 'Dubai', 'outdoor', 46, 'travel,food', '2023-11-19 10:26:10.733000', 15, 'Rain', 31.6, 4.16], ['CR399H', 'Persevering optimizing parallelism Arts & Culture in Dubai', 'Arts & Culture', 25.01149985510624, 55.15555608846195, 'Dubai', '2025-08-21 18:43:43.855422', 240, 'Rain', 31.0, 5.44, 11.06974953142032, True, 'FR780T', 'HQ633B', 'invited & maybe', '2025-07-27 12:43:18.799563', 33.153929919483225, 1, 25.258324220427696, 54.96960671878856, 'Dubai', 'indoor', 32, 'tech,fitness,travel,fashion', '2023-12-28 17:20:21.765878', 6, 'Clear', 35.7, 0.0], ['CR399H', 'Persevering optimizing parallelism Arts & Culture in Dubai', 'Arts & Culture', 25.01149985510624, 55.15555608846195, 'Dubai', '2025-08-21 18:43:43.855422', 240, 'Rain', 31.0, 5.44, 11.06974953142032, True, 'IO825A', 'PP436B', 'invited & maybe', '2025-07-29 15:55:37.149865', 42.11458939657902, 1, 25.31261470899292, 55.41057354815355, 'Dubai', 'outdoor', 32, 'food,fitness,travel,tech', '2024-03-10 15:12:06.151081', 10, 'Snow', 27.1, 5.34], ['CR399H', 'Persevering optimizing parallelism Arts & Culture in Dubai', 'Arts & Culture', 25.01149985510624, 55.15555608846195, 'Dubai', '2025-08-21 18:43:43.855422', 240, 'Rain', 31.0, 5.44, 11.06974953142032, True, 'WN041Y', 'MD699I', 'invited & yes', '2025-07-25 05:35:43.086102', 32.76657718009639, 1, 24.85024402492363, 54.88359771838732, 'Dubai', 'indoor', 45, 'cinema,sports,tech,literature', '2024-01-19 20:30:58.348272', 16, 'Clear', 36.6, 0.0], ['CR399H', 'Persevering optimizing parallelism Arts & Culture in Dubai', 'Arts & Culture', 25.01149985510624, 55.15555608846195, 'Dubai', '2025-08-21 18:43:43.855422', 240, 'Rain', 31.0, 5.44, 11.06974953142032, True, 'DS705C', 'YN148U', 'yes', '2025-08-12 15:55:06.305925', 33.85167058784707, 1, 25.277893770203654, 55.32005211345399, 'Dubai', 'outdoor', 35, 'literature,travel,food', '2023-09-10 19:48:04.198016', 12, 'Clear', 36.8, 0.0], ['CR399H', 'Persevering optimizing parallelism Arts & Culture in Dubai', 'Arts & Culture', 25.01149985510624, 55.15555608846195, 'Dubai', '2025-08-21 18:43:43.855422', 240, 'Rain', 31.0, 5.44, 11.06974953142032, True, 'RC769A', 'NO835W', 'invited & yes', '2025-08-11 06:06:24.060520', 79.26716458414421, 1, 25.699715568029504, 54.93998047760881, 'Dubai', 'outdoor', 26, 'art,literature,food,travel', '2025-04-24 17:49:05.847207', 11, 'Clear', 36.3, 0.0], ['CR399H', 'Persevering optimizing parallelism Arts & Culture in Dubai', 'Arts & Culture', 25.01149985510624, 55.15555608846195, 'Dubai', '2025-08-21 18:43:43.855422', 240, 'Rain', 31.0, 5.44, 11.06974953142032, True, 'JL236T', 'TE162F', 'invited & yes', '2025-08-08 05:16:46.757218', 7.146553025462088, 1, 24.954911058112422, 55.1895493734832, 'Dubai', 'outdoor', 26, 'tech,literature', '2024-02-10 08:32:45.534992', 16, 'Clear', 35.6, 0.0], ['CR399H', 'Persevering optimizing parallelism Arts & Culture in Dubai', 'Arts & Culture', 25.01149985510624, 55.15555608846195, 'Dubai', '2025-08-21 18:43:43.855422', 240, 'Rain', 31.0, 5.44, 11.06974953142032, True, 'CL156L', 'UB952S', 'yes', '2025-08-04 19:47:32.545866', 31.31546104944517, 1, 25.29300866786304, 55.18396566586088, 'Dubai', 'outdoor', 32, 'literature,fitness', '2024-01-02 13:07:56.230865', 12, 'Rain', 31.4, 17.88], ['CR399H', 'Persevering optimizing parallelism Arts & Culture in Dubai', 'Arts & Culture', 25.01149985510624, 55.15555608846195, 'Dubai', '2025-08-21 18:43:43.855422', 240, 'Rain', 31.0, 5.44, 11.06974953142032, True, 'IT442B', 'MQ729S', 'no', '2025-08-07 01:40:30.669283', 78.17856859943356, 0, 25.636979581002866, 54.79594882187232, 'Dubai', 'any', 57, 'art,music', '2025-05-08 21:49:37.331530', 15, 'Snow', 26.7, 5.19], ['CR399H', 'Persevering optimizing parallelism Arts & Culture in Dubai', 'Arts & Culture', 25.01149985510624, 55.15555608846195, 'Dubai', '2025-08-21 18:43:43.855422', 240, 'Rain', 31.0, 5.44, 11.06974953142032, True, 'GV228H', 'WL528C', 'invited & maybe', '2025-07-31 00:21:46.618746', 36.796502987782354, 1, 25.192673193889625, 55.46132264017561, 'Dubai', 'outdoor', 55, 'cinema,sports,food', '2025-01-23 04:57:17.630853', 17, 'Rain', 30.4, 19.46], ['CR399H', 'Persevering optimizing parallelism Arts & Culture in Dubai', 'Arts & Culture', 25.01149985510624, 55.15555608846195, 'Dubai', '2025-08-21 18:43:43.855422', 240, 'Rain', 31.0, 5.44, 11.06974953142032, True, 'LZ081Y', 'RV330C', 'invited & maybe', '2025-08-07 20:03:13.235567', 66.72976416820687, 1, 25.569050872931285, 55.40637434069778, 'Dubai', 'indoor', 47, 'literature,sports', '2024-12-02 05:48:14.399531', 12, 'Clear', 35.0, 0.0], ['CR399H', 'Persevering optimizing parallelism Arts & Culture in Dubai', 'Arts & Culture', 25.01149985510624, 55.15555608846195, 'Dubai', '2025-08-21 18:43:43.855422', 240, 'Rain', 31.0, 5.44, 11.06974953142032, True, 'MU135X', 'ZN858Y', 'maybe', '2025-07-27 02:46:15.729119', 79.36683834901815, 1, 25.663678952045807, 55.48191529399318, 'Dubai', 'any', 42, 'fitness,literature,art,food', '2025-01-19 23:18:08.596404', 9, 'Clear', 35.9, 0.0], ['CR399H', 'Persevering optimizing parallelism Arts & Culture in Dubai', 'Arts & Culture', 25.01149985510624, 55.15555608846195, 'Dubai', '2025-08-21 18:43:43.855422', 240, 'Rain', 31.0, 5.44, 11.06974953142032, True, 'BL336E', 'DL358P', 'invited', '2025-08-12 06:59:00.464200', 36.281469214141225, 0, 25.29428400048724, 54.97400663167419, 'Dubai', 'outdoor', 59, 'travel,music,sports,fitness', '2023-06-18 15:02:52.926759', 15, 'Rain', 31.0, 7.74], ['CR399H', 'Persevering optimizing parallelism Arts & Culture in Dubai', 'Arts & Culture', 25.01149985510624, 55.15555608846195, 'Dubai', '2025-08-21 18:43:43.855422', 240, 'Rain', 31.0, 5.44, 11.06974953142032, True, 'IC340X', 'MV925V', 'yes', '2025-08-16 06:50:33.700183', 31.35532707371426, 1, 24.759186357512423, 55.29621731217617, 'Dubai', 'any', 40, 'literature,cinema,tech', '2023-11-23 06:51:11.936862', 14, 'Cloudy', 32.4, 0.33], ['CR399H', 'Persevering optimizing parallelism Arts & Culture in Dubai', 'Arts & Culture', 25.01149985510624, 55.15555608846195, 'Dubai', '2025-08-21 18:43:43.855422', 240, 'Rain', 31.0, 5.44, 11.06974953142032, True, 'YF114P', 'WZ855K', 'maybe', '2025-08-10 03:46:31.517867', 55.45062828359629, 1, 25.40654353952172, 55.4934720893248, 'Dubai', 'outdoor', 27, 'travel,food,sports,tech', '2023-07-07 07:47:54.892116', 12, 'Clear', 35.1, 0.0], ['CR399H', 'Persevering optimizing parallelism Arts & Culture in Dubai', 'Arts & Culture', 25.01149985510624, 55.15555608846195, 'Dubai', '2025-08-21 18:43:43.855422', 240, 'Rain', 31.0, 5.44, 11.06974953142032, True, 'OK783C', 'XF577N', 'yes', '2025-08-13 20:01:21.365599', 32.158116924330784, 1, 25.100518202276447, 55.45890251478707, 'Dubai', 'any', 46, 'art,literature', '2023-07-07 22:17:32.212765', 18, 'Clear', 35.8, 0.0], ['CR399H', 'Persevering optimizing parallelism Arts & Culture in Dubai', 'Arts & Culture', 25.01149985510624, 55.15555608846195, 'Dubai', '2025-08-21 18:43:43.855422', 240, 'Rain', 31.0, 5.44, 11.06974953142032, True, 'HN023B', 'HW198H', 'invited', '2025-08-11 14:13:15.253275', 61.95588117212795, 0, 24.77813939652176, 55.71284099571631, 'Dubai', 'indoor', 28, 'fitness,cinema,tech', '2024-02-28 03:23:16.099990', 16, 'Rain', 29.4, 17.83], ['CR399H', 'Persevering optimizing parallelism Arts & Culture in Dubai', 'Arts & Culture', 25.01149985510624, 55.15555608846195, 'Dubai', '2025-08-21 18:43:43.855422', 240, 'Rain', 31.0, 5.44, 11.06974953142032, True, 'AC221F', 'GY808P', 'no', '2025-07-26 04:11:53.314499', 57.281076334936685, 0, 25.47359843749484, 54.90042245486306, 'Dubai', 'outdoor', 38, 'literature,sports,music,tech', '2025-03-15 09:42:29.898556', 18, 'Cloudy', 33.0, 0.08], ['CR399H', 'Persevering optimizing parallelism Arts & Culture in Dubai', 'Arts & Culture', 25.01149985510624, 55.15555608846195, 'Dubai', '2025-08-21 18:43:43.855422', 240, 'Rain', 31.0, 5.44, 11.06974953142032, True, 'MN975M', 'WN054D', 'yes', '2025-08-09 22:38:42.594603', 12.21276933627291, 1, 24.939673668701595, 55.24732012911654, 'Dubai', 'outdoor', 50, 'art,music', '2024-12-03 03:11:19.867090', 11, 'Rain', 31.0, 5.87], ['CR399H', 'Persevering optimizing parallelism Arts & Culture in Dubai', 'Arts & Culture', 25.01149985510624, 55.15555608846195, 'Dubai', '2025-08-21 18:43:43.855422', 240, 'Rain', 31.0, 5.44, 11.06974953142032, True, 'XK317Q', 'IK696T', 'invited & no', '2025-08-21 17:47:15.685355', 56.1155622600864, 0, 25.386641353453687, 54.78140416987747, 'Dubai', 'any', 33, 'fitness,cinema,sports', '2024-08-15 16:03:00.039839', 14, 'Cloudy', 32.1, 0.38], ['CR399H', 'Persevering optimizing parallelism Arts & Culture in Dubai', 'Arts & Culture', 25.01149985510624, 55.15555608846195, 'Dubai', '2025-08-21 18:43:43.855422', 240, 'Rain', 31.0, 5.44, 11.06974953142032, True, 'VT196N', 'ZW519Y', 'invited & maybe', '2025-08-07 04:10:59.450233', 14.485398601139426, 1, 25.13648921669153, 55.1977564757181, 'Dubai', 'outdoor', 31, 'fashion,literature,sports,art', '2025-02-16 00:49:18.211392', 9, 'Cloudy', 31.9, 0.43], ['CR399H', 'Persevering optimizing parallelism Arts & Culture in Dubai', 'Arts & Culture', 25.01149985510624, 55.15555608846195, 'Dubai', '2025-08-21 18:43:43.855422', 240, 'Rain', 31.0, 5.44, 11.06974953142032, True, 'ST124T', 'NF302Z', 'invited & maybe', '2025-08-08 02:28:58.819654', 26.132027926804486, 1, 24.951054398002235, 55.40573754468996, 'Dubai', 'outdoor', 37, 'tech,sports', '2023-12-08 04:26:10.588101', 17, 'Rain', 31.4, 12.28], ['CR399H', 'Persevering optimizing parallelism Arts & Culture in Dubai', 'Arts & Culture', 25.01149985510624, 55.15555608846195, 'Dubai', '2025-08-21 18:43:43.855422', 240, 'Rain', 31.0, 5.44, 11.06974953142032, True, 'IY041W', 'WQ908E', 'yes', '2025-08-17 10:30:19.437862', 57.47374418719242, 1, 24.72842010309673, 55.632184110068735, 'Dubai', 'indoor', 27, 'art,fashion,cinema,literature', '2024-10-11 15:04:44.458582', 15, 'Clear', 36.6, 0.0], ['CR399H', 'Persevering optimizing parallelism Arts & Culture in Dubai', 'Arts & Culture', 25.01149985510624, 55.15555608846195, 'Dubai', '2025-08-21 18:43:43.855422', 240, 'Rain', 31.0, 5.44, 11.06974953142032, True, 'LW601W', 'YD400Z', 'invited & no', '2025-08-15 08:53:31.208540', 51.380685282328166, 0, 25.43247722931487, 55.36960252548244, 'Dubai', 'any', 25, 'literature,tech', '2024-04-10 04:36:35.091671', 18, 'Rain', 31.4, 4.79], ['CR399H', 'Persevering optimizing parallelism Arts & Culture in Dubai', 'Arts & Culture', 25.01149985510624, 55.15555608846195, 'Dubai', '2025-08-21 18:43:43.855422', 240, 'Rain', 31.0, 5.44, 11.06974953142032, True, 'RB164N', 'DR466F', 'yes', '2025-08-13 10:05:16.665487', 21.715352267840768, 1, 25.20219951772797, 55.20543041096632, 'Dubai', 'indoor', 43, 'travel,art,fashion,literature', '2024-11-13 11:34:41.601926', 19, 'Clear', 36.4, 0.0], ['CR399H', 'Persevering optimizing parallelism Arts & Culture in Dubai', 'Arts & Culture', 25.01149985510624, 55.15555608846195, 'Dubai', '2025-08-21 18:43:43.855422', 240, 'Rain', 31.0, 5.44, 11.06974953142032, True, 'UY540H', 'AO775M', 'yes', '2025-08-15 20:23:01.275754', 36.75977064441819, 1, 25.273659982543226, 54.93204889563106, 'Dubai', 'outdoor', 37, 'music,tech,sports,cinema', '2023-10-08 17:47:48.145590', 13, 'Clear', 34.7, 0.0], ['CR399H', 'Persevering optimizing parallelism Arts & Culture in Dubai', 'Arts & Culture', 25.01149985510624, 55.15555608846195, 'Dubai', '2025-08-21 18:43:43.855422', 240, 'Rain', 31.0, 5.44, 11.06974953142032, True, 'AH721U', 'JQ898L', 'no', '2025-08-12 14:18:37.871253', 7.507833802139955, 0, 24.985425265647887, 55.22420306481214, 'Dubai', 'any', 55, 'fitness,sports', '2024-06-23 20:14:59.387989', 17, 'Snow', 28.1, 4.79], ['CR399H', 'Persevering optimizing parallelism Arts & Culture in Dubai', 'Arts & Culture', 25.01149985510624, 55.15555608846195, 'Dubai', '2025-08-21 18:43:43.855422', 240, 'Rain', 31.0, 5.44, 11.06974953142032, True, 'JJ812N', 'NC711Y', 'invited & maybe', '2025-07-27 00:11:07.114398', 42.53104136342564, 1, 24.795019523112707, 54.807870329745086, 'Dubai', 'indoor', 30, 'art,tech,fashion,sports', '2024-08-28 20:17:11.536954', 21, 'Snow', 24.8, 3.45], ['CR399H', 'Persevering optimizing parallelism Arts & Culture in Dubai', 'Arts & Culture', 25.01149985510624, 55.15555608846195, 'Dubai', '2025-08-21 18:43:43.855422', 240, 'Rain', 31.0, 5.44, 11.06974953142032, True, 'MO640U', 'MH905F', 'yes', '2025-08-06 00:12:17.482025', 37.8635753870574, 1, 25.311309754536676, 55.33591777644539, 'Dubai', 'indoor', 41, 'literature,sports', '2024-01-11 16:55:45.197312', 15, 'Cloudy', 32.7, 0.5], ['CR399H', 'Persevering optimizing parallelism Arts & Culture in Dubai', 'Arts & Culture', 25.01149985510624, 55.15555608846195, 'Dubai', '2025-08-21 18:43:43.855422', 240, 'Rain', 31.0, 5.44, 11.06974953142032, True, 'EX109T', 'ZN101I', 'invited & maybe', '2025-08-02 17:02:40.266622', 32.56606693560375, 1, 25.065979502751027, 54.83844824913254, 'Dubai', 'indoor', 35, 'food,sports', '2024-03-28 15:32:41.679948', 12, 'Clear', 35.7, 0.0], ['CR399H', 'Persevering optimizing parallelism Arts & Culture in Dubai', 'Arts & Culture', 25.01149985510624, 55.15555608846195, 'Dubai', '2025-08-21 18:43:43.855422', 240, 'Rain', 31.0, 5.44, 11.06974953142032, True, 'ZO383O', 'WG289N', 'no', '2025-08-08 17:51:06.525798', 28.62614589806313, 0, 25.08882269817373, 54.88487000398173, 'Dubai', 'outdoor', 31, 'music,art,tech', '2025-02-03 03:08:54.835991', 17, 'Clear', 36.8, 0.0], ['CR399H', 'Persevering optimizing parallelism Arts & Culture in Dubai', 'Arts & Culture', 25.01149985510624, 55.15555608846195, 'Dubai', '2025-08-21 18:43:43.855422', 240, 'Rain', 31.0, 5.44, 11.06974953142032, True, 'JC898S', 'OO484H', 'maybe', '2025-08-19 05:01:01.139196', 51.87374907272113, 1, 24.825395759372583, 55.62678132779624, 'Dubai', 'indoor', 36, 'music,food,fitness,travel', '2023-11-26 01:14:17.193838', 10, 'Clear', 34.5, 0.0], ['CR399H', 'Persevering optimizing parallelism Arts & Culture in Dubai', 'Arts & Culture', 25.01149985510624, 55.15555608846195, 'Dubai', '2025-08-21 18:43:43.855422', 240, 'Rain', 31.0, 5.44, 11.06974953142032, True, 'UQ626A', 'PS717R', 'yes', '2025-08-21 01:27:19.297498', 77.47730188189033, 1, 25.683115486682976, 54.94080326673119, 'Dubai', 'any', 54, 'tech,cinema', '2024-02-18 20:47:06.787158', 15, 'Clear', 34.7, 0.0], ['CR399H', 'Persevering optimizing parallelism Arts & Culture in Dubai', 'Arts & Culture', 25.01149985510624, 55.15555608846195, 'Dubai', '2025-08-21 18:43:43.855422', 240, 'Rain', 31.0, 5.44, 11.06974953142032, True, 'CS773Y', 'KO422W', 'maybe', '2025-08-09 14:28:32.388384', 65.67953250869125, 1, 25.248429606421148, 55.75259650899269, 'Dubai', 'outdoor', 21, 'cinema,sports,literature', '2024-01-25 07:56:43.721358', 16, 'Clear', 36.7, 0.0], ['CR399H', 'Persevering optimizing parallelism Arts & Culture in Dubai', 'Arts & Culture', 25.01149985510624, 55.15555608846195, 'Dubai', '2025-08-21 18:43:43.855422', 240, 'Rain', 31.0, 5.44, 11.06974953142032, True, 'FD101K', 'JN897C', 'invited & yes', '2025-08-11 04:03:37.103928', 38.84216264215209, 1, 24.767077229732408, 54.87991694473125, 'Dubai', 'indoor', 40, 'travel,sports,music', '2023-07-29 06:24:17.998481', 17, 'Rain', 30.6, 11.67], ['VF065U', 'Down-sized multi-tasking projection Sports & Fitness in Dubai', 'Sports & Fitness', 25.298667508525583, 55.55393838235416, 'Dubai', '2025-10-04 10:42:28.123111', 360, 'Clear', 35.5, 0.0, 7.480084047385197, False, 'ME440S', 'JN897C', 'invited & yes', '2025-09-22 01:56:20.483035', 89.97123520191889, 1, 24.767077229732408, 54.87991694473125, 'Dubai', 'indoor', 40, 'travel,sports,music', '2023-07-29 06:24:17.998481', 17, 'Rain', 30.6, 11.67], ['CR399H', 'Persevering optimizing parallelism Arts & Culture in Dubai', 'Arts & Culture', 25.01149985510624, 55.15555608846195, 'Dubai', '2025-08-21 18:43:43.855422', 240, 'Rain', 31.0, 5.44, 11.06974953142032, True, 'AA154A', 'YU896C', 'invited & maybe', '2025-08-15 23:18:48.390424', 38.82643456517396, 1, 24.85612016565805, 54.81098560165173, 'Dubai', 'indoor', 51, 'food,literature,fashion', '2024-12-22 19:26:04.840425', 11, 'Clear', 35.2, 0.0], ['CR399H', 'Persevering optimizing parallelism Arts & Culture in Dubai', 'Arts & Culture', 25.01149985510624, 55.15555608846195, 'Dubai', '2025-08-21 18:43:43.855422', 240, 'Rain', 31.0, 5.44, 11.06974953142032, True, 'ZU508C', 'WP037V', 'no', '2025-07-31 21:59:20.106125', 17.347215832897717, 0, 25.04700288003096, 54.98815119650128, 'Dubai', 'indoor', 33, 'cinema,food,tech', '2024-03-09 03:33:16.783425', 15, 'Windy', 31.0, 0.38], ['CR399H', 'Persevering optimizing parallelism Arts & Culture in Dubai', 'Arts & Culture', 25.01149985510624, 55.15555608846195, 'Dubai', '2025-08-21 18:43:43.855422', 240, 'Rain', 31.0, 5.44, 11.06974953142032, True, 'WV491S', 'XJ974Z', 'yes', '2025-08-13 03:54:14.009510', 61.2194164311216, 1, 24.765824671274324, 55.69829007165141, 'Dubai', 'any', 29, 'sports,literature,travel,tech', '2023-08-07 02:57:13.165078', 19, 'Clear', 35.7, 0.0], ['CR399H', 'Persevering optimizing parallelism Arts & Culture in Dubai', 'Arts & Culture', 25.01149985510624, 55.15555608846195, 'Dubai', '2025-08-21 18:43:43.855422', 240, 'Rain', 31.0, 5.44, 11.06974953142032, True, 'PH398F', 'XJ974Z', 'yes', '2025-08-17 08:52:35.293058', 61.2194164311216, 1, 24.765824671274324, 55.69829007165141, 'Dubai', 'any', 29, 'sports,literature,travel,tech', '2023-08-07 02:57:13.165078', 19, 'Clear', 35.7, 0.0], ['CR399H', 'Persevering optimizing parallelism Arts & Culture in Dubai', 'Arts & Culture', 25.01149985510624, 55.15555608846195, 'Dubai', '2025-08-21 18:43:43.855422', 240, 'Rain', 31.0, 5.44, 11.06974953142032, True, 'QD462Z', 'FL356Q', 'invited', '2025-08-19 05:51:29.270026', 51.051735983391616, 0, 25.464134711063444, 55.25082266373394, 'Dubai', 'indoor', 27, 'fitness,travel,music', '2025-01-13 23:15:10.034819', 19, 'Windy', 32.6, 0.11], ['CR399H', 'Persevering optimizing parallelism Arts & Culture in Dubai', 'Arts & Culture', 25.01149985510624, 55.15555608846195, 'Dubai', '2025-08-21 18:43:43.855422', 240, 'Rain', 31.0, 5.44, 11.06974953142032, True, 'AF446R', 'FY853M', 'yes', '2025-08-02 20:35:45.257577', 39.63377170985218, 1, 25.184603138479837, 55.49942835476791, 'Dubai', 'outdoor', 45, 'cinema,art', '2025-02-22 15:53:48.635962', 13, 'Cloudy', 31.0, 0.17], ['YL323F', 'Distributed interactive architecture Arts & Culture in Dubai', 'Arts & Culture', 24.73333260410337, 54.98840298498484, 'Dubai', '2025-09-08 13:59:05.242018', 360, 'Clear', 36.5, 0.0, 67.48365645583725, True, 'AJ457H', 'FY853M', 'maybe', '2025-09-08 02:08:45.101949', 71.84633000893817, 1, 25.184603138479837, 55.49942835476791, 'Dubai', 'outdoor', 45, 'cinema,art', '2025-02-22 15:53:48.635962', 13, 'Cloudy', 31.0, 0.17], ['CR399H', 'Persevering optimizing parallelism Arts & Culture in Dubai', 'Arts & Culture', 25.01149985510624, 55.15555608846195, 'Dubai', '2025-08-21 18:43:43.855422', 240, 'Rain', 31.0, 5.44, 11.06974953142032, True, 'LW006M', 'FZ507D', 'invited & maybe', '2025-08-05 13:03:44.108980', 64.1431056432844, 1, 25.424011950428323, 55.60224175790017, 'Dubai', 'indoor', 48, 'fitness,literature,art', '2023-06-13 21:33:39.213032', 16, 'Clear', 34.2, 0.0], ['CR399H', 'Persevering optimizing parallelism Arts & Culture in Dubai', 'Arts & Culture', 25.01149985510624, 55.15555608846195, 'Dubai', '2025-08-21 18:43:43.855422', 240, 'Rain', 31.0, 5.44, 11.06974953142032, True, 'IA907C', 'QT399O', 'yes', '2025-07-23 20:58:26.052136', 37.086591654261085, 1, 25.325675397064103, 55.028458169249646, 'Dubai', 'any', 40, 'fashion,music,tech', '2024-08-16 21:28:03.709858', 21, 'Cloudy', 33.3, 0.17], ['CR399H', 'Persevering optimizing parallelism Arts & Culture in Dubai', 'Arts & Culture', 25.01149985510624, 55.15555608846195, 'Dubai', '2025-08-21 18:43:43.855422', 240, 'Rain', 31.0, 5.44, 11.06974953142032, True, 'HQ211X', 'RF778F', 'no', '2025-08-15 18:07:07.609978', 52.054493478368094, 0, 24.736135434203987, 55.57297614634636, 'Dubai', 'any', 34, 'sports,art', '2023-06-23 18:31:11.472420', 12, 'Rain', 29.2, 18.73], ['TW818N', 'Digitized scalable knowledge user Sports & Fitness in Dubai', 'Sports & Fitness', 24.891811474505943, 55.25749775782706, 'Dubai', '2025-07-24 19:20:59.598287', 120, 'Snow', 27.3, 7.88, 19.856769703819968, False, 'ZT713P', 'RF778F', 'invited & maybe', '2025-06-27 15:07:41.654864', 36.258468713073874, 1, 24.736135434203987, 55.57297614634636, 'Dubai', 'any', 34, 'sports,art', '2023-06-23 18:31:11.472420', 12, 'Rain', 29.2, 18.73], ['CR399H', 'Persevering optimizing parallelism Arts & Culture in Dubai', 'Arts & Culture', 25.01149985510624, 55.15555608846195, 'Dubai', '2025-08-21 18:43:43.855422', 240, 'Rain', 31.0, 5.44, 11.06974953142032, True, 'JX254E', 'MM897B', 'invited & maybe', '2025-08-09 20:21:24.594214', 73.50799408784557, 1, 25.668790950447956, 55.05541157409873, 'Dubai', 'any', 36, 'fashion,tech,fitness,sports', '2024-09-10 05:18:56.368920', 19, 'Cloudy', 31.9, 0.41], ['CR399H', 'Persevering optimizing parallelism Arts & Culture in Dubai', 'Arts & Culture', 25.01149985510624, 55.15555608846195, 'Dubai', '2025-08-21 18:43:43.855422', 240, 'Rain', 31.0, 5.44, 11.06974953142032, True, 'DR231J', 'TD771T', 'maybe', '2025-08-03 11:58:29.339443', 39.39104774878856, 1, 25.32888988104897, 54.97936120957411, 'Dubai', 'outdoor', 70, 'sports,fitness', '2024-01-29 02:31:28.822575', 14, 'Clear', 35.9, 0.0], ['CR399H', 'Persevering optimizing parallelism Arts & Culture in Dubai', 'Arts & Culture', 25.01149985510624, 55.15555608846195, 'Dubai', '2025-08-21 18:43:43.855422', 240, 'Rain', 31.0, 5.44, 11.06974953142032, True, 'NH522Z', 'RH472X', 'yes', '2025-07-31 12:59:01.645261', 38.83667582290705, 1, 25.321113341039563, 54.974827226379865, 'Dubai', 'indoor', 34, 'fitness,fashion,art', '2024-11-11 06:05:27.642871', 9, 'Clear', 34.7, 0.0], ['CR399H', 'Persevering optimizing parallelism Arts & Culture in Dubai', 'Arts & Culture', 25.01149985510624, 55.15555608846195, 'Dubai', '2025-08-21 18:43:43.855422', 240, 'Rain', 31.0, 5.44, 11.06974953142032, True, 'CI669Q', 'FZ029Y', 'maybe', '2025-08-07 01:31:32.672964', 45.46643952181622, 1, 25.416396985765285, 55.22942395256691, 'Dubai', 'outdoor', 36, 'food,art,fitness', '2024-09-27 13:14:36.186558', 11, 'Clear', 35.7, 0.0], ['TW818N', 'Digitized scalable knowledge user Sports & Fitness in Dubai', 'Sports & Fitness', 24.891811474505943, 55.25749775782706, 'Dubai', '2025-07-24 19:20:59.598287', 120, 'Snow', 27.3, 7.88, 19.856769703819968, False, 'BQ871T', 'SC310W', 'maybe', '2025-07-08 16:16:01.560087', 81.71894631517397, 1, 25.62910583906446, 55.23092767540611, 'Dubai', 'indoor', 48, 'fashion,tech,travel', '2024-02-15 23:39:25.127793', 18, 'Clear', 36.4, 0.0], ['TW818N', 'Digitized scalable knowledge user Sports & Fitness in Dubai', 'Sports & Fitness', 24.891811474505943, 55.25749775782706, 'Dubai', '2025-07-24 19:20:59.598287', 120, 'Snow', 27.3, 7.88, 19.856769703819968, False, 'JQ259G', 'MI347K', 'yes', '2025-07-19 00:01:47.832675', 80.21104530529911, 1, 25.572400766092013, 54.985757050473325, 'Dubai', 'any', 56, 'sports,cinema,fitness', '2024-03-24 17:07:39.149628', 10, 'Clear', 34.9, 0.0], ['VF065U', 'Down-sized multi-tasking projection Sports & Fitness in Dubai', 'Sports & Fitness', 25.298667508525583, 55.55393838235416, 'Dubai', '2025-10-04 10:42:28.123111', 360, 'Clear', 35.5, 0.0, 7.480084047385197, False, 'UP396T', 'MI347K', 'invited & no', '2025-09-05 02:57:04.629413', 64.70025179254202, 0, 25.572400766092013, 54.985757050473325, 'Dubai', 'any', 56, 'sports,cinema,fitness', '2024-03-24 17:07:39.149628', 10, 'Clear', 34.9, 0.0], ['TW818N', 'Digitized scalable knowledge user Sports & Fitness in Dubai', 'Sports & Fitness', 24.891811474505943, 55.25749775782706, 'Dubai', '2025-07-24 19:20:59.598287', 120, 'Snow', 27.3, 7.88, 19.856769703819968, False, 'GF877P', 'CE090A', 'invited & maybe', '2025-07-11 03:16:18.025918', 40.42124273921454, 1, 25.239278459995163, 55.37984223999347, 'Dubai', 'outdoor', 40, 'music,fashion,cinema,tech', '2023-11-30 08:02:54.064707', 23, 'Clear', 36.8, 0.0], ['TW818N', 'Digitized scalable knowledge user Sports & Fitness in Dubai', 'Sports & Fitness', 24.891811474505943, 55.25749775782706, 'Dubai', '2025-07-24 19:20:59.598287', 120, 'Snow', 27.3, 7.88, 19.856769703819968, False, 'VQ493X', 'XL760V', 'invited & maybe', '2025-07-20 09:19:07.773708', 89.54721069016436, 1, 25.667078060152463, 55.00572919302915, 'Dubai', 'indoor', 43, 'tech,sports', '2024-10-23 13:07:31.551107', 17, 'Clear', 35.0, 0.0], ['TW818N', 'Digitized scalable knowledge user Sports & Fitness in Dubai', 'Sports & Fitness', 24.891811474505943, 55.25749775782706, 'Dubai', '2025-07-24 19:20:59.598287', 120, 'Snow', 27.3, 7.88, 19.856769703819968, False, 'AA438B', 'RH868U', 'yes', '2025-07-18 14:41:13.603978', 76.3625671903934, 1, 25.575711282407, 55.16247202927289, 'Dubai', 'outdoor', 38, 'tech,art,literature,travel', '2024-04-29 06:12:33.442044', 19, 'Clear', 36.4, 0.0], ['TW818N', 'Digitized scalable knowledge user Sports & Fitness in Dubai', 'Sports & Fitness', 24.891811474505943, 55.25749775782706, 'Dubai', '2025-07-24 19:20:59.598287', 120, 'Snow', 27.3, 7.88, 19.856769703819968, False, 'NC323I', 'JM820Y', 'invited & yes', '2025-07-22 00:20:13.433148', 70.57599557441559, 1, 25.456939254170283, 54.93423325942002, 'Dubai', 'outdoor', 35, 'tech,fashion,music', '2024-05-15 22:52:59.845667', 20, 'Clear', 35.1, 0.0], ['TW818N', 'Digitized scalable knowledge user Sports & Fitness in Dubai', 'Sports & Fitness', 24.891811474505943, 55.25749775782706, 'Dubai', '2025-07-24 19:20:59.598287', 120, 'Snow', 27.3, 7.88, 19.856769703819968, False, 'EC360R', 'XH526V', 'invited & maybe', '2025-07-02 01:49:24.401164', 22.28690209019299, 1, 24.83628911989798, 55.04553152551952, 'Dubai', 'outdoor', 50, 'tech,art', '2023-11-29 07:10:48.769573', 14, 'Windy', 30.8, 0.3], ['TW818N', 'Digitized scalable knowledge user Sports & Fitness in Dubai', 'Sports & Fitness', 24.891811474505943, 55.25749775782706, 'Dubai', '2025-07-24 19:20:59.598287', 120, 'Snow', 27.3, 7.88, 19.856769703819968, False, 'UT126U', 'FM493A', 'maybe', '2025-06-28 05:47:44.368733', 37.12375592726293, 1, 24.926542669510784, 54.89200225259779, 'Dubai', 'outdoor', 39, 'sports,travel', '2023-11-04 01:05:46.717793', 22, 'Clear', 36.4, 0.0], ['TW818N', 'Digitized scalable knowledge user Sports & Fitness in Dubai', 'Sports & Fitness', 24.891811474505943, 55.25749775782706, 'Dubai', '2025-07-24 19:20:59.598287', 120, 'Snow', 27.3, 7.88, 19.856769703819968, False, 'FO186A', 'QZ423Y', 'yes', '2025-07-23 19:01:43.775849', 8.138886941915034, 1, 24.93613320012894, 55.19324001398368, 'Dubai', 'outdoor', 42, 'art,fashion,food', '2024-09-21 22:25:45.453017', 17, 'Clear', 35.7, 0.0], ['TW818N', 'Digitized scalable knowledge user Sports & Fitness in Dubai', 'Sports & Fitness', 24.891811474505943, 55.25749775782706, 'Dubai', '2025-07-24 19:20:59.598287', 120, 'Snow', 27.3, 7.88, 19.856769703819968, False, 'II771O', 'WK426G', 'no', '2025-07-02 11:52:18.943336', 83.83319253055987, 0, 25.635851506722734, 55.40953520461208, 'Dubai', 'any', 35, 'music,tech,sports,travel', '2023-06-03 01:06:29.183314', 12, 'Clear', 34.5, 0.0], ['TW818N', 'Digitized scalable knowledge user Sports & Fitness in Dubai', 'Sports & Fitness', 24.891811474505943, 55.25749775782706, 'Dubai', '2025-07-24 19:20:59.598287', 120, 'Snow', 27.3, 7.88, 19.856769703819968, False, 'AT655E', 'TY195C', 'yes', '2025-07-18 20:54:48.510959', 88.60970428354848, 1, 25.6916312771427, 55.26921528371623, 'Dubai', 'outdoor', 38, 'tech,food,literature', '2023-12-26 12:42:33.637350', 22, 'Clear', 36.0, 0.0], ['TW818N', 'Digitized scalable knowledge user Sports & Fitness in Dubai', 'Sports & Fitness', 24.891811474505943, 55.25749775782706, 'Dubai', '2025-07-24 19:20:59.598287', 120, 'Snow', 27.3, 7.88, 19.856769703819968, False, 'YQ610K', 'RP001F', 'invited & maybe', '2025-06-28 19:27:42.026011', 86.60008077107243, 1, 25.611899179273863, 55.59213348140773, 'Dubai', 'indoor', 33, 'tech,music', '2023-06-15 12:09:00.279592', 10, 'Windy', 31.5, 0.24], ['TW818N', 'Digitized scalable knowledge user Sports & Fitness in Dubai', 'Sports & Fitness', 24.891811474505943, 55.25749775782706, 'Dubai', '2025-07-24 19:20:59.598287', 120, 'Snow', 27.3, 7.88, 19.856769703819968, False, 'QC727R', 'AV598E', 'yes', '2025-06-29 10:09:20.663261', 78.02702254899178, 1, 25.58511476214893, 55.39420595815944, 'Dubai', 'any', 57, 'music,fashion,literature', '2024-04-04 08:23:29.304658', 23, 'Windy', 30.4, 0.06], ['TW818N', 'Digitized scalable knowledge user Sports & Fitness in Dubai', 'Sports & Fitness', 24.891811474505943, 55.25749775782706, 'Dubai', '2025-07-24 19:20:59.598287', 120, 'Snow', 27.3, 7.88, 19.856769703819968, False, 'KD814S', 'XB983F', 'invited & yes', '2025-07-01 03:33:20.914310', 66.33059133511452, 1, 25.490560900515657, 55.26442622139541, 'Dubai', 'indoor', 22, 'tech,sports,fitness', '2023-11-10 04:04:33.506577', 17, 'Rain', 29.2, 5.28], ['TW818N', 'Digitized scalable knowledge user Sports & Fitness in Dubai', 'Sports & Fitness', 24.891811474505943, 55.25749775782706, 'Dubai', '2025-07-24 19:20:59.598287', 120, 'Snow', 27.3, 7.88, 19.856769703819968, False, 'EW296A', 'FX078G', 'invited & no', '2025-07-02 02:25:31.922530', 48.42509991989981, 0, 24.74950558185644, 55.71041027603293, 'Dubai', 'outdoor', 33, 'sports,food,travel', '2025-05-09 16:19:34.368072', 17, 'Clear', 36.9, 0.0], ['TW818N', 'Digitized scalable knowledge user Sports & Fitness in Dubai', 'Sports & Fitness', 24.891811474505943, 55.25749775782706, 'Dubai', '2025-07-24 19:20:59.598287', 120, 'Snow', 27.3, 7.88, 19.856769703819968, False, 'HE704T', 'WQ077J', 'invited & maybe', '2025-07-05 11:19:21.785242', 82.63867981835871, 1, 25.636536685761968, 55.305293898700135, 'Dubai', 'any', 29, 'literature,art,fashion', '2024-02-07 07:53:04.046267', 20, 'Clear', 34.1, 0.0], ['TW818N', 'Digitized scalable knowledge user Sports & Fitness in Dubai', 'Sports & Fitness', 24.891811474505943, 55.25749775782706, 'Dubai', '2025-07-24 19:20:59.598287', 120, 'Snow', 27.3, 7.88, 19.856769703819968, False, 'AM678G', 'PI452T', 'yes', '2025-07-10 23:36:21.724415', 30.507177795526985, 1, 25.16537961271572, 55.29232122849782, 'Dubai', 'outdoor', 33, 'literature,art,food,travel', '2024-09-09 04:41:13.177531', 11, 'Snow', 28.8, 2.55], ['TW818N', 'Digitized scalable knowledge user Sports & Fitness in Dubai', 'Sports & Fitness', 24.891811474505943, 55.25749775782706, 'Dubai', '2025-07-24 19:20:59.598287', 120, 'Snow', 27.3, 7.88, 19.856769703819968, False, 'LH950C', 'TG766Z', 'maybe', '2025-07-15 15:16:21.877739', 39.916925566478014, 1, 25.227897844170148, 55.40019863813527, 'Dubai', 'any', 25, 'art,sports', '2024-09-09 12:36:13.844999', 13, 'Rain', 29.6, 19.75], ['TW818N', 'Digitized scalable knowledge user Sports & Fitness in Dubai', 'Sports & Fitness', 24.891811474505943, 55.25749775782706, 'Dubai', '2025-07-24 19:20:59.598287', 120, 'Snow', 27.3, 7.88, 19.856769703819968, False, 'TY599B', 'SX524T', 'invited & maybe', '2025-07-06 00:39:33.406579', 28.197693608538412, 1, 24.92601420602612, 55.5340845631576, 'Dubai', 'outdoor', 50, 'music,travel,literature,art', '2023-08-21 00:43:13.699249', 11, 'Clear', 34.0, 0.0], ['TW818N', 'Digitized scalable knowledge user Sports & Fitness in Dubai', 'Sports & Fitness', 24.891811474505943, 55.25749775782706, 'Dubai', '2025-07-24 19:20:59.598287', 120, 'Snow', 27.3, 7.88, 19.856769703819968, False, 'XV572I', 'IW359X', 'no', '2025-07-04 15:48:39.850490', 83.60905417525389, 0, 25.523076574623243, 55.71225692551762, 'Dubai', 'indoor', 40, 'art,sports,literature', '2025-03-18 08:00:59.300099', 14, 'Clear', 35.7, 0.0], ['TW818N', 'Digitized scalable knowledge user Sports & Fitness in Dubai', 'Sports & Fitness', 24.891811474505943, 55.25749775782706, 'Dubai', '2025-07-24 19:20:59.598287', 120, 'Snow', 27.3, 7.88, 19.856769703819968, False, 'OM704R', 'YL265U', 'invited & no', '2025-07-12 09:39:07.997351', 21.45049555031485, 0, 25.08237026939891, 55.29527420508435, 'Dubai', 'outdoor', 46, 'tech,fitness', '2023-07-21 06:01:50.945438', 16, 'Clear', 36.7, 0.0], ['TW818N', 'Digitized scalable knowledge user Sports & Fitness in Dubai', 'Sports & Fitness', 24.891811474505943, 55.25749775782706, 'Dubai', '2025-07-24 19:20:59.598287', 120, 'Snow', 27.3, 7.88, 19.856769703819968, False, 'QY934F', 'YI754P', 'invited & yes', '2025-06-30 13:02:22.982058', 46.61980485133311, 1, 24.86004508449161, 54.79746533902109, 'Dubai', 'outdoor', 51, 'sports,art,fitness,cinema', '2023-10-09 19:01:21.114110', 18, 'Rain', 31.3, 18.25], ['TW818N', 'Digitized scalable knowledge user Sports & Fitness in Dubai', 'Sports & Fitness', 24.891811474505943, 55.25749775782706, 'Dubai', '2025-07-24 19:20:59.598287', 120, 'Snow', 27.3, 7.88, 19.856769703819968, False, 'JT559S', 'KI423L', 'invited & no', '2025-06-27 07:33:57.600292', 43.16081823042382, 0, 24.73678082381113, 55.64915853846598, 'Dubai', 'outdoor', 26, 'fitness,fashion', '2024-05-26 17:27:47.681767', 14, 'Clear', 35.2, 0.0], ['TW818N', 'Digitized scalable knowledge user Sports & Fitness in Dubai', 'Sports & Fitness', 24.891811474505943, 55.25749775782706, 'Dubai', '2025-07-24 19:20:59.598287', 120, 'Snow', 27.3, 7.88, 19.856769703819968, False, 'ZA932L', 'TP369C', 'invited & yes', '2025-07-15 16:38:22.625593', 21.090270126689937, 1, 24.81777980569445, 55.06524514809308, 'Dubai', 'any', 43, 'fitness,music,travel', '2023-12-15 02:40:57.643006', 14, 'Clear', 35.1, 0.0], ['TW818N', 'Digitized scalable knowledge user Sports & Fitness in Dubai', 'Sports & Fitness', 24.891811474505943, 55.25749775782706, 'Dubai', '2025-07-24 19:20:59.598287', 120, 'Snow', 27.3, 7.88, 19.856769703819968, False, 'MU123V', 'QF841U', 'yes', '2025-07-15 17:02:19.788993', 14.748396659700546, 1, 25.02384642738257, 55.27628876505501, 'Dubai', 'outdoor', 34, 'sports,fashion,travel', '2024-12-12 10:20:34.538015', 10, 'Clear', 36.7, 0.0], ['TW818N', 'Digitized scalable knowledge user Sports & Fitness in Dubai', 'Sports & Fitness', 24.891811474505943, 55.25749775782706, 'Dubai', '2025-07-24 19:20:59.598287', 120, 'Snow', 27.3, 7.88, 19.856769703819968, False, 'EO368M', 'TD232Q', 'yes', '2025-07-06 01:26:55.783260', 36.4345322169708, 1, 25.03743559131633, 54.93397500389084, 'Dubai', 'indoor', 25, 'tech,fitness,sports,travel', '2024-05-27 14:25:09.691722', 14, 'Snow', 26.6, 2.18], ['TW818N', 'Digitized scalable knowledge user Sports & Fitness in Dubai', 'Sports & Fitness', 24.891811474505943, 55.25749775782706, 'Dubai', '2025-07-24 19:20:59.598287', 120, 'Snow', 27.3, 7.88, 19.856769703819968, False, 'HZ240A', 'VM106A', 'yes', '2025-06-26 04:50:27.925127', 21.98966294172031, 1, 24.93753482413387, 55.46932207005045, 'Dubai', 'outdoor', 35, 'literature,music,food,fitness', '2024-10-02 15:52:56.321255', 18, 'Clear', 35.2, 0.0], ['TW818N', 'Digitized scalable knowledge user Sports & Fitness in Dubai', 'Sports & Fitness', 24.891811474505943, 55.25749775782706, 'Dubai', '2025-07-24 19:20:59.598287', 120, 'Snow', 27.3, 7.88, 19.856769703819968, False, 'XS806H', 'FB184G', 'maybe', '2025-07-24 17:23:18.058675', 30.662726551560816, 1, 25.002434335165177, 55.53581075895684, 'Dubai', 'any', 43, 'fitness,music,cinema', '2023-09-15 05:34:32.168598', 15, 'Snow', 28.9, 1.29], ['TW818N', 'Digitized scalable knowledge user Sports & Fitness in Dubai', 'Sports & Fitness', 24.891811474505943, 55.25749775782706, 'Dubai', '2025-07-24 19:20:59.598287', 120, 'Snow', 27.3, 7.88, 19.856769703819968, False, 'KB925K', 'KI845G', 'invited & maybe', '2025-07-18 00:38:10.145831', 31.263331001109496, 1, 24.753989021333943, 55.52736805962, 'Dubai', 'any', 50, 'fitness,sports,travel,literature', '2023-10-24 15:27:00.059802', 14, 'Clear', 35.6, 0.0], ['TW818N', 'Digitized scalable knowledge user Sports & Fitness in Dubai', 'Sports & Fitness', 24.891811474505943, 55.25749775782706, 'Dubai', '2025-07-24 19:20:59.598287', 120, 'Snow', 27.3, 7.88, 19.856769703819968, False, 'ZR318S', 'ZF016C', 'yes', '2025-07-17 13:49:45.449297', 17.56886879177365, 1, 24.73331974750244, 55.26411008014925, 'Dubai', 'outdoor', 26, 'fashion,cinema,travel,art', '2025-02-19 19:51:21.334495', 11, 'Rain', 29.8, 14.11], ['TW818N', 'Digitized scalable knowledge user Sports & Fitness in Dubai', 'Sports & Fitness', 24.891811474505943, 55.25749775782706, 'Dubai', '2025-07-24 19:20:59.598287', 120, 'Snow', 27.3, 7.88, 19.856769703819968, False, 'AM783A', 'VI070C', 'yes', '2025-07-01 14:08:00.300014', 38.83382553412815, 1, 25.213371053310738, 55.10420828738437, 'Dubai', 'outdoor', 20, 'sports,cinema', '2023-07-16 00:57:33.770407', 12, 'Rain', 31.1, 14.23], ['TW818N', 'Digitized scalable knowledge user Sports & Fitness in Dubai', 'Sports & Fitness', 24.891811474505943, 55.25749775782706, 'Dubai', '2025-07-24 19:20:59.598287', 120, 'Snow', 27.3, 7.88, 19.856769703819968, False, 'KM520F', 'PN392X', 'invited', '2025-07-06 10:43:00.414115', 85.51022312223543, 0, 25.54958477034142, 55.70159104724209, 'Dubai', 'outdoor', 28, 'food,music', '2024-05-11 22:21:04.824978', 11, 'Snow', 24.3, 5.43], ['TW818N', 'Digitized scalable knowledge user Sports & Fitness in Dubai', 'Sports & Fitness', 24.891811474505943, 55.25749775782706, 'Dubai', '2025-07-24 19:20:59.598287', 120, 'Snow', 27.3, 7.88, 19.856769703819968, False, 'WB540Q', 'PY915C', 'invited & yes', '2025-06-27 06:53:50.624268', 34.27393906928091, 1, 25.18092598725919, 55.13653501969355, 'Dubai', 'any', 29, 'music,literature,fitness', '2024-02-22 18:11:36.035727', 14, 'Clear', 36.3, 0.0], ['TW818N', 'Digitized scalable knowledge user Sports & Fitness in Dubai', 'Sports & Fitness', 24.891811474505943, 55.25749775782706, 'Dubai', '2025-07-24 19:20:59.598287', 120, 'Snow', 27.3, 7.88, 19.856769703819968, False, 'CO566B', 'QH256A', 'yes', '2025-07-08 00:52:15.392760', 56.3831148352941, 1, 25.379138337219132, 55.09611586137109, 'Dubai', 'outdoor', 40, 'music,travel,fitness', '2025-05-20 19:01:29.239299', 14, 'Cloudy', 33.9, 0.34], ['TW818N', 'Digitized scalable knowledge user Sports & Fitness in Dubai', 'Sports & Fitness', 24.891811474505943, 55.25749775782706, 'Dubai', '2025-07-24 19:20:59.598287', 120, 'Snow', 27.3, 7.88, 19.856769703819968, False, 'KF832Q', 'GJ042W', 'invited', '2025-07-06 11:04:00.592975', 73.2898383163559, 0, 25.53632599998309, 55.421725762005735, 'Dubai', 'outdoor', 36, 'sports,art', '2023-05-30 04:38:46.075227', 16, 'Clear', 36.2, 0.0], ['TW818N', 'Digitized scalable knowledge user Sports & Fitness in Dubai', 'Sports & Fitness', 24.891811474505943, 55.25749775782706, 'Dubai', '2025-07-24 19:20:59.598287', 120, 'Snow', 27.3, 7.88, 19.856769703819968, False, 'HA341U', 'AG089S', 'maybe', '2025-07-20 13:28:07.323174', 36.15814616142976, 1, 25.190452237184537, 55.40212703070983, 'Dubai', 'indoor', 34, 'fitness,travel,music,fashion', '2024-12-02 07:43:14.159842', 15, 'Rain', 29.0, 19.78], ['TW818N', 'Digitized scalable knowledge user Sports & Fitness in Dubai', 'Sports & Fitness', 24.891811474505943, 55.25749775782706, 'Dubai', '2025-07-24 19:20:59.598287', 120, 'Snow', 27.3, 7.88, 19.856769703819968, False, 'GF438K', 'YQ346E', 'invited & maybe', '2025-07-11 18:52:53.226647', 40.98932949012733, 1, 24.770971293411367, 54.87424372002833, 'Dubai', 'indoor', 44, 'art,fashion,cinema,food', '2023-12-14 08:49:36.339613', 15, 'Clear', 36.3, 0.0], ['TW818N', 'Digitized scalable knowledge user Sports & Fitness in Dubai', 'Sports & Fitness', 24.891811474505943, 55.25749775782706, 'Dubai', '2025-07-24 19:20:59.598287', 120, 'Snow', 27.3, 7.88, 19.856769703819968, False, 'IN802R', 'RE748X', 'invited & no', '2025-07-07 06:29:50.303488', 43.30586938681782, 0, 25.20416303240558, 54.99942185292558, 'Dubai', 'outdoor', 43, 'literature,fitness,sports,cinema', '2024-09-06 05:47:15.828606', 16, 'Cloudy', 31.1, 0.49], ['TW818N', 'Digitized scalable knowledge user Sports & Fitness in Dubai', 'Sports & Fitness', 24.891811474505943, 55.25749775782706, 'Dubai', '2025-07-24 19:20:59.598287', 120, 'Snow', 27.3, 7.88, 19.856769703819968, False, 'MB344C', 'YZ645E', 'invited & maybe', '2025-07-15 04:18:22.006236', 45.551542314073714, 1, 25.249437423020943, 55.0346425372872, 'Dubai', 'indoor', 32, 'music,fitness,food,fashion', '2023-11-04 02:47:29.007910', 17, 'Clear', 35.3, 0.0], ['TW818N', 'Digitized scalable knowledge user Sports & Fitness in Dubai', 'Sports & Fitness', 24.891811474505943, 55.25749775782706, 'Dubai', '2025-07-24 19:20:59.598287', 120, 'Snow', 27.3, 7.88, 19.856769703819968, False, 'SV072X', 'PK928P', 'maybe', '2025-07-05 09:41:07.724820', 81.55661255906432, 1, 25.60932435179619, 55.43885929868517, 'Dubai', 'any', 57, 'cinema,sports,art,literature', '2024-12-01 07:11:34.298348', 21, 'Clear', 34.4, 0.0], ['YL323F', 'Distributed interactive architecture Arts & Culture in Dubai', 'Arts & Culture', 24.73333260410337, 54.98840298498484, 'Dubai', '2025-09-08 13:59:05.242018', 360, 'Clear', 36.5, 0.0, 67.48365645583725, True, 'DO445J', 'EE780H', 'maybe', '2025-09-02 11:45:36.564282', 44.52701497102349, 1, 25.08750646360743, 55.19685909814599, 'Dubai', 'outdoor', 37, 'fitness,tech,travel,music', '2023-12-02 19:10:01.054560', 19, 'Rain', 31.7, 4.67], ['YL323F', 'Distributed interactive architecture Arts & Culture in Dubai', 'Arts & Culture', 24.73333260410337, 54.98840298498484, 'Dubai', '2025-09-08 13:59:05.242018', 360, 'Clear', 36.5, 0.0, 67.48365645583725, True, 'MY810J', 'VT357E', 'yes', '2025-08-20 14:50:39.058359', 57.16956525762358, 1, 24.71533127707233, 55.55312049885364, 'Dubai', 'outdoor', 45, 'travel,literature', '2023-12-22 12:29:34.386920', 7, 'Clear', 36.8, 0.0], ['YL323F', 'Distributed interactive architecture Arts & Culture in Dubai', 'Arts & Culture', 24.73333260410337, 54.98840298498484, 'Dubai', '2025-09-08 13:59:05.242018', 360, 'Clear', 36.5, 0.0, 67.48365645583725, True, 'YR043H', 'NT027V', 'yes', '2025-08-29 11:24:16.273367', 80.99950490131565, 1, 25.233516042706245, 55.573616116840064, 'Dubai', 'outdoor', 30, 'art,fashion,music', '2024-10-25 18:28:06.443282', 10, 'Rain', 31.6, 15.06], ['YL323F', 'Distributed interactive architecture Arts & Culture in Dubai', 'Arts & Culture', 24.73333260410337, 54.98840298498484, 'Dubai', '2025-09-08 13:59:05.242018', 360, 'Clear', 36.5, 0.0, 67.48365645583725, True, 'FJ260U', 'NL462W', 'invited & no', '2025-09-07 01:02:00.356874', 91.15802851719106, 0, 25.551957457003105, 55.08055856325862, 'Dubai', 'indoor', 24, 'cinema,tech,travel,fitness', '2023-11-27 12:49:49.570760', 14, 'Rain', 31.6, 2.07], ['YL323F', 'Distributed interactive architecture Arts & Culture in Dubai', 'Arts & Culture', 24.73333260410337, 54.98840298498484, 'Dubai', '2025-09-08 13:59:05.242018', 360, 'Clear', 36.5, 0.0, 67.48365645583725, True, 'DT280T', 'KH118E', 'no', '2025-09-06 23:22:16.825741', 77.86774821908298, 0, 24.928866580906234, 55.72830462597848, 'Dubai', 'indoor', 32, 'fashion,tech,fitness,sports', '2023-10-25 11:24:23.023354', 27, 'Windy', 31.1, 0.36], ['YL323F', 'Distributed interactive architecture Arts & Culture in Dubai', 'Arts & Culture', 24.73333260410337, 54.98840298498484, 'Dubai', '2025-09-08 13:59:05.242018', 360, 'Clear', 36.5, 0.0, 67.48365645583725, True, 'VZ682U', 'BM588K', 'invited & yes', '2025-08-10 00:03:11.976645', 33.528475516285454, 1, 25.010447416532266, 54.85494092665405, 'Dubai', 'any', 29, 'sports,cinema', '2023-12-23 12:25:03.865335', 19, 'Clear', 35.2, 0.0], ['YL323F', 'Distributed interactive architecture Arts & Culture in Dubai', 'Arts & Culture', 24.73333260410337, 54.98840298498484, 'Dubai', '2025-09-08 13:59:05.242018', 360, 'Clear', 36.5, 0.0, 67.48365645583725, True, 'KW937J', 'ND324V', 'invited & yes', '2025-08-25 13:12:46.775286', 47.15780610544339, 1, 25.154891281742003, 54.92328176451981, 'Dubai', 'outdoor', 33, 'cinema,food,sports,travel', '2025-03-15 17:31:24.676734', 14, 'Cloudy', 31.1, 0.09], ['YL323F', 'Distributed interactive architecture Arts & Culture in Dubai', 'Arts & Culture', 24.73333260410337, 54.98840298498484, 'Dubai', '2025-09-08 13:59:05.242018', 360, 'Clear', 36.5, 0.0, 67.48365645583725, True, 'LV273D', 'DB914S', 'maybe', '2025-08-30 01:59:10.485056', 9.982015916193689, 1, 24.78528569586914, 55.06904052001896, 'Dubai', 'indoor', 49, 'food,sports,tech', '2025-03-30 15:45:49.711643', 12, 'Cloudy', 31.2, 0.3], ['VF065U', 'Down-sized multi-tasking projection Sports & Fitness in Dubai', 'Sports & Fitness', 25.298667508525583, 55.55393838235416, 'Dubai', '2025-10-04 10:42:28.123111', 360, 'Clear', 35.5, 0.0, 7.480084047385197, False, 'WV053X', 'DB914S', 'invited & maybe', '2025-10-03 11:22:37.705928', 75.02390996579193, 1, 24.78528569586914, 55.06904052001896, 'Dubai', 'indoor', 49, 'food,sports,tech', '2025-03-30 15:45:49.711643', 12, 'Cloudy', 31.2, 0.3], ['YL323F', 'Distributed interactive architecture Arts & Culture in Dubai', 'Arts & Culture', 24.73333260410337, 54.98840298498484, 'Dubai', '2025-09-08 13:59:05.242018', 360, 'Clear', 36.5, 0.0, 67.48365645583725, True, 'MT911D', 'WW477H', 'maybe', '2025-09-02 13:17:29.429173', 62.44695259743555, 1, 24.833135513587884, 55.59616335160811, 'Dubai', 'outdoor', 49, 'fitness,fashion,food', '2025-02-14 14:30:50.926509', 18, 'Rain', 31.5, 5.61], ['YL323F', 'Distributed interactive architecture Arts & Culture in Dubai', 'Arts & Culture', 24.73333260410337, 54.98840298498484, 'Dubai', '2025-09-08 13:59:05.242018', 360, 'Clear', 36.5, 0.0, 67.48365645583725, True, 'WV743G', 'NM231S', 'invited & yes', '2025-08-12 01:51:34.832016', 55.655261695203066, 1, 25.19864701474156, 54.78050035492304, 'Dubai', 'outdoor', 33, 'cinema,music,art,travel', '2024-11-28 13:54:13.326022', 15, 'Rain', 30.9, 5.88], ['YL323F', 'Distributed interactive architecture Arts & Culture in Dubai', 'Arts & Culture', 24.73333260410337, 54.98840298498484, 'Dubai', '2025-09-08 13:59:05.242018', 360, 'Clear', 36.5, 0.0, 67.48365645583725, True, 'LE483P', 'FP617F', 'maybe', '2025-08-31 12:09:48.719979', 94.67609630939852, 1, 25.587513993181243, 54.95671883736006, 'Dubai', 'any', 35, 'literature,music', '2023-05-30 09:07:09.234110', 16, 'Windy', 31.7, 0.36], ['YL323F', 'Distributed interactive architecture Arts & Culture in Dubai', 'Arts & Culture', 24.73333260410337, 54.98840298498484, 'Dubai', '2025-09-08 13:59:05.242018', 360, 'Clear', 36.5, 0.0, 67.48365645583725, True, 'JA747K', 'WL076N', 'invited & yes', '2025-08-12 03:33:05.102693', 30.41219347028442, 1, 24.807164810258534, 55.27802912172816, 'Dubai', 'outdoor', 24, 'fashion,travel,food,cinema', '2024-08-20 07:35:12.996866', 23, 'Cloudy', 31.1, 0.41], ['YL323F', 'Distributed interactive architecture Arts & Culture in Dubai', 'Arts & Culture', 24.73333260410337, 54.98840298498484, 'Dubai', '2025-09-08 13:59:05.242018', 360, 'Clear', 36.5, 0.0, 67.48365645583725, True, 'VX271F', 'AS446W', 'invited & yes', '2025-08-23 23:47:32.077264', 85.05987798180249, 1, 25.25499370657972, 55.606681008279295, 'Dubai', 'any', 40, 'travel,tech', '2023-08-18 21:40:03.626358', 16, 'Cloudy', 32.5, 0.06], ['YL323F', 'Distributed interactive architecture Arts & Culture in Dubai', 'Arts & Culture', 24.73333260410337, 54.98840298498484, 'Dubai', '2025-09-08 13:59:05.242018', 360, 'Clear', 36.5, 0.0, 67.48365645583725, True, 'EN824E', 'EU204X', 'yes', '2025-08-14 18:44:46.880620', 90.41300499392533, 1, 25.54205969075993, 55.10934848477559, 'Dubai', 'outdoor', 42, 'cinema,art,travel', '2024-10-10 15:17:12.049168', 11, 'Clear', 35.7, 0.0], ['VF065U', 'Down-sized multi-tasking projection Sports & Fitness in Dubai', 'Sports & Fitness', 25.298667508525583, 55.55393838235416, 'Dubai', '2025-10-04 10:42:28.123111', 360, 'Clear', 35.5, 0.0, 7.480084047385197, False, 'KC219Q', 'EU204X', 'invited & no', '2025-09-15 10:55:46.292591', 52.22578747590276, 0, 25.54205969075993, 55.10934848477559, 'Dubai', 'outdoor', 42, 'cinema,art,travel', '2024-10-10 15:17:12.049168', 11, 'Clear', 35.7, 0.0], ['YL323F', 'Distributed interactive architecture Arts & Culture in Dubai', 'Arts & Culture', 24.73333260410337, 54.98840298498484, 'Dubai', '2025-09-08 13:59:05.242018', 360, 'Clear', 36.5, 0.0, 67.48365645583725, True, 'KR389I', 'AH693A', 'invited & no', '2025-08-20 18:50:09.426858', 44.708248342485376, 0, 24.88682070902292, 55.397378163604266, 'Dubai', 'indoor', 52, 'travel,food,sports', '2024-04-10 03:12:53.375178', 10, 'Clear', 34.9, 0.0], ['YL323F', 'Distributed interactive architecture Arts & Culture in Dubai', 'Arts & Culture', 24.73333260410337, 54.98840298498484, 'Dubai', '2025-09-08 13:59:05.242018', 360, 'Clear', 36.5, 0.0, 67.48365645583725, True, 'JU504H', 'RO968C', 'maybe', '2025-08-14 05:27:39.773452', 73.02183305148893, 1, 25.38827480269168, 55.07050312603868, 'Dubai', 'any', 22, 'art,travel,cinema,fitness', '2025-02-11 01:51:17.527040', 18, 'Clear', 36.6, 0.0], ['YL323F', 'Distributed interactive architecture Arts & Culture in Dubai', 'Arts & Culture', 24.73333260410337, 54.98840298498484, 'Dubai', '2025-09-08 13:59:05.242018', 360, 'Clear', 36.5, 0.0, 67.48365645583725, True, 'BY517M', 'LV850S', 'no', '2025-09-08 13:58:23.088490', 50.239163387575765, 0, 25.17837668120416, 55.08422050825761, 'Dubai', 'outdoor', 34, 'art,food', '2024-12-14 06:21:39.105699', 10, 'Rain', 30.6, 3.8], ['YL323F', 'Distributed interactive architecture Arts & Culture in Dubai', 'Arts & Culture', 24.73333260410337, 54.98840298498484, 'Dubai', '2025-09-08 13:59:05.242018', 360, 'Clear', 36.5, 0.0, 67.48365645583725, True, 'WG320U', 'IZ101X', 'no', '2025-08-12 13:08:01.700420', 51.12842759820708, 0, 25.02296270214556, 55.38236749720422, 'Dubai', 'any', 36, 'art,travel,cinema,fitness', '2023-08-16 04:08:23.899481', 11, 'Cloudy', 31.7, 0.46], ['YL323F', 'Distributed interactive architecture Arts & Culture in Dubai', 'Arts & Culture', 24.73333260410337, 54.98840298498484, 'Dubai', '2025-09-08 13:59:05.242018', 360, 'Clear', 36.5, 0.0, 67.48365645583725, True, 'TV252J', 'SC945F', 'invited & maybe', '2025-09-08 07:22:17.169184', 71.1747910337663, 1, 24.709162856915636, 55.6913763930634, 'Dubai', 'indoor', 47, 'food,travel,art', '2024-12-16 23:59:56.213594', 19, 'Clear', 36.5, 0.0], ['YL323F', 'Distributed interactive architecture Arts & Culture in Dubai', 'Arts & Culture', 24.73333260410337, 54.98840298498484, 'Dubai', '2025-09-08 13:59:05.242018', 360, 'Clear', 36.5, 0.0, 67.48365645583725, True, 'DU297S', 'YO179V', 'maybe', '2025-08-11 16:56:24.872570', 75.38392500827611, 1, 24.918853184503693, 55.70585970555284, 'Dubai', 'outdoor', 48, 'art,music', '2024-05-31 03:39:52.251329', 15, 'Rain', 31.6, 14.44], ['YL323F', 'Distributed interactive architecture Arts & Culture in Dubai', 'Arts & Culture', 24.73333260410337, 54.98840298498484, 'Dubai', '2025-09-08 13:59:05.242018', 360, 'Clear', 36.5, 0.0, 67.48365645583725, True, 'PS330L', 'GM998W', 'yes', '2025-08-14 20:37:25.494928', 96.87179255242604, 1, 25.480735317592824, 55.48704373162787, 'Dubai', 'indoor', 31, 'fashion,fitness', '2023-08-04 09:10:05.581166', 13, 'Rain', 30.6, 9.76], ['YL323F', 'Distributed interactive architecture Arts & Culture in Dubai', 'Arts & Culture', 24.73333260410337, 54.98840298498484, 'Dubai', '2025-09-08 13:59:05.242018', 360, 'Clear', 36.5, 0.0, 67.48365645583725, True, 'QU766M', 'HV060D', 'yes', '2025-08-21 06:49:25.921087', 87.1957263097059, 1, 25.145778627829507, 55.72373839042626, 'Dubai', 'any', 43, 'travel,cinema', '2024-03-19 13:49:22.650115', 9, 'Clear', 35.8, 0.0], ['YL323F', 'Distributed interactive architecture Arts & Culture in Dubai', 'Arts & Culture', 24.73333260410337, 54.98840298498484, 'Dubai', '2025-09-08 13:59:05.242018', 360, 'Clear', 36.5, 0.0, 67.48365645583725, True, 'KR156V', 'CK706P', 'maybe', '2025-08-20 05:32:18.255411', 58.95000147140952, 1, 25.263731304073275, 55.036007990057456, 'Dubai', 'outdoor', 37, 'tech,food,art', '2025-05-13 15:26:46.666294', 18, 'Cloudy', 34.0, 0.15], ['YL323F', 'Distributed interactive architecture Arts & Culture in Dubai', 'Arts & Culture', 24.73333260410337, 54.98840298498484, 'Dubai', '2025-09-08 13:59:05.242018', 360, 'Clear', 36.5, 0.0, 67.48365645583725, True, 'EL402S', 'HC329P', 'maybe', '2025-08-10 00:01:04.716175', 58.46422049939278, 1, 25.23237910735513, 55.1768787082237, 'Dubai', 'indoor', 26, 'cinema,music,fitness', '2024-12-15 16:22:29.042126', 24, 'Rain', 30.5, 12.65], ['YL323F', 'Distributed interactive architecture Arts & Culture in Dubai', 'Arts & Culture', 24.73333260410337, 54.98840298498484, 'Dubai', '2025-09-08 13:59:05.242018', 360, 'Clear', 36.5, 0.0, 67.48365645583725, True, 'OY451G', 'TR103P', 'invited & no', '2025-08-10 01:12:14.139179', 77.87707503325099, 0, 25.431523527321183, 55.07878353405442, 'Dubai', 'any', 33, 'literature,fashion,art,tech', '2024-03-20 09:15:12.404378', 21, 'Snow', 24.5, 9.24], ['YL323F', 'Distributed interactive architecture Arts & Culture in Dubai', 'Arts & Culture', 24.73333260410337, 54.98840298498484, 'Dubai', '2025-09-08 13:59:05.242018', 360, 'Clear', 36.5, 0.0, 67.48365645583725, True, 'WQ223A', 'QR487S', 'invited & yes', '2025-09-06 19:44:04.349694', 49.56165111161897, 1, 24.713184710493486, 55.47776685129405, 'Dubai', 'any', 39, 'literature,music,food,cinema', '2024-01-13 20:06:21.432045', 15, 'Cloudy', 31.4, 0.0], ['YL323F', 'Distributed interactive architecture Arts & Culture in Dubai', 'Arts & Culture', 24.73333260410337, 54.98840298498484, 'Dubai', '2025-09-08 13:59:05.242018', 360, 'Clear', 36.5, 0.0, 67.48365645583725, True, 'XQ743B', 'YM292S', 'yes', '2025-09-02 02:09:38.533310', 90.63497496401814, 1, 25.51797625265446, 55.24312089417759, 'Dubai', 'outdoor', 44, 'cinema,travel,art,fitness', '2024-10-21 16:37:38.204026', 8, 'Windy', 32.6, 0.47], ['YL323F', 'Distributed interactive architecture Arts & Culture in Dubai', 'Arts & Culture', 24.73333260410337, 54.98840298498484, 'Dubai', '2025-09-08 13:59:05.242018', 360, 'Clear', 36.5, 0.0, 67.48365645583725, True, 'IC356A', 'II578J', 'invited', '2025-08-10 09:19:53.605803', 88.60826325486197, 0, 25.118150749192576, 55.757445542903525, 'Dubai', 'indoor', 46, 'music,fashion,sports', '2024-04-30 11:39:56.893197', 15, 'Clear', 36.1, 0.0], ['YL323F', 'Distributed interactive architecture Arts & Culture in Dubai', 'Arts & Culture', 24.73333260410337, 54.98840298498484, 'Dubai', '2025-09-08 13:59:05.242018', 360, 'Clear', 36.5, 0.0, 67.48365645583725, True, 'ON641R', 'MT022G', 'maybe', '2025-09-06 09:19:21.887055', 57.12401700132933, 1, 25.24395269168041, 55.06752277135524, 'Dubai', 'outdoor', 29, 'music,sports,cinema', '2024-05-31 02:44:09.394904', 15, 'Clear', 34.9, 0.0], ['VF065U', 'Down-sized multi-tasking projection Sports & Fitness in Dubai', 'Sports & Fitness', 25.298667508525583, 55.55393838235416, 'Dubai', '2025-10-04 10:42:28.123111', 360, 'Clear', 35.5, 0.0, 7.480084047385197, False, 'SV881F', 'MT022G', 'invited & yes', '2025-10-02 13:25:07.556234', 49.36877674238105, 1, 25.24395269168041, 55.06752277135524, 'Dubai', 'outdoor', 29, 'music,sports,cinema', '2024-05-31 02:44:09.394904', 15, 'Clear', 34.9, 0.0], ['YL323F', 'Distributed interactive architecture Arts & Culture in Dubai', 'Arts & Culture', 24.73333260410337, 54.98840298498484, 'Dubai', '2025-09-08 13:59:05.242018', 360, 'Clear', 36.5, 0.0, 67.48365645583725, True, 'YI430D', 'CU317Q', 'invited & no', '2025-09-03 04:43:02.996410', 93.15706841411338, 0, 25.53974080321371, 55.25048675462049, 'Dubai', 'outdoor', 27, 'food,tech', '2024-07-24 06:23:28.507188', 16, 'Clear', 36.2, 0.0], ['YL323F', 'Distributed interactive architecture Arts & Culture in Dubai', 'Arts & Culture', 24.73333260410337, 54.98840298498484, 'Dubai', '2025-09-08 13:59:05.242018', 360, 'Clear', 36.5, 0.0, 67.48365645583725, True, 'IB810S', 'XS997X', 'invited', '2025-08-29 03:42:22.828614', 67.0602626757268, 0, 25.131760426698385, 55.48827812039351, 'Dubai', 'outdoor', 47, 'art,food,travel', '2024-04-12 07:51:54.506753', 16, 'Cloudy', 31.6, 0.09], ['YL323F', 'Distributed interactive architecture Arts & Culture in Dubai', 'Arts & Culture', 24.73333260410337, 54.98840298498484, 'Dubai', '2025-09-08 13:59:05.242018', 360, 'Clear', 36.5, 0.0, 67.48365645583725, True, 'QW874V', 'CH298H', 'invited & yes', '2025-08-17 02:55:20.212465', 71.16817111757112, 1, 25.045381479145185, 55.60410070615912, 'Dubai', 'outdoor', 27, 'fitness,fashion,music,sports', '2023-08-24 02:15:31.464088', 20, 'Rain', 31.3, 3.6], ['YL323F', 'Distributed interactive architecture Arts & Culture in Dubai', 'Arts & Culture', 24.73333260410337, 54.98840298498484, 'Dubai', '2025-09-08 13:59:05.242018', 360, 'Clear', 36.5, 0.0, 67.48365645583725, True, 'UC708S', 'YK889F', 'yes', '2025-09-08 09:30:11.758883', 54.43591936727678, 1, 25.16447892903032, 55.24705655462723, 'Dubai', 'outdoor', 33, 'sports,cinema,fashion,music', '2024-11-01 12:59:56.256525', 12, 'Clear', 36.9, 0.0], ['YL323F', 'Distributed interactive architecture Arts & Culture in Dubai', 'Arts & Culture', 24.73333260410337, 54.98840298498484, 'Dubai', '2025-09-08 13:59:05.242018', 360, 'Clear', 36.5, 0.0, 67.48365645583725, True, 'VC406F', 'EY294O', 'invited & yes', '2025-08-10 10:46:08.533707', 37.07610389675551, 1, 24.850536664293955, 55.33184631183322, 'Dubai', 'outdoor', 33, 'art,sports,cinema,tech', '2024-09-19 13:39:38.714700', 15, 'Clear', 34.5, 0.0], ['YL323F', 'Distributed interactive architecture Arts & Culture in Dubai', 'Arts & Culture', 24.73333260410337, 54.98840298498484, 'Dubai', '2025-09-08 13:59:05.242018', 360, 'Clear', 36.5, 0.0, 67.48365645583725, True, 'XS751S', 'ER332B', 'invited & maybe', '2025-09-08 11:47:22.344350', 16.126438695989847, 1, 24.839729640853477, 55.09725352125095, 'Dubai', 'indoor', 31, 'fashion,music,sports', '2025-02-04 20:35:49.843808', 12, 'Clear', 34.6, 0.0], ['YL323F', 'Distributed interactive architecture Arts & Culture in Dubai', 'Arts & Culture', 24.73333260410337, 54.98840298498484, 'Dubai', '2025-09-08 13:59:05.242018', 360, 'Clear', 36.5, 0.0, 67.48365645583725, True, 'ZE174J', 'YR358V', 'invited & maybe', '2025-09-07 21:02:26.667400', 18.625615887771797, 1, 24.74413482303965, 54.804667506833695, 'Dubai', 'outdoor', 55, 'music,cinema', '2024-09-17 00:46:54.074765', 23, 'Rain', 31.4, 19.15], ['YL323F', 'Distributed interactive architecture Arts & Culture in Dubai', 'Arts & Culture', 24.73333260410337, 54.98840298498484, 'Dubai', '2025-09-08 13:59:05.242018', 360, 'Clear', 36.5, 0.0, 67.48365645583725, True, 'IF552O', 'XC879P', 'invited & no', '2025-08-29 22:27:25.005502', 52.55889178536062, 0, 25.012991951090243, 55.40857040196156, 'Dubai', 'indoor', 26, 'tech,food,cinema,music', '2024-07-28 12:29:45.541611', 19, 'Cloudy', 31.8, 0.19], ['YL323F', 'Distributed interactive architecture Arts & Culture in Dubai', 'Arts & Culture', 24.73333260410337, 54.98840298498484, 'Dubai', '2025-09-08 13:59:05.242018', 360, 'Clear', 36.5, 0.0, 67.48365645583725, True, 'BX098I', 'IB362F', 'yes', '2025-08-12 14:54:56.015401', 38.24350187182901, 1, 25.07635929802592, 55.03126380454208, 'Dubai', 'any', 50, 'cinema,literature,tech', '2024-10-23 13:24:42.227014', 12, 'Clear', 35.6, 0.0], ['YL323F', 'Distributed interactive architecture Arts & Culture in Dubai', 'Arts & Culture', 24.73333260410337, 54.98840298498484, 'Dubai', '2025-09-08 13:59:05.242018', 360, 'Clear', 36.5, 0.0, 67.48365645583725, True, 'FJ024K', 'SD369F', 'invited & no', '2025-08-31 06:36:23.684713', 102.56875770504318, 0, 25.65833572883261, 54.94330267470122, 'Dubai', 'outdoor', 36, 'travel,fashion,art', '2023-06-12 07:04:44.582251', 15, 'Clear', 34.9, 0.0], ['YL323F', 'Distributed interactive architecture Arts & Culture in Dubai', 'Arts & Culture', 24.73333260410337, 54.98840298498484, 'Dubai', '2025-09-08 13:59:05.242018', 360, 'Clear', 36.5, 0.0, 67.48365645583725, True, 'GP344S', 'VR401M', 'invited & yes', '2025-08-27 12:57:37.472790', 16.38331536606725, 1, 24.777345991379995, 55.14303718908821, 'Dubai', 'any', 27, 'art,sports', '2024-01-19 21:53:40.601938', 11, 'Cloudy', 33.8, 0.42], ['YL323F', 'Distributed interactive architecture Arts & Culture in Dubai', 'Arts & Culture', 24.73333260410337, 54.98840298498484, 'Dubai', '2025-09-08 13:59:05.242018', 360, 'Clear', 36.5, 0.0, 67.48365645583725, True, 'QD441H', 'BG418J', 'yes', '2025-08-31 21:11:02.579443', 99.37945740090012, 1, 25.54632687966715, 55.405114776905904, 'Dubai', 'outdoor', 25, 'art,music', '2024-05-16 04:13:17.054637', 10, 'Clear', 34.9, 0.0], ['YL323F', 'Distributed interactive architecture Arts & Culture in Dubai', 'Arts & Culture', 24.73333260410337, 54.98840298498484, 'Dubai', '2025-09-08 13:59:05.242018', 360, 'Clear', 36.5, 0.0, 67.48365645583725, True, 'ZL362K', 'AN527I', 'invited & no', '2025-09-04 09:04:31.683426', 55.90613337638784, 0, 25.17681585664933, 55.25266140526098, 'Dubai', 'any', 29, 'fashion,art,sports,fitness', '2024-12-27 05:30:10.070450', 9, 'Cloudy', 32.5, 0.18], ['VF065U', 'Down-sized multi-tasking projection Sports & Fitness in Dubai', 'Sports & Fitness', 25.298667508525583, 55.55393838235416, 'Dubai', '2025-10-04 10:42:28.123111', 360, 'Clear', 35.5, 0.0, 7.480084047385197, False, 'JB550J', 'MZ705D', 'maybe', '2025-09-23 22:16:20.997560', 45.50500430512414, 1, 25.641666843174235, 55.30495870146832, 'Dubai', 'indoor', 31, 'travel,fitness,art,music', '2025-05-18 21:49:25.672995', 17, 'Clear', 36.7, 0.0], ['VF065U', 'Down-sized multi-tasking projection Sports & Fitness in Dubai', 'Sports & Fitness', 25.298667508525583, 55.55393838235416, 'Dubai', '2025-10-04 10:42:28.123111', 360, 'Clear', 35.5, 0.0, 7.480084047385197, False, 'YF194S', 'BN887Y', 'invited', '2025-09-27 04:50:50.813918', 54.94045605263692, 0, 24.842124762711663, 55.76670791938062, 'Dubai', 'outdoor', 40, 'music,fashion,fitness,tech', '2023-09-12 09:41:51.973138', 21, 'Clear', 36.9, 0.0], ['VF065U', 'Down-sized multi-tasking projection Sports & Fitness in Dubai', 'Sports & Fitness', 25.298667508525583, 55.55393838235416, 'Dubai', '2025-10-04 10:42:28.123111', 360, 'Clear', 35.5, 0.0, 7.480084047385197, False, 'HS232R', 'KU469H', 'invited & yes', '2025-09-12 18:35:59.358935', 82.66595594526743, 1, 25.67681506107715, 54.84516316431934, 'Dubai', 'outdoor', 25, 'sports,fitness', '2023-12-31 23:07:02.720226', 14, 'Clear', 36.7, 0.0], ['VF065U', 'Down-sized multi-tasking projection Sports & Fitness in Dubai', 'Sports & Fitness', 25.298667508525583, 55.55393838235416, 'Dubai', '2025-10-04 10:42:28.123111', 360, 'Clear', 35.5, 0.0, 7.480084047385197, False, 'OK380A', 'OG102M', 'invited & maybe', '2025-09-19 19:42:44.979757', 36.02227116599755, 1, 24.97717488448625, 55.607613931826165, 'Dubai', 'any', 22, 'fitness,travel,literature', '2024-11-02 13:46:24.709247', 16, 'Clear', 34.8, 0.0], ['VF065U', 'Down-sized multi-tasking projection Sports & Fitness in Dubai', 'Sports & Fitness', 25.298667508525583, 55.55393838235416, 'Dubai', '2025-10-04 10:42:28.123111', 360, 'Clear', 35.5, 0.0, 7.480084047385197, False, 'LW609S', 'EI545P', 'invited & yes', '2025-09-11 23:36:29.781337', 36.77832835329805, 1, 25.01366944165288, 55.36681405706606, 'Dubai', 'indoor', 30, 'literature,cinema', '2025-03-19 15:59:40.998583', 13, 'Cloudy', 33.9, 0.4], ['VF065U', 'Down-sized multi-tasking projection Sports & Fitness in Dubai', 'Sports & Fitness', 25.298667508525583, 55.55393838235416, 'Dubai', '2025-10-04 10:42:28.123111', 360, 'Clear', 35.5, 0.0, 7.480084047385197, False, 'WL681V', 'JG202S', 'invited & maybe', '2025-09-06 04:12:43.173920', 43.88606770682722, 1, 25.685375309933296, 55.64868892011424, 'Dubai', 'indoor', 24, 'food,music,fashion', '2024-08-03 16:10:54.724324', 13, 'Rain', 29.3, 6.34], ['VF065U', 'Down-sized multi-tasking projection Sports & Fitness in Dubai', 'Sports & Fitness', 25.298667508525583, 55.55393838235416, 'Dubai', '2025-10-04 10:42:28.123111', 360, 'Clear', 35.5, 0.0, 7.480084047385197, False, 'HM716T', 'WN838J', 'invited & yes', '2025-09-21 03:23:42.108074', 24.581248456355848, 1, 25.188296274092664, 55.34227771458527, 'Dubai', 'outdoor', 51, 'literature,fitness', '2023-11-25 19:45:43.583722', 7, 'Snow', 26.2, 1.42], ['VF065U', 'Down-sized multi-tasking projection Sports & Fitness in Dubai', 'Sports & Fitness', 25.298667508525583, 55.55393838235416, 'Dubai', '2025-10-04 10:42:28.123111', 360, 'Clear', 35.5, 0.0, 7.480084047385197, False, 'EM516L', 'QW174O', 'no', '2025-09-27 03:20:55.962238', 87.11440971392942, 0, 25.64323543563524, 54.775247554515424, 'Dubai', 'outdoor', 35, 'sports,music', '2024-01-15 05:40:59.456383', 13, 'Clear', 35.6, 0.0], ['VF065U', 'Down-sized multi-tasking projection Sports & Fitness in Dubai', 'Sports & Fitness', 25.298667508525583, 55.55393838235416, 'Dubai', '2025-10-04 10:42:28.123111', 360, 'Clear', 35.5, 0.0, 7.480084047385197, False, 'YI662M', 'LO977F', 'no', '2025-09-30 16:29:56.785408', 28.602263859996945, 0, 25.044994068101, 55.606834961696514, 'Dubai', 'indoor', 31, 'food,literature', '2023-08-14 21:17:14.227437', 17, 'Windy', 31.1, 0.22], ['VF065U', 'Down-sized multi-tasking projection Sports & Fitness in Dubai', 'Sports & Fitness', 25.298667508525583, 55.55393838235416, 'Dubai', '2025-10-04 10:42:28.123111', 360, 'Clear', 35.5, 0.0, 7.480084047385197, False, 'IB010R', 'JE411P', 'invited', '2025-09-04 20:44:37.487445', 53.38568181909423, 0, 25.407801037803747, 55.0373573718597, 'Dubai', 'indoor', 37, 'travel,fitness', '2023-10-17 19:35:17.123729', 20, 'Clear', 35.2, 0.0], ['VF065U', 'Down-sized multi-tasking projection Sports & Fitness in Dubai', 'Sports & Fitness', 25.298667508525583, 55.55393838235416, 'Dubai', '2025-10-04 10:42:28.123111', 360, 'Clear', 35.5, 0.0, 7.480084047385197, False, 'RN816O', 'MY396Q', 'yes', '2025-09-24 14:14:39.438162', 18.07873940412325, 1, 25.43159431449098, 55.44973303577565, 'Dubai', 'indoor', 30, 'fashion,tech', '2024-07-08 20:49:31.108437', 19, 'Windy', 32.1, 0.34], ['VF065U', 'Down-sized multi-tasking projection Sports & Fitness in Dubai', 'Sports & Fitness', 25.298667508525583, 55.55393838235416, 'Dubai', '2025-10-04 10:42:28.123111', 360, 'Clear', 35.5, 0.0, 7.480084047385197, False, 'AO848E', 'HZ677G', 'yes', '2025-09-12 05:27:49.806860', 40.598939005426026, 1, 25.298726577119663, 55.15078969589784, 'Dubai', 'outdoor', 28, 'sports,fitness,travel,cinema', '2024-06-11 09:35:37.154327', 13, 'Clear', 36.1, 0.0], ['VF065U', 'Down-sized multi-tasking projection Sports & Fitness in Dubai', 'Sports & Fitness', 25.298667508525583, 55.55393838235416, 'Dubai', '2025-10-04 10:42:28.123111', 360, 'Clear', 35.5, 0.0, 7.480084047385197, False, 'EK162A', 'XH592M', 'maybe', '2025-10-01 07:15:06.301233', 27.809162047156047, 1, 25.549285661345824, 55.56980960175239, 'Dubai', 'outdoor', 32, 'fitness,art,fashion', '2025-03-14 08:56:20.794816', 17, 'Rain', 30.9, 12.52], ['VF065U', 'Down-sized multi-tasking projection Sports & Fitness in Dubai', 'Sports & Fitness', 25.298667508525583, 55.55393838235416, 'Dubai', '2025-10-04 10:42:28.123111', 360, 'Clear', 35.5, 0.0, 7.480084047385197, False, 'FL823Z', 'XH592M', 'maybe', '2025-10-04 03:56:54.106136', 27.809162047156047, 1, 25.549285661345824, 55.56980960175239, 'Dubai', 'outdoor', 32, 'fitness,art,fashion', '2025-03-14 08:56:20.794816', 17, 'Rain', 30.9, 12.52], ['VF065U', 'Down-sized multi-tasking projection Sports & Fitness in Dubai', 'Sports & Fitness', 25.298667508525583, 55.55393838235416, 'Dubai', '2025-10-04 10:42:28.123111', 360, 'Clear', 35.5, 0.0, 7.480084047385197, False, 'RT958A', 'HL303E', 'no', '2025-09-25 00:01:21.890022', 81.50897480599832, 0, 24.753092770169683, 55.01203965530283, 'Dubai', 'indoor', 33, 'cinema,sports', '2025-05-08 01:48:10.473221', 23, 'Clear', 35.4, 0.0], ['VF065U', 'Down-sized multi-tasking projection Sports & Fitness in Dubai', 'Sports & Fitness', 25.298667508525583, 55.55393838235416, 'Dubai', '2025-10-04 10:42:28.123111', 360, 'Clear', 35.5, 0.0, 7.480084047385197, False, 'BO735B', 'FV570E', 'invited & maybe', '2025-09-15 10:45:04.792478', 26.98401692995524, 1, 25.074548791174625, 55.44905665981046, 'Dubai', 'outdoor', 41, 'cinema,art,tech,sports', '2024-11-12 10:24:17.406082', 17, 'Clear', 35.1, 0.0], ['VF065U', 'Down-sized multi-tasking projection Sports & Fitness in Dubai', 'Sports & Fitness', 25.298667508525583, 55.55393838235416, 'Dubai', '2025-10-04 10:42:28.123111', 360, 'Clear', 35.5, 0.0, 7.480084047385197, False, 'HX969R', 'LD649U', 'invited & yes', '2025-09-13 16:48:09.821398', 90.01538462848737, 1, 24.793054105236468, 54.85562182761729, 'Dubai', 'outdoor', 46, 'music,sports', '2025-02-25 16:38:59.544307', 16, 'Rain', 30.3, 10.66], ['VF065U', 'Down-sized multi-tasking projection Sports & Fitness in Dubai', 'Sports & Fitness', 25.298667508525583, 55.55393838235416, 'Dubai', '2025-10-04 10:42:28.123111', 360, 'Clear', 35.5, 0.0, 7.480084047385197, False, 'DC992U', 'MQ961H', 'no', '2025-09-17 13:44:28.598585', 38.01014032390156, 0, 25.12789642343797, 55.226791532223785, 'Dubai', 'outdoor', 24, 'tech,fashion', '2024-09-21 10:14:48.038319', 11, 'Clear', 36.0, 0.0], ['VF065U', 'Down-sized multi-tasking projection Sports & Fitness in Dubai', 'Sports & Fitness', 25.298667508525583, 55.55393838235416, 'Dubai', '2025-10-04 10:42:28.123111', 360, 'Clear', 35.5, 0.0, 7.480084047385197, False, 'KG253G', 'SS903Q', 'maybe', '2025-09-08 02:52:42.558084', 78.98955937774075, 1, 25.13762072543965, 54.79033966951646, 'Dubai', 'outdoor', 42, 'sports,fashion,art,music', '2024-06-18 09:39:36.654755', 20, 'Rain', 29.5, 4.89], ['VF065U', 'Down-sized multi-tasking projection Sports & Fitness in Dubai', 'Sports & Fitness', 25.298667508525583, 55.55393838235416, 'Dubai', '2025-10-04 10:42:28.123111', 360, 'Clear', 35.5, 0.0, 7.480084047385197, False, 'MX090W', 'WR441A', 'yes', '2025-09-29 16:00:17.998705', 73.55548734392504, 1, 24.74137189111148, 55.15771089965121, 'Dubai', 'outdoor', 33, 'travel,tech,literature', '2024-06-10 17:33:34.637022', 12, 'Clear', 35.7, 0.0], ['VF065U', 'Down-sized multi-tasking projection Sports & Fitness in Dubai', 'Sports & Fitness', 25.298667508525583, 55.55393838235416, 'Dubai', '2025-10-04 10:42:28.123111', 360, 'Clear', 35.5, 0.0, 7.480084047385197, False, 'TN108I', 'QZ474A', 'no', '2025-09-07 22:25:21.543201', 83.93865623663523, 0, 24.901950036056103, 54.8449363635142, 'Dubai', 'outdoor', 55, 'tech,travel', '2024-09-15 09:50:45.850002', 16, 'Cloudy', 33.4, 0.17], ['VF065U', 'Down-sized multi-tasking projection Sports & Fitness in Dubai', 'Sports & Fitness', 25.298667508525583, 55.55393838235416, 'Dubai', '2025-10-04 10:42:28.123111', 360, 'Clear', 35.5, 0.0, 7.480084047385197, False, 'SG496V', 'NP112U', 'no', '2025-09-24 13:38:06.855995', 89.37013933696197, 0, 24.749232683025888, 54.905539365610295, 'Dubai', 'indoor', 35, 'food,sports,fashion', '2023-08-08 18:46:10.199487', 15, 'Clear', 36.9, 0.0], ['VF065U', 'Down-sized multi-tasking projection Sports & Fitness in Dubai', 'Sports & Fitness', 25.298667508525583, 55.55393838235416, 'Dubai', '2025-10-04 10:42:28.123111', 360, 'Clear', 35.5, 0.0, 7.480084047385197, False, 'WX619D', 'NP112U', 'maybe', '2025-09-16 18:48:40.841963', 89.37013933696197, 1, 24.749232683025888, 54.905539365610295, 'Dubai', 'indoor', 35, 'food,sports,fashion', '2023-08-08 18:46:10.199487', 15, 'Clear', 36.9, 0.0], ['VF065U', 'Down-sized multi-tasking projection Sports & Fitness in Dubai', 'Sports & Fitness', 25.298667508525583, 55.55393838235416, 'Dubai', '2025-10-04 10:42:28.123111', 360, 'Clear', 35.5, 0.0, 7.480084047385197, False, 'FE064D', 'LR922D', 'yes', '2025-09-22 07:17:34.849773', 32.84608457085533, 1, 25.23807109707365, 55.23473910167174, 'Dubai', 'outdoor', 51, 'food,literature,art', '2025-01-25 16:02:42.814007', 20, 'Rain', 29.4, 3.3], ['VF065U', 'Down-sized multi-tasking projection Sports & Fitness in Dubai', 'Sports & Fitness', 25.298667508525583, 55.55393838235416, 'Dubai', '2025-10-04 10:42:28.123111', 360, 'Clear', 35.5, 0.0, 7.480084047385197, False, 'OU810R', 'ZI884H', 'invited & maybe', '2025-09-05 22:31:11.722143', 68.80347496634062, 1, 25.429362026908237, 54.88565617432428, 'Dubai', 'outdoor', 38, 'sports,fashion,art,literature', '2025-03-01 03:48:07.034448', 10, 'Clear', 36.5, 0.0], ['VF065U', 'Down-sized multi-tasking projection Sports & Fitness in Dubai', 'Sports & Fitness', 25.298667508525583, 55.55393838235416, 'Dubai', '2025-10-04 10:42:28.123111', 360, 'Clear', 35.5, 0.0, 7.480084047385197, False, 'CS934F', 'MI528D', 'invited & yes', '2025-09-20 22:35:43.376026', 59.54027111611056, 1, 25.165332386691038, 54.98149549876475, 'Dubai', 'outdoor', 40, 'literature,cinema,fashion,tech', '2024-11-27 02:36:44.968042', 17, 'Rain', 30.5, 8.09], ['VF065U', 'Down-sized multi-tasking projection Sports & Fitness in Dubai', 'Sports & Fitness', 25.298667508525583, 55.55393838235416, 'Dubai', '2025-10-04 10:42:28.123111', 360, 'Clear', 35.5, 0.0, 7.480084047385197, False, 'RK815W', 'UR320A', 'maybe', '2025-09-09 06:20:34.434723', 12.96234060915402, 1, 25.22634968219392, 55.65509917082048, 'Dubai', 'outdoor', 40, 'travel,tech,art,cinema', '2024-10-19 07:30:56.330931', 16, 'Clear', 35.1, 0.0], ['VF065U', 'Down-sized multi-tasking projection Sports & Fitness in Dubai', 'Sports & Fitness', 25.298667508525583, 55.55393838235416, 'Dubai', '2025-10-04 10:42:28.123111', 360, 'Clear', 35.5, 0.0, 7.480084047385197, False, 'RR469P', 'MC700L', 'no', '2025-09-07 15:17:52.562004', 79.10641444572005, 0, 25.16290513393285, 54.78316364480316, 'Dubai', 'indoor', 45, 'fitness,sports', '2024-04-17 15:14:02.397502', 14, 'Clear', 34.9, 0.0], ['VF065U', 'Down-sized multi-tasking projection Sports & Fitness in Dubai', 'Sports & Fitness', 25.298667508525583, 55.55393838235416, 'Dubai', '2025-10-04 10:42:28.123111', 360, 'Clear', 35.5, 0.0, 7.480084047385197, False, 'GO211D', 'FL195G', 'invited & no', '2025-10-02 04:31:21.043093', 47.67278607345386, 0, 25.694079971731917, 55.36682439263077, 'Dubai', 'outdoor', 40, 'literature,sports,tech', '2025-04-20 05:35:31.873048', 23, 'Clear', 35.9, 0.0], ['VF065U', 'Down-sized multi-tasking projection Sports & Fitness in Dubai', 'Sports & Fitness', 25.298667508525583, 55.55393838235416, 'Dubai', '2025-10-04 10:42:28.123111', 360, 'Clear', 35.5, 0.0, 7.480084047385197, False, 'VR694L', 'KP876K', 'invited & yes', '2025-09-04 19:29:51.591803', 30.02793213686292, 1, 25.037697002699925, 55.63448768014152, 'Dubai', 'any', 46, 'fitness,tech', '2023-11-04 10:43:40.208345', 16, 'Cloudy', 33.7, 0.03], ['VF065U', 'Down-sized multi-tasking projection Sports & Fitness in Dubai', 'Sports & Fitness', 25.298667508525583, 55.55393838235416, 'Dubai', '2025-10-04 10:42:28.123111', 360, 'Clear', 35.5, 0.0, 7.480084047385197, False, 'PE448D', 'IJ101Z', 'yes', '2025-09-19 06:59:23.545435', 15.952614252669727, 1, 25.2128713760508, 55.68112043847382, 'Dubai', 'outdoor', 25, 'travel,tech', '2024-09-12 08:34:08.204364', 14, 'Clear', 36.2, 0.0], ['VF065U', 'Down-sized multi-tasking projection Sports & Fitness in Dubai', 'Sports & Fitness', 25.298667508525583, 55.55393838235416, 'Dubai', '2025-10-04 10:42:28.123111', 360, 'Clear', 35.5, 0.0, 7.480084047385197, False, 'SL104R', 'RR996J', 'maybe', '2025-09-12 00:12:07.152114', 47.363989250598365, 1, 25.292031757662592, 55.083682034526845, 'Dubai', 'outdoor', 51, 'food,travel,sports,fashion', '2024-01-01 18:52:15.873235', 14, 'Clear', 36.1, 0.0], ['VF065U', 'Down-sized multi-tasking projection Sports & Fitness in Dubai', 'Sports & Fitness', 25.298667508525583, 55.55393838235416, 'Dubai', '2025-10-04 10:42:28.123111', 360, 'Clear', 35.5, 0.0, 7.480084047385197, False, 'FH386E', 'AY371V', 'invited & no', '2025-09-08 14:24:09.684997', 56.15108801052904, 0, 25.461624016693843, 55.02560297969267, 'Dubai', 'outdoor', 33, 'food,literature', '2023-11-02 11:28:00.253762', 8, 'Windy', 30.4, 0.43], ['VF065U', 'Down-sized multi-tasking projection Sports & Fitness in Dubai', 'Sports & Fitness', 25.298667508525583, 55.55393838235416, 'Dubai', '2025-10-04 10:42:28.123111', 360, 'Clear', 35.5, 0.0, 7.480084047385197, False, 'SM470Y', 'GK463H', 'maybe', '2025-09-06 05:44:31.125222', 10.280581059569863, 1, 25.294552854532103, 55.451954072330444, 'Dubai', 'any', 39, 'travel,fashion', '2024-12-21 18:55:48.052881', 15, 'Clear', 36.2, 0.0], ['VF065U', 'Down-sized multi-tasking projection Sports & Fitness in Dubai', 'Sports & Fitness', 25.298667508525583, 55.55393838235416, 'Dubai', '2025-10-04 10:42:28.123111', 360, 'Clear', 35.5, 0.0, 7.480084047385197, False, 'EW614C', 'FU105F', 'yes', '2025-09-10 21:35:38.240959', 42.39979647544724, 1, 25.679848954963088, 55.59193060141904, 'Dubai', 'any', 25, 'travel,fitness,food', '2023-08-09 03:33:09.680159', 21, 'Clear', 36.4, 0.0], ['VF065U', 'Down-sized multi-tasking projection Sports & Fitness in Dubai', 'Sports & Fitness', 25.298667508525583, 55.55393838235416, 'Dubai', '2025-10-04 10:42:28.123111', 360, 'Clear', 35.5, 0.0, 7.480084047385197, False, 'LJ829G', 'PA822Q', 'no', '2025-09-28 17:03:00.123302', 75.65357963958576, 0, 24.74489923303577, 55.11524556224691, 'Dubai', 'outdoor', 38, 'tech,sports,travel,fashion', '2024-11-27 06:02:51.154232', 8, 'Rain', 31.7, 4.46], ['VF065U', 'Down-sized multi-tasking projection Sports & Fitness in Dubai', 'Sports & Fitness', 25.298667508525583, 55.55393838235416, 'Dubai', '2025-10-04 10:42:28.123111', 360, 'Clear', 35.5, 0.0, 7.480084047385197, False, 'VP272Y', 'RP990T', 'no', '2025-09-20 09:40:44.014348', 54.34858753690688, 0, 25.54917501812748, 55.089433692683954, 'Dubai', 'outdoor', 39, 'cinema,sports', '2024-06-07 00:08:33.704266', 11, 'Clear', 37.0, 0.0], ['VF065U', 'Down-sized multi-tasking projection Sports & Fitness in Dubai', 'Sports & Fitness', 25.298667508525583, 55.55393838235416, 'Dubai', '2025-10-04 10:42:28.123111', 360, 'Clear', 35.5, 0.0, 7.480084047385197, False, 'RA128C', 'RG592J', 'maybe', '2025-09-14 12:13:13.703609', 10.84534467528094, 1, 25.201142971754145, 55.54448402881741, 'Dubai', 'indoor', 38, 'tech,sports', '2023-09-14 17:39:51.577130', 22, 'Clear', 34.7, 0.0], ['VF065U', 'Down-sized multi-tasking projection Sports & Fitness in Dubai', 'Sports & Fitness', 25.298667508525583, 55.55393838235416, 'Dubai', '2025-10-04 10:42:28.123111', 360, 'Clear', 35.5, 0.0, 7.480084047385197, False, 'NP978I', 'VM619T', 'maybe', '2025-09-29 08:43:58.012737', 56.86876065803254, 1, 24.786767403716095, 55.51120021418049, 'Dubai', 'indoor', 28, 'travel,fitness,food', '2024-08-12 19:34:18.865861', 16, 'Clear', 36.8, 0.0], ['VF065U', 'Down-sized multi-tasking projection Sports & Fitness in Dubai', 'Sports & Fitness', 25.298667508525583, 55.55393838235416, 'Dubai', '2025-10-04 10:42:28.123111', 360, 'Clear', 35.5, 0.0, 7.480084047385197, False, 'XW143C', 'OU641D', 'invited', '2025-09-23 18:32:09.518218', 26.493066797803444, 0, 25.07210659840908, 55.469756476274135, 'Dubai', 'outdoor', 28, 'cinema,food', '2024-03-19 10:35:27.130761', 15, 'Clear', 34.5, 0.0], ['VF065U', 'Down-sized multi-tasking projection Sports & Fitness in Dubai', 'Sports & Fitness', 25.298667508525583, 55.55393838235416, 'Dubai', '2025-10-04 10:42:28.123111', 360, 'Clear', 35.5, 0.0, 7.480084047385197, False, 'XB239H', 'UO701K', 'yes', '2025-09-11 14:32:34.938248', 51.40203571110796, 1, 25.23142070915986, 55.04904242566545, 'Dubai', 'indoor', 28, 'art,fitness', '2024-08-30 01:30:54.866044', 7, 'Clear', 35.4, 0.0], ['VF065U', 'Down-sized multi-tasking projection Sports & Fitness in Dubai', 'Sports & Fitness', 25.298667508525583, 55.55393838235416, 'Dubai', '2025-10-04 10:42:28.123111', 360, 'Clear', 35.5, 0.0, 7.480084047385197, False, 'OY115J', 'IW330O', 'invited & maybe', '2025-09-09 15:59:56.564509', 79.70465591683448, 1, 25.60578246624223, 54.83728807447302, 'Dubai', 'any', 24, 'travel,music', '2023-08-16 01:34:50.758778', 12, 'Windy', 30.4, 0.23], ['VF065U', 'Down-sized multi-tasking projection Sports & Fitness in Dubai', 'Sports & Fitness', 25.298667508525583, 55.55393838235416, 'Dubai', '2025-10-04 10:42:28.123111', 360, 'Clear', 35.5, 0.0, 7.480084047385197, False, 'BN293E', 'DT087R', 'maybe', '2025-10-03 05:03:26.321704', 24.049580728703432, 1, 25.51320140303112, 55.59054640014802, 'Dubai', 'any', 31, 'fitness,travel', '2023-08-26 22:50:11.824538', 20, 'Clear', 36.7, 0.0], ['VF065U', 'Down-sized multi-tasking projection Sports & Fitness in Dubai', 'Sports & Fitness', 25.298667508525583, 55.55393838235416, 'Dubai', '2025-10-04 10:42:28.123111', 360, 'Clear', 35.5, 0.0, 7.480084047385197, False, 'HV163Y', 'CM109E', 'invited & no', '2025-09-07 00:51:10.807976', 63.03776230282719, 0, 24.856779076314467, 55.16022670508209, 'Dubai', 'any', 31, 'fashion,fitness,art,food', '2024-03-24 02:17:08.598669', 16, 'Rain', 29.2, 18.58], ['VF065U', 'Down-sized multi-tasking projection Sports & Fitness in Dubai', 'Sports & Fitness', 25.298667508525583, 55.55393838235416, 'Dubai', '2025-10-04 10:42:28.123111', 360, 'Clear', 35.5, 0.0, 7.480084047385197, False, 'IM563U', 'IU640Q', 'yes', '2025-10-02 23:30:57.069617', 22.793354760274607, 1, 25.492899055468957, 55.62868278103252, 'Dubai', 'indoor', 29, 'music,fashion', '2024-01-24 08:28:06.016659', 19, 'Clear', 36.7, 0.0], ['VF065U', 'Down-sized multi-tasking projection Sports & Fitness in Dubai', 'Sports & Fitness', 25.298667508525583, 55.55393838235416, 'Dubai', '2025-10-04 10:42:28.123111', 360, 'Clear', 35.5, 0.0, 7.480084047385197, False, 'DS662R', 'AW148N', 'yes', '2025-09-23 11:32:10.339447', 68.510423721803, 1, 24.966704661928752, 54.98071010804351, 'Dubai', 'outdoor', 36, 'food,travel,literature,tech', '2023-10-27 08:08:31.729886', 24, 'Clear', 35.7, 0.0], ['VF065U', 'Down-sized multi-tasking projection Sports & Fitness in Dubai', 'Sports & Fitness', 25.298667508525583, 55.55393838235416, 'Dubai', '2025-10-04 10:42:28.123111', 360, 'Clear', 35.5, 0.0, 7.480084047385197, False, 'KA893A', 'OW264O', 'yes', '2025-09-19 18:55:06.491212', 36.39482291694437, 1, 25.619183555165087, 55.63339528267275, 'Dubai', 'outdoor', 27, 'music,art,literature', '2024-11-17 19:20:17.333952', 15, 'Clear', 34.1, 0.0], ['VF065U', 'Down-sized multi-tasking projection Sports & Fitness in Dubai', 'Sports & Fitness', 25.298667508525583, 55.55393838235416, 'Dubai', '2025-10-04 10:42:28.123111', 360, 'Clear', 35.5, 0.0, 7.480084047385197, False, 'HL745I', 'II063C', 'yes', '2025-09-17 06:26:20.180493', 78.66902638949266, 1, 25.133828763542983, 54.79459960052494, 'Dubai', 'any', 36, 'cinema,tech,music,art', '2024-04-02 15:13:59.631184', 22, 'Cloudy', 33.2, 0.48], ['VF065U', 'Down-sized multi-tasking projection Sports & Fitness in Dubai', 'Sports & Fitness', 25.298667508525583, 55.55393838235416, 'Dubai', '2025-10-04 10:42:28.123111', 360, 'Clear', 35.5, 0.0, 7.480084047385197, False, 'WB645T', 'PA158P', 'maybe', '2025-10-01 07:59:12.245089', 55.72285094138112, 1, 25.01908039967322, 55.09447533357061, 'Dubai', 'outdoor', 46, 'art,fashion,travel,fitness', '2023-09-16 14:54:51.176077', 19, 'Clear', 36.5, 0.0], ['VF065U', 'Down-sized multi-tasking projection Sports & Fitness in Dubai', 'Sports & Fitness', 25.298667508525583, 55.55393838235416, 'Dubai', '2025-10-04 10:42:28.123111', 360, 'Clear', 35.5, 0.0, 7.480084047385197, False, 'FY180E', 'KD033C', 'maybe', '2025-10-02 08:07:50.974265', 83.5772913328171, 1, 24.75434900165784, 54.98050422287912, 'Dubai', 'indoor', 38, 'sports,cinema,fashion', '2023-11-03 13:04:51.495682', 21, 'Clear', 34.9, 0.0], ['VF065U', 'Down-sized multi-tasking projection Sports & Fitness in Dubai', 'Sports & Fitness', 25.298667508525583, 55.55393838235416, 'Dubai', '2025-10-04 10:42:28.123111', 360, 'Clear', 35.5, 0.0, 7.480084047385197, False, 'BM846T', 'TT349S', 'maybe', '2025-09-21 06:05:57.120064', 51.15783273464907, 1, 25.1711358186779, 55.0659489399077, 'Dubai', 'indoor', 42, 'fashion,music,art,food', '2023-12-06 08:07:57.683487', 14, 'Snow', 28.2, 9.66], ['VF065U', 'Down-sized multi-tasking projection Sports & Fitness in Dubai', 'Sports & Fitness', 25.298667508525583, 55.55393838235416, 'Dubai', '2025-10-04 10:42:28.123111', 360, 'Clear', 35.5, 0.0, 7.480084047385197, False, 'RX459A', 'TM559E', 'yes', '2025-09-23 16:19:31.610295', 8.841420811578477, 1, 25.33762987934995, 55.630573813737016, 'Dubai', 'any', 42, 'cinema,literature,art,travel', '2023-10-06 05:48:53.788345', 15, 'Clear', 36.0, 0.0], ['VF065U', 'Down-sized multi-tasking projection Sports & Fitness in Dubai', 'Sports & Fitness', 25.298667508525583, 55.55393838235416, 'Dubai', '2025-10-04 10:42:28.123111', 360, 'Clear', 35.5, 0.0, 7.480084047385197, False, 'DS126X', 'AN676C', 'no', '2025-09-28 18:25:34.614110', 43.13489640254003, 0, 25.0937296713642, 55.19003587343926, 'Dubai', 'outdoor', 80, 'literature,fashion,food', '2023-08-19 09:06:59.628332', 8, 'Clear', 36.3, 0.0], ['VF065U', 'Down-sized multi-tasking projection Sports & Fitness in Dubai', 'Sports & Fitness', 25.298667508525583, 55.55393838235416, 'Dubai', '2025-10-04 10:42:28.123111', 360, 'Clear', 35.5, 0.0, 7.480084047385197, False, 'DP871U', 'LC044R', 'maybe', '2025-09-21 07:33:57.381880', 33.0706755735789, 1, 25.05937294761208, 55.75009904227718, 'Dubai', 'outdoor', 45, 'travel,fitness,literature', '2023-12-21 17:08:49.131239', 16, 'Clear', 36.5, 0.0], ['VF065U', 'Down-sized multi-tasking projection Sports & Fitness in Dubai', 'Sports & Fitness', 25.298667508525583, 55.55393838235416, 'Dubai', '2025-10-04 10:42:28.123111', 360, 'Clear', 35.5, 0.0, 7.480084047385197, False, 'PI191N', 'GR853Z', 'yes', '2025-09-25 18:58:00.071124', 20.37914008804604, 1, 25.43217764510835, 55.69323513109892, 'Dubai', 'outdoor', 34, 'art,literature,cinema,food', '2024-02-03 06:08:05.320831', 12, 'Cloudy', 32.1, 0.48], ['VF065U', 'Down-sized multi-tasking projection Sports & Fitness in Dubai', 'Sports & Fitness', 25.298667508525583, 55.55393838235416, 'Dubai', '2025-10-04 10:42:28.123111', 360, 'Clear', 35.5, 0.0, 7.480084047385197, False, 'OI934X', 'ZV123I', 'yes', '2025-09-15 21:05:35.796111', 7.992775294850369, 1, 25.22771467497943, 55.53953216433753, 'Dubai', 'outdoor', 44, 'fashion,art,sports', '2025-01-26 10:02:27.602548', 9, 'Clear', 34.6, 0.0], ['VF065U', 'Down-sized multi-tasking projection Sports & Fitness in Dubai', 'Sports & Fitness', 25.298667508525583, 55.55393838235416, 'Dubai', '2025-10-04 10:42:28.123111', 360, 'Clear', 35.5, 0.0, 7.480084047385197, False, 'AE694R', 'VR503U', 'yes', '2025-10-03 13:00:52.119576', 71.93655631822412, 1, 25.677321463892067, 54.97271502441583, 'Dubai', 'any', 56, 'fitness,travel,tech,music', '2023-06-25 07:16:44.631687', 11, 'Rain', 30.3, 6.46], ['VF065U', 'Down-sized multi-tasking projection Sports & Fitness in Dubai', 'Sports & Fitness', 25.298667508525583, 55.55393838235416, 'Dubai', '2025-10-04 10:42:28.123111', 360, 'Clear', 35.5, 0.0, 7.480084047385197, False, 'FE333S', 'ZF646C', 'invited & yes', '2025-09-25 04:30:44.782033', 6.230199518206539, 1, 25.327222359085017, 55.60724335116809, 'Dubai', 'outdoor', 62, 'fashion,literature', '2025-04-03 05:09:31.512795', 8, 'Clear', 35.3, 0.0], ['VF065U', 'Down-sized multi-tasking projection Sports & Fitness in Dubai', 'Sports & Fitness', 25.298667508525583, 55.55393838235416, 'Dubai', '2025-10-04 10:42:28.123111', 360, 'Clear', 35.5, 0.0, 7.480084047385197, False, 'TG078A', 'FW892L', 'invited & no', '2025-09-29 11:26:27.353425', 9.479236665701851, 0, 25.26160587725251, 55.63876774267657, 'Dubai', 'outdoor', 36, 'food,art', '2024-11-16 21:56:54.612805', 10, 'Rain', 30.3, 10.73]], 'event_ids': ['FS955S', 'CM824R', 'CR399H', 'TW818N', 'VF065U', 'OH995L', 'PA960E', 'QX017G', 'TO649I', 'YL323F']}]}\n",
      "{'ranking': [(0.7477759193188089, 'PA960E'), (0.7477759193188089, 'QX017G'), (0.746117673515651, 'VF065U'), (0.7451593494187885, 'CR399H'), (0.7379823013777203, 'TO649I'), (0.6494215748700011, 'OH995L'), (0.6486770310933445, 'TW818N'), (0.6482561737126108, 'CM824R'), (0.6478000401856717, 'FS955S'), (0.6427637206460111, 'YL323F')]}\n"
     ]
    }
   ],
   "source": [
    "import pandas as pd\n",
    "import numpy as np\n",
    "import joblib\n",
    "import os\n",
    "from catboost import Pool\n",
    "\n",
    "inputs = {\n",
    "  \"instances\": [\n",
    "    [\n",
    "      {\n",
    "        \"user_id\": \"OX425G\",\n",
    "        \"query_emb\": [0.214135289, 0.571055949, 0.330709577, -0.225899458, -0.308674961, \n",
    "        -0.0115124583, 0.0730511621, -0.495835781, 0.625569344, -0.0438038409, \n",
    "        0.263472944, -0.58485353, -0.307070434, 0.0414443575, -0.321789205, \n",
    "        0.966559, 0.127463, -0.392714, 0.845132, -0.512387, 0.253901, \n",
    "        -0.764589, 0.431267, 0.087342, -0.629045, 0.318976, -0.146782, \n",
    "        0.573921, -0.087625, 0.934261, -0.271843, 0.652197]\n",
    "      }\n",
    "    ]\n",
    "  ]\n",
    "}\n",
    "\n",
    "# Extract the input instance\n",
    "inputs = inputs[\"instances\"][0][0]\n",
    "\n",
    "# Extract customer_id from inputs\n",
    "user_id = inputs[\"user_id\"]\n",
    "\n",
    "# Search for candidate items\n",
    "neighbors = candidate_index.find_neighbors(\n",
    "    inputs[\"query_emb\"], \n",
    "    k=10,\n",
    ")\n",
    "neighbors = [neighbor[0] for neighbor in neighbors]\n",
    "print(neighbors)\n",
    "\n",
    "event_id_list = [\n",
    "    event_id\n",
    "    for event_id \n",
    "    in neighbors \n",
    "]\n",
    "event_id_df = pd.DataFrame({\"event_id\" : event_id_list})\n",
    "print(\"creating event data...\")\n",
    "\n",
    "events_df = (\n",
    "    events_fv.get_batch_data(\n",
    "        # start_time=\"20250101\",\n",
    "        # end_time=\"20250624\",\n",
    "        primary_key=True,\n",
    "        event_time=True,\n",
    "        read_options={\"use_arrow_flight\": True}\n",
    "    )\n",
    ")\n",
    "events_data_df = events_df[events_df[\"event_id\"].isin(event_id_list)]\n",
    "\n",
    "# Add customer features\n",
    "user_data_df = (\n",
    "    users_fv.get_batch_data(\n",
    "        primary_key=True,\n",
    "        read_options={\"use_arrow_flight\": True}\n",
    "    )\n",
    ")\n",
    "\n",
    "# Add interactions features\n",
    "interaction_data_df = (\n",
    "    interactions_fv.get_batch_data(\n",
    "        primary_key=True,\n",
    "        read_options={\"use_arrow_flight\": True}\n",
    "    )\n",
    ")\n",
    "\n",
    "# get ranking features\n",
    "ranking_model_inputs = events_data_df.merge(interaction_data_df, on=\"event_id\").\\\n",
    "  merge(user_data_df, on=\"user_id\")\n",
    "\n",
    "# Select only the features required by the ranking model\n",
    "#ranking_model_inputs = ranking_model_inputs[weather_ranking_model_feature_names]\n",
    "# display(ranking_model_inputs.head()) \n",
    "inputs = { \n",
    "            \"inputs\" : [{\"ranking_features\": ranking_model_inputs.values.tolist(), \"event_ids\": event_id_list}]\n",
    "        }\n",
    "print(inputs)\n",
    "\n",
    "\n",
    "# Load the pre-trained model\n",
    "os.environ['ARTIFACT_FILES_PATH'] = '/home/nkama/masters_thesis_project/thesis/models'\n",
    "\n",
    "model = joblib.load(os.environ[\"ARTIFACT_FILES_PATH\"] + \"/weather_ranking_model.pkl\")\n",
    "\n",
    "model_feature_names = model.feature_names_\n",
    "\n",
    "# Align prediction data columns with model's feature names\n",
    "ranking_model_inputs = ranking_model_inputs[model_feature_names]\n",
    "\n",
    "# and 'event_id_list' contains the corresponding event IDs\n",
    "categorical_features = ranking_model_inputs.select_dtypes(include=[\"object\", \"bool\"]).columns.tolist()\n",
    "\n",
    "pool_features = Pool(data=ranking_model_inputs, cat_features=categorical_features)\n",
    "\n",
    "# Predict probabilities for the positive class\n",
    "probabilities = model.predict_proba(pool_features)\n",
    "\n",
    "# Extract the probability of the positive class\n",
    "positive_class_index = list(model.classes_).index(1)\n",
    "scores = probabilities[:, positive_class_index]\n",
    "\n",
    "# Pair each score with its corresponding event ID\n",
    "ranking = list(zip(scores, event_id_list))\n",
    "\n",
    "# Sort the ranking in descending order of scores\n",
    "ranking.sort(key=lambda x: x[0], reverse=True)\n",
    "\n",
    "# Prepare the final output\n",
    "rank = {\n",
    "    \"ranking\": ranking\n",
    "}\n",
    "\n",
    "print(rank)\n"
   ]
  },
  {
   "cell_type": "markdown",
   "metadata": {},
   "source": [
    "## <span style=\"color:#ff5f27\">🚀 Ranking Model Deployment </span>\n"
   ]
  },
  {
   "cell_type": "markdown",
   "metadata": {},
   "source": [
    "\n",
    "Since the ranking model is a CatBoost model we need to implement a `Predict` class that tells Hopsworks how to load the model and how to use it.\n"
   ]
  },
  {
   "cell_type": "markdown",
   "metadata": {},
   "source": [
    "### Weather model"
   ]
  },
  {
   "cell_type": "code",
   "execution_count": 111,
   "metadata": {},
   "outputs": [
    {
     "name": "stdout",
     "output_type": "stream",
     "text": [
      "Overwriting weather_ranking_transformer.py\n"
     ]
    }
   ],
   "source": [
    "%%writefile weather_ranking_transformer.py\n",
    "# weather_ranking_transformer.py\n",
    "import os\n",
    "import pandas as pd\n",
    "import hopsworks\n",
    "from datetime import datetime\n",
    "\n",
    "class Transformer:\n",
    "\n",
    "    def __init__(self):\n",
    "        project = hopsworks.connection().get_project()\n",
    "        self.fs = project.get_feature_store()\n",
    "\n",
    "        # Feature Views\n",
    "        self.events_fv       = self.fs.get_feature_view(name=\"events\",               version=1)\n",
    "        self.users_fv        = self.fs.get_feature_view(name=\"users\",                version=1)\n",
    "        self.interactions_fv = self.fs.get_feature_view(name=\"interactions\",         version=1)\n",
    "        self.candidate_index = self.fs.get_feature_view(name=\"candidate_embeddings\", version=1)\n",
    "\n",
    "        # Model schema\n",
    "        mr = project.get_model_registry()\n",
    "        model = mr.get_best_model(\n",
    "            name=\"weather_ranking_model\",\n",
    "            metric=\"fscore\",\n",
    "            direction=\"max\"\n",
    "        )\n",
    "        schema = model.model_schema[\"input_schema\"][\"columnar_schema\"]\n",
    "        self.feature_names = [f[\"name\"] for f in schema]\n",
    "\n",
    "    def preprocess(self, inputs):\n",
    "        # Unpack two nested lists to get the payload dict\n",
    "        inst      = inputs[\"instances\"][0][0]\n",
    "        query_emb = inst[\"query_emb\"]\n",
    "\n",
    "        # 1) k-NN retrieval of candidate event IDs\n",
    "        neighbors = self.candidate_index.find_neighbors(query_emb, k=100)\n",
    "        event_ids = [n[0] for n in neighbors]\n",
    "\n",
    "        # 2) Batch fetch, parse times, and filter out past events\n",
    "        events_df = self.events_fv.get_batch_data(\n",
    "            primary_key=True,\n",
    "            event_time=True,\n",
    "            read_options={\"use_arrow_flight\": True}\n",
    "        )\n",
    "        events_df[\"start_time\"] = pd.to_datetime(events_df[\"start_time\"])\n",
    "        now       = pd.Timestamp(datetime.utcnow())\n",
    "        future    = events_df[events_df[\"start_time\"] >= now]\n",
    "        candidates_df = future[future[\"event_id\"].isin(event_ids)]\n",
    "\n",
    "        # 3) Batch fetch user & interaction features\n",
    "        user_df = self.users_fv.get_batch_data(\n",
    "            primary_key=True,\n",
    "            read_options={\"use_arrow_flight\": True}\n",
    "        )\n",
    "        int_df  = self.interactions_fv.get_batch_data(\n",
    "            primary_key=True,\n",
    "            read_options={\"use_arrow_flight\": True}\n",
    "        )\n",
    "\n",
    "        # 4) Assemble DataFrame\n",
    "        rank_df = (\n",
    "            candidates_df\n",
    "            .merge(int_df, on=\"event_id\")\n",
    "            .merge(user_df, on=\"user_id\")\n",
    "        )[self.feature_names]\n",
    "\n",
    "        # 5) Return under \"inputs\" for the Predictor\n",
    "        return {\n",
    "            \"inputs\": [{\n",
    "                \"ranking_features\": rank_df.values.tolist(),\n",
    "                \"event_ids\":        candidates_df[\"event_id\"].tolist()\n",
    "            }]\n",
    "        }\n",
    "\n",
    "    def postprocess(self, outputs):\n",
    "        # outputs is the Predictor’s return value\n",
    "        return outputs\n",
    "\n",
    "\n"
   ]
  },
  {
   "cell_type": "code",
   "execution_count": 112,
   "metadata": {},
   "outputs": [
    {
     "name": "stdout",
     "output_type": "stream",
     "text": [
      "Overwriting weather_ranking_predictor.py\n"
     ]
    }
   ],
   "source": [
    "%%writefile weather_ranking_predictor.py\n",
    "\n",
    "# weather_ranking_predictor.py\n",
    "import os\n",
    "import joblib\n",
    "import pandas as pd\n",
    "from catboost import Pool\n",
    "\n",
    "class Predict:\n",
    "\n",
    "    def __init__(self):\n",
    "        model_dir = os.environ[\"MODEL_FILES_PATH\"]\n",
    "        self.model = joblib.load(os.path.join(model_dir, \"weather_ranking_model.pkl\"))\n",
    "        self.feature_names = self.model.feature_names_\n",
    "\n",
    "    def predict(self, inputs):\n",
    "        # --- Fix is here: unpack from inputs[\"inputs\"][0], not inputs[0] ---\n",
    "        batch     = inputs[\"inputs\"][0]\n",
    "        features  = batch[\"ranking_features\"]\n",
    "        event_ids = batch[\"event_ids\"]\n",
    "\n",
    "        # Construct DataFrame with correct columns\n",
    "        df = pd.DataFrame(features, columns=self.feature_names)\n",
    "\n",
    "        # Cast categorical columns to string\n",
    "        cat_cols = df.select_dtypes(include=[\"object\", \"bool\"]).columns.tolist()\n",
    "        for c in cat_cols:\n",
    "            df[c] = df[c].astype(str)\n",
    "\n",
    "        # Create Pool & score\n",
    "        pool  = Pool(data=df, cat_features=cat_cols)\n",
    "        probs = self.model.predict_proba(pool)\n",
    "        pos_idx = list(self.model.classes_).index(1)\n",
    "        scores  = probs[:, pos_idx].tolist()\n",
    "\n",
    "        # Return final outputs\n",
    "        return {\n",
    "            \"scores\":    scores,\n",
    "            \"event_ids\": event_ids\n",
    "        }\n",
    "\n",
    "\n",
    "\n"
   ]
  },
  {
   "cell_type": "code",
   "execution_count": 113,
   "metadata": {},
   "outputs": [
    {
     "name": "stdout",
     "output_type": "stream",
     "text": [
      "2025-06-25 18:20:25,304 INFO: Closing external client and cleaning up certificates.\n",
      "Connection closed.\n",
      "2025-06-25 18:20:25,319 INFO: Initializing external client\n",
      "2025-06-25 18:20:25,322 INFO: Base URL: https://c.app.hopsworks.ai:443\n",
      "2025-06-25 18:20:26,683 INFO: Python Engine initialized.\n",
      "\n",
      "Logged in to project, explore it here https://c.app.hopsworks.ai:443/p/1220788\n"
     ]
    },
    {
     "data": {
      "application/vnd.jupyter.widget-view+json": {
       "model_id": "817feff22b00417bba8982dd9c00e368",
       "version_major": 2,
       "version_minor": 0
      },
      "text/plain": [
       "Uploading /home/nkama/masters_thesis_project/thesis/notebooks/weather_ranking_transformer.py: 0.000%|         …"
      ]
     },
     "metadata": {},
     "output_type": "display_data"
    },
    {
     "data": {
      "application/vnd.jupyter.widget-view+json": {
       "model_id": "82ac83b9c18341e8b81042deb2416322",
       "version_major": 2,
       "version_minor": 0
      },
      "text/plain": [
       "Uploading /home/nkama/masters_thesis_project/thesis/notebooks/weather_ranking_predictor.py: 0.000%|          |…"
      ]
     },
     "metadata": {},
     "output_type": "display_data"
    },
    {
     "name": "stdout",
     "output_type": "stream",
     "text": [
      "Deployment created, explore it at https://c.app.hopsworks.ai:443/p/1220788/deployments/377886\n",
      "Before making predictions, start the deployment by using `.start()`\n"
     ]
    }
   ],
   "source": [
    "# deploy_event_recsys.py\n",
    "import os\n",
    "import hopsworks\n",
    "from hsml.transformer import Transformer\n",
    "\n",
    "# Login to Hopsworks\n",
    "project = hopsworks.login()\n",
    "dataset_api = project.get_dataset_api()\n",
    "mr = project.get_model_registry()\n",
    "\n",
    "# === Upload Scripts to Hopsworks ===\n",
    "\n",
    "# Upload transformer script\n",
    "uploaded_transformer_path = dataset_api.upload(\n",
    "    \"weather_ranking_transformer.py\",\n",
    "    \"Resources\",\n",
    "    overwrite=True,\n",
    ")\n",
    "\n",
    "# Upload predictor script\n",
    "uploaded_predictor_path = dataset_api.upload(\n",
    "    \"weather_ranking_predictor.py\",\n",
    "    \"Resources\",\n",
    "    overwrite=True,\n",
    ")\n",
    "\n",
    "# Build absolute script paths for deployment\n",
    "transformer_script_path = os.path.join(\"/Projects\", project.name, uploaded_transformer_path)\n",
    "predictor_script_path = os.path.join(\"/Projects\", project.name, uploaded_predictor_path)\n",
    "\n",
    "# === Retrieve Ranking Model ===\n",
    "ranking_model = mr.get_best_model(\n",
    "    name=\"weather_ranking_model\",\n",
    "    metric=\"fscore\",\n",
    "    direction=\"max\"\n",
    ")\n",
    "\n",
    "# === Define Transformer ===\n",
    "ranking_transformer = Transformer(\n",
    "    script_file=transformer_script_path,\n",
    "    resources={\"num_instances\": 0},\n",
    ")\n",
    "\n",
    "# === Deploy Model ===\n",
    "ranking_deployment_name = \"weatherrankingdeployment\"\n",
    "weather_ranking_deployment = ranking_model.deploy(\n",
    "    name=ranking_deployment_name,\n",
    "    description=\"Deployment that retrieves and scores candidate events for a user\",\n",
    "    script_file=predictor_script_path,\n",
    "    resources={\"num_instances\": 0},\n",
    "    transformer=ranking_transformer,\n",
    ")\n"
   ]
  },
  {
   "cell_type": "code",
   "execution_count": 114,
   "metadata": {},
   "outputs": [
    {
     "data": {
      "application/vnd.jupyter.widget-view+json": {
       "model_id": "d1ffbdd8dee24a469500b642c5b39959",
       "version_major": 2,
       "version_minor": 0
      },
      "text/plain": [
       "  0%|          | 0/6 [00:00<?, ?it/s]"
      ]
     },
     "metadata": {},
     "output_type": "display_data"
    },
    {
     "name": "stdout",
     "output_type": "stream",
     "text": [
      "Start making predictions by using `.predict()`\n"
     ]
    }
   ],
   "source": [
    "# Start the deployment\n",
    "weather_ranking_deployment.start()"
   ]
  },
  {
   "cell_type": "code",
   "execution_count": null,
   "metadata": {},
   "outputs": [],
   "source": [
    "# Test the Deployment \n",
    "def get_top_recommendations(ranked_candidates, k=3):\n",
    "    return [candidate[-1] for candidate in ranked_candidates['ranking'][:k]]\n",
    "\n",
    "# Example input to test the deployment\n",
    "test_input = {\n",
    "    \"instances\": [[{\n",
    "        \"user_id\": \"OX425G\",\n",
    "        \"query_emb\": [0.214135289, 0.571055949, 0.330709577, -0.225899458,\n",
    "                       -0.308674961, -0.0115124583, 0.0730511621, -0.495835781,\n",
    "                       0.625569344, -0.0438038409, 0.263472944, -0.58485353,\n",
    "                       -0.307070434, 0.0414443575, -0.321789205, 0.966559,\n",
    "                       0.127463, -0.392714, 0.845132, -0.512387, 0.253901,\n",
    "                       -0.764589, 0.431267, 0.087342, -0.629045, 0.318976,\n",
    "                       -0.146782, 0.573921, -0.087625, 0.934261, -0.271843, 0.652197]\n",
    "    }]]\n",
    "}\n",
    "\n",
    "# Predict\n",
    "ranked_output = weather_ranking_deployment.predict(test_input)\n",
    "recommendations = get_top_recommendations(ranked_output, k=3)\n",
    "\n",
    "print(\"Top recommended events:\", recommendations)\n"
   ]
  },
  {
   "cell_type": "code",
   "execution_count": null,
   "metadata": {},
   "outputs": [],
   "source": []
  },
  {
   "cell_type": "code",
   "execution_count": null,
   "metadata": {},
   "outputs": [],
   "source": [
    "\n",
    "#ranking_deployment.get_logs(component=\"predictor\", tail=100)\n",
    "ranking_deployment.get_logs(component=\"transformer\", tail=100)\n"
   ]
  },
  {
   "cell_type": "code",
   "execution_count": null,
   "metadata": {},
   "outputs": [],
   "source": [
    "import os\n",
    "\n",
    "\n",
    "# Set the environment variable\n",
    "os.environ['ARTIFACT_FILES_PATH'] = '/home/nkama/masters_thesis_project/thesis/models'\n",
    "\n",
    "# Optional: Verify that the variable is set\n",
    "print(os.environ.get('ARTIFACT_FILES_PATH'))\n",
    "\n",
    "model_path = os.path.join(os.environ[\"ARTIFACT_FILES_PATH\"], \"weather_ranking_model.pkl\")\n",
    "print(os.path.exists(model_path))  # Should return True\n",
    "\n"
   ]
  },
  {
   "cell_type": "markdown",
   "metadata": {},
   "source": [
    "### No-Weather Model"
   ]
  },
  {
   "cell_type": "code",
   "execution_count": null,
   "metadata": {},
   "outputs": [],
   "source": [
    "%%writefile no_weather_ranking_transformer.py\n",
    "# weather_ranking_transformer.py\n",
    "import os\n",
    "import pandas as pd\n",
    "import hopsworks\n",
    "from datetime import datetime\n",
    "\n",
    "class Transformer:\n",
    "\n",
    "    def __init__(self):\n",
    "        project = hopsworks.connection().get_project()\n",
    "        self.fs = project.get_feature_store()\n",
    "\n",
    "        # Feature Views\n",
    "        self.events_fv       = self.fs.get_feature_view(name=\"events\",               version=1)\n",
    "        self.users_fv        = self.fs.get_feature_view(name=\"users\",                version=1)\n",
    "        self.interactions_fv = self.fs.get_feature_view(name=\"interactions\",         version=1)\n",
    "        self.candidate_index = self.fs.get_feature_view(name=\"candidate_embeddings\", version=1)\n",
    "\n",
    "        # Model schema\n",
    "        mr = project.get_model_registry()\n",
    "        model = mr.get_best_model(\n",
    "            name=\"no_weather_ranking_model\",\n",
    "            metric=\"fscore\",\n",
    "            direction=\"max\"\n",
    "        )\n",
    "        schema = model.model_schema[\"input_schema\"][\"columnar_schema\"]\n",
    "        self.feature_names = [f[\"name\"] for f in schema]\n",
    "\n",
    "    def preprocess(self, inputs):\n",
    "        # Unpack two nested lists to get the payload dict\n",
    "        inst      = inputs[\"instances\"][0][0]\n",
    "        query_emb = inst[\"query_emb\"]\n",
    "\n",
    "        # 1) k-NN retrieval of candidate event IDs\n",
    "        neighbors = self.candidate_index.find_neighbors(query_emb, k=100)\n",
    "        event_ids = [n[0] for n in neighbors]\n",
    "\n",
    "        # 2) Batch fetch, parse times, and filter out past events\n",
    "        events_df = self.events_fv.get_batch_data(\n",
    "            primary_key=True,\n",
    "            event_time=True,\n",
    "            read_options={\"use_arrow_flight\": True}\n",
    "        )\n",
    "        events_df[\"start_time\"] = pd.to_datetime(events_df[\"start_time\"])\n",
    "        now       = pd.Timestamp(datetime.utcnow())\n",
    "        future    = events_df[events_df[\"start_time\"] >= now]\n",
    "        candidates_df = future[future[\"event_id\"].isin(event_ids)]\n",
    "\n",
    "        # 3) Batch fetch user & interaction features\n",
    "        user_df = self.users_fv.get_batch_data(\n",
    "            primary_key=True,\n",
    "            read_options={\"use_arrow_flight\": True}\n",
    "        )\n",
    "        int_df  = self.interactions_fv.get_batch_data(\n",
    "            primary_key=True,\n",
    "            read_options={\"use_arrow_flight\": True}\n",
    "        )\n",
    "\n",
    "        # 4) Assemble DataFrame\n",
    "        rank_df = (\n",
    "            candidates_df\n",
    "            .merge(int_df, on=\"event_id\")\n",
    "            .merge(user_df, on=\"user_id\")\n",
    "        )[self.feature_names]\n",
    "\n",
    "        # 5) Return under \"inputs\" for the Predictor\n",
    "        return {\n",
    "            \"inputs\": [{\n",
    "                \"ranking_features\": rank_df.values.tolist(),\n",
    "                \"event_ids\":        candidates_df[\"event_id\"].tolist()\n",
    "            }]\n",
    "        }\n",
    "\n",
    "    def postprocess(self, outputs):\n",
    "        # outputs is the Predictor’s return value\n",
    "        return outputs\n",
    "\n",
    "\n"
   ]
  },
  {
   "cell_type": "code",
   "execution_count": null,
   "metadata": {},
   "outputs": [],
   "source": [
    "%%writefile no_weather_ranking_predictor.py\n",
    "\n",
    "# weather_ranking_predictor.py\n",
    "import os\n",
    "import joblib\n",
    "import pandas as pd\n",
    "from catboost import Pool\n",
    "\n",
    "class Predict:\n",
    "\n",
    "    def __init__(self):\n",
    "        model_dir = os.environ[\"MODEL_FILES_PATH\"]\n",
    "        self.model = joblib.load(os.path.join(model_dir, \"no_weather_ranking_model.pkl\"))\n",
    "        self.feature_names = self.model.feature_names_\n",
    "\n",
    "    def predict(self, inputs):\n",
    "        # --- Fix is here: unpack from inputs[\"inputs\"][0], not inputs[0] ---\n",
    "        batch     = inputs[\"inputs\"][0]\n",
    "        features  = batch[\"ranking_features\"]\n",
    "        event_ids = batch[\"event_ids\"]\n",
    "\n",
    "        # Construct DataFrame with correct columns\n",
    "        df = pd.DataFrame(features, columns=self.feature_names)\n",
    "\n",
    "        # Cast categorical columns to string\n",
    "        cat_cols = df.select_dtypes(include=[\"object\", \"bool\"]).columns.tolist()\n",
    "        for c in cat_cols:\n",
    "            df[c] = df[c].astype(str)\n",
    "\n",
    "        # Create Pool & score\n",
    "        pool  = Pool(data=df, cat_features=cat_cols)\n",
    "        probs = self.model.predict_proba(pool)\n",
    "        pos_idx = list(self.model.classes_).index(1)\n",
    "        scores  = probs[:, pos_idx].tolist()\n",
    "\n",
    "        # Return final outputs\n",
    "        return {\n",
    "            \"scores\":    scores,\n",
    "            \"event_ids\": event_ids\n",
    "        }\n"
   ]
  },
  {
   "cell_type": "code",
   "execution_count": null,
   "metadata": {},
   "outputs": [],
   "source": [
    "# deploy no-weather event recsys\n",
    "import os\n",
    "import hopsworks\n",
    "from hsml.transformer import Transformer\n",
    "\n",
    "# Login to Hopsworks\n",
    "project = hopsworks.login()\n",
    "dataset_api = project.get_dataset_api()\n",
    "mr = project.get_model_registry()\n",
    "\n",
    "\n",
    "# Upload transformer script\n",
    "uploaded_transformer_path = dataset_api.upload(\n",
    "    \"no_weather_ranking_transformer.py\",\n",
    "    \"Resources\",\n",
    "    overwrite=True,\n",
    ")\n",
    "\n",
    "# Upload predictor script\n",
    "uploaded_predictor_path = dataset_api.upload(\n",
    "    \"no_weather_ranking_predictor.py\",\n",
    "    \"Resources\",\n",
    "    overwrite=True,\n",
    ")\n",
    "\n",
    "# Build absolute script paths for deployment\n",
    "transformer_script_path = os.path.join(\"/Projects\", project.name, uploaded_transformer_path)\n",
    "predictor_script_path = os.path.join(\"/Projects\", project.name, uploaded_predictor_path)\n",
    "\n",
    "# Retrieve Ranking Model \n",
    "ranking_model = mr.get_best_model(\n",
    "    name=\"no_weather_ranking_model\",\n",
    "    metric=\"fscore\",\n",
    "    direction=\"max\"\n",
    ")\n",
    "\n",
    "# Define Transformer \n",
    "ranking_transformer = Transformer(\n",
    "    script_file=transformer_script_path,\n",
    "    resources={\"num_instances\": 0},\n",
    ")\n",
    "\n",
    "# Deploy Model\n",
    "ranking_deployment_name = \"noweatherrankingdeployment\"\n",
    "no_weather_ranking_deployment = ranking_model.deploy(\n",
    "    name=ranking_deployment_name,\n",
    "    description=\"Deployment that retrieves and scores candidate events for a user\",\n",
    "    script_file=predictor_script_path,\n",
    "    resources={\"num_instances\": 0},\n",
    "    transformer=ranking_transformer,\n",
    ")\n"
   ]
  },
  {
   "cell_type": "code",
   "execution_count": null,
   "metadata": {},
   "outputs": [],
   "source": [
    "# Start the deployment\n",
    "no_weather_ranking_deployment.start()\n"
   ]
  },
  {
   "cell_type": "code",
   "execution_count": null,
   "metadata": {},
   "outputs": [],
   "source": [
    "# Test the Deployment\n",
    "def get_top_recommendations(ranked_candidates, k=3):\n",
    "    return [candidate[-1] for candidate in ranked_candidates['ranking'][:k]]\n",
    "\n",
    "# Example input to test the deployment\n",
    "test_input = {\n",
    "    \"instances\": [[{\n",
    "        \"user_id\": \"OX425G\",\n",
    "        \"query_emb\": [0.214135289, 0.571055949, 0.330709577, -0.225899458,\n",
    "                       -0.308674961, -0.0115124583, 0.0730511621, -0.495835781,\n",
    "                       0.625569344, -0.0438038409, 0.263472944, -0.58485353,\n",
    "                       -0.307070434, 0.0414443575, -0.321789205, 0.966559,\n",
    "                       0.127463, -0.392714, 0.845132, -0.512387, 0.253901,\n",
    "                       -0.764589, 0.431267, 0.087342, -0.629045, 0.318976,\n",
    "                       -0.146782, 0.573921, -0.087625, 0.934261, -0.271843, 0.652197]\n",
    "    }]]\n",
    "}\n",
    "\n",
    "# Predict\n",
    "ranked_output = no_weather_ranking_deployment.predict(test_input)\n",
    "recommendations = get_top_recommendations(ranked_output, k=3)\n",
    "\n",
    "print(\"Top recommended events:\", recommendations)\n"
   ]
  },
  {
   "cell_type": "markdown",
   "metadata": {},
   "source": [
    "# Query model Deployment"
   ]
  },
  {
   "cell_type": "code",
   "execution_count": 59,
   "metadata": {},
   "outputs": [],
   "source": [
    "# Retrieve the 'query_model' from the Model Registry\n",
    "query_model = mr.get_model(\n",
    "    name=\"query_model\",\n",
    "    version=1,\n",
    ")"
   ]
  },
  {
   "cell_type": "code",
   "execution_count": 146,
   "metadata": {},
   "outputs": [
    {
     "name": "stdout",
     "output_type": "stream",
     "text": [
      "Overwriting querymodel_transformer.py\n"
     ]
    }
   ],
   "source": [
    "%%writefile querymodel_transformer.py\n",
    "\n",
    "import os\n",
    "import numpy as np\n",
    "import pandas as pd\n",
    "from datetime import datetime\n",
    "\n",
    "import hopsworks\n",
    "\n",
    "import logging\n",
    "\n",
    "\n",
    "class Transformer(object):\n",
    "    \n",
    "    def __init__(self): \n",
    "        # Connect to the Hopsworks\n",
    "        project = hopsworks.connection().get_project()\n",
    "        ms = project.get_model_serving()\n",
    "        \n",
    "        # Retrieve the 'users' feature view\n",
    "        fs = project.get_feature_store()\n",
    "        self.users_fv = fs.get_feature_view(\n",
    "            name=\"users\", \n",
    "            version=1,\n",
    "        )\n",
    "        # Retrieve the ranking deployment \n",
    "        self.ranking_server = ms.get_deployment(\"weatherrankingdeployment\")\n",
    "        \n",
    "    \n",
    "    def preprocess(self, inputs):\n",
    "        # Check if the input data contains a key named \"instances\"\n",
    "        # and extract the actual data if present\n",
    "        inputs = inputs[\"instances\"] if \"instances\" in inputs else inputs\n",
    "\n",
    "        # Extract user_id from the inputs\n",
    "        user_id = inputs[\"user_id\"]\n",
    "\n",
    "        # Get user features\n",
    "        user_features = self.users_fv.get_feature_vector(\n",
    "            {\"user_id\": user_id}, \n",
    "            return_type=\"pandas\",\n",
    "        )\n",
    "\n",
    "        # Enrich inputs with user features\n",
    "        inputs[\"user_city\"] = user_features['user_city'].values[0]\n",
    "        inputs[\"age\"] = user_features['age'].values[0] \n",
    "        inputs[\"user_interests\"] = user_features['user_interests'].values[0]\n",
    "        \n",
    "        return {\n",
    "            \"instances\": [inputs]\n",
    "        }\n",
    "    \n",
    "    def postprocess(self, outputs):\n",
    "        # Return ordered ranking predictions\n",
    "        return {\n",
    "            \"predictions\": self.ranking_server.predict({\"instances\": outputs[\"predictions\"]}),\n",
    "        }\n"
   ]
  },
  {
   "cell_type": "code",
   "execution_count": 147,
   "metadata": {},
   "outputs": [
    {
     "data": {
      "application/vnd.jupyter.widget-view+json": {
       "model_id": "92fb2d67ddcc49809c390d4acc019c28",
       "version_major": 2,
       "version_minor": 0
      },
      "text/plain": [
       "Uploading /home/nkama/masters_thesis_project/thesis/notebooks/querymodel_transformer.py: 0.000%|          | 0/…"
      ]
     },
     "metadata": {},
     "output_type": "display_data"
    }
   ],
   "source": [
    "# Copy transformer file into Hopsworks File System\n",
    "uploaded_file_path = dataset_api.upload(\n",
    "    \"querymodel_transformer.py\", \n",
    "    \"Models\", \n",
    "    overwrite=True,\n",
    ")\n",
    "\n",
    "# Construct the path to the uploaded script\n",
    "transformer_script_path = os.path.join(\n",
    "    \"/Projects\", \n",
    "    project.name, \n",
    "    uploaded_file_path,\n",
    ")"
   ]
  },
  {
   "cell_type": "code",
   "execution_count": 148,
   "metadata": {},
   "outputs": [
    {
     "name": "stdout",
     "output_type": "stream",
     "text": [
      "Deployment created, explore it at https://c.app.hopsworks.ai:443/p/1220788/deployments/371731\n",
      "Before making predictions, start the deployment by using `.start()`\n"
     ]
    }
   ],
   "source": [
    "from hsml.transformer import Transformer\n",
    "\n",
    "query_model_deployment_name = \"querydeployment\"\n",
    "\n",
    "# Define transformer\n",
    "query_model_transformer=Transformer(\n",
    "    script_file=transformer_script_path, \n",
    "    resources={\"num_instances\": 0},\n",
    ")\n",
    "\n",
    "# Deploy the query model\n",
    "query_model_deployment = query_model.deploy(\n",
    "    name=query_model_deployment_name,\n",
    "    description=\"Deployment that generates query embeddings from user and event features using the query model\",\n",
    "    resources={\"num_instances\": 0},\n",
    "    transformer=query_model_transformer,\n",
    ")"
   ]
  },
  {
   "cell_type": "code",
   "execution_count": 150,
   "metadata": {},
   "outputs": [
    {
     "data": {
      "application/vnd.jupyter.widget-view+json": {
       "model_id": "d2ac7455e381452fb1e726d32e9208f5",
       "version_major": 2,
       "version_minor": 0
      },
      "text/plain": [
       "  0%|          | 0/6 [00:00<?, ?it/s]"
      ]
     },
     "metadata": {},
     "output_type": "display_data"
    },
    {
     "name": "stdout",
     "output_type": "stream",
     "text": [
      "Start making predictions by using `.predict()`\n"
     ]
    }
   ],
   "source": [
    "# Start the deployment\n",
    "query_model_deployment.start()"
   ]
  },
  {
   "cell_type": "code",
   "execution_count": 183,
   "metadata": {},
   "outputs": [
    {
     "name": "stdout",
     "output_type": "stream",
     "text": [
      "Explore all the logs and filters in the Kibana logs at https://c.app.hopsworks.ai:443/p/1220788/deployments/371733\n",
      "\n",
      "DeployableComponentLogs(instance_name: 'weatherrankingdeployment-predictor-00001-deployment-6bb688n8znf', date: datetime.datetime(2025, 5, 21, 23, 37, 16, 64328)) \n",
      "INFO:root:Loading component module...\n",
      "INFO:root:[PredictorModel] Initializing predictor for model: weatherrankingdeployment\n",
      "INFO:root:[HopsworksModel] Initializing for model: weatherrankingdeployment\n",
      "INFO:root:Artifact path contents: ['predictor-weather_ranking_predictor.py', 'transformer-simple_weather_transformer.py']\n",
      "INFO:root:Model path contents: ['weather_ranking_model.pkl']\n",
      "... execution time: 1.603723 seconds\n",
      "INFO:root:Starting KServe server...\n",
      "2025-05-21 21:36:33.556 8 kserve INFO [model_server.py:register_model():363] Registering model: weatherrankingdeployment\n",
      "2025-05-21 21:36:33.556 8 kserve INFO [model_server.py:start():298] Setting max asyncio worker threads as 12\n",
      "2025-05-21 21:36:33.557 8 kserve INFO [model_server.py:_serve_rest():244] Starting uvicorn with 1 workers\n",
      "2025-05-21 21:36:33.583 uvicorn.error INFO:     Started server process [8]\n",
      "2025-05-21 21:36:33.583 uvicorn.error INFO:     Waiting for application startup.\n",
      "2025-05-21 21:36:33.586 8 kserve INFO [server.py:start():68] Starting gRPC server on [::]:8081\n",
      "2025-05-21 21:36:33.586 uvicorn.error INFO:     Application startup complete.\n",
      "2025-05-21 21:36:33.586 uvicorn.error INFO:     Uvicorn running on http://0.0.0.0:8080 (Press CTRL+C to quit)\n",
      "INFO:root:Received request via 'v1 protocol'\n",
      "INFO:root:predict -> []\n",
      "2025-05-21 21:36:33.657 kserve.trace kserve.io.kserve.protocol.rest.v1_endpoints.predict: 0.0007293224334716797 ['http_status:500', 'http_method:POST', 'time:wall']\n",
      "2025-05-21 21:36:33.657 kserve.trace kserve.io.kserve.protocol.rest.v1_endpoints.predict: 0.0007189999999999142 ['http_status:500', 'http_method:POST', 'time:cpu']\n",
      "2025-05-21 21:36:33.657 8 kserve ERROR [errors.py:generic_exception_handler():123] Exception:\n",
      "Traceback (most recent call last):\n",
      "  File \"/serving/kserve_models.py\", line 328, in _do_predict\n",
      "    outputs = self._component.predict(inputs)\n",
      "  File \"/mnt/artifacts/predictor-weather_ranking_predictor.py\", line 28, in predict\n",
      "    scores = self.model.predict_proba(features).tolist()\n",
      "  File \"/srv/hops/anaconda/envs/hopsworks_environment/lib/python3.10/site-packages/catboost/core.py\", line 5314, in predict_proba\n",
      "    return self._predict(X, 'Probability', ntree_start, ntree_end, thread_count, verbose, 'predict_proba', task_type)\n",
      "  File \"/srv/hops/anaconda/envs/hopsworks_environment/lib/python3.10/site-packages/catboost/core.py\", line 2605, in _predict\n",
      "    data, data_is_single_object = self._process_predict_input_data(data, parent_method_name, thread_count)\n",
      "  File \"/srv/hops/anaconda/envs/hopsworks_environment/lib/python3.10/site-packages/catboost/core.py\", line 2585, in _process_predict_input_data\n",
      "    data = Pool(\n",
      "  File \"/srv/hops/anaconda/envs/hopsworks_environment/lib/python3.10/site-packages/catboost/core.py\", line 764, in __init__\n",
      "    self._check_data_empty(data)\n",
      "  File \"/srv/hops/anaconda/envs/hopsworks_environment/lib/python3.10/site-packages/catboost/core.py\", line 948, in _check_data_empty\n",
      "    raise CatBoostError(\"Input data must have at least one feature\")\n",
      "_catboost.CatBoostError: Input data must have at least one feature\n",
      "\n",
      "During handling of the above exception, another exception occurred:\n",
      "\n",
      "Traceback (most recent call last):\n",
      "  File \"/serving/kserve_models.py\", line 69, in sync_wrapper\n",
      "    return func(*args, **kwargs)\n",
      "  File \"/serving/kserve_models.py\", line 330, in _do_predict\n",
      "    raise InferenceError(str(e), status=HTTPStatus.INTERNAL_SERVER_ERROR)\n",
      "kserve.errors.InferenceError: <exception str() failed>\n",
      "2025-05-21 21:36:33.659 uvicorn.access INFO:     10.2.3.34:0 8 - \"POST /v1/models/weatherrankingdeployment%3Apredict HTTP/1.1\" 500 Internal Server Error\n",
      "\n",
      "The above exception was the direct cause of the following exception:\n",
      "\n",
      "Traceback (most recent call last):\n",
      "  File \"/srv/hops/anaconda/envs/hopsworks_environment/lib/python3.10/site-packages/starlette/middleware/errors.py\", line 165, in __call__\n",
      "    await self.app(scope, receive, _send)\n",
      "  File \"/srv/hops/anaconda/envs/hopsworks_environment/lib/python3.10/site-packages/timing_asgi/middleware.py\", line 70, in __call__\n",
      "    await self.app(scope, receive, send_wrapper)\n",
      "  File \"/srv/hops/anaconda/envs/hopsworks_environment/lib/python3.10/site-packages/starlette/middleware/exceptions.py\", line 62, in __call__\n",
      "    await wrap_app_handling_exceptions(self.app, conn)(scope, receive, send)\n",
      "  File \"/srv/hops/anaconda/envs/hopsworks_environment/lib/python3.10/site-packages/starlette/_exception_handler.py\", line 53, in wrapped_app\n",
      "    raise exc\n",
      "  File \"/srv/hops/anaconda/envs/hopsworks_environment/lib/python3.10/site-packages/starlette/_exception_handler.py\", line 42, in wrapped_app\n",
      "    await app(scope, receive, sender)\n",
      "  File \"/srv/hops/anaconda/envs/hopsworks_environment/lib/python3.10/site-packages/starlette/routing.py\", line 714, in __call__\n",
      "    await self.middleware_stack(scope, receive, send)\n",
      "  File \"/srv/hops/anaconda/envs/hopsworks_environment/lib/python3.10/site-packages/starlette/routing.py\", line 734, in app\n",
      "    await route.handle(scope, receive, send)\n",
      "  File \"/srv/hops/anaconda/envs/hopsworks_environment/lib/python3.10/site-packages/starlette/routing.py\", line 288, in handle\n",
      "    await self.app(scope, receive, send)\n",
      "  File \"/srv/hops/anaconda/envs/hopsworks_environment/lib/python3.10/site-packages/starlette/routing.py\", line 76, in app\n",
      "    await wrap_app_handling_exceptions(app, request)(scope, receive, send)\n",
      "  File \"/srv/hops/anaconda/envs/hopsworks_environment/lib/python3.10/site-packages/starlette/_exception_handler.py\", line 53, in wrapped_app\n",
      "    raise exc\n",
      "  File \"/srv/hops/anaconda/envs/hopsworks_environment/lib/python3.10/site-packages/starlette/_exception_handler.py\", line 42, in wrapped_app\n",
      "    await app(scope, receive, sender)\n",
      "  File \"/srv/hops/anaconda/envs/hopsworks_environment/lib/python3.10/site-packages/starlette/routing.py\", line 73, in app\n",
      "    response = await f(request)\n",
      "  File \"/srv/hops/anaconda/envs/hopsworks_environment/lib/python3.10/site-packages/fastapi/routing.py\", line 301, in app\n",
      "    raw_response = await run_endpoint_function(\n",
      "  File \"/srv/hops/anaconda/envs/hopsworks_environment/lib/python3.10/site-packages/fastapi/routing.py\", line 212, in run_endpoint_function\n",
      "    return await dependant.call(**values)\n",
      "  File \"/srv/hops/anaconda/envs/hopsworks_environment/lib/python3.10/site-packages/kserve/protocol/rest/v1_endpoints.py\", line 83, in predict\n",
      "    response, response_headers = await self.dataplane.infer(\n",
      "  File \"/srv/hops/anaconda/envs/hopsworks_environment/lib/python3.10/site-packages/kserve/protocol/dataplane.py\", line 374, in infer\n",
      "    response = await model(request, headers=headers)\n",
      "  File \"/srv/hops/anaconda/envs/hopsworks_environment/lib/python3.10/site-packages/kserve/model.py\", line 241, in __call__\n",
      "    else self.predict(payload, headers)\n",
      "  File \"/serving/kserve_models.py\", line 71, in sync_wrapper\n",
      "    parse_exception(err)\n",
      "  File \"/serving/kserve_models.py\", line 53, in parse_exception\n",
      "    raise tornado.web.HTTPError(\n",
      "tornado.web.HTTPError: HTTP 500: Input data must have at least one feature\n",
      "2025-05-21 21:36:33.659 uvicorn.error ERROR:    Exception in ASGI application\n",
      "Traceback (most recent call last):\n",
      "  File \"/serving/kserve_models.py\", line 328, in _do_predict\n",
      "    outputs = self._component.predict(inputs)\n",
      "  File \"/mnt/artifacts/predictor-weather_ranking_predictor.py\", line 28, in predict\n",
      "    scores = self.model.predict_proba(features).tolist()\n",
      "  File \"/srv/hops/anaconda/envs/hopsworks_environment/lib/python3.10/site-packages/catboost/core.py\", line 5314, in predict_proba\n",
      "    return self._predict(X, 'Probability', ntree_start, ntree_end, thread_count, verbose, 'predict_proba', task_type)\n",
      "  File \"/srv/hops/anaconda/envs/hopsworks_environment/lib/python3.10/site-packages/catboost/core.py\", line 2605, in _predict\n",
      "    data, data_is_single_object = self._process_predict_input_data(data, parent_method_name, thread_count)\n",
      "  File \"/srv/hops/anaconda/envs/hopsworks_environment/lib/python3.10/site-packages/catboost/core.py\", line 2585, in _process_predict_input_data\n",
      "    data = Pool(\n",
      "  File \"/srv/hops/anaconda/envs/hopsworks_environment/lib/python3.10/site-packages/catboost/core.py\", line 764, in __init__\n",
      "    self._check_data_empty(data)\n",
      "  File \"/srv/hops/anaconda/envs/hopsworks_environment/lib/python3.10/site-packages/catboost/core.py\", line 948, in _check_data_empty\n",
      "    raise CatBoostError(\"Input data must have at least one feature\")\n",
      "_catboost.CatBoostError: Input data must have at least one feature\n",
      "\n",
      "During handling of the above exception, another exception occurred:\n",
      "\n",
      "Traceback (most recent call last):\n",
      "  File \"/serving/kserve_models.py\", line 69, in sync_wrapper\n",
      "    return func(*args, **kwargs)\n",
      "  File \"/serving/kserve_models.py\", line 330, in _do_predict\n",
      "    raise InferenceError(str(e), status=HTTPStatus.INTERNAL_SERVER_ERROR)\n",
      "kserve.errors.InferenceError: <exception str() failed>\n",
      "\n",
      "The above exception was the direct cause of the following exception:\n",
      "\n",
      "Traceback (most recent call last):\n",
      "  File \"/srv/hops/anaconda/envs/hopsworks_environment/lib/python3.10/site-packages/uvicorn/protocols/http/httptools_impl.py\", line 436, in run_asgi\n",
      "    result = await app(  # type: ignore[func-returns-value]\n",
      "  File \"/srv/hops/anaconda/envs/hopsworks_environment/lib/python3.10/site-packages/uvicorn/middleware/proxy_headers.py\", line 78, in __call__\n",
      "    return await self.app(scope, receive, send)\n",
      "  File \"/srv/hops/anaconda/envs/hopsworks_environment/lib/python3.10/site-packages/fastapi/applications.py\", line 1054, in __call__\n",
      "    await super().__call__(scope, receive, send)\n",
      "  File \"/srv/hops/anaconda/envs/hopsworks_environment/lib/python3.10/site-packages/starlette/applications.py\", line 112, in __call__\n",
      "    await self.middleware_stack(scope, receive, send)\n",
      "  File \"/srv/hops/anaconda/envs/hopsworks_environment/lib/python3.10/site-packages/starlette/middleware/errors.py\", line 187, in __call__\n",
      "    raise exc\n",
      "  File \"/srv/hops/anaconda/envs/hopsworks_environment/lib/python3.10/site-packages/starlette/middleware/errors.py\", line 165, in __call__\n",
      "    await self.app(scope, receive, _send)\n",
      "  File \"/srv/hops/anaconda/envs/hopsworks_environment/lib/python3.10/site-packages/timing_asgi/middleware.py\", line 70, in __call__\n",
      "    await self.app(scope, receive, send_wrapper)\n",
      "  File \"/srv/hops/anaconda/envs/hopsworks_environment/lib/python3.10/site-packages/starlette/middleware/exceptions.py\", line 62, in __call__\n",
      "    await wrap_app_handling_exceptions(self.app, conn)(scope, receive, send)\n",
      "  File \"/srv/hops/anaconda/envs/hopsworks_environment/lib/python3.10/site-packages/starlette/_exception_handler.py\", line 53, in wrapped_app\n",
      "    raise exc\n",
      "  File \"/srv/hops/anaconda/envs/hopsworks_environment/lib/python3.10/site-packages/starlette/_exception_handler.py\", line 42, in wrapped_app\n",
      "    await app(scope, receive, sender)\n",
      "  File \"/srv/hops/anaconda/envs/hopsworks_environment/lib/python3.10/site-packages/starlette/routing.py\", line 714, in __call__\n",
      "    await self.middleware_stack(scope, receive, send)\n",
      "  File \"/srv/hops/anaconda/envs/hopsworks_environment/lib/python3.10/site-packages/starlette/routing.py\", line 734, in app\n",
      "    await route.handle(scope, receive, send)\n",
      "  File \"/srv/hops/anaconda/envs/hopsworks_environment/lib/python3.10/site-packages/starlette/routing.py\", line 288, in handle\n",
      "    await self.app(scope, receive, send)\n",
      "  File \"/srv/hops/anaconda/envs/hopsworks_environment/lib/python3.10/site-packages/starlette/routing.py\", line 76, in app\n",
      "    await wrap_app_handling_exceptions(app, request)(scope, receive, send)\n",
      "  File \"/srv/hops/anaconda/envs/hopsworks_environment/lib/python3.10/site-packages/starlette/_exception_handler.py\", line 53, in wrapped_app\n",
      "    raise exc\n",
      "  File \"/srv/hops/anaconda/envs/hopsworks_environment/lib/python3.10/site-packages/starlette/_exception_handler.py\", line 42, in wrapped_app\n",
      "    await app(scope, receive, sender)\n",
      "  File \"/srv/hops/anaconda/envs/hopsworks_environment/lib/python3.10/site-packages/starlette/routing.py\", line 73, in app\n",
      "    response = await f(request)\n",
      "  File \"/srv/hops/anaconda/envs/hopsworks_environment/lib/python3.10/site-packages/fastapi/routing.py\", line 301, in app\n",
      "    raw_response = await run_endpoint_function(\n",
      "  File \"/srv/hops/anaconda/envs/hopsworks_environment/lib/python3.10/site-packages/fastapi/routing.py\", line 212, in run_endpoint_function\n",
      "    return await dependant.call(**values)\n",
      "  File \"/srv/hops/anaconda/envs/hopsworks_environment/lib/python3.10/site-packages/kserve/protocol/rest/v1_endpoints.py\", line 83, in predict\n",
      "    response, response_headers = await self.dataplane.infer(\n",
      "  File \"/srv/hops/anaconda/envs/hopsworks_environment/lib/python3.10/site-packages/kserve/protocol/dataplane.py\", line 374, in infer\n",
      "    response = await model(request, headers=headers)\n",
      "  File \"/srv/hops/anaconda/envs/hopsworks_environment/lib/python3.10/site-packages/kserve/model.py\", line 241, in __call__\n",
      "    else self.predict(payload, headers)\n",
      "  File \"/serving/kserve_models.py\", line 71, in sync_wrapper\n",
      "    parse_exception(err)\n",
      "  File \"/serving/kserve_models.py\", line 53, in parse_exception\n",
      "    raise tornado.web.HTTPError(\n",
      "tornado.web.HTTPError: HTTP 500: Input data must have at least one feature\n",
      "2025-05-21 21:36:54.065 uvicorn.access INFO:     127.0.0.1:55456 8 - \"GET /metrics HTTP/1.1\" 200 OK\n",
      "2025-05-21 21:36:54.065 kserve.trace kserve.io.kserve.protocol.rest.server.metrics_handler: 0.0010182857513427734 ['http_status:200', 'http_method:GET', 'time:wall']\n",
      "2025-05-21 21:36:54.065 kserve.trace kserve.io.kserve.protocol.rest.server.metrics_handler: 0.0010079999999998979 ['http_status:200', 'http_method:GET', 'time:cpu']\n",
      "\n",
      "\n"
     ]
    }
   ],
   "source": [
    "weather_ranking_deployment.get_logs(component=\"predictor\", tail=200)\n"
   ]
  },
  {
   "cell_type": "code",
   "execution_count": 182,
   "metadata": {},
   "outputs": [
    {
     "name": "stdout",
     "output_type": "stream",
     "text": [
      "Explore all the logs and filters in the Kibana logs at https://c.app.hopsworks.ai:443/p/1220788/deployments/371733\n",
      "\n",
      "DeployableComponentLogs(instance_name: 'weatherrankingdeployment-transformer-00001-deployment-6896zq4tj', date: datetime.datetime(2025, 5, 21, 23, 37, 6, 848375)) \n",
      "INFO:root:Loading component module...\n",
      "INFO:root:[TransformerModel] Initializing transformer for model: weatherrankingdeployment\n",
      "INFO:root:[HopsworksModel] Initializing for model: weatherrankingdeployment\n",
      "INFO:hsfs.engine.python:Python Engine initialized.\n",
      "Downloading: 100.000%|██████████| 1094/1094 elapsed<00:00 remaining<00:00\n",
      "INFO:transformer-simple_weather_transformer:Transformer initialized successfully\n",
      "... execution time: 7.065520 seconds\n",
      "INFO:root:Starting KServe server...\n",
      "2025-05-21 21:35:37.328 8 kserve INFO [model_server.py:register_model():363] Registering model: weatherrankingdeployment\n",
      "2025-05-21 21:35:37.328 8 kserve INFO [model_server.py:start():298] Setting max asyncio worker threads as 12\n",
      "2025-05-21 21:35:37.329 8 kserve INFO [model_server.py:_serve_rest():244] Starting uvicorn with 1 workers\n",
      "WARNING:py.warnings:DeprecationWarning: websockets.legacy is deprecated; see https://websockets.readthedocs.io/en/stable/howto/upgrade.html for upgrade instructions\n",
      "\n",
      "WARNING:py.warnings:DeprecationWarning: websockets.server.WebSocketServerProtocol is deprecated\n",
      "\n",
      "2025-05-21 21:35:37.355 uvicorn.error INFO:     Started server process [8]\n",
      "2025-05-21 21:35:37.355 uvicorn.error INFO:     Waiting for application startup.\n",
      "2025-05-21 21:35:37.361 8 kserve INFO [server.py:start():68] Starting gRPC server on [::]:8081\n",
      "2025-05-21 21:35:37.362 uvicorn.error INFO:     Application startup complete.\n",
      "2025-05-21 21:35:37.362 uvicorn.error INFO:     Uvicorn running on http://0.0.0.0:8080 (Press CTRL+C to quit)\n",
      "2025-05-21 21:35:57.743 uvicorn.access INFO:     127.0.0.1:36198 8 - \"GET /metrics HTTP/1.1\" 200 OK\n",
      "2025-05-21 21:35:57.743 kserve.trace kserve.io.kserve.protocol.rest.server.metrics_handler: 0.000789642333984375 ['http_status:200', 'http_method:GET', 'time:wall']\n",
      "2025-05-21 21:35:57.743 kserve.trace kserve.io.kserve.protocol.rest.server.metrics_handler: 0.0007779999999999454 ['http_status:200', 'http_method:GET', 'time:cpu']\n",
      "INFO:root:Received request via 'v1 protocol'\n",
      "INFO:transformer-simple_weather_transformer:Input structure: {'instances': [[{'user_id': 'LT819S', 'query_emb': [0.214135289, 0.571055949, 0.330709577, -0.225899458, -0.308674961, -0.0115124583, 0.0730511621, -0.495835781, 0.625569344, -0.0438038409, 0.263472944, -0.58485353, -0.307070434, 0.0414443575, -0.321789205, 0.966559, 0.127463, -0.392714, 0.845132, -0.512387, 0.253901, -0.764589, 0.431267, 0.087342, -0.629045, 0.318976, -0.146782, 0.573921, -0.087625, 0.934261, -0.271843, 0.652197, -0.418359, 0.123456, -0.789012, 0.345678, -0.901234, 0.56789, -0.234567, 0.890123, -0.456789, 0.012345, -0.678901, 0.234567, -0.890123, 0.456789, -0.012345, 0.678901, -0.234567, 0.890123, -0.456789, 0.012345, -0.678901, 0.234567, -0.890123, 0.456789, -0.012345, 0.678901, -0.234567, 0.890123, -0.456789, 0.012345, -0.678901]}]]}\n",
      "ERROR:transformer-simple_weather_transformer:Error in preprocess: list indices must be integers or slices, not str\n",
      "INFO:httpx:HTTP Request: POST http://weatherrankingdeployment-predictor.weather-basedeventrecsys/v1/models/weatherrankingdeployment:predict \"HTTP/1.1 500 Internal Server Error\"\n",
      "2025-05-21 21:36:33.667 kserve.trace kserve.io.kserve.protocol.rest.v1_endpoints.predict: 14.437893629074097 ['http_status:500', 'http_method:POST', 'time:wall']\n",
      "2025-05-21 21:36:33.667 kserve.trace kserve.io.kserve.protocol.rest.v1_endpoints.predict: 0.04127499999999973 ['http_status:500', 'http_method:POST', 'time:cpu']\n",
      "2025-05-21 21:36:33.667 8 kserve ERROR [errors.py:generic_exception_handler():123] Exception:\n",
      "Traceback (most recent call last):\n",
      "  File \"/srv/hops/anaconda/envs/hopsworks_environment/lib/python3.10/site-packages/starlette/middleware/errors.py\", line 165, in __call__\n",
      "    await self.app(scope, receive, _send)\n",
      "  File \"/srv/hops/anaconda/envs/hopsworks_environment/lib/python3.10/site-packages/timing_asgi/middleware.py\", line 70, in __call__\n",
      "    await self.app(scope, receive, send_wrapper)\n",
      "  File \"/srv/hops/anaconda/envs/hopsworks_environment/lib/python3.10/site-packages/starlette/middleware/exceptions.py\", line 62, in __call__\n",
      "    await wrap_app_handling_exceptions(self.app, conn)(scope, receive, send)\n",
      "  File \"/srv/hops/anaconda/envs/hopsworks_environment/lib/python3.10/site-packages/starlette/_exception_handler.py\", line 53, in wrapped_app\n",
      "    raise exc\n",
      "  File \"/srv/hops/anaconda/envs/hopsworks_environment/lib/python3.10/site-packages/starlette/_exception_handler.py\", line 42, in wrapped_app\n",
      "    await app(scope, receive, sender)\n",
      "  File \"/srv/hops/anaconda/envs/hopsworks_environment/lib/python3.10/site-packages/starlette/routing.py\", line 714, in __call__\n",
      "    await self.middleware_stack(scope, receive, send)\n",
      "  File \"/srv/hops/anaconda/envs/hopsworks_environment/lib/python3.10/site-packages/starlette/routing.py\", line 734, in app\n",
      "    await route.handle(scope, receive, send)\n",
      "  File \"/srv/hops/anaconda/envs/hopsworks_environment/lib/python3.10/site-packages/starlette/routing.py\", line 288, in handle\n",
      "    await self.app(scope, receive, send)\n",
      "  File \"/srv/hops/anaconda/envs/hopsworks_environment/lib/python3.10/site-packages/starlette/routing.py\", line 76, in app\n",
      "    await wrap_app_handling_exceptions(app, request)(scope, receive, send)\n",
      "  File \"/srv/hops/anaconda/envs/hopsworks_environment/lib/python3.10/site-packages/starlette/_exception_handler.py\", line 53, in wrapped_app\n",
      "    raise exc\n",
      "  File \"/srv/hops/anaconda/envs/hopsworks_environment/lib/python3.10/site-packages/starlette/_exception_handler.py\", line 42, in wrapped_app\n",
      "    await app(scope, receive, sender)\n",
      "  File \"/srv/hops/anaconda/envs/hopsworks_environment/lib/python3.10/site-packages/starlette/routing.py\", line 73, in app\n",
      "    response = await f(request)\n",
      "  File \"/srv/hops/anaconda/envs/hopsworks_environment/lib/python3.10/site-packages/fastapi/routing.py\", line 301, in app\n",
      "    raw_response = await run_endpoint_function(\n",
      "  File \"/srv/hops/anaconda/envs/hopsworks_environment/lib/python3.10/site-packages/fastapi/routing.py\", line 212, in run_endpoint_function\n",
      "    return await dependant.call(**values)\n",
      "  File \"/srv/hops/anaconda/envs/hopsworks_environment/lib/python3.10/site-packages/kserve/protocol/rest/v1_endpoints.py\", line 83, in predict\n",
      "    response, response_headers = await self.dataplane.infer(\n",
      "  File \"/srv/hops/anaconda/envs/hopsworks_environment/lib/python3.10/site-packages/kserve/protocol/dataplane.py\", line 374, in infer\n",
      "    response = await model(request, headers=headers)\n",
      "  File \"/srv/hops/anaconda/envs/hopsworks_environment/lib/python3.10/site-packages/kserve/model.py\", line 239, in __call__\n",
      "    (await self.predict(payload, headers))\n",
      "  File \"/srv/hops/anaconda/envs/hopsworks_environment/lib/python3.10/site-packages/kserve/model.py\", line 404, in predict\n",
      "    return await self._http_predict(payload, headers)\n",
      "  File \"/srv/hops/anaconda/envs/hopsworks_environment/lib/python3.10/site-packages/kserve/model.py\", line 356, in _http_predict\n",
      "    response = await self._http_client.infer(\n",
      "  File \"/srv/hops/anaconda/envs/hopsworks_environment/lib/python3.10/site-packages/kserve/inference_client.py\", line 501, in infer\n",
      "2025-05-21 21:36:33.669 uvicorn.access INFO:     10.2.3.34:0 8 - \"POST /v1/models/weatherrankingdeployment%3Apredict HTTP/1.1\" 500 Internal Server Error\n",
      "    raise self._consturct_http_status_error(response)\n",
      "httpx.HTTPStatusError: HTTPError : HTTP 500: Input data must have at least one feature, '500 Internal Server Error' for url 'http://weatherrankingdeployment-predictor.weather-basedeventrecsys/v1/models/weatherrankingdeployment:predict'\n",
      "2025-05-21 21:36:33.669 uvicorn.error ERROR:    Exception in ASGI application\n",
      "Traceback (most recent call last):\n",
      "  File \"/srv/hops/anaconda/envs/hopsworks_environment/lib/python3.10/site-packages/uvicorn/protocols/http/httptools_impl.py\", line 436, in run_asgi\n",
      "    result = await app(  # type: ignore[func-returns-value]\n",
      "  File \"/srv/hops/anaconda/envs/hopsworks_environment/lib/python3.10/site-packages/uvicorn/middleware/proxy_headers.py\", line 78, in __call__\n",
      "    return await self.app(scope, receive, send)\n",
      "  File \"/srv/hops/anaconda/envs/hopsworks_environment/lib/python3.10/site-packages/fastapi/applications.py\", line 1054, in __call__\n",
      "    await super().__call__(scope, receive, send)\n",
      "  File \"/srv/hops/anaconda/envs/hopsworks_environment/lib/python3.10/site-packages/starlette/applications.py\", line 112, in __call__\n",
      "    await self.middleware_stack(scope, receive, send)\n",
      "  File \"/srv/hops/anaconda/envs/hopsworks_environment/lib/python3.10/site-packages/starlette/middleware/errors.py\", line 187, in __call__\n",
      "    raise exc\n",
      "  File \"/srv/hops/anaconda/envs/hopsworks_environment/lib/python3.10/site-packages/starlette/middleware/errors.py\", line 165, in __call__\n",
      "    await self.app(scope, receive, _send)\n",
      "  File \"/srv/hops/anaconda/envs/hopsworks_environment/lib/python3.10/site-packages/timing_asgi/middleware.py\", line 70, in __call__\n",
      "    await self.app(scope, receive, send_wrapper)\n",
      "  File \"/srv/hops/anaconda/envs/hopsworks_environment/lib/python3.10/site-packages/starlette/middleware/exceptions.py\", line 62, in __call__\n",
      "    await wrap_app_handling_exceptions(self.app, conn)(scope, receive, send)\n",
      "  File \"/srv/hops/anaconda/envs/hopsworks_environment/lib/python3.10/site-packages/starlette/_exception_handler.py\", line 53, in wrapped_app\n",
      "    raise exc\n",
      "  File \"/srv/hops/anaconda/envs/hopsworks_environment/lib/python3.10/site-packages/starlette/_exception_handler.py\", line 42, in wrapped_app\n",
      "    await app(scope, receive, sender)\n",
      "  File \"/srv/hops/anaconda/envs/hopsworks_environment/lib/python3.10/site-packages/starlette/routing.py\", line 714, in __call__\n",
      "    await self.middleware_stack(scope, receive, send)\n",
      "  File \"/srv/hops/anaconda/envs/hopsworks_environment/lib/python3.10/site-packages/starlette/routing.py\", line 734, in app\n",
      "    await route.handle(scope, receive, send)\n",
      "  File \"/srv/hops/anaconda/envs/hopsworks_environment/lib/python3.10/site-packages/starlette/routing.py\", line 288, in handle\n",
      "    await self.app(scope, receive, send)\n",
      "  File \"/srv/hops/anaconda/envs/hopsworks_environment/lib/python3.10/site-packages/starlette/routing.py\", line 76, in app\n",
      "    await wrap_app_handling_exceptions(app, request)(scope, receive, send)\n",
      "  File \"/srv/hops/anaconda/envs/hopsworks_environment/lib/python3.10/site-packages/starlette/_exception_handler.py\", line 53, in wrapped_app\n",
      "    raise exc\n",
      "  File \"/srv/hops/anaconda/envs/hopsworks_environment/lib/python3.10/site-packages/starlette/_exception_handler.py\", line 42, in wrapped_app\n",
      "    await app(scope, receive, sender)\n",
      "  File \"/srv/hops/anaconda/envs/hopsworks_environment/lib/python3.10/site-packages/starlette/routing.py\", line 73, in app\n",
      "    response = await f(request)\n",
      "  File \"/srv/hops/anaconda/envs/hopsworks_environment/lib/python3.10/site-packages/fastapi/routing.py\", line 301, in app\n",
      "    raw_response = await run_endpoint_function(\n",
      "  File \"/srv/hops/anaconda/envs/hopsworks_environment/lib/python3.10/site-packages/fastapi/routing.py\", line 212, in run_endpoint_function\n",
      "    return await dependant.call(**values)\n",
      "  File \"/srv/hops/anaconda/envs/hopsworks_environment/lib/python3.10/site-packages/kserve/protocol/rest/v1_endpoints.py\", line 83, in predict\n",
      "    response, response_headers = await self.dataplane.infer(\n",
      "  File \"/srv/hops/anaconda/envs/hopsworks_environment/lib/python3.10/site-packages/kserve/protocol/dataplane.py\", line 374, in infer\n",
      "    response = await model(request, headers=headers)\n",
      "  File \"/srv/hops/anaconda/envs/hopsworks_environment/lib/python3.10/site-packages/kserve/model.py\", line 239, in __call__\n",
      "    (await self.predict(payload, headers))\n",
      "  File \"/srv/hops/anaconda/envs/hopsworks_environment/lib/python3.10/site-packages/kserve/model.py\", line 404, in predict\n",
      "    return await self._http_predict(payload, headers)\n",
      "  File \"/srv/hops/anaconda/envs/hopsworks_environment/lib/python3.10/site-packages/kserve/model.py\", line 356, in _http_predict\n",
      "    response = await self._http_client.infer(\n",
      "  File \"/srv/hops/anaconda/envs/hopsworks_environment/lib/python3.10/site-packages/kserve/inference_client.py\", line 501, in infer\n",
      "    raise self._consturct_http_status_error(response)\n",
      "httpx.HTTPStatusError: HTTPError : HTTP 500: Input data must have at least one feature, '500 Internal Server Error' for url 'http://weatherrankingdeployment-predictor.weather-basedeventrecsys/v1/models/weatherrankingdeployment:predict'\n",
      "2025-05-21 21:36:57.736 kserve.trace kserve.io.kserve.protocol.rest.server.metrics_handler: 0.001377105712890625 ['http_status:200', 'http_method:GET', 'time:wall']\n",
      "2025-05-21 21:36:57.736 kserve.trace kserve.io.kserve.protocol.rest.server.metrics_handler: 0.0013760000000000439 ['http_status:200', 'http_method:GET', 'time:cpu']\n",
      "2025-05-21 21:36:57.736 uvicorn.access INFO:     127.0.0.1:36712 8 - \"GET /metrics HTTP/1.1\" 200 OK\n",
      "\n",
      "\n"
     ]
    }
   ],
   "source": [
    "weather_ranking_deployment.get_logs(component=\"transformer\", tail=200)\n"
   ]
  },
  {
   "cell_type": "code",
   "execution_count": null,
   "metadata": {},
   "outputs": [],
   "source": [
    "# Test ranking deployment\n",
    "ranked_candidates = weather_ranking_deployment.predict(test_ranking_input)\n",
    "\n",
    "# Retrieve article ids of the top recommended items\n",
    "recommendations = get_top_recommendations(ranked_candidates, k=3)\n",
    "recommendations"
   ]
  },
  {
   "cell_type": "code",
   "execution_count": null,
   "metadata": {},
   "outputs": [],
   "source": []
  }
 ],
 "metadata": {
  "kernelspec": {
   "display_name": "thesisenv",
   "language": "python",
   "name": "python3"
  },
  "language_info": {
   "codemirror_mode": {
    "name": "ipython",
    "version": 3
   },
   "file_extension": ".py",
   "mimetype": "text/x-python",
   "name": "python",
   "nbconvert_exporter": "python",
   "pygments_lexer": "ipython3",
   "version": "3.10.6"
  }
 },
 "nbformat": 4,
 "nbformat_minor": 2
}
