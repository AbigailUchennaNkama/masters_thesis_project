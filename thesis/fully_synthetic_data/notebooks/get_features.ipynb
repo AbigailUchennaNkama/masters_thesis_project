{
 "cells": [
  {
   "cell_type": "code",
   "execution_count": 55,
   "metadata": {},
   "outputs": [],
   "source": [
    "import hopsworks\n",
    "import pandas as pd\n",
    "import numpy as np\n",
    "from datetime import datetime, timedelta\n",
    "import regex as re\n",
    "from thesis.fully_synthetic_data.src.users import generate_users\n",
    "from thesis.fully_synthetic_data.src.events import generate_events \n",
    "from thesis.fully_synthetic_data.src.interactions import generate_interactions \n"
   ]
  },
  {
   "cell_type": "markdown",
   "metadata": {},
   "source": [
    "## <span style='color:#ff5f27'> ⚙️ Data Generation</span>\n"
   ]
  },
  {
   "cell_type": "markdown",
   "metadata": {},
   "source": [
    "---"
   ]
  },
  {
   "cell_type": "markdown",
   "metadata": {},
   "source": [
    "### <span style='color:#ff5f27'> 👥 Users Data Generation</span>"
   ]
  },
  {
   "cell_type": "code",
   "execution_count": 17,
   "metadata": {},
   "outputs": [
    {
     "name": "stdout",
     "output_type": "stream",
     "text": [
      "2025-05-26 16:40:05,821 INFO: Initializing external client\n",
      "2025-05-26 16:40:05,825 INFO: Base URL: https://c.app.hopsworks.ai:443\n",
      "2025-05-26 16:40:07,582 INFO: Python Engine initialized.\n",
      "\n",
      "Logged in to project, explore it here https://c.app.hopsworks.ai:443/p/1220788\n"
     ]
    }
   ],
   "source": [
    "# Login to Hopsworks\n",
    "project = hopsworks.login()\n",
    "fs = project.get_feature_store()\n"
   ]
  },
  {
   "cell_type": "code",
   "execution_count": 18,
   "metadata": {},
   "outputs": [],
   "source": [
    "# clean text columns in the generated data\n",
    "def clean_text(text):\n",
    "    if not isinstance(text, str):\n",
    "        return \"unknown\"\n",
    "    text = text.lower().strip()\n",
    "    text = text.replace(',', ' ')\n",
    "    text = re.sub(r\"[^\\w\\s]\", \"\", text)  # remove punctuation\n",
    "    text = re.sub(r\"\\s+\", \" \", text)     # collapse multiple spaces\n",
    "    return text if text else \"unknown\"\n",
    "\n",
    "def clean_text_columns(df):\n",
    "    if 'title' in df.columns:\n",
    "        df[\"title\"] = df[\"title\"].apply(lambda x: clean_text(x) if isinstance(x, str) and x.strip() else \"unknown\")\n",
    "    if 'user_interests' in df.columns:\n",
    "        df[\"user_interests\"] = df[\"user_interests\"].apply(\n",
    "            lambda x: clean_text(x) if isinstance(x, str) and x.strip() else \"unknown\")\n",
    "        \n",
    "    return df\n",
    "\n"
   ]
  },
  {
   "cell_type": "code",
   "execution_count": 57,
   "metadata": {},
   "outputs": [
    {
     "name": "stdout",
     "output_type": "stream",
     "text": [
      "Generating user data...\n",
      "Done!\n"
     ]
    }
   ],
   "source": [
    "# Generate data\n",
    "print(\"Generating user data...\")\n",
    "num_users = 50000\n",
    "users = generate_users(num_users)\n",
    "users_df = pd.DataFrame(users)\n",
    "\n",
    "# Clean the dataframes\n",
    "users_df = clean_text_columns(users_df)\n",
    "print(\"Done!\")"
   ]
  },
  {
   "cell_type": "code",
   "execution_count": 58,
   "metadata": {},
   "outputs": [
    {
     "name": "stdout",
     "output_type": "stream",
     "text": [
      "Generating event data...\n",
      "Done!\n"
     ]
    }
   ],
   "source": [
    "\n",
    "print(\"Generating event data...\")\n",
    "num_events = 10000\n",
    "events = generate_events(num_events)\n",
    "events_df = pd.DataFrame(events)\n",
    "\n",
    "# Clean the dataframes\n",
    "events_df = clean_text_columns(events_df)\n",
    "print(\"Done!\")"
   ]
  },
  {
   "cell_type": "code",
   "execution_count": 60,
   "metadata": {},
   "outputs": [
    {
     "data": {
      "text/plain": [
       "Index(['event_id', 'title', 'event_type', 'event_lat', 'event_lon',\n",
       "       'event_city', 'start_time', 'duration', 'weather_condition',\n",
       "       'temperature', 'attendance_rate', 'event_indoor_capability'],\n",
       "      dtype='object')"
      ]
     },
     "execution_count": 60,
     "metadata": {},
     "output_type": "execute_result"
    }
   ],
   "source": [
    "events_df.columns"
   ]
  },
  {
   "cell_type": "code",
   "execution_count": 61,
   "metadata": {},
   "outputs": [
    {
     "name": "stdout",
     "output_type": "stream",
     "text": [
      "Generating interaction data...\n",
      "Done!\n"
     ]
    }
   ],
   "source": [
    "\n",
    "print(\"Generating interaction data...\")\n",
    "num_interactions = 500000\n",
    "interactions = generate_interactions(users_df, events_df, num_interactions)\n",
    "interactions_df = pd.DataFrame(interactions)\n",
    "\n",
    "# Add interaction_label for model training\n",
    "interactions_df['interaction_label'] = interactions_df['interaction_type'].apply(\n",
    "    lambda x: 1 if x in ['yes', 'invited & yes', 'maybe', 'invited & maybe'] else 0\n",
    ")\n",
    "# Clean the dataframes\n",
    "interactions_df = clean_text_columns(interactions_df)\n",
    "print(\"Done!\")\n"
   ]
  },
  {
   "cell_type": "code",
   "execution_count": 74,
   "metadata": {},
   "outputs": [],
   "source": [
    "events_df.to_csv(\"/home/nkama/masters_thesis_project/thesis/fully_synthetic_data/data/events.csv\",index=False )\n",
    "users_df.to_csv(\"/home/nkama/masters_thesis_project/thesis/fully_synthetic_data/data/users.csv\",index=False)\n",
    "interactions_df.to_csv(\"/home/nkama/masters_thesis_project/thesis/fully_synthetic_data/data/interactions.csv\",index=False)"
   ]
  },
  {
   "cell_type": "code",
   "execution_count": 77,
   "metadata": {},
   "outputs": [],
   "source": [
    "events_df.to_csv(\"events.csv\",index=False )\n",
    "users_df.to_csv(\"users.csv\",index=False)\n",
    "interactions_df.to_csv(\"interactions.csv\",index=False)"
   ]
  },
  {
   "cell_type": "code",
   "execution_count": 75,
   "metadata": {},
   "outputs": [
    {
     "data": {
      "text/plain": [
       "Index(['event_id', 'title', 'event_type', 'event_lat', 'event_lon',\n",
       "       'event_city', 'start_time', 'duration', 'weather_condition',\n",
       "       'temperature', 'attendance_rate', 'event_indoor_capability'],\n",
       "      dtype='object')"
      ]
     },
     "execution_count": 75,
     "metadata": {},
     "output_type": "execute_result"
    }
   ],
   "source": [
    "events_df.columns"
   ]
  },
  {
   "cell_type": "code",
   "execution_count": 76,
   "metadata": {},
   "outputs": [
    {
     "data": {
      "text/plain": [
       "Index(['user_id', 'user_lat', 'user_lon', 'user_city',\n",
       "       'indoor_outdoor_preference', 'age', 'user_interests', 'signup_date',\n",
       "       'social_connectedness'],\n",
       "      dtype='object')"
      ]
     },
     "execution_count": 76,
     "metadata": {},
     "output_type": "execute_result"
    }
   ],
   "source": [
    "users_df.columns\n"
   ]
  },
  {
   "cell_type": "markdown",
   "metadata": {},
   "source": [
    "## <span style=\"color:#ff5f27\">🔮 Connect to Hopsworks Feature Store </span>"
   ]
  },
  {
   "cell_type": "code",
   "execution_count": 66,
   "metadata": {},
   "outputs": [
    {
     "name": "stdout",
     "output_type": "stream",
     "text": [
      "Creating feature groups...\n",
      "Feature Group created successfully, explore it at \n",
      "https://c.app.hopsworks.ai:443/p/1220788/fs/1208418/fg/1477073\n"
     ]
    },
    {
     "name": "stderr",
     "output_type": "stream",
     "text": [
      "Uploading Dataframe: 100.00% |██████████| Rows 50000/50000 | Elapsed Time: 00:09 | Remaining Time: 00:00\n"
     ]
    },
    {
     "name": "stdout",
     "output_type": "stream",
     "text": [
      "Launching job: users_1_offline_fg_materialization\n",
      "Job started successfully, you can follow the progress at \n",
      "https://c.app.hopsworks.ai:443/p/1220788/jobs/named/users_1_offline_fg_materialization/executions\n",
      "Done ✅\n"
     ]
    }
   ],
   "source": [
    "# Create feature groups\n",
    "print(\"Creating feature groups...\")\n",
    "users_fg = fs.get_or_create_feature_group(\n",
    "    name=\"users\",\n",
    "    version=1,\n",
    "    primary_key=[\"user_id\"],\n",
    "    online_enabled=True,\n",
    "    description=\"User features for weather-based event recommendation\"\n",
    ")\n",
    "\n",
    "users_fg.insert(users_df) # Insert data into feature groups\n",
    "print('Done ✅')"
   ]
  },
  {
   "cell_type": "code",
   "execution_count": 67,
   "metadata": {},
   "outputs": [
    {
     "name": "stdout",
     "output_type": "stream",
     "text": [
      "Feature Group created successfully, explore it at \n",
      "https://c.app.hopsworks.ai:443/p/1220788/fs/1208418/fg/1477074\n"
     ]
    },
    {
     "name": "stderr",
     "output_type": "stream",
     "text": [
      "Uploading Dataframe: 100.00% |██████████| Rows 10000/10000 | Elapsed Time: 00:02 | Remaining Time: 00:00\n"
     ]
    },
    {
     "name": "stdout",
     "output_type": "stream",
     "text": [
      "Launching job: events_1_offline_fg_materialization\n",
      "Job started successfully, you can follow the progress at \n",
      "https://c.app.hopsworks.ai:443/p/1220788/jobs/named/events_1_offline_fg_materialization/executions\n",
      "Done ✅\n"
     ]
    }
   ],
   "source": [
    "\n",
    "events_fg = fs.get_or_create_feature_group(\n",
    "    name=\"events\",\n",
    "    version=1,\n",
    "    primary_key=[\"event_id\"],\n",
    "    online_enabled=True,\n",
    "    description=\"Event features for weather-based event recommendation\"\n",
    ")\n",
    "\n",
    "events_fg.insert(events_df) # Insert data into feature groups\n",
    "print('Done ✅')\n"
   ]
  },
  {
   "cell_type": "code",
   "execution_count": 43,
   "metadata": {},
   "outputs": [
    {
     "data": {
      "text/html": [
       "<div>\n",
       "<style scoped>\n",
       "    .dataframe tbody tr th:only-of-type {\n",
       "        vertical-align: middle;\n",
       "    }\n",
       "\n",
       "    .dataframe tbody tr th {\n",
       "        vertical-align: top;\n",
       "    }\n",
       "\n",
       "    .dataframe thead th {\n",
       "        text-align: right;\n",
       "    }\n",
       "</style>\n",
       "<table border=\"1\" class=\"dataframe\">\n",
       "  <thead>\n",
       "    <tr style=\"text-align: right;\">\n",
       "      <th></th>\n",
       "      <th>user_id</th>\n",
       "      <th>user_lat</th>\n",
       "      <th>user_lon</th>\n",
       "      <th>user_city</th>\n",
       "      <th>indoor_outdoor_preference</th>\n",
       "      <th>age</th>\n",
       "      <th>user_interests</th>\n",
       "      <th>signup_date</th>\n",
       "      <th>social_connectedness</th>\n",
       "    </tr>\n",
       "  </thead>\n",
       "  <tbody>\n",
       "    <tr>\n",
       "      <th>0</th>\n",
       "      <td>OS082V</td>\n",
       "      <td>49.307314</td>\n",
       "      <td>2.584194</td>\n",
       "      <td>Paris</td>\n",
       "      <td>outdoor</td>\n",
       "      <td>40</td>\n",
       "      <td>art food</td>\n",
       "      <td>2024-10-02 17:26:50.584972</td>\n",
       "      <td>11</td>\n",
       "    </tr>\n",
       "    <tr>\n",
       "      <th>1</th>\n",
       "      <td>IQ685Q</td>\n",
       "      <td>51.532156</td>\n",
       "      <td>-0.195855</td>\n",
       "      <td>London</td>\n",
       "      <td>outdoor</td>\n",
       "      <td>32</td>\n",
       "      <td>tech sports</td>\n",
       "      <td>2023-09-19 14:53:32.712057</td>\n",
       "      <td>16</td>\n",
       "    </tr>\n",
       "  </tbody>\n",
       "</table>\n",
       "</div>"
      ],
      "text/plain": [
       "  user_id   user_lat  user_lon user_city indoor_outdoor_preference  age  \\\n",
       "0  OS082V  49.307314  2.584194     Paris                   outdoor   40   \n",
       "1  IQ685Q  51.532156 -0.195855    London                   outdoor   32   \n",
       "\n",
       "  user_interests                signup_date  social_connectedness  \n",
       "0       art food 2024-10-02 17:26:50.584972                    11  \n",
       "1    tech sports 2023-09-19 14:53:32.712057                    16  "
      ]
     },
     "execution_count": 43,
     "metadata": {},
     "output_type": "execute_result"
    }
   ],
   "source": [
    "users_df.head(2)"
   ]
  },
  {
   "cell_type": "code",
   "execution_count": 68,
   "metadata": {},
   "outputs": [
    {
     "name": "stdout",
     "output_type": "stream",
     "text": [
      "Feature Group created successfully, explore it at \n",
      "https://c.app.hopsworks.ai:443/p/1220788/fs/1208418/fg/1479116\n"
     ]
    },
    {
     "name": "stderr",
     "output_type": "stream",
     "text": [
      "Uploading Dataframe: 100.00% |██████████| Rows 500000/500000 | Elapsed Time: 00:38 | Remaining Time: 00:00\n"
     ]
    },
    {
     "name": "stdout",
     "output_type": "stream",
     "text": [
      "Launching job: interactions_1_offline_fg_materialization\n",
      "Job started successfully, you can follow the progress at \n",
      "https://c.app.hopsworks.ai:443/p/1220788/jobs/named/interactions_1_offline_fg_materialization/executions\n"
     ]
    },
    {
     "data": {
      "text/plain": [
       "(Job('interactions_1_offline_fg_materialization', 'SPARK'), None)"
      ]
     },
     "execution_count": 68,
     "metadata": {},
     "output_type": "execute_result"
    }
   ],
   "source": [
    "interactions_fg = fs.get_or_create_feature_group(\n",
    "    name=\"interactions\",\n",
    "    version=1,\n",
    "    primary_key=[\"interaction_id\",\"user_id\", \"event_id\"],\n",
    "    online_enabled=True,\n",
    "    description=\"User-event interactions for weather-based event recommendation\"\n",
    ")\n",
    "\n",
    "interactions_fg.insert(interactions_df) # Insert data into feature groups"
   ]
  },
  {
   "cell_type": "markdown",
   "metadata": {},
   "source": [
    "### create ranking feature group"
   ]
  },
  {
   "cell_type": "code",
   "execution_count": 69,
   "metadata": {},
   "outputs": [],
   "source": [
    "#create ranking feature group\n",
    "events_interactions_df = pd.merge(\n",
    "    interactions_df, \n",
    "    events_df, \n",
    "    on='event_id', \n",
    "    how='inner'  \n",
    ")\n",
    "\n",
    "ranking_df = pd.merge(\n",
    "    events_interactions_df, \n",
    "    users_df, \n",
    "    on='user_id', \n",
    "    how='inner',\n",
    "    #suffixes=('', '_event') \n",
    ")"
   ]
  },
  {
   "cell_type": "markdown",
   "metadata": {},
   "source": [
    "### create weather ranking data with weather information"
   ]
  },
  {
   "cell_type": "code",
   "execution_count": 70,
   "metadata": {},
   "outputs": [
    {
     "name": "stdout",
     "output_type": "stream",
     "text": [
      "Feature Group created successfully, explore it at \n",
      "https://c.app.hopsworks.ai:443/p/1220788/fs/1208418/fg/1477075\n"
     ]
    },
    {
     "name": "stderr",
     "output_type": "stream",
     "text": [
      "Uploading Dataframe: 100.00% |██████████| Rows 501807/501807 | Elapsed Time: 01:11 | Remaining Time: 00:00\n"
     ]
    },
    {
     "name": "stdout",
     "output_type": "stream",
     "text": [
      "Launching job: weather_ranking_1_offline_fg_materialization\n",
      "Job started successfully, you can follow the progress at \n",
      "https://c.app.hopsworks.ai:443/p/1220788/jobs/named/weather_ranking_1_offline_fg_materialization/executions\n",
      "Done ✅\n"
     ]
    }
   ],
   "source": [
    "ranking_df_with_weather = ranking_df.drop(\n",
    "    ['interaction_id', 'interaction_type','interaction_time',\\\n",
    "     'start_time', 'signup_date','social_connectedness'], \n",
    "    axis=1\n",
    ")\n",
    "\n",
    "ranking_fg_weather = fs.get_or_create_feature_group(\n",
    "    name=\"weather_ranking\",\n",
    "    description=\"Ranking Data with weather data.\",\n",
    "    version=1,\n",
    "    primary_key=[\"user_id\", \"event_id\"],\n",
    "    online_enabled=True,\n",
    "    #features=ranking_df_with_weather.columns.to_list()  # ← critical!\n",
    ")\n",
    "\n",
    "ranking_fg_weather.insert(ranking_df_with_weather)\n",
    "print('Done ✅')\n",
    "\n",
    "#save to local disk\n",
    "ranking_df_with_weather.to_csv(\"/home/nkama/masters_thesis_project/thesis/fully_synthetic_data/data/ranking_df_with_weather2.csv\")"
   ]
  },
  {
   "cell_type": "code",
   "execution_count": 72,
   "metadata": {},
   "outputs": [
    {
     "data": {
      "text/html": [
       "<div>\n",
       "<style scoped>\n",
       "    .dataframe tbody tr th:only-of-type {\n",
       "        vertical-align: middle;\n",
       "    }\n",
       "\n",
       "    .dataframe tbody tr th {\n",
       "        vertical-align: top;\n",
       "    }\n",
       "\n",
       "    .dataframe thead th {\n",
       "        text-align: right;\n",
       "    }\n",
       "</style>\n",
       "<table border=\"1\" class=\"dataframe\">\n",
       "  <thead>\n",
       "    <tr style=\"text-align: right;\">\n",
       "      <th></th>\n",
       "      <th>event_id</th>\n",
       "      <th>title</th>\n",
       "      <th>event_type</th>\n",
       "      <th>event_lat</th>\n",
       "      <th>event_lon</th>\n",
       "      <th>event_city</th>\n",
       "      <th>start_time</th>\n",
       "      <th>duration</th>\n",
       "      <th>weather_condition</th>\n",
       "      <th>temperature</th>\n",
       "      <th>attendance_rate</th>\n",
       "      <th>event_indoor_capability</th>\n",
       "    </tr>\n",
       "  </thead>\n",
       "  <tbody>\n",
       "    <tr>\n",
       "      <th>0</th>\n",
       "      <td>VH393F</td>\n",
       "      <td>configurable zero tolerance matrices education...</td>\n",
       "      <td>Education &amp; Learning</td>\n",
       "      <td>35.263001</td>\n",
       "      <td>139.440020</td>\n",
       "      <td>Tokyo</td>\n",
       "      <td>2025-10-22 13:44:55.387282</td>\n",
       "      <td>120</td>\n",
       "      <td>Rain</td>\n",
       "      <td>19.4</td>\n",
       "      <td>17.674551</td>\n",
       "      <td>True</td>\n",
       "    </tr>\n",
       "    <tr>\n",
       "      <th>1</th>\n",
       "      <td>BX654I</td>\n",
       "      <td>balanced tertiary forecast technology in berlin</td>\n",
       "      <td>Technology</td>\n",
       "      <td>52.313431</td>\n",
       "      <td>13.220363</td>\n",
       "      <td>Berlin</td>\n",
       "      <td>2025-06-20 09:06:31.700477</td>\n",
       "      <td>480</td>\n",
       "      <td>Rain</td>\n",
       "      <td>11.8</td>\n",
       "      <td>10.505273</td>\n",
       "      <td>True</td>\n",
       "    </tr>\n",
       "    <tr>\n",
       "      <th>2</th>\n",
       "      <td>GZ338E</td>\n",
       "      <td>preemptive 5thgeneration adapter sports fitnes...</td>\n",
       "      <td>Sports &amp; Fitness</td>\n",
       "      <td>43.955581</td>\n",
       "      <td>-79.723338</td>\n",
       "      <td>Toronto</td>\n",
       "      <td>2025-07-09 18:27:42.564142</td>\n",
       "      <td>180</td>\n",
       "      <td>Rain</td>\n",
       "      <td>7.8</td>\n",
       "      <td>38.330403</td>\n",
       "      <td>False</td>\n",
       "    </tr>\n",
       "    <tr>\n",
       "      <th>3</th>\n",
       "      <td>YS594Z</td>\n",
       "      <td>visionary neutral challenge food drink in sydney</td>\n",
       "      <td>Food &amp; Drink</td>\n",
       "      <td>-33.541930</td>\n",
       "      <td>151.252682</td>\n",
       "      <td>Sydney</td>\n",
       "      <td>2025-09-23 18:17:10.431402</td>\n",
       "      <td>240</td>\n",
       "      <td>Clear</td>\n",
       "      <td>24.4</td>\n",
       "      <td>24.458917</td>\n",
       "      <td>False</td>\n",
       "    </tr>\n",
       "    <tr>\n",
       "      <th>4</th>\n",
       "      <td>HI986G</td>\n",
       "      <td>implemented impactful open architecture arts c...</td>\n",
       "      <td>Arts &amp; Culture</td>\n",
       "      <td>-33.853951</td>\n",
       "      <td>150.770047</td>\n",
       "      <td>Sydney</td>\n",
       "      <td>2025-08-28 19:41:00.341457</td>\n",
       "      <td>120</td>\n",
       "      <td>Rain</td>\n",
       "      <td>19.4</td>\n",
       "      <td>69.000834</td>\n",
       "      <td>True</td>\n",
       "    </tr>\n",
       "  </tbody>\n",
       "</table>\n",
       "</div>"
      ],
      "text/plain": [
       "  event_id                                              title  \\\n",
       "0   VH393F  configurable zero tolerance matrices education...   \n",
       "1   BX654I    balanced tertiary forecast technology in berlin   \n",
       "2   GZ338E  preemptive 5thgeneration adapter sports fitnes...   \n",
       "3   YS594Z   visionary neutral challenge food drink in sydney   \n",
       "4   HI986G  implemented impactful open architecture arts c...   \n",
       "\n",
       "             event_type  event_lat   event_lon event_city  \\\n",
       "0  Education & Learning  35.263001  139.440020      Tokyo   \n",
       "1            Technology  52.313431   13.220363     Berlin   \n",
       "2      Sports & Fitness  43.955581  -79.723338    Toronto   \n",
       "3          Food & Drink -33.541930  151.252682     Sydney   \n",
       "4        Arts & Culture -33.853951  150.770047     Sydney   \n",
       "\n",
       "                  start_time  duration weather_condition  temperature  \\\n",
       "0 2025-10-22 13:44:55.387282       120              Rain         19.4   \n",
       "1 2025-06-20 09:06:31.700477       480              Rain         11.8   \n",
       "2 2025-07-09 18:27:42.564142       180              Rain          7.8   \n",
       "3 2025-09-23 18:17:10.431402       240             Clear         24.4   \n",
       "4 2025-08-28 19:41:00.341457       120              Rain         19.4   \n",
       "\n",
       "   attendance_rate  event_indoor_capability  \n",
       "0        17.674551                     True  \n",
       "1        10.505273                     True  \n",
       "2        38.330403                    False  \n",
       "3        24.458917                    False  \n",
       "4        69.000834                     True  "
      ]
     },
     "execution_count": 72,
     "metadata": {},
     "output_type": "execute_result"
    }
   ],
   "source": [
    "events_df.head()"
   ]
  },
  {
   "cell_type": "markdown",
   "metadata": {},
   "source": [
    "### create ranking data without weather information"
   ]
  },
  {
   "cell_type": "code",
   "execution_count": 71,
   "metadata": {},
   "outputs": [
    {
     "name": "stdout",
     "output_type": "stream",
     "text": [
      "Feature Group created successfully, explore it at \n",
      "https://c.app.hopsworks.ai:443/p/1220788/fs/1208418/fg/1477076\n"
     ]
    },
    {
     "name": "stderr",
     "output_type": "stream",
     "text": [
      "Uploading Dataframe: 100.00% |██████████| Rows 501807/501807 | Elapsed Time: 01:09 | Remaining Time: 00:00\n"
     ]
    },
    {
     "name": "stdout",
     "output_type": "stream",
     "text": [
      "Launching job: no_weather_ranking_1_offline_fg_materialization\n",
      "Job started successfully, you can follow the progress at \n",
      "https://c.app.hopsworks.ai:443/p/1220788/jobs/named/no_weather_ranking_1_offline_fg_materialization/executions\n",
      "Done ✅\n"
     ]
    }
   ],
   "source": [
    "# create ranking data without weather information\n",
    "ranking_df_without_weather = ranking_df.drop(['interaction_id', 'interaction_type',\n",
    "       'interaction_time', 'start_time','weather_condition',\n",
    "       'temperature', 'indoor_outdoor_preference',\n",
    "       'signup_date', 'social_connectedness'],axis=1)\n",
    "\n",
    "ranking_fg_without_weather = fs.get_or_create_feature_group(\n",
    "    name=\"no_weather_ranking\",\n",
    "    description=\"Ranking Data without weather conditions.\",\n",
    "    version=1,\n",
    "    primary_key=[\"user_id\", \"event_id\"],\n",
    "    online_enabled=True,\n",
    "    #features=ranking_df_without_weather.columns.to_list()\n",
    ")\n",
    "\n",
    "ranking_fg_without_weather.insert(ranking_df_without_weather)\n",
    "print('Done ✅')\n",
    "\n",
    "#save to local disk\n",
    "ranking_df_without_weather.to_csv(\"/home/nkama/masters_thesis_project/thesis/fully_synthetic_data/data/ranking_df_without_weather2.csv\")"
   ]
  }
 ],
 "metadata": {
  "kernelspec": {
   "display_name": "thesisenv",
   "language": "python",
   "name": "python3"
  },
  "language_info": {
   "codemirror_mode": {
    "name": "ipython",
    "version": 3
   },
   "file_extension": ".py",
   "mimetype": "text/x-python",
   "name": "python",
   "nbconvert_exporter": "python",
   "pygments_lexer": "ipython3",
   "version": "3.10.6"
  }
 },
 "nbformat": 4,
 "nbformat_minor": 2
}
