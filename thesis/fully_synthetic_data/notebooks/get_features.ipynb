{
 "cells": [
  {
   "cell_type": "code",
   "execution_count": 1,
   "metadata": {},
   "outputs": [],
   "source": [
    "import hopsworks\n",
    "import pandas as pd\n",
    "import numpy as np\n",
    "from datetime import datetime, timedelta\n",
    "import regex as re\n",
    "from thesis.fully_synthetic_data.src.users import generate_users\n",
    "from thesis.fully_synthetic_data.src.events import generate_events \n",
    "from thesis.fully_synthetic_data.src.interactions import generate_interactions \n"
   ]
  },
  {
   "cell_type": "markdown",
   "metadata": {},
   "source": [
    "## <span style='color:#ff5f27'> ⚙️ Data Generation</span>\n"
   ]
  },
  {
   "cell_type": "markdown",
   "metadata": {},
   "source": [
    "---"
   ]
  },
  {
   "cell_type": "markdown",
   "metadata": {},
   "source": [
    "### <span style='color:#ff5f27'> 👥 Users Data Generation</span>"
   ]
  },
  {
   "cell_type": "code",
   "execution_count": 21,
   "metadata": {},
   "outputs": [
    {
     "name": "stdout",
     "output_type": "stream",
     "text": [
      "2025-05-27 18:24:45,364 INFO: Initializing external client\n",
      "2025-05-27 18:24:45,366 INFO: Base URL: https://c.app.hopsworks.ai:443\n",
      "2025-05-27 18:24:46,788 INFO: Python Engine initialized.\n",
      "\n",
      "Logged in to project, explore it here https://c.app.hopsworks.ai:443/p/1220788\n"
     ]
    }
   ],
   "source": [
    "# Login to Hopsworks\n",
    "project = hopsworks.login()\n",
    "fs = project.get_feature_store()\n"
   ]
  },
  {
   "cell_type": "code",
   "execution_count": 2,
   "metadata": {},
   "outputs": [],
   "source": [
    "# clean text columns in the generated data\n",
    "def clean_text(text):\n",
    "    if not isinstance(text, str):\n",
    "        return \"unknown\"\n",
    "    text = text.lower().strip()\n",
    "    text = text.replace(',', ' ')\n",
    "    text = re.sub(r\"[^\\w\\s]\", \"\", text)  # remove punctuation\n",
    "    text = re.sub(r\"\\s+\", \" \", text)     # collapse multiple spaces\n",
    "    return text if text else \"unknown\"\n",
    "\n",
    "def clean_text_columns(df):\n",
    "    if 'title' in df.columns:\n",
    "        df[\"title\"] = df[\"title\"].apply(lambda x: clean_text(x) if isinstance(x, str) and x.strip() else \"unknown\")\n",
    "    if 'user_interests' in df.columns:\n",
    "        df[\"user_interests\"] = df[\"user_interests\"].apply(\n",
    "            lambda x: clean_text(x) if isinstance(x, str) and x.strip() else \"unknown\")\n",
    "        \n",
    "    return df\n",
    "\n"
   ]
  },
  {
   "cell_type": "code",
   "execution_count": 3,
   "metadata": {},
   "outputs": [
    {
     "name": "stdout",
     "output_type": "stream",
     "text": [
      "Generating user data...\n",
      "Done!\n"
     ]
    }
   ],
   "source": [
    "# Generate user data\n",
    "print(\"Generating user data...\")\n",
    "num_users = 50000\n",
    "users = generate_users(num_users)\n",
    "users_df = pd.DataFrame(users)\n",
    "\n",
    "# Clean the dataframes\n",
    "users_df = clean_text_columns(users_df)\n",
    "print(\"Done!\")"
   ]
  },
  {
   "cell_type": "code",
   "execution_count": 4,
   "metadata": {},
   "outputs": [
    {
     "name": "stdout",
     "output_type": "stream",
     "text": [
      "Generating event data...\n",
      "Done!\n"
     ]
    }
   ],
   "source": [
    "# generate event data\n",
    "print(\"Generating event data...\")\n",
    "num_events = 10000\n",
    "events = generate_events(num_events)\n",
    "events_df = pd.DataFrame(events)\n",
    "\n",
    "# Clean the dataframes\n",
    "events_df = clean_text_columns(events_df)\n",
    "print(\"Done!\")"
   ]
  },
  {
   "cell_type": "code",
   "execution_count": 11,
   "metadata": {},
   "outputs": [
    {
     "data": {
      "text/html": [
       "<div>\n",
       "<style scoped>\n",
       "    .dataframe tbody tr th:only-of-type {\n",
       "        vertical-align: middle;\n",
       "    }\n",
       "\n",
       "    .dataframe tbody tr th {\n",
       "        vertical-align: top;\n",
       "    }\n",
       "\n",
       "    .dataframe thead th {\n",
       "        text-align: right;\n",
       "    }\n",
       "</style>\n",
       "<table border=\"1\" class=\"dataframe\">\n",
       "  <thead>\n",
       "    <tr style=\"text-align: right;\">\n",
       "      <th></th>\n",
       "      <th>event_id</th>\n",
       "      <th>title</th>\n",
       "      <th>category</th>\n",
       "      <th>event_lat</th>\n",
       "      <th>event_lon</th>\n",
       "      <th>event_city</th>\n",
       "      <th>start_time</th>\n",
       "      <th>duration</th>\n",
       "      <th>weather_condition</th>\n",
       "      <th>temperature</th>\n",
       "      <th>attendance_rate</th>\n",
       "      <th>event_indoor_capability</th>\n",
       "    </tr>\n",
       "  </thead>\n",
       "  <tbody>\n",
       "    <tr>\n",
       "      <th>0</th>\n",
       "      <td>FC369F</td>\n",
       "      <td>customerfocused leadingedge protocol sports fi...</td>\n",
       "      <td>Sports &amp; Fitness</td>\n",
       "      <td>35.637997</td>\n",
       "      <td>140.002170</td>\n",
       "      <td>Tokyo</td>\n",
       "      <td>2025-06-25 13:17:55.718852</td>\n",
       "      <td>480</td>\n",
       "      <td>Cloudy</td>\n",
       "      <td>21.2</td>\n",
       "      <td>16.495123</td>\n",
       "      <td>False</td>\n",
       "    </tr>\n",
       "    <tr>\n",
       "      <th>1</th>\n",
       "      <td>CK086Y</td>\n",
       "      <td>visionary asymmetric access immersive experien...</td>\n",
       "      <td>Immersive Experiences</td>\n",
       "      <td>40.647622</td>\n",
       "      <td>-73.792194</td>\n",
       "      <td>New York</td>\n",
       "      <td>2025-06-16 13:13:06.621199</td>\n",
       "      <td>180</td>\n",
       "      <td>Clear</td>\n",
       "      <td>19.0</td>\n",
       "      <td>48.351475</td>\n",
       "      <td>True</td>\n",
       "    </tr>\n",
       "    <tr>\n",
       "      <th>2</th>\n",
       "      <td>ZJ670K</td>\n",
       "      <td>usercentric hybrid timeframe business networki...</td>\n",
       "      <td>Business &amp; Networking</td>\n",
       "      <td>48.559383</td>\n",
       "      <td>2.530325</td>\n",
       "      <td>Paris</td>\n",
       "      <td>2025-06-27 09:00:26.803485</td>\n",
       "      <td>360</td>\n",
       "      <td>Snow</td>\n",
       "      <td>11.6</td>\n",
       "      <td>43.398907</td>\n",
       "      <td>True</td>\n",
       "    </tr>\n",
       "    <tr>\n",
       "      <th>3</th>\n",
       "      <td>WP521V</td>\n",
       "      <td>standalone fullrange application food drink in...</td>\n",
       "      <td>Food &amp; Drink</td>\n",
       "      <td>19.445576</td>\n",
       "      <td>72.773147</td>\n",
       "      <td>Mumbai</td>\n",
       "      <td>2025-07-28 19:40:29.896955</td>\n",
       "      <td>180</td>\n",
       "      <td>Windy</td>\n",
       "      <td>28.4</td>\n",
       "      <td>22.903765</td>\n",
       "      <td>False</td>\n",
       "    </tr>\n",
       "    <tr>\n",
       "      <th>4</th>\n",
       "      <td>AO573V</td>\n",
       "      <td>devolved contentbased hierarchy food drink in ...</td>\n",
       "      <td>Food &amp; Drink</td>\n",
       "      <td>40.540794</td>\n",
       "      <td>-73.761227</td>\n",
       "      <td>New York</td>\n",
       "      <td>2025-07-26 18:25:27.929875</td>\n",
       "      <td>480</td>\n",
       "      <td>Rain</td>\n",
       "      <td>14.5</td>\n",
       "      <td>4.538231</td>\n",
       "      <td>False</td>\n",
       "    </tr>\n",
       "  </tbody>\n",
       "</table>\n",
       "</div>"
      ],
      "text/plain": [
       "  event_id                                              title  \\\n",
       "0   FC369F  customerfocused leadingedge protocol sports fi...   \n",
       "1   CK086Y  visionary asymmetric access immersive experien...   \n",
       "2   ZJ670K  usercentric hybrid timeframe business networki...   \n",
       "3   WP521V  standalone fullrange application food drink in...   \n",
       "4   AO573V  devolved contentbased hierarchy food drink in ...   \n",
       "\n",
       "                category  event_lat   event_lon event_city  \\\n",
       "0       Sports & Fitness  35.637997  140.002170      Tokyo   \n",
       "1  Immersive Experiences  40.647622  -73.792194   New York   \n",
       "2  Business & Networking  48.559383    2.530325      Paris   \n",
       "3           Food & Drink  19.445576   72.773147     Mumbai   \n",
       "4           Food & Drink  40.540794  -73.761227   New York   \n",
       "\n",
       "                  start_time  duration weather_condition  temperature  \\\n",
       "0 2025-06-25 13:17:55.718852       480            Cloudy         21.2   \n",
       "1 2025-06-16 13:13:06.621199       180             Clear         19.0   \n",
       "2 2025-06-27 09:00:26.803485       360              Snow         11.6   \n",
       "3 2025-07-28 19:40:29.896955       180             Windy         28.4   \n",
       "4 2025-07-26 18:25:27.929875       480              Rain         14.5   \n",
       "\n",
       "   attendance_rate  event_indoor_capability  \n",
       "0        16.495123                    False  \n",
       "1        48.351475                     True  \n",
       "2        43.398907                     True  \n",
       "3        22.903765                    False  \n",
       "4         4.538231                    False  "
      ]
     },
     "execution_count": 11,
     "metadata": {},
     "output_type": "execute_result"
    }
   ],
   "source": [
    "events_df.head()"
   ]
  },
  {
   "cell_type": "code",
   "execution_count": null,
   "metadata": {},
   "outputs": [],
   "source": [
    "# generate interactions data\n",
    "print(\"Generating interaction data...\")\n",
    "num_interactions = 500000\n",
    "interactions = generate_interactions(users_df, events_df, num_interactions)\n",
    "interactions_df = pd.DataFrame(interactions)\n",
    "\n",
    "# Add interaction_label for model training\n",
    "interactions_df['interaction_label'] = interactions_df['interaction_type'].apply(\n",
    "    lambda x: 1 if x in ['yes', 'invited & yes', 'maybe', 'invited & maybe'] else 0\n",
    ")\n",
    "# Clean the dataframes\n",
    "interactions_df = clean_text_columns(interactions_df)\n",
    "print(\"Done!\")\n"
   ]
  },
  {
   "cell_type": "code",
   "execution_count": 15,
   "metadata": {},
   "outputs": [],
   "source": [
    "# Save all generated data to csv\n",
    "events_df.to_csv(\"/home/nkama/masters_thesis_project/thesis/fully_synthetic_data/data/events.csv\",index=False )\n",
    "users_df.to_csv(\"/home/nkama/masters_thesis_project/thesis/fully_synthetic_data/data/users.csv\",index=False)\n",
    "interactions_df.to_csv(\"/home/nkama/masters_thesis_project/thesis/fully_synthetic_data/data/interactions.csv\",index=False)"
   ]
  },
  {
   "cell_type": "code",
   "execution_count": 4,
   "metadata": {},
   "outputs": [],
   "source": [
    "# import pandas as pd\n",
    "# events_df = pd.read_csv(\"/home/nkama/masters_thesis_project/thesis/events\" )\n",
    "# users_df = pd.read_csv(\"/home/nkama/masters_thesis_project/thesis/users.csv\")\n",
    "# interactions_df = pd.read_csv(\"/home/nkama/masters_thesis_project/thesis/interactions.csv\")"
   ]
  },
  {
   "cell_type": "code",
   "execution_count": 14,
   "metadata": {},
   "outputs": [],
   "source": [
    "# rename similar columns names found in both users and events data\n",
    "users_df.rename(columns={\n",
    "    \"weather_condition\" : \"user_weather_condition\",\n",
    "    \"temperature\": \"user_temperature\",\n",
    "    \"precipitation\":\"user_precipitation\"\n",
    "}, inplace = True)"
   ]
  },
  {
   "cell_type": "code",
   "execution_count": 15,
   "metadata": {},
   "outputs": [
    {
     "data": {
      "text/plain": [
       "Index(['user_id', 'user_lat', 'user_lon', 'user_city',\n",
       "       'indoor_outdoor_preference', 'age', 'user_interests', 'signup_date',\n",
       "       'social_connectedness', 'user_weather_condition', 'user_temperature',\n",
       "       'user_precipitation'],\n",
       "      dtype='object')"
      ]
     },
     "execution_count": 15,
     "metadata": {},
     "output_type": "execute_result"
    }
   ],
   "source": [
    "users_df.columns"
   ]
  },
  {
   "cell_type": "code",
   "execution_count": 22,
   "metadata": {},
   "outputs": [
    {
     "data": {
      "text/plain": [
       "(10000, 50000, 500000)"
      ]
     },
     "execution_count": 22,
     "metadata": {},
     "output_type": "execute_result"
    }
   ],
   "source": [
    "# check length of all generated datasets\n",
    "len(events_df), len(users_df), len(interactions_df)"
   ]
  },
  {
   "cell_type": "code",
   "execution_count": 25,
   "metadata": {},
   "outputs": [
    {
     "data": {
      "text/html": [
       "<div>\n",
       "<style scoped>\n",
       "    .dataframe tbody tr th:only-of-type {\n",
       "        vertical-align: middle;\n",
       "    }\n",
       "\n",
       "    .dataframe tbody tr th {\n",
       "        vertical-align: top;\n",
       "    }\n",
       "\n",
       "    .dataframe thead th {\n",
       "        text-align: right;\n",
       "    }\n",
       "</style>\n",
       "<table border=\"1\" class=\"dataframe\">\n",
       "  <thead>\n",
       "    <tr style=\"text-align: right;\">\n",
       "      <th></th>\n",
       "      <th>interaction_id</th>\n",
       "      <th>user_id</th>\n",
       "      <th>event_id</th>\n",
       "      <th>interaction_type</th>\n",
       "      <th>interaction_time</th>\n",
       "      <th>interaction_distance_to_event</th>\n",
       "      <th>interaction_label</th>\n",
       "    </tr>\n",
       "  </thead>\n",
       "  <tbody>\n",
       "    <tr>\n",
       "      <th>0</th>\n",
       "      <td>GM322S</td>\n",
       "      <td>DK924U</td>\n",
       "      <td>SW955O</td>\n",
       "      <td>invited &amp; no</td>\n",
       "      <td>2025-07-22 02:34:22.544292</td>\n",
       "      <td>15.442082</td>\n",
       "      <td>0</td>\n",
       "    </tr>\n",
       "    <tr>\n",
       "      <th>1</th>\n",
       "      <td>IP622F</td>\n",
       "      <td>PQ743E</td>\n",
       "      <td>KK727U</td>\n",
       "      <td>invited &amp; no</td>\n",
       "      <td>2025-08-26 14:43:31.919623</td>\n",
       "      <td>18.905958</td>\n",
       "      <td>0</td>\n",
       "    </tr>\n",
       "    <tr>\n",
       "      <th>2</th>\n",
       "      <td>QR516Z</td>\n",
       "      <td>NX067Y</td>\n",
       "      <td>KV778X</td>\n",
       "      <td>invited &amp; maybe</td>\n",
       "      <td>2025-10-12 20:59:39.916672</td>\n",
       "      <td>58.743016</td>\n",
       "      <td>1</td>\n",
       "    </tr>\n",
       "    <tr>\n",
       "      <th>3</th>\n",
       "      <td>KM455K</td>\n",
       "      <td>AJ787D</td>\n",
       "      <td>AF604G</td>\n",
       "      <td>yes</td>\n",
       "      <td>2025-08-19 08:32:51.533099</td>\n",
       "      <td>22.280995</td>\n",
       "      <td>1</td>\n",
       "    </tr>\n",
       "    <tr>\n",
       "      <th>4</th>\n",
       "      <td>NC809A</td>\n",
       "      <td>TA859C</td>\n",
       "      <td>DB908U</td>\n",
       "      <td>yes</td>\n",
       "      <td>2025-07-18 21:26:23.948365</td>\n",
       "      <td>56.605419</td>\n",
       "      <td>1</td>\n",
       "    </tr>\n",
       "  </tbody>\n",
       "</table>\n",
       "</div>"
      ],
      "text/plain": [
       "  interaction_id user_id event_id interaction_type  \\\n",
       "0         GM322S  DK924U   SW955O     invited & no   \n",
       "1         IP622F  PQ743E   KK727U     invited & no   \n",
       "2         QR516Z  NX067Y   KV778X  invited & maybe   \n",
       "3         KM455K  AJ787D   AF604G              yes   \n",
       "4         NC809A  TA859C   DB908U              yes   \n",
       "\n",
       "             interaction_time  interaction_distance_to_event  \\\n",
       "0  2025-07-22 02:34:22.544292                      15.442082   \n",
       "1  2025-08-26 14:43:31.919623                      18.905958   \n",
       "2  2025-10-12 20:59:39.916672                      58.743016   \n",
       "3  2025-08-19 08:32:51.533099                      22.280995   \n",
       "4  2025-07-18 21:26:23.948365                      56.605419   \n",
       "\n",
       "   interaction_label  \n",
       "0                  0  \n",
       "1                  0  \n",
       "2                  1  \n",
       "3                  1  \n",
       "4                  1  "
      ]
     },
     "execution_count": 25,
     "metadata": {},
     "output_type": "execute_result"
    }
   ],
   "source": [
    "interactions_df.head()\n"
   ]
  },
  {
   "cell_type": "code",
   "execution_count": 28,
   "metadata": {},
   "outputs": [],
   "source": [
    "#rename event category column to match event_type in semi-synthetic data\n",
    "events_df.rename(columns={\"category\":\"event_type\"},inplace = True)"
   ]
  },
  {
   "cell_type": "markdown",
   "metadata": {},
   "source": [
    "## <span style=\"color:#ff5f27\">🔮 Connect to Hopsworks Feature Store </span>"
   ]
  },
  {
   "cell_type": "markdown",
   "metadata": {},
   "source": [
    "### Create feature groups"
   ]
  },
  {
   "cell_type": "code",
   "execution_count": 30,
   "metadata": {},
   "outputs": [
    {
     "name": "stdout",
     "output_type": "stream",
     "text": [
      "Creating feature groups...\n"
     ]
    },
    {
     "name": "stderr",
     "output_type": "stream",
     "text": [
      "Uploading Dataframe: 100.00% |██████████| Rows 50000/50000 | Elapsed Time: 00:06 | Remaining Time: 00:00\n"
     ]
    },
    {
     "name": "stdout",
     "output_type": "stream",
     "text": [
      "Launching job: users_1_offline_fg_materialization\n",
      "Job started successfully, you can follow the progress at \n",
      "https://c.app.hopsworks.ai:443/p/1220788/jobs/named/users_1_offline_fg_materialization/executions\n",
      "Done ✅\n"
     ]
    }
   ],
   "source": [
    "# Create user feature groups\n",
    "print(\"Creating feature groups...\")\n",
    "users_fg = fs.get_or_create_feature_group(\n",
    "    name=\"users\",\n",
    "    version=1,\n",
    "    primary_key=[\"user_id\"],\n",
    "    online_enabled=True,\n",
    "    description=\"User features for weather-based event recommendation\"\n",
    ")\n",
    "\n",
    "users_fg.insert(users_df) # Insert data into feature groups\n",
    "print('Done ✅')"
   ]
  },
  {
   "cell_type": "code",
   "execution_count": 37,
   "metadata": {},
   "outputs": [
    {
     "name": "stdout",
     "output_type": "stream",
     "text": [
      "Feature Group created successfully, explore it at \n",
      "https://c.app.hopsworks.ai:443/p/1220788/fs/1208418/fg/1479135\n"
     ]
    },
    {
     "name": "stderr",
     "output_type": "stream",
     "text": [
      "Uploading Dataframe: 100.00% |██████████| Rows 10000/10000 | Elapsed Time: 00:02 | Remaining Time: 00:00\n"
     ]
    },
    {
     "name": "stdout",
     "output_type": "stream",
     "text": [
      "Launching job: events_1_offline_fg_materialization\n",
      "Job started successfully, you can follow the progress at \n",
      "https://c.app.hopsworks.ai:443/p/1220788/jobs/named/events_1_offline_fg_materialization/executions\n",
      "Done ✅\n"
     ]
    }
   ],
   "source": [
    "# Create events feature groups\n",
    "events_fg = fs.get_or_create_feature_group(\n",
    "    name=\"events\",\n",
    "    version=1,\n",
    "    primary_key=[\"event_id\"],\n",
    "    online_enabled=True,\n",
    "    description=\"Event features for weather-based event recommendation\"\n",
    ")\n",
    "\n",
    "events_fg.insert(events_df) # Insert data into feature groups\n",
    "print('Done ✅')\n"
   ]
  },
  {
   "cell_type": "code",
   "execution_count": 31,
   "metadata": {},
   "outputs": [
    {
     "name": "stdout",
     "output_type": "stream",
     "text": [
      "Feature Group created successfully, explore it at \n",
      "https://c.app.hopsworks.ai:443/p/1220788/fs/1208418/fg/1477094\n"
     ]
    },
    {
     "name": "stderr",
     "output_type": "stream",
     "text": [
      "Uploading Dataframe: 100.00% |██████████| Rows 500000/500000 | Elapsed Time: 00:43 | Remaining Time: 00:00\n"
     ]
    },
    {
     "name": "stdout",
     "output_type": "stream",
     "text": [
      "Launching job: interactions_1_offline_fg_materialization\n",
      "Job started successfully, you can follow the progress at \n",
      "https://c.app.hopsworks.ai:443/p/1220788/jobs/named/interactions_1_offline_fg_materialization/executions\n"
     ]
    },
    {
     "data": {
      "text/plain": [
       "(Job('interactions_1_offline_fg_materialization', 'SPARK'), None)"
      ]
     },
     "execution_count": 31,
     "metadata": {},
     "output_type": "execute_result"
    }
   ],
   "source": [
    "# Create interactions feature groups\n",
    "interactions_fg = fs.get_or_create_feature_group(\n",
    "    name=\"interactions\",\n",
    "    version=1,\n",
    "    primary_key=[\"interaction_id\",\"user_id\", \"event_id\"],\n",
    "    online_enabled=True,\n",
    "    description=\"User-event interactions for weather-based event recommendation\"\n",
    ")\n",
    "\n",
    "interactions_fg.insert(interactions_df) # Insert data into feature groups"
   ]
  },
  {
   "cell_type": "markdown",
   "metadata": {},
   "source": [
    "### create ranking feature group"
   ]
  },
  {
   "cell_type": "code",
   "execution_count": 32,
   "metadata": {},
   "outputs": [],
   "source": [
    "#create ranking feature group\n",
    "events_interactions_df = pd.merge(\n",
    "    interactions_df, \n",
    "    events_df, \n",
    "    on='event_id', \n",
    "    how='inner'  \n",
    ")\n",
    "\n",
    "ranking_df = pd.merge(\n",
    "    events_interactions_df, \n",
    "    users_df, \n",
    "    on='user_id', \n",
    "    how='inner',\n",
    "    #suffixes=('', '_event') \n",
    ")"
   ]
  },
  {
   "cell_type": "markdown",
   "metadata": {},
   "source": [
    "### create weather ranking data with weather information"
   ]
  },
  {
   "cell_type": "code",
   "execution_count": 33,
   "metadata": {},
   "outputs": [
    {
     "name": "stdout",
     "output_type": "stream",
     "text": [
      "Feature Group created successfully, explore it at \n",
      "https://c.app.hopsworks.ai:443/p/1220788/fs/1208418/fg/1479133\n"
     ]
    },
    {
     "name": "stderr",
     "output_type": "stream",
     "text": [
      "Uploading Dataframe: 100.00% |██████████| Rows 501500/501500 | Elapsed Time: 01:20 | Remaining Time: 00:00\n"
     ]
    },
    {
     "name": "stdout",
     "output_type": "stream",
     "text": [
      "Launching job: weather_ranking_1_offline_fg_materialization\n",
      "Job started successfully, you can follow the progress at \n",
      "https://c.app.hopsworks.ai:443/p/1220788/jobs/named/weather_ranking_1_offline_fg_materialization/executions\n",
      "Done ✅\n"
     ]
    }
   ],
   "source": [
    "ranking_df_with_weather = ranking_df.drop(\n",
    "    ['interaction_id', 'interaction_type','interaction_time',\\\n",
    "     'start_time', 'signup_date','social_connectedness'], \n",
    "    axis=1\n",
    ")\n",
    "\n",
    "ranking_fg_weather = fs.get_or_create_feature_group(\n",
    "    name=\"weather_ranking\",\n",
    "    description=\"Ranking Data with weather data.\",\n",
    "    version=1,\n",
    "    primary_key=[\"user_id\", \"event_id\"],\n",
    "    online_enabled=True,\n",
    "    #features=ranking_df_with_weather.columns.to_list()  # ← critical!\n",
    ")\n",
    "\n",
    "ranking_fg_weather.insert(ranking_df_with_weather)\n",
    "print('Done ✅')\n",
    "\n",
    "#save to local disk\n",
    "ranking_df_with_weather.to_csv(\"/home/nkama/masters_thesis_project/thesis/fully_synthetic_data/data/ranking_df_with_weather2.csv\")"
   ]
  },
  {
   "cell_type": "markdown",
   "metadata": {},
   "source": [
    "### create ranking data without weather information"
   ]
  },
  {
   "cell_type": "code",
   "execution_count": 36,
   "metadata": {},
   "outputs": [
    {
     "name": "stdout",
     "output_type": "stream",
     "text": [
      "Feature Group created successfully, explore it at \n",
      "https://c.app.hopsworks.ai:443/p/1220788/fs/1208418/fg/1479134\n"
     ]
    },
    {
     "name": "stderr",
     "output_type": "stream",
     "text": [
      "Uploading Dataframe: 100.00% |██████████| Rows 501500/501500 | Elapsed Time: 01:13 | Remaining Time: 00:00\n"
     ]
    },
    {
     "name": "stdout",
     "output_type": "stream",
     "text": [
      "Launching job: no_weather_ranking_1_offline_fg_materialization\n",
      "Job started successfully, you can follow the progress at \n",
      "https://c.app.hopsworks.ai:443/p/1220788/jobs/named/no_weather_ranking_1_offline_fg_materialization/executions\n",
      "Done ✅\n"
     ]
    }
   ],
   "source": [
    "# create ranking data without weather information\n",
    "ranking_df_without_weather = ranking_df.drop(['interaction_id', 'interaction_type',\n",
    "       'interaction_time', 'start_time','weather_condition',\n",
    "       'temperature', 'indoor_outdoor_preference',\n",
    "       'signup_date', 'social_connectedness'],axis=1)\n",
    "\n",
    "ranking_fg_without_weather = fs.get_or_create_feature_group(\n",
    "    name=\"no_weather_ranking\",\n",
    "    description=\"Ranking Data without weather conditions.\",\n",
    "    version=1,\n",
    "    primary_key=[\"user_id\", \"event_id\"],\n",
    "    online_enabled=True,\n",
    "    #features=ranking_df_without_weather.columns.to_list()\n",
    ")\n",
    "\n",
    "ranking_fg_without_weather.insert(ranking_df_without_weather)\n",
    "print('Done ✅')\n",
    "\n",
    "#save to local disk\n",
    "ranking_df_without_weather.to_csv(\"/home/nkama/masters_thesis_project/thesis/fully_synthetic_data/data/ranking_df_without_weather2.csv\")"
   ]
  }
 ],
 "metadata": {
  "kernelspec": {
   "display_name": "thesisenv",
   "language": "python",
   "name": "python3"
  },
  "language_info": {
   "codemirror_mode": {
    "name": "ipython",
    "version": 3
   },
   "file_extension": ".py",
   "mimetype": "text/x-python",
   "name": "python",
   "nbconvert_exporter": "python",
   "pygments_lexer": "ipython3",
   "version": "3.10.6"
  }
 },
 "nbformat": 4,
 "nbformat_minor": 2
}
