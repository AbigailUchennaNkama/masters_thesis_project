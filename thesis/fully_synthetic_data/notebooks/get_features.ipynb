{
 "cells": [
  {
   "cell_type": "code",
   "execution_count": 20,
   "metadata": {},
   "outputs": [],
   "source": [
    "import hopsworks\n",
    "import pandas as pd\n",
    "import numpy as np\n",
    "from datetime import datetime, timedelta\n",
    "import regex as re\n",
    "from thesis.fully_synthetic_data.src.users import generate_users\n",
    "from thesis.fully_synthetic_data.src.events import generate_events \n",
    "from thesis.fully_synthetic_data.src.interactions import generate_interactions \n"
   ]
  },
  {
   "cell_type": "markdown",
   "metadata": {},
   "source": [
    "## <span style='color:#ff5f27'> ⚙️ Data Generation</span>\n"
   ]
  },
  {
   "cell_type": "markdown",
   "metadata": {},
   "source": [
    "---"
   ]
  },
  {
   "cell_type": "markdown",
   "metadata": {},
   "source": [
    "### <span style='color:#ff5f27'> 👥 Users Data Generation</span>"
   ]
  },
  {
   "cell_type": "code",
   "execution_count": 21,
   "metadata": {},
   "outputs": [
    {
     "name": "stdout",
     "output_type": "stream",
     "text": [
      "2025-05-27 18:24:45,364 INFO: Initializing external client\n",
      "2025-05-27 18:24:45,366 INFO: Base URL: https://c.app.hopsworks.ai:443\n",
      "2025-05-27 18:24:46,788 INFO: Python Engine initialized.\n",
      "\n",
      "Logged in to project, explore it here https://c.app.hopsworks.ai:443/p/1220788\n"
     ]
    }
   ],
   "source": [
    "# Login to Hopsworks\n",
    "project = hopsworks.login()\n",
    "fs = project.get_feature_store()\n"
   ]
  },
  {
   "cell_type": "code",
   "execution_count": 18,
   "metadata": {},
   "outputs": [],
   "source": [
    "# clean text columns in the generated data\n",
    "def clean_text(text):\n",
    "    if not isinstance(text, str):\n",
    "        return \"unknown\"\n",
    "    text = text.lower().strip()\n",
    "    text = text.replace(',', ' ')\n",
    "    text = re.sub(r\"[^\\w\\s]\", \"\", text)  # remove punctuation\n",
    "    text = re.sub(r\"\\s+\", \" \", text)     # collapse multiple spaces\n",
    "    return text if text else \"unknown\"\n",
    "\n",
    "def clean_text_columns(df):\n",
    "    if 'title' in df.columns:\n",
    "        df[\"title\"] = df[\"title\"].apply(lambda x: clean_text(x) if isinstance(x, str) and x.strip() else \"unknown\")\n",
    "    if 'user_interests' in df.columns:\n",
    "        df[\"user_interests\"] = df[\"user_interests\"].apply(\n",
    "            lambda x: clean_text(x) if isinstance(x, str) and x.strip() else \"unknown\")\n",
    "        \n",
    "    return df\n",
    "\n"
   ]
  },
  {
   "cell_type": "code",
   "execution_count": null,
   "metadata": {},
   "outputs": [],
   "source": [
    "# Generate data\n",
    "print(\"Generating user data...\")\n",
    "num_users = 50000\n",
    "users = generate_users(num_users)\n",
    "users_df = pd.DataFrame(users)\n",
    "\n",
    "# Clean the dataframes\n",
    "users_df = clean_text_columns(users_df)\n",
    "print(\"Done!\")"
   ]
  },
  {
   "cell_type": "code",
   "execution_count": 58,
   "metadata": {},
   "outputs": [
    {
     "name": "stdout",
     "output_type": "stream",
     "text": [
      "Generating event data...\n",
      "Done!\n"
     ]
    }
   ],
   "source": [
    "\n",
    "print(\"Generating event data...\")\n",
    "num_events = 10000\n",
    "events = generate_events(num_events)\n",
    "events_df = pd.DataFrame(events)\n",
    "\n",
    "# Clean the dataframes\n",
    "events_df = clean_text_columns(events_df)\n",
    "print(\"Done!\")"
   ]
  },
  {
   "cell_type": "code",
   "execution_count": 60,
   "metadata": {},
   "outputs": [
    {
     "data": {
      "text/plain": [
       "Index(['event_id', 'title', 'event_type', 'event_lat', 'event_lon',\n",
       "       'event_city', 'start_time', 'duration', 'weather_condition',\n",
       "       'temperature', 'attendance_rate', 'event_indoor_capability'],\n",
       "      dtype='object')"
      ]
     },
     "execution_count": 60,
     "metadata": {},
     "output_type": "execute_result"
    }
   ],
   "source": [
    "events_df.columns"
   ]
  },
  {
   "cell_type": "code",
   "execution_count": 61,
   "metadata": {},
   "outputs": [
    {
     "name": "stdout",
     "output_type": "stream",
     "text": [
      "Generating interaction data...\n",
      "Done!\n"
     ]
    }
   ],
   "source": [
    "\n",
    "print(\"Generating interaction data...\")\n",
    "num_interactions = 500000\n",
    "interactions = generate_interactions(users_df, events_df, num_interactions)\n",
    "interactions_df = pd.DataFrame(interactions)\n",
    "\n",
    "# Add interaction_label for model training\n",
    "interactions_df['interaction_label'] = interactions_df['interaction_type'].apply(\n",
    "    lambda x: 1 if x in ['yes', 'invited & yes', 'maybe', 'invited & maybe'] else 0\n",
    ")\n",
    "# Clean the dataframes\n",
    "interactions_df = clean_text_columns(interactions_df)\n",
    "print(\"Done!\")\n"
   ]
  },
  {
   "cell_type": "code",
   "execution_count": 16,
   "metadata": {},
   "outputs": [],
   "source": [
    "events_df.to_csv(\"/home/nkama/masters_thesis_project/thesis/fully_synthetic_data/data/events.csv\",index=False )\n",
    "users_df.to_csv(\"/home/nkama/masters_thesis_project/thesis/fully_synthetic_data/data/users.csv\",index=False)\n",
    "interactions_df.to_csv(\"/home/nkama/masters_thesis_project/thesis/fully_synthetic_data/data/interactions.csv\",index=False)"
   ]
  },
  {
   "cell_type": "code",
   "execution_count": 4,
   "metadata": {},
   "outputs": [],
   "source": [
    "import pandas as pd\n",
    "events_df = pd.read_csv(\"/home/nkama/masters_thesis_project/thesis/events\" )\n",
    "users_df = pd.read_csv(\"/home/nkama/masters_thesis_project/thesis/users.csv\")\n",
    "interactions_df = pd.read_csv(\"/home/nkama/masters_thesis_project/thesis/interactions.csv\")"
   ]
  },
  {
   "cell_type": "code",
   "execution_count": 14,
   "metadata": {},
   "outputs": [],
   "source": [
    "users_df.rename(columns={\n",
    "    \"weather_condition\" : \"user_weather_condition\",\n",
    "    \"temperature\": \"user_temperature\",\n",
    "    \"precipitation\":\"user_precipitation\"\n",
    "}, inplace = True)"
   ]
  },
  {
   "cell_type": "code",
   "execution_count": 15,
   "metadata": {},
   "outputs": [
    {
     "data": {
      "text/plain": [
       "Index(['user_id', 'user_lat', 'user_lon', 'user_city',\n",
       "       'indoor_outdoor_preference', 'age', 'user_interests', 'signup_date',\n",
       "       'social_connectedness', 'user_weather_condition', 'user_temperature',\n",
       "       'user_precipitation'],\n",
       "      dtype='object')"
      ]
     },
     "execution_count": 15,
     "metadata": {},
     "output_type": "execute_result"
    }
   ],
   "source": [
    "users_df.columns"
   ]
  },
  {
   "cell_type": "code",
   "execution_count": 22,
   "metadata": {},
   "outputs": [
    {
     "data": {
      "text/plain": [
       "(10000, 50000, 500000)"
      ]
     },
     "execution_count": 22,
     "metadata": {},
     "output_type": "execute_result"
    }
   ],
   "source": [
    "len(events_df), len(users_df), len(interactions_df)\n"
   ]
  },
  {
   "cell_type": "code",
   "execution_count": 25,
   "metadata": {},
   "outputs": [
    {
     "data": {
      "text/html": [
       "<div>\n",
       "<style scoped>\n",
       "    .dataframe tbody tr th:only-of-type {\n",
       "        vertical-align: middle;\n",
       "    }\n",
       "\n",
       "    .dataframe tbody tr th {\n",
       "        vertical-align: top;\n",
       "    }\n",
       "\n",
       "    .dataframe thead th {\n",
       "        text-align: right;\n",
       "    }\n",
       "</style>\n",
       "<table border=\"1\" class=\"dataframe\">\n",
       "  <thead>\n",
       "    <tr style=\"text-align: right;\">\n",
       "      <th></th>\n",
       "      <th>interaction_id</th>\n",
       "      <th>user_id</th>\n",
       "      <th>event_id</th>\n",
       "      <th>interaction_type</th>\n",
       "      <th>interaction_time</th>\n",
       "      <th>interaction_distance_to_event</th>\n",
       "      <th>interaction_label</th>\n",
       "    </tr>\n",
       "  </thead>\n",
       "  <tbody>\n",
       "    <tr>\n",
       "      <th>0</th>\n",
       "      <td>GM322S</td>\n",
       "      <td>DK924U</td>\n",
       "      <td>SW955O</td>\n",
       "      <td>invited &amp; no</td>\n",
       "      <td>2025-07-22 02:34:22.544292</td>\n",
       "      <td>15.442082</td>\n",
       "      <td>0</td>\n",
       "    </tr>\n",
       "    <tr>\n",
       "      <th>1</th>\n",
       "      <td>IP622F</td>\n",
       "      <td>PQ743E</td>\n",
       "      <td>KK727U</td>\n",
       "      <td>invited &amp; no</td>\n",
       "      <td>2025-08-26 14:43:31.919623</td>\n",
       "      <td>18.905958</td>\n",
       "      <td>0</td>\n",
       "    </tr>\n",
       "    <tr>\n",
       "      <th>2</th>\n",
       "      <td>QR516Z</td>\n",
       "      <td>NX067Y</td>\n",
       "      <td>KV778X</td>\n",
       "      <td>invited &amp; maybe</td>\n",
       "      <td>2025-10-12 20:59:39.916672</td>\n",
       "      <td>58.743016</td>\n",
       "      <td>1</td>\n",
       "    </tr>\n",
       "    <tr>\n",
       "      <th>3</th>\n",
       "      <td>KM455K</td>\n",
       "      <td>AJ787D</td>\n",
       "      <td>AF604G</td>\n",
       "      <td>yes</td>\n",
       "      <td>2025-08-19 08:32:51.533099</td>\n",
       "      <td>22.280995</td>\n",
       "      <td>1</td>\n",
       "    </tr>\n",
       "    <tr>\n",
       "      <th>4</th>\n",
       "      <td>NC809A</td>\n",
       "      <td>TA859C</td>\n",
       "      <td>DB908U</td>\n",
       "      <td>yes</td>\n",
       "      <td>2025-07-18 21:26:23.948365</td>\n",
       "      <td>56.605419</td>\n",
       "      <td>1</td>\n",
       "    </tr>\n",
       "  </tbody>\n",
       "</table>\n",
       "</div>"
      ],
      "text/plain": [
       "  interaction_id user_id event_id interaction_type  \\\n",
       "0         GM322S  DK924U   SW955O     invited & no   \n",
       "1         IP622F  PQ743E   KK727U     invited & no   \n",
       "2         QR516Z  NX067Y   KV778X  invited & maybe   \n",
       "3         KM455K  AJ787D   AF604G              yes   \n",
       "4         NC809A  TA859C   DB908U              yes   \n",
       "\n",
       "             interaction_time  interaction_distance_to_event  \\\n",
       "0  2025-07-22 02:34:22.544292                      15.442082   \n",
       "1  2025-08-26 14:43:31.919623                      18.905958   \n",
       "2  2025-10-12 20:59:39.916672                      58.743016   \n",
       "3  2025-08-19 08:32:51.533099                      22.280995   \n",
       "4  2025-07-18 21:26:23.948365                      56.605419   \n",
       "\n",
       "   interaction_label  \n",
       "0                  0  \n",
       "1                  0  \n",
       "2                  1  \n",
       "3                  1  \n",
       "4                  1  "
      ]
     },
     "execution_count": 25,
     "metadata": {},
     "output_type": "execute_result"
    }
   ],
   "source": [
    "interactions_df.head()\n"
   ]
  },
  {
   "cell_type": "code",
   "execution_count": 28,
   "metadata": {},
   "outputs": [],
   "source": [
    "events_df.rename(columns={\"category\":\"event_type\"},inplace = True)"
   ]
  },
  {
   "cell_type": "markdown",
   "metadata": {},
   "source": [
    "## <span style=\"color:#ff5f27\">🔮 Connect to Hopsworks Feature Store </span>"
   ]
  },
  {
   "cell_type": "code",
   "execution_count": 30,
   "metadata": {},
   "outputs": [
    {
     "name": "stdout",
     "output_type": "stream",
     "text": [
      "Creating feature groups...\n"
     ]
    },
    {
     "name": "stderr",
     "output_type": "stream",
     "text": [
      "Uploading Dataframe: 100.00% |██████████| Rows 50000/50000 | Elapsed Time: 00:06 | Remaining Time: 00:00\n"
     ]
    },
    {
     "name": "stdout",
     "output_type": "stream",
     "text": [
      "Launching job: users_1_offline_fg_materialization\n",
      "Job started successfully, you can follow the progress at \n",
      "https://c.app.hopsworks.ai:443/p/1220788/jobs/named/users_1_offline_fg_materialization/executions\n",
      "Done ✅\n"
     ]
    }
   ],
   "source": [
    "# Create feature groups\n",
    "print(\"Creating feature groups...\")\n",
    "users_fg = fs.get_or_create_feature_group(\n",
    "    name=\"users\",\n",
    "    version=1,\n",
    "    primary_key=[\"user_id\"],\n",
    "    online_enabled=True,\n",
    "    description=\"User features for weather-based event recommendation\"\n",
    ")\n",
    "\n",
    "users_fg.insert(users_df) # Insert data into feature groups\n",
    "print('Done ✅')"
   ]
  },
  {
   "cell_type": "code",
   "execution_count": 37,
   "metadata": {},
   "outputs": [
    {
     "name": "stdout",
     "output_type": "stream",
     "text": [
      "Feature Group created successfully, explore it at \n",
      "https://c.app.hopsworks.ai:443/p/1220788/fs/1208418/fg/1479135\n"
     ]
    },
    {
     "name": "stderr",
     "output_type": "stream",
     "text": [
      "Uploading Dataframe: 100.00% |██████████| Rows 10000/10000 | Elapsed Time: 00:02 | Remaining Time: 00:00\n"
     ]
    },
    {
     "name": "stdout",
     "output_type": "stream",
     "text": [
      "Launching job: events_1_offline_fg_materialization\n",
      "Job started successfully, you can follow the progress at \n",
      "https://c.app.hopsworks.ai:443/p/1220788/jobs/named/events_1_offline_fg_materialization/executions\n",
      "Done ✅\n"
     ]
    }
   ],
   "source": [
    "\n",
    "events_fg = fs.get_or_create_feature_group(\n",
    "    name=\"events\",\n",
    "    version=1,\n",
    "    primary_key=[\"event_id\"],\n",
    "    online_enabled=True,\n",
    "    description=\"Event features for weather-based event recommendation\"\n",
    ")\n",
    "\n",
    "events_fg.insert(events_df) # Insert data into feature groups\n",
    "print('Done ✅')\n"
   ]
  },
  {
   "cell_type": "code",
   "execution_count": 35,
   "metadata": {},
   "outputs": [
    {
     "data": {
      "text/html": [
       "<div>\n",
       "<style scoped>\n",
       "    .dataframe tbody tr th:only-of-type {\n",
       "        vertical-align: middle;\n",
       "    }\n",
       "\n",
       "    .dataframe tbody tr th {\n",
       "        vertical-align: top;\n",
       "    }\n",
       "\n",
       "    .dataframe thead th {\n",
       "        text-align: right;\n",
       "    }\n",
       "</style>\n",
       "<table border=\"1\" class=\"dataframe\">\n",
       "  <thead>\n",
       "    <tr style=\"text-align: right;\">\n",
       "      <th></th>\n",
       "      <th>user_id</th>\n",
       "      <th>user_lat</th>\n",
       "      <th>user_lon</th>\n",
       "      <th>user_city</th>\n",
       "      <th>indoor_outdoor_preference</th>\n",
       "      <th>age</th>\n",
       "      <th>user_interests</th>\n",
       "      <th>signup_date</th>\n",
       "      <th>social_connectedness</th>\n",
       "      <th>user_weather_condition</th>\n",
       "      <th>user_temperature</th>\n",
       "      <th>user_precipitation</th>\n",
       "    </tr>\n",
       "  </thead>\n",
       "  <tbody>\n",
       "    <tr>\n",
       "      <th>0</th>\n",
       "      <td>EJ688Y</td>\n",
       "      <td>49.307314</td>\n",
       "      <td>2.584194</td>\n",
       "      <td>Paris</td>\n",
       "      <td>outdoor</td>\n",
       "      <td>40</td>\n",
       "      <td>sports,music,art,fashion</td>\n",
       "      <td>2025-03-19 08:38:22.020060</td>\n",
       "      <td>14</td>\n",
       "      <td>Clear</td>\n",
       "      <td>18.5</td>\n",
       "      <td>0.0</td>\n",
       "    </tr>\n",
       "    <tr>\n",
       "      <th>1</th>\n",
       "      <td>RA189K</td>\n",
       "      <td>40.727034</td>\n",
       "      <td>-73.913585</td>\n",
       "      <td>New York</td>\n",
       "      <td>outdoor</td>\n",
       "      <td>25</td>\n",
       "      <td>tech,sports</td>\n",
       "      <td>2023-11-29 02:06:51.906668</td>\n",
       "      <td>15</td>\n",
       "      <td>Clear</td>\n",
       "      <td>19.1</td>\n",
       "      <td>0.0</td>\n",
       "    </tr>\n",
       "  </tbody>\n",
       "</table>\n",
       "</div>"
      ],
      "text/plain": [
       "  user_id   user_lat   user_lon user_city indoor_outdoor_preference  age  \\\n",
       "0  EJ688Y  49.307314   2.584194     Paris                   outdoor   40   \n",
       "1  RA189K  40.727034 -73.913585  New York                   outdoor   25   \n",
       "\n",
       "             user_interests                 signup_date  social_connectedness  \\\n",
       "0  sports,music,art,fashion  2025-03-19 08:38:22.020060                    14   \n",
       "1               tech,sports  2023-11-29 02:06:51.906668                    15   \n",
       "\n",
       "  user_weather_condition  user_temperature  user_precipitation  \n",
       "0                  Clear              18.5                 0.0  \n",
       "1                  Clear              19.1                 0.0  "
      ]
     },
     "execution_count": 35,
     "metadata": {},
     "output_type": "execute_result"
    }
   ],
   "source": [
    "users_df.head(2)"
   ]
  },
  {
   "cell_type": "code",
   "execution_count": 31,
   "metadata": {},
   "outputs": [
    {
     "name": "stdout",
     "output_type": "stream",
     "text": [
      "Feature Group created successfully, explore it at \n",
      "https://c.app.hopsworks.ai:443/p/1220788/fs/1208418/fg/1477094\n"
     ]
    },
    {
     "name": "stderr",
     "output_type": "stream",
     "text": [
      "Uploading Dataframe: 100.00% |██████████| Rows 500000/500000 | Elapsed Time: 00:43 | Remaining Time: 00:00\n"
     ]
    },
    {
     "name": "stdout",
     "output_type": "stream",
     "text": [
      "Launching job: interactions_1_offline_fg_materialization\n",
      "Job started successfully, you can follow the progress at \n",
      "https://c.app.hopsworks.ai:443/p/1220788/jobs/named/interactions_1_offline_fg_materialization/executions\n"
     ]
    },
    {
     "data": {
      "text/plain": [
       "(Job('interactions_1_offline_fg_materialization', 'SPARK'), None)"
      ]
     },
     "execution_count": 31,
     "metadata": {},
     "output_type": "execute_result"
    }
   ],
   "source": [
    "interactions_fg = fs.get_or_create_feature_group(\n",
    "    name=\"interactions\",\n",
    "    version=1,\n",
    "    primary_key=[\"interaction_id\",\"user_id\", \"event_id\"],\n",
    "    online_enabled=True,\n",
    "    description=\"User-event interactions for weather-based event recommendation\"\n",
    ")\n",
    "\n",
    "interactions_fg.insert(interactions_df) # Insert data into feature groups"
   ]
  },
  {
   "cell_type": "markdown",
   "metadata": {},
   "source": [
    "### create ranking feature group"
   ]
  },
  {
   "cell_type": "code",
   "execution_count": 32,
   "metadata": {},
   "outputs": [],
   "source": [
    "#create ranking feature group\n",
    "events_interactions_df = pd.merge(\n",
    "    interactions_df, \n",
    "    events_df, \n",
    "    on='event_id', \n",
    "    how='inner'  \n",
    ")\n",
    "\n",
    "ranking_df = pd.merge(\n",
    "    events_interactions_df, \n",
    "    users_df, \n",
    "    on='user_id', \n",
    "    how='inner',\n",
    "    #suffixes=('', '_event') \n",
    ")"
   ]
  },
  {
   "cell_type": "markdown",
   "metadata": {},
   "source": [
    "### create weather ranking data with weather information"
   ]
  },
  {
   "cell_type": "code",
   "execution_count": 33,
   "metadata": {},
   "outputs": [
    {
     "name": "stdout",
     "output_type": "stream",
     "text": [
      "Feature Group created successfully, explore it at \n",
      "https://c.app.hopsworks.ai:443/p/1220788/fs/1208418/fg/1479133\n"
     ]
    },
    {
     "name": "stderr",
     "output_type": "stream",
     "text": [
      "Uploading Dataframe: 100.00% |██████████| Rows 501500/501500 | Elapsed Time: 01:20 | Remaining Time: 00:00\n"
     ]
    },
    {
     "name": "stdout",
     "output_type": "stream",
     "text": [
      "Launching job: weather_ranking_1_offline_fg_materialization\n",
      "Job started successfully, you can follow the progress at \n",
      "https://c.app.hopsworks.ai:443/p/1220788/jobs/named/weather_ranking_1_offline_fg_materialization/executions\n",
      "Done ✅\n"
     ]
    }
   ],
   "source": [
    "ranking_df_with_weather = ranking_df.drop(\n",
    "    ['interaction_id', 'interaction_type','interaction_time',\\\n",
    "     'start_time', 'signup_date','social_connectedness'], \n",
    "    axis=1\n",
    ")\n",
    "\n",
    "ranking_fg_weather = fs.get_or_create_feature_group(\n",
    "    name=\"weather_ranking\",\n",
    "    description=\"Ranking Data with weather data.\",\n",
    "    version=1,\n",
    "    primary_key=[\"user_id\", \"event_id\"],\n",
    "    online_enabled=True,\n",
    "    #features=ranking_df_with_weather.columns.to_list()  # ← critical!\n",
    ")\n",
    "\n",
    "ranking_fg_weather.insert(ranking_df_with_weather)\n",
    "print('Done ✅')\n",
    "\n",
    "#save to local disk\n",
    "ranking_df_with_weather.to_csv(\"/home/nkama/masters_thesis_project/thesis/fully_synthetic_data/data/ranking_df_with_weather2.csv\")"
   ]
  },
  {
   "cell_type": "code",
   "execution_count": 34,
   "metadata": {},
   "outputs": [
    {
     "data": {
      "text/html": [
       "<div>\n",
       "<style scoped>\n",
       "    .dataframe tbody tr th:only-of-type {\n",
       "        vertical-align: middle;\n",
       "    }\n",
       "\n",
       "    .dataframe tbody tr th {\n",
       "        vertical-align: top;\n",
       "    }\n",
       "\n",
       "    .dataframe thead th {\n",
       "        text-align: right;\n",
       "    }\n",
       "</style>\n",
       "<table border=\"1\" class=\"dataframe\">\n",
       "  <thead>\n",
       "    <tr style=\"text-align: right;\">\n",
       "      <th></th>\n",
       "      <th>event_id</th>\n",
       "      <th>title</th>\n",
       "      <th>event_type</th>\n",
       "      <th>event_lat</th>\n",
       "      <th>event_lon</th>\n",
       "      <th>event_city</th>\n",
       "      <th>start_time</th>\n",
       "      <th>duration</th>\n",
       "      <th>weather_condition</th>\n",
       "      <th>temperature</th>\n",
       "      <th>precipitation</th>\n",
       "      <th>attendance_rate</th>\n",
       "      <th>event_indoor_capability</th>\n",
       "    </tr>\n",
       "  </thead>\n",
       "  <tbody>\n",
       "    <tr>\n",
       "      <th>0</th>\n",
       "      <td>KI949R</td>\n",
       "      <td>Future-proofed object-oriented superstructure ...</td>\n",
       "      <td>Arts &amp; Culture</td>\n",
       "      <td>48.391390</td>\n",
       "      <td>1.976128</td>\n",
       "      <td>Paris</td>\n",
       "      <td>2025-06-03 09:23:09.030473</td>\n",
       "      <td>120</td>\n",
       "      <td>Clear</td>\n",
       "      <td>20.7</td>\n",
       "      <td>0.00</td>\n",
       "      <td>40.523999</td>\n",
       "      <td>True</td>\n",
       "    </tr>\n",
       "    <tr>\n",
       "      <th>1</th>\n",
       "      <td>HI261W</td>\n",
       "      <td>Compatible optimal analyzer Health &amp; Wellness ...</td>\n",
       "      <td>Health &amp; Wellness</td>\n",
       "      <td>51.519833</td>\n",
       "      <td>-0.295177</td>\n",
       "      <td>London</td>\n",
       "      <td>2025-09-01 19:41:01.676911</td>\n",
       "      <td>180</td>\n",
       "      <td>Clear</td>\n",
       "      <td>16.6</td>\n",
       "      <td>0.00</td>\n",
       "      <td>50.663219</td>\n",
       "      <td>False</td>\n",
       "    </tr>\n",
       "    <tr>\n",
       "      <th>2</th>\n",
       "      <td>YY535R</td>\n",
       "      <td>Open-source tertiary intranet Sports &amp; Fitness...</td>\n",
       "      <td>Sports &amp; Fitness</td>\n",
       "      <td>40.636058</td>\n",
       "      <td>-74.279254</td>\n",
       "      <td>New York</td>\n",
       "      <td>2025-09-20 14:03:42.135680</td>\n",
       "      <td>120</td>\n",
       "      <td>Clear</td>\n",
       "      <td>18.7</td>\n",
       "      <td>0.00</td>\n",
       "      <td>22.626720</td>\n",
       "      <td>False</td>\n",
       "    </tr>\n",
       "    <tr>\n",
       "      <th>3</th>\n",
       "      <td>SC800A</td>\n",
       "      <td>Automated interactive migration Food &amp; Drink i...</td>\n",
       "      <td>Food &amp; Drink</td>\n",
       "      <td>18.664479</td>\n",
       "      <td>73.198802</td>\n",
       "      <td>Mumbai</td>\n",
       "      <td>2025-10-21 18:39:07.866464</td>\n",
       "      <td>120</td>\n",
       "      <td>Cloudy</td>\n",
       "      <td>29.3</td>\n",
       "      <td>0.48</td>\n",
       "      <td>39.114844</td>\n",
       "      <td>False</td>\n",
       "    </tr>\n",
       "    <tr>\n",
       "      <th>4</th>\n",
       "      <td>YI400R</td>\n",
       "      <td>Face-to-face real-time framework Arts &amp; Cultur...</td>\n",
       "      <td>Arts &amp; Culture</td>\n",
       "      <td>40.529525</td>\n",
       "      <td>-73.533329</td>\n",
       "      <td>New York</td>\n",
       "      <td>2025-10-29 19:29:52.046278</td>\n",
       "      <td>120</td>\n",
       "      <td>Clear</td>\n",
       "      <td>18.3</td>\n",
       "      <td>0.00</td>\n",
       "      <td>9.704529</td>\n",
       "      <td>True</td>\n",
       "    </tr>\n",
       "  </tbody>\n",
       "</table>\n",
       "</div>"
      ],
      "text/plain": [
       "  event_id                                              title  \\\n",
       "0   KI949R  Future-proofed object-oriented superstructure ...   \n",
       "1   HI261W  Compatible optimal analyzer Health & Wellness ...   \n",
       "2   YY535R  Open-source tertiary intranet Sports & Fitness...   \n",
       "3   SC800A  Automated interactive migration Food & Drink i...   \n",
       "4   YI400R  Face-to-face real-time framework Arts & Cultur...   \n",
       "\n",
       "          event_type  event_lat  event_lon event_city  \\\n",
       "0     Arts & Culture  48.391390   1.976128      Paris   \n",
       "1  Health & Wellness  51.519833  -0.295177     London   \n",
       "2   Sports & Fitness  40.636058 -74.279254   New York   \n",
       "3       Food & Drink  18.664479  73.198802     Mumbai   \n",
       "4     Arts & Culture  40.529525 -73.533329   New York   \n",
       "\n",
       "                   start_time  duration weather_condition  temperature  \\\n",
       "0  2025-06-03 09:23:09.030473       120             Clear         20.7   \n",
       "1  2025-09-01 19:41:01.676911       180             Clear         16.6   \n",
       "2  2025-09-20 14:03:42.135680       120             Clear         18.7   \n",
       "3  2025-10-21 18:39:07.866464       120            Cloudy         29.3   \n",
       "4  2025-10-29 19:29:52.046278       120             Clear         18.3   \n",
       "\n",
       "   precipitation  attendance_rate  event_indoor_capability  \n",
       "0           0.00        40.523999                     True  \n",
       "1           0.00        50.663219                    False  \n",
       "2           0.00        22.626720                    False  \n",
       "3           0.48        39.114844                    False  \n",
       "4           0.00         9.704529                     True  "
      ]
     },
     "execution_count": 34,
     "metadata": {},
     "output_type": "execute_result"
    }
   ],
   "source": [
    "events_df.head()"
   ]
  },
  {
   "cell_type": "markdown",
   "metadata": {},
   "source": [
    "### create ranking data without weather information"
   ]
  },
  {
   "cell_type": "code",
   "execution_count": 36,
   "metadata": {},
   "outputs": [
    {
     "name": "stdout",
     "output_type": "stream",
     "text": [
      "Feature Group created successfully, explore it at \n",
      "https://c.app.hopsworks.ai:443/p/1220788/fs/1208418/fg/1479134\n"
     ]
    },
    {
     "name": "stderr",
     "output_type": "stream",
     "text": [
      "Uploading Dataframe: 100.00% |██████████| Rows 501500/501500 | Elapsed Time: 01:13 | Remaining Time: 00:00\n"
     ]
    },
    {
     "name": "stdout",
     "output_type": "stream",
     "text": [
      "Launching job: no_weather_ranking_1_offline_fg_materialization\n",
      "Job started successfully, you can follow the progress at \n",
      "https://c.app.hopsworks.ai:443/p/1220788/jobs/named/no_weather_ranking_1_offline_fg_materialization/executions\n",
      "Done ✅\n"
     ]
    }
   ],
   "source": [
    "# create ranking data without weather information\n",
    "ranking_df_without_weather = ranking_df.drop(['interaction_id', 'interaction_type',\n",
    "       'interaction_time', 'start_time','weather_condition',\n",
    "       'temperature', 'indoor_outdoor_preference',\n",
    "       'signup_date', 'social_connectedness'],axis=1)\n",
    "\n",
    "ranking_fg_without_weather = fs.get_or_create_feature_group(\n",
    "    name=\"no_weather_ranking\",\n",
    "    description=\"Ranking Data without weather conditions.\",\n",
    "    version=1,\n",
    "    primary_key=[\"user_id\", \"event_id\"],\n",
    "    online_enabled=True,\n",
    "    #features=ranking_df_without_weather.columns.to_list()\n",
    ")\n",
    "\n",
    "ranking_fg_without_weather.insert(ranking_df_without_weather)\n",
    "print('Done ✅')\n",
    "\n",
    "#save to local disk\n",
    "ranking_df_without_weather.to_csv(\"/home/nkama/masters_thesis_project/thesis/fully_synthetic_data/data/ranking_df_without_weather2.csv\")"
   ]
  }
 ],
 "metadata": {
  "kernelspec": {
   "display_name": "thesisenv",
   "language": "python",
   "name": "python3"
  },
  "language_info": {
   "codemirror_mode": {
    "name": "ipython",
    "version": 3
   },
   "file_extension": ".py",
   "mimetype": "text/x-python",
   "name": "python",
   "nbconvert_exporter": "python",
   "pygments_lexer": "ipython3",
   "version": "3.10.6"
  }
 },
 "nbformat": 4,
 "nbformat_minor": 2
}
