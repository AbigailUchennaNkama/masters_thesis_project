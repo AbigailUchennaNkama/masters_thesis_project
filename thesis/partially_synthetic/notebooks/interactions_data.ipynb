{
 "cells": [
  {
   "cell_type": "markdown",
   "metadata": {},
   "source": [
    "\n",
    "# **Create Interactions Data**"
   ]
  },
  {
   "cell_type": "code",
   "execution_count": 1,
   "metadata": {},
   "outputs": [],
   "source": [
    "import dask.dataframe as dd\n",
    "import pandas as pd\n"
   ]
  },
  {
   "cell_type": "code",
   "execution_count": 12,
   "metadata": {},
   "outputs": [],
   "source": [
    "df_attendees = dd.read_csv(\"/home/nkama/masters_thesis_project/thesis/data/event_rec_engine_challenge/event_attendees.csv\",\n",
    "                       dtype={\n",
    "                           'event': 'object'\n",
    "                       })\n"
   ]
  },
  {
   "cell_type": "markdown",
   "metadata": {},
   "source": [
    "\n",
    "## Get User-Event Records\n"
   ]
  },
  {
   "cell_type": "code",
   "execution_count": 13,
   "metadata": {},
   "outputs": [
    {
     "data": {
      "text/html": [
       "<div>\n",
       "<style scoped>\n",
       "    .dataframe tbody tr th:only-of-type {\n",
       "        vertical-align: middle;\n",
       "    }\n",
       "\n",
       "    .dataframe tbody tr th {\n",
       "        vertical-align: top;\n",
       "    }\n",
       "\n",
       "    .dataframe thead th {\n",
       "        text-align: right;\n",
       "    }\n",
       "</style>\n",
       "<table border=\"1\" class=\"dataframe\">\n",
       "  <thead>\n",
       "    <tr style=\"text-align: right;\">\n",
       "      <th></th>\n",
       "      <th>event</th>\n",
       "      <th>yes</th>\n",
       "      <th>maybe</th>\n",
       "      <th>invited</th>\n",
       "      <th>no</th>\n",
       "    </tr>\n",
       "  </thead>\n",
       "  <tbody>\n",
       "    <tr>\n",
       "      <th>0</th>\n",
       "      <td>1159822043</td>\n",
       "      <td>1975964455 252302513 4226086795 3805886383 142...</td>\n",
       "      <td>2733420590 517546982 1350834692 532087573 5831...</td>\n",
       "      <td>1723091036 3795873583 4109144917 3560622906 31...</td>\n",
       "      <td>3575574655 1077296663</td>\n",
       "    </tr>\n",
       "    <tr>\n",
       "      <th>1</th>\n",
       "      <td>686467261</td>\n",
       "      <td>2394228942 2686116898 1056558062 3792942231 41...</td>\n",
       "      <td>1498184352 645689144 3770076778 331335845 4239...</td>\n",
       "      <td>1788073374 733302094 1830571649 676508092 7081...</td>\n",
       "      <td>&lt;NA&gt;</td>\n",
       "    </tr>\n",
       "    <tr>\n",
       "      <th>2</th>\n",
       "      <td>1186208412</td>\n",
       "      <td>&lt;NA&gt;</td>\n",
       "      <td>3320380166 3810793697</td>\n",
       "      <td>1379121209 440668682</td>\n",
       "      <td>1728988561 2950720854</td>\n",
       "    </tr>\n",
       "    <tr>\n",
       "      <th>3</th>\n",
       "      <td>2621578336</td>\n",
       "      <td>&lt;NA&gt;</td>\n",
       "      <td>&lt;NA&gt;</td>\n",
       "      <td>&lt;NA&gt;</td>\n",
       "      <td>&lt;NA&gt;</td>\n",
       "    </tr>\n",
       "    <tr>\n",
       "      <th>4</th>\n",
       "      <td>855842686</td>\n",
       "      <td>2406118796 3550897984 294255260 1125817077 109...</td>\n",
       "      <td>2671721559 1761448345 2356975806 2666669465 10...</td>\n",
       "      <td>1518670705 880919237 2326414227 2673818347 332...</td>\n",
       "      <td>3500235232</td>\n",
       "    </tr>\n",
       "  </tbody>\n",
       "</table>\n",
       "</div>"
      ],
      "text/plain": [
       "        event                                                yes  \\\n",
       "0  1159822043  1975964455 252302513 4226086795 3805886383 142...   \n",
       "1   686467261  2394228942 2686116898 1056558062 3792942231 41...   \n",
       "2  1186208412                                               <NA>   \n",
       "3  2621578336                                               <NA>   \n",
       "4   855842686  2406118796 3550897984 294255260 1125817077 109...   \n",
       "\n",
       "                                               maybe  \\\n",
       "0  2733420590 517546982 1350834692 532087573 5831...   \n",
       "1  1498184352 645689144 3770076778 331335845 4239...   \n",
       "2                              3320380166 3810793697   \n",
       "3                                               <NA>   \n",
       "4  2671721559 1761448345 2356975806 2666669465 10...   \n",
       "\n",
       "                                             invited                     no  \n",
       "0  1723091036 3795873583 4109144917 3560622906 31...  3575574655 1077296663  \n",
       "1  1788073374 733302094 1830571649 676508092 7081...                   <NA>  \n",
       "2                               1379121209 440668682  1728988561 2950720854  \n",
       "3                                               <NA>                   <NA>  \n",
       "4  1518670705 880919237 2326414227 2673818347 332...             3500235232  "
      ]
     },
     "execution_count": 13,
     "metadata": {},
     "output_type": "execute_result"
    }
   ],
   "source": [
    "df_attendees.head()"
   ]
  },
  {
   "cell_type": "code",
   "execution_count": 14,
   "metadata": {},
   "outputs": [
    {
     "data": {
      "text/plain": [
       "event         0\n",
       "yes        1984\n",
       "maybe      3167\n",
       "invited    1822\n",
       "no         6659\n",
       "dtype: int64"
      ]
     },
     "execution_count": 14,
     "metadata": {},
     "output_type": "execute_result"
    }
   ],
   "source": [
    "df_attendees.isnull().sum().compute()"
   ]
  },
  {
   "cell_type": "code",
   "execution_count": 15,
   "metadata": {},
   "outputs": [],
   "source": [
    "\n",
    "col = ['yes',\t'maybe', 'invited',\t'no']\n",
    "df_attendee_new = df_attendees.dropna(subset=col, how='all')"
   ]
  },
  {
   "cell_type": "code",
   "execution_count": 16,
   "metadata": {},
   "outputs": [
    {
     "data": {
      "text/html": [
       "<div>\n",
       "<style scoped>\n",
       "    .dataframe tbody tr th:only-of-type {\n",
       "        vertical-align: middle;\n",
       "    }\n",
       "\n",
       "    .dataframe tbody tr th {\n",
       "        vertical-align: top;\n",
       "    }\n",
       "\n",
       "    .dataframe thead th {\n",
       "        text-align: right;\n",
       "    }\n",
       "</style>\n",
       "<table border=\"1\" class=\"dataframe\">\n",
       "  <thead>\n",
       "    <tr style=\"text-align: right;\">\n",
       "      <th></th>\n",
       "      <th>event</th>\n",
       "      <th>yes</th>\n",
       "      <th>maybe</th>\n",
       "      <th>invited</th>\n",
       "      <th>no</th>\n",
       "    </tr>\n",
       "  </thead>\n",
       "  <tbody>\n",
       "    <tr>\n",
       "      <th>0</th>\n",
       "      <td>1159822043</td>\n",
       "      <td>1975964455 252302513 4226086795 3805886383 142...</td>\n",
       "      <td>2733420590 517546982 1350834692 532087573 5831...</td>\n",
       "      <td>1723091036 3795873583 4109144917 3560622906 31...</td>\n",
       "      <td>3575574655 1077296663</td>\n",
       "    </tr>\n",
       "    <tr>\n",
       "      <th>1</th>\n",
       "      <td>686467261</td>\n",
       "      <td>2394228942 2686116898 1056558062 3792942231 41...</td>\n",
       "      <td>1498184352 645689144 3770076778 331335845 4239...</td>\n",
       "      <td>1788073374 733302094 1830571649 676508092 7081...</td>\n",
       "      <td>&lt;NA&gt;</td>\n",
       "    </tr>\n",
       "    <tr>\n",
       "      <th>2</th>\n",
       "      <td>1186208412</td>\n",
       "      <td>&lt;NA&gt;</td>\n",
       "      <td>3320380166 3810793697</td>\n",
       "      <td>1379121209 440668682</td>\n",
       "      <td>1728988561 2950720854</td>\n",
       "    </tr>\n",
       "    <tr>\n",
       "      <th>4</th>\n",
       "      <td>855842686</td>\n",
       "      <td>2406118796 3550897984 294255260 1125817077 109...</td>\n",
       "      <td>2671721559 1761448345 2356975806 2666669465 10...</td>\n",
       "      <td>1518670705 880919237 2326414227 2673818347 332...</td>\n",
       "      <td>3500235232</td>\n",
       "    </tr>\n",
       "    <tr>\n",
       "      <th>6</th>\n",
       "      <td>488116622</td>\n",
       "      <td>4145960786 2550625355 2577667841 1575121941 28...</td>\n",
       "      <td>1227223575 2789471603 1323321680 3086272918 38...</td>\n",
       "      <td>1413359297 2300232602 1412759254 617751520 286...</td>\n",
       "      <td>1498160155 3708150269 823488244 3595018395 173...</td>\n",
       "    </tr>\n",
       "  </tbody>\n",
       "</table>\n",
       "</div>"
      ],
      "text/plain": [
       "        event                                                yes  \\\n",
       "0  1159822043  1975964455 252302513 4226086795 3805886383 142...   \n",
       "1   686467261  2394228942 2686116898 1056558062 3792942231 41...   \n",
       "2  1186208412                                               <NA>   \n",
       "4   855842686  2406118796 3550897984 294255260 1125817077 109...   \n",
       "6   488116622  4145960786 2550625355 2577667841 1575121941 28...   \n",
       "\n",
       "                                               maybe  \\\n",
       "0  2733420590 517546982 1350834692 532087573 5831...   \n",
       "1  1498184352 645689144 3770076778 331335845 4239...   \n",
       "2                              3320380166 3810793697   \n",
       "4  2671721559 1761448345 2356975806 2666669465 10...   \n",
       "6  1227223575 2789471603 1323321680 3086272918 38...   \n",
       "\n",
       "                                             invited  \\\n",
       "0  1723091036 3795873583 4109144917 3560622906 31...   \n",
       "1  1788073374 733302094 1830571649 676508092 7081...   \n",
       "2                               1379121209 440668682   \n",
       "4  1518670705 880919237 2326414227 2673818347 332...   \n",
       "6  1413359297 2300232602 1412759254 617751520 286...   \n",
       "\n",
       "                                                  no  \n",
       "0                              3575574655 1077296663  \n",
       "1                                               <NA>  \n",
       "2                              1728988561 2950720854  \n",
       "4                                         3500235232  \n",
       "6  1498160155 3708150269 823488244 3595018395 173...  "
      ]
     },
     "execution_count": 16,
     "metadata": {},
     "output_type": "execute_result"
    }
   ],
   "source": [
    "df_attendee_new.head()"
   ]
  },
  {
   "cell_type": "code",
   "execution_count": 17,
   "metadata": {},
   "outputs": [
    {
     "data": {
      "text/plain": [
       "272"
      ]
     },
     "execution_count": 17,
     "metadata": {},
     "output_type": "execute_result"
    }
   ],
   "source": [
    "df = df_attendee_new[(df_attendee_new['yes'].isna() & df_attendee_new['maybe'].isna() & df_attendee_new['no'].isna())]\n",
    "\n",
    "len(df)"
   ]
  },
  {
   "cell_type": "code",
   "execution_count": 18,
   "metadata": {},
   "outputs": [],
   "source": [
    "# Fill remaining NaN values with 0\n",
    "df_attendee_new = df_attendee_new.fillna('0')"
   ]
  },
  {
   "cell_type": "code",
   "execution_count": 19,
   "metadata": {},
   "outputs": [],
   "source": [
    "#df_attendee_new.compute().to_csv(\"attendee_new.csv\",index=False)"
   ]
  },
  {
   "cell_type": "markdown",
   "metadata": {},
   "source": [
    "\n",
    "## Count total reactions on each event\n",
    "\n",
    "We check if the input is '0' and return 0 if it is.\n",
    "\n",
    "We convert the input to a string before splitting, to handle potential numeric inputs.\n",
    "\n",
    "We filter out '0' values when counting users.\n",
    "\n",
    "We renamed 'total_reactions' to 'total_users' for clarity.\n",
    "\n",
    "These modifications ensure that:\n",
    "\n",
    "A single '0' in a column is counted as 0 users.\n",
    "\n",
    "'0' values mixed with other user IDs are not counted.\n"
   ]
  },
  {
   "cell_type": "code",
   "execution_count": 20,
   "metadata": {},
   "outputs": [],
   "source": [
    "import dask.dataframe as dd\n",
    "import pandas as pd\n",
    "import numpy as np\n",
    "\n",
    "# Function to count users in a space-separated string\n",
    "def count_users(x):\n",
    "    if pd.isna(x) or x == '0':\n",
    "        return 0\n",
    "    users = str(x).split()\n",
    "    return len([u for u in users if u != '0'])\n",
    "\n",
    "# Create new columns for user counts directly in the original dataframe\n",
    "for column in ['yes', 'maybe', 'invited', 'no']:\n",
    "    df_attendee_new[f'{column}_count'] = df_attendee_new[column].apply(count_users, meta=('x', 'int'))\n",
    "\n",
    "# Calculate total attendees (sum of all categories)\n",
    "df_attendee_new['total_users'] = df_attendee_new['yes_count'] + \\\n",
    "                              df_attendee_new['maybe_count'] + \\\n",
    "                              df_attendee_new['invited_count'] + \\\n",
    "                              df_attendee_new['no_count']\n",
    "\n",
    "# Select only the event and count columns\n",
    "attendance_counts = df_attendee_new[['event', 'yes_count', 'maybe_count', 'invited_count', 'no_count', 'total_users']]\n",
    "\n",
    "attendance_counts = attendance_counts.compute()\n"
   ]
  },
  {
   "cell_type": "code",
   "execution_count": 21,
   "metadata": {},
   "outputs": [
    {
     "data": {
      "text/html": [
       "<div>\n",
       "<style scoped>\n",
       "    .dataframe tbody tr th:only-of-type {\n",
       "        vertical-align: middle;\n",
       "    }\n",
       "\n",
       "    .dataframe tbody tr th {\n",
       "        vertical-align: top;\n",
       "    }\n",
       "\n",
       "    .dataframe thead th {\n",
       "        text-align: right;\n",
       "    }\n",
       "</style>\n",
       "<table border=\"1\" class=\"dataframe\">\n",
       "  <thead>\n",
       "    <tr style=\"text-align: right;\">\n",
       "      <th></th>\n",
       "      <th>event</th>\n",
       "      <th>yes_count</th>\n",
       "      <th>maybe_count</th>\n",
       "      <th>invited_count</th>\n",
       "      <th>no_count</th>\n",
       "      <th>total_users</th>\n",
       "    </tr>\n",
       "  </thead>\n",
       "  <tbody>\n",
       "    <tr>\n",
       "      <th>0</th>\n",
       "      <td>1159822043</td>\n",
       "      <td>7</td>\n",
       "      <td>7</td>\n",
       "      <td>70</td>\n",
       "      <td>2</td>\n",
       "      <td>86</td>\n",
       "    </tr>\n",
       "    <tr>\n",
       "      <th>1</th>\n",
       "      <td>686467261</td>\n",
       "      <td>11</td>\n",
       "      <td>8</td>\n",
       "      <td>75</td>\n",
       "      <td>0</td>\n",
       "      <td>94</td>\n",
       "    </tr>\n",
       "    <tr>\n",
       "      <th>2</th>\n",
       "      <td>1186208412</td>\n",
       "      <td>0</td>\n",
       "      <td>2</td>\n",
       "      <td>2</td>\n",
       "      <td>2</td>\n",
       "      <td>6</td>\n",
       "    </tr>\n",
       "    <tr>\n",
       "      <th>4</th>\n",
       "      <td>855842686</td>\n",
       "      <td>6</td>\n",
       "      <td>6</td>\n",
       "      <td>10</td>\n",
       "      <td>1</td>\n",
       "      <td>23</td>\n",
       "    </tr>\n",
       "    <tr>\n",
       "      <th>6</th>\n",
       "      <td>488116622</td>\n",
       "      <td>45</td>\n",
       "      <td>38</td>\n",
       "      <td>166</td>\n",
       "      <td>19</td>\n",
       "      <td>268</td>\n",
       "    </tr>\n",
       "  </tbody>\n",
       "</table>\n",
       "</div>"
      ],
      "text/plain": [
       "        event  yes_count  maybe_count  invited_count  no_count  total_users\n",
       "0  1159822043          7            7             70         2           86\n",
       "1   686467261         11            8             75         0           94\n",
       "2  1186208412          0            2              2         2            6\n",
       "4   855842686          6            6             10         1           23\n",
       "6   488116622         45           38            166        19          268"
      ]
     },
     "execution_count": 21,
     "metadata": {},
     "output_type": "execute_result"
    }
   ],
   "source": [
    "attendance_counts.head()"
   ]
  },
  {
   "cell_type": "code",
   "execution_count": 22,
   "metadata": {},
   "outputs": [
    {
     "data": {
      "text/plain": [
       "22710"
      ]
     },
     "execution_count": 22,
     "metadata": {},
     "output_type": "execute_result"
    }
   ],
   "source": [
    "len(attendance_counts.event) #print number of unique events\n",
    "#save to csv\n",
    "#attendance_counts.to_csv(\"attendance_counts.csv\", index=False)"
   ]
  },
  {
   "cell_type": "code",
   "execution_count": 31,
   "metadata": {},
   "outputs": [],
   "source": [
    "def extract_user_event_pairs(df_attendees):\n",
    "    def process_row(row):\n",
    "        event_id = row.event  \n",
    "        pairs = []\n",
    "        for status in ['yes', 'maybe', 'invited', 'no']:\n",
    "            if pd.notna(getattr(row, status)) and getattr(row, status) != '0':\n",
    "                users = str(getattr(row, status)).split()\n",
    "                for user_id in users:\n",
    "                    if user_id != '0':\n",
    "                        # Check if the user is invited and has responded\n",
    "                        if status == 'invited' and (row.yes != '0' or row.maybe != '0' or row.no != '0'):\n",
    "                            attendance_status = 'invited & yes' if row.yes != '0' else ('invited & maybe' if row.maybe != '0' else 'invited & no')\n",
    "                        else:\n",
    "                            attendance_status = status\n",
    "                        pairs.append({'event_id': event_id, 'user_id': user_id, 'interaction_type': attendance_status})\n",
    "        return pairs\n",
    "\n",
    "    # Apply the function to each partition\n",
    "    pairs_ddf = df_attendees.map_partitions(\n",
    "        lambda df: pd.DataFrame(\n",
    "            [pair for row in df.itertuples() for pair in process_row(row)]\n",
    "        )\n",
    "    )\n",
    "\n",
    "    return pairs_ddf"
   ]
  },
  {
   "cell_type": "code",
   "execution_count": 32,
   "metadata": {},
   "outputs": [],
   "source": [
    "\n",
    "# Extracting user-event pairs\n",
    "user_event_pairs = extract_user_event_pairs(df_attendee_new)\n"
   ]
  },
  {
   "cell_type": "code",
   "execution_count": 33,
   "metadata": {},
   "outputs": [],
   "source": [
    "user_event_pairs = user_event_pairs.compute()"
   ]
  },
  {
   "cell_type": "code",
   "execution_count": 34,
   "metadata": {},
   "outputs": [],
   "source": [
    "# Convert types to ensure consistency for joining or merging\n",
    "user_event_pairs['user_id'] = user_event_pairs['user_id'].astype(str)\n",
    "user_event_pairs['event_id'] = user_event_pairs['event_id'].astype(str)\n"
   ]
  },
  {
   "cell_type": "code",
   "execution_count": 43,
   "metadata": {},
   "outputs": [
    {
     "data": {
      "text/html": [
       "<div>\n",
       "<style scoped>\n",
       "    .dataframe tbody tr th:only-of-type {\n",
       "        vertical-align: middle;\n",
       "    }\n",
       "\n",
       "    .dataframe tbody tr th {\n",
       "        vertical-align: top;\n",
       "    }\n",
       "\n",
       "    .dataframe thead th {\n",
       "        text-align: right;\n",
       "    }\n",
       "</style>\n",
       "<table border=\"1\" class=\"dataframe\">\n",
       "  <thead>\n",
       "    <tr style=\"text-align: right;\">\n",
       "      <th></th>\n",
       "      <th>event_id</th>\n",
       "      <th>user_id</th>\n",
       "      <th>interaction_type</th>\n",
       "    </tr>\n",
       "  </thead>\n",
       "  <tbody>\n",
       "    <tr>\n",
       "      <th>0</th>\n",
       "      <td>1159822043</td>\n",
       "      <td>1975964455</td>\n",
       "      <td>yes</td>\n",
       "    </tr>\n",
       "    <tr>\n",
       "      <th>1</th>\n",
       "      <td>1159822043</td>\n",
       "      <td>252302513</td>\n",
       "      <td>yes</td>\n",
       "    </tr>\n",
       "    <tr>\n",
       "      <th>2</th>\n",
       "      <td>1159822043</td>\n",
       "      <td>4226086795</td>\n",
       "      <td>yes</td>\n",
       "    </tr>\n",
       "    <tr>\n",
       "      <th>3</th>\n",
       "      <td>1159822043</td>\n",
       "      <td>3805886383</td>\n",
       "      <td>yes</td>\n",
       "    </tr>\n",
       "    <tr>\n",
       "      <th>4</th>\n",
       "      <td>1159822043</td>\n",
       "      <td>1420484491</td>\n",
       "      <td>yes</td>\n",
       "    </tr>\n",
       "  </tbody>\n",
       "</table>\n",
       "</div>"
      ],
      "text/plain": [
       "     event_id     user_id interaction_type\n",
       "0  1159822043  1975964455              yes\n",
       "1  1159822043   252302513              yes\n",
       "2  1159822043  4226086795              yes\n",
       "3  1159822043  3805886383              yes\n",
       "4  1159822043  1420484491              yes"
      ]
     },
     "execution_count": 43,
     "metadata": {},
     "output_type": "execute_result"
    }
   ],
   "source": [
    "user_event_pairs.head()"
   ]
  },
  {
   "cell_type": "code",
   "execution_count": 42,
   "metadata": {},
   "outputs": [
    {
     "data": {
      "text/html": [
       "<div>\n",
       "<style scoped>\n",
       "    .dataframe tbody tr th:only-of-type {\n",
       "        vertical-align: middle;\n",
       "    }\n",
       "\n",
       "    .dataframe tbody tr th {\n",
       "        vertical-align: top;\n",
       "    }\n",
       "\n",
       "    .dataframe thead th {\n",
       "        text-align: right;\n",
       "    }\n",
       "</style>\n",
       "<table border=\"1\" class=\"dataframe\">\n",
       "  <thead>\n",
       "    <tr style=\"text-align: right;\">\n",
       "      <th></th>\n",
       "      <th>event_id</th>\n",
       "      <th>user_id</th>\n",
       "      <th>interaction_type</th>\n",
       "    </tr>\n",
       "  </thead>\n",
       "  <tbody>\n",
       "    <tr>\n",
       "      <th>14</th>\n",
       "      <td>1159822043</td>\n",
       "      <td>1723091036</td>\n",
       "      <td>invited &amp; yes</td>\n",
       "    </tr>\n",
       "    <tr>\n",
       "      <th>15</th>\n",
       "      <td>1159822043</td>\n",
       "      <td>3795873583</td>\n",
       "      <td>invited &amp; yes</td>\n",
       "    </tr>\n",
       "    <tr>\n",
       "      <th>16</th>\n",
       "      <td>1159822043</td>\n",
       "      <td>4109144917</td>\n",
       "      <td>invited &amp; yes</td>\n",
       "    </tr>\n",
       "    <tr>\n",
       "      <th>17</th>\n",
       "      <td>1159822043</td>\n",
       "      <td>3560622906</td>\n",
       "      <td>invited &amp; yes</td>\n",
       "    </tr>\n",
       "    <tr>\n",
       "      <th>18</th>\n",
       "      <td>1159822043</td>\n",
       "      <td>3106484834</td>\n",
       "      <td>invited &amp; yes</td>\n",
       "    </tr>\n",
       "  </tbody>\n",
       "</table>\n",
       "</div>"
      ],
      "text/plain": [
       "      event_id     user_id interaction_type\n",
       "14  1159822043  1723091036    invited & yes\n",
       "15  1159822043  3795873583    invited & yes\n",
       "16  1159822043  4109144917    invited & yes\n",
       "17  1159822043  3560622906    invited & yes\n",
       "18  1159822043  3106484834    invited & yes"
      ]
     },
     "execution_count": 42,
     "metadata": {},
     "output_type": "execute_result"
    }
   ],
   "source": [
    "user_event_pairs[user_event_pairs[\"interaction_type\"]==\"invited & yes\"].head()"
   ]
  },
  {
   "cell_type": "code",
   "execution_count": 38,
   "metadata": {},
   "outputs": [
    {
     "data": {
      "text/plain": [
       "9398000"
      ]
     },
     "execution_count": 38,
     "metadata": {},
     "output_type": "execute_result"
    }
   ],
   "source": [
    "len(user_event_pairs[user_event_pairs[\"interaction_type\"]==\"invited & yes\"])"
   ]
  },
  {
   "cell_type": "code",
   "execution_count": 39,
   "metadata": {},
   "outputs": [
    {
     "data": {
      "text/plain": [
       "5587"
      ]
     },
     "execution_count": 39,
     "metadata": {},
     "output_type": "execute_result"
    }
   ],
   "source": [
    "len(user_event_pairs[user_event_pairs[\"interaction_type\"]==\"invited & no\"])"
   ]
  },
  {
   "cell_type": "code",
   "execution_count": 40,
   "metadata": {},
   "outputs": [
    {
     "data": {
      "text/plain": [
       "9402"
      ]
     },
     "execution_count": 40,
     "metadata": {},
     "output_type": "execute_result"
    }
   ],
   "source": [
    "len(user_event_pairs[user_event_pairs[\"interaction_type\"]==\"invited & maybe\"])"
   ]
  },
  {
   "cell_type": "code",
   "execution_count": 44,
   "metadata": {},
   "outputs": [
    {
     "data": {
      "text/plain": [
       "11245010"
      ]
     },
     "execution_count": 44,
     "metadata": {},
     "output_type": "execute_result"
    }
   ],
   "source": [
    "len(user_event_pairs)"
   ]
  },
  {
   "cell_type": "code",
   "execution_count": 55,
   "metadata": {},
   "outputs": [],
   "source": [
    "user_event_pairs['interaction_label'] = user_event_pairs['interaction_type'].apply(\n",
    "    lambda x: 1 if x in ['yes', 'maybe','invited & yes','invited & maybe'] \n",
    "    else (0 if pd.notna(x) else 0)\n",
    ")\n"
   ]
  },
  {
   "cell_type": "code",
   "execution_count": 50,
   "metadata": {},
   "outputs": [
    {
     "data": {
      "text/html": [
       "<div>\n",
       "<style scoped>\n",
       "    .dataframe tbody tr th:only-of-type {\n",
       "        vertical-align: middle;\n",
       "    }\n",
       "\n",
       "    .dataframe tbody tr th {\n",
       "        vertical-align: top;\n",
       "    }\n",
       "\n",
       "    .dataframe thead th {\n",
       "        text-align: right;\n",
       "    }\n",
       "</style>\n",
       "<table border=\"1\" class=\"dataframe\">\n",
       "  <thead>\n",
       "    <tr style=\"text-align: right;\">\n",
       "      <th></th>\n",
       "      <th>event_id</th>\n",
       "      <th>user_id</th>\n",
       "      <th>interaction_type</th>\n",
       "      <th>interaction_label</th>\n",
       "    </tr>\n",
       "  </thead>\n",
       "  <tbody>\n",
       "    <tr>\n",
       "      <th>0</th>\n",
       "      <td>1159822043</td>\n",
       "      <td>1975964455</td>\n",
       "      <td>yes</td>\n",
       "      <td>1</td>\n",
       "    </tr>\n",
       "    <tr>\n",
       "      <th>1</th>\n",
       "      <td>1159822043</td>\n",
       "      <td>252302513</td>\n",
       "      <td>yes</td>\n",
       "      <td>1</td>\n",
       "    </tr>\n",
       "    <tr>\n",
       "      <th>2</th>\n",
       "      <td>1159822043</td>\n",
       "      <td>4226086795</td>\n",
       "      <td>yes</td>\n",
       "      <td>1</td>\n",
       "    </tr>\n",
       "    <tr>\n",
       "      <th>3</th>\n",
       "      <td>1159822043</td>\n",
       "      <td>3805886383</td>\n",
       "      <td>yes</td>\n",
       "      <td>1</td>\n",
       "    </tr>\n",
       "    <tr>\n",
       "      <th>4</th>\n",
       "      <td>1159822043</td>\n",
       "      <td>1420484491</td>\n",
       "      <td>yes</td>\n",
       "      <td>1</td>\n",
       "    </tr>\n",
       "  </tbody>\n",
       "</table>\n",
       "</div>"
      ],
      "text/plain": [
       "     event_id     user_id interaction_type  interaction_label\n",
       "0  1159822043  1975964455              yes                  1\n",
       "1  1159822043   252302513              yes                  1\n",
       "2  1159822043  4226086795              yes                  1\n",
       "3  1159822043  3805886383              yes                  1\n",
       "4  1159822043  1420484491              yes                  1"
      ]
     },
     "execution_count": 50,
     "metadata": {},
     "output_type": "execute_result"
    }
   ],
   "source": [
    "user_event_pairs.head()"
   ]
  },
  {
   "cell_type": "code",
   "execution_count": 56,
   "metadata": {},
   "outputs": [
    {
     "data": {
      "text/html": [
       "<div>\n",
       "<style scoped>\n",
       "    .dataframe tbody tr th:only-of-type {\n",
       "        vertical-align: middle;\n",
       "    }\n",
       "\n",
       "    .dataframe tbody tr th {\n",
       "        vertical-align: top;\n",
       "    }\n",
       "\n",
       "    .dataframe thead th {\n",
       "        text-align: right;\n",
       "    }\n",
       "</style>\n",
       "<table border=\"1\" class=\"dataframe\">\n",
       "  <thead>\n",
       "    <tr style=\"text-align: right;\">\n",
       "      <th></th>\n",
       "      <th>event_id</th>\n",
       "      <th>user_id</th>\n",
       "      <th>interaction_type</th>\n",
       "      <th>interaction_label</th>\n",
       "    </tr>\n",
       "  </thead>\n",
       "  <tbody>\n",
       "    <tr>\n",
       "      <th>113411</th>\n",
       "      <td>2730531110</td>\n",
       "      <td>587226496</td>\n",
       "      <td>invited &amp; no</td>\n",
       "      <td>0</td>\n",
       "    </tr>\n",
       "    <tr>\n",
       "      <th>113412</th>\n",
       "      <td>2730531110</td>\n",
       "      <td>2938205322</td>\n",
       "      <td>invited &amp; no</td>\n",
       "      <td>0</td>\n",
       "    </tr>\n",
       "    <tr>\n",
       "      <th>113413</th>\n",
       "      <td>2730531110</td>\n",
       "      <td>1772527144</td>\n",
       "      <td>invited &amp; no</td>\n",
       "      <td>0</td>\n",
       "    </tr>\n",
       "    <tr>\n",
       "      <th>131855</th>\n",
       "      <td>2706957558</td>\n",
       "      <td>905238652</td>\n",
       "      <td>invited &amp; no</td>\n",
       "      <td>0</td>\n",
       "    </tr>\n",
       "    <tr>\n",
       "      <th>131856</th>\n",
       "      <td>2706957558</td>\n",
       "      <td>1793154035</td>\n",
       "      <td>invited &amp; no</td>\n",
       "      <td>0</td>\n",
       "    </tr>\n",
       "    <tr>\n",
       "      <th>...</th>\n",
       "      <td>...</td>\n",
       "      <td>...</td>\n",
       "      <td>...</td>\n",
       "      <td>...</td>\n",
       "    </tr>\n",
       "    <tr>\n",
       "      <th>11167828</th>\n",
       "      <td>1807765078</td>\n",
       "      <td>277039486</td>\n",
       "      <td>invited &amp; no</td>\n",
       "      <td>0</td>\n",
       "    </tr>\n",
       "    <tr>\n",
       "      <th>11167829</th>\n",
       "      <td>1807765078</td>\n",
       "      <td>2972745086</td>\n",
       "      <td>invited &amp; no</td>\n",
       "      <td>0</td>\n",
       "    </tr>\n",
       "    <tr>\n",
       "      <th>11167830</th>\n",
       "      <td>1807765078</td>\n",
       "      <td>766348384</td>\n",
       "      <td>invited &amp; no</td>\n",
       "      <td>0</td>\n",
       "    </tr>\n",
       "    <tr>\n",
       "      <th>11167831</th>\n",
       "      <td>1807765078</td>\n",
       "      <td>134853927</td>\n",
       "      <td>invited &amp; no</td>\n",
       "      <td>0</td>\n",
       "    </tr>\n",
       "    <tr>\n",
       "      <th>11167832</th>\n",
       "      <td>1807765078</td>\n",
       "      <td>1761814204</td>\n",
       "      <td>invited &amp; no</td>\n",
       "      <td>0</td>\n",
       "    </tr>\n",
       "  </tbody>\n",
       "</table>\n",
       "<p>5587 rows × 4 columns</p>\n",
       "</div>"
      ],
      "text/plain": [
       "            event_id     user_id interaction_type  interaction_label\n",
       "113411    2730531110   587226496     invited & no                  0\n",
       "113412    2730531110  2938205322     invited & no                  0\n",
       "113413    2730531110  1772527144     invited & no                  0\n",
       "131855    2706957558   905238652     invited & no                  0\n",
       "131856    2706957558  1793154035     invited & no                  0\n",
       "...              ...         ...              ...                ...\n",
       "11167828  1807765078   277039486     invited & no                  0\n",
       "11167829  1807765078  2972745086     invited & no                  0\n",
       "11167830  1807765078   766348384     invited & no                  0\n",
       "11167831  1807765078   134853927     invited & no                  0\n",
       "11167832  1807765078  1761814204     invited & no                  0\n",
       "\n",
       "[5587 rows x 4 columns]"
      ]
     },
     "execution_count": 56,
     "metadata": {},
     "output_type": "execute_result"
    }
   ],
   "source": [
    "user_event_pairs[user_event_pairs[\"interaction_type\"]=='invited & no']"
   ]
  },
  {
   "cell_type": "code",
   "execution_count": 57,
   "metadata": {},
   "outputs": [
    {
     "data": {
      "text/plain": [
       "event_id             0\n",
       "user_id              0\n",
       "interaction_type     0\n",
       "interaction_label    0\n",
       "dtype: int64"
      ]
     },
     "execution_count": 57,
     "metadata": {},
     "output_type": "execute_result"
    }
   ],
   "source": [
    "user_event_pairs.isnull().sum()"
   ]
  },
  {
   "cell_type": "code",
   "execution_count": 58,
   "metadata": {},
   "outputs": [
    {
     "data": {
      "text/plain": [
       "11245010"
      ]
     },
     "execution_count": 58,
     "metadata": {},
     "output_type": "execute_result"
    }
   ],
   "source": [
    "len(user_event_pairs)"
   ]
  },
  {
   "cell_type": "code",
   "execution_count": 59,
   "metadata": {},
   "outputs": [
    {
     "data": {
      "text/plain": [
       "(22710, 3702045)"
      ]
     },
     "execution_count": 59,
     "metadata": {},
     "output_type": "execute_result"
    }
   ],
   "source": [
    "len(user_event_pairs.event_id.unique()), len(user_event_pairs.user_id.unique())"
   ]
  },
  {
   "cell_type": "code",
   "execution_count": null,
   "metadata": {},
   "outputs": [
    {
     "data": {
      "text/plain": [
       "interaction_type\n",
       "invited & yes      9398000\n",
       "yes                 831137\n",
       "maybe               520724\n",
       "no                  474438\n",
       "invited & maybe       9402\n",
       "invited               5722\n",
       "invited & no          5587\n",
       "Name: count, dtype: int64"
      ]
     },
     "execution_count": 60,
     "metadata": {},
     "output_type": "execute_result"
    }
   ],
   "source": [
    "user_event_pairs.interaction_type.value_counts()\n"
   ]
  },
  {
   "cell_type": "code",
   "execution_count": 61,
   "metadata": {},
   "outputs": [],
   "source": [
    "#save as interactions data\n",
    "user_event_pairs.to_csv(\"interactions_data.csv\")\n"
   ]
  },
  {
   "cell_type": "code",
   "execution_count": null,
   "metadata": {},
   "outputs": [],
   "source": []
  },
  {
   "cell_type": "markdown",
   "metadata": {},
   "source": [
    "## Ensure interactions_df, events_df and users_df all have the needed features for the model evaluation"
   ]
  },
  {
   "cell_type": "code",
   "execution_count": 12,
   "metadata": {},
   "outputs": [],
   "source": [
    "import pandas as pd\n",
    "interactions_df =pd.read_csv(\"/home/nkama/masters_thesis_project/thesis/partially_synthetic/data/interactions_data.csv\")\n",
    "\n",
    "users_df = pd.read_csv(\"/home/nkama/masters_thesis_project/thesis/partially_synthetic/data/users_data.csv\")\n",
    "events_df = pd.read_csv(\"/home/nkama/masters_thesis_project/thesis/partially_synthetic/data/complete_events_data.csv\")\n"
   ]
  },
  {
   "cell_type": "code",
   "execution_count": 13,
   "metadata": {},
   "outputs": [
    {
     "name": "stdout",
     "output_type": "stream",
     "text": [
      "9524\n"
     ]
    },
    {
     "data": {
      "text/html": [
       "<div>\n",
       "<style scoped>\n",
       "    .dataframe tbody tr th:only-of-type {\n",
       "        vertical-align: middle;\n",
       "    }\n",
       "\n",
       "    .dataframe tbody tr th {\n",
       "        vertical-align: top;\n",
       "    }\n",
       "\n",
       "    .dataframe thead th {\n",
       "        text-align: right;\n",
       "    }\n",
       "</style>\n",
       "<table border=\"1\" class=\"dataframe\">\n",
       "  <thead>\n",
       "    <tr style=\"text-align: right;\">\n",
       "      <th></th>\n",
       "      <th>Unnamed: 0</th>\n",
       "      <th>user_id</th>\n",
       "      <th>gender</th>\n",
       "      <th>joinedAt</th>\n",
       "      <th>location</th>\n",
       "      <th>age</th>\n",
       "      <th>lat</th>\n",
       "      <th>lng</th>\n",
       "    </tr>\n",
       "  </thead>\n",
       "  <tbody>\n",
       "    <tr>\n",
       "      <th>0</th>\n",
       "      <td>0</td>\n",
       "      <td>3197468391</td>\n",
       "      <td>male</td>\n",
       "      <td>2012-10-02T06:40:55.524Z</td>\n",
       "      <td>Medan  Indonesia</td>\n",
       "      <td>19</td>\n",
       "      <td>3.590</td>\n",
       "      <td>98.674</td>\n",
       "    </tr>\n",
       "    <tr>\n",
       "      <th>1</th>\n",
       "      <td>1</td>\n",
       "      <td>3537982273</td>\n",
       "      <td>male</td>\n",
       "      <td>2012-09-29T18:03:12.111Z</td>\n",
       "      <td>Medan  Indonesia</td>\n",
       "      <td>20</td>\n",
       "      <td>3.590</td>\n",
       "      <td>98.674</td>\n",
       "    </tr>\n",
       "    <tr>\n",
       "      <th>2</th>\n",
       "      <td>2</td>\n",
       "      <td>3473687777</td>\n",
       "      <td>female</td>\n",
       "      <td>2012-10-03T12:19:29.975Z</td>\n",
       "      <td>Medan  Indonesia</td>\n",
       "      <td>47</td>\n",
       "      <td>3.590</td>\n",
       "      <td>98.674</td>\n",
       "    </tr>\n",
       "    <tr>\n",
       "      <th>3</th>\n",
       "      <td>4</td>\n",
       "      <td>2411726276</td>\n",
       "      <td>female</td>\n",
       "      <td>2012-10-30T05:16:27.136Z</td>\n",
       "      <td>Triolet  Mauritius</td>\n",
       "      <td>16</td>\n",
       "      <td>-20.057</td>\n",
       "      <td>57.552</td>\n",
       "    </tr>\n",
       "    <tr>\n",
       "      <th>4</th>\n",
       "      <td>5</td>\n",
       "      <td>1091720544</td>\n",
       "      <td>female</td>\n",
       "      <td>2012-10-30T11:55:19.469Z</td>\n",
       "      <td>Plaine Des Papayes  Pamplemousses  Mauritius</td>\n",
       "      <td>24</td>\n",
       "      <td>-20.063</td>\n",
       "      <td>57.581</td>\n",
       "    </tr>\n",
       "  </tbody>\n",
       "</table>\n",
       "</div>"
      ],
      "text/plain": [
       "   Unnamed: 0     user_id  gender                  joinedAt  \\\n",
       "0           0  3197468391    male  2012-10-02T06:40:55.524Z   \n",
       "1           1  3537982273    male  2012-09-29T18:03:12.111Z   \n",
       "2           2  3473687777  female  2012-10-03T12:19:29.975Z   \n",
       "3           4  2411726276  female  2012-10-30T05:16:27.136Z   \n",
       "4           5  1091720544  female  2012-10-30T11:55:19.469Z   \n",
       "\n",
       "                                       location  age     lat     lng  \n",
       "0                              Medan  Indonesia   19   3.590  98.674  \n",
       "1                              Medan  Indonesia   20   3.590  98.674  \n",
       "2                              Medan  Indonesia   47   3.590  98.674  \n",
       "3                            Triolet  Mauritius   16 -20.057  57.552  \n",
       "4  Plaine Des Papayes  Pamplemousses  Mauritius   24 -20.063  57.581  "
      ]
     },
     "execution_count": 13,
     "metadata": {},
     "output_type": "execute_result"
    }
   ],
   "source": [
    "print(len(users_df))\n",
    "users_df.head()"
   ]
  },
  {
   "cell_type": "code",
   "execution_count": 14,
   "metadata": {},
   "outputs": [
    {
     "name": "stdout",
     "output_type": "stream",
     "text": [
      "11627\n"
     ]
    },
    {
     "data": {
      "text/html": [
       "<div>\n",
       "<style scoped>\n",
       "    .dataframe tbody tr th:only-of-type {\n",
       "        vertical-align: middle;\n",
       "    }\n",
       "\n",
       "    .dataframe tbody tr th {\n",
       "        vertical-align: top;\n",
       "    }\n",
       "\n",
       "    .dataframe thead th {\n",
       "        text-align: right;\n",
       "    }\n",
       "</style>\n",
       "<table border=\"1\" class=\"dataframe\">\n",
       "  <thead>\n",
       "    <tr style=\"text-align: right;\">\n",
       "      <th></th>\n",
       "      <th>Unnamed: 0</th>\n",
       "      <th>event_id</th>\n",
       "      <th>start_time</th>\n",
       "      <th>city</th>\n",
       "      <th>lat</th>\n",
       "      <th>lng</th>\n",
       "      <th>yes_count</th>\n",
       "      <th>maybe_count</th>\n",
       "      <th>invited_count</th>\n",
       "      <th>no_count</th>\n",
       "      <th>total_users</th>\n",
       "      <th>weather_description</th>\n",
       "      <th>category</th>\n",
       "      <th>title</th>\n",
       "      <th>event_type</th>\n",
       "    </tr>\n",
       "  </thead>\n",
       "  <tbody>\n",
       "    <tr>\n",
       "      <th>0</th>\n",
       "      <td>0</td>\n",
       "      <td>2587616435</td>\n",
       "      <td>2012-11-13T11:00:00.002Z</td>\n",
       "      <td>Sihanoukville</td>\n",
       "      <td>10.633</td>\n",
       "      <td>103.500</td>\n",
       "      <td>93</td>\n",
       "      <td>65</td>\n",
       "      <td>317</td>\n",
       "      <td>47</td>\n",
       "      <td>522</td>\n",
       "      <td>Light Drizzle</td>\n",
       "      <td>Education &amp; Learning</td>\n",
       "      <td>Sihanoukville Knowledge Festival 2025 - Mornin...</td>\n",
       "      <td>Indoor</td>\n",
       "    </tr>\n",
       "    <tr>\n",
       "      <th>1</th>\n",
       "      <td>1</td>\n",
       "      <td>1145166049</td>\n",
       "      <td>2013-07-08T02:00:00.000Z</td>\n",
       "      <td>Palo Alto</td>\n",
       "      <td>37.442</td>\n",
       "      <td>-122.172</td>\n",
       "      <td>162</td>\n",
       "      <td>112</td>\n",
       "      <td>1021</td>\n",
       "      <td>150</td>\n",
       "      <td>1445</td>\n",
       "      <td>Cloudy</td>\n",
       "      <td>Business &amp; Networking</td>\n",
       "      <td>Palo Alto Summer Night Networking Bash</td>\n",
       "      <td>Indoor</td>\n",
       "    </tr>\n",
       "  </tbody>\n",
       "</table>\n",
       "</div>"
      ],
      "text/plain": [
       "   Unnamed: 0    event_id                start_time           city     lat  \\\n",
       "0           0  2587616435  2012-11-13T11:00:00.002Z  Sihanoukville  10.633   \n",
       "1           1  1145166049  2013-07-08T02:00:00.000Z      Palo Alto  37.442   \n",
       "\n",
       "       lng  yes_count  maybe_count  invited_count  no_count  total_users  \\\n",
       "0  103.500         93           65            317        47          522   \n",
       "1 -122.172        162          112           1021       150         1445   \n",
       "\n",
       "  weather_description               category  \\\n",
       "0       Light Drizzle   Education & Learning   \n",
       "1              Cloudy  Business & Networking   \n",
       "\n",
       "                                               title event_type  \n",
       "0  Sihanoukville Knowledge Festival 2025 - Mornin...     Indoor  \n",
       "1             Palo Alto Summer Night Networking Bash     Indoor  "
      ]
     },
     "execution_count": 14,
     "metadata": {},
     "output_type": "execute_result"
    }
   ],
   "source": [
    "print(len(events_df))\n",
    "events_df.head(2)"
   ]
  },
  {
   "cell_type": "code",
   "execution_count": 15,
   "metadata": {},
   "outputs": [
    {
     "name": "stdout",
     "output_type": "stream",
     "text": [
      "11245010\n"
     ]
    },
    {
     "data": {
      "text/html": [
       "<div>\n",
       "<style scoped>\n",
       "    .dataframe tbody tr th:only-of-type {\n",
       "        vertical-align: middle;\n",
       "    }\n",
       "\n",
       "    .dataframe tbody tr th {\n",
       "        vertical-align: top;\n",
       "    }\n",
       "\n",
       "    .dataframe thead th {\n",
       "        text-align: right;\n",
       "    }\n",
       "</style>\n",
       "<table border=\"1\" class=\"dataframe\">\n",
       "  <thead>\n",
       "    <tr style=\"text-align: right;\">\n",
       "      <th></th>\n",
       "      <th>Unnamed: 0</th>\n",
       "      <th>event_id</th>\n",
       "      <th>user_id</th>\n",
       "      <th>interaction_type</th>\n",
       "      <th>interaction_label</th>\n",
       "    </tr>\n",
       "  </thead>\n",
       "  <tbody>\n",
       "    <tr>\n",
       "      <th>0</th>\n",
       "      <td>0</td>\n",
       "      <td>1159822043</td>\n",
       "      <td>1975964455</td>\n",
       "      <td>yes</td>\n",
       "      <td>1</td>\n",
       "    </tr>\n",
       "    <tr>\n",
       "      <th>1</th>\n",
       "      <td>1</td>\n",
       "      <td>1159822043</td>\n",
       "      <td>252302513</td>\n",
       "      <td>yes</td>\n",
       "      <td>1</td>\n",
       "    </tr>\n",
       "    <tr>\n",
       "      <th>2</th>\n",
       "      <td>2</td>\n",
       "      <td>1159822043</td>\n",
       "      <td>4226086795</td>\n",
       "      <td>yes</td>\n",
       "      <td>1</td>\n",
       "    </tr>\n",
       "    <tr>\n",
       "      <th>3</th>\n",
       "      <td>3</td>\n",
       "      <td>1159822043</td>\n",
       "      <td>3805886383</td>\n",
       "      <td>yes</td>\n",
       "      <td>1</td>\n",
       "    </tr>\n",
       "    <tr>\n",
       "      <th>4</th>\n",
       "      <td>4</td>\n",
       "      <td>1159822043</td>\n",
       "      <td>1420484491</td>\n",
       "      <td>yes</td>\n",
       "      <td>1</td>\n",
       "    </tr>\n",
       "  </tbody>\n",
       "</table>\n",
       "</div>"
      ],
      "text/plain": [
       "   Unnamed: 0    event_id     user_id interaction_type  interaction_label\n",
       "0           0  1159822043  1975964455              yes                  1\n",
       "1           1  1159822043   252302513              yes                  1\n",
       "2           2  1159822043  4226086795              yes                  1\n",
       "3           3  1159822043  3805886383              yes                  1\n",
       "4           4  1159822043  1420484491              yes                  1"
      ]
     },
     "execution_count": 15,
     "metadata": {},
     "output_type": "execute_result"
    }
   ],
   "source": [
    "print(len(interactions_df))\n",
    "interactions_df.head()"
   ]
  },
  {
   "cell_type": "markdown",
   "metadata": {},
   "source": [
    "### Calculate event indoo/outdoor capability to match synthetic data features\n"
   ]
  },
  {
   "cell_type": "code",
   "execution_count": 16,
   "metadata": {},
   "outputs": [],
   "source": [
    "events_df[\"event_indoor_capability\"] = events_df[\"event_type\"].map({'Indoor': True, 'Outdoor': False})"
   ]
  },
  {
   "cell_type": "markdown",
   "metadata": {},
   "source": [
    "### Add weather features, temperature and precipitation to events_df\n"
   ]
  },
  {
   "cell_type": "code",
   "execution_count": 17,
   "metadata": {},
   "outputs": [
    {
     "name": "stdout",
     "output_type": "stream",
     "text": [
      "11627\n"
     ]
    }
   ],
   "source": [
    "col = ['event_id', 'temperature_2m_mean', 'precipitation_sum']\n",
    "event_weather_df = pd.read_csv(\"/home/nkama/masters_thesis_project/thesis/partially_synthetic/data/event_data_category_gen.csv\")[col]\n",
    "events_df = events_df.merge(event_weather_df,on=\"event_id\")\n",
    "print(len(events_df))"
   ]
  },
  {
   "cell_type": "code",
   "execution_count": 18,
   "metadata": {},
   "outputs": [
    {
     "data": {
      "text/html": [
       "<div>\n",
       "<style scoped>\n",
       "    .dataframe tbody tr th:only-of-type {\n",
       "        vertical-align: middle;\n",
       "    }\n",
       "\n",
       "    .dataframe tbody tr th {\n",
       "        vertical-align: top;\n",
       "    }\n",
       "\n",
       "    .dataframe thead th {\n",
       "        text-align: right;\n",
       "    }\n",
       "</style>\n",
       "<table border=\"1\" class=\"dataframe\">\n",
       "  <thead>\n",
       "    <tr style=\"text-align: right;\">\n",
       "      <th></th>\n",
       "      <th>Unnamed: 0</th>\n",
       "      <th>event_id</th>\n",
       "      <th>start_time</th>\n",
       "      <th>city</th>\n",
       "      <th>lat</th>\n",
       "      <th>lng</th>\n",
       "      <th>yes_count</th>\n",
       "      <th>maybe_count</th>\n",
       "      <th>invited_count</th>\n",
       "      <th>no_count</th>\n",
       "      <th>total_users</th>\n",
       "      <th>weather_description</th>\n",
       "      <th>category</th>\n",
       "      <th>title</th>\n",
       "      <th>event_type</th>\n",
       "      <th>event_indoor_capability</th>\n",
       "      <th>temperature_2m_mean</th>\n",
       "      <th>precipitation_sum</th>\n",
       "    </tr>\n",
       "  </thead>\n",
       "  <tbody>\n",
       "    <tr>\n",
       "      <th>0</th>\n",
       "      <td>0</td>\n",
       "      <td>2587616435</td>\n",
       "      <td>2012-11-13T11:00:00.002Z</td>\n",
       "      <td>Sihanoukville</td>\n",
       "      <td>10.633</td>\n",
       "      <td>103.5</td>\n",
       "      <td>93</td>\n",
       "      <td>65</td>\n",
       "      <td>317</td>\n",
       "      <td>47</td>\n",
       "      <td>522</td>\n",
       "      <td>Light Drizzle</td>\n",
       "      <td>Education &amp; Learning</td>\n",
       "      <td>Sihanoukville Knowledge Festival 2025 - Mornin...</td>\n",
       "      <td>Indoor</td>\n",
       "      <td>True</td>\n",
       "      <td>28.318502</td>\n",
       "      <td>0.1</td>\n",
       "    </tr>\n",
       "  </tbody>\n",
       "</table>\n",
       "</div>"
      ],
      "text/plain": [
       "   Unnamed: 0    event_id                start_time           city     lat  \\\n",
       "0           0  2587616435  2012-11-13T11:00:00.002Z  Sihanoukville  10.633   \n",
       "\n",
       "     lng  yes_count  maybe_count  invited_count  no_count  total_users  \\\n",
       "0  103.5         93           65            317        47          522   \n",
       "\n",
       "  weather_description              category  \\\n",
       "0       Light Drizzle  Education & Learning   \n",
       "\n",
       "                                               title event_type  \\\n",
       "0  Sihanoukville Knowledge Festival 2025 - Mornin...     Indoor   \n",
       "\n",
       "   event_indoor_capability  temperature_2m_mean  precipitation_sum  \n",
       "0                     True            28.318502                0.1  "
      ]
     },
     "execution_count": 18,
     "metadata": {},
     "output_type": "execute_result"
    }
   ],
   "source": [
    "events_df.head(1)"
   ]
  },
  {
   "cell_type": "code",
   "execution_count": null,
   "metadata": {},
   "outputs": [],
   "source": []
  },
  {
   "cell_type": "markdown",
   "metadata": {},
   "source": [
    "## Merge all dataframes"
   ]
  },
  {
   "cell_type": "code",
   "execution_count": 19,
   "metadata": {},
   "outputs": [
    {
     "data": {
      "text/html": [
       "<div>\n",
       "<style scoped>\n",
       "    .dataframe tbody tr th:only-of-type {\n",
       "        vertical-align: middle;\n",
       "    }\n",
       "\n",
       "    .dataframe tbody tr th {\n",
       "        vertical-align: top;\n",
       "    }\n",
       "\n",
       "    .dataframe thead th {\n",
       "        text-align: right;\n",
       "    }\n",
       "</style>\n",
       "<table border=\"1\" class=\"dataframe\">\n",
       "  <thead>\n",
       "    <tr style=\"text-align: right;\">\n",
       "      <th></th>\n",
       "      <th>Unnamed: 0_x</th>\n",
       "      <th>event_id</th>\n",
       "      <th>user_id</th>\n",
       "      <th>interaction_type</th>\n",
       "      <th>interaction_label</th>\n",
       "      <th>Unnamed: 0_y</th>\n",
       "      <th>gender</th>\n",
       "      <th>joinedAt</th>\n",
       "      <th>location</th>\n",
       "      <th>age</th>\n",
       "      <th>...</th>\n",
       "      <th>invited_count</th>\n",
       "      <th>no_count</th>\n",
       "      <th>total_users</th>\n",
       "      <th>weather_description</th>\n",
       "      <th>category</th>\n",
       "      <th>title</th>\n",
       "      <th>event_type</th>\n",
       "      <th>event_indoor_capability</th>\n",
       "      <th>temperature_2m_mean</th>\n",
       "      <th>precipitation_sum</th>\n",
       "    </tr>\n",
       "  </thead>\n",
       "  <tbody>\n",
       "    <tr>\n",
       "      <th>0</th>\n",
       "      <td>2561</td>\n",
       "      <td>702719295</td>\n",
       "      <td>3468617687</td>\n",
       "      <td>maybe</td>\n",
       "      <td>1</td>\n",
       "      <td>749</td>\n",
       "      <td>female</td>\n",
       "      <td>2012-09-25T17:48:37.804Z</td>\n",
       "      <td>Saint Catharines  Ontario</td>\n",
       "      <td>20</td>\n",
       "      <td>...</td>\n",
       "      <td>93</td>\n",
       "      <td>22</td>\n",
       "      <td>264</td>\n",
       "      <td>Cloudy</td>\n",
       "      <td>Food &amp; Drink</td>\n",
       "      <td>Montreal Spring Bites Night Market | Food Truc...</td>\n",
       "      <td>Indoor</td>\n",
       "      <td>True</td>\n",
       "      <td>3.7455</td>\n",
       "      <td>0.0</td>\n",
       "    </tr>\n",
       "    <tr>\n",
       "      <th>1</th>\n",
       "      <td>2562</td>\n",
       "      <td>702719295</td>\n",
       "      <td>487910947</td>\n",
       "      <td>maybe</td>\n",
       "      <td>1</td>\n",
       "      <td>1748</td>\n",
       "      <td>male</td>\n",
       "      <td>2012-09-25T16:28:31.617Z</td>\n",
       "      <td>Toronto  Ontario</td>\n",
       "      <td>22</td>\n",
       "      <td>...</td>\n",
       "      <td>93</td>\n",
       "      <td>22</td>\n",
       "      <td>264</td>\n",
       "      <td>Cloudy</td>\n",
       "      <td>Food &amp; Drink</td>\n",
       "      <td>Montreal Spring Bites Night Market | Food Truc...</td>\n",
       "      <td>Indoor</td>\n",
       "      <td>True</td>\n",
       "      <td>3.7455</td>\n",
       "      <td>0.0</td>\n",
       "    </tr>\n",
       "  </tbody>\n",
       "</table>\n",
       "<p>2 rows × 29 columns</p>\n",
       "</div>"
      ],
      "text/plain": [
       "   Unnamed: 0_x   event_id     user_id interaction_type  interaction_label  \\\n",
       "0          2561  702719295  3468617687            maybe                  1   \n",
       "1          2562  702719295   487910947            maybe                  1   \n",
       "\n",
       "   Unnamed: 0_y  gender                  joinedAt                   location  \\\n",
       "0           749  female  2012-09-25T17:48:37.804Z  Saint Catharines  Ontario   \n",
       "1          1748    male  2012-09-25T16:28:31.617Z           Toronto  Ontario   \n",
       "\n",
       "   age  ...  invited_count  no_count  total_users weather_description  \\\n",
       "0   20  ...             93        22          264              Cloudy   \n",
       "1   22  ...             93        22          264              Cloudy   \n",
       "\n",
       "       category                                              title  \\\n",
       "0  Food & Drink  Montreal Spring Bites Night Market | Food Truc...   \n",
       "1  Food & Drink  Montreal Spring Bites Night Market | Food Truc...   \n",
       "\n",
       "   event_type  event_indoor_capability  temperature_2m_mean  precipitation_sum  \n",
       "0      Indoor                     True               3.7455                0.0  \n",
       "1      Indoor                     True               3.7455                0.0  \n",
       "\n",
       "[2 rows x 29 columns]"
      ]
     },
     "execution_count": 19,
     "metadata": {},
     "output_type": "execute_result"
    }
   ],
   "source": [
    "merged_df = interactions_df.merge(users_df,on=\"user_id\").merge(events_df,on=\"event_id\")\n",
    "merged_df.head(2)\n"
   ]
  },
  {
   "cell_type": "code",
   "execution_count": 20,
   "metadata": {},
   "outputs": [
    {
     "data": {
      "text/plain": [
       "28249"
      ]
     },
     "execution_count": 20,
     "metadata": {},
     "output_type": "execute_result"
    }
   ],
   "source": [
    "len(merged_df)"
   ]
  },
  {
   "cell_type": "code",
   "execution_count": 21,
   "metadata": {},
   "outputs": [
    {
     "name": "stdout",
     "output_type": "stream",
     "text": [
      "5315\n"
     ]
    }
   ],
   "source": [
    "unique_users = merged_df[\"user_id\"].unique().tolist()\n",
    "print(len(unique_users))"
   ]
  },
  {
   "cell_type": "code",
   "execution_count": 22,
   "metadata": {},
   "outputs": [
    {
     "name": "stdout",
     "output_type": "stream",
     "text": [
      "4967\n"
     ]
    }
   ],
   "source": [
    "unique_events = merged_df[\"event_id\"].unique()\n",
    "print(len(unique_events))"
   ]
  },
  {
   "cell_type": "markdown",
   "metadata": {},
   "source": [
    "### Create user indoor_outdoor_preference feature"
   ]
  },
  {
   "cell_type": "code",
   "execution_count": 23,
   "metadata": {},
   "outputs": [
    {
     "data": {
      "text/html": [
       "<div>\n",
       "<style scoped>\n",
       "    .dataframe tbody tr th:only-of-type {\n",
       "        vertical-align: middle;\n",
       "    }\n",
       "\n",
       "    .dataframe tbody tr th {\n",
       "        vertical-align: top;\n",
       "    }\n",
       "\n",
       "    .dataframe thead th {\n",
       "        text-align: right;\n",
       "    }\n",
       "</style>\n",
       "<table border=\"1\" class=\"dataframe\">\n",
       "  <thead>\n",
       "    <tr style=\"text-align: right;\">\n",
       "      <th></th>\n",
       "      <th>Unnamed: 0_x</th>\n",
       "      <th>event_id</th>\n",
       "      <th>user_id</th>\n",
       "      <th>interaction_type</th>\n",
       "      <th>interaction_label</th>\n",
       "      <th>Unnamed: 0_y</th>\n",
       "      <th>gender</th>\n",
       "      <th>joinedAt</th>\n",
       "      <th>location</th>\n",
       "      <th>age</th>\n",
       "      <th>...</th>\n",
       "      <th>no_count</th>\n",
       "      <th>total_users</th>\n",
       "      <th>weather_description</th>\n",
       "      <th>category</th>\n",
       "      <th>title</th>\n",
       "      <th>event_type</th>\n",
       "      <th>event_indoor_capability</th>\n",
       "      <th>temperature_2m_mean</th>\n",
       "      <th>precipitation_sum</th>\n",
       "      <th>indoor_outdoor_preference</th>\n",
       "    </tr>\n",
       "  </thead>\n",
       "  <tbody>\n",
       "    <tr>\n",
       "      <th>0</th>\n",
       "      <td>2561</td>\n",
       "      <td>702719295</td>\n",
       "      <td>3468617687</td>\n",
       "      <td>maybe</td>\n",
       "      <td>1</td>\n",
       "      <td>749</td>\n",
       "      <td>female</td>\n",
       "      <td>2012-09-25T17:48:37.804Z</td>\n",
       "      <td>Saint Catharines  Ontario</td>\n",
       "      <td>20</td>\n",
       "      <td>...</td>\n",
       "      <td>22</td>\n",
       "      <td>264</td>\n",
       "      <td>Cloudy</td>\n",
       "      <td>Food &amp; Drink</td>\n",
       "      <td>Montreal Spring Bites Night Market | Food Truc...</td>\n",
       "      <td>Indoor</td>\n",
       "      <td>True</td>\n",
       "      <td>3.745500</td>\n",
       "      <td>0.0</td>\n",
       "      <td>indoor</td>\n",
       "    </tr>\n",
       "    <tr>\n",
       "      <th>1</th>\n",
       "      <td>2562</td>\n",
       "      <td>702719295</td>\n",
       "      <td>487910947</td>\n",
       "      <td>maybe</td>\n",
       "      <td>1</td>\n",
       "      <td>1748</td>\n",
       "      <td>male</td>\n",
       "      <td>2012-09-25T16:28:31.617Z</td>\n",
       "      <td>Toronto  Ontario</td>\n",
       "      <td>22</td>\n",
       "      <td>...</td>\n",
       "      <td>22</td>\n",
       "      <td>264</td>\n",
       "      <td>Cloudy</td>\n",
       "      <td>Food &amp; Drink</td>\n",
       "      <td>Montreal Spring Bites Night Market | Food Truc...</td>\n",
       "      <td>Indoor</td>\n",
       "      <td>True</td>\n",
       "      <td>3.745500</td>\n",
       "      <td>0.0</td>\n",
       "      <td>any</td>\n",
       "    </tr>\n",
       "    <tr>\n",
       "      <th>2</th>\n",
       "      <td>2607</td>\n",
       "      <td>702719295</td>\n",
       "      <td>2769572227</td>\n",
       "      <td>invited &amp; yes</td>\n",
       "      <td>1</td>\n",
       "      <td>2150</td>\n",
       "      <td>female</td>\n",
       "      <td>2012-09-25T15:40:36.962Z</td>\n",
       "      <td>Toronto  Ontario</td>\n",
       "      <td>24</td>\n",
       "      <td>...</td>\n",
       "      <td>22</td>\n",
       "      <td>264</td>\n",
       "      <td>Cloudy</td>\n",
       "      <td>Food &amp; Drink</td>\n",
       "      <td>Montreal Spring Bites Night Market | Food Truc...</td>\n",
       "      <td>Indoor</td>\n",
       "      <td>True</td>\n",
       "      <td>3.745500</td>\n",
       "      <td>0.0</td>\n",
       "      <td>any</td>\n",
       "    </tr>\n",
       "    <tr>\n",
       "      <th>3</th>\n",
       "      <td>2629</td>\n",
       "      <td>702719295</td>\n",
       "      <td>2974942354</td>\n",
       "      <td>invited &amp; yes</td>\n",
       "      <td>1</td>\n",
       "      <td>1839</td>\n",
       "      <td>male</td>\n",
       "      <td>2012-10-11T18:00:17.768Z</td>\n",
       "      <td>Toronto  Ontario</td>\n",
       "      <td>22</td>\n",
       "      <td>...</td>\n",
       "      <td>22</td>\n",
       "      <td>264</td>\n",
       "      <td>Cloudy</td>\n",
       "      <td>Food &amp; Drink</td>\n",
       "      <td>Montreal Spring Bites Night Market | Food Truc...</td>\n",
       "      <td>Indoor</td>\n",
       "      <td>True</td>\n",
       "      <td>3.745500</td>\n",
       "      <td>0.0</td>\n",
       "      <td>any</td>\n",
       "    </tr>\n",
       "    <tr>\n",
       "      <th>4</th>\n",
       "      <td>1380515</td>\n",
       "      <td>284003894</td>\n",
       "      <td>3468617687</td>\n",
       "      <td>invited &amp; yes</td>\n",
       "      <td>1</td>\n",
       "      <td>749</td>\n",
       "      <td>female</td>\n",
       "      <td>2012-09-25T17:48:37.804Z</td>\n",
       "      <td>Saint Catharines  Ontario</td>\n",
       "      <td>20</td>\n",
       "      <td>...</td>\n",
       "      <td>207</td>\n",
       "      <td>3085</td>\n",
       "      <td>Cloudy</td>\n",
       "      <td>Entertainment</td>\n",
       "      <td>Fall Night Lights Toronto - A Celebration of S...</td>\n",
       "      <td>Indoor</td>\n",
       "      <td>True</td>\n",
       "      <td>11.129666</td>\n",
       "      <td>0.0</td>\n",
       "      <td>indoor</td>\n",
       "    </tr>\n",
       "  </tbody>\n",
       "</table>\n",
       "<p>5 rows × 30 columns</p>\n",
       "</div>"
      ],
      "text/plain": [
       "   Unnamed: 0_x   event_id     user_id interaction_type  interaction_label  \\\n",
       "0          2561  702719295  3468617687            maybe                  1   \n",
       "1          2562  702719295   487910947            maybe                  1   \n",
       "2          2607  702719295  2769572227    invited & yes                  1   \n",
       "3          2629  702719295  2974942354    invited & yes                  1   \n",
       "4       1380515  284003894  3468617687    invited & yes                  1   \n",
       "\n",
       "   Unnamed: 0_y  gender                  joinedAt                   location  \\\n",
       "0           749  female  2012-09-25T17:48:37.804Z  Saint Catharines  Ontario   \n",
       "1          1748    male  2012-09-25T16:28:31.617Z           Toronto  Ontario   \n",
       "2          2150  female  2012-09-25T15:40:36.962Z           Toronto  Ontario   \n",
       "3          1839    male  2012-10-11T18:00:17.768Z           Toronto  Ontario   \n",
       "4           749  female  2012-09-25T17:48:37.804Z  Saint Catharines  Ontario   \n",
       "\n",
       "   age  ...  no_count  total_users  weather_description       category  \\\n",
       "0   20  ...        22          264               Cloudy   Food & Drink   \n",
       "1   22  ...        22          264               Cloudy   Food & Drink   \n",
       "2   24  ...        22          264               Cloudy   Food & Drink   \n",
       "3   22  ...        22          264               Cloudy   Food & Drink   \n",
       "4   20  ...       207         3085               Cloudy  Entertainment   \n",
       "\n",
       "                                               title  event_type  \\\n",
       "0  Montreal Spring Bites Night Market | Food Truc...      Indoor   \n",
       "1  Montreal Spring Bites Night Market | Food Truc...      Indoor   \n",
       "2  Montreal Spring Bites Night Market | Food Truc...      Indoor   \n",
       "3  Montreal Spring Bites Night Market | Food Truc...      Indoor   \n",
       "4  Fall Night Lights Toronto - A Celebration of S...      Indoor   \n",
       "\n",
       "   event_indoor_capability  temperature_2m_mean  precipitation_sum  \\\n",
       "0                     True             3.745500                0.0   \n",
       "1                     True             3.745500                0.0   \n",
       "2                     True             3.745500                0.0   \n",
       "3                     True             3.745500                0.0   \n",
       "4                     True            11.129666                0.0   \n",
       "\n",
       "   indoor_outdoor_preference  \n",
       "0                     indoor  \n",
       "1                        any  \n",
       "2                        any  \n",
       "3                        any  \n",
       "4                     indoor  \n",
       "\n",
       "[5 rows x 30 columns]"
      ]
     },
     "execution_count": 23,
     "metadata": {},
     "output_type": "execute_result"
    }
   ],
   "source": [
    "import pandas as pd\n",
    "\n",
    "# Define a function to determine user weather preference\n",
    "def determine_weather_preference(group):\n",
    "    event_types = group['event_type'].unique()\n",
    "    if 'Indoor' in event_types and 'Outdoor' in event_types:\n",
    "        return 'any'\n",
    "    elif 'Indoor' in event_types:\n",
    "        return 'indoor'\n",
    "    elif 'Outdoor' in event_types:\n",
    "        return 'outdoor'\n",
    "    else:\n",
    "        return 'any'  # Default case if no events are found\n",
    "df = merged_df.copy()\n",
    "# Group by user_id and apply the function\n",
    "user_preferences = df.groupby('user_id').apply(determine_weather_preference).reset_index()\n",
    "\n",
    "# Rename the columns for clarity\n",
    "user_preferences.columns = ['user_id', 'indoor_outdoor_preference']\n",
    "\n",
    "# Merge the preferences back into the original DataFrame\n",
    "merged_df = df.merge(user_preferences, on='user_id', how='left')\n",
    "\n",
    "# Display the updated DataFrame\n",
    "merged_df.drop_duplicates().head()"
   ]
  },
  {
   "cell_type": "code",
   "execution_count": 24,
   "metadata": {},
   "outputs": [
    {
     "data": {
      "text/plain": [
       "28249"
      ]
     },
     "execution_count": 24,
     "metadata": {},
     "output_type": "execute_result"
    }
   ],
   "source": [
    "len(merged_df)"
   ]
  },
  {
   "cell_type": "markdown",
   "metadata": {},
   "source": [
    "### Create user interests feature"
   ]
  },
  {
   "cell_type": "code",
   "execution_count": 25,
   "metadata": {},
   "outputs": [],
   "source": [
    "# Define a list of interests\n",
    "interests = [\n",
    "    'Music', 'Concerts',\n",
    "    'Food', 'Drink',   \n",
    "    'Education', 'Learning',\n",
    "    'Sports', 'Fitness',  \n",
    "    'Arts', 'Culture', \n",
    "    'Business', 'Networking',\n",
    "    'Technology',           \n",
    "    'Community', 'Causes', \n",
    "    'Health', 'Wellness',   \n",
    "    'Entertainment',       \n",
    "    'Seasonal', 'Festivals',\n",
    "    'Immersive', 'Experiences' \n",
    "]\n",
    "\n",
    "def get_user_interests(interactions_df):\n",
    "    \"\"\"\n",
    "    Get unique event categories for each user and determine their interests.\n",
    "    \n",
    "    Parameters:\n",
    "    - interactions_df: DataFrame containing user-event interactions with category information\n",
    "    \n",
    "    Returns:\n",
    "    - DataFrame with original data plus user_interests column as a string\n",
    "    \"\"\"\n",
    "    # Create a copy of the dataframe to avoid modifying the original\n",
    "    df = interactions_df.copy()\n",
    "    \n",
    "    # Step 1: Group by user_id and collect unique interests\n",
    "    user_categories_dict = {}\n",
    "    \n",
    "    # Group by user_id and get unique categories\n",
    "    for user_id, group in df.groupby('user_id'):\n",
    "        user_categories_dict[user_id] = set()  # Use a set to avoid duplicates\n",
    "        \n",
    "        # Check each row in the group for interests\n",
    "        for _, row in group.iterrows():\n",
    "            category = row.get('category', '')\n",
    "            # Split the category string to check for multiple interests\n",
    "            category_list = [cat.strip() for cat in category.split('&')]\n",
    "            for cat in category_list:\n",
    "                # Check if the category matches any interest\n",
    "                for interest in interests:\n",
    "                    if interest in cat:\n",
    "                        user_categories_dict[user_id].add(interest)\n",
    "\n",
    "    # Step 2: Add user_interests to the original dataframe\n",
    "    df['user_interests'] = df['user_id'].map(lambda user_id: ', '.join(user_categories_dict.get(user_id, [])))\n",
    "    \n",
    "    return df\n",
    "\n",
    "# Process the sample data\n",
    "merged_df = get_user_interests(merged_df)    "
   ]
  },
  {
   "cell_type": "markdown",
   "metadata": {},
   "source": [
    "### calculate users location distance to events \n"
   ]
  },
  {
   "cell_type": "code",
   "execution_count": 26,
   "metadata": {},
   "outputs": [],
   "source": [
    "from geopy.distance import geodesic\n",
    "\n",
    "merged_df[\"distance_to_event\"] = merged_df.apply(lambda row: geodesic((row['lat_x'], row['lng_x']), \n",
    "                    (row['lat_y'], row['lng_y'])).km, axis=1)\n",
    "\n"
   ]
  },
  {
   "cell_type": "code",
   "execution_count": 27,
   "metadata": {},
   "outputs": [
    {
     "data": {
      "text/html": [
       "<div>\n",
       "<style scoped>\n",
       "    .dataframe tbody tr th:only-of-type {\n",
       "        vertical-align: middle;\n",
       "    }\n",
       "\n",
       "    .dataframe tbody tr th {\n",
       "        vertical-align: top;\n",
       "    }\n",
       "\n",
       "    .dataframe thead th {\n",
       "        text-align: right;\n",
       "    }\n",
       "</style>\n",
       "<table border=\"1\" class=\"dataframe\">\n",
       "  <thead>\n",
       "    <tr style=\"text-align: right;\">\n",
       "      <th></th>\n",
       "      <th>Unnamed: 0_x</th>\n",
       "      <th>event_id</th>\n",
       "      <th>user_id</th>\n",
       "      <th>interaction_type</th>\n",
       "      <th>interaction_label</th>\n",
       "      <th>Unnamed: 0_y</th>\n",
       "      <th>gender</th>\n",
       "      <th>joinedAt</th>\n",
       "      <th>location</th>\n",
       "      <th>age</th>\n",
       "      <th>...</th>\n",
       "      <th>weather_description</th>\n",
       "      <th>category</th>\n",
       "      <th>title</th>\n",
       "      <th>event_type</th>\n",
       "      <th>event_indoor_capability</th>\n",
       "      <th>temperature_2m_mean</th>\n",
       "      <th>precipitation_sum</th>\n",
       "      <th>indoor_outdoor_preference</th>\n",
       "      <th>user_interests</th>\n",
       "      <th>distance_to_event</th>\n",
       "    </tr>\n",
       "  </thead>\n",
       "  <tbody>\n",
       "    <tr>\n",
       "      <th>0</th>\n",
       "      <td>2561</td>\n",
       "      <td>702719295</td>\n",
       "      <td>3468617687</td>\n",
       "      <td>maybe</td>\n",
       "      <td>1</td>\n",
       "      <td>749</td>\n",
       "      <td>female</td>\n",
       "      <td>2012-09-25T17:48:37.804Z</td>\n",
       "      <td>Saint Catharines  Ontario</td>\n",
       "      <td>20</td>\n",
       "      <td>...</td>\n",
       "      <td>Cloudy</td>\n",
       "      <td>Food &amp; Drink</td>\n",
       "      <td>Montreal Spring Bites Night Market | Food Truc...</td>\n",
       "      <td>Indoor</td>\n",
       "      <td>True</td>\n",
       "      <td>3.7455</td>\n",
       "      <td>0.0</td>\n",
       "      <td>indoor</td>\n",
       "      <td>Technology, Business, Food, Entertainment, Dri...</td>\n",
       "      <td>522.753486</td>\n",
       "    </tr>\n",
       "    <tr>\n",
       "      <th>1</th>\n",
       "      <td>2562</td>\n",
       "      <td>702719295</td>\n",
       "      <td>487910947</td>\n",
       "      <td>maybe</td>\n",
       "      <td>1</td>\n",
       "      <td>1748</td>\n",
       "      <td>male</td>\n",
       "      <td>2012-09-25T16:28:31.617Z</td>\n",
       "      <td>Toronto  Ontario</td>\n",
       "      <td>22</td>\n",
       "      <td>...</td>\n",
       "      <td>Cloudy</td>\n",
       "      <td>Food &amp; Drink</td>\n",
       "      <td>Montreal Spring Bites Night Market | Food Truc...</td>\n",
       "      <td>Indoor</td>\n",
       "      <td>True</td>\n",
       "      <td>3.7455</td>\n",
       "      <td>0.0</td>\n",
       "      <td>any</td>\n",
       "      <td>Technology, Music, Business, Food, Entertainme...</td>\n",
       "      <td>506.036813</td>\n",
       "    </tr>\n",
       "  </tbody>\n",
       "</table>\n",
       "<p>2 rows × 32 columns</p>\n",
       "</div>"
      ],
      "text/plain": [
       "   Unnamed: 0_x   event_id     user_id interaction_type  interaction_label  \\\n",
       "0          2561  702719295  3468617687            maybe                  1   \n",
       "1          2562  702719295   487910947            maybe                  1   \n",
       "\n",
       "   Unnamed: 0_y  gender                  joinedAt                   location  \\\n",
       "0           749  female  2012-09-25T17:48:37.804Z  Saint Catharines  Ontario   \n",
       "1          1748    male  2012-09-25T16:28:31.617Z           Toronto  Ontario   \n",
       "\n",
       "   age  ...  weather_description      category  \\\n",
       "0   20  ...               Cloudy  Food & Drink   \n",
       "1   22  ...               Cloudy  Food & Drink   \n",
       "\n",
       "                                               title event_type  \\\n",
       "0  Montreal Spring Bites Night Market | Food Truc...     Indoor   \n",
       "1  Montreal Spring Bites Night Market | Food Truc...     Indoor   \n",
       "\n",
       "  event_indoor_capability  temperature_2m_mean  precipitation_sum  \\\n",
       "0                    True               3.7455                0.0   \n",
       "1                    True               3.7455                0.0   \n",
       "\n",
       "   indoor_outdoor_preference  \\\n",
       "0                     indoor   \n",
       "1                        any   \n",
       "\n",
       "                                      user_interests  distance_to_event  \n",
       "0  Technology, Business, Food, Entertainment, Dri...         522.753486  \n",
       "1  Technology, Music, Business, Food, Entertainme...         506.036813  \n",
       "\n",
       "[2 rows x 32 columns]"
      ]
     },
     "execution_count": 27,
     "metadata": {},
     "output_type": "execute_result"
    }
   ],
   "source": [
    "merged_df.head(2)"
   ]
  },
  {
   "cell_type": "markdown",
   "metadata": {},
   "source": [
    "### Get user weather information during event time.\n"
   ]
  },
  {
   "cell_type": "code",
   "execution_count": 28,
   "metadata": {},
   "outputs": [
    {
     "data": {
      "text/plain": [
       "28249"
      ]
     },
     "execution_count": 28,
     "metadata": {},
     "output_type": "execute_result"
    }
   ],
   "source": [
    "side_merged_df = merged_df[['temperature_2m_mean', 'precipitation_sum']]\n",
    "len(side_merged_df)"
   ]
  },
  {
   "cell_type": "code",
   "execution_count": null,
   "metadata": {},
   "outputs": [],
   "source": [
    "# importing the script with functions to split dataframe, retreive weather info and concat all splits  \n",
    "from thesis.partially_synthetic.src.weather_data import get_weather_info\n",
    "merged_df = get_weather_info(merged_df, lat_col='lat_x', lon_col='lng_x', id_col='user_id')"
   ]
  },
  {
   "cell_type": "markdown",
   "metadata": {},
   "source": [
    "#### load the already retrieved user weather data instead of running the function call above again"
   ]
  },
  {
   "cell_type": "code",
   "execution_count": 29,
   "metadata": {},
   "outputs": [],
   "source": [
    "merged_df = pd.read_csv(\"/home/nkama/masters_thesis_project/thesis/partially_synthetic/data/user_weather_data\").\\\n",
    "drop(columns=([\"Unnamed: 0.1\",\"Unnamed: 0_x\", \"Unnamed: 0_y\"]))\n",
    "\n"
   ]
  },
  {
   "cell_type": "markdown",
   "metadata": {},
   "source": [
    "### Get weather codes for user weather info\n"
   ]
  },
  {
   "cell_type": "code",
   "execution_count": 30,
   "metadata": {},
   "outputs": [
    {
     "data": {
      "text/html": [
       "<div>\n",
       "<style scoped>\n",
       "    .dataframe tbody tr th:only-of-type {\n",
       "        vertical-align: middle;\n",
       "    }\n",
       "\n",
       "    .dataframe tbody tr th {\n",
       "        vertical-align: top;\n",
       "    }\n",
       "\n",
       "    .dataframe thead th {\n",
       "        text-align: right;\n",
       "    }\n",
       "</style>\n",
       "<table border=\"1\" class=\"dataframe\">\n",
       "  <thead>\n",
       "    <tr style=\"text-align: right;\">\n",
       "      <th></th>\n",
       "      <th>event_id</th>\n",
       "      <th>user_id</th>\n",
       "      <th>interaction_type</th>\n",
       "      <th>interaction_label</th>\n",
       "      <th>gender</th>\n",
       "      <th>joinedAt</th>\n",
       "      <th>location</th>\n",
       "      <th>age</th>\n",
       "      <th>lat_x</th>\n",
       "      <th>lng_x</th>\n",
       "      <th>...</th>\n",
       "      <th>category</th>\n",
       "      <th>title</th>\n",
       "      <th>event_type</th>\n",
       "      <th>event_indoor_capability</th>\n",
       "      <th>temperature_2m_mean</th>\n",
       "      <th>precipitation_sum</th>\n",
       "      <th>indoor_outdoor_preference</th>\n",
       "      <th>user_interests</th>\n",
       "      <th>distance_to_event</th>\n",
       "      <th>user_weather_condition</th>\n",
       "    </tr>\n",
       "  </thead>\n",
       "  <tbody>\n",
       "    <tr>\n",
       "      <th>0</th>\n",
       "      <td>702719295</td>\n",
       "      <td>3468617687</td>\n",
       "      <td>maybe</td>\n",
       "      <td>1</td>\n",
       "      <td>female</td>\n",
       "      <td>2012-09-25T17:48:37.804Z</td>\n",
       "      <td>Saint Catharines  Ontario</td>\n",
       "      <td>20</td>\n",
       "      <td>43.158</td>\n",
       "      <td>-79.244</td>\n",
       "      <td>...</td>\n",
       "      <td>Food &amp; Drink</td>\n",
       "      <td>Montreal Spring Bites Night Market | Food Truc...</td>\n",
       "      <td>Indoor</td>\n",
       "      <td>True</td>\n",
       "      <td>5.463667</td>\n",
       "      <td>0.0</td>\n",
       "      <td>indoor</td>\n",
       "      <td>Drink, Technology, Business, Seasonal, Food, E...</td>\n",
       "      <td>522.753486</td>\n",
       "      <td>Cloudy</td>\n",
       "    </tr>\n",
       "    <tr>\n",
       "      <th>1</th>\n",
       "      <td>702719295</td>\n",
       "      <td>487910947</td>\n",
       "      <td>maybe</td>\n",
       "      <td>1</td>\n",
       "      <td>male</td>\n",
       "      <td>2012-09-25T16:28:31.617Z</td>\n",
       "      <td>Toronto  Ontario</td>\n",
       "      <td>22</td>\n",
       "      <td>43.653</td>\n",
       "      <td>-79.384</td>\n",
       "      <td>...</td>\n",
       "      <td>Food &amp; Drink</td>\n",
       "      <td>Montreal Spring Bites Night Market | Food Truc...</td>\n",
       "      <td>Indoor</td>\n",
       "      <td>True</td>\n",
       "      <td>4.505249</td>\n",
       "      <td>0.1</td>\n",
       "      <td>any</td>\n",
       "      <td>Drink, Technology, Music, Education, Learning,...</td>\n",
       "      <td>506.036813</td>\n",
       "      <td>Light Drizzle</td>\n",
       "    </tr>\n",
       "    <tr>\n",
       "      <th>2</th>\n",
       "      <td>702719295</td>\n",
       "      <td>2769572227</td>\n",
       "      <td>invited &amp; yes</td>\n",
       "      <td>1</td>\n",
       "      <td>female</td>\n",
       "      <td>2012-09-25T15:40:36.962Z</td>\n",
       "      <td>Toronto  Ontario</td>\n",
       "      <td>24</td>\n",
       "      <td>43.653</td>\n",
       "      <td>-79.384</td>\n",
       "      <td>...</td>\n",
       "      <td>Food &amp; Drink</td>\n",
       "      <td>Montreal Spring Bites Night Market | Food Truc...</td>\n",
       "      <td>Indoor</td>\n",
       "      <td>True</td>\n",
       "      <td>4.505249</td>\n",
       "      <td>0.1</td>\n",
       "      <td>any</td>\n",
       "      <td>Drink, Music, Education, Fitness, Experiences,...</td>\n",
       "      <td>506.036813</td>\n",
       "      <td>Light Drizzle</td>\n",
       "    </tr>\n",
       "    <tr>\n",
       "      <th>3</th>\n",
       "      <td>702719295</td>\n",
       "      <td>2974942354</td>\n",
       "      <td>invited &amp; yes</td>\n",
       "      <td>1</td>\n",
       "      <td>male</td>\n",
       "      <td>2012-10-11T18:00:17.768Z</td>\n",
       "      <td>Toronto  Ontario</td>\n",
       "      <td>22</td>\n",
       "      <td>43.653</td>\n",
       "      <td>-79.384</td>\n",
       "      <td>...</td>\n",
       "      <td>Food &amp; Drink</td>\n",
       "      <td>Montreal Spring Bites Night Market | Food Truc...</td>\n",
       "      <td>Indoor</td>\n",
       "      <td>True</td>\n",
       "      <td>4.505249</td>\n",
       "      <td>0.1</td>\n",
       "      <td>any</td>\n",
       "      <td>Drink, Technology, Music, Education, Learning,...</td>\n",
       "      <td>506.036813</td>\n",
       "      <td>Light Drizzle</td>\n",
       "    </tr>\n",
       "    <tr>\n",
       "      <th>4</th>\n",
       "      <td>284003894</td>\n",
       "      <td>3468617687</td>\n",
       "      <td>invited &amp; yes</td>\n",
       "      <td>1</td>\n",
       "      <td>female</td>\n",
       "      <td>2012-09-25T17:48:37.804Z</td>\n",
       "      <td>Saint Catharines  Ontario</td>\n",
       "      <td>20</td>\n",
       "      <td>43.158</td>\n",
       "      <td>-79.244</td>\n",
       "      <td>...</td>\n",
       "      <td>Entertainment</td>\n",
       "      <td>Fall Night Lights Toronto - A Celebration of S...</td>\n",
       "      <td>Indoor</td>\n",
       "      <td>True</td>\n",
       "      <td>11.065750</td>\n",
       "      <td>0.0</td>\n",
       "      <td>indoor</td>\n",
       "      <td>Drink, Technology, Business, Seasonal, Food, E...</td>\n",
       "      <td>55.942166</td>\n",
       "      <td>Partly Cloudy</td>\n",
       "    </tr>\n",
       "  </tbody>\n",
       "</table>\n",
       "<p>5 rows × 31 columns</p>\n",
       "</div>"
      ],
      "text/plain": [
       "    event_id     user_id interaction_type  interaction_label  gender  \\\n",
       "0  702719295  3468617687            maybe                  1  female   \n",
       "1  702719295   487910947            maybe                  1    male   \n",
       "2  702719295  2769572227    invited & yes                  1  female   \n",
       "3  702719295  2974942354    invited & yes                  1    male   \n",
       "4  284003894  3468617687    invited & yes                  1  female   \n",
       "\n",
       "                   joinedAt                   location  age   lat_x   lng_x  \\\n",
       "0  2012-09-25T17:48:37.804Z  Saint Catharines  Ontario   20  43.158 -79.244   \n",
       "1  2012-09-25T16:28:31.617Z           Toronto  Ontario   22  43.653 -79.384   \n",
       "2  2012-09-25T15:40:36.962Z           Toronto  Ontario   24  43.653 -79.384   \n",
       "3  2012-10-11T18:00:17.768Z           Toronto  Ontario   22  43.653 -79.384   \n",
       "4  2012-09-25T17:48:37.804Z  Saint Catharines  Ontario   20  43.158 -79.244   \n",
       "\n",
       "   ...       category                                              title  \\\n",
       "0  ...   Food & Drink  Montreal Spring Bites Night Market | Food Truc...   \n",
       "1  ...   Food & Drink  Montreal Spring Bites Night Market | Food Truc...   \n",
       "2  ...   Food & Drink  Montreal Spring Bites Night Market | Food Truc...   \n",
       "3  ...   Food & Drink  Montreal Spring Bites Night Market | Food Truc...   \n",
       "4  ...  Entertainment  Fall Night Lights Toronto - A Celebration of S...   \n",
       "\n",
       "  event_type  event_indoor_capability  temperature_2m_mean  precipitation_sum  \\\n",
       "0     Indoor                     True             5.463667                0.0   \n",
       "1     Indoor                     True             4.505249                0.1   \n",
       "2     Indoor                     True             4.505249                0.1   \n",
       "3     Indoor                     True             4.505249                0.1   \n",
       "4     Indoor                     True            11.065750                0.0   \n",
       "\n",
       "   indoor_outdoor_preference  \\\n",
       "0                     indoor   \n",
       "1                        any   \n",
       "2                        any   \n",
       "3                        any   \n",
       "4                     indoor   \n",
       "\n",
       "                                      user_interests  distance_to_event  \\\n",
       "0  Drink, Technology, Business, Seasonal, Food, E...         522.753486   \n",
       "1  Drink, Technology, Music, Education, Learning,...         506.036813   \n",
       "2  Drink, Music, Education, Fitness, Experiences,...         506.036813   \n",
       "3  Drink, Technology, Music, Education, Learning,...         506.036813   \n",
       "4  Drink, Technology, Business, Seasonal, Food, E...          55.942166   \n",
       "\n",
       "   user_weather_condition  \n",
       "0                  Cloudy  \n",
       "1           Light Drizzle  \n",
       "2           Light Drizzle  \n",
       "3           Light Drizzle  \n",
       "4           Partly Cloudy  \n",
       "\n",
       "[5 rows x 31 columns]"
      ]
     },
     "execution_count": 30,
     "metadata": {},
     "output_type": "execute_result"
    }
   ],
   "source": [
    "import pandas as pd\n",
    "import json\n",
    "\n",
    "# Load the weather descriptions from JSON file\n",
    "with open('/home/nkama/masters_thesis_project/thesis/partially_synthetic/data/descriptions.json', 'r') as f:\n",
    "    weather_descriptions = json.load(f)\n",
    "\n",
    "# Create a mapping dictionary for weather codes to descriptions\n",
    "weather_code_mapping = {float(key): value[\"day\"][\"description\"] for key, value in weather_descriptions.items()}\n",
    "\n",
    "# Replace weather codes with descriptions in the DataFrame\n",
    "merged_df['user_weather_condition'] = merged_df['weather_code'].map(weather_code_mapping)\n",
    "merged_df = merged_df.drop(columns=([\"weather_code\",\"precipitation_hours\", \"wind_speed_10m_max\"]))\n",
    "\n",
    "# Example: Display the updated DataFrame\n",
    "merged_df.head()\n"
   ]
  },
  {
   "cell_type": "code",
   "execution_count": 31,
   "metadata": {},
   "outputs": [
    {
     "data": {
      "text/plain": [
       "28249"
      ]
     },
     "execution_count": 31,
     "metadata": {},
     "output_type": "execute_result"
    }
   ],
   "source": [
    "side_merged_df.columns = ['event_temperature', 'event_precipitation_sum']\n",
    "len(side_merged_df)"
   ]
  },
  {
   "cell_type": "code",
   "execution_count": 32,
   "metadata": {},
   "outputs": [
    {
     "name": "stdout",
     "output_type": "stream",
     "text": [
      "28249\n"
     ]
    }
   ],
   "source": [
    "merged_df = pd.concat([merged_df, side_merged_df], axis=1)\n",
    "print(len(merged_df))\n"
   ]
  },
  {
   "cell_type": "code",
   "execution_count": 33,
   "metadata": {},
   "outputs": [
    {
     "data": {
      "text/html": [
       "<div>\n",
       "<style scoped>\n",
       "    .dataframe tbody tr th:only-of-type {\n",
       "        vertical-align: middle;\n",
       "    }\n",
       "\n",
       "    .dataframe tbody tr th {\n",
       "        vertical-align: top;\n",
       "    }\n",
       "\n",
       "    .dataframe thead th {\n",
       "        text-align: right;\n",
       "    }\n",
       "</style>\n",
       "<table border=\"1\" class=\"dataframe\">\n",
       "  <thead>\n",
       "    <tr style=\"text-align: right;\">\n",
       "      <th></th>\n",
       "      <th>event_id</th>\n",
       "      <th>user_id</th>\n",
       "      <th>interaction_type</th>\n",
       "      <th>interaction_label</th>\n",
       "      <th>gender</th>\n",
       "      <th>joinedAt</th>\n",
       "      <th>location</th>\n",
       "      <th>age</th>\n",
       "      <th>lat_x</th>\n",
       "      <th>lng_x</th>\n",
       "      <th>...</th>\n",
       "      <th>event_type</th>\n",
       "      <th>event_indoor_capability</th>\n",
       "      <th>temperature_2m_mean</th>\n",
       "      <th>precipitation_sum</th>\n",
       "      <th>indoor_outdoor_preference</th>\n",
       "      <th>user_interests</th>\n",
       "      <th>distance_to_event</th>\n",
       "      <th>user_weather_condition</th>\n",
       "      <th>event_temperature</th>\n",
       "      <th>event_precipitation_sum</th>\n",
       "    </tr>\n",
       "  </thead>\n",
       "  <tbody>\n",
       "    <tr>\n",
       "      <th>0</th>\n",
       "      <td>702719295</td>\n",
       "      <td>3468617687</td>\n",
       "      <td>maybe</td>\n",
       "      <td>1</td>\n",
       "      <td>female</td>\n",
       "      <td>2012-09-25T17:48:37.804Z</td>\n",
       "      <td>Saint Catharines  Ontario</td>\n",
       "      <td>20</td>\n",
       "      <td>43.158</td>\n",
       "      <td>-79.244</td>\n",
       "      <td>...</td>\n",
       "      <td>Indoor</td>\n",
       "      <td>True</td>\n",
       "      <td>5.463667</td>\n",
       "      <td>0.0</td>\n",
       "      <td>indoor</td>\n",
       "      <td>Drink, Technology, Business, Seasonal, Food, E...</td>\n",
       "      <td>522.753486</td>\n",
       "      <td>Cloudy</td>\n",
       "      <td>3.7455</td>\n",
       "      <td>0.0</td>\n",
       "    </tr>\n",
       "    <tr>\n",
       "      <th>1</th>\n",
       "      <td>702719295</td>\n",
       "      <td>487910947</td>\n",
       "      <td>maybe</td>\n",
       "      <td>1</td>\n",
       "      <td>male</td>\n",
       "      <td>2012-09-25T16:28:31.617Z</td>\n",
       "      <td>Toronto  Ontario</td>\n",
       "      <td>22</td>\n",
       "      <td>43.653</td>\n",
       "      <td>-79.384</td>\n",
       "      <td>...</td>\n",
       "      <td>Indoor</td>\n",
       "      <td>True</td>\n",
       "      <td>4.505249</td>\n",
       "      <td>0.1</td>\n",
       "      <td>any</td>\n",
       "      <td>Drink, Technology, Music, Education, Learning,...</td>\n",
       "      <td>506.036813</td>\n",
       "      <td>Light Drizzle</td>\n",
       "      <td>3.7455</td>\n",
       "      <td>0.0</td>\n",
       "    </tr>\n",
       "  </tbody>\n",
       "</table>\n",
       "<p>2 rows × 33 columns</p>\n",
       "</div>"
      ],
      "text/plain": [
       "    event_id     user_id interaction_type  interaction_label  gender  \\\n",
       "0  702719295  3468617687            maybe                  1  female   \n",
       "1  702719295   487910947            maybe                  1    male   \n",
       "\n",
       "                   joinedAt                   location  age   lat_x   lng_x  \\\n",
       "0  2012-09-25T17:48:37.804Z  Saint Catharines  Ontario   20  43.158 -79.244   \n",
       "1  2012-09-25T16:28:31.617Z           Toronto  Ontario   22  43.653 -79.384   \n",
       "\n",
       "   ...  event_type event_indoor_capability temperature_2m_mean  \\\n",
       "0  ...      Indoor                    True            5.463667   \n",
       "1  ...      Indoor                    True            4.505249   \n",
       "\n",
       "   precipitation_sum  indoor_outdoor_preference  \\\n",
       "0                0.0                     indoor   \n",
       "1                0.1                        any   \n",
       "\n",
       "                                      user_interests  distance_to_event  \\\n",
       "0  Drink, Technology, Business, Seasonal, Food, E...         522.753486   \n",
       "1  Drink, Technology, Music, Education, Learning,...         506.036813   \n",
       "\n",
       "   user_weather_condition  event_temperature  event_precipitation_sum  \n",
       "0                  Cloudy             3.7455                      0.0  \n",
       "1           Light Drizzle             3.7455                      0.0  \n",
       "\n",
       "[2 rows x 33 columns]"
      ]
     },
     "execution_count": 33,
     "metadata": {},
     "output_type": "execute_result"
    }
   ],
   "source": [
    "merged_df.head(2)"
   ]
  },
  {
   "cell_type": "code",
   "execution_count": 36,
   "metadata": {},
   "outputs": [
    {
     "name": "stdout",
     "output_type": "stream",
     "text": [
      "28249\n"
     ]
    },
    {
     "data": {
      "text/plain": [
       "Index(['event_id', 'user_id', 'interaction_type', 'interaction_label',\n",
       "       'gender', 'joinedAt', 'location', 'age', 'lat_x', 'lng_x', 'Unnamed: 0',\n",
       "       'start_time', 'city', 'lat_y', 'lng_y', 'yes_count', 'maybe_count',\n",
       "       'invited_count', 'no_count', 'total_users', 'weather_description',\n",
       "       'category', 'title', 'event_type', 'event_indoor_capability',\n",
       "       'temperature_2m_mean', 'precipitation_sum', 'indoor_outdoor_preference',\n",
       "       'user_interests', 'distance_to_event', 'user_weather_condition',\n",
       "       'event_temperature', 'event_precipitation_sum'],\n",
       "      dtype='object')"
      ]
     },
     "execution_count": 36,
     "metadata": {},
     "output_type": "execute_result"
    }
   ],
   "source": [
    "print(len(merged_df))\n",
    "merged_df.columns"
   ]
  },
  {
   "cell_type": "markdown",
   "metadata": {},
   "source": [
    "### Create main users data"
   ]
  },
  {
   "cell_type": "code",
   "execution_count": 38,
   "metadata": {},
   "outputs": [
    {
     "data": {
      "text/plain": [
       "5315"
      ]
     },
     "execution_count": 38,
     "metadata": {},
     "output_type": "execute_result"
    }
   ],
   "source": [
    "users_df_new = users_df[users_df[\"user_id\"].isin(unique_users)]\n",
    "len(users_df_new)"
   ]
  },
  {
   "cell_type": "code",
   "execution_count": 39,
   "metadata": {},
   "outputs": [
    {
     "name": "stdout",
     "output_type": "stream",
     "text": [
      "28249\n"
     ]
    },
    {
     "data": {
      "text/html": [
       "<div>\n",
       "<style scoped>\n",
       "    .dataframe tbody tr th:only-of-type {\n",
       "        vertical-align: middle;\n",
       "    }\n",
       "\n",
       "    .dataframe tbody tr th {\n",
       "        vertical-align: top;\n",
       "    }\n",
       "\n",
       "    .dataframe thead th {\n",
       "        text-align: right;\n",
       "    }\n",
       "</style>\n",
       "<table border=\"1\" class=\"dataframe\">\n",
       "  <thead>\n",
       "    <tr style=\"text-align: right;\">\n",
       "      <th></th>\n",
       "      <th>user_id</th>\n",
       "      <th>gender</th>\n",
       "      <th>joinedAt</th>\n",
       "      <th>location</th>\n",
       "      <th>age</th>\n",
       "      <th>lat</th>\n",
       "      <th>lng</th>\n",
       "      <th>indoor_outdoor_preference</th>\n",
       "      <th>user_interests</th>\n",
       "    </tr>\n",
       "  </thead>\n",
       "  <tbody>\n",
       "    <tr>\n",
       "      <th>0</th>\n",
       "      <td>3197468391</td>\n",
       "      <td>male</td>\n",
       "      <td>2012-10-02T06:40:55.524Z</td>\n",
       "      <td>Medan  Indonesia</td>\n",
       "      <td>19</td>\n",
       "      <td>3.59</td>\n",
       "      <td>98.674</td>\n",
       "      <td>indoor</td>\n",
       "      <td>Technology, Business, Seasonal, Entertainment,...</td>\n",
       "    </tr>\n",
       "    <tr>\n",
       "      <th>1</th>\n",
       "      <td>3197468391</td>\n",
       "      <td>male</td>\n",
       "      <td>2012-10-02T06:40:55.524Z</td>\n",
       "      <td>Medan  Indonesia</td>\n",
       "      <td>19</td>\n",
       "      <td>3.59</td>\n",
       "      <td>98.674</td>\n",
       "      <td>indoor</td>\n",
       "      <td>Technology, Business, Seasonal, Entertainment,...</td>\n",
       "    </tr>\n",
       "  </tbody>\n",
       "</table>\n",
       "</div>"
      ],
      "text/plain": [
       "      user_id gender                  joinedAt          location  age   lat  \\\n",
       "0  3197468391   male  2012-10-02T06:40:55.524Z  Medan  Indonesia   19  3.59   \n",
       "1  3197468391   male  2012-10-02T06:40:55.524Z  Medan  Indonesia   19  3.59   \n",
       "\n",
       "      lng indoor_outdoor_preference  \\\n",
       "0  98.674                    indoor   \n",
       "1  98.674                    indoor   \n",
       "\n",
       "                                      user_interests  \n",
       "0  Technology, Business, Seasonal, Entertainment,...  \n",
       "1  Technology, Business, Seasonal, Entertainment,...  "
      ]
     },
     "execution_count": 39,
     "metadata": {},
     "output_type": "execute_result"
    }
   ],
   "source": [
    "main_users_df = users_df_new.merge(merged_df[['user_id','indoor_outdoor_preference', 'user_interests']], \n",
    "                                 on=\"user_id\")\n",
    "\n",
    "main_users_df = main_users_df[main_users_df[\"user_id\"].isin(unique_users)].drop(\"Unnamed: 0\",axis=1)\n",
    "print(len(main_users_df))\n",
    "main_users_df.head(2)"
   ]
  },
  {
   "cell_type": "code",
   "execution_count": 40,
   "metadata": {},
   "outputs": [
    {
     "name": "stdout",
     "output_type": "stream",
     "text": [
      "5315\n"
     ]
    },
    {
     "data": {
      "text/html": [
       "<div>\n",
       "<style scoped>\n",
       "    .dataframe tbody tr th:only-of-type {\n",
       "        vertical-align: middle;\n",
       "    }\n",
       "\n",
       "    .dataframe tbody tr th {\n",
       "        vertical-align: top;\n",
       "    }\n",
       "\n",
       "    .dataframe thead th {\n",
       "        text-align: right;\n",
       "    }\n",
       "</style>\n",
       "<table border=\"1\" class=\"dataframe\">\n",
       "  <thead>\n",
       "    <tr style=\"text-align: right;\">\n",
       "      <th></th>\n",
       "      <th>user_id</th>\n",
       "      <th>gender</th>\n",
       "      <th>joinedAt</th>\n",
       "      <th>location</th>\n",
       "      <th>age</th>\n",
       "      <th>lat</th>\n",
       "      <th>lng</th>\n",
       "      <th>indoor_outdoor_preference</th>\n",
       "      <th>user_interests</th>\n",
       "    </tr>\n",
       "  </thead>\n",
       "  <tbody>\n",
       "    <tr>\n",
       "      <th>0</th>\n",
       "      <td>3197468391</td>\n",
       "      <td>male</td>\n",
       "      <td>2012-10-02T06:40:55.524Z</td>\n",
       "      <td>Medan  Indonesia</td>\n",
       "      <td>19</td>\n",
       "      <td>3.590</td>\n",
       "      <td>98.674</td>\n",
       "      <td>indoor</td>\n",
       "      <td>Technology, Business, Seasonal, Entertainment,...</td>\n",
       "    </tr>\n",
       "    <tr>\n",
       "      <th>14</th>\n",
       "      <td>1091720544</td>\n",
       "      <td>female</td>\n",
       "      <td>2012-10-30T11:55:19.469Z</td>\n",
       "      <td>Plaine Des Papayes  Pamplemousses  Mauritius</td>\n",
       "      <td>24</td>\n",
       "      <td>-20.063</td>\n",
       "      <td>57.581</td>\n",
       "      <td>indoor</td>\n",
       "      <td>Technology, Seasonal, Festivals</td>\n",
       "    </tr>\n",
       "  </tbody>\n",
       "</table>\n",
       "</div>"
      ],
      "text/plain": [
       "       user_id  gender                  joinedAt  \\\n",
       "0   3197468391    male  2012-10-02T06:40:55.524Z   \n",
       "14  1091720544  female  2012-10-30T11:55:19.469Z   \n",
       "\n",
       "                                        location  age     lat     lng  \\\n",
       "0                               Medan  Indonesia   19   3.590  98.674   \n",
       "14  Plaine Des Papayes  Pamplemousses  Mauritius   24 -20.063  57.581   \n",
       "\n",
       "   indoor_outdoor_preference  \\\n",
       "0                     indoor   \n",
       "14                    indoor   \n",
       "\n",
       "                                       user_interests  \n",
       "0   Technology, Business, Seasonal, Entertainment,...  \n",
       "14                    Technology, Seasonal, Festivals  "
      ]
     },
     "execution_count": 40,
     "metadata": {},
     "output_type": "execute_result"
    }
   ],
   "source": [
    "main_users_df.drop_duplicates(inplace=True)\n",
    "print(len(main_users_df))\n",
    "main_users_df.head(2)"
   ]
  },
  {
   "cell_type": "markdown",
   "metadata": {},
   "source": [
    "### Create main events data"
   ]
  },
  {
   "cell_type": "code",
   "execution_count": 41,
   "metadata": {},
   "outputs": [
    {
     "name": "stdout",
     "output_type": "stream",
     "text": [
      "4967\n"
     ]
    },
    {
     "data": {
      "text/html": [
       "<div>\n",
       "<style scoped>\n",
       "    .dataframe tbody tr th:only-of-type {\n",
       "        vertical-align: middle;\n",
       "    }\n",
       "\n",
       "    .dataframe tbody tr th {\n",
       "        vertical-align: top;\n",
       "    }\n",
       "\n",
       "    .dataframe thead th {\n",
       "        text-align: right;\n",
       "    }\n",
       "</style>\n",
       "<table border=\"1\" class=\"dataframe\">\n",
       "  <thead>\n",
       "    <tr style=\"text-align: right;\">\n",
       "      <th></th>\n",
       "      <th>event_id</th>\n",
       "      <th>start_time</th>\n",
       "      <th>city</th>\n",
       "      <th>lat</th>\n",
       "      <th>lng</th>\n",
       "      <th>yes_count</th>\n",
       "      <th>maybe_count</th>\n",
       "      <th>invited_count</th>\n",
       "      <th>no_count</th>\n",
       "      <th>total_users</th>\n",
       "      <th>weather_description</th>\n",
       "      <th>category</th>\n",
       "      <th>title</th>\n",
       "      <th>event_type</th>\n",
       "      <th>event_indoor_capability</th>\n",
       "      <th>temperature_2m_mean</th>\n",
       "      <th>precipitation_sum</th>\n",
       "    </tr>\n",
       "  </thead>\n",
       "  <tbody>\n",
       "    <tr>\n",
       "      <th>0</th>\n",
       "      <td>2587616435</td>\n",
       "      <td>2012-11-13T11:00:00.002Z</td>\n",
       "      <td>Sihanoukville</td>\n",
       "      <td>10.633</td>\n",
       "      <td>103.500</td>\n",
       "      <td>93</td>\n",
       "      <td>65</td>\n",
       "      <td>317</td>\n",
       "      <td>47</td>\n",
       "      <td>522</td>\n",
       "      <td>Light Drizzle</td>\n",
       "      <td>Education &amp; Learning</td>\n",
       "      <td>Sihanoukville Knowledge Festival 2025 - Mornin...</td>\n",
       "      <td>Indoor</td>\n",
       "      <td>True</td>\n",
       "      <td>28.318502</td>\n",
       "      <td>0.1</td>\n",
       "    </tr>\n",
       "    <tr>\n",
       "      <th>1</th>\n",
       "      <td>1145166049</td>\n",
       "      <td>2013-07-08T02:00:00.000Z</td>\n",
       "      <td>Palo Alto</td>\n",
       "      <td>37.442</td>\n",
       "      <td>-122.172</td>\n",
       "      <td>162</td>\n",
       "      <td>112</td>\n",
       "      <td>1021</td>\n",
       "      <td>150</td>\n",
       "      <td>1445</td>\n",
       "      <td>Cloudy</td>\n",
       "      <td>Business &amp; Networking</td>\n",
       "      <td>Palo Alto Summer Night Networking Bash</td>\n",
       "      <td>Indoor</td>\n",
       "      <td>True</td>\n",
       "      <td>18.417002</td>\n",
       "      <td>0.0</td>\n",
       "    </tr>\n",
       "  </tbody>\n",
       "</table>\n",
       "</div>"
      ],
      "text/plain": [
       "     event_id                start_time           city     lat      lng  \\\n",
       "0  2587616435  2012-11-13T11:00:00.002Z  Sihanoukville  10.633  103.500   \n",
       "1  1145166049  2013-07-08T02:00:00.000Z      Palo Alto  37.442 -122.172   \n",
       "\n",
       "   yes_count  maybe_count  invited_count  no_count  total_users  \\\n",
       "0         93           65            317        47          522   \n",
       "1        162          112           1021       150         1445   \n",
       "\n",
       "  weather_description               category  \\\n",
       "0       Light Drizzle   Education & Learning   \n",
       "1              Cloudy  Business & Networking   \n",
       "\n",
       "                                               title event_type  \\\n",
       "0  Sihanoukville Knowledge Festival 2025 - Mornin...     Indoor   \n",
       "1             Palo Alto Summer Night Networking Bash     Indoor   \n",
       "\n",
       "   event_indoor_capability  temperature_2m_mean  precipitation_sum  \n",
       "0                     True            28.318502                0.1  \n",
       "1                     True            18.417002                0.0  "
      ]
     },
     "execution_count": 41,
     "metadata": {},
     "output_type": "execute_result"
    }
   ],
   "source": [
    "main_events_df = events_df[events_df[\"event_id\"].isin(unique_events)].drop(\"Unnamed: 0\",axis=1)\n",
    "print(len(main_events_df))\n",
    "main_events_df.head(2)"
   ]
  },
  {
   "cell_type": "code",
   "execution_count": 44,
   "metadata": {},
   "outputs": [],
   "source": [
    "merged_df.columns = ['event_id', 'user_id', 'interaction_type', 'interaction_label',\n",
    "       'gender', 'joinedAt', 'location', 'age', 'user_lat', 'user_lng', 'Unnamed: 0',\n",
    "       'start_time', 'city', 'event_lat', 'event_lng', 'yes_count', 'maybe_count',\n",
    "       'invited_count', 'no_count', 'total_users', 'event_weather_condition',\n",
    "       'category', 'title', 'event_type', 'event_indoor_capability',\n",
    "       'user_temperature', 'user_precipitation', 'indoor_outdoor_preference',\n",
    "       'user_interests', 'distance_to_event', 'user_weather_condition',\n",
    "       'event_temperature', 'event_precipitation_sum'] "
   ]
  },
  {
   "cell_type": "markdown",
   "metadata": {},
   "source": [
    "### Create main interactions data"
   ]
  },
  {
   "cell_type": "code",
   "execution_count": 47,
   "metadata": {},
   "outputs": [
    {
     "data": {
      "text/html": [
       "<div>\n",
       "<style scoped>\n",
       "    .dataframe tbody tr th:only-of-type {\n",
       "        vertical-align: middle;\n",
       "    }\n",
       "\n",
       "    .dataframe tbody tr th {\n",
       "        vertical-align: top;\n",
       "    }\n",
       "\n",
       "    .dataframe thead th {\n",
       "        text-align: right;\n",
       "    }\n",
       "</style>\n",
       "<table border=\"1\" class=\"dataframe\">\n",
       "  <thead>\n",
       "    <tr style=\"text-align: right;\">\n",
       "      <th></th>\n",
       "      <th>event_id</th>\n",
       "      <th>user_id</th>\n",
       "      <th>interaction_type</th>\n",
       "      <th>distance_to_event</th>\n",
       "      <th>interaction_label</th>\n",
       "      <th>event_weather_condition</th>\n",
       "      <th>user_temperature</th>\n",
       "      <th>user_precipitation</th>\n",
       "      <th>user_weather_condition</th>\n",
       "      <th>event_temperature</th>\n",
       "      <th>event_precipitation_sum</th>\n",
       "    </tr>\n",
       "  </thead>\n",
       "  <tbody>\n",
       "    <tr>\n",
       "      <th>0</th>\n",
       "      <td>702719295</td>\n",
       "      <td>3468617687</td>\n",
       "      <td>maybe</td>\n",
       "      <td>522.753486</td>\n",
       "      <td>1</td>\n",
       "      <td>Cloudy</td>\n",
       "      <td>5.463667</td>\n",
       "      <td>0.0</td>\n",
       "      <td>Cloudy</td>\n",
       "      <td>3.7455</td>\n",
       "      <td>0.0</td>\n",
       "    </tr>\n",
       "    <tr>\n",
       "      <th>1</th>\n",
       "      <td>702719295</td>\n",
       "      <td>487910947</td>\n",
       "      <td>maybe</td>\n",
       "      <td>506.036813</td>\n",
       "      <td>1</td>\n",
       "      <td>Cloudy</td>\n",
       "      <td>4.505249</td>\n",
       "      <td>0.1</td>\n",
       "      <td>Light Drizzle</td>\n",
       "      <td>3.7455</td>\n",
       "      <td>0.0</td>\n",
       "    </tr>\n",
       "  </tbody>\n",
       "</table>\n",
       "</div>"
      ],
      "text/plain": [
       "    event_id     user_id interaction_type  distance_to_event  \\\n",
       "0  702719295  3468617687            maybe         522.753486   \n",
       "1  702719295   487910947            maybe         506.036813   \n",
       "\n",
       "   interaction_label event_weather_condition  user_temperature  \\\n",
       "0                  1                  Cloudy          5.463667   \n",
       "1                  1                  Cloudy          4.505249   \n",
       "\n",
       "   user_precipitation user_weather_condition  event_temperature  \\\n",
       "0                 0.0                 Cloudy             3.7455   \n",
       "1                 0.1          Light Drizzle             3.7455   \n",
       "\n",
       "   event_precipitation_sum  \n",
       "0                      0.0  \n",
       "1                      0.0  "
      ]
     },
     "execution_count": 47,
     "metadata": {},
     "output_type": "execute_result"
    }
   ],
   "source": [
    "interactions_col =['event_id', 'user_id', 'interaction_type','distance_to_event','interaction_label',\n",
    "                   'event_weather_condition','user_temperature', 'user_precipitation',\n",
    "                   'user_weather_condition','event_temperature', 'event_precipitation_sum'\n",
    "                ]\n",
    "main_interactions_df = merged_df[interactions_col]\n",
    "main_interactions_df.head(2)"
   ]
  },
  {
   "cell_type": "code",
   "execution_count": 48,
   "metadata": {},
   "outputs": [
    {
     "data": {
      "text/plain": [
       "28249"
      ]
     },
     "execution_count": 48,
     "metadata": {},
     "output_type": "execute_result"
    }
   ],
   "source": [
    "len(main_interactions_df)"
   ]
  },
  {
   "cell_type": "code",
   "execution_count": 49,
   "metadata": {},
   "outputs": [
    {
     "name": "stdout",
     "output_type": "stream",
     "text": [
      "['Cloudy' 'Light Rain' 'Snow' 'Rain' 'Heavy Drizzle' 'Drizzle'\n",
      " 'Light Snow' 'Light Drizzle' 'Partly Cloudy' 'Mainly Sunny' 'Heavy Rain'\n",
      " 'Sunny' 'Heavy Snow']\n"
     ]
    },
    {
     "data": {
      "text/plain": [
       "array(['Cloudy', 'Light Drizzle', 'Partly Cloudy', 'Light Rain',\n",
       "       'Drizzle', 'Rain', 'Snow', 'Light Snow', 'Heavy Drizzle',\n",
       "       'Heavy Rain', 'Sunny', 'Mainly Sunny', 'Heavy Snow'], dtype=object)"
      ]
     },
     "execution_count": 49,
     "metadata": {},
     "output_type": "execute_result"
    }
   ],
   "source": [
    "print(merged_df[\"event_weather_condition\"].unique())\n",
    "merged_df[\"user_weather_condition\"].unique()\n"
   ]
  },
  {
   "cell_type": "code",
   "execution_count": 39,
   "metadata": {},
   "outputs": [
    {
     "data": {
      "text/html": [
       "<div>\n",
       "<style scoped>\n",
       "    .dataframe tbody tr th:only-of-type {\n",
       "        vertical-align: middle;\n",
       "    }\n",
       "\n",
       "    .dataframe tbody tr th {\n",
       "        vertical-align: top;\n",
       "    }\n",
       "\n",
       "    .dataframe thead th {\n",
       "        text-align: right;\n",
       "    }\n",
       "</style>\n",
       "<table border=\"1\" class=\"dataframe\">\n",
       "  <thead>\n",
       "    <tr style=\"text-align: right;\">\n",
       "      <th></th>\n",
       "      <th>event_id</th>\n",
       "      <th>user_id</th>\n",
       "      <th>interaction_type</th>\n",
       "      <th>interaction_label</th>\n",
       "      <th>gender</th>\n",
       "      <th>joinedAt</th>\n",
       "      <th>location</th>\n",
       "      <th>age</th>\n",
       "      <th>user_lat</th>\n",
       "      <th>user_lng</th>\n",
       "      <th>...</th>\n",
       "      <th>user_precipitation</th>\n",
       "      <th>indoor_outdoor_preference</th>\n",
       "      <th>user_interests</th>\n",
       "      <th>distance_to_event</th>\n",
       "      <th>user_weather_condition</th>\n",
       "      <th>event_temperature</th>\n",
       "      <th>event_precipitation_sum</th>\n",
       "      <th>user_weather_group</th>\n",
       "      <th>event_weather_group</th>\n",
       "      <th>weather_match</th>\n",
       "    </tr>\n",
       "  </thead>\n",
       "  <tbody>\n",
       "    <tr>\n",
       "      <th>0</th>\n",
       "      <td>702719295</td>\n",
       "      <td>3468617687</td>\n",
       "      <td>maybe</td>\n",
       "      <td>1</td>\n",
       "      <td>female</td>\n",
       "      <td>2012-09-25T17:48:37.804Z</td>\n",
       "      <td>Saint Catharines  Ontario</td>\n",
       "      <td>20</td>\n",
       "      <td>43.158</td>\n",
       "      <td>-79.244</td>\n",
       "      <td>...</td>\n",
       "      <td>0.0</td>\n",
       "      <td>indoor</td>\n",
       "      <td>Drink, Technology, Business, Seasonal, Food, E...</td>\n",
       "      <td>522.753486</td>\n",
       "      <td>Cloudy</td>\n",
       "      <td>3.745500</td>\n",
       "      <td>0.0</td>\n",
       "      <td>Cloudy</td>\n",
       "      <td>Cloudy</td>\n",
       "      <td>1</td>\n",
       "    </tr>\n",
       "    <tr>\n",
       "      <th>1</th>\n",
       "      <td>702719295</td>\n",
       "      <td>487910947</td>\n",
       "      <td>maybe</td>\n",
       "      <td>1</td>\n",
       "      <td>male</td>\n",
       "      <td>2012-09-25T16:28:31.617Z</td>\n",
       "      <td>Toronto  Ontario</td>\n",
       "      <td>22</td>\n",
       "      <td>43.653</td>\n",
       "      <td>-79.384</td>\n",
       "      <td>...</td>\n",
       "      <td>0.1</td>\n",
       "      <td>any</td>\n",
       "      <td>Drink, Technology, Music, Education, Learning,...</td>\n",
       "      <td>506.036813</td>\n",
       "      <td>Light Drizzle</td>\n",
       "      <td>3.745500</td>\n",
       "      <td>0.0</td>\n",
       "      <td>Rain</td>\n",
       "      <td>Cloudy</td>\n",
       "      <td>0</td>\n",
       "    </tr>\n",
       "    <tr>\n",
       "      <th>2</th>\n",
       "      <td>702719295</td>\n",
       "      <td>2769572227</td>\n",
       "      <td>invited &amp; yes</td>\n",
       "      <td>1</td>\n",
       "      <td>female</td>\n",
       "      <td>2012-09-25T15:40:36.962Z</td>\n",
       "      <td>Toronto  Ontario</td>\n",
       "      <td>24</td>\n",
       "      <td>43.653</td>\n",
       "      <td>-79.384</td>\n",
       "      <td>...</td>\n",
       "      <td>0.1</td>\n",
       "      <td>any</td>\n",
       "      <td>Drink, Music, Education, Fitness, Experiences,...</td>\n",
       "      <td>506.036813</td>\n",
       "      <td>Light Drizzle</td>\n",
       "      <td>3.745500</td>\n",
       "      <td>0.0</td>\n",
       "      <td>Rain</td>\n",
       "      <td>Cloudy</td>\n",
       "      <td>0</td>\n",
       "    </tr>\n",
       "    <tr>\n",
       "      <th>3</th>\n",
       "      <td>702719295</td>\n",
       "      <td>2974942354</td>\n",
       "      <td>invited &amp; yes</td>\n",
       "      <td>1</td>\n",
       "      <td>male</td>\n",
       "      <td>2012-10-11T18:00:17.768Z</td>\n",
       "      <td>Toronto  Ontario</td>\n",
       "      <td>22</td>\n",
       "      <td>43.653</td>\n",
       "      <td>-79.384</td>\n",
       "      <td>...</td>\n",
       "      <td>0.1</td>\n",
       "      <td>any</td>\n",
       "      <td>Drink, Technology, Music, Education, Learning,...</td>\n",
       "      <td>506.036813</td>\n",
       "      <td>Light Drizzle</td>\n",
       "      <td>3.745500</td>\n",
       "      <td>0.0</td>\n",
       "      <td>Rain</td>\n",
       "      <td>Cloudy</td>\n",
       "      <td>0</td>\n",
       "    </tr>\n",
       "    <tr>\n",
       "      <th>4</th>\n",
       "      <td>284003894</td>\n",
       "      <td>3468617687</td>\n",
       "      <td>invited &amp; yes</td>\n",
       "      <td>1</td>\n",
       "      <td>female</td>\n",
       "      <td>2012-09-25T17:48:37.804Z</td>\n",
       "      <td>Saint Catharines  Ontario</td>\n",
       "      <td>20</td>\n",
       "      <td>43.158</td>\n",
       "      <td>-79.244</td>\n",
       "      <td>...</td>\n",
       "      <td>0.0</td>\n",
       "      <td>indoor</td>\n",
       "      <td>Drink, Technology, Business, Seasonal, Food, E...</td>\n",
       "      <td>55.942166</td>\n",
       "      <td>Partly Cloudy</td>\n",
       "      <td>11.129666</td>\n",
       "      <td>0.0</td>\n",
       "      <td>Cloudy</td>\n",
       "      <td>Cloudy</td>\n",
       "      <td>1</td>\n",
       "    </tr>\n",
       "  </tbody>\n",
       "</table>\n",
       "<p>5 rows × 36 columns</p>\n",
       "</div>"
      ],
      "text/plain": [
       "    event_id     user_id interaction_type  interaction_label  gender  \\\n",
       "0  702719295  3468617687            maybe                  1  female   \n",
       "1  702719295   487910947            maybe                  1    male   \n",
       "2  702719295  2769572227    invited & yes                  1  female   \n",
       "3  702719295  2974942354    invited & yes                  1    male   \n",
       "4  284003894  3468617687    invited & yes                  1  female   \n",
       "\n",
       "                   joinedAt                   location  age  user_lat  \\\n",
       "0  2012-09-25T17:48:37.804Z  Saint Catharines  Ontario   20    43.158   \n",
       "1  2012-09-25T16:28:31.617Z           Toronto  Ontario   22    43.653   \n",
       "2  2012-09-25T15:40:36.962Z           Toronto  Ontario   24    43.653   \n",
       "3  2012-10-11T18:00:17.768Z           Toronto  Ontario   22    43.653   \n",
       "4  2012-09-25T17:48:37.804Z  Saint Catharines  Ontario   20    43.158   \n",
       "\n",
       "   user_lng  ...  user_precipitation indoor_outdoor_preference  \\\n",
       "0   -79.244  ...                 0.0                    indoor   \n",
       "1   -79.384  ...                 0.1                       any   \n",
       "2   -79.384  ...                 0.1                       any   \n",
       "3   -79.384  ...                 0.1                       any   \n",
       "4   -79.244  ...                 0.0                    indoor   \n",
       "\n",
       "                                      user_interests  distance_to_event  \\\n",
       "0  Drink, Technology, Business, Seasonal, Food, E...         522.753486   \n",
       "1  Drink, Technology, Music, Education, Learning,...         506.036813   \n",
       "2  Drink, Music, Education, Fitness, Experiences,...         506.036813   \n",
       "3  Drink, Technology, Music, Education, Learning,...         506.036813   \n",
       "4  Drink, Technology, Business, Seasonal, Food, E...          55.942166   \n",
       "\n",
       "   user_weather_condition  event_temperature  event_precipitation_sum  \\\n",
       "0                  Cloudy           3.745500                      0.0   \n",
       "1           Light Drizzle           3.745500                      0.0   \n",
       "2           Light Drizzle           3.745500                      0.0   \n",
       "3           Light Drizzle           3.745500                      0.0   \n",
       "4           Partly Cloudy          11.129666                      0.0   \n",
       "\n",
       "   user_weather_group  event_weather_group  weather_match  \n",
       "0              Cloudy               Cloudy              1  \n",
       "1                Rain               Cloudy              0  \n",
       "2                Rain               Cloudy              0  \n",
       "3                Rain               Cloudy              0  \n",
       "4              Cloudy               Cloudy              1  \n",
       "\n",
       "[5 rows x 36 columns]"
      ]
     },
     "execution_count": 39,
     "metadata": {},
     "output_type": "execute_result"
    }
   ],
   "source": [
    "weather_map = {\n",
    "    'Sunny': 'Clear',\n",
    "    'Mainly Sunny': 'Clear',\n",
    "    'Partly Cloudy': 'Cloudy',\n",
    "    'Cloudy': 'Cloudy',\n",
    "\n",
    "    'Drizzle': 'Rain',\n",
    "    'Light Drizzle': 'Rain',\n",
    "    'Heavy Drizzle': 'Rain',\n",
    "\n",
    "    'Rain': 'Rain',\n",
    "    'Light Rain': 'Rain',\n",
    "    'Heavy Rain': 'Rain',\n",
    "\n",
    "    'Snow': 'Snow',\n",
    "    'Light Snow': 'Snow',\n",
    "    'Heavy Snow': 'Snow',\n",
    "}\n",
    "\n",
    "merged_df['user_weather_group'] = merged_df['user_weather_condition'].map(weather_map)\n",
    "merged_df['event_weather_group'] = merged_df['event_weather_condition'].map(weather_map)\n",
    "\n",
    "merged_df['weather_match'] = (merged_df['user_weather_group'] == merged_df['event_weather_group']).astype(int)\n",
    "merged_df.head()\n"
   ]
  },
  {
   "cell_type": "code",
   "execution_count": 48,
   "metadata": {},
   "outputs": [],
   "source": [
    "import matplotlib.pyplot as plt"
   ]
  },
  {
   "cell_type": "code",
   "execution_count": 56,
   "metadata": {},
   "outputs": [
    {
     "name": "stdout",
     "output_type": "stream",
     "text": [
      "weather_match  interaction_type\n",
      "1              invited & yes       20363\n",
      "               yes                  2473\n",
      "0              invited & yes        2146\n",
      "1              no                   1390\n",
      "               maybe                1292\n",
      "0              yes                   243\n",
      "               no                    188\n",
      "               maybe                 134\n",
      "1              invited                10\n",
      "               invited & maybe         8\n",
      "               invited & no            2\n",
      "Name: count, dtype: int64\n"
     ]
    },
    {
     "data": {
      "text/plain": [
       "<Axes: xlabel='weather_match,interaction_type'>"
      ]
     },
     "execution_count": 56,
     "metadata": {},
     "output_type": "execute_result"
    },
    {
     "data": {
      "image/png": "[encoded data removed]",
      "text/plain": [
       "<Figure size 640x480 with 1 Axes>"
      ]
     },
     "metadata": {},
     "output_type": "display_data"
    }
   ],
   "source": [
    "attendance_by_weather_match = merged_df.groupby('weather_match')['interaction_type'].value_counts().sort_values(ascending=False)\n",
    "print(attendance_by_weather_match)\n",
    "attendance_by_weather_match.plot(kind=\"bar\")"
   ]
  },
  {
   "cell_type": "code",
   "execution_count": 8,
   "metadata": {},
   "outputs": [],
   "source": [
    "# Group and count\n",
    "attendance_summary = merged_df.groupby(['weather_match', 'event_indoor_capability', 'interaction_label']).size().reset_index(name='count')\n",
    "\n",
    "# Pivot to get attendance rate\n",
    "pivot_df = attendance_summary.pivot_table(index=['weather_match', 'event_indoor_capability'],\n",
    "                                          columns='interaction_label',\n",
    "                                          values='count',\n",
    "                                          fill_value=0).reset_index()\n",
    "\n",
    "# Calculate attendance rate\n",
    "pivot_df['attendance_rate'] = pivot_df[True] / (pivot_df[True] + pivot_df[False])\n"
   ]
  },
  {
   "cell_type": "code",
   "execution_count": 9,
   "metadata": {},
   "outputs": [
    {
     "data": {
      "image/png": "[encoded data removed]",
      "text/plain": [
       "<Figure size 600x400 with 2 Axes>"
      ]
     },
     "metadata": {},
     "output_type": "display_data"
    }
   ],
   "source": [
    "import seaborn as sns\n",
    "import matplotlib.pyplot as plt\n",
    "\n",
    "# Prepare data for heatmap\n",
    "heatmap_data = pivot_df.pivot(index='weather_match', columns='event_indoor_capability', values='attendance_rate')\n",
    "\n",
    "# Plot heatmap\n",
    "plt.figure(figsize=(6, 4))\n",
    "sns.heatmap(heatmap_data, annot=True, cmap=\"YlGnBu\", fmt=\".2f\", cbar_kws={'label': 'Attendance Rate'})\n",
    "plt.title(\"Attendance Rate by Weather Match × Indoor/Outdoor\")\n",
    "plt.ylabel(\"Weather Match\")\n",
    "plt.xlabel(\"Indoor Event\")\n",
    "plt.show()\n"
   ]
  },
  {
   "cell_type": "code",
   "execution_count": 11,
   "metadata": {},
   "outputs": [
    {
     "name": "stderr",
     "output_type": "stream",
     "text": [
      "/tmp/ipykernel_797033/1480081573.py:14: UserWarning: No artists with labels found to put in legend.  Note that artists whose label start with an underscore are ignored when legend() is called with no argument.\n",
      "  plt.legend(title=\"Weather Match\")\n"
     ]
    },
    {
     "data": {
      "image/png": "[encoded data removed]",
      "text/plain": [
       "<Figure size 800x500 with 1 Axes>"
      ]
     },
     "metadata": {},
     "output_type": "display_data"
    }
   ],
   "source": [
    "import seaborn as sns\n",
    "\n",
    "# Create readable labels\n",
    "pivot_df['weather_match_str'] = pivot_df['weather_match'].map({True: 'Match', False: 'Mismatch'})\n",
    "pivot_df['category'] = pivot_df['event_indoor_capability'].map({True: 'Indoor', False: 'Outdoor'})\n",
    "\n",
    "# Plot grouped bar chart\n",
    "plt.figure(figsize=(8, 5))\n",
    "sns.barplot(data=pivot_df, x='event_type', y='attendance_rate', hue='weather_match_str')\n",
    "plt.title(\"Attendance Rate by Weather Match and Event Type\")\n",
    "plt.ylabel(\"Attendance Rate\")\n",
    "plt.xlabel(\"Event Type\")\n",
    "plt.ylim(0, 1)\n",
    "plt.legend(title=\"Weather Match\")\n",
    "plt.show()\n"
   ]
  },
  {
   "cell_type": "code",
   "execution_count": 66,
   "metadata": {},
   "outputs": [],
   "source": [
    "#merged_df.drop(columns=([\"Unnamed: 0\", \"attended\"]),inplace=True)\n",
    "main_interactions_df = pd.concat([main_interactions_df, merged_df[[\"weather_match\"]]])"
   ]
  },
  {
   "cell_type": "markdown",
   "metadata": {},
   "source": [
    "### Clean event title and user interests feartures"
   ]
  },
  {
   "cell_type": "code",
   "execution_count": 59,
   "metadata": {},
   "outputs": [],
   "source": [
    "import re\n",
    "def clean_text(text):\n",
    "    if not isinstance(text, str):\n",
    "        return \"unknown\"\n",
    "    text = text.lower().strip()\n",
    "    text = text.replace(',', ' ')\n",
    "    text = re.sub(r\"[^\\w\\s]\", \"\", text)  # remove punctuation\n",
    "    text = re.sub(r\"\\s+\", \" \", text)     # collapse multiple spaces\n",
    "    return text if text else \"unknown\"\n",
    "\n",
    "def clean_text_columns(df):\n",
    "    if 'title' in df.columns:\n",
    "        df[\"title\"] = df[\"title\"].apply(lambda x: clean_text(x) if isinstance(x, str) and x.strip() else \"unknown\")\n",
    "    if 'user_interests' in df.columns:\n",
    "        df[\"user_interests\"] = df[\"user_interests\"].apply(\n",
    "            lambda x: clean_text(x) if isinstance(x, str) and x.strip() else \"unknown\")\n",
    "        \n",
    "    return df"
   ]
  },
  {
   "cell_type": "code",
   "execution_count": 51,
   "metadata": {},
   "outputs": [],
   "source": [
    "# main_events_df = clean_text_columns(main_events_df)\n",
    "# main_users_df = clean_text_columns(main_users_df)\n",
    "# main_events_df.to_csv(\"/home/nkama/masters_thesis_project/thesis/partially_synthetic/data/main_data/events.csv\")\n",
    "# main_users_df.to_csv(\"/home/nkama/masters_thesis_project/thesis/partially_synthetic/data/main_data/users.csv\")\n",
    "main_interactions_df.to_csv(\"/home/nkama/masters_thesis_project/thesis/partially_synthetic/data/main_data/interactions.csv\")\n",
    "# merged_df.to_csv(\"/home/nkama/masters_thesis_project/thesis/partially_synthetic/data/main_data/merged_data.csv\")"
   ]
  },
  {
   "cell_type": "code",
   "execution_count": 52,
   "metadata": {},
   "outputs": [],
   "source": [
    "import pandas as pd\n",
    "main_events_df = pd.read_csv(\"/home/nkama/masters_thesis_project/thesis/partially_synthetic/data/main_data/events.csv\")\n",
    "main_users_df = pd.read_csv(\"/home/nkama/masters_thesis_project/thesis/partially_synthetic/data/main_data/users.csv\")\n",
    "main_interactions_df = pd.read_csv(\"/home/nkama/masters_thesis_project/thesis/partially_synthetic/data/main_data/interactions.csv\")\n",
    "merged_df = pd.read_csv(\"/home/nkama/masters_thesis_project/thesis/partially_synthetic/data/main_data/merged_data.csv\")\n"
   ]
  },
  {
   "cell_type": "code",
   "execution_count": 11,
   "metadata": {},
   "outputs": [
    {
     "data": {
      "text/plain": [
       "Index(['Unnamed: 0', 'event_id', 'user_id', 'interaction_type',\n",
       "       'distance_to_event', 'interaction_label', 'weather_match'],\n",
       "      dtype='object')"
      ]
     },
     "execution_count": 11,
     "metadata": {},
     "output_type": "execute_result"
    }
   ],
   "source": [
    "main_interactions_df.columns"
   ]
  },
  {
   "cell_type": "code",
   "execution_count": 55,
   "metadata": {},
   "outputs": [],
   "source": [
    "main_events_df[\"attendance_rate\"] = main_events_df[\"yes_count\"] / main_events_df[\"total_users\"]"
   ]
  },
  {
   "cell_type": "code",
   "execution_count": 53,
   "metadata": {},
   "outputs": [
    {
     "name": "stdout",
     "output_type": "stream",
     "text": [
      "events_data: Index(['Unnamed: 0', 'event_id', 'start_time', 'city', 'lat', 'lng',\n",
      "       'yes_count', 'maybe_count', 'invited_count', 'no_count', 'total_users',\n",
      "       'weather_description', 'category', 'title', 'event_type',\n",
      "       'event_indoor_capability', 'temperature_2m_mean', 'precipitation_sum'],\n",
      "      dtype='object')\n",
      "users_data: Index(['Unnamed: 0', 'user_id', 'gender', 'joinedAt', 'location', 'age', 'lat',\n",
      "       'lng', 'indoor_outdoor_preference', 'user_interests'],\n",
      "      dtype='object')\n",
      "interactions_data: Index(['Unnamed: 0', 'event_id', 'user_id', 'interaction_type',\n",
      "       'distance_to_event', 'interaction_label', 'event_weather_condition',\n",
      "       'user_temperature', 'user_precipitation', 'user_weather_condition',\n",
      "       'event_temperature', 'event_precipitation_sum'],\n",
      "      dtype='object')\n"
     ]
    }
   ],
   "source": [
    "print(f'events_data: {main_events_df.columns}')\n",
    "print(f'users_data: {main_users_df.columns}')\n",
    "print(f'interactions_data: {main_interactions_df.columns}')\n",
    "\n"
   ]
  },
  {
   "cell_type": "code",
   "execution_count": 56,
   "metadata": {},
   "outputs": [],
   "source": [
    "users_new_col = ['user_id', 'lat', 'lng', 'location',\n",
    "       'indoor_outdoor_preference', 'age', 'user_interests', 'joinedAt']\n",
    "main_users_df = main_users_df[users_new_col]\n",
    "\n",
    "main_events_df = main_events_df[['event_id', 'title', 'category', 'lat', 'lng',\n",
    "       'city', 'start_time', 'weather_description',\n",
    "       'temperature_2m_mean', 'attendance_rate', 'event_indoor_capability','precipitation_sum']]\n",
    "main_interactions_df = main_interactions_df[['user_id', 'event_id', 'interaction_type',\n",
    "       'distance_to_event','interaction_label','event_weather_condition','event_temperature', \n",
    "       'event_precipitation_sum', 'user_weather_condition','user_temperature', \n",
    "       'user_precipitation']]"
   ]
  },
  {
   "cell_type": "code",
   "execution_count": 57,
   "metadata": {},
   "outputs": [],
   "source": [
    "main_interactions_df.to_csv(\"test_interactions_data.csv\")\n",
    "main_events_df.to_csv(\"test_events_data.csv\")\n",
    "main_users_df.to_csv(\"test_users_data.csv\")"
   ]
  },
  {
   "cell_type": "code",
   "execution_count": null,
   "metadata": {},
   "outputs": [],
   "source": [
    "main_interactions_df[\"user_id\"].isnull().sum()"
   ]
  },
  {
   "cell_type": "markdown",
   "metadata": {},
   "source": [
    "Index(['user_id', 'user_lat', 'user_lon', 'user_city',\n",
    "       'user_weather_preference', 'age', 'user_interests', 'signup_date',\n",
    "       'social_connectedness'],\n",
    "      dtype='object')\n",
    "Index(['event_id', 'title', 'event_type', 'event_lat', 'event_lon',\n",
    "       'event_city', 'start_time', 'duration', 'weather_condition',\n",
    "       'temperature', 'attendance_rate', 'event_indoor_capability'],\n",
    "      dtype='object')\n",
    "Index(['interaction_id', 'user_id', 'event_id', 'interaction_type',\n",
    "       'interaction_time', 'interaction_distance_to_event'],\n",
    "      dtype='object')"
   ]
  }
 ],
 "metadata": {
  "kernelspec": {
   "display_name": "thesisenv",
   "language": "python",
   "name": "python3"
  },
  "language_info": {
   "codemirror_mode": {
    "name": "ipython",
    "version": 3
   },
   "file_extension": ".py",
   "mimetype": "text/x-python",
   "name": "python",
   "nbconvert_exporter": "python",
   "pygments_lexer": "ipython3",
   "version": "3.10.6"
  }
 },
 "nbformat": 4,
 "nbformat_minor": 2
}
