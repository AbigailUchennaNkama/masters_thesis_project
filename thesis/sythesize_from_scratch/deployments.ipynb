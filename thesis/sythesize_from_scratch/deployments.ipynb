{
 "cells": [
  {
   "cell_type": "markdown",
   "metadata": {
    "vscode": {
     "languageId": "plaintext"
    }
   },
   "source": [
    "## <span style=\"color:#ff5f27\">📝 Imports </span>\n"
   ]
  },
  {
   "cell_type": "code",
   "execution_count": 82,
   "metadata": {},
   "outputs": [],
   "source": [
    "import os\n",
    "import hopsworks"
   ]
  },
  {
   "cell_type": "markdown",
   "metadata": {},
   "source": [
    "## <span style=\"color:#ff5f27\">🔮 Connect to Hopsworks </span>"
   ]
  },
  {
   "cell_type": "code",
   "execution_count": 83,
   "metadata": {},
   "outputs": [
    {
     "name": "stdout",
     "output_type": "stream",
     "text": [
      "2025-04-17 19:20:56,387 INFO: Initializing external client\n",
      "2025-04-17 19:20:56,391 INFO: Base URL: https://c.app.hopsworks.ai:443\n",
      "2025-04-17 19:20:56,992 WARNING: UserWarning: The installed hopsworks client version 4.1.8 may not be compatible with the connected Hopsworks backend version 4.2.0. \n",
      "To ensure compatibility please install the latest bug fix release matching the minor version of your backend (4.2) by running 'pip install hopsworks==4.2.*'\n",
      "\n"
     ]
    },
    {
     "name": "stderr",
     "output_type": "stream",
     "text": [
      "\n",
      "\n"
     ]
    },
    {
     "name": "stdout",
     "output_type": "stream",
     "text": [
      "2025-04-17 19:20:57,962 INFO: Python Engine initialized.\n",
      "\n",
      "Logged in to project, explore it here https://c.app.hopsworks.ai:443/p/1220788\n"
     ]
    }
   ],
   "source": [
    "import hopsworks\n",
    "\n",
    "project = hopsworks.login()\n",
    "\n",
    "# Connect to Hopsworks Model Registry\n",
    "mr = project.get_model_registry()\n",
    "\n",
    "dataset_api = project.get_dataset_api()"
   ]
  },
  {
   "cell_type": "markdown",
   "metadata": {},
   "source": [
    "## <span style=\"color:#ff5f27\">🚀 Ranking Model Deployment </span>\n"
   ]
  },
  {
   "cell_type": "markdown",
   "metadata": {},
   "source": [
    "You start by deploying your ranking model. Since it is a CatBoost model you need to implement a `Predict` class that tells Hopsworks how to load the model and how to use it.\n"
   ]
  },
  {
   "cell_type": "code",
   "execution_count": 84,
   "metadata": {},
   "outputs": [
    {
     "data": {
      "text/plain": [
       "Model(name: 'weather_ranking_model', version: 1)"
      ]
     },
     "execution_count": 84,
     "metadata": {},
     "output_type": "execute_result"
    }
   ],
   "source": [
    "weather_ranking_model = mr.get_best_model(\n",
    "    name=\"weather_ranking_model\", \n",
    "    metric=\"fscore\", \n",
    "    direction=\"max\",\n",
    ")\n",
    "weather_ranking_model\n"
   ]
  },
  {
   "cell_type": "code",
   "execution_count": 85,
   "metadata": {},
   "outputs": [
    {
     "data": {
      "text/plain": [
       "Model(name: 'no_weather_ranking_model', version: 1)"
      ]
     },
     "execution_count": 85,
     "metadata": {},
     "output_type": "execute_result"
    },
    {
     "ename": "",
     "evalue": "",
     "output_type": "error",
     "traceback": [
      "\u001b[1;31mThe Kernel crashed while executing code in the current cell or a previous cell. \n",
      "\u001b[1;31mPlease review the code in the cell(s) to identify a possible cause of the failure. \n",
      "\u001b[1;31mClick <a href='https://aka.ms/vscodeJupyterKernelCrash'>here</a> for more info. \n",
      "\u001b[1;31mView Jupyter <a href='command:jupyter.viewOutput'>log</a> for further details."
     ]
    }
   ],
   "source": [
    "no_weather_ranking_model = mr.get_best_model(\n",
    "    name=\"no_weather_ranking_model\", \n",
    "    metric=\"fscore\", \n",
    "    direction=\"max\",\n",
    ")\n",
    "no_weather_ranking_model"
   ]
  },
  {
   "cell_type": "code",
   "execution_count": null,
   "metadata": {},
   "outputs": [],
   "source": [
    "%%writefile ranking_transformer.py\n",
    "\n",
    "import os\n",
    "import pandas as pd\n",
    "\n",
    "import hopsworks\n",
    "from opensearchpy import OpenSearch\n",
    "\n",
    "import logging\n",
    "\n",
    "\n",
    "class Transformer(object):\n",
    "    \n",
    "    def __init__(self):\n",
    "        # Connect to Hopsworks\n",
    "        project = hopsworks.connection().get_project()\n",
    "        self.fs = project.get_feature_store()\n",
    "        \n",
    "        # Retrieve the 'videos' feature view\n",
    "        self.videos_fv = self.fs.get_feature_view(\n",
    "            name=\"videos\", \n",
    "            version=1,\n",
    "        )\n",
    "        \n",
    "        # Get list of feature names for videos\n",
    "        self.video_features = [feat.name for feat in self.videos_fv.schema]\n",
    "        \n",
    "        # Retrieve the 'users' feature view\n",
    "        self.users_fv = self.fs.get_feature_view(\n",
    "            name=\"users\", \n",
    "            version=1,\n",
    "        )\n",
    "\n",
    "        # Retrieve the 'candidate_embeddings' feature view\n",
    "        self.candidate_index = self.fs.get_feature_view(\n",
    "            name=\"candidate_embeddings\", \n",
    "            version=1,\n",
    "        )\n",
    "\n",
    "        # Retrieve ranking model\n",
    "        mr = project.get_model_registry()\n",
    "        model = mr.get_model(\n",
    "            name=\"ranking_model\", \n",
    "            version=1,\n",
    "        )\n",
    "        \n",
    "        # Extract input schema from the model\n",
    "        input_schema = model.model_schema[\"input_schema\"][\"columnar_schema\"]\n",
    "        \n",
    "        # Get the names of features expected by the ranking model\n",
    "        self.ranking_model_feature_names = [feat[\"name\"] for feat in input_schema]\n",
    "            \n",
    "    def preprocess(self, inputs):\n",
    "        # Extract the input instance\n",
    "        inputs = inputs[\"instances\"][0]\n",
    "\n",
    "        # Extract customer_id from inputs\n",
    "        user_id = inputs[\"user_id\"]\n",
    "        \n",
    "        # Search for candidate items\n",
    "        neighbors = self.candidate_index.find_neighbors(\n",
    "            inputs[\"query_emb\"], \n",
    "            k=100,\n",
    "        )\n",
    "        neighbors = [neighbor[0] for neighbor in neighbors]\n",
    "        \n",
    "        # Get IDs of videos already seen  by the customer - should filter to only today's videos\n",
    "        already_seen_videos_ids = self.fs.sql(\n",
    "            f\"SELECT video_id from interactions_1 WHERE user_id = '{user_id}'\", online=True\n",
    "        ).values.reshape(-1).tolist()\n",
    "        \n",
    "        # Filter candidate videos to exclude those already seen by the user\n",
    "        video_id_list = [\n",
    "            video_id\n",
    "            for video_id \n",
    "            in neighbors \n",
    "            if video_id\n",
    "            not in already_seen_videos_ids\n",
    "        ]\n",
    "        video_id_df = pd.DataFrame({\"video_id\" : video_id_list})\n",
    "        \n",
    "        # Retrieve video data for candidate videos\n",
    "        videos_data = [\n",
    "            self.videos_fv.get_feature_vector({\"video_id\": video_id}) \n",
    "            for video_id \n",
    "            in video_id_list\n",
    "        ]\n",
    "\n",
    "        videos_df = pd.DataFrame(\n",
    "            data=videos_data, \n",
    "            columns=self.video_features,\n",
    "        )\n",
    "        \n",
    "        # Join candidate items with their features\n",
    "        ranking_model_inputs = video_id_df.merge(\n",
    "            videos_df, \n",
    "            on=\"video_id\", \n",
    "            how=\"inner\",\n",
    "        )        \n",
    "        \n",
    "        # Add customer features\n",
    "        user_features = self.users_fv.get_feature_vector(\n",
    "            {\"user_id\": user_id}, \n",
    "            return_type=\"pandas\",\n",
    "        )\n",
    "        \n",
    "        ranking_model_inputs[\"user_id\"] = user_features['age'].values[0]   \n",
    "        ranking_model_inputs[\"gender\"] = user_features[\"gender\"].values[0] \n",
    "        ranking_model_inputs[\"age\"] = user_features[\"age\"].values[0] \n",
    "        ranking_model_inputs[\"country\"] = user_features[\"country\"].values[0] \n",
    "        \n",
    "        # Select only the features required by the ranking model\n",
    "        ranking_model_inputs = ranking_model_inputs[self.ranking_model_feature_names]\n",
    "                \n",
    "        return { \n",
    "            \"inputs\" : [{\"ranking_features\": ranking_model_inputs.values.tolist(), \"video_ids\": video_id_list}]\n",
    "        }\n",
    "\n",
    "    def postprocess(self, outputs):\n",
    "        # Extract predictions from the outputs\n",
    "        preds = outputs[\"predictions\"]\n",
    "        \n",
    "        # Merge prediction scores and corresponding article IDs into a list of tuples\n",
    "        ranking = list(zip(preds[\"scores\"], preds[\"video_ids\"]))\n",
    "        \n",
    "        # Sort the ranking list by score in descending order\n",
    "        ranking.sort(reverse=True)\n",
    "        \n",
    "        # Return the sorted ranking list\n",
    "        return { \n",
    "            \"ranking\": ranking,\n",
    "        }"
   ]
  }
 ],
 "metadata": {
  "kernelspec": {
   "display_name": "thesisenv",
   "language": "python",
   "name": "python3"
  },
  "language_info": {
   "codemirror_mode": {
    "name": "ipython",
    "version": 3
   },
   "file_extension": ".py",
   "mimetype": "text/x-python",
   "name": "python",
   "nbconvert_exporter": "python",
   "pygments_lexer": "ipython3",
   "version": "3.10.6"
  }
 },
 "nbformat": 4,
 "nbformat_minor": 2
}
