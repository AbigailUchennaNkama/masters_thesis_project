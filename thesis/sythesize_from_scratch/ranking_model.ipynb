{
 "cells": [
  {
   "cell_type": "code",
   "execution_count": 14,
   "metadata": {},
   "outputs": [],
   "source": [
    "import pandas as pd\n",
    "#from catboost import CatBoostClassifier, Pool\n",
    "from sklearn.metrics import classification_report, precision_recall_fscore_support\n",
    "import joblib\n",
    "import hopsworks\n"
   ]
  },
  {
   "cell_type": "code",
   "execution_count": 15,
   "metadata": {},
   "outputs": [
    {
     "name": "stdout",
     "output_type": "stream",
     "text": [
      "2025-04-20 14:17:35,997 INFO: Closing external client and cleaning up certificates.\n",
      "Connection closed.\n",
      "2025-04-20 14:17:36,237 INFO: Initializing external client\n",
      "2025-04-20 14:17:36,238 INFO: Base URL: https://c.app.hopsworks.ai:443\n",
      "2025-04-20 14:17:37,061 WARNING: UserWarning: The installed hopsworks client version 4.1.8 may not be compatible with the connected Hopsworks backend version 4.2.0. \n",
      "To ensure compatibility please install the latest bug fix release matching the minor version of your backend (4.2) by running 'pip install hopsworks==4.2.*'\n",
      "\n"
     ]
    },
    {
     "name": "stderr",
     "output_type": "stream",
     "text": [
      "\n",
      "\n"
     ]
    },
    {
     "name": "stdout",
     "output_type": "stream",
     "text": [
      "2025-04-20 14:17:37,865 INFO: Python Engine initialized.\n",
      "\n",
      "Logged in to project, explore it here https://c.app.hopsworks.ai:443/p/1220788\n"
     ]
    }
   ],
   "source": [
    "\n",
    "project = hopsworks.login()\n",
    "\n",
    "fs = project.get_feature_store()"
   ]
  },
  {
   "cell_type": "code",
   "execution_count": 16,
   "metadata": {},
   "outputs": [],
   "source": [
    "users_fg = fs.get_feature_group(\n",
    "    name=\"users\",\n",
    "    version=1\n",
    ")\n",
    "\n",
    "events_fg = fs.get_feature_group(\n",
    "    name=\"events\",\n",
    "    version=1\n",
    ")\n",
    "\n",
    "weather_rank_fg = fs.get_feature_group(\n",
    "    name=\"weather_ranking\",\n",
    "    version=1\n",
    ")\n",
    "\n",
    "no_weather_rank_fg = fs.get_feature_group(\n",
    "    name=\"no_weather_ranking\",\n",
    "    version=1\n",
    ")"
   ]
  },
  {
   "cell_type": "markdown",
   "metadata": {},
   "source": [
    "## <span style=\"color:#ff5f27\">⚙️ Feature View Creation </span>"
   ]
  },
  {
   "cell_type": "code",
   "execution_count": 17,
   "metadata": {},
   "outputs": [
    {
     "data": {
      "text/plain": [
       "<hsfs.feature_view.FeatureView at 0x7f36f8550df0>"
      ]
     },
     "execution_count": 17,
     "metadata": {},
     "output_type": "execute_result"
    }
   ],
   "source": [
    "# Select features\n",
    "selected_features_customers = users_fg.select_all()\n",
    "\n",
    "fs.get_or_create_feature_view( \n",
    "    name='users',\n",
    "    query=selected_features_customers,\n",
    "    version=1,\n",
    ")"
   ]
  },
  {
   "cell_type": "code",
   "execution_count": 18,
   "metadata": {},
   "outputs": [
    {
     "data": {
      "text/plain": [
       "<hsfs.feature_view.FeatureView at 0x7f36f8434a90>"
      ]
     },
     "execution_count": 18,
     "metadata": {},
     "output_type": "execute_result"
    }
   ],
   "source": [
    "# Select features\n",
    "selected_features_articles = events_fg.select_all()\n",
    "\n",
    "fs.get_or_create_feature_view(\n",
    "    name='events',\n",
    "    query=selected_features_articles,\n",
    "    version=1,\n",
    ")"
   ]
  },
  {
   "cell_type": "code",
   "execution_count": 19,
   "metadata": {},
   "outputs": [],
   "source": [
    "# Select features\n",
    "features_weather_ranking = weather_rank_fg.select_all()\n",
    "\n",
    "feature_view_ranking_weather = fs.get_or_create_feature_view(\n",
    "    name='weather_ranking',\n",
    "    query=features_weather_ranking,\n",
    "    labels=[\"label\"],\n",
    "    version=1,\n",
    ")"
   ]
  },
  {
   "cell_type": "code",
   "execution_count": 20,
   "metadata": {},
   "outputs": [],
   "source": [
    "# Select features\n",
    "features_no_weather_ranking = no_weather_rank_fg.select_all()\n",
    "\n",
    "feature_view_ranking_no_weather = fs.get_or_create_feature_view(\n",
    "    name='no_weather_ranking',\n",
    "    query=features_no_weather_ranking,\n",
    "    labels=[\"label\"],\n",
    "    version=1,\n",
    ")"
   ]
  },
  {
   "cell_type": "markdown",
   "metadata": {},
   "source": [
    "---"
   ]
  },
  {
   "cell_type": "markdown",
   "metadata": {},
   "source": [
    "---"
   ]
  },
  {
   "cell_type": "markdown",
   "metadata": {},
   "source": [
    "---"
   ]
  },
  {
   "cell_type": "markdown",
   "metadata": {},
   "source": [
    "---"
   ]
  },
  {
   "cell_type": "code",
   "execution_count": 21,
   "metadata": {},
   "outputs": [],
   "source": [
    "# Get feature views\n",
    "feature_view_ranking_weather = fs.get_feature_view(name='weather_ranking', version=1)\n"
   ]
  },
  {
   "cell_type": "code",
   "execution_count": 22,
   "metadata": {},
   "outputs": [],
   "source": [
    "\n",
    "feature_view_ranking_no_weather = fs.get_feature_view(name='no_weather_ranking', version=1)"
   ]
  },
  {
   "cell_type": "code",
   "execution_count": 23,
   "metadata": {},
   "outputs": [
    {
     "name": "stdout",
     "output_type": "stream",
     "text": [
      "Finished: Reading data from Hopsworks, using Hopsworks Feature Query Service (7.55s) \n",
      "2025-04-20 14:18:28,197 WARNING: VersionWarning: Incremented version to `14`.\n",
      "\n"
     ]
    }
   ],
   "source": [
    "\n",
    "# Get training and validation data directly from feature views\n",
    "weather_X_train, weather_X_val, weather_y_train, weather_y_val = \\\n",
    "    feature_view_ranking_weather.train_test_split(\n",
    "    test_size=0.1,\n",
    "    description='Weather ranking training dataset',\n",
    ")\n"
   ]
  },
  {
   "cell_type": "code",
   "execution_count": 38,
   "metadata": {},
   "outputs": [
    {
     "data": {
      "text/html": [
       "<div>\n",
       "<style scoped>\n",
       "    .dataframe tbody tr th:only-of-type {\n",
       "        vertical-align: middle;\n",
       "    }\n",
       "\n",
       "    .dataframe tbody tr th {\n",
       "        vertical-align: top;\n",
       "    }\n",
       "\n",
       "    .dataframe thead th {\n",
       "        text-align: right;\n",
       "    }\n",
       "</style>\n",
       "<table border=\"1\" class=\"dataframe\">\n",
       "  <thead>\n",
       "    <tr style=\"text-align: right;\">\n",
       "      <th></th>\n",
       "      <th>user_id</th>\n",
       "      <th>event_id</th>\n",
       "      <th>interaction_distance_to_event</th>\n",
       "      <th>title</th>\n",
       "      <th>event_type</th>\n",
       "      <th>event_lat</th>\n",
       "      <th>event_lon</th>\n",
       "      <th>event_city</th>\n",
       "      <th>duration</th>\n",
       "      <th>weather_condition</th>\n",
       "      <th>temperature</th>\n",
       "      <th>attendance_rate</th>\n",
       "      <th>event_indoor_capability</th>\n",
       "      <th>user_lat</th>\n",
       "      <th>user_lon</th>\n",
       "      <th>user_city</th>\n",
       "      <th>user_weather_preference</th>\n",
       "      <th>age</th>\n",
       "      <th>user_interests</th>\n",
       "    </tr>\n",
       "  </thead>\n",
       "  <tbody>\n",
       "    <tr>\n",
       "      <th>0</th>\n",
       "      <td>CD639A</td>\n",
       "      <td>PS466T</td>\n",
       "      <td>14.000000</td>\n",
       "      <td>exclusive analyzing secured line business netw...</td>\n",
       "      <td>Business &amp; Networking</td>\n",
       "      <td>40.687006</td>\n",
       "      <td>-73.993215</td>\n",
       "      <td>New York</td>\n",
       "      <td>480</td>\n",
       "      <td>Cloudy</td>\n",
       "      <td>16.6</td>\n",
       "      <td>75.228082</td>\n",
       "      <td>True</td>\n",
       "      <td>40.807395</td>\n",
       "      <td>-74.036095</td>\n",
       "      <td>New York</td>\n",
       "      <td>any</td>\n",
       "      <td>41</td>\n",
       "      <td>tech</td>\n",
       "    </tr>\n",
       "    <tr>\n",
       "      <th>1</th>\n",
       "      <td>JI221S</td>\n",
       "      <td>HH055P</td>\n",
       "      <td>16921.000000</td>\n",
       "      <td>synchronized solutionoriented migration commun...</td>\n",
       "      <td>Community &amp; Causes</td>\n",
       "      <td>50.772173</td>\n",
       "      <td>1.711052</td>\n",
       "      <td>Paris</td>\n",
       "      <td>240</td>\n",
       "      <td>Cloudy</td>\n",
       "      <td>16.9</td>\n",
       "      <td>79.345494</td>\n",
       "      <td>False</td>\n",
       "      <td>-33.913905</td>\n",
       "      <td>151.265972</td>\n",
       "      <td>Sydney</td>\n",
       "      <td>outdoor</td>\n",
       "      <td>46</td>\n",
       "      <td>travel</td>\n",
       "    </tr>\n",
       "    <tr>\n",
       "      <th>2</th>\n",
       "      <td>NE083K</td>\n",
       "      <td>BD199S</td>\n",
       "      <td>10.584158</td>\n",
       "      <td>cloned valueadded graphical user interface hea...</td>\n",
       "      <td>Health &amp; Wellness</td>\n",
       "      <td>48.848466</td>\n",
       "      <td>2.408878</td>\n",
       "      <td>Paris</td>\n",
       "      <td>240</td>\n",
       "      <td>Clear</td>\n",
       "      <td>18.1</td>\n",
       "      <td>12.692646</td>\n",
       "      <td>False</td>\n",
       "      <td>48.779139</td>\n",
       "      <td>2.310140</td>\n",
       "      <td>Paris</td>\n",
       "      <td>outdoor</td>\n",
       "      <td>49</td>\n",
       "      <td>food</td>\n",
       "    </tr>\n",
       "    <tr>\n",
       "      <th>3</th>\n",
       "      <td>KS378O</td>\n",
       "      <td>ZG645S</td>\n",
       "      <td>449.000000</td>\n",
       "      <td>reverseengineered tertiary neuralnet entertain...</td>\n",
       "      <td>Entertainment</td>\n",
       "      <td>42.145335</td>\n",
       "      <td>-78.925101</td>\n",
       "      <td>Toronto</td>\n",
       "      <td>240</td>\n",
       "      <td>Rain</td>\n",
       "      <td>9.1</td>\n",
       "      <td>83.238042</td>\n",
       "      <td>True</td>\n",
       "      <td>40.613727</td>\n",
       "      <td>-73.960229</td>\n",
       "      <td>New York</td>\n",
       "      <td>any</td>\n",
       "      <td>32</td>\n",
       "      <td>cinema tech music sports</td>\n",
       "    </tr>\n",
       "    <tr>\n",
       "      <th>4</th>\n",
       "      <td>MB625T</td>\n",
       "      <td>LP926P</td>\n",
       "      <td>7.000000</td>\n",
       "      <td>objectbased local support technology in new york</td>\n",
       "      <td>Technology</td>\n",
       "      <td>40.783807</td>\n",
       "      <td>-73.998889</td>\n",
       "      <td>New York</td>\n",
       "      <td>240</td>\n",
       "      <td>Cloudy</td>\n",
       "      <td>16.0</td>\n",
       "      <td>81.857555</td>\n",
       "      <td>True</td>\n",
       "      <td>40.725007</td>\n",
       "      <td>-74.036360</td>\n",
       "      <td>New York</td>\n",
       "      <td>indoor</td>\n",
       "      <td>34</td>\n",
       "      <td>tech literature</td>\n",
       "    </tr>\n",
       "  </tbody>\n",
       "</table>\n",
       "</div>"
      ],
      "text/plain": [
       "  user_id event_id  interaction_distance_to_event  \\\n",
       "0  CD639A   PS466T                      14.000000   \n",
       "1  JI221S   HH055P                   16921.000000   \n",
       "2  NE083K   BD199S                      10.584158   \n",
       "3  KS378O   ZG645S                     449.000000   \n",
       "4  MB625T   LP926P                       7.000000   \n",
       "\n",
       "                                               title             event_type  \\\n",
       "0  exclusive analyzing secured line business netw...  Business & Networking   \n",
       "1  synchronized solutionoriented migration commun...     Community & Causes   \n",
       "2  cloned valueadded graphical user interface hea...      Health & Wellness   \n",
       "3  reverseengineered tertiary neuralnet entertain...          Entertainment   \n",
       "4   objectbased local support technology in new york             Technology   \n",
       "\n",
       "   event_lat  event_lon event_city  duration weather_condition  temperature  \\\n",
       "0  40.687006 -73.993215   New York       480            Cloudy         16.6   \n",
       "1  50.772173   1.711052      Paris       240            Cloudy         16.9   \n",
       "2  48.848466   2.408878      Paris       240             Clear         18.1   \n",
       "3  42.145335 -78.925101    Toronto       240              Rain          9.1   \n",
       "4  40.783807 -73.998889   New York       240            Cloudy         16.0   \n",
       "\n",
       "   attendance_rate  event_indoor_capability   user_lat    user_lon user_city  \\\n",
       "0        75.228082                     True  40.807395  -74.036095  New York   \n",
       "1        79.345494                    False -33.913905  151.265972    Sydney   \n",
       "2        12.692646                    False  48.779139    2.310140     Paris   \n",
       "3        83.238042                     True  40.613727  -73.960229  New York   \n",
       "4        81.857555                     True  40.725007  -74.036360  New York   \n",
       "\n",
       "  user_weather_preference  age            user_interests  \n",
       "0                     any   41                      tech  \n",
       "1                 outdoor   46                    travel  \n",
       "2                 outdoor   49                      food  \n",
       "3                     any   32  cinema tech music sports  \n",
       "4                  indoor   34           tech literature  "
      ]
     },
     "execution_count": 38,
     "metadata": {},
     "output_type": "execute_result"
    }
   ],
   "source": [
    "weather_X_train.head()"
   ]
  },
  {
   "cell_type": "code",
   "execution_count": 24,
   "metadata": {},
   "outputs": [
    {
     "name": "stdout",
     "output_type": "stream",
     "text": [
      "Finished: Reading data from Hopsworks, using Hopsworks Feature Query Service (7.74s) \n",
      "2025-04-20 14:18:43,889 WARNING: VersionWarning: Incremented version to `11`.\n",
      "\n"
     ]
    }
   ],
   "source": [
    "\n",
    "no_weather_X_train, no_weather_X_val, no_weather_y_train, no_weather_y_val = \\\n",
    "    feature_view_ranking_no_weather.train_test_split(\n",
    "    test_size=0.1,\n",
    "    description='No-weather ranking training dataset',\n",
    ")\n"
   ]
  },
  {
   "cell_type": "code",
   "execution_count": 12,
   "metadata": {},
   "outputs": [
    {
     "data": {
      "text/plain": [
       "Index(['user_id', 'event_id', 'interaction_distance_to_event', 'title',\n",
       "       'event_type', 'event_lat', 'event_lon', 'event_city', 'duration',\n",
       "       'attendance_rate', 'event_indoor_capability', 'user_lat', 'user_lon',\n",
       "       'user_city', 'age', 'user_interests'],\n",
       "      dtype='object')"
      ]
     },
     "execution_count": 12,
     "metadata": {},
     "output_type": "execute_result"
    }
   ],
   "source": [
    "no_weather_X_train.columns:\n"
   ]
  },
  {
   "cell_type": "code",
   "execution_count": null,
   "metadata": {},
   "outputs": [
    {
     "data": {
      "text/plain": [
       "'✅ Updated CatBoost training function to exclude title and user_interests for memory safety.'"
      ]
     },
     "execution_count": 25,
     "metadata": {},
     "output_type": "execute_result"
    }
   ],
   "source": [
    "from catboost import CatBoostClassifier, Pool\n",
    "from sklearn.metrics import classification_report, precision_recall_fscore_support\n",
    "\n",
    "# Final version without text fields (title, user_interests)\n",
    "def train_catboost_without_text_fields(\n",
    "    train_df, val_df, train_y, val_y\n",
    "):\n",
    "    # Drop the text fields if present\n",
    "    text_columns = [\"title\", \"user_interests\"]\n",
    "    train_df = train_df.drop(columns=[col for col in text_columns if col in train_df.columns])\n",
    "    val_df = val_df.drop(columns=[col for col in text_columns if col in val_df.columns])\n",
    "\n",
    "    # Identify categorical features\n",
    "    cat_features = train_df.select_dtypes(include=[\"object\", \"bool\"]).columns.tolist()\n",
    "\n",
    "    # Create CatBoost Pools\n",
    "    train_pool = Pool(train_df, train_y, cat_features=cat_features)\n",
    "    val_pool = Pool(val_df, val_y, cat_features=cat_features)\n",
    "\n",
    "    # Train the model\n",
    "    model = CatBoostClassifier(\n",
    "        learning_rate=0.2,\n",
    "        iterations=100,\n",
    "        depth=10,\n",
    "        early_stopping_rounds=5,\n",
    "        use_best_model=True,\n",
    "        scale_pos_weight=None, \n",
    "        verbose=False\n",
    "    )\n",
    "\n",
    "\n",
    "    model.fit(train_pool, eval_set=val_pool)\n",
    "\n",
    "    # Evaluation\n",
    "    preds = model.predict(val_pool)\n",
    "    precision, recall, fscore, _ = precision_recall_fscore_support(val_y, preds, average=\"binary\")\n",
    "    print(\"\\nClassification Report:\")\n",
    "    print(classification_report(val_y, preds))\n",
    "\n",
    "    metrics = {\n",
    "        \"precision\": precision,\n",
    "        \"recall\": recall,\n",
    "        \"fscore\": fscore,\n",
    "    }\n",
    "    from sklearn.metrics import confusion_matrix\n",
    "    import numpy as np\n",
    "\n",
    "    preds = model.scores = model.predict_proba(val_pool)[:, 1] \n",
    "    print(\"Predicted Class Distribution:\", np.unique(preds, return_counts=True))\n",
    "\n",
    "    # print(\"\\nConfusion Matrix:\")\n",
    "    # print(confusion_matrix(val_y, preds))\n",
    "\n",
    "    return model, metrics, val_pool\n",
    "\n",
    "\"✅ Updated CatBoost training function to exclude title and user_interests for memory safety.\"\n"
   ]
  },
  {
   "cell_type": "code",
   "execution_count": 26,
   "metadata": {},
   "outputs": [
    {
     "name": "stdout",
     "output_type": "stream",
     "text": [
      "\n",
      "Classification Report:\n",
      "              precision    recall  f1-score   support\n",
      "\n",
      "           0       0.69      0.81      0.75      8838\n",
      "           1       0.72      0.58      0.64      7527\n",
      "\n",
      "    accuracy                           0.70     16365\n",
      "   macro avg       0.71      0.69      0.70     16365\n",
      "weighted avg       0.71      0.70      0.70     16365\n",
      "\n",
      "Predicted Class Distribution: (array([0.26349095, 0.27440175, 0.27470047, ..., 0.80501303, 0.80521173,\n",
      "       0.815168  ]), array([4, 2, 1, ..., 1, 1, 1]))\n"
     ]
    }
   ],
   "source": [
    "# Use this function to train on your weather / no-weather datasets\n",
    "weather_model, weather_metrics, pool_weather_val = train_catboost_without_text_fields(\n",
    "    train_df=weather_X_train,\n",
    "    val_df=weather_X_val,\n",
    "    train_y=weather_y_train,\n",
    "    val_y=weather_y_val\n",
    ")\n"
   ]
  },
  {
   "cell_type": "code",
   "execution_count": 27,
   "metadata": {},
   "outputs": [
    {
     "data": {
      "text/plain": [
       "{'interaction_distance_to_event': 95.88507441009482,\n",
       " 'user_lat': 0.5682572734339015,\n",
       " 'duration': 0.5214805623991308,\n",
       " 'event_city': 0.5051760410262486,\n",
       " 'user_city': 0.38683776737670933,\n",
       " 'title': 0.38084638245406954,\n",
       " 'attendance_rate': 0.3720852582747443,\n",
       " 'weather_condition': 0.3307715502825531,\n",
       " 'user_weather_preference': 0.2969166308206288,\n",
       " 'temperature': 0.25730246035794035,\n",
       " 'event_lon': 0.18606856842465705,\n",
       " 'event_type': 0.1772248463607456,\n",
       " 'user_lon': 0.13195824869382036,\n",
       " 'user_id': 0.0,\n",
       " 'event_id': 0.0,\n",
       " 'event_lat': 0.0,\n",
       " 'event_indoor_capability': 0.0}"
      ]
     },
     "execution_count": 27,
     "metadata": {},
     "output_type": "execute_result"
    }
   ],
   "source": [
    "feat_to_score = {\n",
    "    feature: score \n",
    "    for feature, score \n",
    "    in zip(\n",
    "        weather_X_train.columns, \n",
    "        weather_model.feature_importances_,\n",
    "    )\n",
    "}\n",
    "\n",
    "feat_to_score = dict(\n",
    "    sorted(\n",
    "        feat_to_score.items(),\n",
    "        key=lambda item: item[1],\n",
    "        reverse=True,\n",
    "    )\n",
    ")\n",
    "feat_to_score"
   ]
  },
  {
   "cell_type": "code",
   "execution_count": 28,
   "metadata": {},
   "outputs": [
    {
     "name": "stdout",
     "output_type": "stream",
     "text": [
      "\n",
      "Classification Report:\n",
      "              precision    recall  f1-score   support\n",
      "\n",
      "           0       0.70      0.81      0.75      8951\n",
      "           1       0.72      0.58      0.64      7414\n",
      "\n",
      "    accuracy                           0.71     16365\n",
      "   macro avg       0.71      0.70      0.70     16365\n",
      "weighted avg       0.71      0.71      0.70     16365\n",
      "\n",
      "Predicted Class Distribution: (array([0.25162631, 0.25221187, 0.25478915, ..., 0.83534972, 0.83585689,\n",
      "       0.83656814]), array([1, 1, 1, ..., 1, 1, 1]))\n"
     ]
    }
   ],
   "source": [
    "# Use this function to train on your weather / no-weather datasets\n",
    "no_weather_model, no_weather_metrics, pool_no_weather_val = train_catboost_without_text_fields(\n",
    "    train_df=no_weather_X_train,\n",
    "    val_df=no_weather_X_val,\n",
    "    train_y=no_weather_y_train,\n",
    "    val_y=no_weather_y_val\n",
    ")"
   ]
  },
  {
   "cell_type": "code",
   "execution_count": 31,
   "metadata": {},
   "outputs": [
    {
     "data": {
      "text/plain": [
       "{'interaction_distance_to_event': 90.43820594664992,\n",
       " 'title': 1.6638176950383345,\n",
       " 'user_lon': 1.1128959782807077,\n",
       " 'event_lon': 1.0491738101716028,\n",
       " 'user_city': 1.028959159330936,\n",
       " 'event_indoor_capability': 1.0118991412030574,\n",
       " 'attendance_rate': 0.8997575823223471,\n",
       " 'duration': 0.6753878567550867,\n",
       " 'event_city': 0.5604443594303823,\n",
       " 'event_lat': 0.44797280672878487,\n",
       " 'user_lat': 0.3903772894026353,\n",
       " 'event_type': 0.3758839848622131,\n",
       " 'event_id': 0.34522438982397413,\n",
       " 'user_id': 0.0}"
      ]
     },
     "execution_count": 31,
     "metadata": {},
     "output_type": "execute_result"
    }
   ],
   "source": [
    "feat_to_score = {\n",
    "    feature: score \n",
    "    for feature, score \n",
    "    in zip(\n",
    "        no_weather_X_train.columns, \n",
    "        no_weather_model.feature_importances_,\n",
    "    )\n",
    "}\n",
    "\n",
    "feat_to_score = dict(\n",
    "    sorted(\n",
    "        feat_to_score.items(),\n",
    "        key=lambda item: item[1],\n",
    "        reverse=True,\n",
    "    )\n",
    ")\n",
    "feat_to_score"
   ]
  },
  {
   "cell_type": "code",
   "execution_count": 32,
   "metadata": {},
   "outputs": [
    {
     "data": {
      "text/plain": [
       "'✅ Evaluation function ready: scores ranking model using AUC, MAP, Precision@K, Recall@K, and NDCG@K.'"
      ]
     },
     "execution_count": 32,
     "metadata": {},
     "output_type": "execute_result"
    }
   ],
   "source": [
    "from sklearn.metrics import roc_auc_score, average_precision_score, ndcg_score, precision_score, recall_score\n",
    "import numpy as np\n",
    "\n",
    "\n",
    "def evaluate_ranking_model_proba(model, val_pool, val_y, k_list=[5, 10]):\n",
    "    \"\"\"\n",
    "    Evaluate a CatBoost ranking model using predicted probabilities, not binary class outputs.\n",
    "    \"\"\"\n",
    "\n",
    "    # Predict class probabilities (not class labels)\n",
    "    proba = model.predict_proba(val_pool)[:, 1]  # Probability for class 1\n",
    "\n",
    "    results = {\n",
    "        \"AUC\": roc_auc_score(val_y, proba),\n",
    "        \"Average Precision (MAP)\": average_precision_score(val_y, proba),\n",
    "    }\n",
    "\n",
    "    # Convert to numpy arrays\n",
    "    true_labels = np.array(val_y)\n",
    "    predicted_scores = np.array(proba)\n",
    "\n",
    "    # Sort by predicted score\n",
    "    sorted_indices = np.argsort(predicted_scores)[::-1]\n",
    "    sorted_true = true_labels[sorted_indices]\n",
    "\n",
    "    for k in k_list:\n",
    "        top_k = sorted_true[:k]\n",
    "        precision_at_k = np.mean(top_k)\n",
    "        recall_at_k = np.sum(top_k) / np.sum(true_labels)\n",
    "        ndcg_at_k = ndcg_score(\n",
    "            y_true=true_labels.reshape(1, -1),\n",
    "            y_score=predicted_scores.reshape(1, -1),\n",
    "            k=k\n",
    "        )\n",
    "\n",
    "\n",
    "\n",
    "        results[f\"Precision@{k}\"] = precision_at_k\n",
    "        results[f\"Recall@{k}\"] = recall_at_k\n",
    "        results[f\"NDCG@{k}\"] = ndcg_at_k\n",
    "\n",
    "    return results\n",
    "\n",
    "\"✅ Evaluation function ready: scores ranking model using AUC, MAP, Precision@K, Recall@K, and NDCG@K.\"\n"
   ]
  },
  {
   "cell_type": "code",
   "execution_count": 33,
   "metadata": {},
   "outputs": [
    {
     "name": "stdout",
     "output_type": "stream",
     "text": [
      "Weather Model Scores:\n",
      "AUC: 0.7085\n",
      "Average Precision (MAP): 0.6776\n",
      "Precision@5: 0.6000\n",
      "Recall@5: 0.0004\n",
      "NDCG@5: 0.6992\n",
      "Precision@10: 0.7000\n",
      "Recall@10: 0.0009\n",
      "NDCG@10: 0.7334\n",
      "\n",
      "No-Weather Model Scores:\n",
      "AUC: 0.7043\n",
      "Average Precision (MAP): 0.6690\n",
      "Precision@5: 1.0000\n",
      "Recall@5: 0.0007\n",
      "NDCG@5: 1.0000\n",
      "Precision@10: 0.9000\n",
      "Recall@10: 0.0012\n",
      "NDCG@10: 0.9266\n"
     ]
    }
   ],
   "source": [
    "\n",
    "# Evaluate weather-aware model\n",
    "weather_scores = evaluate_ranking_model_proba(\n",
    "    model=weather_model,\n",
    "    val_pool=pool_weather_val,\n",
    "    val_y=weather_y_val\n",
    ")\n",
    "\n",
    "# Evaluate no-weather model\n",
    "no_weather_scores = evaluate_ranking_model_proba(\n",
    "    model=no_weather_model,\n",
    "    val_pool=pool_no_weather_val,\n",
    "    val_y=no_weather_y_val\n",
    ")\n",
    "\n",
    "# Compare results\n",
    "print(\"Weather Model Scores:\")\n",
    "for k, v in weather_scores.items():\n",
    "    print(f\"{k}: {v:.4f}\")\n",
    "\n",
    "print(\"\\nNo-Weather Model Scores:\")\n",
    "for k, v in no_weather_scores.items():\n",
    "    print(f\"{k}: {v:.4f}\")\n"
   ]
  },
  {
   "cell_type": "code",
   "execution_count": 34,
   "metadata": {},
   "outputs": [],
   "source": [
    "# Connect to Hopsworks Model Registry\n",
    "model_registry = project.get_model_registry()"
   ]
  },
  {
   "cell_type": "code",
   "execution_count": 35,
   "metadata": {},
   "outputs": [
    {
     "data": {
      "text/plain": [
       "'✅ Model upload function is ready for Hopsworks. Pass your CatBoost model, train data, metrics, and registry reference.'"
      ]
     },
     "execution_count": 35,
     "metadata": {},
     "output_type": "execute_result"
    }
   ],
   "source": [
    "from hsml.schema import Schema\n",
    "from hsml.model_schema import ModelSchema\n",
    "import joblib\n",
    "\n",
    "def upload_catboost_model_to_hopsworks(\n",
    "    model, model_name: str, model_description: str,\n",
    "    model_registry, X_train, y_train, metrics: dict,\n",
    "    local_path\n",
    "):\n",
    "    # Save the model locally\n",
    "    joblib.dump(model, local_path)\n",
    "\n",
    "    # Create input/output schema\n",
    "    input_schema = Schema(X_train)\n",
    "    output_schema = Schema(y_train)\n",
    "    model_schema = ModelSchema(input_schema, output_schema)\n",
    "\n",
    "    # Sample input for UI representation\n",
    "    input_example = X_train.sample().to_dict(\"records\")\n",
    "\n",
    "    # Create and save model in Hopsworks\n",
    "    hopsworks_model = model_registry.python.create_model(\n",
    "        name=model_name,\n",
    "        metrics=metrics,\n",
    "        model_schema=model_schema,\n",
    "        input_example=input_example,\n",
    "        description=model_description,\n",
    "    )\n",
    "\n",
    "    hopsworks_model.save(local_path)\n",
    "\n",
    "    print(f\"✅ Model '{model_name}' successfully uploaded to Hopsworks.\")\n",
    "    return hopsworks_model\n",
    "\n",
    "\"✅ Model upload function is ready for Hopsworks. Pass your CatBoost model, train data, metrics, and registry reference.\"\n"
   ]
  },
  {
   "cell_type": "code",
   "execution_count": 36,
   "metadata": {},
   "outputs": [
    {
     "data": {
      "application/vnd.jupyter.widget-view+json": {
       "model_id": "1140cc76a90441e0beb44726928ef79c",
       "version_major": 2,
       "version_minor": 0
      },
      "text/plain": [
       "  0%|          | 0/6 [00:00<?, ?it/s]"
      ]
     },
     "metadata": {},
     "output_type": "display_data"
    },
    {
     "data": {
      "application/vnd.jupyter.widget-view+json": {
       "model_id": "55259681dc4b410194fa682711214d45",
       "version_major": 2,
       "version_minor": 0
      },
      "text/plain": [
       "Uploading: 0.000%|          | 0/262968 elapsed<00:00 remaining<?"
      ]
     },
     "metadata": {},
     "output_type": "display_data"
    },
    {
     "data": {
      "application/vnd.jupyter.widget-view+json": {
       "model_id": "b4c1ff13402c415794a1d73f7f0e77d7",
       "version_major": 2,
       "version_minor": 0
      },
      "text/plain": [
       "Uploading: 0.000%|          | 0/598 elapsed<00:00 remaining<?"
      ]
     },
     "metadata": {},
     "output_type": "display_data"
    },
    {
     "data": {
      "application/vnd.jupyter.widget-view+json": {
       "model_id": "09e0da89d3b74e3b943b8949a55261df",
       "version_major": 2,
       "version_minor": 0
      },
      "text/plain": [
       "Uploading: 0.000%|          | 0/1586 elapsed<00:00 remaining<?"
      ]
     },
     "metadata": {},
     "output_type": "display_data"
    },
    {
     "name": "stdout",
     "output_type": "stream",
     "text": [
      "Model created, explore it at https://c.app.hopsworks.ai:443/p/1220788/models/weather_ranking_model/2\n",
      "✅ Model 'weather_ranking_model' successfully uploaded to Hopsworks.\n"
     ]
    },
    {
     "data": {
      "text/plain": [
       "Model(name: 'weather_ranking_model', version: 2)"
      ]
     },
     "execution_count": 36,
     "metadata": {},
     "output_type": "execute_result"
    }
   ],
   "source": [
    "upload_catboost_model_to_hopsworks(\n",
    "    model=weather_model,\n",
    "    model_name=\"weather_ranking_model\",\n",
    "    model_description=\"Ranking model trained with weather features\",\n",
    "    model_registry=project.get_model_registry(),\n",
    "    X_train=weather_X_train, \n",
    "    y_train=weather_y_train,\n",
    "    metrics=weather_metrics,\n",
    "    local_path=\"weather_ranking_model.pkl\"\n",
    ")\n"
   ]
  },
  {
   "cell_type": "code",
   "execution_count": 37,
   "metadata": {},
   "outputs": [
    {
     "data": {
      "application/vnd.jupyter.widget-view+json": {
       "model_id": "c978f1313ceb418aa945b5feb19100e9",
       "version_major": 2,
       "version_minor": 0
      },
      "text/plain": [
       "  0%|          | 0/6 [00:00<?, ?it/s]"
      ]
     },
     "metadata": {},
     "output_type": "display_data"
    },
    {
     "data": {
      "application/vnd.jupyter.widget-view+json": {
       "model_id": "ff138e7610dc4d4db3dcb91b64b00a30",
       "version_major": 2,
       "version_minor": 0
      },
      "text/plain": [
       "Uploading: 0.000%|          | 0/901551 elapsed<00:00 remaining<?"
      ]
     },
     "metadata": {},
     "output_type": "display_data"
    },
    {
     "data": {
      "application/vnd.jupyter.widget-view+json": {
       "model_id": "818c3179dcaf41f993ece7b25a78f0d2",
       "version_major": 2,
       "version_minor": 0
      },
      "text/plain": [
       "Uploading: 0.000%|          | 0/505 elapsed<00:00 remaining<?"
      ]
     },
     "metadata": {},
     "output_type": "display_data"
    },
    {
     "data": {
      "application/vnd.jupyter.widget-view+json": {
       "model_id": "1945185a09b14a7a8cf475d467e2cc61",
       "version_major": 2,
       "version_minor": 0
      },
      "text/plain": [
       "Uploading: 0.000%|          | 0/1348 elapsed<00:00 remaining<?"
      ]
     },
     "metadata": {},
     "output_type": "display_data"
    },
    {
     "name": "stdout",
     "output_type": "stream",
     "text": [
      "Model created, explore it at https://c.app.hopsworks.ai:443/p/1220788/models/no_weather_ranking_model/2\n",
      "✅ Model 'no_weather_ranking_model' successfully uploaded to Hopsworks.\n"
     ]
    },
    {
     "data": {
      "text/plain": [
       "Model(name: 'no_weather_ranking_model', version: 2)"
      ]
     },
     "execution_count": 37,
     "metadata": {},
     "output_type": "execute_result"
    }
   ],
   "source": [
    "upload_catboost_model_to_hopsworks(\n",
    "    model=no_weather_model,\n",
    "    model_name=\"no_weather_ranking_model\",\n",
    "    model_description=\"Ranking model trained without weather features\",\n",
    "    model_registry=project.get_model_registry(),\n",
    "    X_train=no_weather_X_train, \n",
    "    y_train=no_weather_y_train,\n",
    "    metrics=no_weather_metrics,\n",
    "    local_path=\"no_weather_ranking_model.pkl\"\n",
    ")"
   ]
  }
 ],
 "metadata": {
  "kernelspec": {
   "display_name": "thesisenv",
   "language": "python",
   "name": "python3"
  },
  "language_info": {
   "codemirror_mode": {
    "name": "ipython",
    "version": 3
   },
   "file_extension": ".py",
   "mimetype": "text/x-python",
   "name": "python",
   "nbconvert_exporter": "python",
   "pygments_lexer": "ipython3",
   "version": "3.10.6"
  }
 },
 "nbformat": 4,
 "nbformat_minor": 2
}
