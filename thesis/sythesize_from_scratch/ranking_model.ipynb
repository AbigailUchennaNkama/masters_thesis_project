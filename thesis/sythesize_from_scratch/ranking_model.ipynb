{
 "cells": [
  {
   "cell_type": "code",
   "execution_count": 1,
   "metadata": {},
   "outputs": [],
   "source": [
    "import pandas as pd\n",
    "#from catboost import CatBoostClassifier, Pool\n",
    "from sklearn.metrics import classification_report, precision_recall_fscore_support\n",
    "import joblib\n",
    "import hopsworks\n"
   ]
  },
  {
   "cell_type": "code",
   "execution_count": 2,
   "metadata": {},
   "outputs": [
    {
     "name": "stdout",
     "output_type": "stream",
     "text": [
      "2025-04-04 16:50:11,169 INFO: Initializing external client\n",
      "2025-04-04 16:50:11,170 INFO: Base URL: https://c.app.hopsworks.ai:443\n",
      "2025-04-04 16:50:11,683 WARNING: UserWarning: The installed hopsworks client version 4.1.8 may not be compatible with the connected Hopsworks backend version 4.2.0. \n",
      "To ensure compatibility please install the latest bug fix release matching the minor version of your backend (4.2) by running 'pip install hopsworks==4.2.*'\n",
      "\n"
     ]
    },
    {
     "name": "stderr",
     "output_type": "stream",
     "text": [
      "\n",
      "\n"
     ]
    },
    {
     "name": "stdout",
     "output_type": "stream",
     "text": [
      "2025-04-04 16:50:12,448 INFO: Python Engine initialized.\n",
      "\n",
      "Logged in to project, explore it here https://c.app.hopsworks.ai:443/p/1220788\n"
     ]
    }
   ],
   "source": [
    "\n",
    "project = hopsworks.login()\n",
    "\n",
    "fs = project.get_feature_store()"
   ]
  },
  {
   "cell_type": "code",
   "execution_count": 3,
   "metadata": {},
   "outputs": [],
   "source": [
    "users_fg = fs.get_feature_group(\n",
    "    name=\"users\",\n",
    "    version=1\n",
    ")\n",
    "\n",
    "events_fg = fs.get_feature_group(\n",
    "    name=\"events\",\n",
    "    version=1\n",
    ")\n",
    "\n",
    "weather_rank_fg = fs.get_feature_group(\n",
    "    name=\"weather_ranking\",\n",
    "    version=1\n",
    ")\n",
    "\n",
    "no_weather_rank_fg = fs.get_feature_group(\n",
    "    name=\"no_weather_ranking\",\n",
    "    version=1\n",
    ")"
   ]
  },
  {
   "cell_type": "markdown",
   "metadata": {},
   "source": [
    "## <span style=\"color:#ff5f27\">⚙️ Feature View Creation </span>"
   ]
  },
  {
   "cell_type": "code",
   "execution_count": 7,
   "metadata": {},
   "outputs": [
    {
     "name": "stdout",
     "output_type": "stream",
     "text": [
      "Feature view created successfully, explore it at \n",
      "https://c.app.hopsworks.ai:443/p/1220788/fs/1208418/fv/users/version/1\n"
     ]
    },
    {
     "data": {
      "text/plain": [
       "<hsfs.feature_view.FeatureView at 0x7f92e853b520>"
      ]
     },
     "execution_count": 7,
     "metadata": {},
     "output_type": "execute_result"
    }
   ],
   "source": [
    "# Select features\n",
    "selected_features_customers = users_fg.select_all()\n",
    "\n",
    "fs.get_or_create_feature_view( \n",
    "    name='users',\n",
    "    query=selected_features_customers,\n",
    "    version=1,\n",
    ")"
   ]
  },
  {
   "cell_type": "code",
   "execution_count": 9,
   "metadata": {},
   "outputs": [
    {
     "name": "stdout",
     "output_type": "stream",
     "text": [
      "Feature view created successfully, explore it at \n",
      "https://c.app.hopsworks.ai:443/p/1220788/fs/1208418/fv/events/version/1\n"
     ]
    },
    {
     "data": {
      "text/plain": [
       "<hsfs.feature_view.FeatureView at 0x7f92e8fcbcd0>"
      ]
     },
     "execution_count": 9,
     "metadata": {},
     "output_type": "execute_result"
    }
   ],
   "source": [
    "# Select features\n",
    "selected_features_articles = events_fg.select_all()\n",
    "\n",
    "fs.get_or_create_feature_view(\n",
    "    name='events',\n",
    "    query=selected_features_articles,\n",
    "    version=1,\n",
    ")"
   ]
  },
  {
   "cell_type": "code",
   "execution_count": 20,
   "metadata": {},
   "outputs": [
    {
     "name": "stdout",
     "output_type": "stream",
     "text": [
      "Feature view created successfully, explore it at \n",
      "https://c.app.hopsworks.ai:443/p/1220788/fs/1208418/fv/weather_ranking/version/1\n"
     ]
    }
   ],
   "source": [
    "# Select features\n",
    "features_weather_ranking = weather_rank_fg.select_all()\n",
    "\n",
    "feature_view_ranking_weather = fs.get_or_create_feature_view(\n",
    "    name='weather_ranking',\n",
    "    query=features_weather_ranking,\n",
    "    labels=[\"label\"],\n",
    "    version=1,\n",
    ")"
   ]
  },
  {
   "cell_type": "code",
   "execution_count": 21,
   "metadata": {},
   "outputs": [
    {
     "name": "stdout",
     "output_type": "stream",
     "text": [
      "Feature view created successfully, explore it at \n",
      "https://c.app.hopsworks.ai:443/p/1220788/fs/1208418/fv/no_weather_ranking/version/1\n"
     ]
    }
   ],
   "source": [
    "# Select features\n",
    "features_no_weather_ranking = no_weather_rank_fg.select_all()\n",
    "\n",
    "feature_view_ranking_no_weather = fs.get_or_create_feature_view(\n",
    "    name='no_weather_ranking',\n",
    "    query=features_no_weather_ranking,\n",
    "    labels=[\"label\"],\n",
    "    version=1,\n",
    ")"
   ]
  },
  {
   "cell_type": "markdown",
   "metadata": {},
   "source": [
    "---"
   ]
  },
  {
   "cell_type": "markdown",
   "metadata": {},
   "source": [
    "---"
   ]
  },
  {
   "cell_type": "markdown",
   "metadata": {},
   "source": [
    "---"
   ]
  },
  {
   "cell_type": "markdown",
   "metadata": {},
   "source": [
    "---"
   ]
  },
  {
   "cell_type": "code",
   "execution_count": 3,
   "metadata": {},
   "outputs": [],
   "source": [
    "# Get feature views\n",
    "feature_view_ranking_weather = fs.get_feature_view(name='weather_ranking', version=1)\n"
   ]
  },
  {
   "cell_type": "code",
   "execution_count": 4,
   "metadata": {},
   "outputs": [],
   "source": [
    "\n",
    "feature_view_ranking_no_weather = fs.get_feature_view(name='no_weather_ranking', version=1)"
   ]
  },
  {
   "cell_type": "code",
   "execution_count": null,
   "metadata": {},
   "outputs": [],
   "source": []
  },
  {
   "cell_type": "code",
   "execution_count": 5,
   "metadata": {},
   "outputs": [
    {
     "name": "stdout",
     "output_type": "stream",
     "text": [
      "Finished: Reading data from Hopsworks, using Hopsworks Feature Query Service (7.40s) \n",
      "2025-04-04 16:50:45,794 WARNING: VersionWarning: Incremented version to `12`.\n",
      "\n"
     ]
    }
   ],
   "source": [
    "# Get training and validation data directly from feature views\n",
    "weather_X_train, weather_X_val, weather_y_train, weather_y_val = \\\n",
    "    feature_view_ranking_weather.train_test_split(\n",
    "    test_size=0.1,\n",
    "    description='Weather ranking training dataset',\n",
    ")\n"
   ]
  },
  {
   "cell_type": "code",
   "execution_count": 6,
   "metadata": {},
   "outputs": [
    {
     "name": "stdout",
     "output_type": "stream",
     "text": [
      "Finished: Reading data from Hopsworks, using Hopsworks Feature Query Service (7.04s) \n",
      "2025-04-04 16:50:55,834 WARNING: VersionWarning: Incremented version to `9`.\n",
      "\n"
     ]
    }
   ],
   "source": [
    "\n",
    "no_weather_X_train, no_weather_X_val, no_weather_y_train, no_weather_y_val = \\\n",
    "    feature_view_ranking_no_weather.train_test_split(\n",
    "    test_size=0.1,\n",
    "    description='No-weather ranking training dataset',\n",
    ")\n"
   ]
  },
  {
   "cell_type": "code",
   "execution_count": 45,
   "metadata": {},
   "outputs": [
    {
     "data": {
      "text/plain": [
       "'✅ Updated CatBoost training function to exclude title and user_interests for memory safety.'"
      ]
     },
     "execution_count": 45,
     "metadata": {},
     "output_type": "execute_result"
    }
   ],
   "source": [
    "from catboost import CatBoostClassifier, Pool\n",
    "from sklearn.metrics import classification_report, precision_recall_fscore_support\n",
    "\n",
    "# Final version without text fields (title, user_interests)\n",
    "def train_catboost_without_text_fields(\n",
    "    train_df, val_df, train_y, val_y\n",
    "):\n",
    "    # Drop the text fields if present\n",
    "    text_columns = [\"title\", \"user_interests\"]\n",
    "    train_df = train_df.drop(columns=[col for col in text_columns if col in train_df.columns])\n",
    "    val_df = val_df.drop(columns=[col for col in text_columns if col in val_df.columns])\n",
    "\n",
    "    # Identify categorical features\n",
    "    cat_features = train_df.select_dtypes(include=[\"object\", \"bool\"]).columns.tolist()\n",
    "\n",
    "    # Create CatBoost Pools\n",
    "    train_pool = Pool(train_df, train_y, cat_features=cat_features)\n",
    "    val_pool = Pool(val_df, val_y, cat_features=cat_features)\n",
    "\n",
    "    # Train the model\n",
    "    model = CatBoostClassifier(\n",
    "        learning_rate=0.2,\n",
    "        iterations=100,\n",
    "        depth=10,\n",
    "        early_stopping_rounds=5,\n",
    "        use_best_model=True,\n",
    "        scale_pos_weight=None, \n",
    "        verbose=False\n",
    "    )\n",
    "\n",
    "\n",
    "    model.fit(train_pool, eval_set=val_pool)\n",
    "\n",
    "    # Evaluation\n",
    "    preds = model.predict(val_pool)\n",
    "    precision, recall, fscore, _ = precision_recall_fscore_support(val_y, preds, average=\"binary\")\n",
    "    print(\"\\nClassification Report:\")\n",
    "    print(classification_report(val_y, preds))\n",
    "\n",
    "    metrics = {\n",
    "        \"precision\": precision,\n",
    "        \"recall\": recall,\n",
    "        \"fscore\": fscore,\n",
    "    }\n",
    "    from sklearn.metrics import confusion_matrix\n",
    "    import numpy as np\n",
    "\n",
    "    preds = model.scores = model.predict_proba(val_pool)[:, 1] \n",
    "    print(\"Predicted Class Distribution:\", np.unique(preds, return_counts=True))\n",
    "\n",
    "    # print(\"\\nConfusion Matrix:\")\n",
    "    # print(confusion_matrix(val_y, preds))\n",
    "\n",
    "    return model, metrics, val_pool\n",
    "\n",
    "\"✅ Updated CatBoost training function to exclude title and user_interests for memory safety.\"\n"
   ]
  },
  {
   "cell_type": "code",
   "execution_count": 46,
   "metadata": {},
   "outputs": [
    {
     "name": "stdout",
     "output_type": "stream",
     "text": [
      "\n",
      "Classification Report:\n",
      "              precision    recall  f1-score   support\n",
      "\n",
      "           0       0.70      0.82      0.75      8984\n",
      "           1       0.72      0.57      0.64      7381\n",
      "\n",
      "    accuracy                           0.71     16365\n",
      "   macro avg       0.71      0.69      0.70     16365\n",
      "weighted avg       0.71      0.71      0.70     16365\n",
      "\n",
      "Predicted Class Distribution: (array([0.26036305, 0.26521069, 0.27259941, ..., 0.818147  , 0.81962099,\n",
      "       0.82370505]), array([1, 1, 1, ..., 1, 1, 1]))\n"
     ]
    }
   ],
   "source": [
    "# Use this function to train on your weather / no-weather datasets\n",
    "weather_model, weather_metrics, pool_weather_val = train_catboost_without_text_fields(\n",
    "    train_df=weather_X_train,\n",
    "    val_df=weather_X_val,\n",
    "    train_y=weather_y_train,\n",
    "    val_y=weather_y_val\n",
    ")\n"
   ]
  },
  {
   "cell_type": "code",
   "execution_count": 52,
   "metadata": {},
   "outputs": [
    {
     "data": {
      "text/plain": [
       "{'interaction_distance_to_event': 93.30345517167724,\n",
       " 'user_city': 0.8238453465734555,\n",
       " 'title': 0.7587034753891037,\n",
       " 'user_lat': 0.7423353611731195,\n",
       " 'event_city': 0.7005351182226973,\n",
       " 'temperature': 0.6971355597219107,\n",
       " 'user_weather_preference': 0.5473289693968149,\n",
       " 'weather_condition': 0.46578401536141395,\n",
       " 'user_lon': 0.4559328686152446,\n",
       " 'duration': 0.4353449380475777,\n",
       " 'attendance_rate': 0.36774408358212907,\n",
       " 'event_indoor_capability': 0.3622609880108651,\n",
       " 'event_type': 0.16095242574964425,\n",
       " 'event_lat': 0.12506524006888797,\n",
       " 'event_lon': 0.053576438409897495,\n",
       " 'user_id': 0.0,\n",
       " 'event_id': 0.0}"
      ]
     },
     "execution_count": 52,
     "metadata": {},
     "output_type": "execute_result"
    }
   ],
   "source": [
    "feat_to_score = {\n",
    "    feature: score \n",
    "    for feature, score \n",
    "    in zip(\n",
    "        weather_X_train.columns, \n",
    "        weather_model.feature_importances_,\n",
    "    )\n",
    "}\n",
    "\n",
    "feat_to_score = dict(\n",
    "    sorted(\n",
    "        feat_to_score.items(),\n",
    "        key=lambda item: item[1],\n",
    "        reverse=True,\n",
    "    )\n",
    ")\n",
    "feat_to_score"
   ]
  },
  {
   "cell_type": "code",
   "execution_count": 55,
   "metadata": {},
   "outputs": [
    {
     "name": "stdout",
     "output_type": "stream",
     "text": [
      "\n",
      "Classification Report:\n",
      "              precision    recall  f1-score   support\n",
      "\n",
      "           0       0.70      0.82      0.75      8902\n",
      "           1       0.73      0.57      0.64      7463\n",
      "\n",
      "    accuracy                           0.71     16365\n",
      "   macro avg       0.71      0.70      0.70     16365\n",
      "weighted avg       0.71      0.71      0.70     16365\n",
      "\n",
      "Predicted Class Distribution: (array([0.26571178, 0.27168428, 0.27318173, ..., 0.81963744, 0.82102738,\n",
      "       0.82311222]), array([1, 1, 1, ..., 1, 1, 1]))\n"
     ]
    }
   ],
   "source": [
    "# Use this function to train on your weather / no-weather datasets\n",
    "no_weather_model, no_weather_metrics, pool_no_weather_val = train_catboost_without_text_fields(\n",
    "    train_df=no_weather_X_train,\n",
    "    val_df=no_weather_X_val,\n",
    "    train_y=no_weather_y_train,\n",
    "    val_y=no_weather_y_val\n",
    ")"
   ]
  },
  {
   "cell_type": "code",
   "execution_count": 51,
   "metadata": {},
   "outputs": [
    {
     "data": {
      "text/plain": [
       "{'interaction_distance_to_event': 95.26200382902547,\n",
       " 'attendance_rate': 0.6332116184844625,\n",
       " 'event_city': 0.5870931554516937,\n",
       " 'duration': 0.5853972344250435,\n",
       " 'user_lon': 0.512945258662686,\n",
       " 'event_lon': 0.5098842138086315,\n",
       " 'title': 0.46051506428962835,\n",
       " 'user_city': 0.4411795968552092,\n",
       " 'event_lat': 0.3814438637043754,\n",
       " 'event_indoor_capability': 0.2803980245606658,\n",
       " 'user_lat': 0.2098836281374181,\n",
       " 'event_type': 0.1360445125946886,\n",
       " 'user_id': 0.0,\n",
       " 'event_id': 0.0}"
      ]
     },
     "execution_count": 51,
     "metadata": {},
     "output_type": "execute_result"
    }
   ],
   "source": [
    "feat_to_score = {\n",
    "    feature: score \n",
    "    for feature, score \n",
    "    in zip(\n",
    "        no_weather_X_train.columns, \n",
    "        no_weather_model.feature_importances_,\n",
    "    )\n",
    "}\n",
    "\n",
    "feat_to_score = dict(\n",
    "    sorted(\n",
    "        feat_to_score.items(),\n",
    "        key=lambda item: item[1],\n",
    "        reverse=True,\n",
    "    )\n",
    ")\n",
    "feat_to_score"
   ]
  },
  {
   "cell_type": "code",
   "execution_count": 49,
   "metadata": {},
   "outputs": [
    {
     "data": {
      "text/plain": [
       "'✅ Evaluation function ready: scores ranking model using AUC, MAP, Precision@K, Recall@K, and NDCG@K.'"
      ]
     },
     "execution_count": 49,
     "metadata": {},
     "output_type": "execute_result"
    }
   ],
   "source": [
    "from sklearn.metrics import roc_auc_score, average_precision_score, ndcg_score, precision_score, recall_score\n",
    "import numpy as np\n",
    "\n",
    "\n",
    "def evaluate_ranking_model_proba(model, val_pool, val_y, k_list=[5, 10]):\n",
    "    \"\"\"\n",
    "    Evaluate a CatBoost ranking model using predicted probabilities, not binary class outputs.\n",
    "    \"\"\"\n",
    "\n",
    "    # Predict class probabilities (not class labels)\n",
    "    proba = model.predict_proba(val_pool)[:, 1]  # Probability for class 1\n",
    "\n",
    "    results = {\n",
    "        \"AUC\": roc_auc_score(val_y, proba),\n",
    "        \"Average Precision (MAP)\": average_precision_score(val_y, proba),\n",
    "    }\n",
    "\n",
    "    # Convert to numpy arrays\n",
    "    true_labels = np.array(val_y)\n",
    "    predicted_scores = np.array(proba)\n",
    "\n",
    "    # Sort by predicted score\n",
    "    sorted_indices = np.argsort(predicted_scores)[::-1]\n",
    "    sorted_true = true_labels[sorted_indices]\n",
    "\n",
    "    for k in k_list:\n",
    "        top_k = sorted_true[:k]\n",
    "        precision_at_k = np.mean(top_k)\n",
    "        recall_at_k = np.sum(top_k) / np.sum(true_labels)\n",
    "        ndcg_at_k = ndcg_score(\n",
    "            y_true=true_labels.reshape(1, -1),\n",
    "            y_score=predicted_scores.reshape(1, -1),\n",
    "            k=k\n",
    "        )\n",
    "\n",
    "\n",
    "\n",
    "        results[f\"Precision@{k}\"] = precision_at_k\n",
    "        results[f\"Recall@{k}\"] = recall_at_k\n",
    "        results[f\"NDCG@{k}\"] = ndcg_at_k\n",
    "\n",
    "    return results\n",
    "\n",
    "\"✅ Evaluation function ready: scores ranking model using AUC, MAP, Precision@K, Recall@K, and NDCG@K.\"\n"
   ]
  },
  {
   "cell_type": "code",
   "execution_count": 50,
   "metadata": {},
   "outputs": [
    {
     "name": "stdout",
     "output_type": "stream",
     "text": [
      "Weather Model Scores:\n",
      "AUC: 0.7011\n",
      "Average Precision (MAP): 0.6712\n",
      "Precision@5: 0.8000\n",
      "Recall@5: 0.0005\n",
      "NDCG@5: 0.9344\n",
      "Precision@10: 0.8000\n",
      "Recall@10: 0.0011\n",
      "NDCG@10: 0.8546\n",
      "\n",
      "No-Weather Model Scores:\n",
      "AUC: 0.7064\n",
      "Average Precision (MAP): 0.6755\n",
      "Precision@5: 0.8000\n",
      "Recall@5: 0.0005\n",
      "NDCG@5: 0.6608\n",
      "Precision@10: 0.9000\n",
      "Recall@10: 0.0012\n",
      "NDCG@10: 0.7799\n"
     ]
    }
   ],
   "source": [
    "\n",
    "# Evaluate weather-aware model\n",
    "weather_scores = evaluate_ranking_model_proba(\n",
    "    model=weather_model,\n",
    "    val_pool=pool_weather_val,\n",
    "    val_y=weather_y_val\n",
    ")\n",
    "\n",
    "# Evaluate no-weather model\n",
    "no_weather_scores = evaluate_ranking_model_proba(\n",
    "    model=no_weather_model,\n",
    "    val_pool=pool_no_weather_val,\n",
    "    val_y=no_weather_y_val\n",
    ")\n",
    "\n",
    "# Compare results\n",
    "print(\"Weather Model Scores:\")\n",
    "for k, v in weather_scores.items():\n",
    "    print(f\"{k}: {v:.4f}\")\n",
    "\n",
    "print(\"\\nNo-Weather Model Scores:\")\n",
    "for k, v in no_weather_scores.items():\n",
    "    print(f\"{k}: {v:.4f}\")\n"
   ]
  },
  {
   "cell_type": "code",
   "execution_count": 54,
   "metadata": {},
   "outputs": [],
   "source": [
    "# Connect to Hopsworks Model Registry\n",
    "model_registry = project.get_model_registry()"
   ]
  },
  {
   "cell_type": "code",
   "execution_count": 53,
   "metadata": {},
   "outputs": [
    {
     "data": {
      "text/plain": [
       "'✅ Model upload function is ready for Hopsworks. Pass your CatBoost model, train data, metrics, and registry reference.'"
      ]
     },
     "execution_count": 53,
     "metadata": {},
     "output_type": "execute_result"
    }
   ],
   "source": [
    "from hsml.schema import Schema\n",
    "from hsml.model_schema import ModelSchema\n",
    "import joblib\n",
    "\n",
    "def upload_catboost_model_to_hopsworks(\n",
    "    model, model_name: str, model_description: str,\n",
    "    model_registry, X_train, y_train, metrics: dict,\n",
    "    local_path=\"model.pkl\"\n",
    "):\n",
    "    # Save the model locally\n",
    "    joblib.dump(model, local_path)\n",
    "\n",
    "    # Create input/output schema\n",
    "    input_schema = Schema(X_train)\n",
    "    output_schema = Schema(y_train)\n",
    "    model_schema = ModelSchema(input_schema, output_schema)\n",
    "\n",
    "    # Sample input for UI representation\n",
    "    input_example = X_train.sample().to_dict(\"records\")\n",
    "\n",
    "    # Create and save model in Hopsworks\n",
    "    hopsworks_model = model_registry.python.create_model(\n",
    "        name=model_name,\n",
    "        metrics=metrics,\n",
    "        model_schema=model_schema,\n",
    "        input_example=input_example,\n",
    "        description=model_description,\n",
    "    )\n",
    "\n",
    "    hopsworks_model.save(local_path)\n",
    "\n",
    "    print(f\"✅ Model '{model_name}' successfully uploaded to Hopsworks.\")\n",
    "    return hopsworks_model\n",
    "\n",
    "\"✅ Model upload function is ready for Hopsworks. Pass your CatBoost model, train data, metrics, and registry reference.\"\n"
   ]
  },
  {
   "cell_type": "code",
   "execution_count": 56,
   "metadata": {},
   "outputs": [
    {
     "data": {
      "application/vnd.jupyter.widget-view+json": {
       "model_id": "b5d6201006fe4acab38c7127a8bec92b",
       "version_major": 2,
       "version_minor": 0
      },
      "text/plain": [
       "  0%|          | 0/6 [00:00<?, ?it/s]"
      ]
     },
     "metadata": {},
     "output_type": "display_data"
    },
    {
     "data": {
      "application/vnd.jupyter.widget-view+json": {
       "model_id": "56487365b90f447a871c38f4093687b4",
       "version_major": 2,
       "version_minor": 0
      },
      "text/plain": [
       "Uploading: 0.000%|          | 0/283520 elapsed<00:00 remaining<?"
      ]
     },
     "metadata": {},
     "output_type": "display_data"
    },
    {
     "data": {
      "application/vnd.jupyter.widget-view+json": {
       "model_id": "f7951af82b704944b68a10dd01a5450e",
       "version_major": 2,
       "version_minor": 0
      },
      "text/plain": [
       "Uploading: 0.000%|          | 0/615 elapsed<00:00 remaining<?"
      ]
     },
     "metadata": {},
     "output_type": "display_data"
    },
    {
     "data": {
      "application/vnd.jupyter.widget-view+json": {
       "model_id": "76df7e31c8d841fc9122f2c4ca3ae780",
       "version_major": 2,
       "version_minor": 0
      },
      "text/plain": [
       "Uploading: 0.000%|          | 0/1586 elapsed<00:00 remaining<?"
      ]
     },
     "metadata": {},
     "output_type": "display_data"
    },
    {
     "name": "stdout",
     "output_type": "stream",
     "text": [
      "Model created, explore it at https://c.app.hopsworks.ai:443/p/1220788/models/weather_ranking_model/1\n",
      "✅ Model 'weather_ranking_model' successfully uploaded to Hopsworks.\n"
     ]
    },
    {
     "data": {
      "text/plain": [
       "Model(name: 'weather_ranking_model', version: 1)"
      ]
     },
     "execution_count": 56,
     "metadata": {},
     "output_type": "execute_result"
    }
   ],
   "source": [
    "upload_catboost_model_to_hopsworks(\n",
    "    model=weather_model,\n",
    "    model_name=\"weather_ranking_model\",\n",
    "    model_description=\"Ranking model trained with weather features\",\n",
    "    model_registry=project.get_model_registry(),\n",
    "    X_train=weather_X_train, \n",
    "    y_train=weather_y_train,\n",
    "    metrics=weather_metrics\n",
    ")\n"
   ]
  },
  {
   "cell_type": "code",
   "execution_count": 57,
   "metadata": {},
   "outputs": [
    {
     "data": {
      "application/vnd.jupyter.widget-view+json": {
       "model_id": "8cd7c129b01b4c99ba727414d9edef82",
       "version_major": 2,
       "version_minor": 0
      },
      "text/plain": [
       "  0%|          | 0/6 [00:00<?, ?it/s]"
      ]
     },
     "metadata": {},
     "output_type": "display_data"
    },
    {
     "data": {
      "application/vnd.jupyter.widget-view+json": {
       "model_id": "23814bbcb21d481a9f6f7ddb1af313bf",
       "version_major": 2,
       "version_minor": 0
      },
      "text/plain": [
       "Uploading: 0.000%|          | 0/308023 elapsed<00:00 remaining<?"
      ]
     },
     "metadata": {},
     "output_type": "display_data"
    },
    {
     "data": {
      "application/vnd.jupyter.widget-view+json": {
       "model_id": "09d4857b2f454983910e00f6b668eaca",
       "version_major": 2,
       "version_minor": 0
      },
      "text/plain": [
       "Uploading: 0.000%|          | 0/503 elapsed<00:00 remaining<?"
      ]
     },
     "metadata": {},
     "output_type": "display_data"
    },
    {
     "data": {
      "application/vnd.jupyter.widget-view+json": {
       "model_id": "effc949c875a42eba04b949181ec6cc0",
       "version_major": 2,
       "version_minor": 0
      },
      "text/plain": [
       "Uploading: 0.000%|          | 0/1348 elapsed<00:00 remaining<?"
      ]
     },
     "metadata": {},
     "output_type": "display_data"
    },
    {
     "name": "stdout",
     "output_type": "stream",
     "text": [
      "Model created, explore it at https://c.app.hopsworks.ai:443/p/1220788/models/no_weather_ranking_model/1\n",
      "✅ Model 'no_weather_ranking_model' successfully uploaded to Hopsworks.\n"
     ]
    },
    {
     "data": {
      "text/plain": [
       "Model(name: 'no_weather_ranking_model', version: 1)"
      ]
     },
     "execution_count": 57,
     "metadata": {},
     "output_type": "execute_result"
    }
   ],
   "source": [
    "upload_catboost_model_to_hopsworks(\n",
    "    model=no_weather_model,\n",
    "    model_name=\"no_weather_ranking_model\",\n",
    "    model_description=\"Ranking model trained without weather features\",\n",
    "    model_registry=project.get_model_registry(),\n",
    "    X_train=no_weather_X_train, \n",
    "    y_train=no_weather_y_train,\n",
    "    metrics=no_weather_metrics\n",
    ")"
   ]
  }
 ],
 "metadata": {
  "kernelspec": {
   "display_name": "thesisenv",
   "language": "python",
   "name": "python3"
  },
  "language_info": {
   "codemirror_mode": {
    "name": "ipython",
    "version": 3
   },
   "file_extension": ".py",
   "mimetype": "text/x-python",
   "name": "python",
   "nbconvert_exporter": "python",
   "pygments_lexer": "ipython3",
   "version": "3.10.6"
  }
 },
 "nbformat": 4,
 "nbformat_minor": 2
}
