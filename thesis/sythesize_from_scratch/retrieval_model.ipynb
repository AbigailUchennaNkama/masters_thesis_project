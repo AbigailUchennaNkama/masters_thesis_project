{
 "cells": [
  {
   "cell_type": "markdown",
   "metadata": {},
   "source": [
    "## <span style=\"color:#ff5f27\">🧬 Train Retrieval Model </span>\n"
   ]
  },
  {
   "cell_type": "code",
   "execution_count": 2,
   "metadata": {},
   "outputs": [],
   "source": [
    "!pip install tensorflow==2.15 --quiet\n",
    "!pip install tensorflow-recommenders==0.7.3 --quiet"
   ]
  },
  {
   "cell_type": "markdown",
   "metadata": {},
   "source": [
    "\n",
    "## <span style=\"color:#ff5f27\">📝 Imports </span>\n"
   ]
  },
  {
   "cell_type": "code",
   "execution_count": 1,
   "metadata": {},
   "outputs": [
    {
     "name": "stderr",
     "output_type": "stream",
     "text": [
      "2025-04-01 23:26:02.576825: I tensorflow/core/util/port.cc:113] oneDNN custom operations are on. You may see slightly different numerical results due to floating-point round-off errors from different computation orders. To turn them off, set the environment variable `TF_ENABLE_ONEDNN_OPTS=0`.\n",
      "2025-04-01 23:26:02.640107: I external/local_tsl/tsl/cuda/cudart_stub.cc:31] Could not find cuda drivers on your machine, GPU will not be used.\n",
      "2025-04-01 23:26:03.166519: E external/local_xla/xla/stream_executor/cuda/cuda_dnn.cc:9261] Unable to register cuDNN factory: Attempting to register factory for plugin cuDNN when one has already been registered\n",
      "2025-04-01 23:26:03.166585: E external/local_xla/xla/stream_executor/cuda/cuda_fft.cc:607] Unable to register cuFFT factory: Attempting to register factory for plugin cuFFT when one has already been registered\n",
      "2025-04-01 23:26:03.241226: E external/local_xla/xla/stream_executor/cuda/cuda_blas.cc:1515] Unable to register cuBLAS factory: Attempting to register factory for plugin cuBLAS when one has already been registered\n",
      "2025-04-01 23:26:03.378991: I external/local_tsl/tsl/cuda/cudart_stub.cc:31] Could not find cuda drivers on your machine, GPU will not be used.\n",
      "2025-04-01 23:26:03.381631: I tensorflow/core/platform/cpu_feature_guard.cc:182] This TensorFlow binary is optimized to use available CPU instructions in performance-critical operations.\n",
      "To enable the following instructions: AVX2 AVX_VNNI FMA, in other operations, rebuild TensorFlow with the appropriate compiler flags.\n",
      "2025-04-01 23:26:05.098824: W tensorflow/compiler/tf2tensorrt/utils/py_utils.cc:38] TF-TRT Warning: Could not find TensorRT\n"
     ]
    }
   ],
   "source": [
    "import tensorflow as tf\n",
    "from tensorflow.keras.layers import StringLookup, Normalization\n",
    "import tensorflow_recommenders as tfrs\n",
    "import pandas as pd\n",
    "import numpy as np\n",
    "import hopsworks\n",
    "import warnings\n",
    "import re\n",
    "warnings.filterwarnings('ignore')"
   ]
  },
  {
   "cell_type": "markdown",
   "metadata": {},
   "source": [
    "## <span style=\"color:#ff5f27\">🔮 Connect to Hopsworks Feature Store </span>"
   ]
  },
  {
   "cell_type": "code",
   "execution_count": 2,
   "metadata": {},
   "outputs": [
    {
     "name": "stdout",
     "output_type": "stream",
     "text": [
      "2025-04-01 23:26:12,222 INFO: Initializing external client\n",
      "2025-04-01 23:26:12,224 INFO: Base URL: https://c.app.hopsworks.ai:443\n",
      "2025-04-01 23:26:14,102 INFO: Python Engine initialized.\n",
      "\n",
      "Logged in to project, explore it here https://c.app.hopsworks.ai:443/p/1220788\n"
     ]
    }
   ],
   "source": [
    "\n",
    "# Connect to Hopsworks Feature Store\n",
    "project = hopsworks.login()\n",
    "fs = project.get_feature_store()\n",
    "\n"
   ]
  },
  {
   "cell_type": "markdown",
   "metadata": {},
   "source": [
    "---"
   ]
  },
  {
   "cell_type": "markdown",
   "metadata": {},
   "source": [
    "## <span style=\"color:#ff5f27\">🔪 Feature Selection </span>\n"
   ]
  },
  {
   "cell_type": "code",
   "execution_count": 67,
   "metadata": {},
   "outputs": [],
   "source": [
    "import tensorflow as tf\n",
    "import pandas as pd\n",
    "\n",
    "# Load from Hopsworks feature groups\n",
    "users_fg = fs.get_feature_group(name=\"users\", version=1)\n",
    "events_fg = fs.get_feature_group(name=\"events\", version=1)\n",
    "interactions_fg = fs.get_feature_group(name=\"interactions\", version=1)\n"
   ]
  },
  {
   "cell_type": "code",
   "execution_count": 68,
   "metadata": {},
   "outputs": [],
   "source": [
    "\n",
    "# Define features for query and candidate towers (retrieval model only)\n",
    "QUERY_FEATURES = [\"user_id\", \"user_city\", \"age\", \"user_interests\"]\n",
    "CANDIDATE_FEATURES = [\"event_id\", \"event_type\", \"event_city\"]\n"
   ]
  },
  {
   "cell_type": "code",
   "execution_count": 69,
   "metadata": {},
   "outputs": [],
   "source": [
    "\n",
    "# Join user + event features with interactions\n",
    "selected_features = interactions_fg.select([\"interaction_id\"])\\\n",
    "    .join(users_fg.select(QUERY_FEATURES), on=\"user_id\")\\\n",
    "    .join(events_fg.select(CANDIDATE_FEATURES), on=\"event_id\")\n"
   ]
  },
  {
   "cell_type": "markdown",
   "metadata": {},
   "source": [
    "## <span style=\"color:#ff5f27\">⚙️ Feature View Creation </span>\n"
   ]
  },
  {
   "cell_type": "code",
   "execution_count": 70,
   "metadata": {},
   "outputs": [
    {
     "name": "stdout",
     "output_type": "stream",
     "text": [
      "Feature view created successfully, explore it at \n",
      "https://c.app.hopsworks.ai:443/p/1220788/fs/1208418/fv/event_retrieval_2/version/1\n"
     ]
    }
   ],
   "source": [
    "\n",
    "# Create feature view\n",
    "feature_view = fs.create_feature_view(\n",
    "    name='event_retrieval_2',\n",
    "    version=1,\n",
    "    query=selected_features,\n",
    ")\n"
   ]
  },
  {
   "cell_type": "markdown",
   "metadata": {},
   "source": [
    "## <span style=\"color:#ff5f27\">🏋️ Training Dataset </span>\n"
   ]
  },
  {
   "cell_type": "code",
   "execution_count": 71,
   "metadata": {},
   "outputs": [
    {
     "name": "stdout",
     "output_type": "stream",
     "text": [
      "Finished: Reading data from Hopsworks, using Hopsworks Feature Query Service (7.91s) \n"
     ]
    }
   ],
   "source": [
    "\n",
    "# Split dataset\n",
    "train_df, val_df, test_df, _, _, _ = feature_view.train_validation_test_split(\n",
    "    validation_size=0.1, \n",
    "    test_size=0.01,\n",
    "    description='Event retrieval dataset splits',\n",
    ")\n"
   ]
  },
  {
   "cell_type": "code",
   "execution_count": 72,
   "metadata": {},
   "outputs": [
    {
     "name": "stdout",
     "output_type": "stream",
     "text": [
      "✅ Training set size: 147551\n",
      "📌 Unique Users: 24971, Events: 15410\n"
     ]
    }
   ],
   "source": [
    "\n",
    "# Build tf.data.Dataset\n",
    "def df_to_ds(df):\n",
    "    return tf.data.Dataset.from_tensor_slices({col: df[col].values for col in df.columns})\n",
    "\n",
    "BATCH_SIZE = 1024\n",
    "train_ds = df_to_ds(train_df).batch(BATCH_SIZE).cache().shuffle(BATCH_SIZE * 10)\n",
    "val_ds = df_to_ds(val_df).batch(BATCH_SIZE).cache()\n",
    "\n",
    "# Prepare vocabulary lists for Lookup & Embedding layers\n",
    "user_id_list = train_df[\"user_id\"].unique().tolist()\n",
    "event_id_list = train_df[\"event_id\"].unique().tolist()\n",
    "user_city_list = train_df[\"user_city\"].unique().tolist()\n",
    "event_city_list = train_df[\"event_city\"].unique().tolist()\n",
    "event_type_list = train_df[\"event_type\"].unique().tolist()\n",
    "user_interest_list = train_df[\"user_interests\"].unique().tolist()\n",
    "\n",
    "# Print summary\n",
    "print(f\"✅ Training set size: {len(train_df)}\")\n",
    "print(f\"📌 Unique Users: {len(user_id_list)}, Events: {len(event_id_list)}\")\n"
   ]
  },
  {
   "cell_type": "markdown",
   "metadata": {},
   "source": [
    "## <span style=\"color:#ff5f27\">🏰 Two Tower Model </span>\n"
   ]
  },
  {
   "cell_type": "code",
   "execution_count": 97,
   "metadata": {},
   "outputs": [],
   "source": [
    "# Recreate your retrieval model in the structure you specified, using your naming conventions and architecture\n",
    "import tensorflow as tf\n",
    "import tensorflow_recommenders as tfrs\n",
    "from typing import Dict\n",
    "\n",
    "EMBED_DIM = 32\n",
    "BATCH_SIZE = 128\n",
    "\n",
    "\n",
    "# Query Tower\n",
    "class QueryTower(tf.keras.Model):\n",
    "    def __init__(self):\n",
    "        super().__init__()\n",
    "        self.emb_dim = EMBED_DIM\n",
    "\n",
    "        self.user_embedding = tf.keras.Sequential([\n",
    "            tf.keras.layers.StringLookup(vocabulary=user_id_list, mask_token=None),\n",
    "            tf.keras.layers.Embedding(len(user_id_list) + 1, self.emb_dim)\n",
    "        ])\n",
    "\n",
    "        self.normalized_age = tf.keras.layers.Normalization(axis=None)\n",
    "\n",
    "        self.city_tokenizer = tf.keras.layers.StringLookup(vocabulary=user_city_list, mask_token=None)\n",
    "\n",
    "        self.interest_vectorizer = tf.keras.layers.TextVectorization(output_mode=\"int\", max_tokens=100)\n",
    "        self.interest_embedding = tf.keras.layers.Embedding(input_dim=100, output_dim=self.emb_dim)\n",
    "\n",
    "        self.fnn = tf.keras.Sequential([\n",
    "            tf.keras.layers.Dense(128, activation=\"relu\"),\n",
    "            tf.keras.layers.Dropout(0.3),\n",
    "            tf.keras.layers.Dense(64, activation=\"relu\"),\n",
    "            tf.keras.layers.Dense(self.emb_dim)\n",
    "        ])\n",
    "\n",
    "    def call(self, inputs: Dict[str, tf.Tensor]) -> tf.Tensor:\n",
    "        city_embedding = tf.one_hot(self.city_tokenizer(inputs[\"user_city\"]), len(user_city_list))\n",
    "        interests_encoded = self.interest_vectorizer(inputs[\"user_interests\"])\n",
    "        interests_embedding = self.interest_embedding(interests_encoded)\n",
    "        pooled_interests = tf.reduce_mean(interests_embedding, axis=1)\n",
    "\n",
    "        combined = tf.concat([\n",
    "            self.user_embedding(inputs[\"user_id\"]),\n",
    "            tf.reshape(self.normalized_age(inputs[\"age\"]), (-1, 1)),\n",
    "            city_embedding,\n",
    "            pooled_interests\n",
    "        ], axis=1)\n",
    "\n",
    "        return self.fnn(combined)\n",
    "\n",
    "#query_model = QueryTower()\n",
    "\n",
    "# Item Tower\n",
    "class ItemTower(tf.keras.Model):\n",
    "    def __init__(self):\n",
    "        super().__init__()\n",
    "        self.emb_dim = EMBED_DIM\n",
    "\n",
    "        self.event_embedding = tf.keras.Sequential([\n",
    "            tf.keras.layers.StringLookup(vocabulary=event_id_list, mask_token=None),\n",
    "            tf.keras.layers.Embedding(len(event_id_list) + 1, self.emb_dim)\n",
    "        ])\n",
    "\n",
    "        self.type_tokenizer = tf.keras.layers.StringLookup(vocabulary=event_type_list, mask_token=None)\n",
    "        self.city_tokenizer = tf.keras.layers.StringLookup(vocabulary=event_city_list, mask_token=None)\n",
    "\n",
    "        self.fnn = tf.keras.Sequential([\n",
    "            tf.keras.layers.Dense(128, activation=\"relu\"),\n",
    "            tf.keras.layers.Dropout(0.3),\n",
    "            tf.keras.layers.Dense(64, activation=\"relu\"),\n",
    "            tf.keras.layers.Dense(self.emb_dim)\n",
    "        ])\n",
    "\n",
    "    def call(self, inputs: Dict[str, tf.Tensor]) -> tf.Tensor:\n",
    "        type_embedding = tf.one_hot(self.type_tokenizer(inputs[\"event_type\"]), len(event_type_list))\n",
    "        city_embedding = tf.one_hot(self.city_tokenizer(inputs[\"event_city\"]), len(event_city_list))\n",
    "\n",
    "        combined = tf.concat([\n",
    "            self.event_embedding(inputs[\"event_id\"]),\n",
    "            type_embedding,\n",
    "            city_embedding\n",
    "        ], axis=1)\n",
    "\n",
    "        return self.fnn(combined)\n",
    "\n",
    "\n",
    "# Final Two-Tower Model\n",
    "class TwoTowerModel(tf.keras.Model):\n",
    "    def __init__(self, query_model, item_model):\n",
    "        super().__init__()\n",
    "        self.query_model = query_model\n",
    "        self.item_model = item_model\n",
    "        self.task = tfrs.tasks.Retrieval(\n",
    "            metrics=tfrs.metrics.FactorizedTopK(\n",
    "                candidates=item_ds.batch(BATCH_SIZE).map(self.item_model)\n",
    "            )\n",
    "        )\n",
    "\n",
    "    def train_step(self, batch) -> tf.Tensor:\n",
    "        # Set up a gradient tape to record gradients.\n",
    "        with tf.GradientTape() as tape:\n",
    "\n",
    "            # Loss computation.\n",
    "            user_embeddings = self.query_model(batch)\n",
    "            item_embeddings = self.item_model(batch)\n",
    "            loss = self.task(\n",
    "                user_embeddings, \n",
    "                item_embeddings,\n",
    "                compute_metrics=False,\n",
    "            )\n",
    "\n",
    "            # Handle regularization losses as well.\n",
    "            regularization_loss = sum(self.losses)\n",
    "\n",
    "            total_loss = loss + regularization_loss\n",
    "\n",
    "        gradients = tape.gradient(total_loss, self.trainable_variables)\n",
    "        self.optimizer.apply_gradients(zip(gradients, self.trainable_variables))\n",
    "\n",
    "        metrics = {\n",
    "            \"loss\": loss,\n",
    "            \"regularization_loss\": regularization_loss,\n",
    "            \"total_loss\": total_loss\n",
    "        }\n",
    "\n",
    "        return metrics\n",
    "\n",
    "    def test_step(self, batch) -> tf.Tensor:\n",
    "        # Loss computation.\n",
    "        user_embeddings = self.query_model(batch)\n",
    "        item_embeddings = self.item_model(batch)\n",
    "\n",
    "        loss = self.task(\n",
    "            user_embeddings, \n",
    "            item_embeddings,\n",
    "            compute_metrics=True,\n",
    "        )\n",
    "\n",
    "        # Handle regularization losses as well.\n",
    "        regularization_loss = sum(self.losses)\n",
    "\n",
    "        total_loss = loss + regularization_loss\n",
    "\n",
    "        metrics = {metric.name: metric.result() for metric in self.metrics}\n",
    "        metrics[\"loss\"] = loss\n",
    "        metrics[\"regularization_loss\"] = regularization_loss\n",
    "        metrics[\"total_loss\"] = total_loss\n",
    "\n",
    "        return metrics"
   ]
  },
  {
   "cell_type": "code",
   "execution_count": 78,
   "metadata": {},
   "outputs": [
    {
     "data": {
      "text/plain": [
       "<tf.Tensor: shape=(1, 32), dtype=float32, numpy=\n",
       "array([[-0.1034378 ,  0.25307837, -0.02409855, -0.21434215, -0.20865884,\n",
       "         0.2825107 ,  0.08243534, -0.19080871,  0.03621292, -0.00299376,\n",
       "        -0.32388464, -0.01616943,  0.11034765,  0.12019622, -0.03785481,\n",
       "         0.03032874, -0.18802792, -0.03844262, -0.05466557,  0.14415693,\n",
       "         0.00334333, -0.3385182 ,  0.31133667, -0.10497378,  0.06360751,\n",
       "        -0.1534803 ,  0.08513546, -0.1893036 ,  0.05214433,  0.09868944,\n",
       "        -0.0189276 ,  0.04551537]], dtype=float32)>"
      ]
     },
     "execution_count": 78,
     "metadata": {},
     "output_type": "execute_result"
    }
   ],
   "source": [
    "item_model = ItemTower()\n",
    "\n",
    "item_df = train_df[CANDIDATE_FEATURES]\n",
    "item_df.drop_duplicates(subset=\"event_id\", inplace=True)\n",
    "item_ds = df_to_ds(item_df)\n",
    "\n",
    "item_model(next(iter(item_ds.batch(1))))"
   ]
  },
  {
   "cell_type": "code",
   "execution_count": 104,
   "metadata": {},
   "outputs": [
    {
     "data": {
      "text/plain": [
       "<tf.Tensor: shape=(1, 32), dtype=float32, numpy=\n",
       "array([[-0.09916928,  0.10376639,  0.17763008, -0.29964906,  0.02231292,\n",
       "        -0.07035173,  0.0673886 , -0.26655972,  0.02163243,  0.20003295,\n",
       "        -0.00768734, -0.19744526,  0.02012715, -0.16231075, -0.0051355 ,\n",
       "        -0.11004178, -0.0171076 , -0.05376303, -0.01016697,  0.02475424,\n",
       "         0.07592998, -0.10889281, -0.08541963,  0.08474737, -0.08551901,\n",
       "         0.05820473, -0.15599851, -0.11633031,  0.17841007, -0.19902197,\n",
       "         0.00108123, -0.07105935]], dtype=float32)>"
      ]
     },
     "execution_count": 104,
     "metadata": {},
     "output_type": "execute_result"
    }
   ],
   "source": [
    "query_model = QueryTower()\n",
    "\n",
    "query_model.normalized_age.adapt(train_ds.map(lambda x : x[\"age\"]))\n",
    "query_model.interest_vectorizer.adapt(train_ds.map(lambda x: x[\"user_interests\"]))\n",
    "# Initialize model with inputs.\n",
    "query_df = train_df[QUERY_FEATURES]\n",
    "query_ds = df_to_ds(query_df).batch(1)\n",
    "query_model(next(iter(query_ds)))"
   ]
  },
  {
   "cell_type": "code",
   "execution_count": 99,
   "metadata": {},
   "outputs": [
    {
     "name": "stdout",
     "output_type": "stream",
     "text": [
      "Epoch 1/10\n",
      "145/145 [==============================] - 13s 84ms/step - loss: 4767.0074 - regularization_loss: 0.0000e+00 - total_loss: 4767.0074 - val_factorized_top_k/top_1_categorical_accuracy: 0.0160 - val_factorized_top_k/top_5_categorical_accuracy: 0.0434 - val_factorized_top_k/top_10_categorical_accuracy: 0.0630 - val_factorized_top_k/top_50_categorical_accuracy: 0.1159 - val_factorized_top_k/top_100_categorical_accuracy: 0.2064 - val_loss: 2037.4012 - val_regularization_loss: 0.0000e+00 - val_total_loss: 2037.4012\n",
      "Epoch 2/10\n",
      "145/145 [==============================] - 14s 96ms/step - loss: 4724.0985 - regularization_loss: 0.0000e+00 - total_loss: 4724.0985 - val_factorized_top_k/top_1_categorical_accuracy: 0.0265 - val_factorized_top_k/top_5_categorical_accuracy: 0.0519 - val_factorized_top_k/top_10_categorical_accuracy: 0.0731 - val_factorized_top_k/top_50_categorical_accuracy: 0.1282 - val_factorized_top_k/top_100_categorical_accuracy: 0.2330 - val_loss: 2133.1765 - val_regularization_loss: 0.0000e+00 - val_total_loss: 2133.1765\n",
      "Epoch 3/10\n",
      "145/145 [==============================] - 15s 102ms/step - loss: 4726.1709 - regularization_loss: 0.0000e+00 - total_loss: 4726.1709 - val_factorized_top_k/top_1_categorical_accuracy: 0.0277 - val_factorized_top_k/top_5_categorical_accuracy: 0.0542 - val_factorized_top_k/top_10_categorical_accuracy: 0.0757 - val_factorized_top_k/top_50_categorical_accuracy: 0.1323 - val_factorized_top_k/top_100_categorical_accuracy: 0.2404 - val_loss: 2188.1670 - val_regularization_loss: 0.0000e+00 - val_total_loss: 2188.1670\n",
      "Epoch 4/10\n",
      "145/145 [==============================] - 14s 99ms/step - loss: 4731.1833 - regularization_loss: 0.0000e+00 - total_loss: 4731.1833 - val_factorized_top_k/top_1_categorical_accuracy: 0.0212 - val_factorized_top_k/top_5_categorical_accuracy: 0.0541 - val_factorized_top_k/top_10_categorical_accuracy: 0.0767 - val_factorized_top_k/top_50_categorical_accuracy: 0.1401 - val_factorized_top_k/top_100_categorical_accuracy: 0.2589 - val_loss: 2191.6768 - val_regularization_loss: 0.0000e+00 - val_total_loss: 2191.6768\n",
      "Epoch 5/10\n",
      "145/145 [==============================] - 15s 102ms/step - loss: 4721.9088 - regularization_loss: 0.0000e+00 - total_loss: 4721.9088 - val_factorized_top_k/top_1_categorical_accuracy: 0.0263 - val_factorized_top_k/top_5_categorical_accuracy: 0.0527 - val_factorized_top_k/top_10_categorical_accuracy: 0.0767 - val_factorized_top_k/top_50_categorical_accuracy: 0.1382 - val_factorized_top_k/top_100_categorical_accuracy: 0.2547 - val_loss: 2319.7466 - val_regularization_loss: 0.0000e+00 - val_total_loss: 2319.7466\n",
      "Epoch 6/10\n",
      "145/145 [==============================] - 13s 93ms/step - loss: 4720.3791 - regularization_loss: 0.0000e+00 - total_loss: 4720.3791 - val_factorized_top_k/top_1_categorical_accuracy: 0.0276 - val_factorized_top_k/top_5_categorical_accuracy: 0.0546 - val_factorized_top_k/top_10_categorical_accuracy: 0.0742 - val_factorized_top_k/top_50_categorical_accuracy: 0.1296 - val_factorized_top_k/top_100_categorical_accuracy: 0.2338 - val_loss: 2350.1497 - val_regularization_loss: 0.0000e+00 - val_total_loss: 2350.1497\n",
      "Epoch 7/10\n",
      "145/145 [==============================] - 14s 98ms/step - loss: 4712.0845 - regularization_loss: 0.0000e+00 - total_loss: 4712.0845 - val_factorized_top_k/top_1_categorical_accuracy: 0.0364 - val_factorized_top_k/top_5_categorical_accuracy: 0.0563 - val_factorized_top_k/top_10_categorical_accuracy: 0.0770 - val_factorized_top_k/top_50_categorical_accuracy: 0.1377 - val_factorized_top_k/top_100_categorical_accuracy: 0.2535 - val_loss: 2187.6755 - val_regularization_loss: 0.0000e+00 - val_total_loss: 2187.6755\n",
      "Epoch 8/10\n",
      "145/145 [==============================] - 13s 93ms/step - loss: 4702.4629 - regularization_loss: 0.0000e+00 - total_loss: 4702.4629 - val_factorized_top_k/top_1_categorical_accuracy: 0.0186 - val_factorized_top_k/top_5_categorical_accuracy: 0.0471 - val_factorized_top_k/top_10_categorical_accuracy: 0.0701 - val_factorized_top_k/top_50_categorical_accuracy: 0.1284 - val_factorized_top_k/top_100_categorical_accuracy: 0.2362 - val_loss: 2244.8357 - val_regularization_loss: 0.0000e+00 - val_total_loss: 2244.8357\n",
      "Epoch 9/10\n",
      "145/145 [==============================] - 14s 94ms/step - loss: 4701.7730 - regularization_loss: 0.0000e+00 - total_loss: 4701.7730 - val_factorized_top_k/top_1_categorical_accuracy: 0.0323 - val_factorized_top_k/top_5_categorical_accuracy: 0.0588 - val_factorized_top_k/top_10_categorical_accuracy: 0.0838 - val_factorized_top_k/top_50_categorical_accuracy: 0.1495 - val_factorized_top_k/top_100_categorical_accuracy: 0.2705 - val_loss: 2308.9094 - val_regularization_loss: 0.0000e+00 - val_total_loss: 2308.9094\n",
      "Epoch 10/10\n",
      "145/145 [==============================] - 14s 97ms/step - loss: 4691.1466 - regularization_loss: 0.0000e+00 - total_loss: 4691.1466 - val_factorized_top_k/top_1_categorical_accuracy: 0.0324 - val_factorized_top_k/top_5_categorical_accuracy: 0.0555 - val_factorized_top_k/top_10_categorical_accuracy: 0.0756 - val_factorized_top_k/top_50_categorical_accuracy: 0.1402 - val_factorized_top_k/top_100_categorical_accuracy: 0.2654 - val_loss: 2221.2852 - val_regularization_loss: 0.0000e+00 - val_total_loss: 2221.2852\n",
      "17/17 [==============================] - 8s 499ms/step - factorized_top_k/top_1_categorical_accuracy: 0.0324 - factorized_top_k/top_5_categorical_accuracy: 0.0555 - factorized_top_k/top_10_categorical_accuracy: 0.0756 - factorized_top_k/top_50_categorical_accuracy: 0.1402 - factorized_top_k/top_100_categorical_accuracy: 0.2654 - loss: 12899.4453 - regularization_loss: 0.0000e+00 - total_loss: 12899.4453\n",
      "\n",
      "Final Evaluation Metrics:\n",
      "factorized_top_k/top_1_categorical_accuracy: 0.0324\n",
      "factorized_top_k/top_5_categorical_accuracy: 0.0555\n",
      "factorized_top_k/top_10_categorical_accuracy: 0.0756\n",
      "factorized_top_k/top_50_categorical_accuracy: 0.1402\n",
      "factorized_top_k/top_100_categorical_accuracy: 0.2654\n",
      "loss: 2221.2852\n",
      "regularization_loss: 0.0000\n",
      "total_loss: 2221.2852\n"
     ]
    }
   ],
   "source": [
    "# Create a TwoTowerModel with the specified query_model and item_model\n",
    "model = TwoTowerModel(query_model, item_model)\n",
    "\n",
    "# Define an optimizer using AdamW with a learning rate of 0.01\n",
    "optimizer = tf.keras.optimizers.AdamW(\n",
    "    weight_decay=0.001, \n",
    "    learning_rate=0.01,\n",
    ")\n",
    "\n",
    "# Compile the model using the specified optimizer\n",
    "model.compile(optimizer=optimizer)\n",
    "\n",
    "# Train the model\n",
    "early_stop = EarlyStopping(\n",
    "    monitor=\"val_factorized_top_k/top_10_categorical_accuracy\",\n",
    "    mode=\"max\",\n",
    "    patience=10,\n",
    "    restore_best_weights=True\n",
    ")\n",
    "history = model.fit(train_ds, \n",
    "                    validation_data=val_ds,\n",
    "                    callbacks=[early_stop], \n",
    "                    epochs=10)\n",
    "\n",
    "# Evaluate final performance\n",
    "eval_results = model.evaluate(\n",
    "    val_ds,\n",
    "    return_dict=True\n",
    ")\n",
    "print(\"\\nFinal Evaluation Metrics:\")\n",
    "for metric, value in eval_results.items():\n",
    "    print(f\"{metric}: {value:.4f}\")"
   ]
  },
  {
   "cell_type": "code",
   "execution_count": 101,
   "metadata": {},
   "outputs": [
    {
     "data": {
      "image/png": "[encoded data removed]",
      "text/plain": [
       "<Figure size 1400x800 with 2 Axes>"
      ]
     },
     "metadata": {},
     "output_type": "display_data"
    }
   ],
   "source": [
    "import matplotlib.pyplot as plt\n",
    "\n",
    "\n",
    "# Plotting function\n",
    "def plot_metrics(history):\n",
    "    epochs = range(1, len(history[\"loss\"]) + 1)\n",
    "\n",
    "    plt.figure(figsize=(14, 8))\n",
    "\n",
    "    # Plot Loss\n",
    "    plt.subplot(2, 1, 1)\n",
    "    plt.plot(epochs, history[\"loss\"], label=\"Training Loss\")\n",
    "    plt.plot(epochs, history[\"val_loss\"], label=\"Validation Loss\")\n",
    "    plt.title(\"Loss over Epochs\")\n",
    "    plt.xlabel(\"Epochs\")\n",
    "    plt.ylabel(\"Loss\")\n",
    "    plt.legend()\n",
    "\n",
    "    # Plot Top-K Accuracies\n",
    "    plt.subplot(2, 1, 2)\n",
    "    for k in [1, 5, 10, 50, 100]:\n",
    "        metric = f\"val_factorized_top_k/top_{k}_categorical_accuracy\"\n",
    "        plt.plot(epochs, history[metric], label=f\"Top-{k} Accuracy\")\n",
    "\n",
    "    plt.title(\"Validation Top-K Accuracy over Epochs\")\n",
    "    plt.xlabel(\"Epochs\")\n",
    "    plt.ylabel(\"Accuracy\")\n",
    "    plt.legend()\n",
    "    plt.tight_layout()\n",
    "    plt.show()\n",
    "\n",
    "# Call the function to plot\n",
    "#plot_metrics(history)\n",
    "plot_metrics(history.history)\n"
   ]
  },
  {
   "cell_type": "code",
   "execution_count": 107,
   "metadata": {},
   "outputs": [],
   "source": [
    "\n",
    "\n",
    "# Connect to Hopsworks Model Registry\n",
    "mr = project.get_model_registry()\n",
    "\n",
    "# Create a wrapper module for the query model\n",
    "class QueryModelModule(tf.Module):\n",
    "    def __init__(self, query_model):\n",
    "        self.query_model = query_model\n",
    "\n",
    "    @tf.function()\n",
    "    def compute_emb(self, instances):\n",
    "        query_emb = self.query_model(instances)\n",
    "        return {\n",
    "            \"user_id\": instances[\"user_id\"],\n",
    "            \"user_city\": instances[\"user_city\"],\n",
    "            \"age\": instances[\"age\"],\n",
    "            \"user_interests\": instances[\"user_interests\"],\n",
    "            \"query_emb\": query_emb,\n",
    "        }\n",
    "\n",
    "# Wrap query_model\n",
    "query_model_module = QueryModelModule(model.query_model)\n"
   ]
  },
  {
   "cell_type": "code",
   "execution_count": 108,
   "metadata": {},
   "outputs": [
    {
     "name": "stdout",
     "output_type": "stream",
     "text": [
      "2025-04-02 23:22:28,105 INFO: Function `compute_emb` contains input name(s) instances, table_handle, 1943261, 1943271, resource with unsupported characters which will be renamed to instances_3, query_tower_42_sequential_195_string_lookup_268_none_lookup_lookuptablefindv2_table_handle, query_tower_42_embedding_164_embedding_lookup_1943261, query_tower_42_sequential_195_embedding_163_embedding_lookup_1943271, query_tower_42_sequential_196_dense_199_biasadd_readvariableop_resource in the SavedModel.\n",
      "INFO:tensorflow:Assets written to: query_model/assets\n",
      "2025-04-02 23:22:37,325 INFO: Assets written to: query_model/assets\n",
      "INFO:tensorflow:Assets written to: candidate_model/assets\n",
      "2025-04-02 23:22:40,597 INFO: Assets written to: candidate_model/assets\n"
     ]
    }
   ],
   "source": [
    "\n",
    "# Define input specifications\n",
    "instances_spec = {\n",
    "    'user_id': tf.TensorSpec(shape=(None,), dtype=tf.string),\n",
    "    'user_city': tf.TensorSpec(shape=(None,), dtype=tf.string),\n",
    "    'age': tf.TensorSpec(shape=(None,), dtype=tf.int64),\n",
    "    'user_interests': tf.TensorSpec(shape=(None,), dtype=tf.string),\n",
    "}\n",
    "\n",
    "# Get the concrete function\n",
    "signatures = query_model_module.compute_emb.get_concrete_function(instances_spec)\n",
    "\n",
    "# Save models to disk\n",
    "tf.saved_model.save(\n",
    "    query_model_module,\n",
    "    \"query_model\",\n",
    "    signatures=signatures,\n",
    ")\n",
    "\n",
    "tf.saved_model.save(\n",
    "    model.item_model,\n",
    "    \"candidate_model\"\n",
    ")\n"
   ]
  },
  {
   "cell_type": "code",
   "execution_count": 109,
   "metadata": {},
   "outputs": [],
   "source": [
    "\n",
    "# Create schemas for Hopsworks\n",
    "from hsml.schema import Schema\n",
    "from hsml.model_schema import ModelSchema\n",
    "\n",
    "# Query model schema\n",
    "query_df = train_df[[\"user_id\", \"user_city\", \"age\", \"user_interests\"]]\n",
    "query_model_input_schema = Schema(query_df)\n",
    "query_model_output_schema = Schema([{\n",
    "    \"name\": \"query_embedding\",\n",
    "    \"type\": \"float32\",\n",
    "    \"shape\": [EMBED_DIM],\n",
    "}])\n",
    "\n",
    "query_model_schema = ModelSchema(\n",
    "    input_schema=query_model_input_schema,\n",
    "    output_schema=query_model_output_schema,\n",
    ")\n",
    "\n",
    "# Sample for example\n",
    "query_example = query_df.sample().to_dict(\"records\")\n"
   ]
  },
  {
   "cell_type": "code",
   "execution_count": 110,
   "metadata": {},
   "outputs": [
    {
     "data": {
      "application/vnd.jupyter.widget-view+json": {
       "model_id": "200bd9f4d7d14a498affc461fba14d80",
       "version_major": 2,
       "version_minor": 0
      },
      "text/plain": [
       "  0%|          | 0/6 [00:00<?, ?it/s]"
      ]
     },
     "metadata": {},
     "output_type": "display_data"
    },
    {
     "data": {
      "application/vnd.jupyter.widget-view+json": {
       "model_id": "9284595bf24745c7b362f5b24caa9b67",
       "version_major": 2,
       "version_minor": 0
      },
      "text/plain": [
       "Uploading: 0.000%|          | 0/58 elapsed<00:00 remaining<?"
      ]
     },
     "metadata": {},
     "output_type": "display_data"
    },
    {
     "data": {
      "application/vnd.jupyter.widget-view+json": {
       "model_id": "8a4b05d4b7ec456a864d17175b14054a",
       "version_major": 2,
       "version_minor": 0
      },
      "text/plain": [
       "Uploading: 0.000%|          | 0/635554 elapsed<00:00 remaining<?"
      ]
     },
     "metadata": {},
     "output_type": "display_data"
    },
    {
     "data": {
      "application/vnd.jupyter.widget-view+json": {
       "model_id": "beae310850554fe2b8586bdd850c840b",
       "version_major": 2,
       "version_minor": 0
      },
      "text/plain": [
       "Uploading: 0.000%|          | 0/756 elapsed<00:00 remaining<?"
      ]
     },
     "metadata": {},
     "output_type": "display_data"
    },
    {
     "data": {
      "application/vnd.jupyter.widget-view+json": {
       "model_id": "1e1d138411984cc6a63030783953ff6c",
       "version_major": 2,
       "version_minor": 0
      },
      "text/plain": [
       "Uploading: 0.000%|          | 0/3230722 elapsed<00:00 remaining<?"
      ]
     },
     "metadata": {},
     "output_type": "display_data"
    },
    {
     "data": {
      "application/vnd.jupyter.widget-view+json": {
       "model_id": "95fa4b193ec24701ac8262509a7df6ee",
       "version_major": 2,
       "version_minor": 0
      },
      "text/plain": [
       "Uploading: 0.000%|          | 0/97 elapsed<00:00 remaining<?"
      ]
     },
     "metadata": {},
     "output_type": "display_data"
    },
    {
     "data": {
      "application/vnd.jupyter.widget-view+json": {
       "model_id": "969b4f527a694dd4a368d8d37b11878f",
       "version_major": 2,
       "version_minor": 0
      },
      "text/plain": [
       "Uploading: 0.000%|          | 0/494 elapsed<00:00 remaining<?"
      ]
     },
     "metadata": {},
     "output_type": "display_data"
    },
    {
     "name": "stdout",
     "output_type": "stream",
     "text": [
      "Model created, explore it at https://c.app.hopsworks.ai:443/p/1220788/models/query_model/1\n"
     ]
    }
   ],
   "source": [
    "\n",
    "# Create and save query model in registry\n",
    "mr_query_model = mr.tensorflow.create_model(\n",
    "    name=\"query_model\",\n",
    "    description=\"Model that generates query embeddings from user features for event recommendation\",\n",
    "    input_example=query_example,\n",
    "    model_schema=query_model_schema,\n",
    ")\n",
    "mr_query_model.save(\"query_model\")\n",
    "\n",
    "# Candidate model schema\n",
    "item_model_input_schema = Schema(item_df)\n",
    "item_model_output_schema = Schema([{\n",
    "    \"name\": \"candidate_embedding\",\n",
    "    \"type\": \"float32\",\n",
    "    \"shape\": [EMBED_DIM],\n",
    "}])\n",
    "\n",
    "candidate_model_schema = ModelSchema(\n",
    "    input_schema=item_model_input_schema,\n",
    "    output_schema=item_model_output_schema,\n",
    ")\n"
   ]
  },
  {
   "cell_type": "code",
   "execution_count": 111,
   "metadata": {},
   "outputs": [
    {
     "data": {
      "application/vnd.jupyter.widget-view+json": {
       "model_id": "b8330fce1de4495995c1194f7e395d52",
       "version_major": 2,
       "version_minor": 0
      },
      "text/plain": [
       "  0%|          | 0/6 [00:00<?, ?it/s]"
      ]
     },
     "metadata": {},
     "output_type": "display_data"
    },
    {
     "data": {
      "application/vnd.jupyter.widget-view+json": {
       "model_id": "99fed596418b40c690f7a8c17c46e7db",
       "version_major": 2,
       "version_minor": 0
      },
      "text/plain": [
       "Uploading: 0.000%|          | 0/58 elapsed<00:00 remaining<?"
      ]
     },
     "metadata": {},
     "output_type": "display_data"
    },
    {
     "data": {
      "application/vnd.jupyter.widget-view+json": {
       "model_id": "86213ac5acf742eaaa4f6bc11094b4a2",
       "version_major": 2,
       "version_minor": 0
      },
      "text/plain": [
       "Uploading: 0.000%|          | 0/349583 elapsed<00:00 remaining<?"
      ]
     },
     "metadata": {},
     "output_type": "display_data"
    },
    {
     "data": {
      "application/vnd.jupyter.widget-view+json": {
       "model_id": "edb82b0625ae4e64a87a4d94d856020a",
       "version_major": 2,
       "version_minor": 0
      },
      "text/plain": [
       "Uploading: 0.000%|          | 0/425 elapsed<00:00 remaining<?"
      ]
     },
     "metadata": {},
     "output_type": "display_data"
    },
    {
     "data": {
      "application/vnd.jupyter.widget-view+json": {
       "model_id": "bfa3a9039b8444759d220ad1a58eb1cc",
       "version_major": 2,
       "version_minor": 0
      },
      "text/plain": [
       "Uploading: 0.000%|          | 0/1989173 elapsed<00:00 remaining<?"
      ]
     },
     "metadata": {},
     "output_type": "display_data"
    },
    {
     "data": {
      "application/vnd.jupyter.widget-view+json": {
       "model_id": "49bcb20f1e704eaf9dd1015f22cce3a2",
       "version_major": 2,
       "version_minor": 0
      },
      "text/plain": [
       "Uploading: 0.000%|          | 0/79 elapsed<00:00 remaining<?"
      ]
     },
     "metadata": {},
     "output_type": "display_data"
    },
    {
     "data": {
      "application/vnd.jupyter.widget-view+json": {
       "model_id": "9ae1845456d94b438c7ed19473413e84",
       "version_major": 2,
       "version_minor": 0
      },
      "text/plain": [
       "Uploading: 0.000%|          | 0/432 elapsed<00:00 remaining<?"
      ]
     },
     "metadata": {},
     "output_type": "display_data"
    },
    {
     "name": "stdout",
     "output_type": "stream",
     "text": [
      "Model created, explore it at https://c.app.hopsworks.ai:443/p/1220788/models/candidate_model/1\n"
     ]
    },
    {
     "data": {
      "text/plain": [
       "Model(name: 'candidate_model', version: 1)"
      ]
     },
     "execution_count": 111,
     "metadata": {},
     "output_type": "execute_result"
    },
    {
     "ename": "",
     "evalue": "",
     "output_type": "error",
     "traceback": [
      "\u001b[1;31mThe Kernel crashed while executing code in the current cell or a previous cell. \n",
      "\u001b[1;31mPlease review the code in the cell(s) to identify a possible cause of the failure. \n",
      "\u001b[1;31mClick <a href='https://aka.ms/vscodeJupyterKernelCrash'>here</a> for more info. \n",
      "\u001b[1;31mView Jupyter <a href='command:jupyter.viewOutput'>log</a> for further details."
     ]
    }
   ],
   "source": [
    "\n",
    "# Sample for example\n",
    "candidate_example = item_df.sample().to_dict(\"records\")\n",
    "\n",
    "# Create and save candidate model in registry\n",
    "mr_candidate_model = mr.tensorflow.create_model(\n",
    "    name=\"candidate_model\",\n",
    "    description=\"Model that generates candidate embeddings from event features\",\n",
    "    input_example=candidate_example,\n",
    "    model_schema=candidate_model_schema,\n",
    ")\n",
    "mr_candidate_model.save(\"candidate_model\")\n"
   ]
  },
  {
   "cell_type": "code",
   "execution_count": null,
   "metadata": {},
   "outputs": [],
   "source": []
  },
  {
   "cell_type": "code",
   "execution_count": null,
   "metadata": {},
   "outputs": [],
   "source": []
  }
 ],
 "metadata": {
  "kernelspec": {
   "display_name": "thesisenv",
   "language": "python",
   "name": "python3"
  },
  "language_info": {
   "codemirror_mode": {
    "name": "ipython",
    "version": 3
   },
   "file_extension": ".py",
   "mimetype": "text/x-python",
   "name": "python",
   "nbconvert_exporter": "python",
   "pygments_lexer": "ipython3",
   "version": "3.10.6"
  }
 },
 "nbformat": 4,
 "nbformat_minor": 2
}
