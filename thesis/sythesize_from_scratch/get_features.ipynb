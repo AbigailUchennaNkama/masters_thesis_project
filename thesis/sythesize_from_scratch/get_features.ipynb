{
 "cells": [
  {
   "cell_type": "code",
   "execution_count": 2,
   "metadata": {},
   "outputs": [],
   "source": [
    "import hopsworks\n",
    "import pandas as pd\n",
    "import numpy as np\n",
    "import great_expectations as ge\n",
    "from datetime import datetime, timedelta\n",
    "from features.users import generate_users\n",
    "from features.events import generate_events\n",
    "from features.interactions import generate_interactions, augment_cold_start\n"
   ]
  },
  {
   "cell_type": "markdown",
   "metadata": {},
   "source": [
    "## <span style='color:#ff5f27'> ⚙️ Data Generation</span>\n"
   ]
  },
  {
   "cell_type": "markdown",
   "metadata": {},
   "source": [
    "---"
   ]
  },
  {
   "cell_type": "markdown",
   "metadata": {},
   "source": [
    "### <span style='color:#ff5f27'> 👥 Users Data Generation</span>"
   ]
  },
  {
   "cell_type": "code",
   "execution_count": 3,
   "metadata": {},
   "outputs": [
    {
     "name": "stdout",
     "output_type": "stream",
     "text": [
      "2025-03-26 17:30:37,720 INFO: Initializing external client\n",
      "2025-03-26 17:30:37,724 INFO: Base URL: https://c.app.hopsworks.ai:443\n",
      "2025-03-26 17:30:39,008 INFO: Python Engine initialized.\n",
      "\n",
      "Logged in to project, explore it here https://c.app.hopsworks.ai:443/p/1220788\n"
     ]
    }
   ],
   "source": [
    "# Login to Hopsworks\n",
    "project = hopsworks.login()\n",
    "fs = project.get_feature_store()\n"
   ]
  },
  {
   "cell_type": "code",
   "execution_count": 55,
   "metadata": {},
   "outputs": [
    {
     "name": "stdout",
     "output_type": "stream",
     "text": [
      "Generating user data...\n",
      "Done!\n"
     ]
    }
   ],
   "source": [
    "# Generate data\n",
    "print(\"Generating user data...\")\n",
    "num_users = 50000\n",
    "users = generate_users(num_users)\n",
    "users_df = pd.DataFrame(users)\n",
    "print(\"Done!\")"
   ]
  },
  {
   "cell_type": "code",
   "execution_count": 56,
   "metadata": {},
   "outputs": [
    {
     "name": "stdout",
     "output_type": "stream",
     "text": [
      "Generating event data...\n",
      "Done!\n"
     ]
    }
   ],
   "source": [
    "\n",
    "print(\"Generating event data...\")\n",
    "num_events = 20000\n",
    "events = generate_events(num_events)\n",
    "events_df = pd.DataFrame(events)\n",
    "print(\"Done!\")"
   ]
  },
  {
   "cell_type": "code",
   "execution_count": 57,
   "metadata": {},
   "outputs": [
    {
     "data": {
      "text/plain": [
       "20000"
      ]
     },
     "execution_count": 57,
     "metadata": {},
     "output_type": "execute_result"
    }
   ],
   "source": [
    "len(events_df)"
   ]
  },
  {
   "cell_type": "code",
   "execution_count": 60,
   "metadata": {},
   "outputs": [
    {
     "name": "stdout",
     "output_type": "stream",
     "text": [
      "Generating interaction data...\n",
      "Done!\n"
     ]
    }
   ],
   "source": [
    "\n",
    "print(\"Generating interaction data...\")\n",
    "num_interactions = 50000\n",
    "interactions = generate_interactions(users, events, num_interactions)\n",
    "interactions = augment_cold_start(users, events, interactions)\n",
    "interactions_df = pd.DataFrame(interactions)\n",
    "print(\"Done!\")\n"
   ]
  },
  {
   "cell_type": "code",
   "execution_count": 45,
   "metadata": {},
   "outputs": [],
   "source": [
    "events_df.to_csv(\"events_df.csv\")\n",
    "users_df.to_csv(\"users_df.csv\")\n",
    "interactions_df.to_csv(\"interactions_df.csv\")"
   ]
  },
  {
   "cell_type": "code",
   "execution_count": null,
   "metadata": {},
   "outputs": [],
   "source": [
    "import pandas as pd\n",
    "users_df = pd.read_csv(\"users_df.csv\").drop(columns=(['Unnamed: 0']))\n",
    "events_df = pd.read_csv(\"events_df.csv\").drop(columns=(['Unnamed: 0']))\n",
    "interactions_df = pd.read_csv(\"interactions_df.csv\").drop(columns=(['Unnamed: 0']))"
   ]
  },
  {
   "cell_type": "code",
   "execution_count": 46,
   "metadata": {},
   "outputs": [
    {
     "name": "stdout",
     "output_type": "stream",
     "text": [
      "Validating user data...\n",
      "Validating event data...\n",
      "Validating interaction data...\n"
     ]
    }
   ],
   "source": [
    "# Data validation with Great Expectations\n",
    "print(\"Validating user data...\")\n",
    "users_ge_df = ge.from_pandas(users_df)\n",
    "users_expectations = [\n",
    "    users_ge_df.expect_column_values_to_not_be_null(\"user_id\"),\n",
    "    users_ge_df.expect_column_values_to_be_between(\"age\", min_value=18, max_value=100),\n",
    "    users_ge_df.expect_column_values_to_be_in_set(\"weather_preference\", [\"indoor\", \"outdoor\", \"any\"]),\n",
    "    users_ge_df.expect_column_values_to_not_be_null(\"city\")\n",
    "]\n",
    "\n",
    "print(\"Validating event data...\")\n",
    "events_ge_df = ge.from_pandas(events_df)\n",
    "events_expectations = [\n",
    "    events_ge_df.expect_column_values_to_not_be_null(\"event_id\"),\n",
    "    events_ge_df.expect_column_values_to_not_be_null(\"title\"),\n",
    "    events_ge_df.expect_column_values_to_not_be_null(\"event_type\"),\n",
    "    events_ge_df.expect_column_values_to_be_in_set(\"weather_condition\", \n",
    "                                                 [\"Clear\", \"Rain\", \"Snow\", \"Cloudy\", \"Windy\"]),\n",
    "    events_ge_df.expect_column_values_to_be_between(\"historical_attendance_rate\", \n",
    "                                                  min_value=0, max_value=100)\n",
    "]\n",
    "\n",
    "print(\"Validating interaction data...\")\n",
    "interactions_ge_df = ge.from_pandas(interactions_df)\n",
    "interactions_expectations = [\n",
    "    interactions_ge_df.expect_column_values_to_not_be_null(\"interaction_id\"),\n",
    "    interactions_ge_df.expect_column_values_to_not_be_null(\"user_id\"),\n",
    "    interactions_ge_df.expect_column_values_to_not_be_null(\"event_id\"),\n",
    "    interactions_ge_df.expect_column_values_to_be_in_set(\"interaction_type\", \n",
    "                                                       [\"maybe\", \"invited & maybe\", \"no\", \"yes\", \n",
    "                                                        \"invited & yes\", \"invited & no\", \"invited\"])\n",
    "]\n"
   ]
  },
  {
   "cell_type": "code",
   "execution_count": 47,
   "metadata": {},
   "outputs": [
    {
     "name": "stdout",
     "output_type": "stream",
     "text": [
      "All data validations passed!\n"
     ]
    }
   ],
   "source": [
    "# Check if all expectations passed\n",
    "all_passed = True\n",
    "for expectation_list in [users_expectations, events_expectations, interactions_expectations]:\n",
    "    for expectation in expectation_list:\n",
    "        if not expectation.success:\n",
    "            print(f\"Failed expectation: {expectation}\")\n",
    "            all_passed = False\n",
    "\n",
    "if not all_passed:\n",
    "    print(\"Data validation failed. Please check the data generation process.\")\n",
    "    # You might want to exit here in a production environment\n",
    "else:\n",
    "    print(\"All data validations passed!\")\n"
   ]
  },
  {
   "cell_type": "markdown",
   "metadata": {},
   "source": [
    "## <span style=\"color:#ff5f27\">🔮 Connect to Hopsworks Feature Store </span>"
   ]
  },
  {
   "cell_type": "code",
   "execution_count": 48,
   "metadata": {},
   "outputs": [
    {
     "name": "stdout",
     "output_type": "stream",
     "text": [
      "Creating feature groups...\n",
      "Feature Group created successfully, explore it at \n",
      "https://c.app.hopsworks.ai:443/p/1220788/fs/1208418/fg/1420950\n"
     ]
    },
    {
     "name": "stderr",
     "output_type": "stream",
     "text": [
      "Uploading Dataframe: 100.00% |██████████| Rows 50000/50000 | Elapsed Time: 00:05 | Remaining Time: 00:00\n"
     ]
    },
    {
     "name": "stdout",
     "output_type": "stream",
     "text": [
      "Launching job: users_1_offline_fg_materialization\n",
      "Job started successfully, you can follow the progress at \n",
      "https://c.app.hopsworks.ai:443/p/1220788/jobs/named/users_1_offline_fg_materialization/executions\n",
      "Done ✅\n"
     ]
    }
   ],
   "source": [
    "# Create feature groups\n",
    "print(\"Creating feature groups...\")\n",
    "users_fg = fs.get_or_create_feature_group(\n",
    "    name=\"users\",\n",
    "    version=1,\n",
    "    primary_key=[\"user_id\"],\n",
    "    online_enabled=True,\n",
    "    description=\"User features for weather-based event recommendation\"\n",
    ")\n",
    "\n",
    "users_fg.insert(users_df)\n",
    "print('Done ✅')"
   ]
  },
  {
   "cell_type": "code",
   "execution_count": 49,
   "metadata": {},
   "outputs": [
    {
     "name": "stdout",
     "output_type": "stream",
     "text": [
      "Feature Group created successfully, explore it at \n",
      "https://c.app.hopsworks.ai:443/p/1220788/fs/1208418/fg/1420951\n"
     ]
    },
    {
     "name": "stderr",
     "output_type": "stream",
     "text": [
      "Uploading Dataframe: 100.00% |██████████| Rows 20000/20000 | Elapsed Time: 00:03 | Remaining Time: 00:00\n"
     ]
    },
    {
     "name": "stdout",
     "output_type": "stream",
     "text": [
      "Launching job: events_1_offline_fg_materialization\n",
      "Job started successfully, you can follow the progress at \n",
      "https://c.app.hopsworks.ai:443/p/1220788/jobs/named/events_1_offline_fg_materialization/executions\n",
      "Done ✅\n"
     ]
    }
   ],
   "source": [
    "\n",
    "events_fg = fs.get_or_create_feature_group(\n",
    "    name=\"events\",\n",
    "    version=1,\n",
    "    primary_key=[\"event_id\"],\n",
    "    online_enabled=True,\n",
    "    description=\"Event features for weather-based event recommendation\"\n",
    ")\n",
    "\n",
    "events_fg.insert(events_df)\n",
    "print('Done ✅')\n"
   ]
  },
  {
   "cell_type": "code",
   "execution_count": 34,
   "metadata": {},
   "outputs": [
    {
     "data": {
      "text/html": [
       "<div>\n",
       "<style scoped>\n",
       "    .dataframe tbody tr th:only-of-type {\n",
       "        vertical-align: middle;\n",
       "    }\n",
       "\n",
       "    .dataframe tbody tr th {\n",
       "        vertical-align: top;\n",
       "    }\n",
       "\n",
       "    .dataframe thead th {\n",
       "        text-align: right;\n",
       "    }\n",
       "</style>\n",
       "<table border=\"1\" class=\"dataframe\">\n",
       "  <thead>\n",
       "    <tr style=\"text-align: right;\">\n",
       "      <th></th>\n",
       "      <th>user_id</th>\n",
       "      <th>location_lat</th>\n",
       "      <th>location_lon</th>\n",
       "      <th>city</th>\n",
       "      <th>weather_preference</th>\n",
       "      <th>age</th>\n",
       "      <th>declared_interests</th>\n",
       "      <th>signup_date</th>\n",
       "      <th>social_connectedness</th>\n",
       "    </tr>\n",
       "  </thead>\n",
       "  <tbody>\n",
       "    <tr>\n",
       "      <th>0</th>\n",
       "      <td>1853c24c-a59f-467a-ad8c-7de6e7a156a1</td>\n",
       "      <td>51.437964</td>\n",
       "      <td>-0.101358</td>\n",
       "      <td>London</td>\n",
       "      <td>indoor</td>\n",
       "      <td>39</td>\n",
       "      <td>[]</td>\n",
       "      <td>2023-12-28 13:22:26.336165</td>\n",
       "      <td>10</td>\n",
       "    </tr>\n",
       "    <tr>\n",
       "      <th>1</th>\n",
       "      <td>aa577974-0b43-456b-b8f3-7f4b74559047</td>\n",
       "      <td>51.462640</td>\n",
       "      <td>-0.089395</td>\n",
       "      <td>London</td>\n",
       "      <td>indoor</td>\n",
       "      <td>33</td>\n",
       "      <td>[]</td>\n",
       "      <td>2023-10-07 19:56:55.761947</td>\n",
       "      <td>15</td>\n",
       "    </tr>\n",
       "  </tbody>\n",
       "</table>\n",
       "</div>"
      ],
      "text/plain": [
       "                                user_id  location_lat  location_lon    city  \\\n",
       "0  1853c24c-a59f-467a-ad8c-7de6e7a156a1     51.437964     -0.101358  London   \n",
       "1  aa577974-0b43-456b-b8f3-7f4b74559047     51.462640     -0.089395  London   \n",
       "\n",
       "  weather_preference  age declared_interests                 signup_date  \\\n",
       "0             indoor   39                 []  2023-12-28 13:22:26.336165   \n",
       "1             indoor   33                 []  2023-10-07 19:56:55.761947   \n",
       "\n",
       "   social_connectedness  \n",
       "0                    10  \n",
       "1                    15  "
      ]
     },
     "execution_count": 34,
     "metadata": {},
     "output_type": "execute_result"
    }
   ],
   "source": [
    "users_df.head(2)"
   ]
  },
  {
   "cell_type": "code",
   "execution_count": 2,
   "metadata": {},
   "outputs": [
    {
     "ename": "NameError",
     "evalue": "name 'pd' is not defined",
     "output_type": "error",
     "traceback": [
      "\u001b[0;31m---------------------------------------------------------------------------\u001b[0m",
      "\u001b[0;31mNameError\u001b[0m                                 Traceback (most recent call last)",
      "Cell \u001b[0;32mIn[2], line 1\u001b[0m\n\u001b[0;32m----> 1\u001b[0m events_interactions_df \u001b[38;5;241m=\u001b[39m \u001b[43mpd\u001b[49m\u001b[38;5;241m.\u001b[39mmerge(\n\u001b[1;32m      2\u001b[0m     interactions_df, \n\u001b[1;32m      3\u001b[0m     events_df, \n\u001b[1;32m      4\u001b[0m     on\u001b[38;5;241m=\u001b[39m\u001b[38;5;124m'\u001b[39m\u001b[38;5;124mevent_id\u001b[39m\u001b[38;5;124m'\u001b[39m, \n\u001b[1;32m      5\u001b[0m     how\u001b[38;5;241m=\u001b[39m\u001b[38;5;124m'\u001b[39m\u001b[38;5;124minner\u001b[39m\u001b[38;5;124m'\u001b[39m,\n\u001b[1;32m      6\u001b[0m     suffixes\u001b[38;5;241m=\u001b[39m(\u001b[38;5;124m'\u001b[39m\u001b[38;5;124m'\u001b[39m, \u001b[38;5;124m'\u001b[39m\u001b[38;5;124m_event\u001b[39m\u001b[38;5;124m'\u001b[39m)  \u001b[38;5;66;03m# Add suffix for event columns\u001b[39;00m\n\u001b[1;32m      7\u001b[0m )\n\u001b[1;32m      9\u001b[0m ranking_df \u001b[38;5;241m=\u001b[39m pd\u001b[38;5;241m.\u001b[39mmerge(\n\u001b[1;32m     10\u001b[0m     events_interactions_df, \n\u001b[1;32m     11\u001b[0m     users_df, \n\u001b[0;32m   (...)\u001b[0m\n\u001b[1;32m     14\u001b[0m     suffixes\u001b[38;5;241m=\u001b[39m(\u001b[38;5;124m'\u001b[39m\u001b[38;5;124m'\u001b[39m, \u001b[38;5;124m'\u001b[39m\u001b[38;5;124m_user\u001b[39m\u001b[38;5;124m'\u001b[39m)  \u001b[38;5;66;03m# Add suffix for user columns\u001b[39;00m\n\u001b[1;32m     15\u001b[0m )\n\u001b[1;32m     16\u001b[0m ranking_df\u001b[38;5;241m.\u001b[39mhead(\u001b[38;5;241m2\u001b[39m)\n",
      "\u001b[0;31mNameError\u001b[0m: name 'pd' is not defined"
     ]
    }
   ],
   "source": [
    "\n",
    "events_interactions_df = pd.merge(\n",
    "    interactions_df, \n",
    "    events_df, \n",
    "    on='event_id', \n",
    "    how='inner',\n",
    "    suffixes=('', '_event')  # Add suffix for event columns\n",
    ")\n",
    "\n",
    "ranking_df = pd.merge(\n",
    "    events_interactions_df, \n",
    "    users_df, \n",
    "    on='user_id', \n",
    "    how='inner',\n",
    "    suffixes=('', '_user')  # Add suffix for user columns\n",
    ")\n",
    "ranking_df.head(2)"
   ]
  },
  {
   "cell_type": "code",
   "execution_count": 1,
   "metadata": {},
   "outputs": [
    {
     "ename": "NameError",
     "evalue": "name 'ranking_df' is not defined",
     "output_type": "error",
     "traceback": [
      "\u001b[0;31m---------------------------------------------------------------------------\u001b[0m",
      "\u001b[0;31mNameError\u001b[0m                                 Traceback (most recent call last)",
      "Cell \u001b[0;32mIn[1], line 1\u001b[0m\n\u001b[0;32m----> 1\u001b[0m \u001b[43mranking_df\u001b[49m\u001b[38;5;241m.\u001b[39mcolumns\n",
      "\u001b[0;31mNameError\u001b[0m: name 'ranking_df' is not defined"
     ]
    }
   ],
   "source": [
    "ranking_df.columns"
   ]
  },
  {
   "cell_type": "code",
   "execution_count": null,
   "metadata": {},
   "outputs": [],
   "source": [
    "\n",
    "interactions_fg = fs.get_or_create_feature_group(\n",
    "    name=\"interactions\",\n",
    "    version=1,\n",
    "    primary_key=[\"interaction_id\", \"user_id\", \"event_id\"],\n",
    "    online_enabled=True,\n",
    "    description=\"User-event interactions for weather-based event recommendation\"\n",
    ")\n",
    "\n",
    "interactions_fg.insert(interactions_df)\n",
    "print('Done ✅')"
   ]
  },
  {
   "cell_type": "code",
   "execution_count": null,
   "metadata": {},
   "outputs": [],
   "source": [
    "# Create Ranking Feature group\n",
    "events_interactions_df = pd.merge(\n",
    "    interactions_df, \n",
    "    events_df, \n",
    "    on='event_id', \n",
    "    how='inner',\n",
    "    suffixes=('', '_event')  # Add suffix for event columns\n",
    ")\n",
    "\n",
    "ranking_df = pd.merge(\n",
    "    events_interactions_df, \n",
    "    users_df, \n",
    "    on='user_id', \n",
    "    how='inner',\n",
    "    suffixes=('', '_user')  # Add suffix for user columns\n",
    ")\n",
    "\n",
    "ranking_df['label'] = ranking_df['interaction_type'].apply(\n",
    "    lambda x: 1 if x in ['maybe', 'invited & maybe', 'yes', 'invited & yes'] else 0\n",
    ")\n",
    "\n",
    "ranking_df_with_weather = ranking_df.drop(\n",
    "    ['interaction_id', 'interaction_type','interaction_time',\\\n",
    "     'start_time', 'signup_date','social_connectedness'], \n",
    "    axis=1, \n",
    "    inplace=True,\n",
    ")\n",
    "\n",
    "ranking_fg_weather = fs.get_or_create_feature_group(\n",
    "    name=\"ranking-with-weather\",\n",
    "    description=\"Ranking Data with weather conditions.\",\n",
    "    version=1,\n",
    "    primary_key=[\"user_id\", \"video_id\"],\n",
    "    online_enabled=True,\n",
    ")\n",
    "\n",
    "ranking_fg_weather.insert(ranking_df_with_weather)\n",
    "print('Done ✅')\n",
    "\n",
    "# create ranking data without weather information\n",
    "ranking_df_without_weather = ranking_df.drop(['interaction_id', 'interaction_type',\n",
    "       'interaction_time', 'start_time','weather_condition',\n",
    "       'temperature', 'weather_preference',\n",
    "       'signup_date', 'social_connectedness'])\n",
    "\n",
    "ranking_fg_without_weather = fs.get_or_create_feature_group(\n",
    "    name=\"ranking-without-weather\",\n",
    "    description=\"Ranking Data without weather conditions.\",\n",
    "    version=1,\n",
    "    primary_key=[\"user_id\", \"video_id\"],\n",
    "    online_enabled=True,\n",
    ")\n",
    "\n",
    "ranking_fg_without_weather.insert(ranking_df_without_weather)\n",
    "print('Done ✅')\n",
    "\n",
    "print(\"Feature backfill\")"
   ]
  },
  {
   "cell_type": "code",
   "execution_count": null,
   "metadata": {},
   "outputs": [],
   "source": [
    "# Add ranking features\n",
    "print(\"Creating ranking features...\")\n",
    "ranking_df = interactions_df.copy()\n",
    "\n",
    "# Add label column (1 for positive interactions, 0 for negative)\n",
    "ranking_df['label'] = ranking_df['interaction_type'].apply(\n",
    "    lambda x: 1 if x in ['yes', 'invited & yes'] else 0\n",
    ")\n",
    "\n",
    "# Add weather match feature\n",
    "weather_match_df = pd.merge(\n",
    "    ranking_df, \n",
    "    users_df[['user_id', 'event_type_preference']], \n",
    "    on='user_id'\n",
    ")\n",
    "weather_match_df = pd.merge(\n",
    "    weather_match_df, \n",
    "    events_df[['event_id', 'weather_condition', 'indoor_capability']], \n",
    "    on='event_id'\n",
    ")\n",
    "\n",
    "# Define weather match logic\n",
    "def calculate_weather_match(row):\n",
    "    if row['event_type_preference'] == 'any':\n",
    "        return 1.0\n",
    "    elif row['event_type_preference'] == 'indoor' and row['indoor_capability']:\n",
    "        return 1.0\n",
    "    elif row['event_type_preference'] == 'outdoor' and row['weather_condition'] in ['Clear', 'Cloudy']:\n",
    "        return 1.0\n",
    "    elif row['event_type_preference'] == 'indoor' and row['weather_condition'] in ['Rain', 'Snow']:\n",
    "        return 0.8\n",
    "    else:\n",
    "        return 0.5\n",
    "\n",
    "weather_match_df['weather_match_score'] = weather_match_df.apply(calculate_weather_match, axis=1)\n",
    "ranking_df = pd.merge(\n",
    "    ranking_df, \n",
    "    weather_match_df[['interaction_id', 'weather_match_score']], \n",
    "    on='interaction_id'\n",
    ")\n",
    "\n",
    "# Add distance bin feature\n",
    "def distance_to_bin(distance):\n",
    "    if distance < 1:\n",
    "        return 'very_close'\n",
    "    elif distance < 5:\n",
    "        return 'close'\n",
    "    elif distance < 15:\n",
    "        return 'moderate'\n",
    "    elif distance < 50:\n",
    "        return 'far'\n",
    "    else:\n",
    "        return 'very_far'\n",
    "\n",
    "ranking_df['distance_bin'] = ranking_df['distance_to_event'].apply(distance_to_bin)\n",
    "\n",
    "# Create ranking feature group\n",
    "ranking_fg = fs.get_or_create_feature_group(\n",
    "    name=\"ranking_features\",\n",
    "    version=1,\n",
    "    primary_key=[\"interaction_id\"],\n",
    "    description=\"Features for training the ranking model\"\n",
    ")\n",
    "\n",
    "# Insert data into feature groups\n",
    "print(\"Inserting data into feature groups...\")\n",
    "users_fg.insert(users_df)\n",
    "events_fg.insert(events_df)\n",
    "interactions_fg.insert(interactions_df)\n",
    "ranking_fg.insert(ranking_df)\n",
    "\n",
    "# Create feature views\n",
    "print(\"Creating feature views...\")\n",
    "\n",
    "# Feature view for retrieval model (two-tower model)\n",
    "retrieval_view = fs.get_or_create_feature_view(\n",
    "    name=\"event_retrieval\",\n",
    "    version=1,\n",
    "    description=\"Feature view for event retrieval model\",\n",
    "    query=interactions_fg.select([\"interaction_id\", \"user_id\", \"event_id\"])\n",
    "        .join(users_fg.select([\"user_id\", \"location_lat\", \"location_lon\", \"city\", \n",
    "                              \"weather_preference\", \"age\", \"declared_interests\",\n",
    "                              \"social_connectedness\"]), on=\"user_id\")\n",
    "        .join(events_fg.select([\"event_id\", \"title\", \"event_type\", \"location_lat\", \n",
    "                               \"location_lon\", \"city\", \"start_time\", \"duration\",\n",
    "                               \"weather_condition\", \"indoor_capability\"]), on=\"event_id\")\n",
    ")\n",
    "\n",
    "# Feature view for ranking model\n",
    "ranking_view = fs.get_or_create_feature_view(\n",
    "    name=\"event_ranking\",\n",
    "    version=1,\n",
    "    description=\"Feature view for event ranking model\",\n",
    "    query=ranking_fg.select_all()\n",
    ")\n",
    "\n",
    "# Feature view for recommendations (combines all features)\n",
    "recommendation_view = fs.get_or_create_feature_view(\n",
    "    name=\"event_recommendations\",\n",
    "    version=1,\n",
    "    description=\"Feature view for complete event recommendations\",\n",
    "    query=interactions_fg.select_all()\n",
    "        .join(users_fg.select_all(), on=\"user_id\")\n",
    "        .join(events_fg.select_all(), on=\"event_id\")\n",
    ")\n",
    "\n",
    "print(\"Feature backfill completed successfully!\")\n",
    "\n",
    "# Print some statistics\n",
    "print(f\"Total users: {len(users_df)}\")\n",
    "print(f\"Total events: {len(events_df)}\")\n",
    "print(f\"Total interactions: {len(interactions_df)}\")\n",
    "print(f\"Positive interactions: {ranking_df['label'].sum()}\")\n",
    "print(f\"Negative interactions: {len(ranking_df) - ranking_df['label'].sum()}\")\n"
   ]
  }
 ],
 "metadata": {
  "kernelspec": {
   "display_name": "thesisenv",
   "language": "python",
   "name": "python3"
  },
  "language_info": {
   "codemirror_mode": {
    "name": "ipython",
    "version": 3
   },
   "file_extension": ".py",
   "mimetype": "text/x-python",
   "name": "python",
   "nbconvert_exporter": "python",
   "pygments_lexer": "ipython3",
   "version": "3.10.6"
  }
 },
 "nbformat": 4,
 "nbformat_minor": 2
}
