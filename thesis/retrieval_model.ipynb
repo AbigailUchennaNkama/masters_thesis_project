{
 "cells": [
  {
   "cell_type": "markdown",
   "metadata": {},
   "source": [
    "## <span style=\"color:#ff5f27\">🧬 Train Retrieval Model </span>\n"
   ]
  },
  {
   "cell_type": "markdown",
   "metadata": {},
   "source": [
    "\n",
    "## <span style=\"color:#ff5f27\">📝 Imports </span>\n"
   ]
  },
  {
   "cell_type": "code",
   "execution_count": 2,
   "metadata": {},
   "outputs": [
    {
     "name": "stderr",
     "output_type": "stream",
     "text": [
      "2025-04-28 23:07:51.909084: I tensorflow/core/util/port.cc:113] oneDNN custom operations are on. You may see slightly different numerical results due to floating-point round-off errors from different computation orders. To turn them off, set the environment variable `TF_ENABLE_ONEDNN_OPTS=0`.\n",
      "2025-04-28 23:07:51.973145: I external/local_tsl/tsl/cuda/cudart_stub.cc:31] Could not find cuda drivers on your machine, GPU will not be used.\n",
      "2025-04-28 23:07:52.380552: E external/local_xla/xla/stream_executor/cuda/cuda_dnn.cc:9261] Unable to register cuDNN factory: Attempting to register factory for plugin cuDNN when one has already been registered\n",
      "2025-04-28 23:07:52.380672: E external/local_xla/xla/stream_executor/cuda/cuda_fft.cc:607] Unable to register cuFFT factory: Attempting to register factory for plugin cuFFT when one has already been registered\n",
      "2025-04-28 23:07:52.482797: E external/local_xla/xla/stream_executor/cuda/cuda_blas.cc:1515] Unable to register cuBLAS factory: Attempting to register factory for plugin cuBLAS when one has already been registered\n",
      "2025-04-28 23:07:52.695231: I external/local_tsl/tsl/cuda/cudart_stub.cc:31] Could not find cuda drivers on your machine, GPU will not be used.\n",
      "2025-04-28 23:07:52.699400: I tensorflow/core/platform/cpu_feature_guard.cc:182] This TensorFlow binary is optimized to use available CPU instructions in performance-critical operations.\n",
      "To enable the following instructions: AVX2 AVX_VNNI FMA, in other operations, rebuild TensorFlow with the appropriate compiler flags.\n",
      "2025-04-28 23:07:55.493526: W tensorflow/compiler/tf2tensorrt/utils/py_utils.cc:38] TF-TRT Warning: Could not find TensorRT\n"
     ]
    }
   ],
   "source": [
    "import tensorflow as tf\n",
    "from tensorflow.keras.layers import StringLookup, Normalization\n",
    "import tensorflow_recommenders as tfrs\n",
    "import pandas as pd\n",
    "import numpy as np\n",
    "import hopsworks\n",
    "import warnings\n",
    "import re\n",
    "warnings.filterwarnings('ignore')"
   ]
  },
  {
   "cell_type": "markdown",
   "metadata": {},
   "source": [
    "## <span style=\"color:#ff5f27\">🔮 Connect to Hopsworks Feature Store </span>"
   ]
  },
  {
   "cell_type": "code",
   "execution_count": 3,
   "metadata": {},
   "outputs": [
    {
     "name": "stdout",
     "output_type": "stream",
     "text": [
      "2025-04-28 23:08:05,692 INFO: Initializing external client\n",
      "2025-04-28 23:08:05,693 INFO: Base URL: https://c.app.hopsworks.ai:443\n"
     ]
    },
    {
     "name": "stderr",
     "output_type": "stream",
     "text": [
      "\n",
      "\n"
     ]
    },
    {
     "name": "stdout",
     "output_type": "stream",
     "text": [
      "2025-04-28 23:08:07,533 INFO: Python Engine initialized.\n",
      "\n",
      "Logged in to project, explore it here https://c.app.hopsworks.ai:443/p/1220788\n"
     ]
    }
   ],
   "source": [
    "\n",
    "# Connect to Hopsworks Feature Store\n",
    "project = hopsworks.login()\n",
    "fs = project.get_feature_store()\n",
    "\n"
   ]
  },
  {
   "cell_type": "markdown",
   "metadata": {},
   "source": [
    "---"
   ]
  },
  {
   "cell_type": "markdown",
   "metadata": {},
   "source": [
    "## <span style=\"color:#ff5f27\">🔪 Feature Selection </span>\n"
   ]
  },
  {
   "cell_type": "code",
   "execution_count": 4,
   "metadata": {},
   "outputs": [],
   "source": [
    "import tensorflow as tf\n",
    "import pandas as pd\n",
    "\n",
    "# Load from Hopsworks feature groups\n",
    "users_fg = fs.get_feature_group(name=\"users\", version=1)\n",
    "events_fg = fs.get_feature_group(name=\"events\", version=1)\n",
    "interactions_fg = fs.get_feature_group(name=\"interactions\", version=1)\n"
   ]
  },
  {
   "cell_type": "code",
   "execution_count": 5,
   "metadata": {},
   "outputs": [],
   "source": [
    "\n",
    "# Define features for query and candidate towers (retrieval model only)\n",
    "QUERY_FEATURES = [\"user_id\", \"user_city\", \"age\", \"user_interests\"]\n",
    "CANDIDATE_FEATURES = [\"event_id\", \"event_type\", \"event_city\"]\n"
   ]
  },
  {
   "cell_type": "code",
   "execution_count": 5,
   "metadata": {},
   "outputs": [],
   "source": [
    "\n",
    "# Join user + event features with interactions\n",
    "selected_features = interactions_fg.select([\"interaction_id\"])\\\n",
    "    .join(users_fg.select(QUERY_FEATURES), on=\"user_id\")\\\n",
    "    .join(events_fg.select(CANDIDATE_FEATURES), on=\"event_id\")\n"
   ]
  },
  {
   "cell_type": "markdown",
   "metadata": {},
   "source": [
    "## <span style=\"color:#ff5f27\">⚙️ Feature View Creation </span>\n"
   ]
  },
  {
   "cell_type": "code",
   "execution_count": null,
   "metadata": {},
   "outputs": [],
   "source": [
    "\n",
    "# Create feature view\n",
    "feature_view = fs.create_feature_view(\n",
    "    name='event_retrieval_2',\n",
    "    version=1,\n",
    "    query=selected_features,\n",
    ")\n"
   ]
  },
  {
   "cell_type": "code",
   "execution_count": 7,
   "metadata": {},
   "outputs": [],
   "source": [
    "\n",
    "# Create feature view\n",
    "feature_view = fs.get_feature_view(\n",
    "    name='event_retrieval_2',\n",
    "    version=1,\n",
    ")"
   ]
  },
  {
   "cell_type": "markdown",
   "metadata": {},
   "source": [
    "## <span style=\"color:#ff5f27\">🏋️ Training Dataset </span>\n"
   ]
  },
  {
   "cell_type": "code",
   "execution_count": 8,
   "metadata": {},
   "outputs": [
    {
     "name": "stdout",
     "output_type": "stream",
     "text": [
      "Finished: Reading data from Hopsworks, using Hopsworks Feature Query Service (5.84s) \n"
     ]
    }
   ],
   "source": [
    "\n",
    "# Split dataset\n",
    "train_df, val_df, test_df, _, _, _ = feature_view.train_validation_test_split(\n",
    "    validation_size=0.1, \n",
    "    test_size=0.01,\n",
    "    description='Event retrieval dataset splits',\n",
    ")\n"
   ]
  },
  {
   "cell_type": "code",
   "execution_count": 9,
   "metadata": {},
   "outputs": [
    {
     "name": "stdout",
     "output_type": "stream",
     "text": [
      "✅ Training set size: 147551\n",
      "📌 Unique Users: 24973, Events: 15400\n"
     ]
    }
   ],
   "source": [
    "\n",
    "# Build tf.data.Dataset\n",
    "def df_to_ds(df):\n",
    "    return tf.data.Dataset.from_tensor_slices({col: df[col].values for col in df.columns})\n",
    "\n",
    "BATCH_SIZE = 1024\n",
    "train_ds = df_to_ds(train_df).batch(BATCH_SIZE).cache().shuffle(BATCH_SIZE * 10)\n",
    "val_ds = df_to_ds(val_df).batch(BATCH_SIZE).cache()\n",
    "\n",
    "# Prepare vocabulary lists for Lookup & Embedding layers\n",
    "user_id_list = train_df[\"user_id\"].unique().tolist()\n",
    "event_id_list = train_df[\"event_id\"].unique().tolist()\n",
    "user_city_list = train_df[\"user_city\"].unique().tolist()\n",
    "event_city_list = train_df[\"event_city\"].unique().tolist()\n",
    "event_type_list = train_df[\"event_type\"].unique().tolist()\n",
    "user_interest_list = train_df[\"user_interests\"].unique().tolist()\n",
    "\n",
    "# Print summary\n",
    "print(f\"✅ Training set size: {len(train_df)}\")\n",
    "print(f\"📌 Unique Users: {len(user_id_list)}, Events: {len(event_id_list)}\")\n"
   ]
  },
  {
   "cell_type": "markdown",
   "metadata": {},
   "source": [
    "## <span style=\"color:#ff5f27\">🏰 Two Tower Model </span>\n"
   ]
  },
  {
   "cell_type": "code",
   "execution_count": 20,
   "metadata": {},
   "outputs": [],
   "source": [
    "# Recreate your retrieval model in the structure you specified, using your naming conventions and architecture\n",
    "import tensorflow as tf\n",
    "import tensorflow_recommenders as tfrs\n",
    "from typing import Dict\n",
    "\n",
    "EMBED_DIM = 64\n",
    "BATCH_SIZE = 1024\n",
    "\n",
    "\n",
    "# Query Tower\n",
    "class QueryTower(tf.keras.Model):\n",
    "    def __init__(self):\n",
    "        super().__init__()\n",
    "        self.emb_dim = EMBED_DIM\n",
    "\n",
    "        self.user_embedding = tf.keras.Sequential([\n",
    "            tf.keras.layers.StringLookup(vocabulary=user_id_list, mask_token=None),\n",
    "            tf.keras.layers.Embedding(len(user_id_list) + 1, self.emb_dim)\n",
    "        ])\n",
    "\n",
    "        self.normalized_age = tf.keras.layers.Normalization(axis=None)\n",
    "\n",
    "        self.city_tokenizer = tf.keras.layers.StringLookup(vocabulary=user_city_list, mask_token=None)\n",
    "\n",
    "        #self.interest_vectorizer = tf.keras.layers.TextVectorization(output_mode=\"int\", max_tokens=100)\n",
    "        self.interest_vectorizer = tf.keras.layers.TextVectorization(\n",
    "            max_tokens=100,\n",
    "            output_mode='multi_hot'\n",
    "        )\n",
    "\n",
    "        self.interest_embedding = tf.keras.layers.Embedding(input_dim=100, output_dim=self.emb_dim)\n",
    "\n",
    "        self.fnn = tf.keras.Sequential([\n",
    "            tf.keras.layers.Dense(128, activation=\"relu\"),\n",
    "            tf.keras.layers.Dropout(0.3),\n",
    "            tf.keras.layers.Dense(64, activation=\"relu\"),\n",
    "            tf.keras.layers.Dense(self.emb_dim)\n",
    "        ])\n",
    "\n",
    "    def call(self, inputs: Dict[str, tf.Tensor]) -> tf.Tensor:\n",
    "        city_embedding = tf.one_hot(self.city_tokenizer(inputs[\"user_city\"]), len(user_city_list))\n",
    "        interests_encoded = self.interest_vectorizer(inputs[\"user_interests\"])\n",
    "        interests_embedding = self.interest_embedding(interests_encoded)\n",
    "        pooled_interests = tf.reduce_mean(interests_embedding, axis=1)\n",
    "\n",
    "        combined = tf.concat([\n",
    "            self.user_embedding(inputs[\"user_id\"]),\n",
    "            tf.reshape(self.normalized_age(inputs[\"age\"]), (-1, 1)),\n",
    "            city_embedding,\n",
    "            pooled_interests\n",
    "        ], axis=1)\n",
    "\n",
    "        return self.fnn(combined)\n",
    "\n",
    "#query_model = QueryTower()\n",
    "\n",
    "# Item Tower\n",
    "class ItemTower(tf.keras.Model):\n",
    "    def __init__(self):\n",
    "        super().__init__()\n",
    "        self.emb_dim = EMBED_DIM\n",
    "\n",
    "        self.event_embedding = tf.keras.Sequential([\n",
    "            tf.keras.layers.StringLookup(vocabulary=event_id_list, mask_token=None),\n",
    "            tf.keras.layers.Embedding(len(event_id_list) + 1, self.emb_dim)\n",
    "        ])\n",
    "\n",
    "        self.type_tokenizer = tf.keras.layers.StringLookup(vocabulary=event_type_list, mask_token=None)\n",
    "        self.city_tokenizer = tf.keras.layers.StringLookup(vocabulary=event_city_list, mask_token=None)\n",
    "\n",
    "        self.fnn = tf.keras.Sequential([\n",
    "            tf.keras.layers.Dense(128, activation=\"relu\"),\n",
    "            tf.keras.layers.Dropout(0.3),\n",
    "            tf.keras.layers.Dense(64, activation=\"relu\"),\n",
    "            tf.keras.layers.Dense(self.emb_dim)\n",
    "        ])\n",
    "\n",
    "    def call(self, inputs: Dict[str, tf.Tensor]) -> tf.Tensor:\n",
    "        type_embedding = tf.one_hot(self.type_tokenizer(inputs[\"event_type\"]), len(event_type_list))\n",
    "        city_embedding = tf.one_hot(self.city_tokenizer(inputs[\"event_city\"]), len(event_city_list))\n",
    "\n",
    "        combined = tf.concat([\n",
    "            self.event_embedding(inputs[\"event_id\"]),\n",
    "            type_embedding,\n",
    "            city_embedding\n",
    "        ], axis=1)\n",
    "\n",
    "        return self.fnn(combined)\n",
    "\n",
    "\n",
    "# Final Two-Tower Model\n",
    "class TwoTowerModel(tf.keras.Model):\n",
    "    def __init__(self, query_model, item_model):\n",
    "        super().__init__()\n",
    "        self.query_model = query_model\n",
    "        self.item_model = item_model\n",
    "        self.task = tfrs.tasks.Retrieval(\n",
    "            metrics=tfrs.metrics.FactorizedTopK(\n",
    "                candidates=item_ds.batch(BATCH_SIZE).map(self.item_model)\n",
    "            )\n",
    "        )\n",
    "\n",
    "    def train_step(self, batch) -> tf.Tensor:\n",
    "        # Set up a gradient tape to record gradients.\n",
    "        with tf.GradientTape() as tape:\n",
    "\n",
    "            # Loss computation.\n",
    "            user_embeddings = self.query_model(batch)\n",
    "            item_embeddings = self.item_model(batch)\n",
    "            loss = self.task(\n",
    "                user_embeddings, \n",
    "                item_embeddings,\n",
    "                compute_metrics=False,\n",
    "            )\n",
    "\n",
    "            # Handle regularization losses as well.\n",
    "            regularization_loss = sum(self.losses)\n",
    "\n",
    "            total_loss = loss + regularization_loss\n",
    "\n",
    "        gradients = tape.gradient(total_loss, self.trainable_variables)\n",
    "        self.optimizer.apply_gradients(zip(gradients, self.trainable_variables))\n",
    "\n",
    "        metrics = {\n",
    "            \"loss\": loss,\n",
    "            \"regularization_loss\": regularization_loss,\n",
    "            \"total_loss\": total_loss\n",
    "        }\n",
    "\n",
    "        return metrics\n",
    "\n",
    "    def test_step(self, batch) -> tf.Tensor:\n",
    "        # Loss computation.\n",
    "        user_embeddings = self.query_model(batch)\n",
    "        item_embeddings = self.item_model(batch)\n",
    "\n",
    "        loss = self.task(\n",
    "            user_embeddings, \n",
    "            item_embeddings,\n",
    "            compute_metrics=True,\n",
    "        )\n",
    "\n",
    "        # Handle regularization losses as well.\n",
    "        regularization_loss = sum(self.losses)\n",
    "\n",
    "        total_loss = loss + regularization_loss\n",
    "\n",
    "        metrics = {metric.name: metric.result() for metric in self.metrics}\n",
    "        metrics[\"loss\"] = loss\n",
    "        metrics[\"regularization_loss\"] = regularization_loss\n",
    "        metrics[\"total_loss\"] = total_loss\n",
    "\n",
    "        return metrics"
   ]
  },
  {
   "cell_type": "code",
   "execution_count": 11,
   "metadata": {},
   "outputs": [
    {
     "data": {
      "text/plain": [
       "<tf.Tensor: shape=(1, 64), dtype=float32, numpy=\n",
       "array([[ 0.06197241, -0.07892935, -0.07846164, -0.03063353, -0.0445881 ,\n",
       "         0.00886694, -0.06070798,  0.0024111 ,  0.0450423 ,  0.06422357,\n",
       "        -0.08371212,  0.13585249, -0.02840136,  0.09382237,  0.03699867,\n",
       "        -0.03285943, -0.00668155, -0.00407367,  0.07161169,  0.00493596,\n",
       "         0.0502243 , -0.04576422, -0.03654509, -0.06610021,  0.02233232,\n",
       "        -0.0590222 ,  0.11351342,  0.09321377,  0.02936638,  0.12551937,\n",
       "         0.10388215, -0.07798909, -0.08141501, -0.05235956, -0.00965887,\n",
       "        -0.00518202, -0.03033741,  0.03259502,  0.04311861, -0.12298851,\n",
       "        -0.1013096 ,  0.05772972,  0.06104221, -0.05699211,  0.00326151,\n",
       "         0.08961737,  0.06656842,  0.06145329,  0.05138535,  0.00903325,\n",
       "         0.07362351, -0.09122318,  0.03459161,  0.01187487,  0.06417892,\n",
       "        -0.02626356,  0.03489795, -0.00216579,  0.13923441, -0.04082632,\n",
       "         0.17723191,  0.1707426 ,  0.12348789, -0.03648868]],\n",
       "      dtype=float32)>"
      ]
     },
     "execution_count": 11,
     "metadata": {},
     "output_type": "execute_result"
    }
   ],
   "source": [
    "item_model = ItemTower()\n",
    "\n",
    "item_df = train_df[CANDIDATE_FEATURES]\n",
    "item_df.drop_duplicates(subset=\"event_id\", inplace=True)\n",
    "item_ds = df_to_ds(item_df)\n",
    "\n",
    "item_model(next(iter(item_ds.batch(1))))"
   ]
  },
  {
   "cell_type": "code",
   "execution_count": 12,
   "metadata": {},
   "outputs": [
    {
     "data": {
      "text/plain": [
       "<tf.Tensor: shape=(1, 64), dtype=float32, numpy=\n",
       "array([[ 0.05276699, -0.06610046, -0.0556698 ,  0.11129802,  0.05950476,\n",
       "        -0.09478438,  0.03076726,  0.03157628, -0.04007482, -0.09756289,\n",
       "         0.13269734,  0.02395391, -0.11541238,  0.01149368, -0.16687495,\n",
       "        -0.04219827,  0.01126415, -0.02688799, -0.17326729,  0.08066563,\n",
       "         0.00067504, -0.14296718,  0.00079476, -0.10762714,  0.02484687,\n",
       "        -0.01787002,  0.05059284, -0.02022767,  0.02619214,  0.00837133,\n",
       "         0.00043839, -0.03814748, -0.01118835,  0.05569841,  0.05576575,\n",
       "         0.06601967,  0.04008785,  0.04058186,  0.00977594, -0.00970624,\n",
       "         0.0008694 , -0.0067389 ,  0.05168008,  0.06129982, -0.12437735,\n",
       "        -0.04956821, -0.01861939, -0.00253836, -0.07238142, -0.06879874,\n",
       "         0.06725006,  0.06434003,  0.06258543, -0.17826286, -0.08409207,\n",
       "         0.04410993, -0.07302588,  0.06189426, -0.0278909 ,  0.05118221,\n",
       "         0.04341218,  0.1191278 ,  0.05677688,  0.04886047]],\n",
       "      dtype=float32)>"
      ]
     },
     "execution_count": 12,
     "metadata": {},
     "output_type": "execute_result"
    }
   ],
   "source": [
    "query_model = QueryTower()\n",
    "\n",
    "query_model.normalized_age.adapt(train_ds.map(lambda x : x[\"age\"]))\n",
    "query_model.interest_vectorizer.adapt(train_ds.map(lambda x: x[\"user_interests\"]))\n",
    "# Initialize model with inputs.\n",
    "query_df = train_df[QUERY_FEATURES]\n",
    "query_ds = df_to_ds(query_df).batch(1)\n",
    "query_model(next(iter(query_ds)))"
   ]
  },
  {
   "cell_type": "code",
   "execution_count": 21,
   "metadata": {},
   "outputs": [
    {
     "name": "stdout",
     "output_type": "stream",
     "text": [
      "Epoch 1/10\n",
      "145/145 [==============================] - 13s 81ms/step - loss: 5469.9356 - regularization_loss: 0.0000e+00 - total_loss: 5469.9356 - val_factorized_top_k/top_1_categorical_accuracy: 2.4128e-04 - val_factorized_top_k/top_5_categorical_accuracy: 0.0030 - val_factorized_top_k/top_10_categorical_accuracy: 0.0086 - val_factorized_top_k/top_50_categorical_accuracy: 0.0619 - val_factorized_top_k/top_100_categorical_accuracy: 0.1304 - val_loss: 1424.0696 - val_regularization_loss: 0.0000e+00 - val_total_loss: 1424.0696\n",
      "Epoch 2/10\n",
      "145/145 [==============================] - 14s 93ms/step - loss: 5425.7020 - regularization_loss: 0.0000e+00 - total_loss: 5425.7020 - val_factorized_top_k/top_1_categorical_accuracy: 1.8096e-04 - val_factorized_top_k/top_5_categorical_accuracy: 0.0027 - val_factorized_top_k/top_10_categorical_accuracy: 0.0083 - val_factorized_top_k/top_50_categorical_accuracy: 0.0652 - val_factorized_top_k/top_100_categorical_accuracy: 0.1363 - val_loss: 1468.7490 - val_regularization_loss: 0.0000e+00 - val_total_loss: 1468.7490\n",
      "Epoch 3/10\n",
      "145/145 [==============================] - 15s 101ms/step - loss: 5407.8619 - regularization_loss: 0.0000e+00 - total_loss: 5407.8619 - val_factorized_top_k/top_1_categorical_accuracy: 2.4128e-04 - val_factorized_top_k/top_5_categorical_accuracy: 0.0035 - val_factorized_top_k/top_10_categorical_accuracy: 0.0091 - val_factorized_top_k/top_50_categorical_accuracy: 0.0621 - val_factorized_top_k/top_100_categorical_accuracy: 0.1289 - val_loss: 1510.4757 - val_regularization_loss: 0.0000e+00 - val_total_loss: 1510.4757\n",
      "Epoch 4/10\n",
      "145/145 [==============================] - 13s 87ms/step - loss: 5388.9268 - regularization_loss: 0.0000e+00 - total_loss: 5388.9268 - val_factorized_top_k/top_1_categorical_accuracy: 1.8096e-04 - val_factorized_top_k/top_5_categorical_accuracy: 0.0030 - val_factorized_top_k/top_10_categorical_accuracy: 0.0088 - val_factorized_top_k/top_50_categorical_accuracy: 0.0650 - val_factorized_top_k/top_100_categorical_accuracy: 0.1336 - val_loss: 1546.2776 - val_regularization_loss: 0.0000e+00 - val_total_loss: 1546.2776\n",
      "Epoch 5/10\n",
      "145/145 [==============================] - 16s 109ms/step - loss: 5376.1581 - regularization_loss: 0.0000e+00 - total_loss: 5376.1581 - val_factorized_top_k/top_1_categorical_accuracy: 1.8096e-04 - val_factorized_top_k/top_5_categorical_accuracy: 0.0033 - val_factorized_top_k/top_10_categorical_accuracy: 0.0097 - val_factorized_top_k/top_50_categorical_accuracy: 0.0649 - val_factorized_top_k/top_100_categorical_accuracy: 0.1336 - val_loss: 1577.8993 - val_regularization_loss: 0.0000e+00 - val_total_loss: 1577.8993\n",
      "Epoch 6/10\n",
      "145/145 [==============================] - 13s 92ms/step - loss: 5367.1468 - regularization_loss: 0.0000e+00 - total_loss: 5367.1468 - val_factorized_top_k/top_1_categorical_accuracy: 1.8096e-04 - val_factorized_top_k/top_5_categorical_accuracy: 0.0025 - val_factorized_top_k/top_10_categorical_accuracy: 0.0078 - val_factorized_top_k/top_50_categorical_accuracy: 0.0601 - val_factorized_top_k/top_100_categorical_accuracy: 0.1323 - val_loss: 1581.7648 - val_regularization_loss: 0.0000e+00 - val_total_loss: 1581.7648\n",
      "Epoch 7/10\n",
      "145/145 [==============================] - 14s 97ms/step - loss: 5349.0408 - regularization_loss: 0.0000e+00 - total_loss: 5349.0408 - val_factorized_top_k/top_1_categorical_accuracy: 0.0000e+00 - val_factorized_top_k/top_5_categorical_accuracy: 0.0014 - val_factorized_top_k/top_10_categorical_accuracy: 0.0076 - val_factorized_top_k/top_50_categorical_accuracy: 0.0623 - val_factorized_top_k/top_100_categorical_accuracy: 0.1359 - val_loss: 1685.1669 - val_regularization_loss: 0.0000e+00 - val_total_loss: 1685.1669\n",
      "Epoch 8/10\n",
      "145/145 [==============================] - 13s 91ms/step - loss: 5329.3223 - regularization_loss: 0.0000e+00 - total_loss: 5329.3223 - val_factorized_top_k/top_1_categorical_accuracy: 2.4128e-04 - val_factorized_top_k/top_5_categorical_accuracy: 0.0028 - val_factorized_top_k/top_10_categorical_accuracy: 0.0090 - val_factorized_top_k/top_50_categorical_accuracy: 0.0680 - val_factorized_top_k/top_100_categorical_accuracy: 0.1384 - val_loss: 1676.0978 - val_regularization_loss: 0.0000e+00 - val_total_loss: 1676.0978\n",
      "Epoch 9/10\n",
      "145/145 [==============================] - 15s 102ms/step - loss: 5307.0319 - regularization_loss: 0.0000e+00 - total_loss: 5307.0319 - val_factorized_top_k/top_1_categorical_accuracy: 3.0160e-04 - val_factorized_top_k/top_5_categorical_accuracy: 0.0036 - val_factorized_top_k/top_10_categorical_accuracy: 0.0101 - val_factorized_top_k/top_50_categorical_accuracy: 0.0705 - val_factorized_top_k/top_100_categorical_accuracy: 0.1422 - val_loss: 1663.6528 - val_regularization_loss: 0.0000e+00 - val_total_loss: 1663.6528\n",
      "Epoch 10/10\n",
      "145/145 [==============================] - 13s 90ms/step - loss: 5294.4634 - regularization_loss: 0.0000e+00 - total_loss: 5294.4634 - val_factorized_top_k/top_1_categorical_accuracy: 4.8257e-04 - val_factorized_top_k/top_5_categorical_accuracy: 0.0024 - val_factorized_top_k/top_10_categorical_accuracy: 0.0081 - val_factorized_top_k/top_50_categorical_accuracy: 0.0665 - val_factorized_top_k/top_100_categorical_accuracy: 0.1417 - val_loss: 1634.9564 - val_regularization_loss: 0.0000e+00 - val_total_loss: 1634.9564\n",
      "17/17 [==============================] - 5s 265ms/step - factorized_top_k/top_1_categorical_accuracy: 4.8257e-04 - factorized_top_k/top_5_categorical_accuracy: 0.0024 - factorized_top_k/top_10_categorical_accuracy: 0.0081 - factorized_top_k/top_50_categorical_accuracy: 0.0665 - factorized_top_k/top_100_categorical_accuracy: 0.1417 - loss: 9282.6754 - regularization_loss: 0.0000e+00 - total_loss: 9282.6754\n",
      "\n",
      "Final Evaluation Metrics:\n",
      "factorized_top_k/top_1_categorical_accuracy: 0.0005\n",
      "factorized_top_k/top_5_categorical_accuracy: 0.0024\n",
      "factorized_top_k/top_10_categorical_accuracy: 0.0081\n",
      "factorized_top_k/top_50_categorical_accuracy: 0.0665\n",
      "factorized_top_k/top_100_categorical_accuracy: 0.1417\n",
      "loss: 1634.9564\n",
      "regularization_loss: 0.0000\n",
      "total_loss: 1634.9564\n"
     ]
    }
   ],
   "source": [
    "from tensorflow.keras.callbacks import EarlyStopping\n",
    "# Create a TwoTowerModel with the specified query_model and item_model\n",
    "model = TwoTowerModel(query_model, item_model)\n",
    "\n",
    "# Define an optimizer using AdamW with a learning rate of 0.01\n",
    "optimizer = tf.keras.optimizers.AdamW(\n",
    "    weight_decay=0.001, \n",
    "    learning_rate=0.01,\n",
    ")\n",
    "\n",
    "# Compile the model using the specified optimizer\n",
    "model.compile(optimizer=optimizer)\n",
    "\n",
    "# Train the model\n",
    "early_stop = EarlyStopping(\n",
    "    monitor=\"val_factorized_top_k/top_10_categorical_accuracy\",\n",
    "    mode=\"max\",\n",
    "    patience=10,\n",
    "    restore_best_weights=True\n",
    ")\n",
    "history = model.fit(train_ds, \n",
    "                    validation_data=val_ds,\n",
    "                    callbacks=[early_stop], \n",
    "                    epochs=10)\n",
    "\n",
    "# Evaluate final performance\n",
    "eval_results = model.evaluate(\n",
    "    val_ds,\n",
    "    return_dict=True\n",
    ")\n",
    "print(\"\\nFinal Evaluation Metrics:\")\n",
    "for metric, value in eval_results.items():\n",
    "    print(f\"{metric}: {value:.4f}\")"
   ]
  },
  {
   "cell_type": "code",
   "execution_count": 14,
   "metadata": {},
   "outputs": [
    {
     "data": {
      "image/png": "[encoded data removed]",
      "text/plain": [
       "<Figure size 1400x800 with 2 Axes>"
      ]
     },
     "metadata": {},
     "output_type": "display_data"
    }
   ],
   "source": [
    "import matplotlib.pyplot as plt\n",
    "\n",
    "\n",
    "# Plotting function\n",
    "def plot_metrics(history):\n",
    "    epochs = range(1, len(history[\"loss\"]) + 1)\n",
    "\n",
    "    plt.figure(figsize=(14, 8))\n",
    "\n",
    "    # Plot Loss\n",
    "    plt.subplot(2, 1, 1)\n",
    "    plt.plot(epochs, history[\"loss\"], label=\"Training Loss\")\n",
    "    plt.plot(epochs, history[\"val_loss\"], label=\"Validation Loss\")\n",
    "    plt.title(\"Loss over Epochs\")\n",
    "    plt.xlabel(\"Epochs\")\n",
    "    plt.ylabel(\"Loss\")\n",
    "    plt.legend()\n",
    "\n",
    "    # Plot Top-K Accuracies\n",
    "    plt.subplot(2, 1, 2)\n",
    "    for k in [1, 5, 10, 50, 100]:\n",
    "        metric = f\"val_factorized_top_k/top_{k}_categorical_accuracy\"\n",
    "        plt.plot(epochs, history[metric], label=f\"Top-{k} Accuracy\")\n",
    "\n",
    "    plt.title(\"Validation Top-K Accuracy over Epochs\")\n",
    "    plt.xlabel(\"Epochs\")\n",
    "    plt.ylabel(\"Accuracy\")\n",
    "    plt.legend()\n",
    "    plt.tight_layout()\n",
    "    plt.show()\n",
    "\n",
    "# Call the function to plot\n",
    "#plot_metrics(history)\n",
    "plot_metrics(history.history)\n"
   ]
  },
  {
   "cell_type": "code",
   "execution_count": 22,
   "metadata": {},
   "outputs": [],
   "source": [
    "import tensorflow as tf\n",
    "import numpy as np\n",
    "import pandas as pd\n",
    "import faiss\n",
    "import matplotlib.pyplot as plt\n",
    "from sklearn.metrics import precision_recall_curve, average_precision_score, roc_curve, auc\n",
    "\n",
    "# --- 1. Precompute item (candidate) embeddings ---\n",
    "CANDIDATE_FEATURES = [\"event_id\", \"event_type\", \"event_city\"]\n",
    "\n",
    "def precompute_item_embeddings(item_model, item_df, batch_size=1024):\n",
    "    item_features = {\n",
    "        \"event_id\": item_df[\"event_id\"].values,\n",
    "        \"event_type\": item_df[\"event_type\"].values,\n",
    "        \"event_city\": item_df[\"event_city\"].values,\n",
    "       # \"title\": item_df[\"title\"].values\n",
    "    }\n",
    "    ds = tf.data.Dataset.from_tensor_slices(item_features).batch(batch_size)\n",
    "    embeddings = []\n",
    "    for batch in ds:\n",
    "        emb = item_model(batch).numpy()\n",
    "        embeddings.append(emb)\n",
    "    item_embeddings = np.vstack(embeddings)\n",
    "    return item_embeddings\n",
    "\n",
    "# --- 2. Build Faiss index (cosine similarity via normalized dot product) ---\n",
    "def build_faiss_index(item_embeddings):\n",
    "    faiss.normalize_L2(item_embeddings)\n",
    "    index = faiss.IndexFlatIP(item_embeddings.shape[1])\n",
    "    index.add(item_embeddings)\n",
    "    return index\n",
    "\n",
    "# --- 3. Evaluate Recall@K on test set ---\n",
    "QUERY_FEATURES = [\"user_id\", \"user_city\", \"age\", \"user_interests\"]\n",
    "K_VALUES = [1, 5, 10, 50, 100]\n",
    "\n",
    "def get_user_embedding(query_model, user_row):\n",
    "    user_features = {\n",
    "        \"user_id\": np.array([user_row[\"user_id\"]]),\n",
    "        \"user_city\": np.array([user_row[\"user_city\"]]),\n",
    "        \"age\": np.array([user_row[\"age\"]], dtype=np.float32),\n",
    "        \"user_interests\": np.array([user_row[\"user_interests\"]])\n",
    "    }\n",
    "    emb = query_model(user_features).numpy()\n",
    "    faiss.normalize_L2(emb)\n",
    "    return emb\n",
    "\n",
    "def evaluate_model(query_model, test_df, faiss_index, item_embeddings, item_ids, k_values=K_VALUES):\n",
    "    hits_at_k = {k: 0 for k in k_values}\n",
    "    total = 0\n",
    "    all_scores = []\n",
    "    all_labels = []\n",
    "    for idx, row in test_df.iterrows():\n",
    "        user_emb = get_user_embedding(query_model, row)\n",
    "        D, I = faiss_index.search(user_emb, max(k_values))\n",
    "        recommended_ids = [item_ids[i] for i in I[0]]\n",
    "        true_event_id = row[\"event_id\"]\n",
    "        for k in k_values:\n",
    "            if true_event_id in recommended_ids[:k]:\n",
    "                hits_at_k[k] += 1\n",
    "        # For PR/ROC: positive and negatives\n",
    "        actual_item_idx = item_ids.index(true_event_id) if true_event_id in item_ids else -1\n",
    "        if actual_item_idx >= 0:\n",
    "            actual_item_embedding = item_embeddings[actual_item_idx]\n",
    "            actual_score = np.dot(user_emb[0], actual_item_embedding)\n",
    "            all_scores.append(actual_score)\n",
    "            all_labels.append(1)\n",
    "            neg_indices = np.random.choice(\n",
    "                [i for i in range(len(item_embeddings)) if i != actual_item_idx],\n",
    "                size=min(9, len(item_embeddings)-1),\n",
    "                replace=False\n",
    "            )\n",
    "            for neg_idx in neg_indices:\n",
    "                neg_score = np.dot(user_emb[0], item_embeddings[neg_idx])\n",
    "                all_scores.append(neg_score)\n",
    "                all_labels.append(0)\n",
    "        total += 1\n",
    "    recall_at_k = {k: hits_at_k[k] / total for k in k_values}\n",
    "    return recall_at_k, np.array(all_scores), np.array(all_labels)\n",
    "\n",
    "def plot_evaluation_metrics(recall_at_k, all_scores, all_labels):\n",
    "    fig, (ax1, ax2, ax3) = plt.subplots(1, 3, figsize=(18, 5))\n",
    "    ax1.plot(list(recall_at_k.keys()), list(recall_at_k.values()), marker='o')\n",
    "    ax1.set_title('Recall@K')\n",
    "    ax1.set_xlabel('K')\n",
    "    ax1.set_ylabel('Recall')\n",
    "    ax1.grid(True)\n",
    "    precision, recall, _ = precision_recall_curve(all_labels, all_scores)\n",
    "    ap = average_precision_score(all_labels, all_scores)\n",
    "    ax2.plot(recall, precision, label=f'AP = {ap:.3f}')\n",
    "    ax2.set_title('Precision-Recall Curve')\n",
    "    ax2.set_xlabel('Recall')\n",
    "    ax2.set_ylabel('Precision')\n",
    "    ax2.legend()\n",
    "    ax2.grid(True)\n",
    "    fpr, tpr, _ = roc_curve(all_labels, all_scores)\n",
    "    roc_auc = auc(fpr, tpr)\n",
    "    ax3.plot(fpr, tpr, label=f'AUC = {roc_auc:.3f}')\n",
    "    ax3.plot([0, 1], [0, 1], 'k--')\n",
    "    ax3.set_title('ROC Curve')\n",
    "    ax3.set_xlabel('False Positive Rate')\n",
    "    ax3.set_ylabel('True Positive Rate')\n",
    "    ax3.legend()\n",
    "    ax3.grid(True)\n",
    "    plt.tight_layout()\n",
    "    plt.savefig('model_evaluation_metrics.png')\n",
    "    plt.show()\n",
    "    return fig\n"
   ]
  },
  {
   "cell_type": "code",
   "execution_count": 16,
   "metadata": {},
   "outputs": [
    {
     "name": "stdout",
     "output_type": "stream",
     "text": [
      "tf.Tensor(\n",
      "[[ 0.36604124 -0.7908931  -0.54766554 -0.1781901  -0.47744882  0.2610467\n",
      "   0.20038494 -0.19736867  3.885735   -0.78616875  1.8695441  -0.32970497\n",
      "  -0.28531694  0.15216298 -0.82037485  0.62194794 -0.20249332  0.24652553\n",
      "  -0.40830597  2.0906172  -0.3960181  -0.30371678 -0.01159562 -0.96475303\n",
      "   0.22922139  0.0621486  -0.53176844  0.27977663 -0.6803622  -1.297373\n",
      "  -0.77629167  0.04704329  0.5351698  -1.0876895  -0.7729492  -0.24011211\n",
      "  -0.6348618   0.0283501  -0.06408432 -0.05722797 -0.04784682  0.02132481\n",
      "   1.6377555   0.23812485 -1.1529467   0.02877755 -1.7092896  -1.2197958\n",
      "   0.47344422 -0.4604593   0.09787795 -0.04055473 -0.25772023 -1.84272\n",
      "  -0.9389423  -0.6650882  -1.2033257  -0.08035209  0.62221396  1.0229324\n",
      "  -2.0164685   0.6122103   0.79114074  0.9729722 ]], shape=(1, 64), dtype=float32)\n"
     ]
    },
    {
     "data": {
      "text/plain": [
       "<tf.Tensor: shape=(1, 64), dtype=float32, numpy=\n",
       "array([[  1.3294593 ,  -1.4040018 ,   0.70300525,   1.7351093 ,\n",
       "          1.4513574 ,   5.880898  ,  -1.7068778 ,  -1.7004555 ,\n",
       "          9.532353  , -12.768136  ,  10.360722  ,  -2.4119322 ,\n",
       "         -2.8474543 ,  -0.16867526,  -3.8046768 ,  -1.9292738 ,\n",
       "         -3.8600175 ,  -2.0400724 ,  -9.902648  ,  10.2843075 ,\n",
       "        -12.884486  ,  -3.4536133 ,  -0.26793003,   2.5143342 ,\n",
       "          5.568222  ,  -3.227873  ,  -6.570964  ,   1.9417101 ,\n",
       "          0.5722094 , -12.893889  ,  -0.75817966,   2.3125658 ,\n",
       "         -0.5105843 ,   3.341439  ,  -0.7683289 ,  -4.8176384 ,\n",
       "          5.0914526 ,  -2.0981188 ,  -3.0940945 ,  -0.95738906,\n",
       "          2.4020414 ,   0.46771646,   3.4240043 ,   8.122496  ,\n",
       "         -5.915006  ,  -8.288406  ,   1.2294734 ,  -8.266431  ,\n",
       "        -11.843022  ,  -9.858148  ,   2.9633858 ,   5.0397177 ,\n",
       "          4.487694  , -10.582045  , -11.158501  ,  -0.9373179 ,\n",
       "         -7.5717697 ,  -0.2890561 ,  -1.1106944 ,   0.87354314,\n",
       "         -8.219384  ,  -0.02669489,   0.02742109,   6.5923233 ]],\n",
       "      dtype=float32)>"
      ]
     },
     "execution_count": 16,
     "metadata": {},
     "output_type": "execute_result"
    }
   ],
   "source": [
    "item_model = model.item_model\n",
    "query_model = model.query_model\n",
    "\n",
    "# Adapt layers to training data\n",
    "query_model.normalized_age.adapt(train_df[\"age\"].values)\n",
    "query_model.interest_vectorizer.adapt(train_df[\"user_interests\"].values)\n",
    "#item_model.title_vectorizer.adapt(item_df[\"title\"].values)\n",
    "\n",
    "# Initialize models with sample data\n",
    "query_sample = next(iter(df_to_ds(train_df[QUERY_FEATURES]).batch(1)))\n",
    "item_sample = next(iter(df_to_ds(item_df[CANDIDATE_FEATURES]).batch(1)))\n",
    "print(model.query_model(query_sample))\n",
    "model.item_model(item_sample)\n",
    "\n"
   ]
  },
  {
   "cell_type": "code",
   "execution_count": 25,
   "metadata": {},
   "outputs": [
    {
     "name": "stdout",
     "output_type": "stream",
     "text": [
      "Found 15400 unique items for evaluation\n",
      "Precomputing item embeddings...\n",
      "Building Faiss index...\n",
      "Evaluating model...\n",
      "\n",
      "Model Evaluation Results:\n",
      "Recall@1: 0.0000\n",
      "Recall@5: 0.0006\n",
      "Recall@10: 0.0006\n",
      "Recall@50: 0.0036\n",
      "Recall@100: 0.0133\n",
      "Average Precision: 0.1098\n",
      "ROC AUC: 0.5284\n"
     ]
    },
    {
     "data": {
      "image/png": "[encoded data removed]",
      "text/plain": [
       "<Figure size 1800x500 with 3 Axes>"
      ]
     },
     "metadata": {},
     "output_type": "display_data"
    },
    {
     "name": "stdout",
     "output_type": "stream",
     "text": [
      "\n",
      "Sample Recommendations:\n",
      "User: AO095G\n",
      "User Interests: travel\n",
      "user not in sequence\n",
      "Actual Interaction: IU296X\n",
      "Top 5 Recommendations: ['RL962B', 'SZ680Y', 'LT982A', 'EU928M', 'GO342I', 'RQ526V', 'RY851Q', 'SN063Q', 'PK636Y', 'KE853D', 'YA953D', 'IL922R', 'KO802G', 'QI876V', 'KF333Q', 'CA796Z', 'BT612A', 'PR816K', 'BX802C', 'SK563L', 'AK163T', 'QZ759V', 'HO020M', 'YQ330B', 'HP126J', 'RE823S', 'SY932J', 'EA299J', 'QC764Q', 'RS452P', 'EX406K', 'VF180M', 'FF186A', 'CB633J', 'NE093W', 'SZ913M', 'IG168C', 'ZY013C', 'KQ072E', 'DU078S', 'RL892W', 'OT155O', 'UV848A', 'LC071K', 'EM074O', 'BY119X', 'VH729S', 'KH559A', 'FM880U', 'UE404E', 'QC915C', 'LP140J', 'IX070U', 'HI005Z', 'QH910N', 'EL868U', 'VV027W', 'SY756C', 'CL201U', 'BX984I', 'NC798W', 'EQ535K', 'JJ619Z', 'RW057X', 'QT117B', 'UZ369Y', 'CO599V', 'WB530K', 'KA121U', 'GA852P', 'AN967P', 'PJ039N', 'WM348C', 'HI790A', 'XE493Q', 'MF767Z', 'DL215F', 'UP229W', 'XC342C', 'NJ877J', 'KS264X', 'WS477J', 'AK193B', 'SY627B', 'XI957U', 'LS519J', 'ZJ081Y', 'RV638R', 'UK506Q', 'SJ429K', 'GB009C', 'GQ870L', 'FJ821U', 'LK789T', 'YV625P', 'UK033E', 'RT538Z', 'SH995N', 'BJ981Y', 'VR306F']\n"
     ]
    }
   ],
   "source": [
    "\n",
    "def main():\n",
    "    # Assume you have train_df, val_df, test_df, query_model, candidate_model already in memory\n",
    "    # Prepare unique item DataFrame\n",
    "    item_df = train_df[CANDIDATE_FEATURES].drop_duplicates(subset=\"event_id\").dropna()\n",
    "    item_ids = item_df[\"event_id\"].tolist()\n",
    "    print(f\"Found {len(item_df)} unique items for evaluation\")\n",
    "    # Precompute item embeddings\n",
    "    print(\"Precomputing item embeddings...\")\n",
    "    item_embeddings = precompute_item_embeddings(item_model, item_df)\n",
    "    # Build Faiss index\n",
    "    print(\"Building Faiss index...\")\n",
    "    faiss_index = build_faiss_index(item_embeddings)\n",
    "    # Evaluate model\n",
    "    print(\"Evaluating model...\")\n",
    "    recall_at_k, all_scores, all_labels = evaluate_model(\n",
    "        query_model, test_df, faiss_index, item_embeddings, item_ids\n",
    "    )\n",
    "    print(\"\\nModel Evaluation Results:\")\n",
    "    for k, recall in recall_at_k.items():\n",
    "        print(f\"Recall@{k}: {recall:.4f}\")\n",
    "    ap = average_precision_score(all_labels, all_scores)\n",
    "    print(f\"Average Precision: {ap:.4f}\")\n",
    "    fpr, tpr, _ = roc_curve(all_labels, all_scores)\n",
    "    roc_auc = auc(fpr, tpr)\n",
    "    print(f\"ROC AUC: {roc_auc:.4f}\")\n",
    "    plot_evaluation_metrics(recall_at_k, all_scores, all_labels)\n",
    "    # Sample recommendations\n",
    "    print(\"\\nSample Recommendations:\")\n",
    "    sample_user = test_df.iloc[10]\n",
    "    user_emb = get_user_embedding(query_model, sample_user)\n",
    "    D, I = faiss_index.search(user_emb, 100)\n",
    "    recommendations = [item_ids[i] for i in I[0]]\n",
    "    print(f\"User: {sample_user['user_id']}\")\n",
    "    print(f\"User Interests: {sample_user['user_interests']}\")\n",
    "    if sample_user['event_id'] in recommendations:\n",
    "        print(\"User in sequence - Position:\", recommendations.index(sample_user['event_id']) + 1)\n",
    "    else:\n",
    "        print(\"user not in sequence\")\n",
    "    print(f\"Actual Interaction: {sample_user['event_id']}\")\n",
    "    print(f\"Top 5 Recommendations: {recommendations}\")\n",
    "    return recall_at_k, all_scores, all_labels\n",
    "\n",
    "if __name__ == \"__main__\":\n",
    "    main()\n"
   ]
  },
  {
   "cell_type": "markdown",
   "metadata": {},
   "source": [
    "# Building Ranking Model"
   ]
  },
  {
   "cell_type": "code",
   "execution_count": null,
   "metadata": {},
   "outputs": [],
   "source": []
  },
  {
   "cell_type": "code",
   "execution_count": null,
   "metadata": {},
   "outputs": [],
   "source": []
  },
  {
   "cell_type": "code",
   "execution_count": 32,
   "metadata": {},
   "outputs": [
    {
     "name": "stdout",
     "output_type": "stream",
     "text": [
      "INFO:tensorflow:Assets written to: event_recommender_model_1/query_tower/assets\n",
      "2025-04-23 11:51:06,948 INFO: Assets written to: event_recommender_model_1/query_tower/assets\n",
      "Query model saved to event_recommender_model_1/query_tower\n",
      "INFO:tensorflow:Assets written to: event_recommender_model_1/item_tower/assets\n",
      "2025-04-23 11:51:10,499 INFO: Assets written to: event_recommender_model_1/item_tower/assets\n",
      "Item model saved to event_recommender_model_1/item_tower\n",
      "Vocabulary data saved to event_recommender_model_1/vocab_data.pkl\n"
     ]
    }
   ],
   "source": [
    "# ==================================================\n",
    "# SAVE MODEL - Save the query and item models separately\n",
    "# ==================================================\n",
    "import os\n",
    "\n",
    "# Create a directory for the models if it doesn't exist\n",
    "model_dir = \"event_recommender_model_1\"\n",
    "os.makedirs(model_dir, exist_ok=True)\n",
    "\n",
    "# Save the query tower\n",
    "query_model_path = os.path.join(model_dir, \"query_tower\")\n",
    "model.query_model.save(query_model_path)\n",
    "print(f\"Query model saved to {query_model_path}\")\n",
    "\n",
    "# Save the item tower\n",
    "item_model_path = os.path.join(model_dir, \"item_tower\")\n",
    "model.item_model.save(item_model_path)\n",
    "print(f\"Item model saved to {item_model_path}\")\n",
    "\n",
    "# Save vocabularies and preprocessing info for later use\n",
    "import pickle\n",
    "\n",
    "# Save vocabulary lists and any preprocessing parameters\n",
    "vocab_data = {\n",
    "    \"user_id_list\": user_id_list,\n",
    "    \"event_id_list\": event_id_list,\n",
    "    \"user_city_list\": user_city_list,\n",
    "    \"event_city_list\": event_city_list,\n",
    "    \"event_type_list\": event_type_list,\n",
    "    \"user_interest_list\": user_interest_list,\n",
    "    \"embed_dim\": EMBED_DIM\n",
    "}\n",
    "\n",
    "with open(os.path.join(model_dir, \"vocab_data.pkl\"), \"wb\") as f:\n",
    "    pickle.dump(vocab_data, f)\n",
    "print(f\"Vocabulary data saved to {os.path.join(model_dir, 'vocab_data.pkl')}\")\n"
   ]
  },
  {
   "cell_type": "code",
   "execution_count": 35,
   "metadata": {},
   "outputs": [],
   "source": [
    "#==================================================\n",
    "# LOAD MODEL - Function to load the saved model\n",
    "# ==================================================\n",
    "def load_recommender_model(model_dir=\"event_recommender_model_1\"):\n",
    "    \"\"\"\n",
    "    Load the saved two-tower recommendation model\n",
    "    \n",
    "    Args:\n",
    "        model_dir: Directory where model components are saved\n",
    "        \n",
    "    Returns:\n",
    "        query_model: Loaded query tower model\n",
    "        item_model: Loaded item tower model\n",
    "        vocab_data: Dictionary with vocabulary data\n",
    "    \"\"\"\n",
    "    # Load vocabulary data\n",
    "    with open(os.path.join(model_dir, \"vocab_data.pkl\"), \"rb\") as f:\n",
    "        vocab_data = pickle.load(f)\n",
    "    \n",
    "    # Load the query and item models\n",
    "    query_model = tf.keras.models.load_model(\n",
    "        os.path.join(model_dir, \"query_tower\")\n",
    "    )\n",
    "    \n",
    "    item_model = tf.keras.models.load_model(\n",
    "        os.path.join(model_dir, \"item_tower\")\n",
    "    )\n",
    "    \n",
    "    print(\"Models loaded successfully!\")\n",
    "    return query_model, item_model, vocab_data"
   ]
  },
  {
   "cell_type": "code",
   "execution_count": 37,
   "metadata": {},
   "outputs": [
    {
     "name": "stdout",
     "output_type": "stream",
     "text": [
      "WARNING:tensorflow:No training configuration found in save file, so the model was *not* compiled. Compile it manually.\n",
      "2025-04-23 11:53:34,702 WARNING: No training configuration found in save file, so the model was *not* compiled. Compile it manually.\n",
      "WARNING:tensorflow:No training configuration found in save file, so the model was *not* compiled. Compile it manually.\n",
      "2025-04-23 11:53:35,011 WARNING: No training configuration found in save file, so the model was *not* compiled. Compile it manually.\n",
      "Models loaded successfully!\n"
     ]
    },
    {
     "ename": "ValueError",
     "evalue": "Could not find matching concrete function to call loaded from the SavedModel. Got:\n  Positional arguments (1 total):\n    * {'age': <tf.Tensor 'inputs_1:0' shape=(1,) dtype=int32>,\n 'user_city': <tf.Tensor 'inputs_2:0' shape=(1,) dtype=string>,\n 'user_id': <tf.Tensor 'inputs:0' shape=(1,) dtype=string>,\n 'user_interests': <tf.Tensor 'inputs_3:0' shape=(1,) dtype=string>}\n  Keyword arguments: {'training': False}\n\n Expected these arguments to match one of the following 2 option(s):\n\nOption 1:\n  Positional arguments (1 total):\n    * {'age': TensorSpec(shape=(None,), dtype=tf.int64, name='age'),\n 'user_city': TensorSpec(shape=(None,), dtype=tf.string, name='user_city'),\n 'user_id': TensorSpec(shape=(None,), dtype=tf.string, name='user_id'),\n 'user_interests': TensorSpec(shape=(None,), dtype=tf.string, name='user_interests')}\n  Keyword arguments: {'training': True}\n\nOption 2:\n  Positional arguments (1 total):\n    * {'age': TensorSpec(shape=(None,), dtype=tf.int64, name='age'),\n 'user_city': TensorSpec(shape=(None,), dtype=tf.string, name='user_city'),\n 'user_id': TensorSpec(shape=(None,), dtype=tf.string, name='user_id'),\n 'user_interests': TensorSpec(shape=(None,), dtype=tf.string, name='user_interests')}\n  Keyword arguments: {'training': False}",
     "output_type": "error",
     "traceback": [
      "\u001b[0;31m---------------------------------------------------------------------------\u001b[0m",
      "\u001b[0;31mValueError\u001b[0m                                Traceback (most recent call last)",
      "Cell \u001b[0;32mIn[37], line 69\u001b[0m\n\u001b[1;32m     67\u001b[0m \u001b[38;5;66;03m# Generate recommendations\u001b[39;00m\n\u001b[1;32m     68\u001b[0m \u001b[38;5;28;01mif\u001b[39;00m \u001b[38;5;124m'\u001b[39m\u001b[38;5;124mevent_df\u001b[39m\u001b[38;5;124m'\u001b[39m \u001b[38;5;129;01min\u001b[39;00m \u001b[38;5;28mlocals\u001b[39m():\n\u001b[0;32m---> 69\u001b[0m     recommendations \u001b[38;5;241m=\u001b[39m \u001b[43mgenerate_recommendations\u001b[49m\u001b[43m(\u001b[49m\n\u001b[1;32m     70\u001b[0m \u001b[43m        \u001b[49m\u001b[43mquery_model\u001b[49m\u001b[43m,\u001b[49m\u001b[43m \u001b[49m\u001b[43mitem_model\u001b[49m\u001b[43m,\u001b[49m\u001b[43m \u001b[49m\u001b[43msample_user\u001b[49m\u001b[43m,\u001b[49m\u001b[43m \u001b[49m\u001b[43mevent_df\u001b[49m\u001b[43m,\u001b[49m\u001b[43m \u001b[49m\u001b[43mtop_k\u001b[49m\u001b[38;5;241;43m=\u001b[39;49m\u001b[38;5;241;43m100\u001b[39;49m\n\u001b[1;32m     71\u001b[0m \u001b[43m    \u001b[49m\u001b[43m)\u001b[49m\n\u001b[1;32m     72\u001b[0m     \u001b[38;5;28mprint\u001b[39m(\u001b[38;5;124m\"\u001b[39m\u001b[38;5;130;01m\\n\u001b[39;00m\u001b[38;5;124mTop 5 recommended events:\u001b[39m\u001b[38;5;124m\"\u001b[39m)\n\u001b[1;32m     73\u001b[0m     \u001b[38;5;28mprint\u001b[39m(recommendations[[\u001b[38;5;124m\"\u001b[39m\u001b[38;5;124mevent_id\u001b[39m\u001b[38;5;124m\"\u001b[39m, \u001b[38;5;124m\"\u001b[39m\u001b[38;5;124mevent_type\u001b[39m\u001b[38;5;124m\"\u001b[39m, \u001b[38;5;124m\"\u001b[39m\u001b[38;5;124mevent_city\u001b[39m\u001b[38;5;124m\"\u001b[39m, \u001b[38;5;124m\"\u001b[39m\u001b[38;5;124mscore\u001b[39m\u001b[38;5;124m\"\u001b[39m]])\n",
      "Cell \u001b[0;32mIn[37], line 22\u001b[0m, in \u001b[0;36mgenerate_recommendations\u001b[0;34m(query_model, item_model, user_data, event_df, top_k)\u001b[0m\n\u001b[1;32m     19\u001b[0m user_features \u001b[38;5;241m=\u001b[39m {k: tf\u001b[38;5;241m.\u001b[39mconstant([v]) \u001b[38;5;28;01mfor\u001b[39;00m k, v \u001b[38;5;129;01min\u001b[39;00m user_data\u001b[38;5;241m.\u001b[39mitems()}\n\u001b[1;32m     21\u001b[0m \u001b[38;5;66;03m# Get user embedding\u001b[39;00m\n\u001b[0;32m---> 22\u001b[0m user_embedding \u001b[38;5;241m=\u001b[39m \u001b[43mquery_model\u001b[49m\u001b[43m(\u001b[49m\u001b[43muser_features\u001b[49m\u001b[43m)\u001b[49m\n\u001b[1;32m     24\u001b[0m \u001b[38;5;66;03m# Prepare event features\u001b[39;00m\n\u001b[1;32m     25\u001b[0m event_ds \u001b[38;5;241m=\u001b[39m df_to_ds(event_df[CANDIDATE_FEATURES])\u001b[38;5;241m.\u001b[39mbatch(\u001b[38;5;28mlen\u001b[39m(event_df))\n",
      "File \u001b[0;32m~/.pyenv/versions/3.10.6/envs/thesisenv/lib/python3.10/site-packages/keras/src/utils/traceback_utils.py:70\u001b[0m, in \u001b[0;36mfilter_traceback.<locals>.error_handler\u001b[0;34m(*args, **kwargs)\u001b[0m\n\u001b[1;32m     67\u001b[0m     filtered_tb \u001b[38;5;241m=\u001b[39m _process_traceback_frames(e\u001b[38;5;241m.\u001b[39m__traceback__)\n\u001b[1;32m     68\u001b[0m     \u001b[38;5;66;03m# To get the full stack trace, call:\u001b[39;00m\n\u001b[1;32m     69\u001b[0m     \u001b[38;5;66;03m# `tf.debugging.disable_traceback_filtering()`\u001b[39;00m\n\u001b[0;32m---> 70\u001b[0m     \u001b[38;5;28;01mraise\u001b[39;00m e\u001b[38;5;241m.\u001b[39mwith_traceback(filtered_tb) \u001b[38;5;28;01mfrom\u001b[39;00m\u001b[38;5;250m \u001b[39m\u001b[38;5;28;01mNone\u001b[39;00m\n\u001b[1;32m     71\u001b[0m \u001b[38;5;28;01mfinally\u001b[39;00m:\n\u001b[1;32m     72\u001b[0m     \u001b[38;5;28;01mdel\u001b[39;00m filtered_tb\n",
      "File \u001b[0;32m~/.pyenv/versions/3.10.6/envs/thesisenv/lib/python3.10/site-packages/tensorflow/python/saved_model/function_deserialization.py:335\u001b[0m, in \u001b[0;36mrecreate_function.<locals>.restored_function_body\u001b[0;34m(*args, **kwargs)\u001b[0m\n\u001b[1;32m    331\u001b[0m   positional, keyword \u001b[38;5;241m=\u001b[39m concrete_function\u001b[38;5;241m.\u001b[39mstructured_input_signature\n\u001b[1;32m    332\u001b[0m   signature_descriptions\u001b[38;5;241m.\u001b[39mappend(\n\u001b[1;32m    333\u001b[0m       \u001b[38;5;124m\"\u001b[39m\u001b[38;5;124mOption \u001b[39m\u001b[38;5;132;01m{}\u001b[39;00m\u001b[38;5;124m:\u001b[39m\u001b[38;5;130;01m\\n\u001b[39;00m\u001b[38;5;124m  \u001b[39m\u001b[38;5;132;01m{}\u001b[39;00m\u001b[38;5;130;01m\\n\u001b[39;00m\u001b[38;5;124m  Keyword arguments: \u001b[39m\u001b[38;5;132;01m{}\u001b[39;00m\u001b[38;5;124m\"\u001b[39m\u001b[38;5;241m.\u001b[39mformat(\n\u001b[1;32m    334\u001b[0m           index \u001b[38;5;241m+\u001b[39m \u001b[38;5;241m1\u001b[39m, _pretty_format_positional(positional), keyword))\n\u001b[0;32m--> 335\u001b[0m \u001b[38;5;28;01mraise\u001b[39;00m \u001b[38;5;167;01mValueError\u001b[39;00m(\n\u001b[1;32m    336\u001b[0m     \u001b[38;5;124m\"\u001b[39m\u001b[38;5;124mCould not find matching concrete function to call loaded from the \u001b[39m\u001b[38;5;124m\"\u001b[39m\n\u001b[1;32m    337\u001b[0m     \u001b[38;5;124mf\u001b[39m\u001b[38;5;124m\"\u001b[39m\u001b[38;5;124mSavedModel. Got:\u001b[39m\u001b[38;5;130;01m\\n\u001b[39;00m\u001b[38;5;124m  \u001b[39m\u001b[38;5;132;01m{\u001b[39;00m_pretty_format_positional(args)\u001b[38;5;132;01m}\u001b[39;00m\u001b[38;5;130;01m\\n\u001b[39;00m\u001b[38;5;124m  Keyword \u001b[39m\u001b[38;5;124m\"\u001b[39m\n\u001b[1;32m    338\u001b[0m     \u001b[38;5;124mf\u001b[39m\u001b[38;5;124m\"\u001b[39m\u001b[38;5;124marguments: \u001b[39m\u001b[38;5;132;01m{\u001b[39;00mkwargs\u001b[38;5;132;01m}\u001b[39;00m\u001b[38;5;130;01m\\n\u001b[39;00m\u001b[38;5;130;01m\\n\u001b[39;00m\u001b[38;5;124m Expected these arguments to match one of the \u001b[39m\u001b[38;5;124m\"\u001b[39m\n\u001b[1;32m    339\u001b[0m     \u001b[38;5;124mf\u001b[39m\u001b[38;5;124m\"\u001b[39m\u001b[38;5;124mfollowing \u001b[39m\u001b[38;5;132;01m{\u001b[39;00m\u001b[38;5;28mlen\u001b[39m(saved_function\u001b[38;5;241m.\u001b[39mconcrete_functions)\u001b[38;5;132;01m}\u001b[39;00m\u001b[38;5;124m option(s):\u001b[39m\u001b[38;5;130;01m\\n\u001b[39;00m\u001b[38;5;130;01m\\n\u001b[39;00m\u001b[38;5;124m\"\u001b[39m\n\u001b[1;32m    340\u001b[0m     \u001b[38;5;124mf\u001b[39m\u001b[38;5;124m\"\u001b[39m\u001b[38;5;132;01m{\u001b[39;00m(\u001b[38;5;28mchr\u001b[39m(\u001b[38;5;241m10\u001b[39m)\u001b[38;5;241m+\u001b[39m\u001b[38;5;28mchr\u001b[39m(\u001b[38;5;241m10\u001b[39m))\u001b[38;5;241m.\u001b[39mjoin(signature_descriptions)\u001b[38;5;132;01m}\u001b[39;00m\u001b[38;5;124m\"\u001b[39m)\n",
      "\u001b[0;31mValueError\u001b[0m: Could not find matching concrete function to call loaded from the SavedModel. Got:\n  Positional arguments (1 total):\n    * {'age': <tf.Tensor 'inputs_1:0' shape=(1,) dtype=int32>,\n 'user_city': <tf.Tensor 'inputs_2:0' shape=(1,) dtype=string>,\n 'user_id': <tf.Tensor 'inputs:0' shape=(1,) dtype=string>,\n 'user_interests': <tf.Tensor 'inputs_3:0' shape=(1,) dtype=string>}\n  Keyword arguments: {'training': False}\n\n Expected these arguments to match one of the following 2 option(s):\n\nOption 1:\n  Positional arguments (1 total):\n    * {'age': TensorSpec(shape=(None,), dtype=tf.int64, name='age'),\n 'user_city': TensorSpec(shape=(None,), dtype=tf.string, name='user_city'),\n 'user_id': TensorSpec(shape=(None,), dtype=tf.string, name='user_id'),\n 'user_interests': TensorSpec(shape=(None,), dtype=tf.string, name='user_interests')}\n  Keyword arguments: {'training': True}\n\nOption 2:\n  Positional arguments (1 total):\n    * {'age': TensorSpec(shape=(None,), dtype=tf.int64, name='age'),\n 'user_city': TensorSpec(shape=(None,), dtype=tf.string, name='user_city'),\n 'user_id': TensorSpec(shape=(None,), dtype=tf.string, name='user_id'),\n 'user_interests': TensorSpec(shape=(None,), dtype=tf.string, name='user_interests')}\n  Keyword arguments: {'training': False}"
     ]
    }
   ],
   "source": [
    "# ==================================================\n",
    "# INFERENCE EXAMPLE - Generate recommendations for a user\n",
    "# ==================================================\n",
    "def generate_recommendations(query_model, item_model, user_data, event_df, top_k=10):\n",
    "    \"\"\"\n",
    "    Generate event recommendations for a user\n",
    "    \n",
    "    Args:\n",
    "        query_model: The query tower model\n",
    "        item_model: The item tower model\n",
    "        user_data: Dictionary with user features\n",
    "        event_df: DataFrame with event data\n",
    "        top_k: Number of recommendations to return\n",
    "        \n",
    "    Returns:\n",
    "        recommendations: DataFrame with top-k recommended events\n",
    "    \"\"\"\n",
    "    # Convert user data to tensor format\n",
    "    user_features = {k: tf.constant([v]) for k, v in user_data.items()}\n",
    "    \n",
    "    # Get user embedding\n",
    "    user_embedding = query_model(user_features)\n",
    "    \n",
    "    # Prepare event features\n",
    "    event_ds = df_to_ds(event_df[CANDIDATE_FEATURES]).batch(len(event_df))\n",
    "    event_batch = next(iter(event_ds))\n",
    "    \n",
    "    # Get event embeddings\n",
    "    event_embeddings = item_model(event_batch)\n",
    "    \n",
    "    # Calculate similarity scores\n",
    "    similarity = tf.matmul(\n",
    "        user_embedding, tf.transpose(event_embeddings)\n",
    "    )\n",
    "    \n",
    "    # Get top-k recommendations\n",
    "    _, indices = tf.math.top_k(similarity[0], k=top_k)\n",
    "    recommended_event_indices = indices.numpy()\n",
    "    \n",
    "    # Return the recommended events\n",
    "    recommendations = event_df.iloc[recommended_event_indices].copy()\n",
    "    recommendations['score'] = similarity[0][recommended_event_indices].numpy()\n",
    "    \n",
    "    return recommendations\n",
    "\n",
    "# Example of loading and using the model for inference\n",
    "#if __name__ == \"__main__\":\n",
    "# Load the saved models\n",
    "query_model, item_model, vocab_data = load_recommender_model()\n",
    "\n",
    "# Example user data (adjust with your actual feature names)\n",
    "sample_user = {\n",
    "    \"user_id\": \"user_123\",\n",
    "    \"age\": 28,\n",
    "    \"user_city\": \"New York\",\n",
    "    \"user_interests\": \"music concerts tech\"\n",
    "}\n",
    "\n",
    "# Load your event dataset (assuming you saved it)\n",
    "# You might need to load this from your database or saved file\n",
    "import pandas as pd\n",
    "# Example: event_df = pd.read_csv(\"events_data.csv\")\n",
    "\n",
    "# If you want to test with your existing data:\n",
    "event_df = item_df  # Using the item_df created earlier\n",
    "\n",
    "# Generate recommendations\n",
    "if 'event_df' in locals():\n",
    "    recommendations = generate_recommendations(\n",
    "        query_model, item_model, sample_user, event_df, top_k=100\n",
    "    )\n",
    "    print(\"\\nTop 5 recommended events:\")\n",
    "    print(recommendations[[\"event_id\", \"event_type\", \"event_city\", \"score\"]])\n",
    "else:\n",
    "    print(\"Please load your event data to generate recommendations\")"
   ]
  },
  {
   "cell_type": "code",
   "execution_count": 19,
   "metadata": {},
   "outputs": [
    {
     "name": "stdout",
     "output_type": "stream",
     "text": [
      "2025-04-21 20:14:31,347 INFO: Closing external client and cleaning up certificates.\n",
      "Connection closed.\n",
      "2025-04-21 20:14:31,382 INFO: Initializing external client\n",
      "2025-04-21 20:14:31,384 INFO: Base URL: https://c.app.hopsworks.ai:443\n"
     ]
    },
    {
     "name": "stderr",
     "output_type": "stream",
     "text": [
      "\n",
      "\n"
     ]
    },
    {
     "name": "stdout",
     "output_type": "stream",
     "text": [
      "2025-04-21 20:14:33,240 INFO: Python Engine initialized.\n",
      "\n",
      "Logged in to project, explore it here https://c.app.hopsworks.ai:443/p/1220788\n"
     ]
    }
   ],
   "source": [
    "import hopsworks\n",
    "\n",
    "project = hopsworks.login()\n",
    "mr = project.get_model_registry()\n"
   ]
  },
  {
   "cell_type": "code",
   "execution_count": 20,
   "metadata": {},
   "outputs": [],
   "source": [
    "model = mr.get_model(name=\"query_model\", version=1)\n"
   ]
  },
  {
   "cell_type": "code",
   "execution_count": 21,
   "metadata": {},
   "outputs": [
    {
     "name": "stdout",
     "output_type": "stream",
     "text": [
      "Downloading model artifact (2 dirs, 4 files)... DONE\r"
     ]
    },
    {
     "data": {
      "text/plain": [
       "'./downloaded_model'"
      ]
     },
     "execution_count": 21,
     "metadata": {},
     "output_type": "execute_result"
    }
   ],
   "source": [
    "local_dir = \"./downloaded_model\"\n",
    "model.download(local_dir)\n"
   ]
  },
  {
   "cell_type": "code",
   "execution_count": 28,
   "metadata": {},
   "outputs": [],
   "source": [
    "import tensorflow as tf\n",
    "\n",
    "# Load the entire model\n",
    "model = tf.saved_model.load('./downloaded_model')\n"
   ]
  },
  {
   "cell_type": "code",
   "execution_count": 29,
   "metadata": {},
   "outputs": [
    {
     "ename": "TypeError",
     "evalue": "'_UserObject' object is not callable",
     "output_type": "error",
     "traceback": [
      "\u001b[0;31m---------------------------------------------------------------------------\u001b[0m",
      "\u001b[0;31mTypeError\u001b[0m                                 Traceback (most recent call last)",
      "Cell \u001b[0;32mIn[29], line 8\u001b[0m\n\u001b[1;32m      6\u001b[0m query_df \u001b[38;5;241m=\u001b[39m train_df[QUERY_FEATURES]\n\u001b[1;32m      7\u001b[0m query_ds \u001b[38;5;241m=\u001b[39m df_to_ds(query_df)\u001b[38;5;241m.\u001b[39mbatch(\u001b[38;5;241m1\u001b[39m)\n\u001b[0;32m----> 8\u001b[0m \u001b[43mmodel\u001b[49m\u001b[43m(\u001b[49m\u001b[38;5;28;43mnext\u001b[39;49m\u001b[43m(\u001b[49m\u001b[38;5;28;43miter\u001b[39;49m\u001b[43m(\u001b[49m\u001b[43mquery_ds\u001b[49m\u001b[43m)\u001b[49m\u001b[43m)\u001b[49m\u001b[43m)\u001b[49m\n",
      "\u001b[0;31mTypeError\u001b[0m: '_UserObject' object is not callable"
     ]
    }
   ],
   "source": [
    "import hopsworks\n",
    "import tensorflow as tf\n",
    "project = hopsworks.login()\n",
    "mr = project.get_model_registry()\n",
    "\n",
    "model = mr.get_model(name=\"query_model\", version=1)\n",
    "\n",
    "local_dir = \"./downloaded_model\"\n",
    "model.download(local_dir)\n",
    "\n",
    "# Load the entire model\n",
    "model = tf.saved_model.load('./downloaded_model')\n",
    "\n",
    "query_model.normalized_age.adapt(train_ds.map(lambda x : x[\"age\"]))\n",
    "query_model.interest_vectorizer.adapt(train_ds.map(lambda x: x[\"user_interests\"]))\n",
    "# Initialize model with inputs.\n",
    "query_df = train_df[QUERY_FEATURES]\n",
    "query_ds = df_to_ds(query_df).batch(1)\n",
    "model(next(iter(query_ds)))"
   ]
  },
  {
   "cell_type": "code",
   "execution_count": 107,
   "metadata": {},
   "outputs": [],
   "source": [
    "\n",
    "\n",
    "# Connect to Hopsworks Model Registry\n",
    "mr = project.get_model_registry()\n",
    "\n",
    "# Create a wrapper module for the query model\n",
    "class QueryModelModule(tf.Module):\n",
    "    def __init__(self, query_model):\n",
    "        self.query_model = query_model\n",
    "\n",
    "    @tf.function()\n",
    "    def compute_emb(self, instances):\n",
    "        query_emb = self.query_model(instances)\n",
    "        return {\n",
    "            \"user_id\": instances[\"user_id\"],\n",
    "            \"user_city\": instances[\"user_city\"],\n",
    "            \"age\": instances[\"age\"],\n",
    "            \"user_interests\": instances[\"user_interests\"],\n",
    "            \"query_emb\": query_emb,\n",
    "        }\n",
    "\n",
    "# Wrap query_model\n",
    "query_model_module = QueryModelModule(model.query_model)\n"
   ]
  },
  {
   "cell_type": "code",
   "execution_count": 108,
   "metadata": {},
   "outputs": [
    {
     "name": "stdout",
     "output_type": "stream",
     "text": [
      "2025-04-02 23:22:28,105 INFO: Function `compute_emb` contains input name(s) instances, table_handle, 1943261, 1943271, resource with unsupported characters which will be renamed to instances_3, query_tower_42_sequential_195_string_lookup_268_none_lookup_lookuptablefindv2_table_handle, query_tower_42_embedding_164_embedding_lookup_1943261, query_tower_42_sequential_195_embedding_163_embedding_lookup_1943271, query_tower_42_sequential_196_dense_199_biasadd_readvariableop_resource in the SavedModel.\n",
      "INFO:tensorflow:Assets written to: query_model/assets\n",
      "2025-04-02 23:22:37,325 INFO: Assets written to: query_model/assets\n",
      "INFO:tensorflow:Assets written to: candidate_model/assets\n",
      "2025-04-02 23:22:40,597 INFO: Assets written to: candidate_model/assets\n"
     ]
    }
   ],
   "source": [
    "\n",
    "# Define input specifications\n",
    "instances_spec = {\n",
    "    'user_id': tf.TensorSpec(shape=(None,), dtype=tf.string),\n",
    "    'user_city': tf.TensorSpec(shape=(None,), dtype=tf.string),\n",
    "    'age': tf.TensorSpec(shape=(None,), dtype=tf.int64),\n",
    "    'user_interests': tf.TensorSpec(shape=(None,), dtype=tf.string),\n",
    "}\n",
    "\n",
    "# Get the concrete function\n",
    "signatures = query_model_module.compute_emb.get_concrete_function(instances_spec)\n",
    "\n",
    "# Save models to disk\n",
    "tf.saved_model.save(\n",
    "    query_model_module,\n",
    "    \"query_model\",\n",
    "    signatures=signatures,\n",
    ")\n",
    "\n",
    "tf.saved_model.save(\n",
    "    model.item_model,\n",
    "    \"candidate_model\"\n",
    ")\n"
   ]
  },
  {
   "cell_type": "code",
   "execution_count": 109,
   "metadata": {},
   "outputs": [],
   "source": [
    "\n",
    "# Create schemas for Hopsworks\n",
    "from hsml.schema import Schema\n",
    "from hsml.model_schema import ModelSchema\n",
    "\n",
    "# Query model schema\n",
    "query_df = train_df[[\"user_id\", \"user_city\", \"age\", \"user_interests\"]]\n",
    "query_model_input_schema = Schema(query_df)\n",
    "query_model_output_schema = Schema([{\n",
    "    \"name\": \"query_embedding\",\n",
    "    \"type\": \"float32\",\n",
    "    \"shape\": [EMBED_DIM],\n",
    "}])\n",
    "\n",
    "query_model_schema = ModelSchema(\n",
    "    input_schema=query_model_input_schema,\n",
    "    output_schema=query_model_output_schema,\n",
    ")\n",
    "\n",
    "# Sample for example\n",
    "query_example = query_df.sample().to_dict(\"records\")\n"
   ]
  },
  {
   "cell_type": "code",
   "execution_count": 110,
   "metadata": {},
   "outputs": [
    {
     "data": {
      "application/vnd.jupyter.widget-view+json": {
       "model_id": "200bd9f4d7d14a498affc461fba14d80",
       "version_major": 2,
       "version_minor": 0
      },
      "text/plain": [
       "  0%|          | 0/6 [00:00<?, ?it/s]"
      ]
     },
     "metadata": {},
     "output_type": "display_data"
    },
    {
     "data": {
      "application/vnd.jupyter.widget-view+json": {
       "model_id": "9284595bf24745c7b362f5b24caa9b67",
       "version_major": 2,
       "version_minor": 0
      },
      "text/plain": [
       "Uploading: 0.000%|          | 0/58 elapsed<00:00 remaining<?"
      ]
     },
     "metadata": {},
     "output_type": "display_data"
    },
    {
     "data": {
      "application/vnd.jupyter.widget-view+json": {
       "model_id": "8a4b05d4b7ec456a864d17175b14054a",
       "version_major": 2,
       "version_minor": 0
      },
      "text/plain": [
       "Uploading: 0.000%|          | 0/635554 elapsed<00:00 remaining<?"
      ]
     },
     "metadata": {},
     "output_type": "display_data"
    },
    {
     "data": {
      "application/vnd.jupyter.widget-view+json": {
       "model_id": "beae310850554fe2b8586bdd850c840b",
       "version_major": 2,
       "version_minor": 0
      },
      "text/plain": [
       "Uploading: 0.000%|          | 0/756 elapsed<00:00 remaining<?"
      ]
     },
     "metadata": {},
     "output_type": "display_data"
    },
    {
     "data": {
      "application/vnd.jupyter.widget-view+json": {
       "model_id": "1e1d138411984cc6a63030783953ff6c",
       "version_major": 2,
       "version_minor": 0
      },
      "text/plain": [
       "Uploading: 0.000%|          | 0/3230722 elapsed<00:00 remaining<?"
      ]
     },
     "metadata": {},
     "output_type": "display_data"
    },
    {
     "data": {
      "application/vnd.jupyter.widget-view+json": {
       "model_id": "95fa4b193ec24701ac8262509a7df6ee",
       "version_major": 2,
       "version_minor": 0
      },
      "text/plain": [
       "Uploading: 0.000%|          | 0/97 elapsed<00:00 remaining<?"
      ]
     },
     "metadata": {},
     "output_type": "display_data"
    },
    {
     "data": {
      "application/vnd.jupyter.widget-view+json": {
       "model_id": "969b4f527a694dd4a368d8d37b11878f",
       "version_major": 2,
       "version_minor": 0
      },
      "text/plain": [
       "Uploading: 0.000%|          | 0/494 elapsed<00:00 remaining<?"
      ]
     },
     "metadata": {},
     "output_type": "display_data"
    },
    {
     "name": "stdout",
     "output_type": "stream",
     "text": [
      "Model created, explore it at https://c.app.hopsworks.ai:443/p/1220788/models/query_model/1\n"
     ]
    }
   ],
   "source": [
    "\n",
    "# Create and save query model in registry\n",
    "mr_query_model = mr.tensorflow.create_model(\n",
    "    name=\"query_model\",\n",
    "    description=\"Model that generates query embeddings from user features for event recommendation\",\n",
    "    input_example=query_example,\n",
    "    model_schema=query_model_schema,\n",
    ")\n",
    "mr_query_model.save(\"query_model\")\n",
    "\n",
    "# Candidate model schema\n",
    "item_model_input_schema = Schema(item_df)\n",
    "item_model_output_schema = Schema([{\n",
    "    \"name\": \"candidate_embedding\",\n",
    "    \"type\": \"float32\",\n",
    "    \"shape\": [EMBED_DIM],\n",
    "}])\n",
    "\n",
    "candidate_model_schema = ModelSchema(\n",
    "    input_schema=item_model_input_schema,\n",
    "    output_schema=item_model_output_schema,\n",
    ")\n"
   ]
  },
  {
   "cell_type": "code",
   "execution_count": 111,
   "metadata": {},
   "outputs": [
    {
     "data": {
      "application/vnd.jupyter.widget-view+json": {
       "model_id": "b8330fce1de4495995c1194f7e395d52",
       "version_major": 2,
       "version_minor": 0
      },
      "text/plain": [
       "  0%|          | 0/6 [00:00<?, ?it/s]"
      ]
     },
     "metadata": {},
     "output_type": "display_data"
    },
    {
     "data": {
      "application/vnd.jupyter.widget-view+json": {
       "model_id": "99fed596418b40c690f7a8c17c46e7db",
       "version_major": 2,
       "version_minor": 0
      },
      "text/plain": [
       "Uploading: 0.000%|          | 0/58 elapsed<00:00 remaining<?"
      ]
     },
     "metadata": {},
     "output_type": "display_data"
    },
    {
     "data": {
      "application/vnd.jupyter.widget-view+json": {
       "model_id": "86213ac5acf742eaaa4f6bc11094b4a2",
       "version_major": 2,
       "version_minor": 0
      },
      "text/plain": [
       "Uploading: 0.000%|          | 0/349583 elapsed<00:00 remaining<?"
      ]
     },
     "metadata": {},
     "output_type": "display_data"
    },
    {
     "data": {
      "application/vnd.jupyter.widget-view+json": {
       "model_id": "edb82b0625ae4e64a87a4d94d856020a",
       "version_major": 2,
       "version_minor": 0
      },
      "text/plain": [
       "Uploading: 0.000%|          | 0/425 elapsed<00:00 remaining<?"
      ]
     },
     "metadata": {},
     "output_type": "display_data"
    },
    {
     "data": {
      "application/vnd.jupyter.widget-view+json": {
       "model_id": "bfa3a9039b8444759d220ad1a58eb1cc",
       "version_major": 2,
       "version_minor": 0
      },
      "text/plain": [
       "Uploading: 0.000%|          | 0/1989173 elapsed<00:00 remaining<?"
      ]
     },
     "metadata": {},
     "output_type": "display_data"
    },
    {
     "data": {
      "application/vnd.jupyter.widget-view+json": {
       "model_id": "49bcb20f1e704eaf9dd1015f22cce3a2",
       "version_major": 2,
       "version_minor": 0
      },
      "text/plain": [
       "Uploading: 0.000%|          | 0/79 elapsed<00:00 remaining<?"
      ]
     },
     "metadata": {},
     "output_type": "display_data"
    },
    {
     "data": {
      "application/vnd.jupyter.widget-view+json": {
       "model_id": "9ae1845456d94b438c7ed19473413e84",
       "version_major": 2,
       "version_minor": 0
      },
      "text/plain": [
       "Uploading: 0.000%|          | 0/432 elapsed<00:00 remaining<?"
      ]
     },
     "metadata": {},
     "output_type": "display_data"
    },
    {
     "name": "stdout",
     "output_type": "stream",
     "text": [
      "Model created, explore it at https://c.app.hopsworks.ai:443/p/1220788/models/candidate_model/1\n"
     ]
    },
    {
     "data": {
      "text/plain": [
       "Model(name: 'candidate_model', version: 1)"
      ]
     },
     "execution_count": 111,
     "metadata": {},
     "output_type": "execute_result"
    },
    {
     "ename": "",
     "evalue": "",
     "output_type": "error",
     "traceback": [
      "\u001b[1;31mThe Kernel crashed while executing code in the current cell or a previous cell. \n",
      "\u001b[1;31mPlease review the code in the cell(s) to identify a possible cause of the failure. \n",
      "\u001b[1;31mClick <a href='https://aka.ms/vscodeJupyterKernelCrash'>here</a> for more info. \n",
      "\u001b[1;31mView Jupyter <a href='command:jupyter.viewOutput'>log</a> for further details."
     ]
    }
   ],
   "source": [
    "\n",
    "# Sample for example\n",
    "candidate_example = item_df.sample().to_dict(\"records\")\n",
    "\n",
    "# Create and save candidate model in registry\n",
    "mr_candidate_model = mr.tensorflow.create_model(\n",
    "    name=\"candidate_model\",\n",
    "    description=\"Model that generates candidate embeddings from event features\",\n",
    "    input_example=candidate_example,\n",
    "    model_schema=candidate_model_schema,\n",
    ")\n",
    "mr_candidate_model.save(\"candidate_model\")\n"
   ]
  },
  {
   "cell_type": "code",
   "execution_count": null,
   "metadata": {},
   "outputs": [],
   "source": []
  },
  {
   "cell_type": "code",
   "execution_count": 48,
   "metadata": {},
   "outputs": [
    {
     "name": "stdout",
     "output_type": "stream",
     "text": [
      "2025-04-23 15:47:08,996 INFO: Closing external client and cleaning up certificates.\n",
      "Connection closed.\n",
      "2025-04-23 15:47:09,009 INFO: Initializing external client\n",
      "2025-04-23 15:47:09,012 INFO: Base URL: https://c.app.hopsworks.ai:443\n"
     ]
    },
    {
     "name": "stderr",
     "output_type": "stream",
     "text": [
      "\n",
      "\n"
     ]
    },
    {
     "name": "stdout",
     "output_type": "stream",
     "text": [
      "2025-04-23 15:47:10,305 INFO: Python Engine initialized.\n",
      "\n",
      "Logged in to project, explore it here https://c.app.hopsworks.ai:443/p/1220788\n",
      "Finished: Reading data from Hopsworks, using Hopsworks Feature Query Service (7.55s) \n",
      "Precomputing item embeddings...\n"
     ]
    }
   ],
   "source": [
    "import tensorflow as tf\n",
    "import numpy as np\n",
    "import pandas as pd\n",
    "import hopsworks\n",
    "\n",
    "\n",
    "def load_for_inference():\n",
    "    \"\"\"\n",
    "    Load query and item models from Hopsworks Model Registry\n",
    "    \"\"\"\n",
    "    # Connect to Hopsworks\n",
    "    project = hopsworks.login()\n",
    "    mr = project.get_model_registry()\n",
    "    \n",
    "    # Load query model\n",
    "    query_model_metadata = mr.get_model(\n",
    "        name=\"query_model\",\n",
    "        version=1,\n",
    "    )\n",
    "    query_model_path = query_model_metadata.download()\n",
    "    query_model = tf.saved_model.load(query_model_path)\n",
    "    \n",
    "    # Load candidate/item model\n",
    "    item_model_metadata = mr.get_model(\n",
    "        name=\"candidate_model\",\n",
    "        version=1,\n",
    "    )\n",
    "    item_model_path = item_model_metadata.download()\n",
    "    item_model = tf.saved_model.load(item_model_path)\n",
    "    \n",
    "    return project, query_model, item_model\n",
    "\n",
    "def df_to_ds(df):\n",
    "    \"\"\"Convert DataFrame to TensorFlow Dataset\"\"\"\n",
    "    return tf.data.Dataset.from_tensor_slices({\n",
    "        col: tf.constant(df[col].values) for col in df.columns\n",
    "    })\n",
    "\n",
    "def precompute_item_embeddings(item_model, item_df):\n",
    "    \"\"\"\n",
    "    Precompute embeddings for all items using the item tower\n",
    "    \n",
    "    Args:\n",
    "        item_model: Loaded item tower model\n",
    "        item_df: DataFrame with item features\n",
    "        \n",
    "    Returns:\n",
    "        DataFrame with item_id and embeddings\n",
    "    \"\"\"\n",
    "    # Prepare input features for the item model\n",
    "    item_features = {\n",
    "        \"event_id\": item_df[\"event_id\"].values,\n",
    "        \"event_type\": item_df[\"event_type\"].values,\n",
    "        \"event_city\": item_df[\"event_city\"].values\n",
    "\n",
    "    }\n",
    "    \n",
    "    # Generate embeddings in batches to avoid memory issues\n",
    "    BATCH_SIZE = 1024\n",
    "    item_ds = df_to_ds(item_df).batch(BATCH_SIZE)\n",
    "    \n",
    "    # Process in batches\n",
    "    all_embeddings = []\n",
    "    all_ids = []\n",
    "    \n",
    "    for batch in item_ds:\n",
    "        # Generate embeddings for batch\n",
    "        batch_embeddings = item_model(batch).numpy()\n",
    "        all_embeddings.append(batch_embeddings)\n",
    "        all_ids.extend(batch[\"event_id\"].numpy())\n",
    "    \n",
    "    # Concatenate all embeddings\n",
    "    item_embeddings = np.vstack(all_embeddings)\n",
    "    \n",
    "    # Create DataFrame with event_id and embeddings\n",
    "    embeddings_df = pd.DataFrame({\n",
    "        \"event_id\": all_ids,\n",
    "        \"embeddings\": list(item_embeddings)\n",
    "    })\n",
    "    \n",
    "    return embeddings_df\n",
    "\n",
    "# def build_ann_index(embeddings_df):\n",
    "#     \"\"\"\n",
    "#     Build an approximate nearest neighbor index for fast retrieval\n",
    "    \n",
    "#     Args:\n",
    "#         embeddings_df: DataFrame with item embeddings\n",
    "        \n",
    "#     Returns:\n",
    "#         ScaNN searcher object\n",
    "#     \"\"\"\n",
    "#     # Extract embeddings as numpy array\n",
    "#     embeddings = np.array([np.array(e) for e in embeddings_df[\"embeddings\"]])\n",
    "    \n",
    "#     # Normalize embeddings for cosine similarity\n",
    "#     normalized = embeddings / np.linalg.norm(embeddings, axis=1)[:, np.newaxis]\n",
    "    \n",
    "#     # Build ScaNN index for fast approximate search\n",
    "#     # Configure for 10 neighbors with dot product (cosine) similarity\n",
    "#     searcher = scann.scann_ops_pybind.builder(normalized, 10, \"dot_product\").tree(\n",
    "#         num_leaves=1000, num_leaves_to_search=100).score_ah(2).build()\n",
    "    \n",
    "#     return searcher, embeddings_df\n",
    "\n",
    "# def get_recommendations(user_features, query_model, searcher, embeddings_df, top_k=10):\n",
    "#     \"\"\"\n",
    "#     Get top-k recommendations for a user\n",
    "    \n",
    "#     Args:\n",
    "#         user_features: Dictionary of user features\n",
    "#         query_model: Query tower model\n",
    "#         searcher: ANN index searcher\n",
    "#         embeddings_df: DataFrame with item embeddings\n",
    "#         top_k: Number of recommendations to return\n",
    "        \n",
    "#     Returns:\n",
    "#         List of recommended event_ids with scores\n",
    "#     \"\"\"\n",
    "#     # Generate user embedding\n",
    "#     user_embedding = query_model(user_features).numpy()\n",
    "    \n",
    "#     # Normalize embedding for cosine similarity\n",
    "#     user_embedding_norm = user_embedding / np.linalg.norm(user_embedding)\n",
    "    \n",
    "#     # Query ANN index\n",
    "#     neighbors, distances = searcher.search(user_embedding_norm[0], top_k)\n",
    "    \n",
    "#     # Get recommended event IDs and scores\n",
    "#     recommended_events = embeddings_df.iloc[neighbors][\"event_id\"].tolist()\n",
    "#     similarity_scores = distances.tolist()\n",
    "    \n",
    "#     # Return recommendations with scores\n",
    "#     return list(zip(recommended_events, similarity_scores))\n",
    "\n",
    "# Main inference workflow\n",
    "#def main():\n",
    "# Load models\n",
    "project, query_model, item_model = load_for_inference()\n",
    "\n",
    "# Load feature store data\n",
    "fs = project.get_feature_store()\n",
    "feature_view = fs.get_feature_view(\n",
    "    name=\"event_retrieval_2\",\n",
    "    version=1,\n",
    ")\n",
    "\n",
    "# Load training data\n",
    "train_df, val_df, test_df, _, _, _ = feature_view.train_validation_test_split(\n",
    "    validation_size=0.1, \n",
    "    test_size=0.01,\n",
    "    description='Event retrieval dataset splits',\n",
    ")\n",
    "\n",
    "# Define feature columns\n",
    "QUERY_FEATURES = [\"user_id\", \"user_city\", \"age\", \"user_interests\"]\n",
    "CANDIDATE_FEATURES = [\"event_id\", \"event_type\", \"event_city\"]\n",
    "\n",
    "# Prepare item data for embeddings\n",
    "item_df = train_df[CANDIDATE_FEATURES].drop_duplicates(subset=\"event_id\").dropna()\n",
    "\n",
    "# Precompute all item embeddings (this follows the pattern in create_embedding.ipynb)\n",
    "print(\"Precomputing item embeddings...\")\n",
    "embeddings_df = precompute_item_embeddings(item_model, item_df)\n",
    "    \n",
    "#     # Build ANN index for fast retrieval\n",
    "#     print(\"Building ANN index...\")\n",
    "#     searcher, embeddings_df = build_ann_index(embeddings_df)\n",
    "    \n",
    "#     # Example: Get recommendations for a sample user\n",
    "#     sample_user = test_df[QUERY_FEATURES].iloc[0]\n",
    "#     user_features = {\n",
    "#         \"user_id\": np.array([sample_user[\"user_id\"]]),\n",
    "#         \"user_city\": np.array([sample_user[\"user_city\"]]),\n",
    "#         \"age\": np.array([sample_user[\"age\"]], dtype=np.float32),\n",
    "#         \"user_interests\": np.array([sample_user[\"user_interests\"]])\n",
    "#     }\n",
    "    \n",
    "#     # Get recommendations\n",
    "#     print(f\"Getting recommendations for user: {sample_user['user_id']}\")\n",
    "#     recommendations = get_recommendations(\n",
    "#         user_features, \n",
    "#         query_model, \n",
    "#         searcher, \n",
    "#         embeddings_df, \n",
    "#         top_k=10\n",
    "#     )\n",
    "    \n",
    "#     # Print recommendations\n",
    "#     print(\"\\nTop 10 Recommended Events:\")\n",
    "#     for i, (event_id, score) in enumerate(recommendations):\n",
    "#         event_info = item_df[item_df[\"event_id\"] == event_id].iloc[0]\n",
    "#         print(f\"{i+1}. Event: {event_id} ({event_info['event_type']} in {event_info['event_city']}) - Score: {score:.4f}\")\n",
    "\n",
    "# if __name__ == \"__main__\":\n",
    "#     main()\n"
   ]
  },
  {
   "cell_type": "code",
   "execution_count": 49,
   "metadata": {},
   "outputs": [
    {
     "data": {
      "text/html": [
       "<div>\n",
       "<style scoped>\n",
       "    .dataframe tbody tr th:only-of-type {\n",
       "        vertical-align: middle;\n",
       "    }\n",
       "\n",
       "    .dataframe tbody tr th {\n",
       "        vertical-align: top;\n",
       "    }\n",
       "\n",
       "    .dataframe thead th {\n",
       "        text-align: right;\n",
       "    }\n",
       "</style>\n",
       "<table border=\"1\" class=\"dataframe\">\n",
       "  <thead>\n",
       "    <tr style=\"text-align: right;\">\n",
       "      <th></th>\n",
       "      <th>event_id</th>\n",
       "      <th>embeddings</th>\n",
       "    </tr>\n",
       "  </thead>\n",
       "  <tbody>\n",
       "    <tr>\n",
       "      <th>0</th>\n",
       "      <td>b'ZG645S'</td>\n",
       "      <td>[3.4476292, -5.5492606, 0.14387067, 9.5169115,...</td>\n",
       "    </tr>\n",
       "    <tr>\n",
       "      <th>1</th>\n",
       "      <td>b'RE468E'</td>\n",
       "      <td>[3.4448013, -5.7475204, -0.7261773, 9.372424, ...</td>\n",
       "    </tr>\n",
       "    <tr>\n",
       "      <th>2</th>\n",
       "      <td>b'FI102Q'</td>\n",
       "      <td>[3.4446304, -5.7595, -0.7787478, 9.363693, 19....</td>\n",
       "    </tr>\n",
       "    <tr>\n",
       "      <th>3</th>\n",
       "      <td>b'RB514G'</td>\n",
       "      <td>[3.4476292, -5.5492606, 0.14387067, 9.5169115,...</td>\n",
       "    </tr>\n",
       "    <tr>\n",
       "      <th>4</th>\n",
       "      <td>b'LD592D'</td>\n",
       "      <td>[3.4815123, -4.1628456, -0.27951872, 10.137255...</td>\n",
       "    </tr>\n",
       "    <tr>\n",
       "      <th>...</th>\n",
       "      <td>...</td>\n",
       "      <td>...</td>\n",
       "    </tr>\n",
       "    <tr>\n",
       "      <th>15376</th>\n",
       "      <td>b'KK637K'</td>\n",
       "      <td>[3.3698354, -5.8188562, -1.5197269, 8.044497, ...</td>\n",
       "    </tr>\n",
       "    <tr>\n",
       "      <th>15377</th>\n",
       "      <td>b'RQ824L'</td>\n",
       "      <td>[3.156211, -12.672307, -0.49497032, 6.0379505,...</td>\n",
       "    </tr>\n",
       "    <tr>\n",
       "      <th>15378</th>\n",
       "      <td>b'LU983T'</td>\n",
       "      <td>[3.447144, -4.4038253, -0.5584752, 10.699215, ...</td>\n",
       "    </tr>\n",
       "    <tr>\n",
       "      <th>15379</th>\n",
       "      <td>b'ON949N'</td>\n",
       "      <td>[3.334577, -3.6448143, -1.9630729, 9.388473, 1...</td>\n",
       "    </tr>\n",
       "    <tr>\n",
       "      <th>15380</th>\n",
       "      <td>b'YQ528L'</td>\n",
       "      <td>[3.3313441, -5.124198, 0.9526932, 8.129668, 14...</td>\n",
       "    </tr>\n",
       "  </tbody>\n",
       "</table>\n",
       "<p>15381 rows × 2 columns</p>\n",
       "</div>"
      ],
      "text/plain": [
       "        event_id                                         embeddings\n",
       "0      b'ZG645S'  [3.4476292, -5.5492606, 0.14387067, 9.5169115,...\n",
       "1      b'RE468E'  [3.4448013, -5.7475204, -0.7261773, 9.372424, ...\n",
       "2      b'FI102Q'  [3.4446304, -5.7595, -0.7787478, 9.363693, 19....\n",
       "3      b'RB514G'  [3.4476292, -5.5492606, 0.14387067, 9.5169115,...\n",
       "4      b'LD592D'  [3.4815123, -4.1628456, -0.27951872, 10.137255...\n",
       "...          ...                                                ...\n",
       "15376  b'KK637K'  [3.3698354, -5.8188562, -1.5197269, 8.044497, ...\n",
       "15377  b'RQ824L'  [3.156211, -12.672307, -0.49497032, 6.0379505,...\n",
       "15378  b'LU983T'  [3.447144, -4.4038253, -0.5584752, 10.699215, ...\n",
       "15379  b'ON949N'  [3.334577, -3.6448143, -1.9630729, 9.388473, 1...\n",
       "15380  b'YQ528L'  [3.3313441, -5.124198, 0.9526932, 8.129668, 14...\n",
       "\n",
       "[15381 rows x 2 columns]"
      ]
     },
     "execution_count": 49,
     "metadata": {},
     "output_type": "execute_result"
    }
   ],
   "source": [
    "embeddings_df"
   ]
  },
  {
   "cell_type": "code",
   "execution_count": 63,
   "metadata": {},
   "outputs": [],
   "source": [
    "import faiss\n",
    "import numpy as np\n",
    "import pandas as pd\n",
    "import tensorflow as tf\n",
    "import hopsworks\n",
    "\n",
    "def load_for_inference():\n",
    "    \"\"\"\n",
    "    Load query and item models from Hopsworks Model Registry\n",
    "    \"\"\"\n",
    "    # Connect to Hopsworks\n",
    "    project = hopsworks.login()\n",
    "    mr = project.get_model_registry()\n",
    "    \n",
    "    # Load query model\n",
    "    query_model_metadata = mr.get_model(\n",
    "        name=\"query_model\",\n",
    "        version=1,\n",
    "    )\n",
    "    query_model_path = query_model_metadata.download()\n",
    "    query_model = tf.saved_model.load(query_model_path)\n",
    "    \n",
    "    # Load candidate/item model\n",
    "    item_model_metadata = mr.get_model(\n",
    "        name=\"candidate_model\",\n",
    "        version=1,\n",
    "    )\n",
    "    item_model_path = item_model_metadata.download()\n",
    "    item_model = tf.saved_model.load(item_model_path)\n",
    "    query_model = tf.saved_model.load(query_model_path)\n",
    "    query_fn = query_model.signatures[\"serving_default\"]\n",
    "\n",
    "    print(query_fn.structured_input_signature)\n",
    "\n",
    "\n",
    "    item_model = tf.saved_model.load(item_model_path)\n",
    "    #item_fn = item_model.signatures[\"serving_default\"]\n",
    "    \n",
    "    return project, query_model, item_model, query_fn\n",
    "\n",
    "def precompute_item_embeddings(item_model, item_df):\n",
    "    \"\"\"\n",
    "    Precompute embeddings for all items using the item tower\n",
    "    \"\"\"\n",
    "    # Prepare input features\n",
    "    item_features = {\n",
    "        \"event_id\": item_df[\"event_id\"].values,\n",
    "        \"event_type\": item_df[\"event_type\"].values,\n",
    "        \"event_city\": item_df[\"event_city\"].values,\n",
    "        \"title\": item_df[\"title\"].values if \"title\" in item_df.columns else None\n",
    "    }\n",
    "    \n",
    "    # Remove None values\n",
    "    item_features = {k: v for k, v in item_features.items() if v is not None}\n",
    "    \n",
    "    # Generate embeddings in batches\n",
    "    BATCH_SIZE = 1024\n",
    "    item_ds = tf.data.Dataset.from_tensor_slices(item_features).batch(BATCH_SIZE)\n",
    "    \n",
    "    all_embeddings = []\n",
    "    all_ids = []\n",
    "    \n",
    "    for batch in item_ds:\n",
    "        batch_embeddings = item_model(batch).numpy()\n",
    "        all_embeddings.append(batch_embeddings)\n",
    "        all_ids.extend(batch[\"event_id\"].numpy())\n",
    "    \n",
    "    # Concatenate all embeddings\n",
    "    item_embeddings = np.vstack(all_embeddings)\n",
    "    \n",
    "    # Create DataFrame with event_id and embeddings\n",
    "    embeddings_df = pd.DataFrame({\n",
    "        \"event_id\": all_ids,\n",
    "        \"embeddings\": list(item_embeddings)\n",
    "    })\n",
    "    \n",
    "    return embeddings_df, item_embeddings\n",
    "\n",
    "def build_faiss_index(item_embeddings):\n",
    "    \"\"\"\n",
    "    Build a Faiss index for fast similarity search\n",
    "    \n",
    "    Args:\n",
    "        item_embeddings: numpy array of shape (num_items, embedding_dim)\n",
    "        \n",
    "    Returns:\n",
    "        Faiss index\n",
    "    \"\"\"\n",
    "    # Get embedding dimension\n",
    "    d = item_embeddings.shape[1]\n",
    "    \n",
    "    # Create a flat index using inner product (equivalent to cosine similarity when vectors are normalized)\n",
    "    index = faiss.IndexFlatIP(d)\n",
    "    \n",
    "    # Normalize vectors for cosine similarity\n",
    "    faiss.normalize_L2(item_embeddings)\n",
    "    \n",
    "    # Add vectors to the index\n",
    "    index.add(item_embeddings)\n",
    "    \n",
    "    return index\n",
    "\n",
    "def get_recommendations(user_features, query_model, faiss_index, embeddings_df, item_embeddings, top_k=10):\n",
    "    \"\"\"\n",
    "    Get top-k recommendations for a user\n",
    "    \n",
    "    Args:\n",
    "        user_features: Dictionary of user features\n",
    "        query_model: Query tower model\n",
    "        faiss_index: Faiss index\n",
    "        embeddings_df: DataFrame with item embeddings\n",
    "        item_embeddings: Numpy array of item embeddings\n",
    "        top_k: Number of recommendations to return\n",
    "        \n",
    "    Returns:\n",
    "        List of recommended event_ids with scores\n",
    "    \"\"\"\n",
    "    # Generate user embedding\n",
    "    #user_embedding = query_model(user_features).numpy()\n",
    "    user_emb_out = query_model(**user_features)\n",
    "    # The output is a dict; get the embedding tensor (usually 'output_0' or check keys)\n",
    "    user_embedding = next(iter(user_emb_out.values())).numpy()\n",
    "\n",
    "    # Normalize for cosine similarity\n",
    "    faiss.normalize_L2(user_embedding)\n",
    "    \n",
    "    # Query Faiss index\n",
    "    distances, indices = faiss_index.search(user_embedding, top_k)\n",
    "    \n",
    "    # Get recommended event IDs and scores\n",
    "    recommended_events = embeddings_df.iloc[indices[0]][\"event_id\"].tolist()\n",
    "    similarity_scores = distances[0].tolist()\n",
    "    \n",
    "    # Return recommendations with scores\n",
    "    return list(zip(recommended_events, similarity_scores))\n"
   ]
  },
  {
   "cell_type": "code",
   "execution_count": 64,
   "metadata": {},
   "outputs": [
    {
     "name": "stdout",
     "output_type": "stream",
     "text": [
      "2025-04-23 16:52:44,140 INFO: Closing external client and cleaning up certificates.\n",
      "Connection closed.\n",
      "2025-04-23 16:52:44,159 INFO: Initializing external client\n",
      "2025-04-23 16:52:44,162 INFO: Base URL: https://c.app.hopsworks.ai:443\n"
     ]
    },
    {
     "name": "stderr",
     "output_type": "stream",
     "text": [
      "\n",
      "\n"
     ]
    },
    {
     "name": "stdout",
     "output_type": "stream",
     "text": [
      "2025-04-23 16:52:45,560 INFO: Python Engine initialized.\n",
      "\n",
      "Logged in to project, explore it here https://c.app.hopsworks.ai:443/p/1220788\n",
      "((), {'instances_2': TensorSpec(shape=(None,), dtype=tf.string, name='instances_2'), 'instances': TensorSpec(shape=(None,), dtype=tf.int64, name='instances'), 'instances_3': TensorSpec(shape=(None,), dtype=tf.string, name='instances_3'), 'instances_1': TensorSpec(shape=(None,), dtype=tf.string, name='instances_1')})\n"
     ]
    }
   ],
   "source": [
    "\n",
    "# Main inference workflow\n",
    "# def main():\n",
    "# Load models\n",
    "project, query_model, item_model, query_fn = load_for_inference()\n"
   ]
  },
  {
   "cell_type": "markdown",
   "metadata": {},
   "source": [
    "((), {'instances_2': TensorSpec(shape=(None,), dtype=tf.string, name='instances_2'), 'instances': TensorSpec(shape=(None,), dtype=tf.int64, name='instances'), 'instances_3': TensorSpec(shape=(None,), dtype=tf.string, name='instances_3'), 'instances_1': TensorSpec(shape=(None,), dtype=tf.string, name='instances_1')})"
   ]
  },
  {
   "cell_type": "code",
   "execution_count": null,
   "metadata": {},
   "outputs": [],
   "source": [
    "\n",
    "# Load feature store data\n",
    "# fs = project.get_feature_store()\n",
    "# feature_view = fs.get_feature_view(\n",
    "#     name=\"event_retrieval_2\",\n",
    "#     version=1,\n",
    "# )\n",
    "\n",
    "# # Load training data\n",
    "# train_df, val_df, test_df, _, _, _ = feature_view.train_validation_test_split(\n",
    "#     validation_size=0.1, \n",
    "#     test_size=0.01,\n",
    "#     description='Event retrieval dataset splits',\n",
    "# )\n",
    "\n",
    "# Define feature columns\n",
    "# QUERY_FEATURES = [\"user_id\", \"user_city\", \"age\", \"user_interests\"]\n",
    "# CANDIDATE_FEATURES = [\"event_id\", \"event_type\", \"event_city\"]\n",
    "\n",
    "# # Prepare item data for embeddings\n",
    "# item_df = train_df[CANDIDATE_FEATURES].drop_duplicates(subset=\"event_id\").dropna()\n",
    "\n",
    "# Precompute all item embeddings\n",
    "print(\"Precomputing item embeddings...\")\n",
    "embeddings_df, item_embeddings = precompute_item_embeddings(item_model, item_df)\n",
    "\n",
    "# Build Faiss index for fast retrieval\n",
    "print(\"Building Faiss index...\")\n",
    "faiss_index = build_faiss_index(item_embeddings.copy())  # Copy to avoid modifying original\n"
   ]
  },
  {
   "cell_type": "code",
   "execution_count": 62,
   "metadata": {},
   "outputs": [
    {
     "name": "stdout",
     "output_type": "stream",
     "text": [
      "Getting recommendations for user: IH386K\n"
     ]
    },
    {
     "ename": "TypeError",
     "evalue": "Binding inputs to tf.function failed due to `missing a required argument: 'instances'`. Received args: () and kwargs: {'user_id': array(['IH386K'], dtype='<U6'), 'user_city': array(['Mumbai'], dtype='<U6'), 'age': array([43.], dtype=float32), 'user_interests': array(['food art tech fitness'], dtype='<U21')} for signature: (*, instances: TensorSpec(shape=(None,), dtype=tf.int64, name='instances'), instances_1: TensorSpec(shape=(None,), dtype=tf.string, name='instances_1'), instances_2: TensorSpec(shape=(None,), dtype=tf.string, name='instances_2'), instances_3: TensorSpec(shape=(None,), dtype=tf.string, name='instances_3')) -> Dict[['age', TensorSpec(shape=(None,), dtype=tf.int64, name='age')], ['user_id', TensorSpec(shape=(None,), dtype=tf.string, name='user_id')], ['query_emb', TensorSpec(shape=(None, 32), dtype=tf.float32, name='query_emb')], ['user_interests', TensorSpec(shape=(None,), dtype=tf.string, name='user_interests')], ['user_city', TensorSpec(shape=(None,), dtype=tf.string, name='user_city')]].\nFallback to flat signature also failed due to: signature_wrapper(instances, instances_1, instances_2, instances_3) missing required arguments: instances, instances_1, instances_2, instances_3.",
     "output_type": "error",
     "traceback": [
      "\u001b[0;31m---------------------------------------------------------------------------\u001b[0m",
      "\u001b[0;31mTypeError\u001b[0m                                 Traceback (most recent call last)",
      "File \u001b[0;32m~/.pyenv/versions/3.10.6/envs/thesisenv/lib/python3.10/site-packages/tensorflow/python/eager/polymorphic_function/function_type_utils.py:442\u001b[0m, in \u001b[0;36mbind_function_inputs\u001b[0;34m(args, kwargs, function_type, default_values)\u001b[0m\n\u001b[1;32m    441\u001b[0m \u001b[38;5;28;01mtry\u001b[39;00m:\n\u001b[0;32m--> 442\u001b[0m   bound_arguments \u001b[38;5;241m=\u001b[39m \u001b[43mfunction_type\u001b[49m\u001b[38;5;241;43m.\u001b[39;49m\u001b[43mbind_with_defaults\u001b[49m\u001b[43m(\u001b[49m\n\u001b[1;32m    443\u001b[0m \u001b[43m      \u001b[49m\u001b[43margs\u001b[49m\u001b[43m,\u001b[49m\u001b[43m \u001b[49m\u001b[43msanitized_kwargs\u001b[49m\u001b[43m,\u001b[49m\u001b[43m \u001b[49m\u001b[43mdefault_values\u001b[49m\n\u001b[1;32m    444\u001b[0m \u001b[43m  \u001b[49m\u001b[43m)\u001b[49m\n\u001b[1;32m    445\u001b[0m \u001b[38;5;28;01mexcept\u001b[39;00m \u001b[38;5;167;01mException\u001b[39;00m \u001b[38;5;28;01mas\u001b[39;00m e:\n",
      "File \u001b[0;32m~/.pyenv/versions/3.10.6/envs/thesisenv/lib/python3.10/site-packages/tensorflow/core/function/polymorphism/function_type.py:264\u001b[0m, in \u001b[0;36mFunctionType.bind_with_defaults\u001b[0;34m(self, args, kwargs, default_values)\u001b[0m\n\u001b[1;32m    263\u001b[0m \u001b[38;5;250m\u001b[39m\u001b[38;5;124;03m\"\"\"Returns BoundArguments with default values filled in.\"\"\"\u001b[39;00m\n\u001b[0;32m--> 264\u001b[0m bound_arguments \u001b[38;5;241m=\u001b[39m \u001b[38;5;28;43mself\u001b[39;49m\u001b[38;5;241;43m.\u001b[39;49m\u001b[43mbind\u001b[49m\u001b[43m(\u001b[49m\u001b[38;5;241;43m*\u001b[39;49m\u001b[43margs\u001b[49m\u001b[43m,\u001b[49m\u001b[43m \u001b[49m\u001b[38;5;241;43m*\u001b[39;49m\u001b[38;5;241;43m*\u001b[39;49m\u001b[43mkwargs\u001b[49m\u001b[43m)\u001b[49m\n\u001b[1;32m    265\u001b[0m bound_arguments\u001b[38;5;241m.\u001b[39mapply_defaults()\n",
      "File \u001b[0;32m~/.pyenv/versions/3.10.6/lib/python3.10/inspect.py:3179\u001b[0m, in \u001b[0;36mSignature.bind\u001b[0;34m(self, *args, **kwargs)\u001b[0m\n\u001b[1;32m   3175\u001b[0m \u001b[38;5;250m\u001b[39m\u001b[38;5;124;03m\"\"\"Get a BoundArguments object, that maps the passed `args`\u001b[39;00m\n\u001b[1;32m   3176\u001b[0m \u001b[38;5;124;03mand `kwargs` to the function's signature.  Raises `TypeError`\u001b[39;00m\n\u001b[1;32m   3177\u001b[0m \u001b[38;5;124;03mif the passed arguments can not be bound.\u001b[39;00m\n\u001b[1;32m   3178\u001b[0m \u001b[38;5;124;03m\"\"\"\u001b[39;00m\n\u001b[0;32m-> 3179\u001b[0m \u001b[38;5;28;01mreturn\u001b[39;00m \u001b[38;5;28;43mself\u001b[39;49m\u001b[38;5;241;43m.\u001b[39;49m\u001b[43m_bind\u001b[49m\u001b[43m(\u001b[49m\u001b[43margs\u001b[49m\u001b[43m,\u001b[49m\u001b[43m \u001b[49m\u001b[43mkwargs\u001b[49m\u001b[43m)\u001b[49m\n",
      "File \u001b[0;32m~/.pyenv/versions/3.10.6/lib/python3.10/inspect.py:3094\u001b[0m, in \u001b[0;36mSignature._bind\u001b[0;34m(self, args, kwargs, partial)\u001b[0m\n\u001b[1;32m   3093\u001b[0m                 msg \u001b[38;5;241m=\u001b[39m msg\u001b[38;5;241m.\u001b[39mformat(arg\u001b[38;5;241m=\u001b[39mparam\u001b[38;5;241m.\u001b[39mname)\n\u001b[0;32m-> 3094\u001b[0m                 \u001b[38;5;28;01mraise\u001b[39;00m \u001b[38;5;167;01mTypeError\u001b[39;00m(msg) \u001b[38;5;28;01mfrom\u001b[39;00m\u001b[38;5;250m \u001b[39m\u001b[38;5;28;01mNone\u001b[39;00m\n\u001b[1;32m   3095\u001b[0m \u001b[38;5;28;01melse\u001b[39;00m:\n\u001b[1;32m   3096\u001b[0m     \u001b[38;5;66;03m# We have a positional argument to process\u001b[39;00m\n",
      "\u001b[0;31mTypeError\u001b[0m: missing a required argument: 'instances'",
      "\nThe above exception was the direct cause of the following exception:\n",
      "\u001b[0;31mTypeError\u001b[0m                                 Traceback (most recent call last)",
      "File \u001b[0;32m~/.pyenv/versions/3.10.6/envs/thesisenv/lib/python3.10/site-packages/tensorflow/python/eager/polymorphic_function/concrete_function.py:1180\u001b[0m, in \u001b[0;36m_call_impl\u001b[0;34m(self, args, kwargs)\u001b[0m\n\u001b[1;32m   1179\u001b[0m   \u001b[38;5;28;01mreturn\u001b[39;00m \u001b[38;5;28mself\u001b[39m\u001b[38;5;241m.\u001b[39m_call_with_structured_signature(args, kwargs)\n\u001b[0;32m-> 1180\u001b[0m \u001b[38;5;28;01mexcept\u001b[39;00m \u001b[38;5;167;01mTypeError\u001b[39;00m \u001b[38;5;28;01mas\u001b[39;00m structured_err:\n\u001b[1;32m   1181\u001b[0m   \u001b[38;5;28;01mtry\u001b[39;00m:\n",
      "File \u001b[0;32m~/.pyenv/versions/3.10.6/envs/thesisenv/lib/python3.10/site-packages/tensorflow/python/eager/polymorphic_function/concrete_function.py:1260\u001b[0m, in \u001b[0;36m_call_with_structured_signature\u001b[0;34m(self, args, kwargs)\u001b[0m\n\u001b[1;32m   1245\u001b[0m \u001b[38;5;250m\u001b[39m\u001b[38;5;124;03m\"\"\"Executes the wrapped function with the structured signature.\u001b[39;00m\n\u001b[1;32m   1246\u001b[0m \n\u001b[1;32m   1247\u001b[0m \u001b[38;5;124;03mArgs:\u001b[39;00m\n\u001b[0;32m   (...)\u001b[0m\n\u001b[1;32m   1256\u001b[0m \u001b[38;5;124;03m    of this `ConcreteFunction`.\u001b[39;00m\n\u001b[1;32m   1257\u001b[0m \u001b[38;5;124;03m\"\"\"\u001b[39;00m\n\u001b[1;32m   1258\u001b[0m bound_args \u001b[38;5;241m=\u001b[39m (\n\u001b[1;32m   1259\u001b[0m     function_type_utils\u001b[38;5;241m.\u001b[39mcanonicalize_function_inputs(\n\u001b[0;32m-> 1260\u001b[0m         args, kwargs, \u001b[38;5;28mself\u001b[39m\u001b[38;5;241m.\u001b[39mfunction_type)\n\u001b[1;32m   1261\u001b[0m )\n\u001b[1;32m   1262\u001b[0m filtered_flat_args \u001b[38;5;241m=\u001b[39m \u001b[38;5;28mself\u001b[39m\u001b[38;5;241m.\u001b[39mfunction_type\u001b[38;5;241m.\u001b[39munpack_inputs(bound_args)\n",
      "File \u001b[0;32m~/.pyenv/versions/3.10.6/envs/thesisenv/lib/python3.10/site-packages/tensorflow/python/eager/polymorphic_function/function_type_utils.py:422\u001b[0m, in \u001b[0;36mcanonicalize_function_inputs\u001b[0;34m(args, kwargs, function_type, default_values, is_pure)\u001b[0m\n\u001b[1;32m    421\u001b[0m   args, kwargs \u001b[38;5;241m=\u001b[39m _convert_variables_to_tensors(args, kwargs)\n\u001b[0;32m--> 422\u001b[0m bound_arguments \u001b[38;5;241m=\u001b[39m \u001b[43mbind_function_inputs\u001b[49m\u001b[43m(\u001b[49m\n\u001b[1;32m    423\u001b[0m \u001b[43m    \u001b[49m\u001b[43margs\u001b[49m\u001b[43m,\u001b[49m\u001b[43m \u001b[49m\u001b[43mkwargs\u001b[49m\u001b[43m,\u001b[49m\u001b[43m \u001b[49m\u001b[43mfunction_type\u001b[49m\u001b[43m,\u001b[49m\u001b[43m \u001b[49m\u001b[43mdefault_values\u001b[49m\n\u001b[1;32m    424\u001b[0m \u001b[43m\u001b[49m\u001b[43m)\u001b[49m\n\u001b[1;32m    425\u001b[0m \u001b[38;5;28;01mreturn\u001b[39;00m bound_arguments\n",
      "File \u001b[0;32m~/.pyenv/versions/3.10.6/envs/thesisenv/lib/python3.10/site-packages/tensorflow/python/eager/polymorphic_function/function_type_utils.py:446\u001b[0m, in \u001b[0;36mbind_function_inputs\u001b[0;34m(args, kwargs, function_type, default_values)\u001b[0m\n\u001b[1;32m    445\u001b[0m \u001b[38;5;28;01mexcept\u001b[39;00m \u001b[38;5;167;01mException\u001b[39;00m \u001b[38;5;28;01mas\u001b[39;00m e:\n\u001b[0;32m--> 446\u001b[0m   \u001b[38;5;28;01mraise\u001b[39;00m \u001b[38;5;167;01mTypeError\u001b[39;00m(\n\u001b[1;32m    447\u001b[0m       \u001b[38;5;124mf\u001b[39m\u001b[38;5;124m\"\u001b[39m\u001b[38;5;124mBinding inputs to tf.function failed due to `\u001b[39m\u001b[38;5;132;01m{\u001b[39;00me\u001b[38;5;132;01m}\u001b[39;00m\u001b[38;5;124m`. \u001b[39m\u001b[38;5;124m\"\u001b[39m\n\u001b[1;32m    448\u001b[0m       \u001b[38;5;124mf\u001b[39m\u001b[38;5;124m\"\u001b[39m\u001b[38;5;124mReceived args: \u001b[39m\u001b[38;5;132;01m{\u001b[39;00margs\u001b[38;5;132;01m}\u001b[39;00m\u001b[38;5;124m and kwargs: \u001b[39m\u001b[38;5;132;01m{\u001b[39;00msanitized_kwargs\u001b[38;5;132;01m}\u001b[39;00m\u001b[38;5;124m for signature:\u001b[39m\u001b[38;5;124m\"\u001b[39m\n\u001b[1;32m    449\u001b[0m       \u001b[38;5;124mf\u001b[39m\u001b[38;5;124m\"\u001b[39m\u001b[38;5;124m \u001b[39m\u001b[38;5;132;01m{\u001b[39;00mfunction_type\u001b[38;5;132;01m}\u001b[39;00m\u001b[38;5;124m.\u001b[39m\u001b[38;5;124m\"\u001b[39m\n\u001b[1;32m    450\u001b[0m   ) \u001b[38;5;28;01mfrom\u001b[39;00m\u001b[38;5;250m \u001b[39m\u001b[38;5;21;01me\u001b[39;00m\n\u001b[1;32m    451\u001b[0m \u001b[38;5;28;01mreturn\u001b[39;00m bound_arguments\n",
      "\u001b[0;31mTypeError\u001b[0m: Binding inputs to tf.function failed due to `missing a required argument: 'instances'`. Received args: () and kwargs: {'user_id': array(['IH386K'], dtype='<U6'), 'user_city': array(['Mumbai'], dtype='<U6'), 'age': array([43.], dtype=float32), 'user_interests': array(['food art tech fitness'], dtype='<U21')} for signature: (*, instances: TensorSpec(shape=(None,), dtype=tf.int64, name='instances'), instances_1: TensorSpec(shape=(None,), dtype=tf.string, name='instances_1'), instances_2: TensorSpec(shape=(None,), dtype=tf.string, name='instances_2'), instances_3: TensorSpec(shape=(None,), dtype=tf.string, name='instances_3')) -> Dict[['age', TensorSpec(shape=(None,), dtype=tf.int64, name='age')], ['user_id', TensorSpec(shape=(None,), dtype=tf.string, name='user_id')], ['query_emb', TensorSpec(shape=(None, 32), dtype=tf.float32, name='query_emb')], ['user_interests', TensorSpec(shape=(None,), dtype=tf.string, name='user_interests')], ['user_city', TensorSpec(shape=(None,), dtype=tf.string, name='user_city')]].",
      "\nDuring handling of the above exception, another exception occurred:\n",
      "\u001b[0;31mKeyError\u001b[0m                                  Traceback (most recent call last)",
      "File \u001b[0;32m~/.pyenv/versions/3.10.6/envs/thesisenv/lib/python3.10/site-packages/tensorflow/python/eager/polymorphic_function/concrete_function.py:1219\u001b[0m, in \u001b[0;36m_call_with_flat_signature\u001b[0;34m(self, args, kwargs)\u001b[0m\n\u001b[1;32m   1216\u001b[0m \u001b[38;5;28;01mtry\u001b[39;00m:\n\u001b[1;32m   1217\u001b[0m   args\u001b[38;5;241m.\u001b[39mappend(\n\u001b[1;32m   1218\u001b[0m       kwargs\u001b[38;5;241m.\u001b[39mpop(\n\u001b[0;32m-> 1219\u001b[0m           function_type_lib\u001b[38;5;241m.\u001b[39msanitize_arg_name(compat\u001b[38;5;241m.\u001b[39mas_str(keyword))))\n\u001b[1;32m   1220\u001b[0m \u001b[38;5;28;01mexcept\u001b[39;00m \u001b[38;5;167;01mKeyError\u001b[39;00m:\n",
      "\u001b[0;31mKeyError\u001b[0m: 'instances'",
      "\nDuring handling of the above exception, another exception occurred:\n",
      "\u001b[0;31mTypeError\u001b[0m                                 Traceback (most recent call last)",
      "File \u001b[0;32m~/.pyenv/versions/3.10.6/envs/thesisenv/lib/python3.10/site-packages/tensorflow/python/eager/polymorphic_function/concrete_function.py:1183\u001b[0m, in \u001b[0;36m_call_impl\u001b[0;34m(self, args, kwargs)\u001b[0m\n\u001b[1;32m   1182\u001b[0m   \u001b[38;5;28;01mreturn\u001b[39;00m \u001b[38;5;28mself\u001b[39m\u001b[38;5;241m.\u001b[39m_call_with_flat_signature(args, kwargs)\n\u001b[0;32m-> 1183\u001b[0m \u001b[38;5;28;01mexcept\u001b[39;00m (\u001b[38;5;167;01mTypeError\u001b[39;00m, \u001b[38;5;167;01mValueError\u001b[39;00m) \u001b[38;5;28;01mas\u001b[39;00m flat_err:\n\u001b[1;32m   1184\u001b[0m   \u001b[38;5;28;01mraise\u001b[39;00m \u001b[38;5;167;01mTypeError\u001b[39;00m(  \u001b[38;5;66;03m# pylint: disable=raise-missing-from\u001b[39;00m\n\u001b[1;32m   1185\u001b[0m       \u001b[38;5;28mstr\u001b[39m(structured_err)\n\u001b[1;32m   1186\u001b[0m       \u001b[38;5;241m+\u001b[39m \u001b[38;5;124m\"\u001b[39m\u001b[38;5;130;01m\\n\u001b[39;00m\u001b[38;5;124mFallback to flat signature also failed due to: \u001b[39m\u001b[38;5;124m\"\u001b[39m\n\u001b[1;32m   1187\u001b[0m       \u001b[38;5;241m+\u001b[39m \u001b[38;5;28mstr\u001b[39m(flat_err)\n\u001b[1;32m   1188\u001b[0m   )\n",
      "File \u001b[0;32m~/.pyenv/versions/3.10.6/envs/thesisenv/lib/python3.10/site-packages/tensorflow/python/eager/polymorphic_function/concrete_function.py:1226\u001b[0m, in \u001b[0;36m_call_with_flat_signature\u001b[0;34m(self, args, kwargs)\u001b[0m\n\u001b[1;32m   1223\u001b[0m     missing_required_args \u001b[38;5;241m=\u001b[39m \u001b[38;5;28msorted\u001b[39m(\n\u001b[1;32m   1224\u001b[0m         \u001b[38;5;28mset\u001b[39m(\u001b[38;5;28mself\u001b[39m\u001b[38;5;241m.\u001b[39m_arg_keywords) \u001b[38;5;241m-\u001b[39m \u001b[38;5;28mset\u001b[39m(specified_keywords))\n\u001b[1;32m   1225\u001b[0m     \u001b[38;5;28;01mraise\u001b[39;00m \u001b[38;5;167;01mTypeError\u001b[39;00m(\u001b[38;5;124mf\u001b[39m\u001b[38;5;124m\"\u001b[39m\u001b[38;5;132;01m{\u001b[39;00m\u001b[38;5;28mself\u001b[39m\u001b[38;5;241m.\u001b[39m_flat_signature_summary()\u001b[38;5;132;01m}\u001b[39;00m\u001b[38;5;124m missing required \u001b[39m\u001b[38;5;124m\"\u001b[39m\n\u001b[0;32m-> 1226\u001b[0m                     \u001b[38;5;124mf\u001b[39m\u001b[38;5;124m\"\u001b[39m\u001b[38;5;124marguments: \u001b[39m\u001b[38;5;132;01m{\u001b[39;00m\u001b[38;5;124m'\u001b[39m\u001b[38;5;124m, \u001b[39m\u001b[38;5;124m'\u001b[39m\u001b[38;5;241m.\u001b[39mjoin(missing_required_args)\u001b[38;5;132;01m}\u001b[39;00m\u001b[38;5;124m.\u001b[39m\u001b[38;5;124m\"\u001b[39m)\n\u001b[1;32m   1227\u001b[0m \u001b[38;5;28;01mif\u001b[39;00m kwargs:\n",
      "\u001b[0;31mTypeError\u001b[0m: signature_wrapper(instances, instances_1, instances_2, instances_3) missing required arguments: instances, instances_1, instances_2, instances_3.",
      "\nDuring handling of the above exception, another exception occurred:\n",
      "\u001b[0;31mTypeError\u001b[0m                                 Traceback (most recent call last)",
      "Cell \u001b[0;32mIn[62], line 13\u001b[0m\n\u001b[1;32m     11\u001b[0m \u001b[38;5;66;03m# Get recommendations\u001b[39;00m\n\u001b[1;32m     12\u001b[0m \u001b[38;5;28mprint\u001b[39m(\u001b[38;5;124mf\u001b[39m\u001b[38;5;124m\"\u001b[39m\u001b[38;5;124mGetting recommendations for user: \u001b[39m\u001b[38;5;132;01m{\u001b[39;00msample_user[\u001b[38;5;124m'\u001b[39m\u001b[38;5;124muser_id\u001b[39m\u001b[38;5;124m'\u001b[39m]\u001b[38;5;132;01m}\u001b[39;00m\u001b[38;5;124m\"\u001b[39m)\n\u001b[0;32m---> 13\u001b[0m recommendations \u001b[38;5;241m=\u001b[39m \u001b[43mget_recommendations\u001b[49m\u001b[43m(\u001b[49m\n\u001b[1;32m     14\u001b[0m \u001b[43m    \u001b[49m\u001b[43muser_features\u001b[49m\u001b[43m,\u001b[49m\u001b[43m \u001b[49m\n\u001b[1;32m     15\u001b[0m \u001b[43m    \u001b[49m\u001b[43mquery_fn\u001b[49m\u001b[43m,\u001b[49m\u001b[43m \u001b[49m\n\u001b[1;32m     16\u001b[0m \u001b[43m    \u001b[49m\u001b[43mfaiss_index\u001b[49m\u001b[43m,\u001b[49m\u001b[43m \u001b[49m\n\u001b[1;32m     17\u001b[0m \u001b[43m    \u001b[49m\u001b[43membeddings_df\u001b[49m\u001b[43m,\u001b[49m\n\u001b[1;32m     18\u001b[0m \u001b[43m    \u001b[49m\u001b[43mitem_embeddings\u001b[49m\u001b[43m,\u001b[49m\n\u001b[1;32m     19\u001b[0m \u001b[43m    \u001b[49m\u001b[43mtop_k\u001b[49m\u001b[38;5;241;43m=\u001b[39;49m\u001b[38;5;241;43m10\u001b[39;49m\n\u001b[1;32m     20\u001b[0m \u001b[43m)\u001b[49m\n\u001b[1;32m     22\u001b[0m \u001b[38;5;66;03m# Print recommendations\u001b[39;00m\n\u001b[1;32m     23\u001b[0m \u001b[38;5;28mprint\u001b[39m(\u001b[38;5;124m\"\u001b[39m\u001b[38;5;130;01m\\n\u001b[39;00m\u001b[38;5;124mTop 10 Recommended Events:\u001b[39m\u001b[38;5;124m\"\u001b[39m)\n",
      "Cell \u001b[0;32mIn[61], line 117\u001b[0m, in \u001b[0;36mget_recommendations\u001b[0;34m(user_features, query_model, faiss_index, embeddings_df, item_embeddings, top_k)\u001b[0m\n\u001b[1;32m    101\u001b[0m \u001b[38;5;250m\u001b[39m\u001b[38;5;124;03m\"\"\"\u001b[39;00m\n\u001b[1;32m    102\u001b[0m \u001b[38;5;124;03mGet top-k recommendations for a user\u001b[39;00m\n\u001b[1;32m    103\u001b[0m \u001b[38;5;124;03m\u001b[39;00m\n\u001b[0;32m   (...)\u001b[0m\n\u001b[1;32m    113\u001b[0m \u001b[38;5;124;03m    List of recommended event_ids with scores\u001b[39;00m\n\u001b[1;32m    114\u001b[0m \u001b[38;5;124;03m\"\"\"\u001b[39;00m\n\u001b[1;32m    115\u001b[0m \u001b[38;5;66;03m# Generate user embedding\u001b[39;00m\n\u001b[1;32m    116\u001b[0m \u001b[38;5;66;03m#user_embedding = query_model(user_features).numpy()\u001b[39;00m\n\u001b[0;32m--> 117\u001b[0m user_emb_out \u001b[38;5;241m=\u001b[39m \u001b[43mquery_model\u001b[49m\u001b[43m(\u001b[49m\u001b[38;5;241;43m*\u001b[39;49m\u001b[38;5;241;43m*\u001b[39;49m\u001b[43muser_features\u001b[49m\u001b[43m)\u001b[49m\n\u001b[1;32m    118\u001b[0m \u001b[38;5;66;03m# The output is a dict; get the embedding tensor (usually 'output_0' or check keys)\u001b[39;00m\n\u001b[1;32m    119\u001b[0m user_embedding \u001b[38;5;241m=\u001b[39m \u001b[38;5;28mnext\u001b[39m(\u001b[38;5;28miter\u001b[39m(user_emb_out\u001b[38;5;241m.\u001b[39mvalues()))\u001b[38;5;241m.\u001b[39mnumpy()\n",
      "File \u001b[0;32m~/.pyenv/versions/3.10.6/envs/thesisenv/lib/python3.10/site-packages/tensorflow/python/eager/polymorphic_function/concrete_function.py:1171\u001b[0m, in \u001b[0;36m__call__\u001b[0;34m(self, *args, **kwargs)\u001b[0m\n\u001b[1;32m      0\u001b[0m <Error retrieving source code with stack_data see ipython/ipython#13598>\n",
      "File \u001b[0;32m~/.pyenv/versions/3.10.6/envs/thesisenv/lib/python3.10/site-packages/tensorflow/python/eager/polymorphic_function/concrete_function.py:1185\u001b[0m, in \u001b[0;36m_call_impl\u001b[0;34m(self, args, kwargs)\u001b[0m\n\u001b[1;32m   1182\u001b[0m       \u001b[38;5;28;01mreturn\u001b[39;00m \u001b[38;5;28mself\u001b[39m\u001b[38;5;241m.\u001b[39m_call_with_flat_signature(args, kwargs)\n\u001b[1;32m   1183\u001b[0m     \u001b[38;5;28;01mexcept\u001b[39;00m (\u001b[38;5;167;01mTypeError\u001b[39;00m, \u001b[38;5;167;01mValueError\u001b[39;00m) \u001b[38;5;28;01mas\u001b[39;00m flat_err:\n\u001b[1;32m   1184\u001b[0m       \u001b[38;5;28;01mraise\u001b[39;00m \u001b[38;5;167;01mTypeError\u001b[39;00m(  \u001b[38;5;66;03m# pylint: disable=raise-missing-from\u001b[39;00m\n\u001b[0;32m-> 1185\u001b[0m           \u001b[38;5;28mstr\u001b[39m(structured_err)\n\u001b[1;32m   1186\u001b[0m           \u001b[38;5;241m+\u001b[39m \u001b[38;5;124m\"\u001b[39m\u001b[38;5;130;01m\\n\u001b[39;00m\u001b[38;5;124mFallback to flat signature also failed due to: \u001b[39m\u001b[38;5;124m\"\u001b[39m\n\u001b[1;32m   1187\u001b[0m           \u001b[38;5;241m+\u001b[39m \u001b[38;5;28mstr\u001b[39m(flat_err)\n\u001b[1;32m   1188\u001b[0m       )\n\u001b[1;32m   1190\u001b[0m \u001b[38;5;28;01mreturn\u001b[39;00m \u001b[38;5;28mself\u001b[39m\u001b[38;5;241m.\u001b[39m_call_with_flat_signature(args, kwargs)\n",
      "\u001b[0;31mTypeError\u001b[0m: Binding inputs to tf.function failed due to `missing a required argument: 'instances'`. Received args: () and kwargs: {'user_id': array(['IH386K'], dtype='<U6'), 'user_city': array(['Mumbai'], dtype='<U6'), 'age': array([43.], dtype=float32), 'user_interests': array(['food art tech fitness'], dtype='<U21')} for signature: (*, instances: TensorSpec(shape=(None,), dtype=tf.int64, name='instances'), instances_1: TensorSpec(shape=(None,), dtype=tf.string, name='instances_1'), instances_2: TensorSpec(shape=(None,), dtype=tf.string, name='instances_2'), instances_3: TensorSpec(shape=(None,), dtype=tf.string, name='instances_3')) -> Dict[['age', TensorSpec(shape=(None,), dtype=tf.int64, name='age')], ['user_id', TensorSpec(shape=(None,), dtype=tf.string, name='user_id')], ['query_emb', TensorSpec(shape=(None, 32), dtype=tf.float32, name='query_emb')], ['user_interests', TensorSpec(shape=(None,), dtype=tf.string, name='user_interests')], ['user_city', TensorSpec(shape=(None,), dtype=tf.string, name='user_city')]].\nFallback to flat signature also failed due to: signature_wrapper(instances, instances_1, instances_2, instances_3) missing required arguments: instances, instances_1, instances_2, instances_3."
     ]
    }
   ],
   "source": [
    "\n",
    "# Example: Get recommendations for a sample user\n",
    "sample_user = test_df[QUERY_FEATURES].iloc[0]\n",
    "user_features = {\n",
    "    \"user_id\": np.array([sample_user[\"user_id\"]]),\n",
    "    \"user_city\": np.array([sample_user[\"user_city\"]]),\n",
    "    \"age\": np.array([sample_user[\"age\"]], dtype=np.float32),\n",
    "    \"user_interests\": np.array([sample_user[\"user_interests\"]])\n",
    "}\n",
    "\n",
    "\n",
    "# Get recommendations\n",
    "print(f\"Getting recommendations for user: {sample_user['user_id']}\")\n",
    "recommendations = get_recommendations(\n",
    "    user_features, \n",
    "    query_fn, \n",
    "    faiss_index, \n",
    "    embeddings_df,\n",
    "    item_embeddings,\n",
    "    top_k=10\n",
    ")\n",
    "\n",
    "# Print recommendations\n",
    "print(\"\\nTop 10 Recommended Events:\")\n",
    "for i, (event_id, score) in enumerate(recommendations):\n",
    "    event_info = item_df[item_df[\"event_id\"] == event_id].iloc[0]\n",
    "    print(f\"{i+1}. Event: {event_id} ({event_info['event_type']} in {event_info['event_city']}) - Score: {score:.4f}\")\n",
    "\n",
    "\n"
   ]
  },
  {
   "cell_type": "code",
   "execution_count": null,
   "metadata": {},
   "outputs": [],
   "source": [
    "def build_ann_index(embeddings_df):\n",
    "    \"\"\"\n",
    "    Build an approximate nearest neighbor index for efficient retrieval\n",
    "    \"\"\"\n",
    "    # Extract embeddings as numpy array\n",
    "    embeddings = np.array([np.array(e) for e in embeddings_df[\"embeddings\"]])\n",
    "    \n",
    "    # Normalize embeddings for cosine similarity\n",
    "    normalized = embeddings / np.linalg.norm(embeddings, axis=1)[:, np.newaxis]\n",
    "    \n",
    "    # Build ScaNN index\n",
    "    searcher = scann.scann_ops_pybind.builder(normalized, 10, \"dot_product\").tree(\n",
    "        num_leaves=1000, num_leaves_to_search=100).score_ah(2).build()\n",
    "    \n",
    "    return searcher, normalized\n",
    "\n",
    "def evaluate_model(query_model, test_df, searcher, item_embeddings, embeddings_df, k_values=[1, 5, 10, 50, 100]):\n",
    "    \"\"\"\n",
    "    Evaluate model performance on test data\n",
    "    \"\"\"\n",
    "    # Define query features\n",
    "    query_features = [\"user_id\", \"user_city\", \"age\", \"user_interests\"]\n",
    "    \n",
    "    # Track metrics\n",
    "    hits = {k: 0 for k in k_values}\n",
    "    total = 0\n",
    "    \n",
    "    # Track actual similarity scores for PR curve\n",
    "    all_scores = []\n",
    "    all_labels = []\n",
    "    \n",
    "    # Process in batches to avoid memory issues\n",
    "    batch_size = 100\n",
    "    for i in range(0, len(test_df), batch_size):\n",
    "        batch = test_df.iloc[i:i+batch_size]\n",
    "        \n",
    "        for _, row in batch.iterrows():\n",
    "            # Get user features\n",
    "            user_features = {\n",
    "                \"user_id\": np.array([row[\"user_id\"]]),\n",
    "                \"user_city\": np.array([row[\"user_city\"]]),\n",
    "                \"age\": np.array([row[\"age\"]], dtype=np.float32),\n",
    "                \"user_interests\": np.array([row[\"user_interests\"]])\n",
    "            }\n",
    "            \n",
    "            # Generate user embedding\n",
    "            user_embedding = query_model(user_features).numpy()\n",
    "            \n",
    "            # Normalize for cosine similarity\n",
    "            user_embedding_norm = user_embedding / np.linalg.norm(user_embedding)\n",
    "            \n",
    "            # Get actual interacted item\n",
    "            actual_item_id = row[\"event_id\"]\n",
    "            \n",
    "            # Get top-k recommendations\n",
    "            neighbor_indices, distances = searcher.search(user_embedding_norm[0], k_values[-1])\n",
    "            recommended_items = embeddings_df.iloc[neighbor_indices][\"event_id\"].tolist()\n",
    "            \n",
    "            # Check if actual item is in recommendations\n",
    "            for k in k_values:\n",
    "                if actual_item_id in recommended_items[:k]:\n",
    "                    hits[k] += 1\n",
    "            \n",
    "            # For PR curve: get similarity score of actual item\n",
    "            actual_item_idx = embeddings_df[embeddings_df[\"event_id\"] == actual_item_id].index\n",
    "            if len(actual_item_idx) > 0:\n",
    "                actual_item_embedding = item_embeddings[actual_item_idx[0]]\n",
    "                actual_score = np.dot(user_embedding_norm[0], actual_item_embedding)\n",
    "                \n",
    "                # Get random negative samples\n",
    "                neg_indices = np.random.choice(\n",
    "                    [i for i in range(len(item_embeddings)) if i != actual_item_idx[0]], \n",
    "                    size=9,  # 9 negatives for each positive\n",
    "                    replace=False\n",
    "                )\n",
    "                \n",
    "                # Add positive score with label 1\n",
    "                all_scores.append(actual_score)\n",
    "                all_labels.append(1)\n",
    "                \n",
    "                # Add negative scores with label 0\n",
    "                for neg_idx in neg_indices:\n",
    "                    neg_score = np.dot(user_embedding_norm[0], item_embeddings[neg_idx])\n",
    "                    all_scores.append(neg_score)\n",
    "                    all_labels.append(0)\n",
    "            \n",
    "            total += 1\n",
    "    \n",
    "    # Calculate metrics\n",
    "    recall_at_k = {k: hits[k] / total for k in k_values}\n",
    "    \n",
    "    # Convert to numpy arrays for sklearn metrics\n",
    "    all_scores = np.array(all_scores)\n",
    "    all_labels = np.array(all_labels)\n",
    "    \n",
    "    return recall_at_k, all_scores, all_labels\n",
    "\n",
    "def plot_evaluation_metrics(recall_at_k, all_scores, all_labels):\n",
    "    \"\"\"\n",
    "    Plot evaluation metrics\n",
    "    \"\"\"\n",
    "    # Set up the figure\n",
    "    fig, (ax1, ax2, ax3) = plt.subplots(1, 3, figsize=(18, 5))\n",
    "    \n",
    "    # Plot Recall@K\n",
    "    ax1.plot(list(recall_at_k.keys()), list(recall_at_k.values()), marker='o')\n",
    "    ax1.set_title('Recall@K')\n",
    "    ax1.set_xlabel('K')\n",
    "    ax1.set_ylabel('Recall')\n",
    "    ax1.grid(True)\n",
    "    \n",
    "    # Plot Precision-Recall curve\n",
    "    precision, recall, _ = precision_recall_curve(all_labels, all_scores)\n",
    "    ap = average_precision_score(all_labels, all_scores)\n",
    "    ax2.plot(recall, precision, label=f'AP = {ap:.3f}')\n",
    "    ax2.set_title('Precision-Recall Curve')\n",
    "    ax2.set_xlabel('Recall')\n",
    "    ax2.set_ylabel('Precision')\n",
    "    ax2.legend()\n",
    "    ax2.grid(True)\n",
    "    \n",
    "    # Plot ROC curve\n",
    "    fpr, tpr, _ = roc_curve(all_labels, all_scores)\n",
    "    roc_auc = auc(fpr, tpr)\n",
    "    ax3.plot(fpr, tpr, label=f'AUC = {roc_auc:.3f}')\n",
    "    ax3.plot([0, 1], [0, 1], 'k--')\n",
    "    ax3.set_title('ROC Curve')\n",
    "    ax3.set_xlabel('False Positive Rate')\n",
    "    ax3.set_ylabel('True Positive Rate')\n",
    "    ax3.legend()\n",
    "    ax3.grid(True)\n",
    "    \n",
    "    plt.tight_layout()\n",
    "    plt.savefig('model_evaluation_metrics.png')\n",
    "    plt.show()\n",
    "    \n",
    "    return fig\n",
    "\n",
    "def main():\n",
    "    # Load models\n",
    "    project, query_model, candidate_model = load_models()\n",
    "    \n",
    "    # Load test data\n",
    "    test_df = load_evaluation_data(project)\n",
    "    print(f\"Loaded {len(test_df)} test samples for evaluation\")\n",
    "    \n",
    "    # Get unique items for embedding generation\n",
    "    item_df = test_df[[\"event_id\", \"event_type\", \"event_city\"]].drop_duplicates()\n",
    "    if \"title\" in test_df.columns:\n",
    "        item_df[\"title\"] = test_df[[\"event_id\", \"title\"]].drop_duplicates().set_index(\"event_id\").loc[item_df[\"event_id\"]].values\n",
    "    \n",
    "    print(f\"Found {len(item_df)} unique items for evaluation\")\n",
    "    \n",
    "    # Precompute item embeddings\n",
    "    print(\"Precomputing item embeddings...\")\n",
    "    embeddings_df = precompute_item_embeddings(candidate_model, item_df)\n",
    "    \n",
    "    # Build ANN index\n",
    "    print(\"Building ANN index...\")\n",
    "    searcher, item_embeddings = build_ann_index(embeddings_df)\n",
    "    \n",
    "    # Evaluate model\n",
    "    print(\"Evaluating model...\")\n",
    "    k_values = [1, 5, 10, 50, 100]\n",
    "    recall_at_k, all_scores, all_labels = evaluate_model(\n",
    "        query_model, test_df, searcher, item_embeddings, embeddings_df, k_values\n",
    "    )\n",
    "    \n",
    "    # Print metrics\n",
    "    print(\"\\nModel Evaluation Results:\")\n",
    "    for k, recall in recall_at_k.items():\n",
    "        print(f\"Recall@{k}: {recall:.4f}\")\n",
    "    \n",
    "    # Calculate additional metrics\n",
    "    ap = average_precision_score(all_labels, all_scores)\n",
    "    print(f\"Average Precision: {ap:.4f}\")\n",
    "    \n",
    "    fpr, tpr, _ = roc_curve(all_labels, all_scores)\n",
    "    roc_auc = auc(fpr, tpr)\n",
    "    print(f\"ROC AUC: {roc_auc:.4f}\")\n",
    "    \n",
    "    # Plot metrics\n",
    "    plot_evaluation_metrics(recall_at_k, all_scores, all_labels)\n",
    "    \n",
    "    # Compare with training metrics\n",
    "    print(\"\\nComparison with Training Metrics:\")\n",
    "    print(\"Training Top-1 Accuracy: 0.4233\")\n",
    "    print(\"Training Top-5 Accuracy: 0.6207\")\n",
    "    print(\"Training Top-10 Accuracy: 0.6207\")\n",
    "    print(\"Training Top-50 Accuracy: 0.6215\")\n",
    "    print(\"Training Top-100 Accuracy: 0.6215\")\n",
    "    \n",
    "    # Generate sample recommendations\n",
    "    print(\"\\nSample Recommendations:\")\n",
    "    sample_user = test_df.iloc[0]\n",
    "    user_features = {\n",
    "        \"user_id\": np.array([sample_user[\"user_id\"]]),\n",
    "        \"user_city\": np.array([sample_user[\"user_city\"]]),\n",
    "        \"age\": np.array([sample_user[\"age\"]], dtype=np.float32),\n",
    "        \"user_interests\": np.array([sample_user[\"user_interests\"]])\n",
    "    }\n",
    "    \n",
    "    # Generate user embedding\n",
    "    user_embedding = query_model(user_features).numpy()\n",
    "    user_embedding_norm = user_embedding / np.linalg.norm(user_embedding)\n",
    "    \n",
    "    # Get recommendations\n",
    "    neighbor_indices, distances = searcher.search(user_embedding_norm[0], 5)\n",
    "    recommendations = embeddings_df.iloc[neighbor_indices][\"event_id\"].tolist()\n",
    "    \n",
    "    print(f\"User: {sample_user['user_id']}\")\n",
    "    print(f\"User Interests: {sample_user['user_interests']}\")\n",
    "    print(f\"Actual Interaction: {sample_user['event_id']}\")\n",
    "    print(f\"Top 5 Recommendations: {recommendations}\")\n",
    "    \n",
    "    return recall_at_k, all_scores, all_labels\n",
    "\n",
    "if __name__ == \"__main__\":\n",
    "    main()"
   ]
  }
 ],
 "metadata": {
  "kernelspec": {
   "display_name": "thesisenv",
   "language": "python",
   "name": "python3"
  },
  "language_info": {
   "codemirror_mode": {
    "name": "ipython",
    "version": 3
   },
   "file_extension": ".py",
   "mimetype": "text/x-python",
   "name": "python",
   "nbconvert_exporter": "python",
   "pygments_lexer": "ipython3",
   "version": "3.10.6"
  }
 },
 "nbformat": 4,
 "nbformat_minor": 2
}
